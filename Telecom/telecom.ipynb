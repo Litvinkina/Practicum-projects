{
  "cells": [
    {
      "cell_type": "markdown",
      "metadata": {
        "id": "WU_356RGusIk"
      },
      "source": [
        "# Определение перспективного тарифа для телеком-компании\n",
        "Имеются данные компании «Мегалайн» — федерального оператора сотовой связи. Клиентам предлагают два тарифных плана: «Смарт» и «Ультра». Чтобы скорректировать рекламный бюджет, коммерческий департамент хочет понять, какой тариф приносит больше денег.  Предстоит сделать предварительный анализ тарифов на небольшой выборке клиентов.  \n",
        "В нашем распоряжении данные 500 пользователей «Мегалайна»: кто они, откуда, каким тарифом пользуются, сколько звонков и сообщений каждый отправил за 2018 год. Нужно проанализировать поведение клиентов и сделать вывод — какой тариф лучше."
      ]
    },
    {
      "cell_type": "markdown",
      "metadata": {
        "id": "F3CcSN2OusIl"
      },
      "source": [
        "**Описание тарифов:**  \n",
        "\n",
        "*Тариф «Смарт»*  \n",
        "Ежемесячная плата: 550 рублей  \n",
        "Включено 500 минут разговора, 50 сообщений и 15 Гб интернет-трафика  \n",
        "Стоимость услуг сверх тарифного пакета: 1. минута разговора: 3 рубля («Мегалайн» всегда округляет вверх значения минут и мегабайтов. Если пользователь проговорил всего 1 секунду, в тарифе засчитывается целая минута); 2. сообщение: 3 рубля; 3. 1 Гб интернет-трафика: 200 рублей.  \n",
        "\n",
        "*Тариф «Ультра»*  \n",
        "Ежемесячная плата: 1950 рублей  \n",
        "Включено 3000 минут разговора, 1000 сообщений и 30 Гб интернет-трафика  \n",
        "Стоимость услуг сверх тарифного пакета: 1. минута разговора: 1 рубль; 2. сообщение: 1 рубль; 3. 1 Гб интернет-трафика: 150 рублей.  \n",
        "\n",
        "**Примечание:**\n",
        "«Мегалайн» всегда округляет секунды до минут, а мегабайты — до гигабайт. Каждый звонок округляется отдельно: даже если он длился всего 1 секунду, будет засчитан как 1 минута.  \n",
        "\n",
        "Для веб-трафика отдельные сессии не считаются. Вместо этого общая сумма за месяц округляется в бо́льшую сторону. Если абонент использует 1025 мегабайт в этом месяце, с него возьмут плату за 2 гигабайта."
      ]
    },
    {
      "cell_type": "markdown",
      "metadata": {
        "id": "apJszoK0usIm"
      },
      "source": [
        "**Содержание**\n",
        "1. [Изучение данных из файла](#start)\n",
        "2. [Предобработка данных](#preprocessing)\n",
        "3. [Анализ данных и проведение расчетов](#analytics)\n",
        "4. [Проверка гипотез](#check)\n",
        "5. [Общий вывод](#conclusion)"
      ]
    },
    {
      "cell_type": "markdown",
      "metadata": {
        "id": "_eQVu-M2usIn"
      },
      "source": [
        "## Изучение данных из файла \n",
        "<a id=\"start\"></a>"
      ]
    },
    {
      "cell_type": "code",
      "execution_count": null,
      "metadata": {
        "id": "WGlXjnususIo"
      },
      "outputs": [],
      "source": [
        "#загружаем нужные бибилиотеки\n",
        "import pandas as pd\n",
        "import numpy as np\n",
        "import matplotlib.pyplot as plt\n",
        "from collections import Counter\n",
        "import seaborn as sns\n",
        "import datetime as dt\n",
        "from scipy import stats as st"
      ]
    },
    {
      "cell_type": "code",
      "execution_count": null,
      "metadata": {
        "id": "DLkcrSNnusIp"
      },
      "outputs": [],
      "source": [
        "calls = pd.read_csv('/datasets/calls.csv')\n",
        "internet = pd.read_csv('/datasets/internet.csv')\n",
        "messages = pd.read_csv('/datasets/messages.csv')\n",
        "tariffs = pd.read_csv('/datasets/tariffs.csv')\n",
        "users = pd.read_csv('/datasets/users.csv')"
      ]
    },
    {
      "cell_type": "code",
      "execution_count": null,
      "metadata": {
        "id": "YyD7pb7MusIp",
        "outputId": "883a224b-dc36-4e33-f0c0-2ee8cb8b52b3"
      },
      "outputs": [
        {
          "name": "stdout",
          "output_type": "stream",
          "text": [
            "<class 'pandas.core.frame.DataFrame'>\n",
            "RangeIndex: 202607 entries, 0 to 202606\n",
            "Data columns (total 4 columns):\n",
            "id           202607 non-null object\n",
            "call_date    202607 non-null object\n",
            "duration     202607 non-null float64\n",
            "user_id      202607 non-null int64\n",
            "dtypes: float64(1), int64(1), object(2)\n",
            "memory usage: 6.2+ MB\n"
          ]
        }
      ],
      "source": [
        "calls.info()"
      ]
    },
    {
      "cell_type": "code",
      "execution_count": null,
      "metadata": {
        "id": "fUOM-irZusIq",
        "outputId": "34487ffc-b873-4d9f-93d5-30df85967c88"
      },
      "outputs": [
        {
          "data": {
            "text/html": [
              "<div>\n",
              "<style scoped>\n",
              "    .dataframe tbody tr th:only-of-type {\n",
              "        vertical-align: middle;\n",
              "    }\n",
              "\n",
              "    .dataframe tbody tr th {\n",
              "        vertical-align: top;\n",
              "    }\n",
              "\n",
              "    .dataframe thead th {\n",
              "        text-align: right;\n",
              "    }\n",
              "</style>\n",
              "<table border=\"1\" class=\"dataframe\">\n",
              "  <thead>\n",
              "    <tr style=\"text-align: right;\">\n",
              "      <th></th>\n",
              "      <th>id</th>\n",
              "      <th>call_date</th>\n",
              "      <th>duration</th>\n",
              "      <th>user_id</th>\n",
              "    </tr>\n",
              "  </thead>\n",
              "  <tbody>\n",
              "    <tr>\n",
              "      <td>0</td>\n",
              "      <td>1000_0</td>\n",
              "      <td>2018-07-25</td>\n",
              "      <td>0.00</td>\n",
              "      <td>1000</td>\n",
              "    </tr>\n",
              "    <tr>\n",
              "      <td>1</td>\n",
              "      <td>1000_1</td>\n",
              "      <td>2018-08-17</td>\n",
              "      <td>0.00</td>\n",
              "      <td>1000</td>\n",
              "    </tr>\n",
              "    <tr>\n",
              "      <td>2</td>\n",
              "      <td>1000_2</td>\n",
              "      <td>2018-06-11</td>\n",
              "      <td>2.85</td>\n",
              "      <td>1000</td>\n",
              "    </tr>\n",
              "    <tr>\n",
              "      <td>3</td>\n",
              "      <td>1000_3</td>\n",
              "      <td>2018-09-21</td>\n",
              "      <td>13.80</td>\n",
              "      <td>1000</td>\n",
              "    </tr>\n",
              "    <tr>\n",
              "      <td>4</td>\n",
              "      <td>1000_4</td>\n",
              "      <td>2018-12-15</td>\n",
              "      <td>5.18</td>\n",
              "      <td>1000</td>\n",
              "    </tr>\n",
              "    <tr>\n",
              "      <td>5</td>\n",
              "      <td>1000_5</td>\n",
              "      <td>2018-11-02</td>\n",
              "      <td>0.00</td>\n",
              "      <td>1000</td>\n",
              "    </tr>\n",
              "    <tr>\n",
              "      <td>6</td>\n",
              "      <td>1000_6</td>\n",
              "      <td>2018-10-18</td>\n",
              "      <td>0.00</td>\n",
              "      <td>1000</td>\n",
              "    </tr>\n",
              "    <tr>\n",
              "      <td>7</td>\n",
              "      <td>1000_7</td>\n",
              "      <td>2018-08-22</td>\n",
              "      <td>18.31</td>\n",
              "      <td>1000</td>\n",
              "    </tr>\n",
              "    <tr>\n",
              "      <td>8</td>\n",
              "      <td>1000_8</td>\n",
              "      <td>2018-09-15</td>\n",
              "      <td>18.44</td>\n",
              "      <td>1000</td>\n",
              "    </tr>\n",
              "    <tr>\n",
              "      <td>9</td>\n",
              "      <td>1000_9</td>\n",
              "      <td>2018-08-15</td>\n",
              "      <td>0.00</td>\n",
              "      <td>1000</td>\n",
              "    </tr>\n",
              "    <tr>\n",
              "      <td>10</td>\n",
              "      <td>1000_10</td>\n",
              "      <td>2018-08-22</td>\n",
              "      <td>5.03</td>\n",
              "      <td>1000</td>\n",
              "    </tr>\n",
              "    <tr>\n",
              "      <td>11</td>\n",
              "      <td>1000_11</td>\n",
              "      <td>2018-05-28</td>\n",
              "      <td>18.82</td>\n",
              "      <td>1000</td>\n",
              "    </tr>\n",
              "    <tr>\n",
              "      <td>12</td>\n",
              "      <td>1000_12</td>\n",
              "      <td>2018-07-05</td>\n",
              "      <td>2.02</td>\n",
              "      <td>1000</td>\n",
              "    </tr>\n",
              "    <tr>\n",
              "      <td>13</td>\n",
              "      <td>1000_13</td>\n",
              "      <td>2018-09-29</td>\n",
              "      <td>7.15</td>\n",
              "      <td>1000</td>\n",
              "    </tr>\n",
              "    <tr>\n",
              "      <td>14</td>\n",
              "      <td>1000_14</td>\n",
              "      <td>2018-12-11</td>\n",
              "      <td>9.13</td>\n",
              "      <td>1000</td>\n",
              "    </tr>\n",
              "  </tbody>\n",
              "</table>\n",
              "</div>"
            ],
            "text/plain": [
              "         id   call_date  duration  user_id\n",
              "0    1000_0  2018-07-25      0.00     1000\n",
              "1    1000_1  2018-08-17      0.00     1000\n",
              "2    1000_2  2018-06-11      2.85     1000\n",
              "3    1000_3  2018-09-21     13.80     1000\n",
              "4    1000_4  2018-12-15      5.18     1000\n",
              "5    1000_5  2018-11-02      0.00     1000\n",
              "6    1000_6  2018-10-18      0.00     1000\n",
              "7    1000_7  2018-08-22     18.31     1000\n",
              "8    1000_8  2018-09-15     18.44     1000\n",
              "9    1000_9  2018-08-15      0.00     1000\n",
              "10  1000_10  2018-08-22      5.03     1000\n",
              "11  1000_11  2018-05-28     18.82     1000\n",
              "12  1000_12  2018-07-05      2.02     1000\n",
              "13  1000_13  2018-09-29      7.15     1000\n",
              "14  1000_14  2018-12-11      9.13     1000"
            ]
          },
          "execution_count": 4,
          "metadata": {},
          "output_type": "execute_result"
        }
      ],
      "source": [
        "calls.head(15)"
      ]
    },
    {
      "cell_type": "code",
      "execution_count": null,
      "metadata": {
        "id": "2h6gIbDyusIr",
        "outputId": "6f39c1d9-b702-423e-f149-1b0aacc8248c"
      },
      "outputs": [
        {
          "data": {
            "text/html": [
              "<div>\n",
              "<style scoped>\n",
              "    .dataframe tbody tr th:only-of-type {\n",
              "        vertical-align: middle;\n",
              "    }\n",
              "\n",
              "    .dataframe tbody tr th {\n",
              "        vertical-align: top;\n",
              "    }\n",
              "\n",
              "    .dataframe thead th {\n",
              "        text-align: right;\n",
              "    }\n",
              "</style>\n",
              "<table border=\"1\" class=\"dataframe\">\n",
              "  <thead>\n",
              "    <tr style=\"text-align: right;\">\n",
              "      <th></th>\n",
              "      <th>duration</th>\n",
              "      <th>user_id</th>\n",
              "    </tr>\n",
              "  </thead>\n",
              "  <tbody>\n",
              "    <tr>\n",
              "      <td>count</td>\n",
              "      <td>202607.000000</td>\n",
              "      <td>202607.000000</td>\n",
              "    </tr>\n",
              "    <tr>\n",
              "      <td>mean</td>\n",
              "      <td>6.755887</td>\n",
              "      <td>1253.940619</td>\n",
              "    </tr>\n",
              "    <tr>\n",
              "      <td>std</td>\n",
              "      <td>5.843365</td>\n",
              "      <td>144.722751</td>\n",
              "    </tr>\n",
              "    <tr>\n",
              "      <td>min</td>\n",
              "      <td>0.000000</td>\n",
              "      <td>1000.000000</td>\n",
              "    </tr>\n",
              "    <tr>\n",
              "      <td>25%</td>\n",
              "      <td>1.300000</td>\n",
              "      <td>1126.000000</td>\n",
              "    </tr>\n",
              "    <tr>\n",
              "      <td>50%</td>\n",
              "      <td>6.000000</td>\n",
              "      <td>1260.000000</td>\n",
              "    </tr>\n",
              "    <tr>\n",
              "      <td>75%</td>\n",
              "      <td>10.700000</td>\n",
              "      <td>1379.000000</td>\n",
              "    </tr>\n",
              "    <tr>\n",
              "      <td>max</td>\n",
              "      <td>38.000000</td>\n",
              "      <td>1499.000000</td>\n",
              "    </tr>\n",
              "  </tbody>\n",
              "</table>\n",
              "</div>"
            ],
            "text/plain": [
              "            duration        user_id\n",
              "count  202607.000000  202607.000000\n",
              "mean        6.755887    1253.940619\n",
              "std         5.843365     144.722751\n",
              "min         0.000000    1000.000000\n",
              "25%         1.300000    1126.000000\n",
              "50%         6.000000    1260.000000\n",
              "75%        10.700000    1379.000000\n",
              "max        38.000000    1499.000000"
            ]
          },
          "execution_count": 5,
          "metadata": {},
          "output_type": "execute_result"
        }
      ],
      "source": [
        "calls.describe()"
      ]
    },
    {
      "cell_type": "markdown",
      "metadata": {
        "id": "Vd7HO1qUusIr"
      },
      "source": [
        "Таблица `Calls` содержит информацию о звонках: всего 202607 значений, пропущенных нет."
      ]
    },
    {
      "cell_type": "code",
      "execution_count": null,
      "metadata": {
        "id": "fqBOaPJ8usIr",
        "outputId": "4d0fcf3f-310b-49ec-ff64-5b332cdc0de4"
      },
      "outputs": [
        {
          "name": "stdout",
          "output_type": "stream",
          "text": [
            "<class 'pandas.core.frame.DataFrame'>\n",
            "RangeIndex: 149396 entries, 0 to 149395\n",
            "Data columns (total 5 columns):\n",
            "Unnamed: 0      149396 non-null int64\n",
            "id              149396 non-null object\n",
            "mb_used         149396 non-null float64\n",
            "session_date    149396 non-null object\n",
            "user_id         149396 non-null int64\n",
            "dtypes: float64(1), int64(2), object(2)\n",
            "memory usage: 5.7+ MB\n"
          ]
        }
      ],
      "source": [
        "internet.info()"
      ]
    },
    {
      "cell_type": "code",
      "execution_count": null,
      "metadata": {
        "id": "ekpwnddyusIs",
        "outputId": "1008c9e1-9a3f-4672-e01f-df54c079aa36"
      },
      "outputs": [
        {
          "data": {
            "text/html": [
              "<div>\n",
              "<style scoped>\n",
              "    .dataframe tbody tr th:only-of-type {\n",
              "        vertical-align: middle;\n",
              "    }\n",
              "\n",
              "    .dataframe tbody tr th {\n",
              "        vertical-align: top;\n",
              "    }\n",
              "\n",
              "    .dataframe thead th {\n",
              "        text-align: right;\n",
              "    }\n",
              "</style>\n",
              "<table border=\"1\" class=\"dataframe\">\n",
              "  <thead>\n",
              "    <tr style=\"text-align: right;\">\n",
              "      <th></th>\n",
              "      <th>Unnamed: 0</th>\n",
              "      <th>id</th>\n",
              "      <th>mb_used</th>\n",
              "      <th>session_date</th>\n",
              "      <th>user_id</th>\n",
              "    </tr>\n",
              "  </thead>\n",
              "  <tbody>\n",
              "    <tr>\n",
              "      <td>0</td>\n",
              "      <td>0</td>\n",
              "      <td>1000_0</td>\n",
              "      <td>112.95</td>\n",
              "      <td>2018-11-25</td>\n",
              "      <td>1000</td>\n",
              "    </tr>\n",
              "    <tr>\n",
              "      <td>1</td>\n",
              "      <td>1</td>\n",
              "      <td>1000_1</td>\n",
              "      <td>1052.81</td>\n",
              "      <td>2018-09-07</td>\n",
              "      <td>1000</td>\n",
              "    </tr>\n",
              "    <tr>\n",
              "      <td>2</td>\n",
              "      <td>2</td>\n",
              "      <td>1000_2</td>\n",
              "      <td>1197.26</td>\n",
              "      <td>2018-06-25</td>\n",
              "      <td>1000</td>\n",
              "    </tr>\n",
              "    <tr>\n",
              "      <td>3</td>\n",
              "      <td>3</td>\n",
              "      <td>1000_3</td>\n",
              "      <td>550.27</td>\n",
              "      <td>2018-08-22</td>\n",
              "      <td>1000</td>\n",
              "    </tr>\n",
              "    <tr>\n",
              "      <td>4</td>\n",
              "      <td>4</td>\n",
              "      <td>1000_4</td>\n",
              "      <td>302.56</td>\n",
              "      <td>2018-09-24</td>\n",
              "      <td>1000</td>\n",
              "    </tr>\n",
              "    <tr>\n",
              "      <td>5</td>\n",
              "      <td>5</td>\n",
              "      <td>1000_5</td>\n",
              "      <td>399.97</td>\n",
              "      <td>2018-10-02</td>\n",
              "      <td>1000</td>\n",
              "    </tr>\n",
              "    <tr>\n",
              "      <td>6</td>\n",
              "      <td>6</td>\n",
              "      <td>1000_6</td>\n",
              "      <td>540.08</td>\n",
              "      <td>2018-09-07</td>\n",
              "      <td>1000</td>\n",
              "    </tr>\n",
              "    <tr>\n",
              "      <td>7</td>\n",
              "      <td>7</td>\n",
              "      <td>1000_7</td>\n",
              "      <td>415.70</td>\n",
              "      <td>2018-07-11</td>\n",
              "      <td>1000</td>\n",
              "    </tr>\n",
              "    <tr>\n",
              "      <td>8</td>\n",
              "      <td>8</td>\n",
              "      <td>1000_8</td>\n",
              "      <td>505.40</td>\n",
              "      <td>2018-10-08</td>\n",
              "      <td>1000</td>\n",
              "    </tr>\n",
              "    <tr>\n",
              "      <td>9</td>\n",
              "      <td>9</td>\n",
              "      <td>1000_9</td>\n",
              "      <td>345.54</td>\n",
              "      <td>2018-09-03</td>\n",
              "      <td>1000</td>\n",
              "    </tr>\n",
              "    <tr>\n",
              "      <td>10</td>\n",
              "      <td>10</td>\n",
              "      <td>1000_10</td>\n",
              "      <td>385.14</td>\n",
              "      <td>2018-09-27</td>\n",
              "      <td>1000</td>\n",
              "    </tr>\n",
              "    <tr>\n",
              "      <td>11</td>\n",
              "      <td>11</td>\n",
              "      <td>1000_11</td>\n",
              "      <td>0.00</td>\n",
              "      <td>2018-08-28</td>\n",
              "      <td>1000</td>\n",
              "    </tr>\n",
              "    <tr>\n",
              "      <td>12</td>\n",
              "      <td>12</td>\n",
              "      <td>1000_12</td>\n",
              "      <td>375.87</td>\n",
              "      <td>2018-06-20</td>\n",
              "      <td>1000</td>\n",
              "    </tr>\n",
              "    <tr>\n",
              "      <td>13</td>\n",
              "      <td>13</td>\n",
              "      <td>1000_13</td>\n",
              "      <td>393.83</td>\n",
              "      <td>2018-08-09</td>\n",
              "      <td>1000</td>\n",
              "    </tr>\n",
              "    <tr>\n",
              "      <td>14</td>\n",
              "      <td>14</td>\n",
              "      <td>1000_14</td>\n",
              "      <td>180.64</td>\n",
              "      <td>2018-08-11</td>\n",
              "      <td>1000</td>\n",
              "    </tr>\n",
              "  </tbody>\n",
              "</table>\n",
              "</div>"
            ],
            "text/plain": [
              "    Unnamed: 0       id  mb_used session_date  user_id\n",
              "0            0   1000_0   112.95   2018-11-25     1000\n",
              "1            1   1000_1  1052.81   2018-09-07     1000\n",
              "2            2   1000_2  1197.26   2018-06-25     1000\n",
              "3            3   1000_3   550.27   2018-08-22     1000\n",
              "4            4   1000_4   302.56   2018-09-24     1000\n",
              "5            5   1000_5   399.97   2018-10-02     1000\n",
              "6            6   1000_6   540.08   2018-09-07     1000\n",
              "7            7   1000_7   415.70   2018-07-11     1000\n",
              "8            8   1000_8   505.40   2018-10-08     1000\n",
              "9            9   1000_9   345.54   2018-09-03     1000\n",
              "10          10  1000_10   385.14   2018-09-27     1000\n",
              "11          11  1000_11     0.00   2018-08-28     1000\n",
              "12          12  1000_12   375.87   2018-06-20     1000\n",
              "13          13  1000_13   393.83   2018-08-09     1000\n",
              "14          14  1000_14   180.64   2018-08-11     1000"
            ]
          },
          "execution_count": 7,
          "metadata": {},
          "output_type": "execute_result"
        }
      ],
      "source": [
        "internet.head(15)"
      ]
    },
    {
      "cell_type": "code",
      "execution_count": null,
      "metadata": {
        "id": "f5ES1KCrusIs",
        "outputId": "05b7234f-13db-463c-f490-3cac79f219ae"
      },
      "outputs": [
        {
          "data": {
            "text/html": [
              "<div>\n",
              "<style scoped>\n",
              "    .dataframe tbody tr th:only-of-type {\n",
              "        vertical-align: middle;\n",
              "    }\n",
              "\n",
              "    .dataframe tbody tr th {\n",
              "        vertical-align: top;\n",
              "    }\n",
              "\n",
              "    .dataframe thead th {\n",
              "        text-align: right;\n",
              "    }\n",
              "</style>\n",
              "<table border=\"1\" class=\"dataframe\">\n",
              "  <thead>\n",
              "    <tr style=\"text-align: right;\">\n",
              "      <th></th>\n",
              "      <th>Unnamed: 0</th>\n",
              "      <th>mb_used</th>\n",
              "      <th>user_id</th>\n",
              "    </tr>\n",
              "  </thead>\n",
              "  <tbody>\n",
              "    <tr>\n",
              "      <td>count</td>\n",
              "      <td>149396.000000</td>\n",
              "      <td>149396.000000</td>\n",
              "      <td>149396.000000</td>\n",
              "    </tr>\n",
              "    <tr>\n",
              "      <td>mean</td>\n",
              "      <td>74697.500000</td>\n",
              "      <td>370.192426</td>\n",
              "      <td>1252.099842</td>\n",
              "    </tr>\n",
              "    <tr>\n",
              "      <td>std</td>\n",
              "      <td>43127.054745</td>\n",
              "      <td>278.300951</td>\n",
              "      <td>144.050823</td>\n",
              "    </tr>\n",
              "    <tr>\n",
              "      <td>min</td>\n",
              "      <td>0.000000</td>\n",
              "      <td>0.000000</td>\n",
              "      <td>1000.000000</td>\n",
              "    </tr>\n",
              "    <tr>\n",
              "      <td>25%</td>\n",
              "      <td>37348.750000</td>\n",
              "      <td>138.187500</td>\n",
              "      <td>1130.000000</td>\n",
              "    </tr>\n",
              "    <tr>\n",
              "      <td>50%</td>\n",
              "      <td>74697.500000</td>\n",
              "      <td>348.015000</td>\n",
              "      <td>1251.000000</td>\n",
              "    </tr>\n",
              "    <tr>\n",
              "      <td>75%</td>\n",
              "      <td>112046.250000</td>\n",
              "      <td>559.552500</td>\n",
              "      <td>1380.000000</td>\n",
              "    </tr>\n",
              "    <tr>\n",
              "      <td>max</td>\n",
              "      <td>149395.000000</td>\n",
              "      <td>1724.830000</td>\n",
              "      <td>1499.000000</td>\n",
              "    </tr>\n",
              "  </tbody>\n",
              "</table>\n",
              "</div>"
            ],
            "text/plain": [
              "          Unnamed: 0        mb_used        user_id\n",
              "count  149396.000000  149396.000000  149396.000000\n",
              "mean    74697.500000     370.192426    1252.099842\n",
              "std     43127.054745     278.300951     144.050823\n",
              "min         0.000000       0.000000    1000.000000\n",
              "25%     37348.750000     138.187500    1130.000000\n",
              "50%     74697.500000     348.015000    1251.000000\n",
              "75%    112046.250000     559.552500    1380.000000\n",
              "max    149395.000000    1724.830000    1499.000000"
            ]
          },
          "execution_count": 8,
          "metadata": {},
          "output_type": "execute_result"
        }
      ],
      "source": [
        "internet.describe()"
      ]
    },
    {
      "cell_type": "markdown",
      "metadata": {
        "id": "QUZcTZ3QusIs"
      },
      "source": [
        "Таблица `internet` содержит информацию об интернет-сессиях: всего 149396 значений, пропущенных нет."
      ]
    },
    {
      "cell_type": "code",
      "execution_count": null,
      "metadata": {
        "id": "TxSSlsz4usIs",
        "outputId": "4504c77c-9f58-4513-d8c8-932734183146"
      },
      "outputs": [
        {
          "name": "stdout",
          "output_type": "stream",
          "text": [
            "<class 'pandas.core.frame.DataFrame'>\n",
            "RangeIndex: 123036 entries, 0 to 123035\n",
            "Data columns (total 3 columns):\n",
            "id              123036 non-null object\n",
            "message_date    123036 non-null object\n",
            "user_id         123036 non-null int64\n",
            "dtypes: int64(1), object(2)\n",
            "memory usage: 2.8+ MB\n"
          ]
        }
      ],
      "source": [
        "messages.info()"
      ]
    },
    {
      "cell_type": "code",
      "execution_count": null,
      "metadata": {
        "id": "90eZg2qCusIt",
        "outputId": "f9f6c3b4-430c-4e49-985f-e6a326dd9f14"
      },
      "outputs": [
        {
          "data": {
            "text/html": [
              "<div>\n",
              "<style scoped>\n",
              "    .dataframe tbody tr th:only-of-type {\n",
              "        vertical-align: middle;\n",
              "    }\n",
              "\n",
              "    .dataframe tbody tr th {\n",
              "        vertical-align: top;\n",
              "    }\n",
              "\n",
              "    .dataframe thead th {\n",
              "        text-align: right;\n",
              "    }\n",
              "</style>\n",
              "<table border=\"1\" class=\"dataframe\">\n",
              "  <thead>\n",
              "    <tr style=\"text-align: right;\">\n",
              "      <th></th>\n",
              "      <th>id</th>\n",
              "      <th>message_date</th>\n",
              "      <th>user_id</th>\n",
              "    </tr>\n",
              "  </thead>\n",
              "  <tbody>\n",
              "    <tr>\n",
              "      <td>0</td>\n",
              "      <td>1000_0</td>\n",
              "      <td>2018-06-27</td>\n",
              "      <td>1000</td>\n",
              "    </tr>\n",
              "    <tr>\n",
              "      <td>1</td>\n",
              "      <td>1000_1</td>\n",
              "      <td>2018-10-08</td>\n",
              "      <td>1000</td>\n",
              "    </tr>\n",
              "    <tr>\n",
              "      <td>2</td>\n",
              "      <td>1000_2</td>\n",
              "      <td>2018-08-04</td>\n",
              "      <td>1000</td>\n",
              "    </tr>\n",
              "    <tr>\n",
              "      <td>3</td>\n",
              "      <td>1000_3</td>\n",
              "      <td>2018-06-16</td>\n",
              "      <td>1000</td>\n",
              "    </tr>\n",
              "    <tr>\n",
              "      <td>4</td>\n",
              "      <td>1000_4</td>\n",
              "      <td>2018-12-05</td>\n",
              "      <td>1000</td>\n",
              "    </tr>\n",
              "    <tr>\n",
              "      <td>5</td>\n",
              "      <td>1000_5</td>\n",
              "      <td>2018-06-20</td>\n",
              "      <td>1000</td>\n",
              "    </tr>\n",
              "    <tr>\n",
              "      <td>6</td>\n",
              "      <td>1000_6</td>\n",
              "      <td>2018-11-19</td>\n",
              "      <td>1000</td>\n",
              "    </tr>\n",
              "    <tr>\n",
              "      <td>7</td>\n",
              "      <td>1000_7</td>\n",
              "      <td>2018-10-29</td>\n",
              "      <td>1000</td>\n",
              "    </tr>\n",
              "    <tr>\n",
              "      <td>8</td>\n",
              "      <td>1000_8</td>\n",
              "      <td>2018-06-25</td>\n",
              "      <td>1000</td>\n",
              "    </tr>\n",
              "    <tr>\n",
              "      <td>9</td>\n",
              "      <td>1000_9</td>\n",
              "      <td>2018-12-18</td>\n",
              "      <td>1000</td>\n",
              "    </tr>\n",
              "    <tr>\n",
              "      <td>10</td>\n",
              "      <td>1000_10</td>\n",
              "      <td>2018-05-30</td>\n",
              "      <td>1000</td>\n",
              "    </tr>\n",
              "    <tr>\n",
              "      <td>11</td>\n",
              "      <td>1000_11</td>\n",
              "      <td>2018-07-06</td>\n",
              "      <td>1000</td>\n",
              "    </tr>\n",
              "    <tr>\n",
              "      <td>12</td>\n",
              "      <td>1000_12</td>\n",
              "      <td>2018-08-20</td>\n",
              "      <td>1000</td>\n",
              "    </tr>\n",
              "    <tr>\n",
              "      <td>13</td>\n",
              "      <td>1000_13</td>\n",
              "      <td>2018-10-30</td>\n",
              "      <td>1000</td>\n",
              "    </tr>\n",
              "    <tr>\n",
              "      <td>14</td>\n",
              "      <td>1000_14</td>\n",
              "      <td>2018-09-14</td>\n",
              "      <td>1000</td>\n",
              "    </tr>\n",
              "  </tbody>\n",
              "</table>\n",
              "</div>"
            ],
            "text/plain": [
              "         id message_date  user_id\n",
              "0    1000_0   2018-06-27     1000\n",
              "1    1000_1   2018-10-08     1000\n",
              "2    1000_2   2018-08-04     1000\n",
              "3    1000_3   2018-06-16     1000\n",
              "4    1000_4   2018-12-05     1000\n",
              "5    1000_5   2018-06-20     1000\n",
              "6    1000_6   2018-11-19     1000\n",
              "7    1000_7   2018-10-29     1000\n",
              "8    1000_8   2018-06-25     1000\n",
              "9    1000_9   2018-12-18     1000\n",
              "10  1000_10   2018-05-30     1000\n",
              "11  1000_11   2018-07-06     1000\n",
              "12  1000_12   2018-08-20     1000\n",
              "13  1000_13   2018-10-30     1000\n",
              "14  1000_14   2018-09-14     1000"
            ]
          },
          "execution_count": 10,
          "metadata": {},
          "output_type": "execute_result"
        }
      ],
      "source": [
        "messages.head(15)"
      ]
    },
    {
      "cell_type": "markdown",
      "metadata": {
        "id": "A73MLWKausIt"
      },
      "source": [
        "Таблица `messages` содержит информацию о сообщениях: всего 123036 значений, пропущенных нет."
      ]
    },
    {
      "cell_type": "code",
      "execution_count": null,
      "metadata": {
        "id": "mGLbhsuKusIt",
        "outputId": "5484527b-1006-42b3-ce44-4db2887af6fd"
      },
      "outputs": [
        {
          "name": "stdout",
          "output_type": "stream",
          "text": [
            "<class 'pandas.core.frame.DataFrame'>\n",
            "RangeIndex: 2 entries, 0 to 1\n",
            "Data columns (total 8 columns):\n",
            "messages_included        2 non-null int64\n",
            "mb_per_month_included    2 non-null int64\n",
            "minutes_included         2 non-null int64\n",
            "rub_monthly_fee          2 non-null int64\n",
            "rub_per_gb               2 non-null int64\n",
            "rub_per_message          2 non-null int64\n",
            "rub_per_minute           2 non-null int64\n",
            "tariff_name              2 non-null object\n",
            "dtypes: int64(7), object(1)\n",
            "memory usage: 256.0+ bytes\n"
          ]
        }
      ],
      "source": [
        "tariffs.info()"
      ]
    },
    {
      "cell_type": "code",
      "execution_count": null,
      "metadata": {
        "id": "UUCdqt6RusIu",
        "outputId": "d7dcaaf9-01ff-431c-b230-1507523ccb8e"
      },
      "outputs": [
        {
          "data": {
            "text/html": [
              "<div>\n",
              "<style scoped>\n",
              "    .dataframe tbody tr th:only-of-type {\n",
              "        vertical-align: middle;\n",
              "    }\n",
              "\n",
              "    .dataframe tbody tr th {\n",
              "        vertical-align: top;\n",
              "    }\n",
              "\n",
              "    .dataframe thead th {\n",
              "        text-align: right;\n",
              "    }\n",
              "</style>\n",
              "<table border=\"1\" class=\"dataframe\">\n",
              "  <thead>\n",
              "    <tr style=\"text-align: right;\">\n",
              "      <th></th>\n",
              "      <th>messages_included</th>\n",
              "      <th>mb_per_month_included</th>\n",
              "      <th>minutes_included</th>\n",
              "      <th>rub_monthly_fee</th>\n",
              "      <th>rub_per_gb</th>\n",
              "      <th>rub_per_message</th>\n",
              "      <th>rub_per_minute</th>\n",
              "      <th>tariff_name</th>\n",
              "    </tr>\n",
              "  </thead>\n",
              "  <tbody>\n",
              "    <tr>\n",
              "      <td>0</td>\n",
              "      <td>50</td>\n",
              "      <td>15360</td>\n",
              "      <td>500</td>\n",
              "      <td>550</td>\n",
              "      <td>200</td>\n",
              "      <td>3</td>\n",
              "      <td>3</td>\n",
              "      <td>smart</td>\n",
              "    </tr>\n",
              "    <tr>\n",
              "      <td>1</td>\n",
              "      <td>1000</td>\n",
              "      <td>30720</td>\n",
              "      <td>3000</td>\n",
              "      <td>1950</td>\n",
              "      <td>150</td>\n",
              "      <td>1</td>\n",
              "      <td>1</td>\n",
              "      <td>ultra</td>\n",
              "    </tr>\n",
              "  </tbody>\n",
              "</table>\n",
              "</div>"
            ],
            "text/plain": [
              "   messages_included  mb_per_month_included  minutes_included  \\\n",
              "0                 50                  15360               500   \n",
              "1               1000                  30720              3000   \n",
              "\n",
              "   rub_monthly_fee  rub_per_gb  rub_per_message  rub_per_minute tariff_name  \n",
              "0              550         200                3               3       smart  \n",
              "1             1950         150                1               1       ultra  "
            ]
          },
          "execution_count": 12,
          "metadata": {},
          "output_type": "execute_result"
        }
      ],
      "source": [
        "tariffs.head(15)"
      ]
    },
    {
      "cell_type": "markdown",
      "metadata": {
        "id": "4n8baRhiusIu"
      },
      "source": [
        "Таблица `tariffs` содержит информацию о тарифах: всего 2 значения, пропущенных нет."
      ]
    },
    {
      "cell_type": "code",
      "execution_count": null,
      "metadata": {
        "id": "kDS31mlAusIu",
        "outputId": "e4eed602-3591-4654-b7ef-dd86f0603cb5"
      },
      "outputs": [
        {
          "name": "stdout",
          "output_type": "stream",
          "text": [
            "<class 'pandas.core.frame.DataFrame'>\n",
            "RangeIndex: 500 entries, 0 to 499\n",
            "Data columns (total 8 columns):\n",
            "user_id       500 non-null int64\n",
            "age           500 non-null int64\n",
            "churn_date    38 non-null object\n",
            "city          500 non-null object\n",
            "first_name    500 non-null object\n",
            "last_name     500 non-null object\n",
            "reg_date      500 non-null object\n",
            "tariff        500 non-null object\n",
            "dtypes: int64(2), object(6)\n",
            "memory usage: 31.4+ KB\n"
          ]
        }
      ],
      "source": [
        "users.info()"
      ]
    },
    {
      "cell_type": "code",
      "execution_count": null,
      "metadata": {
        "id": "6AOYZ67ousIv",
        "outputId": "12458a48-e5ba-484e-bc91-0a7e8afe79cb"
      },
      "outputs": [
        {
          "data": {
            "text/html": [
              "<div>\n",
              "<style scoped>\n",
              "    .dataframe tbody tr th:only-of-type {\n",
              "        vertical-align: middle;\n",
              "    }\n",
              "\n",
              "    .dataframe tbody tr th {\n",
              "        vertical-align: top;\n",
              "    }\n",
              "\n",
              "    .dataframe thead th {\n",
              "        text-align: right;\n",
              "    }\n",
              "</style>\n",
              "<table border=\"1\" class=\"dataframe\">\n",
              "  <thead>\n",
              "    <tr style=\"text-align: right;\">\n",
              "      <th></th>\n",
              "      <th>user_id</th>\n",
              "      <th>age</th>\n",
              "      <th>churn_date</th>\n",
              "      <th>city</th>\n",
              "      <th>first_name</th>\n",
              "      <th>last_name</th>\n",
              "      <th>reg_date</th>\n",
              "      <th>tariff</th>\n",
              "    </tr>\n",
              "  </thead>\n",
              "  <tbody>\n",
              "    <tr>\n",
              "      <td>0</td>\n",
              "      <td>1000</td>\n",
              "      <td>52</td>\n",
              "      <td>NaN</td>\n",
              "      <td>Краснодар</td>\n",
              "      <td>Рафаил</td>\n",
              "      <td>Верещагин</td>\n",
              "      <td>2018-05-25</td>\n",
              "      <td>ultra</td>\n",
              "    </tr>\n",
              "    <tr>\n",
              "      <td>1</td>\n",
              "      <td>1001</td>\n",
              "      <td>41</td>\n",
              "      <td>NaN</td>\n",
              "      <td>Москва</td>\n",
              "      <td>Иван</td>\n",
              "      <td>Ежов</td>\n",
              "      <td>2018-11-01</td>\n",
              "      <td>smart</td>\n",
              "    </tr>\n",
              "    <tr>\n",
              "      <td>2</td>\n",
              "      <td>1002</td>\n",
              "      <td>59</td>\n",
              "      <td>NaN</td>\n",
              "      <td>Стерлитамак</td>\n",
              "      <td>Евгений</td>\n",
              "      <td>Абрамович</td>\n",
              "      <td>2018-06-17</td>\n",
              "      <td>smart</td>\n",
              "    </tr>\n",
              "    <tr>\n",
              "      <td>3</td>\n",
              "      <td>1003</td>\n",
              "      <td>23</td>\n",
              "      <td>NaN</td>\n",
              "      <td>Москва</td>\n",
              "      <td>Белла</td>\n",
              "      <td>Белякова</td>\n",
              "      <td>2018-08-17</td>\n",
              "      <td>ultra</td>\n",
              "    </tr>\n",
              "    <tr>\n",
              "      <td>4</td>\n",
              "      <td>1004</td>\n",
              "      <td>68</td>\n",
              "      <td>NaN</td>\n",
              "      <td>Новокузнецк</td>\n",
              "      <td>Татьяна</td>\n",
              "      <td>Авдеенко</td>\n",
              "      <td>2018-05-14</td>\n",
              "      <td>ultra</td>\n",
              "    </tr>\n",
              "    <tr>\n",
              "      <td>5</td>\n",
              "      <td>1005</td>\n",
              "      <td>67</td>\n",
              "      <td>NaN</td>\n",
              "      <td>Набережные Челны</td>\n",
              "      <td>Афанасий</td>\n",
              "      <td>Горлов</td>\n",
              "      <td>2018-01-25</td>\n",
              "      <td>smart</td>\n",
              "    </tr>\n",
              "    <tr>\n",
              "      <td>6</td>\n",
              "      <td>1006</td>\n",
              "      <td>21</td>\n",
              "      <td>NaN</td>\n",
              "      <td>Ульяновск</td>\n",
              "      <td>Леонид</td>\n",
              "      <td>Ермолаев</td>\n",
              "      <td>2018-02-26</td>\n",
              "      <td>smart</td>\n",
              "    </tr>\n",
              "    <tr>\n",
              "      <td>7</td>\n",
              "      <td>1007</td>\n",
              "      <td>65</td>\n",
              "      <td>NaN</td>\n",
              "      <td>Москва</td>\n",
              "      <td>Юна</td>\n",
              "      <td>Березина</td>\n",
              "      <td>2018-04-19</td>\n",
              "      <td>smart</td>\n",
              "    </tr>\n",
              "    <tr>\n",
              "      <td>8</td>\n",
              "      <td>1008</td>\n",
              "      <td>63</td>\n",
              "      <td>NaN</td>\n",
              "      <td>Челябинск</td>\n",
              "      <td>Рустэм</td>\n",
              "      <td>Пономарёв</td>\n",
              "      <td>2018-12-19</td>\n",
              "      <td>smart</td>\n",
              "    </tr>\n",
              "    <tr>\n",
              "      <td>9</td>\n",
              "      <td>1009</td>\n",
              "      <td>24</td>\n",
              "      <td>NaN</td>\n",
              "      <td>Пермь</td>\n",
              "      <td>Василиса</td>\n",
              "      <td>Блинова</td>\n",
              "      <td>2018-03-22</td>\n",
              "      <td>smart</td>\n",
              "    </tr>\n",
              "    <tr>\n",
              "      <td>10</td>\n",
              "      <td>1010</td>\n",
              "      <td>26</td>\n",
              "      <td>NaN</td>\n",
              "      <td>Тюмень</td>\n",
              "      <td>Эдуард</td>\n",
              "      <td>Кононов</td>\n",
              "      <td>2018-08-05</td>\n",
              "      <td>smart</td>\n",
              "    </tr>\n",
              "    <tr>\n",
              "      <td>11</td>\n",
              "      <td>1011</td>\n",
              "      <td>44</td>\n",
              "      <td>NaN</td>\n",
              "      <td>Самара</td>\n",
              "      <td>Веселина</td>\n",
              "      <td>Алёшко</td>\n",
              "      <td>2018-03-19</td>\n",
              "      <td>smart</td>\n",
              "    </tr>\n",
              "    <tr>\n",
              "      <td>12</td>\n",
              "      <td>1012</td>\n",
              "      <td>38</td>\n",
              "      <td>NaN</td>\n",
              "      <td>Санкт-Петербург</td>\n",
              "      <td>Варлам</td>\n",
              "      <td>Соловьев</td>\n",
              "      <td>2018-03-28</td>\n",
              "      <td>smart</td>\n",
              "    </tr>\n",
              "    <tr>\n",
              "      <td>13</td>\n",
              "      <td>1013</td>\n",
              "      <td>36</td>\n",
              "      <td>NaN</td>\n",
              "      <td>Иваново</td>\n",
              "      <td>Борис</td>\n",
              "      <td>Андреенко</td>\n",
              "      <td>2018-11-14</td>\n",
              "      <td>ultra</td>\n",
              "    </tr>\n",
              "    <tr>\n",
              "      <td>14</td>\n",
              "      <td>1014</td>\n",
              "      <td>64</td>\n",
              "      <td>NaN</td>\n",
              "      <td>Чебоксары</td>\n",
              "      <td>Яков</td>\n",
              "      <td>Акинфьев</td>\n",
              "      <td>2018-05-15</td>\n",
              "      <td>smart</td>\n",
              "    </tr>\n",
              "  </tbody>\n",
              "</table>\n",
              "</div>"
            ],
            "text/plain": [
              "    user_id  age churn_date              city first_name  last_name  \\\n",
              "0      1000   52        NaN         Краснодар     Рафаил  Верещагин   \n",
              "1      1001   41        NaN            Москва       Иван       Ежов   \n",
              "2      1002   59        NaN       Стерлитамак    Евгений  Абрамович   \n",
              "3      1003   23        NaN            Москва      Белла   Белякова   \n",
              "4      1004   68        NaN       Новокузнецк    Татьяна   Авдеенко   \n",
              "5      1005   67        NaN  Набережные Челны   Афанасий     Горлов   \n",
              "6      1006   21        NaN         Ульяновск     Леонид   Ермолаев   \n",
              "7      1007   65        NaN            Москва        Юна   Березина   \n",
              "8      1008   63        NaN         Челябинск     Рустэм  Пономарёв   \n",
              "9      1009   24        NaN             Пермь   Василиса    Блинова   \n",
              "10     1010   26        NaN            Тюмень     Эдуард    Кононов   \n",
              "11     1011   44        NaN            Самара   Веселина     Алёшко   \n",
              "12     1012   38        NaN   Санкт-Петербург     Варлам   Соловьев   \n",
              "13     1013   36        NaN           Иваново      Борис  Андреенко   \n",
              "14     1014   64        NaN         Чебоксары       Яков   Акинфьев   \n",
              "\n",
              "      reg_date tariff  \n",
              "0   2018-05-25  ultra  \n",
              "1   2018-11-01  smart  \n",
              "2   2018-06-17  smart  \n",
              "3   2018-08-17  ultra  \n",
              "4   2018-05-14  ultra  \n",
              "5   2018-01-25  smart  \n",
              "6   2018-02-26  smart  \n",
              "7   2018-04-19  smart  \n",
              "8   2018-12-19  smart  \n",
              "9   2018-03-22  smart  \n",
              "10  2018-08-05  smart  \n",
              "11  2018-03-19  smart  \n",
              "12  2018-03-28  smart  \n",
              "13  2018-11-14  ultra  \n",
              "14  2018-05-15  smart  "
            ]
          },
          "execution_count": 14,
          "metadata": {},
          "output_type": "execute_result"
        }
      ],
      "source": [
        "users.head(15)"
      ]
    },
    {
      "cell_type": "code",
      "execution_count": null,
      "metadata": {
        "id": "BSkBU4MuusIv",
        "outputId": "13e3833b-de5e-4b07-e1e6-e5ed3d4e9f16"
      },
      "outputs": [
        {
          "data": {
            "text/html": [
              "<div>\n",
              "<style scoped>\n",
              "    .dataframe tbody tr th:only-of-type {\n",
              "        vertical-align: middle;\n",
              "    }\n",
              "\n",
              "    .dataframe tbody tr th {\n",
              "        vertical-align: top;\n",
              "    }\n",
              "\n",
              "    .dataframe thead th {\n",
              "        text-align: right;\n",
              "    }\n",
              "</style>\n",
              "<table border=\"1\" class=\"dataframe\">\n",
              "  <thead>\n",
              "    <tr style=\"text-align: right;\">\n",
              "      <th></th>\n",
              "      <th>user_id</th>\n",
              "      <th>age</th>\n",
              "    </tr>\n",
              "  </thead>\n",
              "  <tbody>\n",
              "    <tr>\n",
              "      <td>count</td>\n",
              "      <td>500.000000</td>\n",
              "      <td>500.00000</td>\n",
              "    </tr>\n",
              "    <tr>\n",
              "      <td>mean</td>\n",
              "      <td>1249.500000</td>\n",
              "      <td>46.58800</td>\n",
              "    </tr>\n",
              "    <tr>\n",
              "      <td>std</td>\n",
              "      <td>144.481833</td>\n",
              "      <td>16.66763</td>\n",
              "    </tr>\n",
              "    <tr>\n",
              "      <td>min</td>\n",
              "      <td>1000.000000</td>\n",
              "      <td>18.00000</td>\n",
              "    </tr>\n",
              "    <tr>\n",
              "      <td>25%</td>\n",
              "      <td>1124.750000</td>\n",
              "      <td>32.00000</td>\n",
              "    </tr>\n",
              "    <tr>\n",
              "      <td>50%</td>\n",
              "      <td>1249.500000</td>\n",
              "      <td>46.00000</td>\n",
              "    </tr>\n",
              "    <tr>\n",
              "      <td>75%</td>\n",
              "      <td>1374.250000</td>\n",
              "      <td>62.00000</td>\n",
              "    </tr>\n",
              "    <tr>\n",
              "      <td>max</td>\n",
              "      <td>1499.000000</td>\n",
              "      <td>75.00000</td>\n",
              "    </tr>\n",
              "  </tbody>\n",
              "</table>\n",
              "</div>"
            ],
            "text/plain": [
              "           user_id        age\n",
              "count   500.000000  500.00000\n",
              "mean   1249.500000   46.58800\n",
              "std     144.481833   16.66763\n",
              "min    1000.000000   18.00000\n",
              "25%    1124.750000   32.00000\n",
              "50%    1249.500000   46.00000\n",
              "75%    1374.250000   62.00000\n",
              "max    1499.000000   75.00000"
            ]
          },
          "execution_count": 15,
          "metadata": {},
          "output_type": "execute_result"
        }
      ],
      "source": [
        "users.describe()"
      ]
    },
    {
      "cell_type": "markdown",
      "metadata": {
        "id": "_eG6UwY2usIv"
      },
      "source": [
        "Таблица `users` содержит информацию о пользователях: всего 500 значений, пропущенные - есть в столбце `churn_date`(дата прекращения пользования тарифом) Это значит, что тариф ещё действовал на момент выгрузки данных."
      ]
    },
    {
      "cell_type": "markdown",
      "metadata": {
        "id": "wW0PnPZLusIv"
      },
      "source": [
        "**Вывод:**  \n",
        "Предоставленные данные не содержат пропущенных значений, за исключением столбца `churn_date` в таблице `users`, что является хорошей новостью для компании, т.к. означает,что большинство пользователей продолжают пользоваться их тарифами.  \n",
        "Во всех таблицах, где есть информация о дате, ее необходимо перевести в формат `date_time`.  "
      ]
    },
    {
      "cell_type": "markdown",
      "metadata": {
        "id": "mZSz5c2PusIx"
      },
      "source": [
        "### Обработка данных в таблице users"
      ]
    },
    {
      "cell_type": "code",
      "execution_count": null,
      "metadata": {
        "id": "idL2KyJPusIx"
      },
      "outputs": [],
      "source": [
        "#Приведем данные в столбцах с датой в корректный формат\n",
        "users['reg_date'] = pd.to_datetime(users['reg_date'], format='%Y.%m.%d')\n",
        "users['churn_date'] = pd.to_datetime(users['churn_date'], format='%Y.%m.%d')"
      ]
    },
    {
      "cell_type": "code",
      "execution_count": null,
      "metadata": {
        "id": "Kr0bvfAKusIy"
      },
      "outputs": [],
      "source": [
        "#Сразу создадим столбец, где приведем дату в месяц(необходим для дальнейших расчетов):\n",
        "users['month'] = users['reg_date'].dt.month"
      ]
    },
    {
      "cell_type": "code",
      "execution_count": null,
      "metadata": {
        "id": "V8pqSjrxusIy",
        "outputId": "ccce42a9-dfc5-429b-9855-d4928853f1a0"
      },
      "outputs": [
        {
          "data": {
            "text/plain": [
              "0"
            ]
          },
          "execution_count": 19,
          "metadata": {},
          "output_type": "execute_result"
        }
      ],
      "source": [
        "#Проверим на дубликаты\n",
        "users.duplicated().sum()"
      ]
    },
    {
      "cell_type": "markdown",
      "metadata": {
        "id": "hf-pdv7NusIy"
      },
      "source": [
        "### Обработка данных в таблице calls"
      ]
    },
    {
      "cell_type": "code",
      "execution_count": null,
      "metadata": {
        "id": "e2HylmQkusIy"
      },
      "outputs": [],
      "source": [
        "#Приведем данные в столбцах с датой в корректный формат\n",
        "calls['call_date'] = pd.to_datetime(calls['call_date'], format='%Y.%m.%d')"
      ]
    },
    {
      "cell_type": "code",
      "execution_count": null,
      "metadata": {
        "id": "c3R9PXppusIz"
      },
      "outputs": [],
      "source": [
        "#Сразу создадим столбец, где приведем дату в месяц(необходим для дальнейших расчетов):\n",
        "calls['month'] = calls['call_date'].dt.month"
      ]
    },
    {
      "cell_type": "code",
      "execution_count": null,
      "metadata": {
        "id": "hJaEAnKEusIz",
        "outputId": "c7b96967-c56a-43b1-f809-1c635673f608"
      },
      "outputs": [
        {
          "data": {
            "text/plain": [
              "0"
            ]
          },
          "execution_count": 22,
          "metadata": {},
          "output_type": "execute_result"
        }
      ],
      "source": [
        "#Проверим на дубликаты\n",
        "calls.duplicated().sum()"
      ]
    },
    {
      "cell_type": "code",
      "execution_count": null,
      "metadata": {
        "id": "ZDhpzZ-YusIz"
      },
      "outputs": [],
      "source": [
        "#Округлим значения продолжительности звонков вверх\n",
        "calls.duration = calls.duration.apply(np.ceil).astype('int')"
      ]
    },
    {
      "cell_type": "markdown",
      "metadata": {
        "id": "KKaPv40PusI0"
      },
      "source": [
        "### Обработка данных в таблице messages"
      ]
    },
    {
      "cell_type": "code",
      "execution_count": null,
      "metadata": {
        "id": "9EgT7XwZusI0"
      },
      "outputs": [],
      "source": [
        "#Приведем данные в столбцах с датой в корректный формат\n",
        "messages['message_date'] = pd.to_datetime(messages['message_date'], format='%Y.%m.%d')"
      ]
    },
    {
      "cell_type": "code",
      "execution_count": null,
      "metadata": {
        "id": "Bzf4fou1usI0"
      },
      "outputs": [],
      "source": [
        "#Сразу создадим столбец, где приведем дату в месяц(необходим для дальнейших расчетов):\n",
        "messages['month'] = messages['message_date'].dt.month"
      ]
    },
    {
      "cell_type": "code",
      "execution_count": null,
      "metadata": {
        "id": "bnuFWHWGusI0",
        "outputId": "62463687-ba9c-4e8d-af25-74ee185dcae0"
      },
      "outputs": [
        {
          "data": {
            "text/plain": [
              "0"
            ]
          },
          "execution_count": 26,
          "metadata": {},
          "output_type": "execute_result"
        }
      ],
      "source": [
        "#Проверим на дубликаты\n",
        "messages.duplicated().sum()"
      ]
    },
    {
      "cell_type": "markdown",
      "metadata": {
        "id": "2xIUT1dxusI0"
      },
      "source": [
        "### Обработка данных в таблице  internet"
      ]
    },
    {
      "cell_type": "code",
      "execution_count": null,
      "metadata": {
        "id": "xkEMQDqKusI1"
      },
      "outputs": [],
      "source": [
        "#Приведем данные в столбцах с датой в корректный формат\n",
        "internet['session_date'] = pd.to_datetime(internet['session_date'], format='%Y.%m.%d')"
      ]
    },
    {
      "cell_type": "code",
      "execution_count": null,
      "metadata": {
        "id": "7a4LcqP4usI1"
      },
      "outputs": [],
      "source": [
        "#Сразу создадим столбец, где приведем дату в месяц(необходим для дальнейших расчетов):\n",
        "internet['month'] = internet['session_date'].dt.month"
      ]
    },
    {
      "cell_type": "code",
      "execution_count": null,
      "metadata": {
        "id": "0jVVToVausI1",
        "outputId": "e7ce930e-692f-44d9-ef39-bc12f41f0a7c"
      },
      "outputs": [
        {
          "data": {
            "text/plain": [
              "0"
            ]
          },
          "execution_count": 29,
          "metadata": {},
          "output_type": "execute_result"
        }
      ],
      "source": [
        "#Проверим на дубликаты\n",
        "internet.duplicated().sum()"
      ]
    },
    {
      "cell_type": "markdown",
      "metadata": {
        "id": "Y3TufaFAusI3"
      },
      "source": [
        "**Посчитаем количество сделанных звонков и израсходованных минут разговора по месяцам для каждого пользователя**"
      ]
    },
    {
      "cell_type": "code",
      "execution_count": null,
      "metadata": {
        "id": "NRGm2Wj0usI4",
        "outputId": "be4169e4-7647-4239-a6ea-0ddf26adf738"
      },
      "outputs": [
        {
          "data": {
            "text/html": [
              "<div>\n",
              "<style scoped>\n",
              "    .dataframe tbody tr th:only-of-type {\n",
              "        vertical-align: middle;\n",
              "    }\n",
              "\n",
              "    .dataframe tbody tr th {\n",
              "        vertical-align: top;\n",
              "    }\n",
              "\n",
              "    .dataframe thead th {\n",
              "        text-align: right;\n",
              "    }\n",
              "</style>\n",
              "<table border=\"1\" class=\"dataframe\">\n",
              "  <thead>\n",
              "    <tr style=\"text-align: right;\">\n",
              "      <th></th>\n",
              "      <th>id</th>\n",
              "      <th>call_date</th>\n",
              "      <th>duration</th>\n",
              "      <th>user_id</th>\n",
              "      <th>month</th>\n",
              "    </tr>\n",
              "  </thead>\n",
              "  <tbody>\n",
              "    <tr>\n",
              "      <td>0</td>\n",
              "      <td>1000_0</td>\n",
              "      <td>2018-07-25</td>\n",
              "      <td>0</td>\n",
              "      <td>1000</td>\n",
              "      <td>7</td>\n",
              "    </tr>\n",
              "    <tr>\n",
              "      <td>1</td>\n",
              "      <td>1000_1</td>\n",
              "      <td>2018-08-17</td>\n",
              "      <td>0</td>\n",
              "      <td>1000</td>\n",
              "      <td>8</td>\n",
              "    </tr>\n",
              "    <tr>\n",
              "      <td>2</td>\n",
              "      <td>1000_2</td>\n",
              "      <td>2018-06-11</td>\n",
              "      <td>3</td>\n",
              "      <td>1000</td>\n",
              "      <td>6</td>\n",
              "    </tr>\n",
              "    <tr>\n",
              "      <td>3</td>\n",
              "      <td>1000_3</td>\n",
              "      <td>2018-09-21</td>\n",
              "      <td>14</td>\n",
              "      <td>1000</td>\n",
              "      <td>9</td>\n",
              "    </tr>\n",
              "    <tr>\n",
              "      <td>4</td>\n",
              "      <td>1000_4</td>\n",
              "      <td>2018-12-15</td>\n",
              "      <td>6</td>\n",
              "      <td>1000</td>\n",
              "      <td>12</td>\n",
              "    </tr>\n",
              "  </tbody>\n",
              "</table>\n",
              "</div>"
            ],
            "text/plain": [
              "       id  call_date  duration  user_id  month\n",
              "0  1000_0 2018-07-25         0     1000      7\n",
              "1  1000_1 2018-08-17         0     1000      8\n",
              "2  1000_2 2018-06-11         3     1000      6\n",
              "3  1000_3 2018-09-21        14     1000      9\n",
              "4  1000_4 2018-12-15         6     1000     12"
            ]
          },
          "execution_count": 31,
          "metadata": {},
          "output_type": "execute_result"
        }
      ],
      "source": [
        "calls.head()"
      ]
    },
    {
      "cell_type": "code",
      "execution_count": null,
      "metadata": {
        "id": "bKKFv7FnusI4"
      },
      "outputs": [],
      "source": [
        "#Создадим сводную таблицу \n",
        "users_calls = calls.pivot_table(index=['user_id', 'month'], values='duration', aggfunc={'count', 'sum'})"
      ]
    },
    {
      "cell_type": "code",
      "execution_count": null,
      "metadata": {
        "id": "NjKm-rO7usI4"
      },
      "outputs": [],
      "source": [
        "#Переименуем колонки для удобства\n",
        "users_calls.columns = ['duration_count', 'duration_sum']"
      ]
    },
    {
      "cell_type": "code",
      "execution_count": null,
      "metadata": {
        "id": "i4EK-y1ousI4",
        "outputId": "49f64501-fe78-47a9-f2ed-17801eed7fcf"
      },
      "outputs": [
        {
          "data": {
            "text/html": [
              "<div>\n",
              "<style scoped>\n",
              "    .dataframe tbody tr th:only-of-type {\n",
              "        vertical-align: middle;\n",
              "    }\n",
              "\n",
              "    .dataframe tbody tr th {\n",
              "        vertical-align: top;\n",
              "    }\n",
              "\n",
              "    .dataframe thead th {\n",
              "        text-align: right;\n",
              "    }\n",
              "</style>\n",
              "<table border=\"1\" class=\"dataframe\">\n",
              "  <thead>\n",
              "    <tr style=\"text-align: right;\">\n",
              "      <th></th>\n",
              "      <th></th>\n",
              "      <th>duration_count</th>\n",
              "      <th>duration_sum</th>\n",
              "    </tr>\n",
              "    <tr>\n",
              "      <th>user_id</th>\n",
              "      <th>month</th>\n",
              "      <th></th>\n",
              "      <th></th>\n",
              "    </tr>\n",
              "  </thead>\n",
              "  <tbody>\n",
              "    <tr>\n",
              "      <td rowspan=\"8\" valign=\"top\">1000</td>\n",
              "      <td>5</td>\n",
              "      <td>22</td>\n",
              "      <td>159</td>\n",
              "    </tr>\n",
              "    <tr>\n",
              "      <td>6</td>\n",
              "      <td>43</td>\n",
              "      <td>172</td>\n",
              "    </tr>\n",
              "    <tr>\n",
              "      <td>7</td>\n",
              "      <td>47</td>\n",
              "      <td>340</td>\n",
              "    </tr>\n",
              "    <tr>\n",
              "      <td>8</td>\n",
              "      <td>52</td>\n",
              "      <td>408</td>\n",
              "    </tr>\n",
              "    <tr>\n",
              "      <td>9</td>\n",
              "      <td>58</td>\n",
              "      <td>466</td>\n",
              "    </tr>\n",
              "    <tr>\n",
              "      <td>10</td>\n",
              "      <td>57</td>\n",
              "      <td>350</td>\n",
              "    </tr>\n",
              "    <tr>\n",
              "      <td>11</td>\n",
              "      <td>43</td>\n",
              "      <td>338</td>\n",
              "    </tr>\n",
              "    <tr>\n",
              "      <td>12</td>\n",
              "      <td>46</td>\n",
              "      <td>333</td>\n",
              "    </tr>\n",
              "    <tr>\n",
              "      <td rowspan=\"2\" valign=\"top\">1001</td>\n",
              "      <td>11</td>\n",
              "      <td>59</td>\n",
              "      <td>430</td>\n",
              "    </tr>\n",
              "    <tr>\n",
              "      <td>12</td>\n",
              "      <td>63</td>\n",
              "      <td>414</td>\n",
              "    </tr>\n",
              "  </tbody>\n",
              "</table>\n",
              "</div>"
            ],
            "text/plain": [
              "               duration_count  duration_sum\n",
              "user_id month                              \n",
              "1000    5                  22           159\n",
              "        6                  43           172\n",
              "        7                  47           340\n",
              "        8                  52           408\n",
              "        9                  58           466\n",
              "        10                 57           350\n",
              "        11                 43           338\n",
              "        12                 46           333\n",
              "1001    11                 59           430\n",
              "        12                 63           414"
            ]
          },
          "execution_count": 34,
          "metadata": {},
          "output_type": "execute_result"
        }
      ],
      "source": [
        "users_calls.head(10)"
      ]
    },
    {
      "cell_type": "code",
      "execution_count": null,
      "metadata": {
        "id": "helmiPj2usI5",
        "outputId": "2c4e02a1-dc93-4ec1-a46a-d055c491fee9"
      },
      "outputs": [
        {
          "name": "stdout",
          "output_type": "stream",
          "text": [
            "<class 'pandas.core.frame.DataFrame'>\n",
            "MultiIndex: 3174 entries, (1000, 5) to (1499, 12)\n",
            "Data columns (total 2 columns):\n",
            "duration_count    3174 non-null int64\n",
            "duration_sum      3174 non-null int64\n",
            "dtypes: int64(2)\n",
            "memory usage: 62.9 KB\n"
          ]
        }
      ],
      "source": [
        "users_calls.info()"
      ]
    },
    {
      "cell_type": "markdown",
      "metadata": {
        "id": "YzcYk5BZusI5"
      },
      "source": [
        "**Посчитаем количество отправленных сообщений по месяцам**"
      ]
    },
    {
      "cell_type": "code",
      "execution_count": null,
      "metadata": {
        "id": "sseFJSJcusI5",
        "outputId": "c7e61d28-488e-4d98-f9a6-a4790e1dce37"
      },
      "outputs": [
        {
          "data": {
            "text/html": [
              "<div>\n",
              "<style scoped>\n",
              "    .dataframe tbody tr th:only-of-type {\n",
              "        vertical-align: middle;\n",
              "    }\n",
              "\n",
              "    .dataframe tbody tr th {\n",
              "        vertical-align: top;\n",
              "    }\n",
              "\n",
              "    .dataframe thead th {\n",
              "        text-align: right;\n",
              "    }\n",
              "</style>\n",
              "<table border=\"1\" class=\"dataframe\">\n",
              "  <thead>\n",
              "    <tr style=\"text-align: right;\">\n",
              "      <th></th>\n",
              "      <th>id</th>\n",
              "      <th>message_date</th>\n",
              "      <th>user_id</th>\n",
              "      <th>month</th>\n",
              "    </tr>\n",
              "  </thead>\n",
              "  <tbody>\n",
              "    <tr>\n",
              "      <td>0</td>\n",
              "      <td>1000_0</td>\n",
              "      <td>2018-06-27</td>\n",
              "      <td>1000</td>\n",
              "      <td>6</td>\n",
              "    </tr>\n",
              "    <tr>\n",
              "      <td>1</td>\n",
              "      <td>1000_1</td>\n",
              "      <td>2018-10-08</td>\n",
              "      <td>1000</td>\n",
              "      <td>10</td>\n",
              "    </tr>\n",
              "    <tr>\n",
              "      <td>2</td>\n",
              "      <td>1000_2</td>\n",
              "      <td>2018-08-04</td>\n",
              "      <td>1000</td>\n",
              "      <td>8</td>\n",
              "    </tr>\n",
              "    <tr>\n",
              "      <td>3</td>\n",
              "      <td>1000_3</td>\n",
              "      <td>2018-06-16</td>\n",
              "      <td>1000</td>\n",
              "      <td>6</td>\n",
              "    </tr>\n",
              "    <tr>\n",
              "      <td>4</td>\n",
              "      <td>1000_4</td>\n",
              "      <td>2018-12-05</td>\n",
              "      <td>1000</td>\n",
              "      <td>12</td>\n",
              "    </tr>\n",
              "  </tbody>\n",
              "</table>\n",
              "</div>"
            ],
            "text/plain": [
              "       id message_date  user_id  month\n",
              "0  1000_0   2018-06-27     1000      6\n",
              "1  1000_1   2018-10-08     1000     10\n",
              "2  1000_2   2018-08-04     1000      8\n",
              "3  1000_3   2018-06-16     1000      6\n",
              "4  1000_4   2018-12-05     1000     12"
            ]
          },
          "execution_count": 36,
          "metadata": {},
          "output_type": "execute_result"
        }
      ],
      "source": [
        "messages.head()"
      ]
    },
    {
      "cell_type": "code",
      "execution_count": null,
      "metadata": {
        "id": "LU1EfDi9usI6"
      },
      "outputs": [],
      "source": [
        "#Создадим сводную таблицу \n",
        "users_messages = messages.pivot_table(index=['user_id', 'month'], values='id', aggfunc='count')"
      ]
    },
    {
      "cell_type": "code",
      "execution_count": null,
      "metadata": {
        "id": "1RRxIY9vusI6"
      },
      "outputs": [],
      "source": [
        "#Переименуем колонку для удобства\n",
        "users_messages.columns = ['messages']"
      ]
    },
    {
      "cell_type": "code",
      "execution_count": null,
      "metadata": {
        "id": "946xYanKusI6",
        "outputId": "778ee563-fa3c-48ff-fc5d-bef2177f697d"
      },
      "outputs": [
        {
          "data": {
            "text/html": [
              "<div>\n",
              "<style scoped>\n",
              "    .dataframe tbody tr th:only-of-type {\n",
              "        vertical-align: middle;\n",
              "    }\n",
              "\n",
              "    .dataframe tbody tr th {\n",
              "        vertical-align: top;\n",
              "    }\n",
              "\n",
              "    .dataframe thead th {\n",
              "        text-align: right;\n",
              "    }\n",
              "</style>\n",
              "<table border=\"1\" class=\"dataframe\">\n",
              "  <thead>\n",
              "    <tr style=\"text-align: right;\">\n",
              "      <th></th>\n",
              "      <th></th>\n",
              "      <th>messages</th>\n",
              "    </tr>\n",
              "    <tr>\n",
              "      <th>user_id</th>\n",
              "      <th>month</th>\n",
              "      <th></th>\n",
              "    </tr>\n",
              "  </thead>\n",
              "  <tbody>\n",
              "    <tr>\n",
              "      <td rowspan=\"8\" valign=\"top\">1000</td>\n",
              "      <td>5</td>\n",
              "      <td>22</td>\n",
              "    </tr>\n",
              "    <tr>\n",
              "      <td>6</td>\n",
              "      <td>60</td>\n",
              "    </tr>\n",
              "    <tr>\n",
              "      <td>7</td>\n",
              "      <td>75</td>\n",
              "    </tr>\n",
              "    <tr>\n",
              "      <td>8</td>\n",
              "      <td>81</td>\n",
              "    </tr>\n",
              "    <tr>\n",
              "      <td>9</td>\n",
              "      <td>57</td>\n",
              "    </tr>\n",
              "    <tr>\n",
              "      <td>10</td>\n",
              "      <td>73</td>\n",
              "    </tr>\n",
              "    <tr>\n",
              "      <td>11</td>\n",
              "      <td>58</td>\n",
              "    </tr>\n",
              "    <tr>\n",
              "      <td>12</td>\n",
              "      <td>70</td>\n",
              "    </tr>\n",
              "    <tr>\n",
              "      <td rowspan=\"2\" valign=\"top\">1002</td>\n",
              "      <td>6</td>\n",
              "      <td>4</td>\n",
              "    </tr>\n",
              "    <tr>\n",
              "      <td>7</td>\n",
              "      <td>11</td>\n",
              "    </tr>\n",
              "  </tbody>\n",
              "</table>\n",
              "</div>"
            ],
            "text/plain": [
              "               messages\n",
              "user_id month          \n",
              "1000    5            22\n",
              "        6            60\n",
              "        7            75\n",
              "        8            81\n",
              "        9            57\n",
              "        10           73\n",
              "        11           58\n",
              "        12           70\n",
              "1002    6             4\n",
              "        7            11"
            ]
          },
          "execution_count": 39,
          "metadata": {},
          "output_type": "execute_result"
        }
      ],
      "source": [
        "users_messages.head(10)"
      ]
    },
    {
      "cell_type": "code",
      "execution_count": null,
      "metadata": {
        "id": "9Pwh5D0JusI6",
        "outputId": "338f754e-632b-4f80-d7ba-42bc4f85fa0d"
      },
      "outputs": [
        {
          "name": "stdout",
          "output_type": "stream",
          "text": [
            "<class 'pandas.core.frame.DataFrame'>\n",
            "MultiIndex: 2717 entries, (1000, 5) to (1499, 12)\n",
            "Data columns (total 1 columns):\n",
            "messages    2717 non-null int64\n",
            "dtypes: int64(1)\n",
            "memory usage: 32.7 KB\n"
          ]
        }
      ],
      "source": [
        "users_messages.info()"
      ]
    },
    {
      "cell_type": "markdown",
      "metadata": {
        "id": "IuuKgRDMusI7"
      },
      "source": [
        "**Посчитаем для каждого пользователя по месяцам объем израсходованного интернет-трафика**"
      ]
    },
    {
      "cell_type": "code",
      "execution_count": null,
      "metadata": {
        "id": "WZHH6Ab6usI7",
        "outputId": "0537e1da-db4a-43ff-96a6-61cb0574f157"
      },
      "outputs": [
        {
          "data": {
            "text/html": [
              "<div>\n",
              "<style scoped>\n",
              "    .dataframe tbody tr th:only-of-type {\n",
              "        vertical-align: middle;\n",
              "    }\n",
              "\n",
              "    .dataframe tbody tr th {\n",
              "        vertical-align: top;\n",
              "    }\n",
              "\n",
              "    .dataframe thead th {\n",
              "        text-align: right;\n",
              "    }\n",
              "</style>\n",
              "<table border=\"1\" class=\"dataframe\">\n",
              "  <thead>\n",
              "    <tr style=\"text-align: right;\">\n",
              "      <th></th>\n",
              "      <th>Unnamed: 0</th>\n",
              "      <th>id</th>\n",
              "      <th>mb_used</th>\n",
              "      <th>session_date</th>\n",
              "      <th>user_id</th>\n",
              "      <th>month</th>\n",
              "    </tr>\n",
              "  </thead>\n",
              "  <tbody>\n",
              "    <tr>\n",
              "      <td>0</td>\n",
              "      <td>0</td>\n",
              "      <td>1000_0</td>\n",
              "      <td>112.95</td>\n",
              "      <td>2018-11-25</td>\n",
              "      <td>1000</td>\n",
              "      <td>11</td>\n",
              "    </tr>\n",
              "    <tr>\n",
              "      <td>1</td>\n",
              "      <td>1</td>\n",
              "      <td>1000_1</td>\n",
              "      <td>1052.81</td>\n",
              "      <td>2018-09-07</td>\n",
              "      <td>1000</td>\n",
              "      <td>9</td>\n",
              "    </tr>\n",
              "    <tr>\n",
              "      <td>2</td>\n",
              "      <td>2</td>\n",
              "      <td>1000_2</td>\n",
              "      <td>1197.26</td>\n",
              "      <td>2018-06-25</td>\n",
              "      <td>1000</td>\n",
              "      <td>6</td>\n",
              "    </tr>\n",
              "    <tr>\n",
              "      <td>3</td>\n",
              "      <td>3</td>\n",
              "      <td>1000_3</td>\n",
              "      <td>550.27</td>\n",
              "      <td>2018-08-22</td>\n",
              "      <td>1000</td>\n",
              "      <td>8</td>\n",
              "    </tr>\n",
              "    <tr>\n",
              "      <td>4</td>\n",
              "      <td>4</td>\n",
              "      <td>1000_4</td>\n",
              "      <td>302.56</td>\n",
              "      <td>2018-09-24</td>\n",
              "      <td>1000</td>\n",
              "      <td>9</td>\n",
              "    </tr>\n",
              "  </tbody>\n",
              "</table>\n",
              "</div>"
            ],
            "text/plain": [
              "   Unnamed: 0      id  mb_used session_date  user_id  month\n",
              "0           0  1000_0   112.95   2018-11-25     1000     11\n",
              "1           1  1000_1  1052.81   2018-09-07     1000      9\n",
              "2           2  1000_2  1197.26   2018-06-25     1000      6\n",
              "3           3  1000_3   550.27   2018-08-22     1000      8\n",
              "4           4  1000_4   302.56   2018-09-24     1000      9"
            ]
          },
          "execution_count": 41,
          "metadata": {},
          "output_type": "execute_result"
        }
      ],
      "source": [
        "internet.head()"
      ]
    },
    {
      "cell_type": "code",
      "execution_count": null,
      "metadata": {
        "id": "YlWV2EDwusI7"
      },
      "outputs": [],
      "source": [
        "#Создадим сводную таблицу \n",
        "users_internet = internet.pivot_table(index=['user_id', 'month'], values='mb_used', aggfunc='sum')"
      ]
    },
    {
      "cell_type": "code",
      "execution_count": null,
      "metadata": {
        "id": "LXVsHWHhusI8"
      },
      "outputs": [],
      "source": [
        "#перевожу в гб\n",
        "users_internet['mb_used'] = users_internet['mb_used']/1024"
      ]
    },
    {
      "cell_type": "code",
      "execution_count": null,
      "metadata": {
        "id": "NkTuJ8yIusI9"
      },
      "outputs": [],
      "source": [
        "#округлю до большего значения\n",
        "users_internet['mb_used'] = users_internet['mb_used'].apply(np.ceil).astype('int')"
      ]
    },
    {
      "cell_type": "code",
      "execution_count": null,
      "metadata": {
        "id": "xXkpZMt2usI9"
      },
      "outputs": [],
      "source": [
        "#Переименую столбец\n",
        "users_internet.rename(columns={'mb_used':'gb_used'}, inplace ='True')"
      ]
    },
    {
      "cell_type": "code",
      "execution_count": null,
      "metadata": {
        "scrolled": false,
        "id": "dEM7wsz9usI9",
        "outputId": "a3e5ff6d-333d-4153-8663-9483ffb48545"
      },
      "outputs": [
        {
          "data": {
            "text/html": [
              "<div>\n",
              "<style scoped>\n",
              "    .dataframe tbody tr th:only-of-type {\n",
              "        vertical-align: middle;\n",
              "    }\n",
              "\n",
              "    .dataframe tbody tr th {\n",
              "        vertical-align: top;\n",
              "    }\n",
              "\n",
              "    .dataframe thead th {\n",
              "        text-align: right;\n",
              "    }\n",
              "</style>\n",
              "<table border=\"1\" class=\"dataframe\">\n",
              "  <thead>\n",
              "    <tr style=\"text-align: right;\">\n",
              "      <th></th>\n",
              "      <th></th>\n",
              "      <th>gb_used</th>\n",
              "    </tr>\n",
              "    <tr>\n",
              "      <th>user_id</th>\n",
              "      <th>month</th>\n",
              "      <th></th>\n",
              "    </tr>\n",
              "  </thead>\n",
              "  <tbody>\n",
              "    <tr>\n",
              "      <td rowspan=\"8\" valign=\"top\">1000</td>\n",
              "      <td>5</td>\n",
              "      <td>3</td>\n",
              "    </tr>\n",
              "    <tr>\n",
              "      <td>6</td>\n",
              "      <td>23</td>\n",
              "    </tr>\n",
              "    <tr>\n",
              "      <td>7</td>\n",
              "      <td>14</td>\n",
              "    </tr>\n",
              "    <tr>\n",
              "      <td>8</td>\n",
              "      <td>14</td>\n",
              "    </tr>\n",
              "    <tr>\n",
              "      <td>9</td>\n",
              "      <td>15</td>\n",
              "    </tr>\n",
              "    <tr>\n",
              "      <td>10</td>\n",
              "      <td>15</td>\n",
              "    </tr>\n",
              "    <tr>\n",
              "      <td>11</td>\n",
              "      <td>15</td>\n",
              "    </tr>\n",
              "    <tr>\n",
              "      <td>12</td>\n",
              "      <td>10</td>\n",
              "    </tr>\n",
              "    <tr>\n",
              "      <td rowspan=\"2\" valign=\"top\">1001</td>\n",
              "      <td>11</td>\n",
              "      <td>18</td>\n",
              "    </tr>\n",
              "    <tr>\n",
              "      <td>12</td>\n",
              "      <td>14</td>\n",
              "    </tr>\n",
              "  </tbody>\n",
              "</table>\n",
              "</div>"
            ],
            "text/plain": [
              "               gb_used\n",
              "user_id month         \n",
              "1000    5            3\n",
              "        6           23\n",
              "        7           14\n",
              "        8           14\n",
              "        9           15\n",
              "        10          15\n",
              "        11          15\n",
              "        12          10\n",
              "1001    11          18\n",
              "        12          14"
            ]
          },
          "execution_count": 46,
          "metadata": {},
          "output_type": "execute_result"
        }
      ],
      "source": [
        "users_internet.head(10)"
      ]
    },
    {
      "cell_type": "code",
      "execution_count": null,
      "metadata": {
        "id": "BN0kQAU7usI9",
        "outputId": "8a9ba98a-afec-42f7-f1df-65804585b35d"
      },
      "outputs": [
        {
          "name": "stdout",
          "output_type": "stream",
          "text": [
            "<class 'pandas.core.frame.DataFrame'>\n",
            "MultiIndex: 3203 entries, (1000, 5) to (1499, 12)\n",
            "Data columns (total 1 columns):\n",
            "gb_used    3203 non-null int64\n",
            "dtypes: int64(1)\n",
            "memory usage: 38.5 KB\n"
          ]
        }
      ],
      "source": [
        "users_internet.info()"
      ]
    },
    {
      "cell_type": "markdown",
      "metadata": {
        "id": "xNUSAk4busI-"
      },
      "source": [
        "<div class=\"alert alert-info\"> \n",
        "    Так как я перевела значения в гигабайты, то и в таблице с тарифами надо заменить значения мегабайт на гигабайты<div>\n"
      ]
    },
    {
      "cell_type": "code",
      "execution_count": null,
      "metadata": {
        "id": "bSEWMtPPusI-",
        "outputId": "a16d3e79-74c7-49c7-f74e-dcfbc2aec55d"
      },
      "outputs": [
        {
          "data": {
            "text/html": [
              "<div>\n",
              "<style scoped>\n",
              "    .dataframe tbody tr th:only-of-type {\n",
              "        vertical-align: middle;\n",
              "    }\n",
              "\n",
              "    .dataframe tbody tr th {\n",
              "        vertical-align: top;\n",
              "    }\n",
              "\n",
              "    .dataframe thead th {\n",
              "        text-align: right;\n",
              "    }\n",
              "</style>\n",
              "<table border=\"1\" class=\"dataframe\">\n",
              "  <thead>\n",
              "    <tr style=\"text-align: right;\">\n",
              "      <th></th>\n",
              "      <th>messages_included</th>\n",
              "      <th>mb_per_month_included</th>\n",
              "      <th>minutes_included</th>\n",
              "      <th>rub_monthly_fee</th>\n",
              "      <th>rub_per_gb</th>\n",
              "      <th>rub_per_message</th>\n",
              "      <th>rub_per_minute</th>\n",
              "      <th>tariff_name</th>\n",
              "    </tr>\n",
              "  </thead>\n",
              "  <tbody>\n",
              "    <tr>\n",
              "      <td>0</td>\n",
              "      <td>50</td>\n",
              "      <td>15360</td>\n",
              "      <td>500</td>\n",
              "      <td>550</td>\n",
              "      <td>200</td>\n",
              "      <td>3</td>\n",
              "      <td>3</td>\n",
              "      <td>smart</td>\n",
              "    </tr>\n",
              "    <tr>\n",
              "      <td>1</td>\n",
              "      <td>1000</td>\n",
              "      <td>30720</td>\n",
              "      <td>3000</td>\n",
              "      <td>1950</td>\n",
              "      <td>150</td>\n",
              "      <td>1</td>\n",
              "      <td>1</td>\n",
              "      <td>ultra</td>\n",
              "    </tr>\n",
              "  </tbody>\n",
              "</table>\n",
              "</div>"
            ],
            "text/plain": [
              "   messages_included  mb_per_month_included  minutes_included  \\\n",
              "0                 50                  15360               500   \n",
              "1               1000                  30720              3000   \n",
              "\n",
              "   rub_monthly_fee  rub_per_gb  rub_per_message  rub_per_minute tariff_name  \n",
              "0              550         200                3               3       smart  \n",
              "1             1950         150                1               1       ultra  "
            ]
          },
          "execution_count": 48,
          "metadata": {},
          "output_type": "execute_result"
        }
      ],
      "source": [
        "tariffs.head()"
      ]
    },
    {
      "cell_type": "code",
      "execution_count": null,
      "metadata": {
        "id": "AasswObuusI-"
      },
      "outputs": [],
      "source": [
        "#Перевожу в гб\n",
        "tariffs['mb_per_month_included'] = tariffs['mb_per_month_included']/1024\n",
        "#Меняю название колонки\n",
        "tariffs.rename(columns={'mb_per_month_included': 'gb_per_month_included'}, inplace=True)"
      ]
    },
    {
      "cell_type": "code",
      "execution_count": null,
      "metadata": {
        "id": "MPKDPQTzusI_",
        "outputId": "aab684ff-cc2a-4e15-b13b-3096f1890628"
      },
      "outputs": [
        {
          "data": {
            "text/html": [
              "<div>\n",
              "<style scoped>\n",
              "    .dataframe tbody tr th:only-of-type {\n",
              "        vertical-align: middle;\n",
              "    }\n",
              "\n",
              "    .dataframe tbody tr th {\n",
              "        vertical-align: top;\n",
              "    }\n",
              "\n",
              "    .dataframe thead th {\n",
              "        text-align: right;\n",
              "    }\n",
              "</style>\n",
              "<table border=\"1\" class=\"dataframe\">\n",
              "  <thead>\n",
              "    <tr style=\"text-align: right;\">\n",
              "      <th></th>\n",
              "      <th>messages_included</th>\n",
              "      <th>gb_per_month_included</th>\n",
              "      <th>minutes_included</th>\n",
              "      <th>rub_monthly_fee</th>\n",
              "      <th>rub_per_gb</th>\n",
              "      <th>rub_per_message</th>\n",
              "      <th>rub_per_minute</th>\n",
              "      <th>tariff_name</th>\n",
              "    </tr>\n",
              "  </thead>\n",
              "  <tbody>\n",
              "    <tr>\n",
              "      <td>0</td>\n",
              "      <td>50</td>\n",
              "      <td>15.0</td>\n",
              "      <td>500</td>\n",
              "      <td>550</td>\n",
              "      <td>200</td>\n",
              "      <td>3</td>\n",
              "      <td>3</td>\n",
              "      <td>smart</td>\n",
              "    </tr>\n",
              "    <tr>\n",
              "      <td>1</td>\n",
              "      <td>1000</td>\n",
              "      <td>30.0</td>\n",
              "      <td>3000</td>\n",
              "      <td>1950</td>\n",
              "      <td>150</td>\n",
              "      <td>1</td>\n",
              "      <td>1</td>\n",
              "      <td>ultra</td>\n",
              "    </tr>\n",
              "  </tbody>\n",
              "</table>\n",
              "</div>"
            ],
            "text/plain": [
              "   messages_included  gb_per_month_included  minutes_included  \\\n",
              "0                 50                   15.0               500   \n",
              "1               1000                   30.0              3000   \n",
              "\n",
              "   rub_monthly_fee  rub_per_gb  rub_per_message  rub_per_minute tariff_name  \n",
              "0              550         200                3               3       smart  \n",
              "1             1950         150                1               1       ultra  "
            ]
          },
          "execution_count": 50,
          "metadata": {},
          "output_type": "execute_result"
        }
      ],
      "source": [
        "tariffs.head()"
      ]
    },
    {
      "cell_type": "markdown",
      "metadata": {
        "id": "g0omgkOYusJA"
      },
      "source": [
        "**Посчитаем помесячную выручку с каждого пользователя**"
      ]
    },
    {
      "cell_type": "markdown",
      "metadata": {
        "id": "OPbKbE2MusJB"
      },
      "source": [
        "*Объединим все сводные таблицы в одну, предварительно сбросив индексы*"
      ]
    },
    {
      "cell_type": "code",
      "execution_count": null,
      "metadata": {
        "id": "B3LBvBnQusJB"
      },
      "outputs": [],
      "source": [
        "users_calls.reset_index(inplace=True)\n",
        "users_internet.reset_index(inplace=True)\n",
        "users_messages.reset_index(inplace=True)"
      ]
    },
    {
      "cell_type": "code",
      "execution_count": null,
      "metadata": {
        "id": "sPGmlytMusJB"
      },
      "outputs": [],
      "source": [
        "grouped_data = users_calls.merge(users_messages, how='outer', on=['user_id', 'month'])"
      ]
    },
    {
      "cell_type": "code",
      "execution_count": null,
      "metadata": {
        "id": "HBj23NzZusJC",
        "outputId": "2441f890-3403-4f29-ceb7-0884fad66904"
      },
      "outputs": [
        {
          "data": {
            "text/html": [
              "<div>\n",
              "<style scoped>\n",
              "    .dataframe tbody tr th:only-of-type {\n",
              "        vertical-align: middle;\n",
              "    }\n",
              "\n",
              "    .dataframe tbody tr th {\n",
              "        vertical-align: top;\n",
              "    }\n",
              "\n",
              "    .dataframe thead th {\n",
              "        text-align: right;\n",
              "    }\n",
              "</style>\n",
              "<table border=\"1\" class=\"dataframe\">\n",
              "  <thead>\n",
              "    <tr style=\"text-align: right;\">\n",
              "      <th></th>\n",
              "      <th>user_id</th>\n",
              "      <th>month</th>\n",
              "      <th>duration_count</th>\n",
              "      <th>duration_sum</th>\n",
              "      <th>messages</th>\n",
              "    </tr>\n",
              "  </thead>\n",
              "  <tbody>\n",
              "    <tr>\n",
              "      <td>0</td>\n",
              "      <td>1000</td>\n",
              "      <td>5</td>\n",
              "      <td>22.0</td>\n",
              "      <td>159.0</td>\n",
              "      <td>22.0</td>\n",
              "    </tr>\n",
              "    <tr>\n",
              "      <td>1</td>\n",
              "      <td>1000</td>\n",
              "      <td>6</td>\n",
              "      <td>43.0</td>\n",
              "      <td>172.0</td>\n",
              "      <td>60.0</td>\n",
              "    </tr>\n",
              "    <tr>\n",
              "      <td>2</td>\n",
              "      <td>1000</td>\n",
              "      <td>7</td>\n",
              "      <td>47.0</td>\n",
              "      <td>340.0</td>\n",
              "      <td>75.0</td>\n",
              "    </tr>\n",
              "    <tr>\n",
              "      <td>3</td>\n",
              "      <td>1000</td>\n",
              "      <td>8</td>\n",
              "      <td>52.0</td>\n",
              "      <td>408.0</td>\n",
              "      <td>81.0</td>\n",
              "    </tr>\n",
              "    <tr>\n",
              "      <td>4</td>\n",
              "      <td>1000</td>\n",
              "      <td>9</td>\n",
              "      <td>58.0</td>\n",
              "      <td>466.0</td>\n",
              "      <td>57.0</td>\n",
              "    </tr>\n",
              "    <tr>\n",
              "      <td>...</td>\n",
              "      <td>...</td>\n",
              "      <td>...</td>\n",
              "      <td>...</td>\n",
              "      <td>...</td>\n",
              "      <td>...</td>\n",
              "    </tr>\n",
              "    <tr>\n",
              "      <td>3208</td>\n",
              "      <td>1489</td>\n",
              "      <td>8</td>\n",
              "      <td>NaN</td>\n",
              "      <td>NaN</td>\n",
              "      <td>17.0</td>\n",
              "    </tr>\n",
              "    <tr>\n",
              "      <td>3209</td>\n",
              "      <td>1489</td>\n",
              "      <td>9</td>\n",
              "      <td>NaN</td>\n",
              "      <td>NaN</td>\n",
              "      <td>32.0</td>\n",
              "    </tr>\n",
              "    <tr>\n",
              "      <td>3210</td>\n",
              "      <td>1489</td>\n",
              "      <td>10</td>\n",
              "      <td>NaN</td>\n",
              "      <td>NaN</td>\n",
              "      <td>21.0</td>\n",
              "    </tr>\n",
              "    <tr>\n",
              "      <td>3211</td>\n",
              "      <td>1489</td>\n",
              "      <td>11</td>\n",
              "      <td>NaN</td>\n",
              "      <td>NaN</td>\n",
              "      <td>20.0</td>\n",
              "    </tr>\n",
              "    <tr>\n",
              "      <td>3212</td>\n",
              "      <td>1489</td>\n",
              "      <td>12</td>\n",
              "      <td>NaN</td>\n",
              "      <td>NaN</td>\n",
              "      <td>35.0</td>\n",
              "    </tr>\n",
              "  </tbody>\n",
              "</table>\n",
              "<p>3213 rows × 5 columns</p>\n",
              "</div>"
            ],
            "text/plain": [
              "      user_id  month  duration_count  duration_sum  messages\n",
              "0        1000      5            22.0         159.0      22.0\n",
              "1        1000      6            43.0         172.0      60.0\n",
              "2        1000      7            47.0         340.0      75.0\n",
              "3        1000      8            52.0         408.0      81.0\n",
              "4        1000      9            58.0         466.0      57.0\n",
              "...       ...    ...             ...           ...       ...\n",
              "3208     1489      8             NaN           NaN      17.0\n",
              "3209     1489      9             NaN           NaN      32.0\n",
              "3210     1489     10             NaN           NaN      21.0\n",
              "3211     1489     11             NaN           NaN      20.0\n",
              "3212     1489     12             NaN           NaN      35.0\n",
              "\n",
              "[3213 rows x 5 columns]"
            ]
          },
          "execution_count": 53,
          "metadata": {},
          "output_type": "execute_result"
        }
      ],
      "source": [
        "grouped_data"
      ]
    },
    {
      "cell_type": "code",
      "execution_count": null,
      "metadata": {
        "id": "XnG6uIFKusJC"
      },
      "outputs": [],
      "source": [
        "grouped_data = grouped_data.merge(users_internet, how='outer', on=['user_id', 'month'])"
      ]
    },
    {
      "cell_type": "code",
      "execution_count": null,
      "metadata": {
        "scrolled": true,
        "id": "FaMffQElusJD",
        "outputId": "f22f16ee-20cd-4e28-a54f-629f562de849"
      },
      "outputs": [
        {
          "data": {
            "text/html": [
              "<div>\n",
              "<style scoped>\n",
              "    .dataframe tbody tr th:only-of-type {\n",
              "        vertical-align: middle;\n",
              "    }\n",
              "\n",
              "    .dataframe tbody tr th {\n",
              "        vertical-align: top;\n",
              "    }\n",
              "\n",
              "    .dataframe thead th {\n",
              "        text-align: right;\n",
              "    }\n",
              "</style>\n",
              "<table border=\"1\" class=\"dataframe\">\n",
              "  <thead>\n",
              "    <tr style=\"text-align: right;\">\n",
              "      <th></th>\n",
              "      <th>user_id</th>\n",
              "      <th>month</th>\n",
              "      <th>duration_count</th>\n",
              "      <th>duration_sum</th>\n",
              "      <th>messages</th>\n",
              "      <th>gb_used</th>\n",
              "    </tr>\n",
              "  </thead>\n",
              "  <tbody>\n",
              "    <tr>\n",
              "      <td>0</td>\n",
              "      <td>1000</td>\n",
              "      <td>5</td>\n",
              "      <td>22.0</td>\n",
              "      <td>159.0</td>\n",
              "      <td>22.0</td>\n",
              "      <td>3.0</td>\n",
              "    </tr>\n",
              "    <tr>\n",
              "      <td>1</td>\n",
              "      <td>1000</td>\n",
              "      <td>6</td>\n",
              "      <td>43.0</td>\n",
              "      <td>172.0</td>\n",
              "      <td>60.0</td>\n",
              "      <td>23.0</td>\n",
              "    </tr>\n",
              "    <tr>\n",
              "      <td>2</td>\n",
              "      <td>1000</td>\n",
              "      <td>7</td>\n",
              "      <td>47.0</td>\n",
              "      <td>340.0</td>\n",
              "      <td>75.0</td>\n",
              "      <td>14.0</td>\n",
              "    </tr>\n",
              "    <tr>\n",
              "      <td>3</td>\n",
              "      <td>1000</td>\n",
              "      <td>8</td>\n",
              "      <td>52.0</td>\n",
              "      <td>408.0</td>\n",
              "      <td>81.0</td>\n",
              "      <td>14.0</td>\n",
              "    </tr>\n",
              "    <tr>\n",
              "      <td>4</td>\n",
              "      <td>1000</td>\n",
              "      <td>9</td>\n",
              "      <td>58.0</td>\n",
              "      <td>466.0</td>\n",
              "      <td>57.0</td>\n",
              "      <td>15.0</td>\n",
              "    </tr>\n",
              "    <tr>\n",
              "      <td>...</td>\n",
              "      <td>...</td>\n",
              "      <td>...</td>\n",
              "      <td>...</td>\n",
              "      <td>...</td>\n",
              "      <td>...</td>\n",
              "      <td>...</td>\n",
              "    </tr>\n",
              "    <tr>\n",
              "      <td>3209</td>\n",
              "      <td>1489</td>\n",
              "      <td>9</td>\n",
              "      <td>NaN</td>\n",
              "      <td>NaN</td>\n",
              "      <td>32.0</td>\n",
              "      <td>17.0</td>\n",
              "    </tr>\n",
              "    <tr>\n",
              "      <td>3210</td>\n",
              "      <td>1489</td>\n",
              "      <td>10</td>\n",
              "      <td>NaN</td>\n",
              "      <td>NaN</td>\n",
              "      <td>21.0</td>\n",
              "      <td>20.0</td>\n",
              "    </tr>\n",
              "    <tr>\n",
              "      <td>3211</td>\n",
              "      <td>1489</td>\n",
              "      <td>11</td>\n",
              "      <td>NaN</td>\n",
              "      <td>NaN</td>\n",
              "      <td>20.0</td>\n",
              "      <td>18.0</td>\n",
              "    </tr>\n",
              "    <tr>\n",
              "      <td>3212</td>\n",
              "      <td>1489</td>\n",
              "      <td>12</td>\n",
              "      <td>NaN</td>\n",
              "      <td>NaN</td>\n",
              "      <td>35.0</td>\n",
              "      <td>17.0</td>\n",
              "    </tr>\n",
              "    <tr>\n",
              "      <td>3213</td>\n",
              "      <td>1476</td>\n",
              "      <td>4</td>\n",
              "      <td>NaN</td>\n",
              "      <td>NaN</td>\n",
              "      <td>NaN</td>\n",
              "      <td>1.0</td>\n",
              "    </tr>\n",
              "  </tbody>\n",
              "</table>\n",
              "<p>3214 rows × 6 columns</p>\n",
              "</div>"
            ],
            "text/plain": [
              "      user_id  month  duration_count  duration_sum  messages  gb_used\n",
              "0        1000      5            22.0         159.0      22.0      3.0\n",
              "1        1000      6            43.0         172.0      60.0     23.0\n",
              "2        1000      7            47.0         340.0      75.0     14.0\n",
              "3        1000      8            52.0         408.0      81.0     14.0\n",
              "4        1000      9            58.0         466.0      57.0     15.0\n",
              "...       ...    ...             ...           ...       ...      ...\n",
              "3209     1489      9             NaN           NaN      32.0     17.0\n",
              "3210     1489     10             NaN           NaN      21.0     20.0\n",
              "3211     1489     11             NaN           NaN      20.0     18.0\n",
              "3212     1489     12             NaN           NaN      35.0     17.0\n",
              "3213     1476      4             NaN           NaN       NaN      1.0\n",
              "\n",
              "[3214 rows x 6 columns]"
            ]
          },
          "execution_count": 55,
          "metadata": {},
          "output_type": "execute_result"
        }
      ],
      "source": [
        "grouped_data"
      ]
    },
    {
      "cell_type": "markdown",
      "metadata": {
        "id": "_xh0XDyGusJD"
      },
      "source": [
        "В ходе объединения таблиц, в некоторых колонках появились отсутствующие значения, т.к. пользователь,например, не пользовался интернетом, не писал смс и т.д. Заменим их на ноль."
      ]
    },
    {
      "cell_type": "code",
      "execution_count": null,
      "metadata": {
        "id": "dOZpSppwusJE"
      },
      "outputs": [],
      "source": [
        "grouped_data = grouped_data.fillna(0)"
      ]
    },
    {
      "cell_type": "code",
      "execution_count": null,
      "metadata": {
        "id": "T3G0QdLmusJE",
        "outputId": "a60a9019-5706-411c-9a99-90d222fb3fcc"
      },
      "outputs": [
        {
          "data": {
            "text/html": [
              "<div>\n",
              "<style scoped>\n",
              "    .dataframe tbody tr th:only-of-type {\n",
              "        vertical-align: middle;\n",
              "    }\n",
              "\n",
              "    .dataframe tbody tr th {\n",
              "        vertical-align: top;\n",
              "    }\n",
              "\n",
              "    .dataframe thead th {\n",
              "        text-align: right;\n",
              "    }\n",
              "</style>\n",
              "<table border=\"1\" class=\"dataframe\">\n",
              "  <thead>\n",
              "    <tr style=\"text-align: right;\">\n",
              "      <th></th>\n",
              "      <th>user_id</th>\n",
              "      <th>month</th>\n",
              "      <th>duration_count</th>\n",
              "      <th>duration_sum</th>\n",
              "      <th>messages</th>\n",
              "      <th>gb_used</th>\n",
              "    </tr>\n",
              "  </thead>\n",
              "  <tbody>\n",
              "    <tr>\n",
              "      <td>0</td>\n",
              "      <td>1000</td>\n",
              "      <td>5</td>\n",
              "      <td>22.0</td>\n",
              "      <td>159.0</td>\n",
              "      <td>22.0</td>\n",
              "      <td>3.0</td>\n",
              "    </tr>\n",
              "    <tr>\n",
              "      <td>1</td>\n",
              "      <td>1000</td>\n",
              "      <td>6</td>\n",
              "      <td>43.0</td>\n",
              "      <td>172.0</td>\n",
              "      <td>60.0</td>\n",
              "      <td>23.0</td>\n",
              "    </tr>\n",
              "    <tr>\n",
              "      <td>2</td>\n",
              "      <td>1000</td>\n",
              "      <td>7</td>\n",
              "      <td>47.0</td>\n",
              "      <td>340.0</td>\n",
              "      <td>75.0</td>\n",
              "      <td>14.0</td>\n",
              "    </tr>\n",
              "    <tr>\n",
              "      <td>3</td>\n",
              "      <td>1000</td>\n",
              "      <td>8</td>\n",
              "      <td>52.0</td>\n",
              "      <td>408.0</td>\n",
              "      <td>81.0</td>\n",
              "      <td>14.0</td>\n",
              "    </tr>\n",
              "    <tr>\n",
              "      <td>4</td>\n",
              "      <td>1000</td>\n",
              "      <td>9</td>\n",
              "      <td>58.0</td>\n",
              "      <td>466.0</td>\n",
              "      <td>57.0</td>\n",
              "      <td>15.0</td>\n",
              "    </tr>\n",
              "    <tr>\n",
              "      <td>...</td>\n",
              "      <td>...</td>\n",
              "      <td>...</td>\n",
              "      <td>...</td>\n",
              "      <td>...</td>\n",
              "      <td>...</td>\n",
              "      <td>...</td>\n",
              "    </tr>\n",
              "    <tr>\n",
              "      <td>3209</td>\n",
              "      <td>1489</td>\n",
              "      <td>9</td>\n",
              "      <td>0.0</td>\n",
              "      <td>0.0</td>\n",
              "      <td>32.0</td>\n",
              "      <td>17.0</td>\n",
              "    </tr>\n",
              "    <tr>\n",
              "      <td>3210</td>\n",
              "      <td>1489</td>\n",
              "      <td>10</td>\n",
              "      <td>0.0</td>\n",
              "      <td>0.0</td>\n",
              "      <td>21.0</td>\n",
              "      <td>20.0</td>\n",
              "    </tr>\n",
              "    <tr>\n",
              "      <td>3211</td>\n",
              "      <td>1489</td>\n",
              "      <td>11</td>\n",
              "      <td>0.0</td>\n",
              "      <td>0.0</td>\n",
              "      <td>20.0</td>\n",
              "      <td>18.0</td>\n",
              "    </tr>\n",
              "    <tr>\n",
              "      <td>3212</td>\n",
              "      <td>1489</td>\n",
              "      <td>12</td>\n",
              "      <td>0.0</td>\n",
              "      <td>0.0</td>\n",
              "      <td>35.0</td>\n",
              "      <td>17.0</td>\n",
              "    </tr>\n",
              "    <tr>\n",
              "      <td>3213</td>\n",
              "      <td>1476</td>\n",
              "      <td>4</td>\n",
              "      <td>0.0</td>\n",
              "      <td>0.0</td>\n",
              "      <td>0.0</td>\n",
              "      <td>1.0</td>\n",
              "    </tr>\n",
              "  </tbody>\n",
              "</table>\n",
              "<p>3214 rows × 6 columns</p>\n",
              "</div>"
            ],
            "text/plain": [
              "      user_id  month  duration_count  duration_sum  messages  gb_used\n",
              "0        1000      5            22.0         159.0      22.0      3.0\n",
              "1        1000      6            43.0         172.0      60.0     23.0\n",
              "2        1000      7            47.0         340.0      75.0     14.0\n",
              "3        1000      8            52.0         408.0      81.0     14.0\n",
              "4        1000      9            58.0         466.0      57.0     15.0\n",
              "...       ...    ...             ...           ...       ...      ...\n",
              "3209     1489      9             0.0           0.0      32.0     17.0\n",
              "3210     1489     10             0.0           0.0      21.0     20.0\n",
              "3211     1489     11             0.0           0.0      20.0     18.0\n",
              "3212     1489     12             0.0           0.0      35.0     17.0\n",
              "3213     1476      4             0.0           0.0       0.0      1.0\n",
              "\n",
              "[3214 rows x 6 columns]"
            ]
          },
          "execution_count": 57,
          "metadata": {},
          "output_type": "execute_result"
        }
      ],
      "source": [
        "grouped_data"
      ]
    },
    {
      "cell_type": "code",
      "execution_count": null,
      "metadata": {
        "id": "v7oM7c6TusJE",
        "outputId": "c8074087-2ecc-4072-88b8-d17047690ae9"
      },
      "outputs": [
        {
          "data": {
            "text/html": [
              "<div>\n",
              "<style scoped>\n",
              "    .dataframe tbody tr th:only-of-type {\n",
              "        vertical-align: middle;\n",
              "    }\n",
              "\n",
              "    .dataframe tbody tr th {\n",
              "        vertical-align: top;\n",
              "    }\n",
              "\n",
              "    .dataframe thead th {\n",
              "        text-align: right;\n",
              "    }\n",
              "</style>\n",
              "<table border=\"1\" class=\"dataframe\">\n",
              "  <thead>\n",
              "    <tr style=\"text-align: right;\">\n",
              "      <th></th>\n",
              "      <th>user_id</th>\n",
              "      <th>city</th>\n",
              "      <th>tariff</th>\n",
              "    </tr>\n",
              "  </thead>\n",
              "  <tbody>\n",
              "    <tr>\n",
              "      <td>0</td>\n",
              "      <td>1000</td>\n",
              "      <td>Краснодар</td>\n",
              "      <td>ultra</td>\n",
              "    </tr>\n",
              "    <tr>\n",
              "      <td>1</td>\n",
              "      <td>1001</td>\n",
              "      <td>Москва</td>\n",
              "      <td>smart</td>\n",
              "    </tr>\n",
              "    <tr>\n",
              "      <td>2</td>\n",
              "      <td>1002</td>\n",
              "      <td>Стерлитамак</td>\n",
              "      <td>smart</td>\n",
              "    </tr>\n",
              "    <tr>\n",
              "      <td>3</td>\n",
              "      <td>1003</td>\n",
              "      <td>Москва</td>\n",
              "      <td>ultra</td>\n",
              "    </tr>\n",
              "    <tr>\n",
              "      <td>4</td>\n",
              "      <td>1004</td>\n",
              "      <td>Новокузнецк</td>\n",
              "      <td>ultra</td>\n",
              "    </tr>\n",
              "  </tbody>\n",
              "</table>\n",
              "</div>"
            ],
            "text/plain": [
              "   user_id         city tariff\n",
              "0     1000    Краснодар  ultra\n",
              "1     1001       Москва  smart\n",
              "2     1002  Стерлитамак  smart\n",
              "3     1003       Москва  ultra\n",
              "4     1004  Новокузнецк  ultra"
            ]
          },
          "execution_count": 58,
          "metadata": {},
          "output_type": "execute_result"
        }
      ],
      "source": [
        "#Объединим данные о пользователях с информацией о тарифах.\n",
        "users_new = users.drop(['age', 'churn_date', 'first_name', 'last_name', 'reg_date', 'month'], axis = 1)\n",
        "users_new.head()"
      ]
    },
    {
      "cell_type": "code",
      "execution_count": null,
      "metadata": {
        "id": "62NPh6ytusJF"
      },
      "outputs": [],
      "source": [
        "data = grouped_data.merge(users_new, on='user_id', how='left')"
      ]
    },
    {
      "cell_type": "code",
      "execution_count": null,
      "metadata": {
        "id": "9IPHSat0usJF",
        "outputId": "343bdc74-dbab-49b1-df4e-5e0644732048"
      },
      "outputs": [
        {
          "data": {
            "text/html": [
              "<div>\n",
              "<style scoped>\n",
              "    .dataframe tbody tr th:only-of-type {\n",
              "        vertical-align: middle;\n",
              "    }\n",
              "\n",
              "    .dataframe tbody tr th {\n",
              "        vertical-align: top;\n",
              "    }\n",
              "\n",
              "    .dataframe thead th {\n",
              "        text-align: right;\n",
              "    }\n",
              "</style>\n",
              "<table border=\"1\" class=\"dataframe\">\n",
              "  <thead>\n",
              "    <tr style=\"text-align: right;\">\n",
              "      <th></th>\n",
              "      <th>user_id</th>\n",
              "      <th>month</th>\n",
              "      <th>duration_count</th>\n",
              "      <th>duration_sum</th>\n",
              "      <th>messages</th>\n",
              "      <th>gb_used</th>\n",
              "      <th>city</th>\n",
              "      <th>tariff</th>\n",
              "    </tr>\n",
              "  </thead>\n",
              "  <tbody>\n",
              "    <tr>\n",
              "      <td>0</td>\n",
              "      <td>1000</td>\n",
              "      <td>5</td>\n",
              "      <td>22.0</td>\n",
              "      <td>159.0</td>\n",
              "      <td>22.0</td>\n",
              "      <td>3.0</td>\n",
              "      <td>Краснодар</td>\n",
              "      <td>ultra</td>\n",
              "    </tr>\n",
              "    <tr>\n",
              "      <td>1</td>\n",
              "      <td>1000</td>\n",
              "      <td>6</td>\n",
              "      <td>43.0</td>\n",
              "      <td>172.0</td>\n",
              "      <td>60.0</td>\n",
              "      <td>23.0</td>\n",
              "      <td>Краснодар</td>\n",
              "      <td>ultra</td>\n",
              "    </tr>\n",
              "    <tr>\n",
              "      <td>2</td>\n",
              "      <td>1000</td>\n",
              "      <td>7</td>\n",
              "      <td>47.0</td>\n",
              "      <td>340.0</td>\n",
              "      <td>75.0</td>\n",
              "      <td>14.0</td>\n",
              "      <td>Краснодар</td>\n",
              "      <td>ultra</td>\n",
              "    </tr>\n",
              "    <tr>\n",
              "      <td>3</td>\n",
              "      <td>1000</td>\n",
              "      <td>8</td>\n",
              "      <td>52.0</td>\n",
              "      <td>408.0</td>\n",
              "      <td>81.0</td>\n",
              "      <td>14.0</td>\n",
              "      <td>Краснодар</td>\n",
              "      <td>ultra</td>\n",
              "    </tr>\n",
              "    <tr>\n",
              "      <td>4</td>\n",
              "      <td>1000</td>\n",
              "      <td>9</td>\n",
              "      <td>58.0</td>\n",
              "      <td>466.0</td>\n",
              "      <td>57.0</td>\n",
              "      <td>15.0</td>\n",
              "      <td>Краснодар</td>\n",
              "      <td>ultra</td>\n",
              "    </tr>\n",
              "    <tr>\n",
              "      <td>...</td>\n",
              "      <td>...</td>\n",
              "      <td>...</td>\n",
              "      <td>...</td>\n",
              "      <td>...</td>\n",
              "      <td>...</td>\n",
              "      <td>...</td>\n",
              "      <td>...</td>\n",
              "      <td>...</td>\n",
              "    </tr>\n",
              "    <tr>\n",
              "      <td>3209</td>\n",
              "      <td>1489</td>\n",
              "      <td>9</td>\n",
              "      <td>0.0</td>\n",
              "      <td>0.0</td>\n",
              "      <td>32.0</td>\n",
              "      <td>17.0</td>\n",
              "      <td>Санкт-Петербург</td>\n",
              "      <td>smart</td>\n",
              "    </tr>\n",
              "    <tr>\n",
              "      <td>3210</td>\n",
              "      <td>1489</td>\n",
              "      <td>10</td>\n",
              "      <td>0.0</td>\n",
              "      <td>0.0</td>\n",
              "      <td>21.0</td>\n",
              "      <td>20.0</td>\n",
              "      <td>Санкт-Петербург</td>\n",
              "      <td>smart</td>\n",
              "    </tr>\n",
              "    <tr>\n",
              "      <td>3211</td>\n",
              "      <td>1489</td>\n",
              "      <td>11</td>\n",
              "      <td>0.0</td>\n",
              "      <td>0.0</td>\n",
              "      <td>20.0</td>\n",
              "      <td>18.0</td>\n",
              "      <td>Санкт-Петербург</td>\n",
              "      <td>smart</td>\n",
              "    </tr>\n",
              "    <tr>\n",
              "      <td>3212</td>\n",
              "      <td>1489</td>\n",
              "      <td>12</td>\n",
              "      <td>0.0</td>\n",
              "      <td>0.0</td>\n",
              "      <td>35.0</td>\n",
              "      <td>17.0</td>\n",
              "      <td>Санкт-Петербург</td>\n",
              "      <td>smart</td>\n",
              "    </tr>\n",
              "    <tr>\n",
              "      <td>3213</td>\n",
              "      <td>1476</td>\n",
              "      <td>4</td>\n",
              "      <td>0.0</td>\n",
              "      <td>0.0</td>\n",
              "      <td>0.0</td>\n",
              "      <td>1.0</td>\n",
              "      <td>Москва</td>\n",
              "      <td>ultra</td>\n",
              "    </tr>\n",
              "  </tbody>\n",
              "</table>\n",
              "<p>3214 rows × 8 columns</p>\n",
              "</div>"
            ],
            "text/plain": [
              "      user_id  month  duration_count  duration_sum  messages  gb_used  \\\n",
              "0        1000      5            22.0         159.0      22.0      3.0   \n",
              "1        1000      6            43.0         172.0      60.0     23.0   \n",
              "2        1000      7            47.0         340.0      75.0     14.0   \n",
              "3        1000      8            52.0         408.0      81.0     14.0   \n",
              "4        1000      9            58.0         466.0      57.0     15.0   \n",
              "...       ...    ...             ...           ...       ...      ...   \n",
              "3209     1489      9             0.0           0.0      32.0     17.0   \n",
              "3210     1489     10             0.0           0.0      21.0     20.0   \n",
              "3211     1489     11             0.0           0.0      20.0     18.0   \n",
              "3212     1489     12             0.0           0.0      35.0     17.0   \n",
              "3213     1476      4             0.0           0.0       0.0      1.0   \n",
              "\n",
              "                 city tariff  \n",
              "0           Краснодар  ultra  \n",
              "1           Краснодар  ultra  \n",
              "2           Краснодар  ultra  \n",
              "3           Краснодар  ultra  \n",
              "4           Краснодар  ultra  \n",
              "...               ...    ...  \n",
              "3209  Санкт-Петербург  smart  \n",
              "3210  Санкт-Петербург  smart  \n",
              "3211  Санкт-Петербург  smart  \n",
              "3212  Санкт-Петербург  smart  \n",
              "3213           Москва  ultra  \n",
              "\n",
              "[3214 rows x 8 columns]"
            ]
          },
          "execution_count": 60,
          "metadata": {},
          "output_type": "execute_result"
        }
      ],
      "source": [
        "data"
      ]
    },
    {
      "cell_type": "code",
      "execution_count": null,
      "metadata": {
        "id": "PtfaTU7cusJF",
        "outputId": "52783b39-74db-41f0-a5bc-d37a6116d3ec"
      },
      "outputs": [
        {
          "data": {
            "text/html": [
              "<div>\n",
              "<style scoped>\n",
              "    .dataframe tbody tr th:only-of-type {\n",
              "        vertical-align: middle;\n",
              "    }\n",
              "\n",
              "    .dataframe tbody tr th {\n",
              "        vertical-align: top;\n",
              "    }\n",
              "\n",
              "    .dataframe thead th {\n",
              "        text-align: right;\n",
              "    }\n",
              "</style>\n",
              "<table border=\"1\" class=\"dataframe\">\n",
              "  <thead>\n",
              "    <tr style=\"text-align: right;\">\n",
              "      <th></th>\n",
              "      <th>messages_included</th>\n",
              "      <th>gb_per_month_included</th>\n",
              "      <th>minutes_included</th>\n",
              "      <th>rub_monthly_fee</th>\n",
              "      <th>rub_per_gb</th>\n",
              "      <th>rub_per_message</th>\n",
              "      <th>rub_per_minute</th>\n",
              "      <th>tariff_name</th>\n",
              "    </tr>\n",
              "  </thead>\n",
              "  <tbody>\n",
              "    <tr>\n",
              "      <td>0</td>\n",
              "      <td>50</td>\n",
              "      <td>15.0</td>\n",
              "      <td>500</td>\n",
              "      <td>550</td>\n",
              "      <td>200</td>\n",
              "      <td>3</td>\n",
              "      <td>3</td>\n",
              "      <td>smart</td>\n",
              "    </tr>\n",
              "    <tr>\n",
              "      <td>1</td>\n",
              "      <td>1000</td>\n",
              "      <td>30.0</td>\n",
              "      <td>3000</td>\n",
              "      <td>1950</td>\n",
              "      <td>150</td>\n",
              "      <td>1</td>\n",
              "      <td>1</td>\n",
              "      <td>ultra</td>\n",
              "    </tr>\n",
              "  </tbody>\n",
              "</table>\n",
              "</div>"
            ],
            "text/plain": [
              "   messages_included  gb_per_month_included  minutes_included  \\\n",
              "0                 50                   15.0               500   \n",
              "1               1000                   30.0              3000   \n",
              "\n",
              "   rub_monthly_fee  rub_per_gb  rub_per_message  rub_per_minute tariff_name  \n",
              "0              550         200                3               3       smart  \n",
              "1             1950         150                1               1       ultra  "
            ]
          },
          "execution_count": 61,
          "metadata": {},
          "output_type": "execute_result"
        }
      ],
      "source": [
        "#Выведем исходную таблицу с тарифами\n",
        "tariffs"
      ]
    },
    {
      "cell_type": "code",
      "execution_count": null,
      "metadata": {
        "id": "P2PgeSwWusJG"
      },
      "outputs": [],
      "source": [
        "#Так как названия колонок с тарифом отличны, переименуем столбец\n",
        "tariffs.rename(columns={'tariff_name': 'tariff'}, inplace=True)"
      ]
    },
    {
      "cell_type": "code",
      "execution_count": null,
      "metadata": {
        "id": "wF55hA2YusJG"
      },
      "outputs": [],
      "source": [
        "all_data = data.merge(tariffs,how='left', on='tariff')"
      ]
    },
    {
      "cell_type": "code",
      "execution_count": null,
      "metadata": {
        "id": "ME7ucjvhusJG",
        "outputId": "dfda6e34-b08a-4cb8-b81f-68288b541de8"
      },
      "outputs": [
        {
          "data": {
            "text/html": [
              "<div>\n",
              "<style scoped>\n",
              "    .dataframe tbody tr th:only-of-type {\n",
              "        vertical-align: middle;\n",
              "    }\n",
              "\n",
              "    .dataframe tbody tr th {\n",
              "        vertical-align: top;\n",
              "    }\n",
              "\n",
              "    .dataframe thead th {\n",
              "        text-align: right;\n",
              "    }\n",
              "</style>\n",
              "<table border=\"1\" class=\"dataframe\">\n",
              "  <thead>\n",
              "    <tr style=\"text-align: right;\">\n",
              "      <th></th>\n",
              "      <th>user_id</th>\n",
              "      <th>month</th>\n",
              "      <th>duration_count</th>\n",
              "      <th>duration_sum</th>\n",
              "      <th>messages</th>\n",
              "      <th>gb_used</th>\n",
              "      <th>city</th>\n",
              "      <th>tariff</th>\n",
              "      <th>messages_included</th>\n",
              "      <th>gb_per_month_included</th>\n",
              "      <th>minutes_included</th>\n",
              "      <th>rub_monthly_fee</th>\n",
              "      <th>rub_per_gb</th>\n",
              "      <th>rub_per_message</th>\n",
              "      <th>rub_per_minute</th>\n",
              "    </tr>\n",
              "  </thead>\n",
              "  <tbody>\n",
              "    <tr>\n",
              "      <td>0</td>\n",
              "      <td>1000</td>\n",
              "      <td>5</td>\n",
              "      <td>22.0</td>\n",
              "      <td>159.0</td>\n",
              "      <td>22.0</td>\n",
              "      <td>3.0</td>\n",
              "      <td>Краснодар</td>\n",
              "      <td>ultra</td>\n",
              "      <td>1000</td>\n",
              "      <td>30.0</td>\n",
              "      <td>3000</td>\n",
              "      <td>1950</td>\n",
              "      <td>150</td>\n",
              "      <td>1</td>\n",
              "      <td>1</td>\n",
              "    </tr>\n",
              "    <tr>\n",
              "      <td>1</td>\n",
              "      <td>1000</td>\n",
              "      <td>6</td>\n",
              "      <td>43.0</td>\n",
              "      <td>172.0</td>\n",
              "      <td>60.0</td>\n",
              "      <td>23.0</td>\n",
              "      <td>Краснодар</td>\n",
              "      <td>ultra</td>\n",
              "      <td>1000</td>\n",
              "      <td>30.0</td>\n",
              "      <td>3000</td>\n",
              "      <td>1950</td>\n",
              "      <td>150</td>\n",
              "      <td>1</td>\n",
              "      <td>1</td>\n",
              "    </tr>\n",
              "    <tr>\n",
              "      <td>2</td>\n",
              "      <td>1000</td>\n",
              "      <td>7</td>\n",
              "      <td>47.0</td>\n",
              "      <td>340.0</td>\n",
              "      <td>75.0</td>\n",
              "      <td>14.0</td>\n",
              "      <td>Краснодар</td>\n",
              "      <td>ultra</td>\n",
              "      <td>1000</td>\n",
              "      <td>30.0</td>\n",
              "      <td>3000</td>\n",
              "      <td>1950</td>\n",
              "      <td>150</td>\n",
              "      <td>1</td>\n",
              "      <td>1</td>\n",
              "    </tr>\n",
              "    <tr>\n",
              "      <td>3</td>\n",
              "      <td>1000</td>\n",
              "      <td>8</td>\n",
              "      <td>52.0</td>\n",
              "      <td>408.0</td>\n",
              "      <td>81.0</td>\n",
              "      <td>14.0</td>\n",
              "      <td>Краснодар</td>\n",
              "      <td>ultra</td>\n",
              "      <td>1000</td>\n",
              "      <td>30.0</td>\n",
              "      <td>3000</td>\n",
              "      <td>1950</td>\n",
              "      <td>150</td>\n",
              "      <td>1</td>\n",
              "      <td>1</td>\n",
              "    </tr>\n",
              "    <tr>\n",
              "      <td>4</td>\n",
              "      <td>1000</td>\n",
              "      <td>9</td>\n",
              "      <td>58.0</td>\n",
              "      <td>466.0</td>\n",
              "      <td>57.0</td>\n",
              "      <td>15.0</td>\n",
              "      <td>Краснодар</td>\n",
              "      <td>ultra</td>\n",
              "      <td>1000</td>\n",
              "      <td>30.0</td>\n",
              "      <td>3000</td>\n",
              "      <td>1950</td>\n",
              "      <td>150</td>\n",
              "      <td>1</td>\n",
              "      <td>1</td>\n",
              "    </tr>\n",
              "  </tbody>\n",
              "</table>\n",
              "</div>"
            ],
            "text/plain": [
              "   user_id  month  duration_count  duration_sum  messages  gb_used       city  \\\n",
              "0     1000      5            22.0         159.0      22.0      3.0  Краснодар   \n",
              "1     1000      6            43.0         172.0      60.0     23.0  Краснодар   \n",
              "2     1000      7            47.0         340.0      75.0     14.0  Краснодар   \n",
              "3     1000      8            52.0         408.0      81.0     14.0  Краснодар   \n",
              "4     1000      9            58.0         466.0      57.0     15.0  Краснодар   \n",
              "\n",
              "  tariff  messages_included  gb_per_month_included  minutes_included  \\\n",
              "0  ultra               1000                   30.0              3000   \n",
              "1  ultra               1000                   30.0              3000   \n",
              "2  ultra               1000                   30.0              3000   \n",
              "3  ultra               1000                   30.0              3000   \n",
              "4  ultra               1000                   30.0              3000   \n",
              "\n",
              "   rub_monthly_fee  rub_per_gb  rub_per_message  rub_per_minute  \n",
              "0             1950         150                1               1  \n",
              "1             1950         150                1               1  \n",
              "2             1950         150                1               1  \n",
              "3             1950         150                1               1  \n",
              "4             1950         150                1               1  "
            ]
          },
          "execution_count": 64,
          "metadata": {},
          "output_type": "execute_result"
        }
      ],
      "source": [
        "all_data.head(5)"
      ]
    },
    {
      "cell_type": "code",
      "execution_count": null,
      "metadata": {
        "id": "OaDcx7pVusJH",
        "outputId": "f2aacc56-cd20-4656-c26b-1cb6ec0bf5d0"
      },
      "outputs": [
        {
          "data": {
            "text/plain": [
              "498"
            ]
          },
          "execution_count": 65,
          "metadata": {},
          "output_type": "execute_result"
        }
      ],
      "source": [
        "len(all_data['user_id'].unique())"
      ]
    },
    {
      "cell_type": "markdown",
      "metadata": {
        "id": "LhuHNWKDusJJ"
      },
      "source": [
        "Для расчете помесячной выручки необходимо:\n",
        " - вычесть бесплатный лимит из суммарного количества звонков, сообщений и интернет-трафика;\n",
        " - остаток умножить на значение из тарифного плана; \n",
        " - прибавить абонентскую плату, соответствующую тарифному плану."
      ]
    },
    {
      "cell_type": "code",
      "execution_count": null,
      "metadata": {
        "id": "xAckLtlIusJL",
        "outputId": "44e4e0b5-906c-4116-9050-9acaa74c74ea"
      },
      "outputs": [
        {
          "data": {
            "text/html": [
              "<div>\n",
              "<style scoped>\n",
              "    .dataframe tbody tr th:only-of-type {\n",
              "        vertical-align: middle;\n",
              "    }\n",
              "\n",
              "    .dataframe tbody tr th {\n",
              "        vertical-align: top;\n",
              "    }\n",
              "\n",
              "    .dataframe thead th {\n",
              "        text-align: right;\n",
              "    }\n",
              "</style>\n",
              "<table border=\"1\" class=\"dataframe\">\n",
              "  <thead>\n",
              "    <tr style=\"text-align: right;\">\n",
              "      <th></th>\n",
              "      <th>user_id</th>\n",
              "      <th>month</th>\n",
              "      <th>duration_count</th>\n",
              "      <th>duration_sum</th>\n",
              "      <th>messages</th>\n",
              "      <th>gb_used</th>\n",
              "      <th>city</th>\n",
              "      <th>tariff</th>\n",
              "      <th>messages_included</th>\n",
              "      <th>gb_per_month_included</th>\n",
              "      <th>minutes_included</th>\n",
              "      <th>rub_monthly_fee</th>\n",
              "      <th>rub_per_gb</th>\n",
              "      <th>rub_per_message</th>\n",
              "      <th>rub_per_minute</th>\n",
              "      <th>cost_calls</th>\n",
              "    </tr>\n",
              "  </thead>\n",
              "  <tbody>\n",
              "    <tr>\n",
              "      <td>0</td>\n",
              "      <td>1000</td>\n",
              "      <td>5</td>\n",
              "      <td>22.0</td>\n",
              "      <td>159.0</td>\n",
              "      <td>22.0</td>\n",
              "      <td>3.0</td>\n",
              "      <td>Краснодар</td>\n",
              "      <td>ultra</td>\n",
              "      <td>1000</td>\n",
              "      <td>30.0</td>\n",
              "      <td>3000</td>\n",
              "      <td>1950</td>\n",
              "      <td>150</td>\n",
              "      <td>1</td>\n",
              "      <td>1</td>\n",
              "      <td>-2841.0</td>\n",
              "    </tr>\n",
              "    <tr>\n",
              "      <td>1</td>\n",
              "      <td>1000</td>\n",
              "      <td>6</td>\n",
              "      <td>43.0</td>\n",
              "      <td>172.0</td>\n",
              "      <td>60.0</td>\n",
              "      <td>23.0</td>\n",
              "      <td>Краснодар</td>\n",
              "      <td>ultra</td>\n",
              "      <td>1000</td>\n",
              "      <td>30.0</td>\n",
              "      <td>3000</td>\n",
              "      <td>1950</td>\n",
              "      <td>150</td>\n",
              "      <td>1</td>\n",
              "      <td>1</td>\n",
              "      <td>-2828.0</td>\n",
              "    </tr>\n",
              "    <tr>\n",
              "      <td>2</td>\n",
              "      <td>1000</td>\n",
              "      <td>7</td>\n",
              "      <td>47.0</td>\n",
              "      <td>340.0</td>\n",
              "      <td>75.0</td>\n",
              "      <td>14.0</td>\n",
              "      <td>Краснодар</td>\n",
              "      <td>ultra</td>\n",
              "      <td>1000</td>\n",
              "      <td>30.0</td>\n",
              "      <td>3000</td>\n",
              "      <td>1950</td>\n",
              "      <td>150</td>\n",
              "      <td>1</td>\n",
              "      <td>1</td>\n",
              "      <td>-2660.0</td>\n",
              "    </tr>\n",
              "    <tr>\n",
              "      <td>3</td>\n",
              "      <td>1000</td>\n",
              "      <td>8</td>\n",
              "      <td>52.0</td>\n",
              "      <td>408.0</td>\n",
              "      <td>81.0</td>\n",
              "      <td>14.0</td>\n",
              "      <td>Краснодар</td>\n",
              "      <td>ultra</td>\n",
              "      <td>1000</td>\n",
              "      <td>30.0</td>\n",
              "      <td>3000</td>\n",
              "      <td>1950</td>\n",
              "      <td>150</td>\n",
              "      <td>1</td>\n",
              "      <td>1</td>\n",
              "      <td>-2592.0</td>\n",
              "    </tr>\n",
              "    <tr>\n",
              "      <td>4</td>\n",
              "      <td>1000</td>\n",
              "      <td>9</td>\n",
              "      <td>58.0</td>\n",
              "      <td>466.0</td>\n",
              "      <td>57.0</td>\n",
              "      <td>15.0</td>\n",
              "      <td>Краснодар</td>\n",
              "      <td>ultra</td>\n",
              "      <td>1000</td>\n",
              "      <td>30.0</td>\n",
              "      <td>3000</td>\n",
              "      <td>1950</td>\n",
              "      <td>150</td>\n",
              "      <td>1</td>\n",
              "      <td>1</td>\n",
              "      <td>-2534.0</td>\n",
              "    </tr>\n",
              "  </tbody>\n",
              "</table>\n",
              "</div>"
            ],
            "text/plain": [
              "   user_id  month  duration_count  duration_sum  messages  gb_used       city  \\\n",
              "0     1000      5            22.0         159.0      22.0      3.0  Краснодар   \n",
              "1     1000      6            43.0         172.0      60.0     23.0  Краснодар   \n",
              "2     1000      7            47.0         340.0      75.0     14.0  Краснодар   \n",
              "3     1000      8            52.0         408.0      81.0     14.0  Краснодар   \n",
              "4     1000      9            58.0         466.0      57.0     15.0  Краснодар   \n",
              "\n",
              "  tariff  messages_included  gb_per_month_included  minutes_included  \\\n",
              "0  ultra               1000                   30.0              3000   \n",
              "1  ultra               1000                   30.0              3000   \n",
              "2  ultra               1000                   30.0              3000   \n",
              "3  ultra               1000                   30.0              3000   \n",
              "4  ultra               1000                   30.0              3000   \n",
              "\n",
              "   rub_monthly_fee  rub_per_gb  rub_per_message  rub_per_minute  cost_calls  \n",
              "0             1950         150                1               1     -2841.0  \n",
              "1             1950         150                1               1     -2828.0  \n",
              "2             1950         150                1               1     -2660.0  \n",
              "3             1950         150                1               1     -2592.0  \n",
              "4             1950         150                1               1     -2534.0  "
            ]
          },
          "execution_count": 66,
          "metadata": {},
          "output_type": "execute_result"
        }
      ],
      "source": [
        "# Стоимость потраченных минут\n",
        "all_data['cost_calls'] = (all_data['duration_sum'] - all_data['minutes_included'])*all_data['rub_per_minute']\n",
        "all_data.head()"
      ]
    },
    {
      "cell_type": "code",
      "execution_count": null,
      "metadata": {
        "id": "sPLb1-u8usJM",
        "outputId": "04de1ac2-4c89-4f16-b498-2a927da3ef4f"
      },
      "outputs": [
        {
          "data": {
            "text/html": [
              "<div>\n",
              "<style scoped>\n",
              "    .dataframe tbody tr th:only-of-type {\n",
              "        vertical-align: middle;\n",
              "    }\n",
              "\n",
              "    .dataframe tbody tr th {\n",
              "        vertical-align: top;\n",
              "    }\n",
              "\n",
              "    .dataframe thead th {\n",
              "        text-align: right;\n",
              "    }\n",
              "</style>\n",
              "<table border=\"1\" class=\"dataframe\">\n",
              "  <thead>\n",
              "    <tr style=\"text-align: right;\">\n",
              "      <th></th>\n",
              "      <th>user_id</th>\n",
              "      <th>month</th>\n",
              "      <th>duration_count</th>\n",
              "      <th>duration_sum</th>\n",
              "      <th>messages</th>\n",
              "      <th>gb_used</th>\n",
              "      <th>city</th>\n",
              "      <th>tariff</th>\n",
              "      <th>messages_included</th>\n",
              "      <th>gb_per_month_included</th>\n",
              "      <th>minutes_included</th>\n",
              "      <th>rub_monthly_fee</th>\n",
              "      <th>rub_per_gb</th>\n",
              "      <th>rub_per_message</th>\n",
              "      <th>rub_per_minute</th>\n",
              "      <th>cost_calls</th>\n",
              "      <th>cost_msg</th>\n",
              "    </tr>\n",
              "  </thead>\n",
              "  <tbody>\n",
              "    <tr>\n",
              "      <td>0</td>\n",
              "      <td>1000</td>\n",
              "      <td>5</td>\n",
              "      <td>22.0</td>\n",
              "      <td>159.0</td>\n",
              "      <td>22.0</td>\n",
              "      <td>3.0</td>\n",
              "      <td>Краснодар</td>\n",
              "      <td>ultra</td>\n",
              "      <td>1000</td>\n",
              "      <td>30.0</td>\n",
              "      <td>3000</td>\n",
              "      <td>1950</td>\n",
              "      <td>150</td>\n",
              "      <td>1</td>\n",
              "      <td>1</td>\n",
              "      <td>-2841.0</td>\n",
              "      <td>-978.0</td>\n",
              "    </tr>\n",
              "    <tr>\n",
              "      <td>1</td>\n",
              "      <td>1000</td>\n",
              "      <td>6</td>\n",
              "      <td>43.0</td>\n",
              "      <td>172.0</td>\n",
              "      <td>60.0</td>\n",
              "      <td>23.0</td>\n",
              "      <td>Краснодар</td>\n",
              "      <td>ultra</td>\n",
              "      <td>1000</td>\n",
              "      <td>30.0</td>\n",
              "      <td>3000</td>\n",
              "      <td>1950</td>\n",
              "      <td>150</td>\n",
              "      <td>1</td>\n",
              "      <td>1</td>\n",
              "      <td>-2828.0</td>\n",
              "      <td>-940.0</td>\n",
              "    </tr>\n",
              "    <tr>\n",
              "      <td>2</td>\n",
              "      <td>1000</td>\n",
              "      <td>7</td>\n",
              "      <td>47.0</td>\n",
              "      <td>340.0</td>\n",
              "      <td>75.0</td>\n",
              "      <td>14.0</td>\n",
              "      <td>Краснодар</td>\n",
              "      <td>ultra</td>\n",
              "      <td>1000</td>\n",
              "      <td>30.0</td>\n",
              "      <td>3000</td>\n",
              "      <td>1950</td>\n",
              "      <td>150</td>\n",
              "      <td>1</td>\n",
              "      <td>1</td>\n",
              "      <td>-2660.0</td>\n",
              "      <td>-925.0</td>\n",
              "    </tr>\n",
              "    <tr>\n",
              "      <td>3</td>\n",
              "      <td>1000</td>\n",
              "      <td>8</td>\n",
              "      <td>52.0</td>\n",
              "      <td>408.0</td>\n",
              "      <td>81.0</td>\n",
              "      <td>14.0</td>\n",
              "      <td>Краснодар</td>\n",
              "      <td>ultra</td>\n",
              "      <td>1000</td>\n",
              "      <td>30.0</td>\n",
              "      <td>3000</td>\n",
              "      <td>1950</td>\n",
              "      <td>150</td>\n",
              "      <td>1</td>\n",
              "      <td>1</td>\n",
              "      <td>-2592.0</td>\n",
              "      <td>-919.0</td>\n",
              "    </tr>\n",
              "    <tr>\n",
              "      <td>4</td>\n",
              "      <td>1000</td>\n",
              "      <td>9</td>\n",
              "      <td>58.0</td>\n",
              "      <td>466.0</td>\n",
              "      <td>57.0</td>\n",
              "      <td>15.0</td>\n",
              "      <td>Краснодар</td>\n",
              "      <td>ultra</td>\n",
              "      <td>1000</td>\n",
              "      <td>30.0</td>\n",
              "      <td>3000</td>\n",
              "      <td>1950</td>\n",
              "      <td>150</td>\n",
              "      <td>1</td>\n",
              "      <td>1</td>\n",
              "      <td>-2534.0</td>\n",
              "      <td>-943.0</td>\n",
              "    </tr>\n",
              "  </tbody>\n",
              "</table>\n",
              "</div>"
            ],
            "text/plain": [
              "   user_id  month  duration_count  duration_sum  messages  gb_used       city  \\\n",
              "0     1000      5            22.0         159.0      22.0      3.0  Краснодар   \n",
              "1     1000      6            43.0         172.0      60.0     23.0  Краснодар   \n",
              "2     1000      7            47.0         340.0      75.0     14.0  Краснодар   \n",
              "3     1000      8            52.0         408.0      81.0     14.0  Краснодар   \n",
              "4     1000      9            58.0         466.0      57.0     15.0  Краснодар   \n",
              "\n",
              "  tariff  messages_included  gb_per_month_included  minutes_included  \\\n",
              "0  ultra               1000                   30.0              3000   \n",
              "1  ultra               1000                   30.0              3000   \n",
              "2  ultra               1000                   30.0              3000   \n",
              "3  ultra               1000                   30.0              3000   \n",
              "4  ultra               1000                   30.0              3000   \n",
              "\n",
              "   rub_monthly_fee  rub_per_gb  rub_per_message  rub_per_minute  cost_calls  \\\n",
              "0             1950         150                1               1     -2841.0   \n",
              "1             1950         150                1               1     -2828.0   \n",
              "2             1950         150                1               1     -2660.0   \n",
              "3             1950         150                1               1     -2592.0   \n",
              "4             1950         150                1               1     -2534.0   \n",
              "\n",
              "   cost_msg  \n",
              "0    -978.0  \n",
              "1    -940.0  \n",
              "2    -925.0  \n",
              "3    -919.0  \n",
              "4    -943.0  "
            ]
          },
          "execution_count": 67,
          "metadata": {},
          "output_type": "execute_result"
        }
      ],
      "source": [
        "# Стоимость потраченных сообщений\n",
        "all_data['cost_msg'] = (all_data['messages'] - all_data['messages_included'])*all_data['rub_per_message']\n",
        "all_data.head()"
      ]
    },
    {
      "cell_type": "code",
      "execution_count": null,
      "metadata": {
        "scrolled": true,
        "id": "kgIfZ95RusJN",
        "outputId": "6023e800-4e59-457a-e1a5-afa8deff1115"
      },
      "outputs": [
        {
          "data": {
            "text/html": [
              "<div>\n",
              "<style scoped>\n",
              "    .dataframe tbody tr th:only-of-type {\n",
              "        vertical-align: middle;\n",
              "    }\n",
              "\n",
              "    .dataframe tbody tr th {\n",
              "        vertical-align: top;\n",
              "    }\n",
              "\n",
              "    .dataframe thead th {\n",
              "        text-align: right;\n",
              "    }\n",
              "</style>\n",
              "<table border=\"1\" class=\"dataframe\">\n",
              "  <thead>\n",
              "    <tr style=\"text-align: right;\">\n",
              "      <th></th>\n",
              "      <th>user_id</th>\n",
              "      <th>month</th>\n",
              "      <th>duration_count</th>\n",
              "      <th>duration_sum</th>\n",
              "      <th>messages</th>\n",
              "      <th>gb_used</th>\n",
              "      <th>city</th>\n",
              "      <th>tariff</th>\n",
              "      <th>messages_included</th>\n",
              "      <th>gb_per_month_included</th>\n",
              "      <th>minutes_included</th>\n",
              "      <th>rub_monthly_fee</th>\n",
              "      <th>rub_per_gb</th>\n",
              "      <th>rub_per_message</th>\n",
              "      <th>rub_per_minute</th>\n",
              "      <th>cost_calls</th>\n",
              "      <th>cost_msg</th>\n",
              "      <th>cost_gb</th>\n",
              "    </tr>\n",
              "  </thead>\n",
              "  <tbody>\n",
              "    <tr>\n",
              "      <td>0</td>\n",
              "      <td>1000</td>\n",
              "      <td>5</td>\n",
              "      <td>22.0</td>\n",
              "      <td>159.0</td>\n",
              "      <td>22.0</td>\n",
              "      <td>3.0</td>\n",
              "      <td>Краснодар</td>\n",
              "      <td>ultra</td>\n",
              "      <td>1000</td>\n",
              "      <td>30.0</td>\n",
              "      <td>3000</td>\n",
              "      <td>1950</td>\n",
              "      <td>150</td>\n",
              "      <td>1</td>\n",
              "      <td>1</td>\n",
              "      <td>-2841.0</td>\n",
              "      <td>-978.0</td>\n",
              "      <td>-4050.0</td>\n",
              "    </tr>\n",
              "    <tr>\n",
              "      <td>1</td>\n",
              "      <td>1000</td>\n",
              "      <td>6</td>\n",
              "      <td>43.0</td>\n",
              "      <td>172.0</td>\n",
              "      <td>60.0</td>\n",
              "      <td>23.0</td>\n",
              "      <td>Краснодар</td>\n",
              "      <td>ultra</td>\n",
              "      <td>1000</td>\n",
              "      <td>30.0</td>\n",
              "      <td>3000</td>\n",
              "      <td>1950</td>\n",
              "      <td>150</td>\n",
              "      <td>1</td>\n",
              "      <td>1</td>\n",
              "      <td>-2828.0</td>\n",
              "      <td>-940.0</td>\n",
              "      <td>-1050.0</td>\n",
              "    </tr>\n",
              "    <tr>\n",
              "      <td>2</td>\n",
              "      <td>1000</td>\n",
              "      <td>7</td>\n",
              "      <td>47.0</td>\n",
              "      <td>340.0</td>\n",
              "      <td>75.0</td>\n",
              "      <td>14.0</td>\n",
              "      <td>Краснодар</td>\n",
              "      <td>ultra</td>\n",
              "      <td>1000</td>\n",
              "      <td>30.0</td>\n",
              "      <td>3000</td>\n",
              "      <td>1950</td>\n",
              "      <td>150</td>\n",
              "      <td>1</td>\n",
              "      <td>1</td>\n",
              "      <td>-2660.0</td>\n",
              "      <td>-925.0</td>\n",
              "      <td>-2400.0</td>\n",
              "    </tr>\n",
              "    <tr>\n",
              "      <td>3</td>\n",
              "      <td>1000</td>\n",
              "      <td>8</td>\n",
              "      <td>52.0</td>\n",
              "      <td>408.0</td>\n",
              "      <td>81.0</td>\n",
              "      <td>14.0</td>\n",
              "      <td>Краснодар</td>\n",
              "      <td>ultra</td>\n",
              "      <td>1000</td>\n",
              "      <td>30.0</td>\n",
              "      <td>3000</td>\n",
              "      <td>1950</td>\n",
              "      <td>150</td>\n",
              "      <td>1</td>\n",
              "      <td>1</td>\n",
              "      <td>-2592.0</td>\n",
              "      <td>-919.0</td>\n",
              "      <td>-2400.0</td>\n",
              "    </tr>\n",
              "    <tr>\n",
              "      <td>4</td>\n",
              "      <td>1000</td>\n",
              "      <td>9</td>\n",
              "      <td>58.0</td>\n",
              "      <td>466.0</td>\n",
              "      <td>57.0</td>\n",
              "      <td>15.0</td>\n",
              "      <td>Краснодар</td>\n",
              "      <td>ultra</td>\n",
              "      <td>1000</td>\n",
              "      <td>30.0</td>\n",
              "      <td>3000</td>\n",
              "      <td>1950</td>\n",
              "      <td>150</td>\n",
              "      <td>1</td>\n",
              "      <td>1</td>\n",
              "      <td>-2534.0</td>\n",
              "      <td>-943.0</td>\n",
              "      <td>-2250.0</td>\n",
              "    </tr>\n",
              "  </tbody>\n",
              "</table>\n",
              "</div>"
            ],
            "text/plain": [
              "   user_id  month  duration_count  duration_sum  messages  gb_used       city  \\\n",
              "0     1000      5            22.0         159.0      22.0      3.0  Краснодар   \n",
              "1     1000      6            43.0         172.0      60.0     23.0  Краснодар   \n",
              "2     1000      7            47.0         340.0      75.0     14.0  Краснодар   \n",
              "3     1000      8            52.0         408.0      81.0     14.0  Краснодар   \n",
              "4     1000      9            58.0         466.0      57.0     15.0  Краснодар   \n",
              "\n",
              "  tariff  messages_included  gb_per_month_included  minutes_included  \\\n",
              "0  ultra               1000                   30.0              3000   \n",
              "1  ultra               1000                   30.0              3000   \n",
              "2  ultra               1000                   30.0              3000   \n",
              "3  ultra               1000                   30.0              3000   \n",
              "4  ultra               1000                   30.0              3000   \n",
              "\n",
              "   rub_monthly_fee  rub_per_gb  rub_per_message  rub_per_minute  cost_calls  \\\n",
              "0             1950         150                1               1     -2841.0   \n",
              "1             1950         150                1               1     -2828.0   \n",
              "2             1950         150                1               1     -2660.0   \n",
              "3             1950         150                1               1     -2592.0   \n",
              "4             1950         150                1               1     -2534.0   \n",
              "\n",
              "   cost_msg  cost_gb  \n",
              "0    -978.0  -4050.0  \n",
              "1    -940.0  -1050.0  \n",
              "2    -925.0  -2400.0  \n",
              "3    -919.0  -2400.0  \n",
              "4    -943.0  -2250.0  "
            ]
          },
          "execution_count": 68,
          "metadata": {},
          "output_type": "execute_result"
        }
      ],
      "source": [
        "# Стоимость потраченных мегабайт\n",
        "all_data['cost_gb'] = (all_data['gb_used'] - all_data['gb_per_month_included'])  * all_data['rub_per_gb']\n",
        "all_data.head()"
      ]
    },
    {
      "cell_type": "markdown",
      "metadata": {
        "id": "er--vjz2usJP"
      },
      "source": [
        "Полученные отрицательные значения означают, что клиент не воспользовался услугой и следовательно не понес дополнительных расходов, поэтому заменим данные значения на ноль."
      ]
    },
    {
      "cell_type": "code",
      "execution_count": null,
      "metadata": {
        "id": "B-d7BKFcusJQ",
        "outputId": "a758b762-2b43-4fb0-8e91-e60163c6ba14"
      },
      "outputs": [
        {
          "data": {
            "text/html": [
              "<div>\n",
              "<style scoped>\n",
              "    .dataframe tbody tr th:only-of-type {\n",
              "        vertical-align: middle;\n",
              "    }\n",
              "\n",
              "    .dataframe tbody tr th {\n",
              "        vertical-align: top;\n",
              "    }\n",
              "\n",
              "    .dataframe thead th {\n",
              "        text-align: right;\n",
              "    }\n",
              "</style>\n",
              "<table border=\"1\" class=\"dataframe\">\n",
              "  <thead>\n",
              "    <tr style=\"text-align: right;\">\n",
              "      <th></th>\n",
              "      <th>user_id</th>\n",
              "      <th>month</th>\n",
              "      <th>duration_count</th>\n",
              "      <th>duration_sum</th>\n",
              "      <th>messages</th>\n",
              "      <th>gb_used</th>\n",
              "      <th>city</th>\n",
              "      <th>tariff</th>\n",
              "      <th>messages_included</th>\n",
              "      <th>gb_per_month_included</th>\n",
              "      <th>minutes_included</th>\n",
              "      <th>rub_monthly_fee</th>\n",
              "      <th>rub_per_gb</th>\n",
              "      <th>rub_per_message</th>\n",
              "      <th>rub_per_minute</th>\n",
              "      <th>cost_calls</th>\n",
              "      <th>cost_msg</th>\n",
              "      <th>cost_gb</th>\n",
              "    </tr>\n",
              "  </thead>\n",
              "  <tbody>\n",
              "    <tr>\n",
              "      <td>0</td>\n",
              "      <td>1000</td>\n",
              "      <td>5</td>\n",
              "      <td>22.0</td>\n",
              "      <td>159.0</td>\n",
              "      <td>22.0</td>\n",
              "      <td>3.0</td>\n",
              "      <td>Краснодар</td>\n",
              "      <td>ultra</td>\n",
              "      <td>1000</td>\n",
              "      <td>30.0</td>\n",
              "      <td>3000</td>\n",
              "      <td>1950</td>\n",
              "      <td>150</td>\n",
              "      <td>1</td>\n",
              "      <td>1</td>\n",
              "      <td>0.0</td>\n",
              "      <td>0.0</td>\n",
              "      <td>0.0</td>\n",
              "    </tr>\n",
              "    <tr>\n",
              "      <td>1</td>\n",
              "      <td>1000</td>\n",
              "      <td>6</td>\n",
              "      <td>43.0</td>\n",
              "      <td>172.0</td>\n",
              "      <td>60.0</td>\n",
              "      <td>23.0</td>\n",
              "      <td>Краснодар</td>\n",
              "      <td>ultra</td>\n",
              "      <td>1000</td>\n",
              "      <td>30.0</td>\n",
              "      <td>3000</td>\n",
              "      <td>1950</td>\n",
              "      <td>150</td>\n",
              "      <td>1</td>\n",
              "      <td>1</td>\n",
              "      <td>0.0</td>\n",
              "      <td>0.0</td>\n",
              "      <td>0.0</td>\n",
              "    </tr>\n",
              "    <tr>\n",
              "      <td>2</td>\n",
              "      <td>1000</td>\n",
              "      <td>7</td>\n",
              "      <td>47.0</td>\n",
              "      <td>340.0</td>\n",
              "      <td>75.0</td>\n",
              "      <td>14.0</td>\n",
              "      <td>Краснодар</td>\n",
              "      <td>ultra</td>\n",
              "      <td>1000</td>\n",
              "      <td>30.0</td>\n",
              "      <td>3000</td>\n",
              "      <td>1950</td>\n",
              "      <td>150</td>\n",
              "      <td>1</td>\n",
              "      <td>1</td>\n",
              "      <td>0.0</td>\n",
              "      <td>0.0</td>\n",
              "      <td>0.0</td>\n",
              "    </tr>\n",
              "    <tr>\n",
              "      <td>3</td>\n",
              "      <td>1000</td>\n",
              "      <td>8</td>\n",
              "      <td>52.0</td>\n",
              "      <td>408.0</td>\n",
              "      <td>81.0</td>\n",
              "      <td>14.0</td>\n",
              "      <td>Краснодар</td>\n",
              "      <td>ultra</td>\n",
              "      <td>1000</td>\n",
              "      <td>30.0</td>\n",
              "      <td>3000</td>\n",
              "      <td>1950</td>\n",
              "      <td>150</td>\n",
              "      <td>1</td>\n",
              "      <td>1</td>\n",
              "      <td>0.0</td>\n",
              "      <td>0.0</td>\n",
              "      <td>0.0</td>\n",
              "    </tr>\n",
              "    <tr>\n",
              "      <td>4</td>\n",
              "      <td>1000</td>\n",
              "      <td>9</td>\n",
              "      <td>58.0</td>\n",
              "      <td>466.0</td>\n",
              "      <td>57.0</td>\n",
              "      <td>15.0</td>\n",
              "      <td>Краснодар</td>\n",
              "      <td>ultra</td>\n",
              "      <td>1000</td>\n",
              "      <td>30.0</td>\n",
              "      <td>3000</td>\n",
              "      <td>1950</td>\n",
              "      <td>150</td>\n",
              "      <td>1</td>\n",
              "      <td>1</td>\n",
              "      <td>0.0</td>\n",
              "      <td>0.0</td>\n",
              "      <td>0.0</td>\n",
              "    </tr>\n",
              "  </tbody>\n",
              "</table>\n",
              "</div>"
            ],
            "text/plain": [
              "   user_id  month  duration_count  duration_sum  messages  gb_used       city  \\\n",
              "0     1000      5            22.0         159.0      22.0      3.0  Краснодар   \n",
              "1     1000      6            43.0         172.0      60.0     23.0  Краснодар   \n",
              "2     1000      7            47.0         340.0      75.0     14.0  Краснодар   \n",
              "3     1000      8            52.0         408.0      81.0     14.0  Краснодар   \n",
              "4     1000      9            58.0         466.0      57.0     15.0  Краснодар   \n",
              "\n",
              "  tariff  messages_included  gb_per_month_included  minutes_included  \\\n",
              "0  ultra               1000                   30.0              3000   \n",
              "1  ultra               1000                   30.0              3000   \n",
              "2  ultra               1000                   30.0              3000   \n",
              "3  ultra               1000                   30.0              3000   \n",
              "4  ultra               1000                   30.0              3000   \n",
              "\n",
              "   rub_monthly_fee  rub_per_gb  rub_per_message  rub_per_minute  cost_calls  \\\n",
              "0             1950         150                1               1         0.0   \n",
              "1             1950         150                1               1         0.0   \n",
              "2             1950         150                1               1         0.0   \n",
              "3             1950         150                1               1         0.0   \n",
              "4             1950         150                1               1         0.0   \n",
              "\n",
              "   cost_msg  cost_gb  \n",
              "0       0.0      0.0  \n",
              "1       0.0      0.0  \n",
              "2       0.0      0.0  \n",
              "3       0.0      0.0  \n",
              "4       0.0      0.0  "
            ]
          },
          "execution_count": 69,
          "metadata": {},
          "output_type": "execute_result"
        }
      ],
      "source": [
        "num_to_null = all_data._get_numeric_data()\n",
        "num_to_null[num_to_null < 0] = 0\n",
        "all_data.head()"
      ]
    },
    {
      "cell_type": "markdown",
      "metadata": {
        "id": "mjJBlA1PusJR"
      },
      "source": [
        "<div class=\"alert alert-success\">\n",
        "<font size=\"5\"<b>Комментарий ревьюера</b> </font>\n",
        "    \n",
        "**Успех**\n",
        "\n",
        "Молодец, что не упустила этот момент\n",
        "    \n",
        "</div>"
      ]
    },
    {
      "cell_type": "code",
      "execution_count": null,
      "metadata": {
        "id": "hiiZLL36usJS",
        "outputId": "b23cd0fa-c59e-414a-e0e4-3b479ace9c63"
      },
      "outputs": [
        {
          "data": {
            "text/html": [
              "<div>\n",
              "<style scoped>\n",
              "    .dataframe tbody tr th:only-of-type {\n",
              "        vertical-align: middle;\n",
              "    }\n",
              "\n",
              "    .dataframe tbody tr th {\n",
              "        vertical-align: top;\n",
              "    }\n",
              "\n",
              "    .dataframe thead th {\n",
              "        text-align: right;\n",
              "    }\n",
              "</style>\n",
              "<table border=\"1\" class=\"dataframe\">\n",
              "  <thead>\n",
              "    <tr style=\"text-align: right;\">\n",
              "      <th></th>\n",
              "      <th>user_id</th>\n",
              "      <th>month</th>\n",
              "      <th>duration_count</th>\n",
              "      <th>duration_sum</th>\n",
              "      <th>messages</th>\n",
              "      <th>gb_used</th>\n",
              "      <th>city</th>\n",
              "      <th>tariff</th>\n",
              "      <th>messages_included</th>\n",
              "      <th>gb_per_month_included</th>\n",
              "      <th>minutes_included</th>\n",
              "      <th>rub_monthly_fee</th>\n",
              "      <th>rub_per_gb</th>\n",
              "      <th>rub_per_message</th>\n",
              "      <th>rub_per_minute</th>\n",
              "      <th>cost_calls</th>\n",
              "      <th>cost_msg</th>\n",
              "      <th>cost_gb</th>\n",
              "      <th>revenue</th>\n",
              "    </tr>\n",
              "  </thead>\n",
              "  <tbody>\n",
              "    <tr>\n",
              "      <td>3184</td>\n",
              "      <td>1106</td>\n",
              "      <td>6</td>\n",
              "      <td>0.0</td>\n",
              "      <td>0.0</td>\n",
              "      <td>30.0</td>\n",
              "      <td>20.0</td>\n",
              "      <td>Калуга</td>\n",
              "      <td>ultra</td>\n",
              "      <td>1000</td>\n",
              "      <td>30.0</td>\n",
              "      <td>3000</td>\n",
              "      <td>1950</td>\n",
              "      <td>150</td>\n",
              "      <td>1</td>\n",
              "      <td>1</td>\n",
              "      <td>0.0</td>\n",
              "      <td>0.0</td>\n",
              "      <td>0.0</td>\n",
              "      <td>1950.0</td>\n",
              "    </tr>\n",
              "    <tr>\n",
              "      <td>3185</td>\n",
              "      <td>1106</td>\n",
              "      <td>7</td>\n",
              "      <td>0.0</td>\n",
              "      <td>0.0</td>\n",
              "      <td>24.0</td>\n",
              "      <td>22.0</td>\n",
              "      <td>Калуга</td>\n",
              "      <td>ultra</td>\n",
              "      <td>1000</td>\n",
              "      <td>30.0</td>\n",
              "      <td>3000</td>\n",
              "      <td>1950</td>\n",
              "      <td>150</td>\n",
              "      <td>1</td>\n",
              "      <td>1</td>\n",
              "      <td>0.0</td>\n",
              "      <td>0.0</td>\n",
              "      <td>0.0</td>\n",
              "      <td>1950.0</td>\n",
              "    </tr>\n",
              "    <tr>\n",
              "      <td>3186</td>\n",
              "      <td>1106</td>\n",
              "      <td>8</td>\n",
              "      <td>0.0</td>\n",
              "      <td>0.0</td>\n",
              "      <td>25.0</td>\n",
              "      <td>19.0</td>\n",
              "      <td>Калуга</td>\n",
              "      <td>ultra</td>\n",
              "      <td>1000</td>\n",
              "      <td>30.0</td>\n",
              "      <td>3000</td>\n",
              "      <td>1950</td>\n",
              "      <td>150</td>\n",
              "      <td>1</td>\n",
              "      <td>1</td>\n",
              "      <td>0.0</td>\n",
              "      <td>0.0</td>\n",
              "      <td>0.0</td>\n",
              "      <td>1950.0</td>\n",
              "    </tr>\n",
              "    <tr>\n",
              "      <td>3187</td>\n",
              "      <td>1106</td>\n",
              "      <td>9</td>\n",
              "      <td>0.0</td>\n",
              "      <td>0.0</td>\n",
              "      <td>23.0</td>\n",
              "      <td>22.0</td>\n",
              "      <td>Калуга</td>\n",
              "      <td>ultra</td>\n",
              "      <td>1000</td>\n",
              "      <td>30.0</td>\n",
              "      <td>3000</td>\n",
              "      <td>1950</td>\n",
              "      <td>150</td>\n",
              "      <td>1</td>\n",
              "      <td>1</td>\n",
              "      <td>0.0</td>\n",
              "      <td>0.0</td>\n",
              "      <td>0.0</td>\n",
              "      <td>1950.0</td>\n",
              "    </tr>\n",
              "    <tr>\n",
              "      <td>3188</td>\n",
              "      <td>1106</td>\n",
              "      <td>10</td>\n",
              "      <td>0.0</td>\n",
              "      <td>0.0</td>\n",
              "      <td>33.0</td>\n",
              "      <td>14.0</td>\n",
              "      <td>Калуга</td>\n",
              "      <td>ultra</td>\n",
              "      <td>1000</td>\n",
              "      <td>30.0</td>\n",
              "      <td>3000</td>\n",
              "      <td>1950</td>\n",
              "      <td>150</td>\n",
              "      <td>1</td>\n",
              "      <td>1</td>\n",
              "      <td>0.0</td>\n",
              "      <td>0.0</td>\n",
              "      <td>0.0</td>\n",
              "      <td>1950.0</td>\n",
              "    </tr>\n",
              "    <tr>\n",
              "      <td>3189</td>\n",
              "      <td>1106</td>\n",
              "      <td>11</td>\n",
              "      <td>0.0</td>\n",
              "      <td>0.0</td>\n",
              "      <td>29.0</td>\n",
              "      <td>21.0</td>\n",
              "      <td>Калуга</td>\n",
              "      <td>ultra</td>\n",
              "      <td>1000</td>\n",
              "      <td>30.0</td>\n",
              "      <td>3000</td>\n",
              "      <td>1950</td>\n",
              "      <td>150</td>\n",
              "      <td>1</td>\n",
              "      <td>1</td>\n",
              "      <td>0.0</td>\n",
              "      <td>0.0</td>\n",
              "      <td>0.0</td>\n",
              "      <td>1950.0</td>\n",
              "    </tr>\n",
              "    <tr>\n",
              "      <td>3190</td>\n",
              "      <td>1106</td>\n",
              "      <td>12</td>\n",
              "      <td>0.0</td>\n",
              "      <td>0.0</td>\n",
              "      <td>24.0</td>\n",
              "      <td>19.0</td>\n",
              "      <td>Калуга</td>\n",
              "      <td>ultra</td>\n",
              "      <td>1000</td>\n",
              "      <td>30.0</td>\n",
              "      <td>3000</td>\n",
              "      <td>1950</td>\n",
              "      <td>150</td>\n",
              "      <td>1</td>\n",
              "      <td>1</td>\n",
              "      <td>0.0</td>\n",
              "      <td>0.0</td>\n",
              "      <td>0.0</td>\n",
              "      <td>1950.0</td>\n",
              "    </tr>\n",
              "    <tr>\n",
              "      <td>3191</td>\n",
              "      <td>1231</td>\n",
              "      <td>5</td>\n",
              "      <td>0.0</td>\n",
              "      <td>0.0</td>\n",
              "      <td>55.0</td>\n",
              "      <td>11.0</td>\n",
              "      <td>Чебоксары</td>\n",
              "      <td>ultra</td>\n",
              "      <td>1000</td>\n",
              "      <td>30.0</td>\n",
              "      <td>3000</td>\n",
              "      <td>1950</td>\n",
              "      <td>150</td>\n",
              "      <td>1</td>\n",
              "      <td>1</td>\n",
              "      <td>0.0</td>\n",
              "      <td>0.0</td>\n",
              "      <td>0.0</td>\n",
              "      <td>1950.0</td>\n",
              "    </tr>\n",
              "    <tr>\n",
              "      <td>3192</td>\n",
              "      <td>1231</td>\n",
              "      <td>6</td>\n",
              "      <td>0.0</td>\n",
              "      <td>0.0</td>\n",
              "      <td>201.0</td>\n",
              "      <td>28.0</td>\n",
              "      <td>Чебоксары</td>\n",
              "      <td>ultra</td>\n",
              "      <td>1000</td>\n",
              "      <td>30.0</td>\n",
              "      <td>3000</td>\n",
              "      <td>1950</td>\n",
              "      <td>150</td>\n",
              "      <td>1</td>\n",
              "      <td>1</td>\n",
              "      <td>0.0</td>\n",
              "      <td>0.0</td>\n",
              "      <td>0.0</td>\n",
              "      <td>1950.0</td>\n",
              "    </tr>\n",
              "    <tr>\n",
              "      <td>3193</td>\n",
              "      <td>1231</td>\n",
              "      <td>7</td>\n",
              "      <td>0.0</td>\n",
              "      <td>0.0</td>\n",
              "      <td>211.0</td>\n",
              "      <td>28.0</td>\n",
              "      <td>Чебоксары</td>\n",
              "      <td>ultra</td>\n",
              "      <td>1000</td>\n",
              "      <td>30.0</td>\n",
              "      <td>3000</td>\n",
              "      <td>1950</td>\n",
              "      <td>150</td>\n",
              "      <td>1</td>\n",
              "      <td>1</td>\n",
              "      <td>0.0</td>\n",
              "      <td>0.0</td>\n",
              "      <td>0.0</td>\n",
              "      <td>1950.0</td>\n",
              "    </tr>\n",
              "    <tr>\n",
              "      <td>3194</td>\n",
              "      <td>1231</td>\n",
              "      <td>8</td>\n",
              "      <td>0.0</td>\n",
              "      <td>0.0</td>\n",
              "      <td>180.0</td>\n",
              "      <td>32.0</td>\n",
              "      <td>Чебоксары</td>\n",
              "      <td>ultra</td>\n",
              "      <td>1000</td>\n",
              "      <td>30.0</td>\n",
              "      <td>3000</td>\n",
              "      <td>1950</td>\n",
              "      <td>150</td>\n",
              "      <td>1</td>\n",
              "      <td>1</td>\n",
              "      <td>0.0</td>\n",
              "      <td>0.0</td>\n",
              "      <td>300.0</td>\n",
              "      <td>2250.0</td>\n",
              "    </tr>\n",
              "    <tr>\n",
              "      <td>3195</td>\n",
              "      <td>1231</td>\n",
              "      <td>9</td>\n",
              "      <td>0.0</td>\n",
              "      <td>0.0</td>\n",
              "      <td>188.0</td>\n",
              "      <td>33.0</td>\n",
              "      <td>Чебоксары</td>\n",
              "      <td>ultra</td>\n",
              "      <td>1000</td>\n",
              "      <td>30.0</td>\n",
              "      <td>3000</td>\n",
              "      <td>1950</td>\n",
              "      <td>150</td>\n",
              "      <td>1</td>\n",
              "      <td>1</td>\n",
              "      <td>0.0</td>\n",
              "      <td>0.0</td>\n",
              "      <td>450.0</td>\n",
              "      <td>2400.0</td>\n",
              "    </tr>\n",
              "    <tr>\n",
              "      <td>3196</td>\n",
              "      <td>1231</td>\n",
              "      <td>10</td>\n",
              "      <td>0.0</td>\n",
              "      <td>0.0</td>\n",
              "      <td>185.0</td>\n",
              "      <td>31.0</td>\n",
              "      <td>Чебоксары</td>\n",
              "      <td>ultra</td>\n",
              "      <td>1000</td>\n",
              "      <td>30.0</td>\n",
              "      <td>3000</td>\n",
              "      <td>1950</td>\n",
              "      <td>150</td>\n",
              "      <td>1</td>\n",
              "      <td>1</td>\n",
              "      <td>0.0</td>\n",
              "      <td>0.0</td>\n",
              "      <td>150.0</td>\n",
              "      <td>2100.0</td>\n",
              "    </tr>\n",
              "    <tr>\n",
              "      <td>3197</td>\n",
              "      <td>1231</td>\n",
              "      <td>11</td>\n",
              "      <td>0.0</td>\n",
              "      <td>0.0</td>\n",
              "      <td>173.0</td>\n",
              "      <td>27.0</td>\n",
              "      <td>Чебоксары</td>\n",
              "      <td>ultra</td>\n",
              "      <td>1000</td>\n",
              "      <td>30.0</td>\n",
              "      <td>3000</td>\n",
              "      <td>1950</td>\n",
              "      <td>150</td>\n",
              "      <td>1</td>\n",
              "      <td>1</td>\n",
              "      <td>0.0</td>\n",
              "      <td>0.0</td>\n",
              "      <td>0.0</td>\n",
              "      <td>1950.0</td>\n",
              "    </tr>\n",
              "    <tr>\n",
              "      <td>3198</td>\n",
              "      <td>1231</td>\n",
              "      <td>12</td>\n",
              "      <td>0.0</td>\n",
              "      <td>0.0</td>\n",
              "      <td>191.0</td>\n",
              "      <td>32.0</td>\n",
              "      <td>Чебоксары</td>\n",
              "      <td>ultra</td>\n",
              "      <td>1000</td>\n",
              "      <td>30.0</td>\n",
              "      <td>3000</td>\n",
              "      <td>1950</td>\n",
              "      <td>150</td>\n",
              "      <td>1</td>\n",
              "      <td>1</td>\n",
              "      <td>0.0</td>\n",
              "      <td>0.0</td>\n",
              "      <td>300.0</td>\n",
              "      <td>2250.0</td>\n",
              "    </tr>\n",
              "    <tr>\n",
              "      <td>3199</td>\n",
              "      <td>1328</td>\n",
              "      <td>10</td>\n",
              "      <td>0.0</td>\n",
              "      <td>0.0</td>\n",
              "      <td>6.0</td>\n",
              "      <td>22.0</td>\n",
              "      <td>Мурманск</td>\n",
              "      <td>ultra</td>\n",
              "      <td>1000</td>\n",
              "      <td>30.0</td>\n",
              "      <td>3000</td>\n",
              "      <td>1950</td>\n",
              "      <td>150</td>\n",
              "      <td>1</td>\n",
              "      <td>1</td>\n",
              "      <td>0.0</td>\n",
              "      <td>0.0</td>\n",
              "      <td>0.0</td>\n",
              "      <td>1950.0</td>\n",
              "    </tr>\n",
              "    <tr>\n",
              "      <td>3200</td>\n",
              "      <td>1328</td>\n",
              "      <td>11</td>\n",
              "      <td>0.0</td>\n",
              "      <td>0.0</td>\n",
              "      <td>8.0</td>\n",
              "      <td>35.0</td>\n",
              "      <td>Мурманск</td>\n",
              "      <td>ultra</td>\n",
              "      <td>1000</td>\n",
              "      <td>30.0</td>\n",
              "      <td>3000</td>\n",
              "      <td>1950</td>\n",
              "      <td>150</td>\n",
              "      <td>1</td>\n",
              "      <td>1</td>\n",
              "      <td>0.0</td>\n",
              "      <td>0.0</td>\n",
              "      <td>750.0</td>\n",
              "      <td>2700.0</td>\n",
              "    </tr>\n",
              "    <tr>\n",
              "      <td>3201</td>\n",
              "      <td>1328</td>\n",
              "      <td>12</td>\n",
              "      <td>0.0</td>\n",
              "      <td>0.0</td>\n",
              "      <td>7.0</td>\n",
              "      <td>39.0</td>\n",
              "      <td>Мурманск</td>\n",
              "      <td>ultra</td>\n",
              "      <td>1000</td>\n",
              "      <td>30.0</td>\n",
              "      <td>3000</td>\n",
              "      <td>1950</td>\n",
              "      <td>150</td>\n",
              "      <td>1</td>\n",
              "      <td>1</td>\n",
              "      <td>0.0</td>\n",
              "      <td>0.0</td>\n",
              "      <td>1350.0</td>\n",
              "      <td>3300.0</td>\n",
              "    </tr>\n",
              "    <tr>\n",
              "      <td>3202</td>\n",
              "      <td>1373</td>\n",
              "      <td>6</td>\n",
              "      <td>0.0</td>\n",
              "      <td>0.0</td>\n",
              "      <td>48.0</td>\n",
              "      <td>13.0</td>\n",
              "      <td>Улан-Удэ</td>\n",
              "      <td>smart</td>\n",
              "      <td>50</td>\n",
              "      <td>15.0</td>\n",
              "      <td>500</td>\n",
              "      <td>550</td>\n",
              "      <td>200</td>\n",
              "      <td>3</td>\n",
              "      <td>3</td>\n",
              "      <td>0.0</td>\n",
              "      <td>0.0</td>\n",
              "      <td>0.0</td>\n",
              "      <td>550.0</td>\n",
              "    </tr>\n",
              "    <tr>\n",
              "      <td>3203</td>\n",
              "      <td>1473</td>\n",
              "      <td>8</td>\n",
              "      <td>0.0</td>\n",
              "      <td>0.0</td>\n",
              "      <td>17.0</td>\n",
              "      <td>13.0</td>\n",
              "      <td>Красноярск</td>\n",
              "      <td>ultra</td>\n",
              "      <td>1000</td>\n",
              "      <td>30.0</td>\n",
              "      <td>3000</td>\n",
              "      <td>1950</td>\n",
              "      <td>150</td>\n",
              "      <td>1</td>\n",
              "      <td>1</td>\n",
              "      <td>0.0</td>\n",
              "      <td>0.0</td>\n",
              "      <td>0.0</td>\n",
              "      <td>1950.0</td>\n",
              "    </tr>\n",
              "    <tr>\n",
              "      <td>3204</td>\n",
              "      <td>1473</td>\n",
              "      <td>9</td>\n",
              "      <td>0.0</td>\n",
              "      <td>0.0</td>\n",
              "      <td>19.0</td>\n",
              "      <td>17.0</td>\n",
              "      <td>Красноярск</td>\n",
              "      <td>ultra</td>\n",
              "      <td>1000</td>\n",
              "      <td>30.0</td>\n",
              "      <td>3000</td>\n",
              "      <td>1950</td>\n",
              "      <td>150</td>\n",
              "      <td>1</td>\n",
              "      <td>1</td>\n",
              "      <td>0.0</td>\n",
              "      <td>0.0</td>\n",
              "      <td>0.0</td>\n",
              "      <td>1950.0</td>\n",
              "    </tr>\n",
              "    <tr>\n",
              "      <td>3205</td>\n",
              "      <td>1473</td>\n",
              "      <td>10</td>\n",
              "      <td>0.0</td>\n",
              "      <td>0.0</td>\n",
              "      <td>20.0</td>\n",
              "      <td>14.0</td>\n",
              "      <td>Красноярск</td>\n",
              "      <td>ultra</td>\n",
              "      <td>1000</td>\n",
              "      <td>30.0</td>\n",
              "      <td>3000</td>\n",
              "      <td>1950</td>\n",
              "      <td>150</td>\n",
              "      <td>1</td>\n",
              "      <td>1</td>\n",
              "      <td>0.0</td>\n",
              "      <td>0.0</td>\n",
              "      <td>0.0</td>\n",
              "      <td>1950.0</td>\n",
              "    </tr>\n",
              "    <tr>\n",
              "      <td>3206</td>\n",
              "      <td>1473</td>\n",
              "      <td>11</td>\n",
              "      <td>0.0</td>\n",
              "      <td>0.0</td>\n",
              "      <td>14.0</td>\n",
              "      <td>22.0</td>\n",
              "      <td>Красноярск</td>\n",
              "      <td>ultra</td>\n",
              "      <td>1000</td>\n",
              "      <td>30.0</td>\n",
              "      <td>3000</td>\n",
              "      <td>1950</td>\n",
              "      <td>150</td>\n",
              "      <td>1</td>\n",
              "      <td>1</td>\n",
              "      <td>0.0</td>\n",
              "      <td>0.0</td>\n",
              "      <td>0.0</td>\n",
              "      <td>1950.0</td>\n",
              "    </tr>\n",
              "    <tr>\n",
              "      <td>3207</td>\n",
              "      <td>1473</td>\n",
              "      <td>12</td>\n",
              "      <td>0.0</td>\n",
              "      <td>0.0</td>\n",
              "      <td>20.0</td>\n",
              "      <td>18.0</td>\n",
              "      <td>Красноярск</td>\n",
              "      <td>ultra</td>\n",
              "      <td>1000</td>\n",
              "      <td>30.0</td>\n",
              "      <td>3000</td>\n",
              "      <td>1950</td>\n",
              "      <td>150</td>\n",
              "      <td>1</td>\n",
              "      <td>1</td>\n",
              "      <td>0.0</td>\n",
              "      <td>0.0</td>\n",
              "      <td>0.0</td>\n",
              "      <td>1950.0</td>\n",
              "    </tr>\n",
              "    <tr>\n",
              "      <td>3208</td>\n",
              "      <td>1489</td>\n",
              "      <td>8</td>\n",
              "      <td>0.0</td>\n",
              "      <td>0.0</td>\n",
              "      <td>17.0</td>\n",
              "      <td>11.0</td>\n",
              "      <td>Санкт-Петербург</td>\n",
              "      <td>smart</td>\n",
              "      <td>50</td>\n",
              "      <td>15.0</td>\n",
              "      <td>500</td>\n",
              "      <td>550</td>\n",
              "      <td>200</td>\n",
              "      <td>3</td>\n",
              "      <td>3</td>\n",
              "      <td>0.0</td>\n",
              "      <td>0.0</td>\n",
              "      <td>0.0</td>\n",
              "      <td>550.0</td>\n",
              "    </tr>\n",
              "    <tr>\n",
              "      <td>3209</td>\n",
              "      <td>1489</td>\n",
              "      <td>9</td>\n",
              "      <td>0.0</td>\n",
              "      <td>0.0</td>\n",
              "      <td>32.0</td>\n",
              "      <td>17.0</td>\n",
              "      <td>Санкт-Петербург</td>\n",
              "      <td>smart</td>\n",
              "      <td>50</td>\n",
              "      <td>15.0</td>\n",
              "      <td>500</td>\n",
              "      <td>550</td>\n",
              "      <td>200</td>\n",
              "      <td>3</td>\n",
              "      <td>3</td>\n",
              "      <td>0.0</td>\n",
              "      <td>0.0</td>\n",
              "      <td>400.0</td>\n",
              "      <td>950.0</td>\n",
              "    </tr>\n",
              "    <tr>\n",
              "      <td>3210</td>\n",
              "      <td>1489</td>\n",
              "      <td>10</td>\n",
              "      <td>0.0</td>\n",
              "      <td>0.0</td>\n",
              "      <td>21.0</td>\n",
              "      <td>20.0</td>\n",
              "      <td>Санкт-Петербург</td>\n",
              "      <td>smart</td>\n",
              "      <td>50</td>\n",
              "      <td>15.0</td>\n",
              "      <td>500</td>\n",
              "      <td>550</td>\n",
              "      <td>200</td>\n",
              "      <td>3</td>\n",
              "      <td>3</td>\n",
              "      <td>0.0</td>\n",
              "      <td>0.0</td>\n",
              "      <td>1000.0</td>\n",
              "      <td>1550.0</td>\n",
              "    </tr>\n",
              "    <tr>\n",
              "      <td>3211</td>\n",
              "      <td>1489</td>\n",
              "      <td>11</td>\n",
              "      <td>0.0</td>\n",
              "      <td>0.0</td>\n",
              "      <td>20.0</td>\n",
              "      <td>18.0</td>\n",
              "      <td>Санкт-Петербург</td>\n",
              "      <td>smart</td>\n",
              "      <td>50</td>\n",
              "      <td>15.0</td>\n",
              "      <td>500</td>\n",
              "      <td>550</td>\n",
              "      <td>200</td>\n",
              "      <td>3</td>\n",
              "      <td>3</td>\n",
              "      <td>0.0</td>\n",
              "      <td>0.0</td>\n",
              "      <td>600.0</td>\n",
              "      <td>1150.0</td>\n",
              "    </tr>\n",
              "    <tr>\n",
              "      <td>3212</td>\n",
              "      <td>1489</td>\n",
              "      <td>12</td>\n",
              "      <td>0.0</td>\n",
              "      <td>0.0</td>\n",
              "      <td>35.0</td>\n",
              "      <td>17.0</td>\n",
              "      <td>Санкт-Петербург</td>\n",
              "      <td>smart</td>\n",
              "      <td>50</td>\n",
              "      <td>15.0</td>\n",
              "      <td>500</td>\n",
              "      <td>550</td>\n",
              "      <td>200</td>\n",
              "      <td>3</td>\n",
              "      <td>3</td>\n",
              "      <td>0.0</td>\n",
              "      <td>0.0</td>\n",
              "      <td>400.0</td>\n",
              "      <td>950.0</td>\n",
              "    </tr>\n",
              "    <tr>\n",
              "      <td>3213</td>\n",
              "      <td>1476</td>\n",
              "      <td>4</td>\n",
              "      <td>0.0</td>\n",
              "      <td>0.0</td>\n",
              "      <td>0.0</td>\n",
              "      <td>1.0</td>\n",
              "      <td>Москва</td>\n",
              "      <td>ultra</td>\n",
              "      <td>1000</td>\n",
              "      <td>30.0</td>\n",
              "      <td>3000</td>\n",
              "      <td>1950</td>\n",
              "      <td>150</td>\n",
              "      <td>1</td>\n",
              "      <td>1</td>\n",
              "      <td>0.0</td>\n",
              "      <td>0.0</td>\n",
              "      <td>0.0</td>\n",
              "      <td>1950.0</td>\n",
              "    </tr>\n",
              "  </tbody>\n",
              "</table>\n",
              "</div>"
            ],
            "text/plain": [
              "      user_id  month  duration_count  duration_sum  messages  gb_used  \\\n",
              "3184     1106      6             0.0           0.0      30.0     20.0   \n",
              "3185     1106      7             0.0           0.0      24.0     22.0   \n",
              "3186     1106      8             0.0           0.0      25.0     19.0   \n",
              "3187     1106      9             0.0           0.0      23.0     22.0   \n",
              "3188     1106     10             0.0           0.0      33.0     14.0   \n",
              "3189     1106     11             0.0           0.0      29.0     21.0   \n",
              "3190     1106     12             0.0           0.0      24.0     19.0   \n",
              "3191     1231      5             0.0           0.0      55.0     11.0   \n",
              "3192     1231      6             0.0           0.0     201.0     28.0   \n",
              "3193     1231      7             0.0           0.0     211.0     28.0   \n",
              "3194     1231      8             0.0           0.0     180.0     32.0   \n",
              "3195     1231      9             0.0           0.0     188.0     33.0   \n",
              "3196     1231     10             0.0           0.0     185.0     31.0   \n",
              "3197     1231     11             0.0           0.0     173.0     27.0   \n",
              "3198     1231     12             0.0           0.0     191.0     32.0   \n",
              "3199     1328     10             0.0           0.0       6.0     22.0   \n",
              "3200     1328     11             0.0           0.0       8.0     35.0   \n",
              "3201     1328     12             0.0           0.0       7.0     39.0   \n",
              "3202     1373      6             0.0           0.0      48.0     13.0   \n",
              "3203     1473      8             0.0           0.0      17.0     13.0   \n",
              "3204     1473      9             0.0           0.0      19.0     17.0   \n",
              "3205     1473     10             0.0           0.0      20.0     14.0   \n",
              "3206     1473     11             0.0           0.0      14.0     22.0   \n",
              "3207     1473     12             0.0           0.0      20.0     18.0   \n",
              "3208     1489      8             0.0           0.0      17.0     11.0   \n",
              "3209     1489      9             0.0           0.0      32.0     17.0   \n",
              "3210     1489     10             0.0           0.0      21.0     20.0   \n",
              "3211     1489     11             0.0           0.0      20.0     18.0   \n",
              "3212     1489     12             0.0           0.0      35.0     17.0   \n",
              "3213     1476      4             0.0           0.0       0.0      1.0   \n",
              "\n",
              "                 city tariff  messages_included  gb_per_month_included  \\\n",
              "3184           Калуга  ultra               1000                   30.0   \n",
              "3185           Калуга  ultra               1000                   30.0   \n",
              "3186           Калуга  ultra               1000                   30.0   \n",
              "3187           Калуга  ultra               1000                   30.0   \n",
              "3188           Калуга  ultra               1000                   30.0   \n",
              "3189           Калуга  ultra               1000                   30.0   \n",
              "3190           Калуга  ultra               1000                   30.0   \n",
              "3191        Чебоксары  ultra               1000                   30.0   \n",
              "3192        Чебоксары  ultra               1000                   30.0   \n",
              "3193        Чебоксары  ultra               1000                   30.0   \n",
              "3194        Чебоксары  ultra               1000                   30.0   \n",
              "3195        Чебоксары  ultra               1000                   30.0   \n",
              "3196        Чебоксары  ultra               1000                   30.0   \n",
              "3197        Чебоксары  ultra               1000                   30.0   \n",
              "3198        Чебоксары  ultra               1000                   30.0   \n",
              "3199         Мурманск  ultra               1000                   30.0   \n",
              "3200         Мурманск  ultra               1000                   30.0   \n",
              "3201         Мурманск  ultra               1000                   30.0   \n",
              "3202         Улан-Удэ  smart                 50                   15.0   \n",
              "3203       Красноярск  ultra               1000                   30.0   \n",
              "3204       Красноярск  ultra               1000                   30.0   \n",
              "3205       Красноярск  ultra               1000                   30.0   \n",
              "3206       Красноярск  ultra               1000                   30.0   \n",
              "3207       Красноярск  ultra               1000                   30.0   \n",
              "3208  Санкт-Петербург  smart                 50                   15.0   \n",
              "3209  Санкт-Петербург  smart                 50                   15.0   \n",
              "3210  Санкт-Петербург  smart                 50                   15.0   \n",
              "3211  Санкт-Петербург  smart                 50                   15.0   \n",
              "3212  Санкт-Петербург  smart                 50                   15.0   \n",
              "3213           Москва  ultra               1000                   30.0   \n",
              "\n",
              "      minutes_included  rub_monthly_fee  rub_per_gb  rub_per_message  \\\n",
              "3184              3000             1950         150                1   \n",
              "3185              3000             1950         150                1   \n",
              "3186              3000             1950         150                1   \n",
              "3187              3000             1950         150                1   \n",
              "3188              3000             1950         150                1   \n",
              "3189              3000             1950         150                1   \n",
              "3190              3000             1950         150                1   \n",
              "3191              3000             1950         150                1   \n",
              "3192              3000             1950         150                1   \n",
              "3193              3000             1950         150                1   \n",
              "3194              3000             1950         150                1   \n",
              "3195              3000             1950         150                1   \n",
              "3196              3000             1950         150                1   \n",
              "3197              3000             1950         150                1   \n",
              "3198              3000             1950         150                1   \n",
              "3199              3000             1950         150                1   \n",
              "3200              3000             1950         150                1   \n",
              "3201              3000             1950         150                1   \n",
              "3202               500              550         200                3   \n",
              "3203              3000             1950         150                1   \n",
              "3204              3000             1950         150                1   \n",
              "3205              3000             1950         150                1   \n",
              "3206              3000             1950         150                1   \n",
              "3207              3000             1950         150                1   \n",
              "3208               500              550         200                3   \n",
              "3209               500              550         200                3   \n",
              "3210               500              550         200                3   \n",
              "3211               500              550         200                3   \n",
              "3212               500              550         200                3   \n",
              "3213              3000             1950         150                1   \n",
              "\n",
              "      rub_per_minute  cost_calls  cost_msg  cost_gb  revenue  \n",
              "3184               1         0.0       0.0      0.0   1950.0  \n",
              "3185               1         0.0       0.0      0.0   1950.0  \n",
              "3186               1         0.0       0.0      0.0   1950.0  \n",
              "3187               1         0.0       0.0      0.0   1950.0  \n",
              "3188               1         0.0       0.0      0.0   1950.0  \n",
              "3189               1         0.0       0.0      0.0   1950.0  \n",
              "3190               1         0.0       0.0      0.0   1950.0  \n",
              "3191               1         0.0       0.0      0.0   1950.0  \n",
              "3192               1         0.0       0.0      0.0   1950.0  \n",
              "3193               1         0.0       0.0      0.0   1950.0  \n",
              "3194               1         0.0       0.0    300.0   2250.0  \n",
              "3195               1         0.0       0.0    450.0   2400.0  \n",
              "3196               1         0.0       0.0    150.0   2100.0  \n",
              "3197               1         0.0       0.0      0.0   1950.0  \n",
              "3198               1         0.0       0.0    300.0   2250.0  \n",
              "3199               1         0.0       0.0      0.0   1950.0  \n",
              "3200               1         0.0       0.0    750.0   2700.0  \n",
              "3201               1         0.0       0.0   1350.0   3300.0  \n",
              "3202               3         0.0       0.0      0.0    550.0  \n",
              "3203               1         0.0       0.0      0.0   1950.0  \n",
              "3204               1         0.0       0.0      0.0   1950.0  \n",
              "3205               1         0.0       0.0      0.0   1950.0  \n",
              "3206               1         0.0       0.0      0.0   1950.0  \n",
              "3207               1         0.0       0.0      0.0   1950.0  \n",
              "3208               3         0.0       0.0      0.0    550.0  \n",
              "3209               3         0.0       0.0    400.0    950.0  \n",
              "3210               3         0.0       0.0   1000.0   1550.0  \n",
              "3211               3         0.0       0.0    600.0   1150.0  \n",
              "3212               3         0.0       0.0    400.0    950.0  \n",
              "3213               1         0.0       0.0      0.0   1950.0  "
            ]
          },
          "execution_count": 70,
          "metadata": {},
          "output_type": "execute_result"
        }
      ],
      "source": [
        "# Рассчитаем столбец \"выручка\"\n",
        "all_data['revenue'] = (all_data['cost_calls'] + all_data['cost_msg'] + all_data['cost_gb'] + all_data['rub_monthly_fee'])\n",
        "all_data.tail(30)  "
      ]
    },
    {
      "cell_type": "code",
      "execution_count": null,
      "metadata": {
        "id": "Ujp2P4DousJW",
        "outputId": "10dcd5cd-b1b1-4e09-87ca-0b9c250ab5cd"
      },
      "outputs": [
        {
          "data": {
            "text/html": [
              "<div>\n",
              "<style scoped>\n",
              "    .dataframe tbody tr th:only-of-type {\n",
              "        vertical-align: middle;\n",
              "    }\n",
              "\n",
              "    .dataframe tbody tr th {\n",
              "        vertical-align: top;\n",
              "    }\n",
              "\n",
              "    .dataframe thead th {\n",
              "        text-align: right;\n",
              "    }\n",
              "</style>\n",
              "<table border=\"1\" class=\"dataframe\">\n",
              "  <thead>\n",
              "    <tr style=\"text-align: right;\">\n",
              "      <th></th>\n",
              "      <th>user_id</th>\n",
              "      <th>month</th>\n",
              "      <th>duration_count</th>\n",
              "      <th>duration_sum</th>\n",
              "      <th>messages</th>\n",
              "      <th>gb_used</th>\n",
              "      <th>city</th>\n",
              "      <th>tariff</th>\n",
              "      <th>cost_calls</th>\n",
              "      <th>cost_msg</th>\n",
              "      <th>cost_gb</th>\n",
              "      <th>revenue</th>\n",
              "    </tr>\n",
              "  </thead>\n",
              "  <tbody>\n",
              "    <tr>\n",
              "      <td>0</td>\n",
              "      <td>1000</td>\n",
              "      <td>5</td>\n",
              "      <td>22.0</td>\n",
              "      <td>159.0</td>\n",
              "      <td>22.0</td>\n",
              "      <td>3.0</td>\n",
              "      <td>Краснодар</td>\n",
              "      <td>ultra</td>\n",
              "      <td>0.0</td>\n",
              "      <td>0.0</td>\n",
              "      <td>0.0</td>\n",
              "      <td>1950.0</td>\n",
              "    </tr>\n",
              "    <tr>\n",
              "      <td>1</td>\n",
              "      <td>1000</td>\n",
              "      <td>6</td>\n",
              "      <td>43.0</td>\n",
              "      <td>172.0</td>\n",
              "      <td>60.0</td>\n",
              "      <td>23.0</td>\n",
              "      <td>Краснодар</td>\n",
              "      <td>ultra</td>\n",
              "      <td>0.0</td>\n",
              "      <td>0.0</td>\n",
              "      <td>0.0</td>\n",
              "      <td>1950.0</td>\n",
              "    </tr>\n",
              "    <tr>\n",
              "      <td>2</td>\n",
              "      <td>1000</td>\n",
              "      <td>7</td>\n",
              "      <td>47.0</td>\n",
              "      <td>340.0</td>\n",
              "      <td>75.0</td>\n",
              "      <td>14.0</td>\n",
              "      <td>Краснодар</td>\n",
              "      <td>ultra</td>\n",
              "      <td>0.0</td>\n",
              "      <td>0.0</td>\n",
              "      <td>0.0</td>\n",
              "      <td>1950.0</td>\n",
              "    </tr>\n",
              "    <tr>\n",
              "      <td>3</td>\n",
              "      <td>1000</td>\n",
              "      <td>8</td>\n",
              "      <td>52.0</td>\n",
              "      <td>408.0</td>\n",
              "      <td>81.0</td>\n",
              "      <td>14.0</td>\n",
              "      <td>Краснодар</td>\n",
              "      <td>ultra</td>\n",
              "      <td>0.0</td>\n",
              "      <td>0.0</td>\n",
              "      <td>0.0</td>\n",
              "      <td>1950.0</td>\n",
              "    </tr>\n",
              "    <tr>\n",
              "      <td>4</td>\n",
              "      <td>1000</td>\n",
              "      <td>9</td>\n",
              "      <td>58.0</td>\n",
              "      <td>466.0</td>\n",
              "      <td>57.0</td>\n",
              "      <td>15.0</td>\n",
              "      <td>Краснодар</td>\n",
              "      <td>ultra</td>\n",
              "      <td>0.0</td>\n",
              "      <td>0.0</td>\n",
              "      <td>0.0</td>\n",
              "      <td>1950.0</td>\n",
              "    </tr>\n",
              "  </tbody>\n",
              "</table>\n",
              "</div>"
            ],
            "text/plain": [
              "   user_id  month  duration_count  duration_sum  messages  gb_used       city  \\\n",
              "0     1000      5            22.0         159.0      22.0      3.0  Краснодар   \n",
              "1     1000      6            43.0         172.0      60.0     23.0  Краснодар   \n",
              "2     1000      7            47.0         340.0      75.0     14.0  Краснодар   \n",
              "3     1000      8            52.0         408.0      81.0     14.0  Краснодар   \n",
              "4     1000      9            58.0         466.0      57.0     15.0  Краснодар   \n",
              "\n",
              "  tariff  cost_calls  cost_msg  cost_gb  revenue  \n",
              "0  ultra         0.0       0.0      0.0   1950.0  \n",
              "1  ultra         0.0       0.0      0.0   1950.0  \n",
              "2  ultra         0.0       0.0      0.0   1950.0  \n",
              "3  ultra         0.0       0.0      0.0   1950.0  \n",
              "4  ultra         0.0       0.0      0.0   1950.0  "
            ]
          },
          "execution_count": 71,
          "metadata": {},
          "output_type": "execute_result"
        }
      ],
      "source": [
        "#Отфоматируем итоговую таблицу\n",
        "all_data.columns\n",
        "cols = ['user_id', 'month', 'duration_count', 'duration_sum', 'messages',\n",
        "       'gb_used', 'city', 'tariff', 'cost_calls', 'cost_msg', 'cost_gb', 'revenue']\n",
        "all_data = all_data[cols]  \n",
        "all_data.head()"
      ]
    },
    {
      "cell_type": "code",
      "execution_count": null,
      "metadata": {
        "id": "oNkhi3GUusJX"
      },
      "outputs": [],
      "source": [
        "all_data[['duration_count','duration_sum','messages','gb_used','cost_calls','cost_msg','cost_gb','revenue']] = all_data[['duration_count','duration_sum','messages','gb_used','cost_calls','cost_msg','cost_gb','revenue']].astype('int')"
      ]
    },
    {
      "cell_type": "code",
      "execution_count": null,
      "metadata": {
        "id": "xCug_vFeusJY",
        "outputId": "2c5b22a8-87f7-4fcb-b5dc-29c15ce2477d"
      },
      "outputs": [
        {
          "name": "stdout",
          "output_type": "stream",
          "text": [
            "<class 'pandas.core.frame.DataFrame'>\n",
            "Int64Index: 3214 entries, 0 to 3213\n",
            "Data columns (total 12 columns):\n",
            "user_id           3214 non-null int64\n",
            "month             3214 non-null int64\n",
            "duration_count    3214 non-null int64\n",
            "duration_sum      3214 non-null int64\n",
            "messages          3214 non-null int64\n",
            "gb_used           3214 non-null int64\n",
            "city              3214 non-null object\n",
            "tariff            3214 non-null object\n",
            "cost_calls        3214 non-null int64\n",
            "cost_msg          3214 non-null int64\n",
            "cost_gb           3214 non-null int64\n",
            "revenue           3214 non-null int64\n",
            "dtypes: int64(10), object(2)\n",
            "memory usage: 326.4+ KB\n"
          ]
        }
      ],
      "source": [
        "all_data.info()"
      ]
    },
    {
      "cell_type": "markdown",
      "metadata": {
        "id": "dIB5sDa6usJY"
      },
      "source": [
        "**Вывод:**  \n",
        "Рассчитана помесячная выручка для каждого пользователя. В результате объединения данных из таблиц часть значений выручки получилась отрицательная, значит клиент использовал минуты, смс и траффик внутри своего тарифного пакета. Подобные значения для удобства были заменены на нулевые значения."
      ]
    },
    {
      "cell_type": "markdown",
      "metadata": {
        "id": "GZQd3MCeusJc"
      },
      "source": [
        "## Анализ данных и проведение расчетов\n",
        "<a id=\"analytics\"></a>"
      ]
    },
    {
      "cell_type": "markdown",
      "metadata": {
        "id": "Ui5f3SlqusJd"
      },
      "source": [
        "### Сколько минут разговора, сколько сообщений и какой объём интернет-трафика требуется пользователям каждого тарифа в месяц? "
      ]
    },
    {
      "cell_type": "code",
      "execution_count": null,
      "metadata": {
        "id": "Sxi-jMgtusJd"
      },
      "outputs": [],
      "source": [
        "all_data_grouped = all_data.pivot_table(\n",
        "    index=['tariff', 'month'],\n",
        "    values=['duration_sum', 'messages', 'gb_used'],\n",
        "    aggfunc={'duration_sum': 'sum',\n",
        "             'messages': 'sum', 'gb_used': 'sum'}\n",
        ")"
      ]
    },
    {
      "cell_type": "code",
      "execution_count": null,
      "metadata": {
        "id": "v0lhTo5tusJe",
        "outputId": "f4bf6e54-8ca9-41aa-ae80-8dfcbd6998ee"
      },
      "outputs": [
        {
          "data": {
            "text/html": [
              "<div>\n",
              "<style scoped>\n",
              "    .dataframe tbody tr th:only-of-type {\n",
              "        vertical-align: middle;\n",
              "    }\n",
              "\n",
              "    .dataframe tbody tr th {\n",
              "        vertical-align: top;\n",
              "    }\n",
              "\n",
              "    .dataframe thead th {\n",
              "        text-align: right;\n",
              "    }\n",
              "</style>\n",
              "<table border=\"1\" class=\"dataframe\">\n",
              "  <thead>\n",
              "    <tr style=\"text-align: right;\">\n",
              "      <th></th>\n",
              "      <th></th>\n",
              "      <th>duration_sum</th>\n",
              "      <th>gb_used</th>\n",
              "      <th>messages</th>\n",
              "    </tr>\n",
              "    <tr>\n",
              "      <th>tariff</th>\n",
              "      <th>month</th>\n",
              "      <th></th>\n",
              "      <th></th>\n",
              "      <th></th>\n",
              "    </tr>\n",
              "  </thead>\n",
              "  <tbody>\n",
              "    <tr>\n",
              "      <td rowspan=\"12\" valign=\"top\">smart</td>\n",
              "      <td>1</td>\n",
              "      <td>6931</td>\n",
              "      <td>297</td>\n",
              "      <td>620</td>\n",
              "    </tr>\n",
              "    <tr>\n",
              "      <td>2</td>\n",
              "      <td>17324</td>\n",
              "      <td>687</td>\n",
              "      <td>1397</td>\n",
              "    </tr>\n",
              "    <tr>\n",
              "      <td>3</td>\n",
              "      <td>30034</td>\n",
              "      <td>1173</td>\n",
              "      <td>2453</td>\n",
              "    </tr>\n",
              "    <tr>\n",
              "      <td>4</td>\n",
              "      <td>41119</td>\n",
              "      <td>1526</td>\n",
              "      <td>3443</td>\n",
              "    </tr>\n",
              "    <tr>\n",
              "      <td>5</td>\n",
              "      <td>54618</td>\n",
              "      <td>2243</td>\n",
              "      <td>4762</td>\n",
              "    </tr>\n",
              "    <tr>\n",
              "      <td>6</td>\n",
              "      <td>64885</td>\n",
              "      <td>2616</td>\n",
              "      <td>5478</td>\n",
              "    </tr>\n",
              "    <tr>\n",
              "      <td>7</td>\n",
              "      <td>82079</td>\n",
              "      <td>3191</td>\n",
              "      <td>6784</td>\n",
              "    </tr>\n",
              "    <tr>\n",
              "      <td>8</td>\n",
              "      <td>99045</td>\n",
              "      <td>3933</td>\n",
              "      <td>7905</td>\n",
              "    </tr>\n",
              "    <tr>\n",
              "      <td>9</td>\n",
              "      <td>111439</td>\n",
              "      <td>4262</td>\n",
              "      <td>8746</td>\n",
              "    </tr>\n",
              "    <tr>\n",
              "      <td>10</td>\n",
              "      <td>125284</td>\n",
              "      <td>4963</td>\n",
              "      <td>9927</td>\n",
              "    </tr>\n",
              "    <tr>\n",
              "      <td>11</td>\n",
              "      <td>137544</td>\n",
              "      <td>5372</td>\n",
              "      <td>10768</td>\n",
              "    </tr>\n",
              "    <tr>\n",
              "      <td>12</td>\n",
              "      <td>161275</td>\n",
              "      <td>6134</td>\n",
              "      <td>12130</td>\n",
              "    </tr>\n",
              "    <tr>\n",
              "      <td rowspan=\"12\" valign=\"top\">ultra</td>\n",
              "      <td>1</td>\n",
              "      <td>3853</td>\n",
              "      <td>119</td>\n",
              "      <td>304</td>\n",
              "    </tr>\n",
              "    <tr>\n",
              "      <td>2</td>\n",
              "      <td>7131</td>\n",
              "      <td>288</td>\n",
              "      <td>527</td>\n",
              "    </tr>\n",
              "    <tr>\n",
              "      <td>3</td>\n",
              "      <td>18117</td>\n",
              "      <td>653</td>\n",
              "      <td>1195</td>\n",
              "    </tr>\n",
              "    <tr>\n",
              "      <td>4</td>\n",
              "      <td>25191</td>\n",
              "      <td>933</td>\n",
              "      <td>1736</td>\n",
              "    </tr>\n",
              "    <tr>\n",
              "      <td>5</td>\n",
              "      <td>34192</td>\n",
              "      <td>1298</td>\n",
              "      <td>2536</td>\n",
              "    </tr>\n",
              "    <tr>\n",
              "      <td>6</td>\n",
              "      <td>40295</td>\n",
              "      <td>1591</td>\n",
              "      <td>3505</td>\n",
              "    </tr>\n",
              "    <tr>\n",
              "      <td>7</td>\n",
              "      <td>49667</td>\n",
              "      <td>1866</td>\n",
              "      <td>4536</td>\n",
              "    </tr>\n",
              "    <tr>\n",
              "      <td>8</td>\n",
              "      <td>54653</td>\n",
              "      <td>2097</td>\n",
              "      <td>5183</td>\n",
              "    </tr>\n",
              "    <tr>\n",
              "      <td>9</td>\n",
              "      <td>62036</td>\n",
              "      <td>2213</td>\n",
              "      <td>6013</td>\n",
              "    </tr>\n",
              "    <tr>\n",
              "      <td>10</td>\n",
              "      <td>68644</td>\n",
              "      <td>2468</td>\n",
              "      <td>7187</td>\n",
              "    </tr>\n",
              "    <tr>\n",
              "      <td>11</td>\n",
              "      <td>72545</td>\n",
              "      <td>2654</td>\n",
              "      <td>7476</td>\n",
              "    </tr>\n",
              "    <tr>\n",
              "      <td>12</td>\n",
              "      <td>82400</td>\n",
              "      <td>3022</td>\n",
              "      <td>8425</td>\n",
              "    </tr>\n",
              "  </tbody>\n",
              "</table>\n",
              "</div>"
            ],
            "text/plain": [
              "              duration_sum  gb_used  messages\n",
              "tariff month                                 \n",
              "smart  1              6931      297       620\n",
              "       2             17324      687      1397\n",
              "       3             30034     1173      2453\n",
              "       4             41119     1526      3443\n",
              "       5             54618     2243      4762\n",
              "       6             64885     2616      5478\n",
              "       7             82079     3191      6784\n",
              "       8             99045     3933      7905\n",
              "       9            111439     4262      8746\n",
              "       10           125284     4963      9927\n",
              "       11           137544     5372     10768\n",
              "       12           161275     6134     12130\n",
              "ultra  1              3853      119       304\n",
              "       2              7131      288       527\n",
              "       3             18117      653      1195\n",
              "       4             25191      933      1736\n",
              "       5             34192     1298      2536\n",
              "       6             40295     1591      3505\n",
              "       7             49667     1866      4536\n",
              "       8             54653     2097      5183\n",
              "       9             62036     2213      6013\n",
              "       10            68644     2468      7187\n",
              "       11            72545     2654      7476\n",
              "       12            82400     3022      8425"
            ]
          },
          "execution_count": 75,
          "metadata": {},
          "output_type": "execute_result"
        }
      ],
      "source": [
        "all_data_grouped"
      ]
    },
    {
      "cell_type": "markdown",
      "metadata": {
        "id": "a0GDy7LEusJf"
      },
      "source": [
        "Количество оказанных услуг возрастает с каждым месяцем. Пользователи тарифа \"Смарт\" более активно используют услуги, что связано с более дешевыми тарифами."
      ]
    },
    {
      "cell_type": "markdown",
      "metadata": {
        "id": "_w5ApLK5usJg"
      },
      "source": [
        "### Посчитаем среднее, дисперсию и стандартное отклонение по месяцам для каждого тарифа"
      ]
    },
    {
      "cell_type": "code",
      "execution_count": null,
      "metadata": {
        "id": "zRhhZoRcusJh"
      },
      "outputs": [],
      "source": [
        "users_info_var = all_data.pivot_table(\n",
        "    index=['tariff'],\n",
        "    values=['duration_sum', 'messages', 'gb_used'],\n",
        "    aggfunc= (np.var)\n",
        ")"
      ]
    },
    {
      "cell_type": "code",
      "execution_count": null,
      "metadata": {
        "id": "XHmrVKImusJh",
        "outputId": "74d621d7-831e-4b5b-c3d9-b5a443fe5d3a"
      },
      "outputs": [
        {
          "data": {
            "text/html": [
              "<div>\n",
              "<style scoped>\n",
              "    .dataframe tbody tr th:only-of-type {\n",
              "        vertical-align: middle;\n",
              "    }\n",
              "\n",
              "    .dataframe tbody tr th {\n",
              "        vertical-align: top;\n",
              "    }\n",
              "\n",
              "    .dataframe thead th {\n",
              "        text-align: right;\n",
              "    }\n",
              "</style>\n",
              "<table border=\"1\" class=\"dataframe\">\n",
              "  <thead>\n",
              "    <tr style=\"text-align: right;\">\n",
              "      <th></th>\n",
              "      <th>duration_sum</th>\n",
              "      <th>gb_used</th>\n",
              "      <th>messages</th>\n",
              "    </tr>\n",
              "    <tr>\n",
              "      <th>tariff</th>\n",
              "      <th></th>\n",
              "      <th></th>\n",
              "      <th></th>\n",
              "    </tr>\n",
              "  </thead>\n",
              "  <tbody>\n",
              "    <tr>\n",
              "      <td>smart</td>\n",
              "      <td>36219.315784</td>\n",
              "      <td>33.028705</td>\n",
              "      <td>796.812958</td>\n",
              "    </tr>\n",
              "    <tr>\n",
              "      <td>ultra</td>\n",
              "      <td>100873.633397</td>\n",
              "      <td>97.091686</td>\n",
              "      <td>2285.266143</td>\n",
              "    </tr>\n",
              "  </tbody>\n",
              "</table>\n",
              "</div>"
            ],
            "text/plain": [
              "         duration_sum    gb_used     messages\n",
              "tariff                                       \n",
              "smart    36219.315784  33.028705   796.812958\n",
              "ultra   100873.633397  97.091686  2285.266143"
            ]
          },
          "execution_count": 77,
          "metadata": {},
          "output_type": "execute_result"
        }
      ],
      "source": [
        "users_info_var"
      ]
    },
    {
      "cell_type": "code",
      "execution_count": null,
      "metadata": {
        "id": "Q9jgd6xBusJi"
      },
      "outputs": [],
      "source": [
        "pd.options.display.float_format = '{:,.2f}'.format"
      ]
    },
    {
      "cell_type": "code",
      "execution_count": null,
      "metadata": {
        "id": "X2lUdIj_usJj",
        "outputId": "bebf7bab-7396-4e02-bcd4-9e645e077b72"
      },
      "outputs": [
        {
          "data": {
            "text/html": [
              "<div>\n",
              "<style scoped>\n",
              "    .dataframe tbody tr th:only-of-type {\n",
              "        vertical-align: middle;\n",
              "    }\n",
              "\n",
              "    .dataframe tbody tr th {\n",
              "        vertical-align: top;\n",
              "    }\n",
              "\n",
              "    .dataframe thead th {\n",
              "        text-align: right;\n",
              "    }\n",
              "</style>\n",
              "<table border=\"1\" class=\"dataframe\">\n",
              "  <thead>\n",
              "    <tr style=\"text-align: right;\">\n",
              "      <th></th>\n",
              "      <th>duration_sum</th>\n",
              "      <th>gb_used</th>\n",
              "      <th>messages</th>\n",
              "    </tr>\n",
              "    <tr>\n",
              "      <th>tariff</th>\n",
              "      <th></th>\n",
              "      <th></th>\n",
              "      <th></th>\n",
              "    </tr>\n",
              "  </thead>\n",
              "  <tbody>\n",
              "    <tr>\n",
              "      <td>smart</td>\n",
              "      <td>36,219.32</td>\n",
              "      <td>33.03</td>\n",
              "      <td>796.81</td>\n",
              "    </tr>\n",
              "    <tr>\n",
              "      <td>ultra</td>\n",
              "      <td>100,873.63</td>\n",
              "      <td>97.09</td>\n",
              "      <td>2,285.27</td>\n",
              "    </tr>\n",
              "  </tbody>\n",
              "</table>\n",
              "</div>"
            ],
            "text/plain": [
              "        duration_sum  gb_used  messages\n",
              "tariff                                 \n",
              "smart      36,219.32    33.03    796.81\n",
              "ultra     100,873.63    97.09  2,285.27"
            ]
          },
          "execution_count": 79,
          "metadata": {},
          "output_type": "execute_result"
        }
      ],
      "source": [
        "users_info_var"
      ]
    },
    {
      "cell_type": "code",
      "execution_count": null,
      "metadata": {
        "id": "NCk8oMYTusJj",
        "outputId": "d325c061-010b-44e4-d4e5-6ea240d4eec7"
      },
      "outputs": [
        {
          "data": {
            "text/html": [
              "<div>\n",
              "<style scoped>\n",
              "    .dataframe tbody tr th:only-of-type {\n",
              "        vertical-align: middle;\n",
              "    }\n",
              "\n",
              "    .dataframe tbody tr th {\n",
              "        vertical-align: top;\n",
              "    }\n",
              "\n",
              "    .dataframe thead th {\n",
              "        text-align: right;\n",
              "    }\n",
              "</style>\n",
              "<table border=\"1\" class=\"dataframe\">\n",
              "  <thead>\n",
              "    <tr style=\"text-align: right;\">\n",
              "      <th></th>\n",
              "      <th>duration_std</th>\n",
              "      <th>gb_used_std</th>\n",
              "      <th>message_std</th>\n",
              "    </tr>\n",
              "    <tr>\n",
              "      <th>tariff</th>\n",
              "      <th></th>\n",
              "      <th></th>\n",
              "      <th></th>\n",
              "    </tr>\n",
              "  </thead>\n",
              "  <tbody>\n",
              "    <tr>\n",
              "      <td>smart</td>\n",
              "      <td>190.31</td>\n",
              "      <td>5.75</td>\n",
              "      <td>28.23</td>\n",
              "    </tr>\n",
              "    <tr>\n",
              "      <td>ultra</td>\n",
              "      <td>317.61</td>\n",
              "      <td>9.85</td>\n",
              "      <td>47.80</td>\n",
              "    </tr>\n",
              "  </tbody>\n",
              "</table>\n",
              "</div>"
            ],
            "text/plain": [
              "        duration_std  gb_used_std  message_std\n",
              "tariff                                        \n",
              "smart         190.31         5.75        28.23\n",
              "ultra         317.61         9.85        47.80"
            ]
          },
          "execution_count": 80,
          "metadata": {},
          "output_type": "execute_result"
        }
      ],
      "source": [
        "# составим сводную таблицу для расчета стандартного отклонения\n",
        "users_info_std = all_data.pivot_table(\n",
        "    index=['tariff'],\n",
        "    values=['duration_sum', 'messages', 'gb_used'],\n",
        "    aggfunc= np.std\n",
        ")\n",
        "# переименуем столбцы\n",
        "users_info_std.columns = ['duration_std', 'gb_used_std', 'message_std']\n",
        "users_info_std  # проверка"
      ]
    },
    {
      "cell_type": "code",
      "execution_count": null,
      "metadata": {
        "scrolled": true,
        "id": "IxGFt2xnusJl",
        "outputId": "8a6df23d-2918-4ef5-ee12-a76cc347c1d5"
      },
      "outputs": [
        {
          "data": {
            "text/html": [
              "<div>\n",
              "<style scoped>\n",
              "    .dataframe tbody tr th:only-of-type {\n",
              "        vertical-align: middle;\n",
              "    }\n",
              "\n",
              "    .dataframe tbody tr th {\n",
              "        vertical-align: top;\n",
              "    }\n",
              "\n",
              "    .dataframe thead th {\n",
              "        text-align: right;\n",
              "    }\n",
              "</style>\n",
              "<table border=\"1\" class=\"dataframe\">\n",
              "  <thead>\n",
              "    <tr style=\"text-align: right;\">\n",
              "      <th></th>\n",
              "      <th>duration_mean</th>\n",
              "      <th>gb_used_mean</th>\n",
              "      <th>message_mean</th>\n",
              "    </tr>\n",
              "    <tr>\n",
              "      <th>tariff</th>\n",
              "      <th></th>\n",
              "      <th></th>\n",
              "      <th></th>\n",
              "    </tr>\n",
              "  </thead>\n",
              "  <tbody>\n",
              "    <tr>\n",
              "      <td>smart</td>\n",
              "      <td>417.93</td>\n",
              "      <td>16.33</td>\n",
              "      <td>33.38</td>\n",
              "    </tr>\n",
              "    <tr>\n",
              "      <td>ultra</td>\n",
              "      <td>526.62</td>\n",
              "      <td>19.49</td>\n",
              "      <td>49.36</td>\n",
              "    </tr>\n",
              "  </tbody>\n",
              "</table>\n",
              "</div>"
            ],
            "text/plain": [
              "        duration_mean  gb_used_mean  message_mean\n",
              "tariff                                           \n",
              "smart          417.93         16.33         33.38\n",
              "ultra          526.62         19.49         49.36"
            ]
          },
          "execution_count": 81,
          "metadata": {},
          "output_type": "execute_result"
        }
      ],
      "source": [
        "# составим сводную таблицу для расчета среднего\n",
        "users_info_mean = all_data.pivot_table(\n",
        "    index=['tariff'],\n",
        "    values=['duration_sum', 'messages', 'gb_used'],\n",
        "    aggfunc= ('mean')\n",
        ")\n",
        "# переименуем столбцы\n",
        "users_info_mean.columns = ['duration_mean', 'gb_used_mean', 'message_mean']\n",
        "users_info_mean  # проверка"
      ]
    },
    {
      "cell_type": "markdown",
      "metadata": {
        "id": "QJpMgvNBusJm"
      },
      "source": [
        "<div class=\"alert alert-info\">Минуты разговора, число сообщений и объем потраченного интернет-трафика по тарифу «Ультра» имеет большую дисперсию, отклонение и среднее по сравнению с тарифом «Смарт». Поведение пользователей в рамках тарифа \"Ультра\" более разнообразно.<div>"
      ]
    },
    {
      "cell_type": "markdown",
      "metadata": {
        "id": "lVQEWjfdusJn"
      },
      "source": [
        "### Построим графики"
      ]
    },
    {
      "cell_type": "code",
      "execution_count": null,
      "metadata": {
        "id": "7CNt8YLsusJo"
      },
      "outputs": [],
      "source": [
        "ultra = all_data.query('tariff == \"ultra\"')"
      ]
    },
    {
      "cell_type": "code",
      "execution_count": null,
      "metadata": {
        "id": "l1j6vijxusJo"
      },
      "outputs": [],
      "source": [
        "smart = all_data.query('tariff == \"smart\"')"
      ]
    },
    {
      "cell_type": "code",
      "execution_count": null,
      "metadata": {
        "id": "M8wlz8HqusJp",
        "outputId": "ccae44f7-e548-496d-f405-4759b5a7dae7"
      },
      "outputs": [
        {
          "data": {
            "text/plain": [
              "Text(0.5, 1.0, 'Распределение длительности звонков пользователей тарифа Ультра')"
            ]
          },
          "execution_count": 84,
          "metadata": {},
          "output_type": "execute_result"
        },
        {
          "data": {
            "image/png": "[encoded data removed]",
            "text/plain": [
              "<Figure size 1080x432 with 2 Axes>"
            ]
          },
          "metadata": {
            "needs_background": "light"
          },
          "output_type": "display_data"
        }
      ],
      "source": [
        "#Построим гистограмму распределения длительности звонков по обоим тарифам\n",
        "fig,axes = plt.subplots(1,2,figsize = (15,6))\n",
        "\n",
        "smart['duration_sum'].hist(bins=60, ax = axes[0])\n",
        "axes[0].set_title('Распределение длительности звонков пользователей тарифа Смарт')\n",
        "\n",
        "ultra['duration_sum'].hist(bins=60, ax = axes[1])\n",
        "axes[1].set_title('Распределение длительности звонков пользователей тарифа Ультра')"
      ]
    },
    {
      "cell_type": "code",
      "execution_count": null,
      "metadata": {
        "id": "KpmDo3TnusJq",
        "outputId": "50ff0b13-ac63-4b22-8f74-9f00fff98aa0"
      },
      "outputs": [
        {
          "data": {
            "text/plain": [
              "Text(0.5, 1.0, 'Распределение отправленных сообщений по тарифу Ультра')"
            ]
          },
          "execution_count": 85,
          "metadata": {},
          "output_type": "execute_result"
        },
        {
          "data": {
            "image/png": "[encoded data removed]",
            "text/plain": [
              "<Figure size 1080x432 with 2 Axes>"
            ]
          },
          "metadata": {
            "needs_background": "light"
          },
          "output_type": "display_data"
        }
      ],
      "source": [
        "#Построим гистограмму распределения отправленных сообщений по обоим тарифам\n",
        "fig,axes = plt.subplots(1,2,figsize = (15,6))\n",
        "\n",
        "smart['messages'].hist(bins=50, ax = axes[0])\n",
        "axes[0].set_title('Распределение отправленных сообщений по тарифу Смарт')\n",
        "\n",
        "ultra['messages'].hist(bins=50, ax = axes[1])\n",
        "axes[1].set_title('Распределение отправленных сообщений по тарифу Ультра')"
      ]
    },
    {
      "cell_type": "code",
      "execution_count": null,
      "metadata": {
        "scrolled": true,
        "id": "UkCDEqvPusJr",
        "outputId": "78bd3ad4-61b4-4c72-9e53-af37a9759848"
      },
      "outputs": [
        {
          "data": {
            "text/plain": [
              "Text(0.5, 1.0, 'Распределение потраченных мегабайт по тарифу Ультра')"
            ]
          },
          "execution_count": 86,
          "metadata": {},
          "output_type": "execute_result"
        },
        {
          "data": {
            "image/png": "[encoded data removed]",
            "text/plain": [
              "<Figure size 1080x432 with 2 Axes>"
            ]
          },
          "metadata": {
            "needs_background": "light"
          },
          "output_type": "display_data"
        }
      ],
      "source": [
        "#Построим гистограмму распределения потраченных мегабайт по обоим тарифам\n",
        "fig,axes = plt.subplots(1,2,figsize = (15,6))\n",
        "\n",
        "smart['gb_used'].hist(bins=50, ax = axes[0])\n",
        "axes[0].set_title('Распределение потраченных мегабайт по тарифу Смарт')\n",
        "\n",
        "ultra['gb_used'].hist(bins=50, ax = axes[1])\n",
        "axes[1].set_title('Распределение потраченных мегабайт по тарифу Ультра')"
      ]
    },
    {
      "cell_type": "markdown",
      "metadata": {
        "id": "Zr3K5GlTusJs"
      },
      "source": [
        "<div class=\"alert alert-info\"> Проверим пользователей тарифа \"Смарт\", которые явно переплачивают по тарифу. Т.к. оплата за тариф \"Ультра\" составляет 1950 рублей, выберем тех пользователей, которые платят больше данной суммы<div>\n"
      ]
    },
    {
      "cell_type": "code",
      "execution_count": null,
      "metadata": {
        "id": "LeuaeFHxusJs"
      },
      "outputs": [],
      "source": [
        "#Фильтрую пользователей по заданному критерию выручки\n",
        "users_over_tariff = smart.query('revenue >= 1950')"
      ]
    },
    {
      "cell_type": "code",
      "execution_count": null,
      "metadata": {
        "id": "Q-uAD6RjusJs",
        "outputId": "3b4f36a0-fd0e-43d4-9694-6913d3a92663"
      },
      "outputs": [
        {
          "data": {
            "text/html": [
              "<div>\n",
              "<style scoped>\n",
              "    .dataframe tbody tr th:only-of-type {\n",
              "        vertical-align: middle;\n",
              "    }\n",
              "\n",
              "    .dataframe tbody tr th {\n",
              "        vertical-align: top;\n",
              "    }\n",
              "\n",
              "    .dataframe thead th {\n",
              "        text-align: right;\n",
              "    }\n",
              "</style>\n",
              "<table border=\"1\" class=\"dataframe\">\n",
              "  <thead>\n",
              "    <tr style=\"text-align: right;\">\n",
              "      <th></th>\n",
              "      <th>user_id</th>\n",
              "      <th>month</th>\n",
              "      <th>duration_count</th>\n",
              "      <th>duration_sum</th>\n",
              "      <th>messages</th>\n",
              "      <th>gb_used</th>\n",
              "      <th>city</th>\n",
              "      <th>tariff</th>\n",
              "      <th>cost_calls</th>\n",
              "      <th>cost_msg</th>\n",
              "      <th>cost_gb</th>\n",
              "      <th>revenue</th>\n",
              "    </tr>\n",
              "  </thead>\n",
              "  <tbody>\n",
              "    <tr>\n",
              "      <td>3168</td>\n",
              "      <td>1498</td>\n",
              "      <td>9</td>\n",
              "      <td>59</td>\n",
              "      <td>471</td>\n",
              "      <td>44</td>\n",
              "      <td>22</td>\n",
              "      <td>Владикавказ</td>\n",
              "      <td>smart</td>\n",
              "      <td>0</td>\n",
              "      <td>0</td>\n",
              "      <td>1400</td>\n",
              "      <td>1950</td>\n",
              "    </tr>\n",
              "    <tr>\n",
              "      <td>2225</td>\n",
              "      <td>1357</td>\n",
              "      <td>11</td>\n",
              "      <td>51</td>\n",
              "      <td>330</td>\n",
              "      <td>48</td>\n",
              "      <td>22</td>\n",
              "      <td>Томск</td>\n",
              "      <td>smart</td>\n",
              "      <td>0</td>\n",
              "      <td>0</td>\n",
              "      <td>1400</td>\n",
              "      <td>1950</td>\n",
              "    </tr>\n",
              "    <tr>\n",
              "      <td>2210</td>\n",
              "      <td>1355</td>\n",
              "      <td>8</td>\n",
              "      <td>48</td>\n",
              "      <td>349</td>\n",
              "      <td>14</td>\n",
              "      <td>22</td>\n",
              "      <td>Киров</td>\n",
              "      <td>smart</td>\n",
              "      <td>0</td>\n",
              "      <td>0</td>\n",
              "      <td>1400</td>\n",
              "      <td>1950</td>\n",
              "    </tr>\n",
              "    <tr>\n",
              "      <td>2135</td>\n",
              "      <td>1340</td>\n",
              "      <td>9</td>\n",
              "      <td>58</td>\n",
              "      <td>408</td>\n",
              "      <td>8</td>\n",
              "      <td>22</td>\n",
              "      <td>Пенза</td>\n",
              "      <td>smart</td>\n",
              "      <td>0</td>\n",
              "      <td>0</td>\n",
              "      <td>1400</td>\n",
              "      <td>1950</td>\n",
              "    </tr>\n",
              "    <tr>\n",
              "      <td>2129</td>\n",
              "      <td>1340</td>\n",
              "      <td>3</td>\n",
              "      <td>76</td>\n",
              "      <td>495</td>\n",
              "      <td>11</td>\n",
              "      <td>22</td>\n",
              "      <td>Пенза</td>\n",
              "      <td>smart</td>\n",
              "      <td>0</td>\n",
              "      <td>0</td>\n",
              "      <td>1400</td>\n",
              "      <td>1950</td>\n",
              "    </tr>\n",
              "    <tr>\n",
              "      <td>...</td>\n",
              "      <td>...</td>\n",
              "      <td>...</td>\n",
              "      <td>...</td>\n",
              "      <td>...</td>\n",
              "      <td>...</td>\n",
              "      <td>...</td>\n",
              "      <td>...</td>\n",
              "      <td>...</td>\n",
              "      <td>...</td>\n",
              "      <td>...</td>\n",
              "      <td>...</td>\n",
              "      <td>...</td>\n",
              "    </tr>\n",
              "    <tr>\n",
              "      <td>1793</td>\n",
              "      <td>1286</td>\n",
              "      <td>12</td>\n",
              "      <td>95</td>\n",
              "      <td>739</td>\n",
              "      <td>68</td>\n",
              "      <td>35</td>\n",
              "      <td>Москва</td>\n",
              "      <td>smart</td>\n",
              "      <td>717</td>\n",
              "      <td>54</td>\n",
              "      <td>4000</td>\n",
              "      <td>5321</td>\n",
              "    </tr>\n",
              "    <tr>\n",
              "      <td>1622</td>\n",
              "      <td>1261</td>\n",
              "      <td>12</td>\n",
              "      <td>141</td>\n",
              "      <td>1074</td>\n",
              "      <td>22</td>\n",
              "      <td>32</td>\n",
              "      <td>Казань</td>\n",
              "      <td>smart</td>\n",
              "      <td>1722</td>\n",
              "      <td>0</td>\n",
              "      <td>3400</td>\n",
              "      <td>5672</td>\n",
              "    </tr>\n",
              "    <tr>\n",
              "      <td>3105</td>\n",
              "      <td>1486</td>\n",
              "      <td>11</td>\n",
              "      <td>108</td>\n",
              "      <td>764</td>\n",
              "      <td>96</td>\n",
              "      <td>36</td>\n",
              "      <td>Нижний Новгород</td>\n",
              "      <td>smart</td>\n",
              "      <td>792</td>\n",
              "      <td>138</td>\n",
              "      <td>4200</td>\n",
              "      <td>5680</td>\n",
              "    </tr>\n",
              "    <tr>\n",
              "      <td>260</td>\n",
              "      <td>1042</td>\n",
              "      <td>12</td>\n",
              "      <td>121</td>\n",
              "      <td>728</td>\n",
              "      <td>75</td>\n",
              "      <td>37</td>\n",
              "      <td>Хабаровск</td>\n",
              "      <td>smart</td>\n",
              "      <td>684</td>\n",
              "      <td>75</td>\n",
              "      <td>4400</td>\n",
              "      <td>5709</td>\n",
              "    </tr>\n",
              "    <tr>\n",
              "      <td>3106</td>\n",
              "      <td>1486</td>\n",
              "      <td>12</td>\n",
              "      <td>133</td>\n",
              "      <td>1007</td>\n",
              "      <td>83</td>\n",
              "      <td>38</td>\n",
              "      <td>Нижний Новгород</td>\n",
              "      <td>smart</td>\n",
              "      <td>1521</td>\n",
              "      <td>99</td>\n",
              "      <td>4600</td>\n",
              "      <td>6770</td>\n",
              "    </tr>\n",
              "  </tbody>\n",
              "</table>\n",
              "<p>471 rows × 12 columns</p>\n",
              "</div>"
            ],
            "text/plain": [
              "      user_id  month  duration_count  duration_sum  messages  gb_used  \\\n",
              "3168     1498      9              59           471        44       22   \n",
              "2225     1357     11              51           330        48       22   \n",
              "2210     1355      8              48           349        14       22   \n",
              "2135     1340      9              58           408         8       22   \n",
              "2129     1340      3              76           495        11       22   \n",
              "...       ...    ...             ...           ...       ...      ...   \n",
              "1793     1286     12              95           739        68       35   \n",
              "1622     1261     12             141          1074        22       32   \n",
              "3105     1486     11             108           764        96       36   \n",
              "260      1042     12             121           728        75       37   \n",
              "3106     1486     12             133          1007        83       38   \n",
              "\n",
              "                 city tariff  cost_calls  cost_msg  cost_gb  revenue  \n",
              "3168      Владикавказ  smart           0         0     1400     1950  \n",
              "2225            Томск  smart           0         0     1400     1950  \n",
              "2210            Киров  smart           0         0     1400     1950  \n",
              "2135            Пенза  smart           0         0     1400     1950  \n",
              "2129            Пенза  smart           0         0     1400     1950  \n",
              "...               ...    ...         ...       ...      ...      ...  \n",
              "1793           Москва  smart         717        54     4000     5321  \n",
              "1622           Казань  smart        1722         0     3400     5672  \n",
              "3105  Нижний Новгород  smart         792       138     4200     5680  \n",
              "260         Хабаровск  smart         684        75     4400     5709  \n",
              "3106  Нижний Новгород  smart        1521        99     4600     6770  \n",
              "\n",
              "[471 rows x 12 columns]"
            ]
          },
          "execution_count": 88,
          "metadata": {},
          "output_type": "execute_result"
        }
      ],
      "source": [
        "#Оцениваю полученные значения\n",
        "users_over_tariff.sort_values('revenue')"
      ]
    },
    {
      "cell_type": "markdown",
      "metadata": {
        "id": "bjv68PxDusJs"
      },
      "source": [
        "**Итоги анализа поведения пользователей в зависимости от тарифа:**  \n",
        "Пользователи дешевого тарифа \"Смарт\" суммарно потребляют услуг примерно в 1,5-2 раза больше, чем те кто пользуется тарифом \"УЛЬТРА\".  \n",
        "Пользователи тарифа \"УЛЬТРА\" суммарно тратят меньше минут разговоров, но говорят дольше.  \n",
        "Пользователи тарифа \"УЛЬТРА\" суммарно тратят больше мегабайт.  \n",
        "Пользователи тарифа \"УЛЬТРА\", в среднем, в месяц, используют интернет больше чем \"СМАРТ\" пользователи.  \n",
        "Пользователи тарифа \"УЛЬТРА\" и \"СМАРТ\" одинаково мало пользуются СМС, хотя последние немногим больше за счет массовости."
      ]
    },
    {
      "cell_type": "markdown",
      "metadata": {
        "id": "P3gFhq7-usJt"
      },
      "source": [
        "<div class=\"alert alert-info\"> 471 человек значительно переплачивает по используемому тарифу и выгоднее будет перейти на другой тариф оператора.  \n",
        "    В целом поведение пользователей тарифа \"Ультра\" более разнообразно, что вероятно связано с тем,что им не приходится думать об ограничениях на тарифе(что внезапно кончится весь запас интернета, не хватит звонков и тд) <div>\n"
      ]
    },
    {
      "cell_type": "markdown",
      "metadata": {
        "id": "Qt0V-NzeusJv"
      },
      "source": [
        "## Проверка гипотез\n",
        "<a id=\"check\"></a>"
      ]
    },
    {
      "cell_type": "markdown",
      "metadata": {
        "id": "8hRawpmlusJv"
      },
      "source": [
        "По заданию необходимо проверить две гипотезы\n",
        "\n",
        "1. Средняя выручка пользователей тарифов «Ультра» и «Смарт» различается;\n",
        "2. Средняя выручка пользователей из Москвы отличается от выручки пользователей из других регионов;"
      ]
    },
    {
      "cell_type": "markdown",
      "metadata": {
        "id": "taMSMkOJusJw"
      },
      "source": [
        "### Гипотеза 1: \"Средняя выручка пользователей тарифов «Ультра» и «Смарт» различается\""
      ]
    },
    {
      "cell_type": "markdown",
      "metadata": {
        "id": "PhWYepNiusJx"
      },
      "source": [
        "Исходя из формулировки гипотезы принимаем нулевую гипотезу H₀ как:\n",
        "Средняя выручка пользователей тарифов \"Ультра\" и \"Смарт\" НЕ различаются\n",
        "\n",
        "Уровень значимости (пороговое значение) установим как 5% "
      ]
    },
    {
      "cell_type": "code",
      "execution_count": null,
      "metadata": {
        "id": "dExErUM9usJy",
        "outputId": "cc339f2f-6adb-4ce5-88f6-49f5c1bbb752"
      },
      "outputs": [
        {
          "data": {
            "text/plain": [
              "8     1150\n",
              "9      550\n",
              "10     550\n",
              "11    1150\n",
              "12    1550\n",
              "Name: revenue, dtype: int64"
            ]
          },
          "execution_count": 89,
          "metadata": {},
          "output_type": "execute_result"
        }
      ],
      "source": [
        "revenue_smart = all_data.loc[all_data['tariff']== 'smart', 'revenue']\n",
        "revenue_smart.head()"
      ]
    },
    {
      "cell_type": "code",
      "execution_count": null,
      "metadata": {
        "id": "FJpl6YUzusJy",
        "outputId": "74b1dc5d-85a1-43ea-d824-950bff68e9c8"
      },
      "outputs": [
        {
          "data": {
            "text/plain": [
              "0    1950\n",
              "1    1950\n",
              "2    1950\n",
              "3    1950\n",
              "4    1950\n",
              "Name: revenue, dtype: int64"
            ]
          },
          "execution_count": 90,
          "metadata": {},
          "output_type": "execute_result"
        }
      ],
      "source": [
        "revenue_ultra = all_data.loc[all_data['tariff']== 'ultra', 'revenue']\n",
        "revenue_ultra.head()"
      ]
    },
    {
      "cell_type": "code",
      "execution_count": null,
      "metadata": {
        "id": "9hpDqtPTusJy",
        "outputId": "93bd7bed-22d6-42b4-e9f5-7987082c77f0"
      },
      "outputs": [
        {
          "name": "stdout",
          "output_type": "stream",
          "text": [
            "p-значение: 4.2606313931076085e-250\n",
            "Отвергаем нулевую гипотезу\n"
          ]
        }
      ],
      "source": [
        "#Проверяем гипотезу: \"Средняя выручка пользователей тарифов «Ультра» и «Смарт» различается\"\n",
        "alpha = 0.05  # уровень статистической значимости\n",
        "\n",
        "results = st.ttest_ind(revenue_smart, revenue_ultra, equal_var=False)\n",
        "print('p-значение:', results.pvalue)\n",
        "\n",
        "# сравним получившееся p-значение с заданным уровнем статистической значимости\n",
        "if (results.pvalue < alpha):\n",
        "    print(\"Отвергаем нулевую гипотезу\")\n",
        "else:\n",
        "    print(\"Не получилось отвергнуть нулевую гипотезу\")"
      ]
    },
    {
      "cell_type": "markdown",
      "metadata": {
        "id": "FMicAudZusJz"
      },
      "source": [
        "**Гипотеза верна - средние выручки двух тарифов различаются.**"
      ]
    },
    {
      "cell_type": "markdown",
      "metadata": {
        "id": "MMI9uJYYusJ0"
      },
      "source": [
        "### Гипотеза 2: \"Средняя выручка пользователей из Москвы отличается от выручки пользователей из других регионов\""
      ]
    },
    {
      "cell_type": "markdown",
      "metadata": {
        "id": "aMvNCY_OusJ0"
      },
      "source": [
        "Исходя из формулировки гипотезы принимаем нулевую гипотезу H₀ как:\n",
        "Cредняя выручка пользователей из Москвы и регионов НЕ различаются\n",
        "\n",
        "Уровень значимости (пороговое значение) установим как 5% (как общепринятый параметр)"
      ]
    },
    {
      "cell_type": "code",
      "execution_count": null,
      "metadata": {
        "id": "FHn4ZUQfusJ1",
        "outputId": "5eccc7b0-c9f3-4d30-eb57-fc00386c63e4"
      },
      "outputs": [
        {
          "data": {
            "text/plain": [
              "8     1150\n",
              "9      550\n",
              "17    1950\n",
              "18    1950\n",
              "19    1950\n",
              "Name: revenue, dtype: int64"
            ]
          },
          "execution_count": 92,
          "metadata": {},
          "output_type": "execute_result"
        }
      ],
      "source": [
        "revenue_moscow = all_data.loc[all_data['city'] == 'Москва', 'revenue']\n",
        "revenue_moscow.head()"
      ]
    },
    {
      "cell_type": "code",
      "execution_count": null,
      "metadata": {
        "id": "XkciVcFcusJ2",
        "outputId": "c48930cb-b73f-4008-d86a-e94e0bba3939"
      },
      "outputs": [
        {
          "data": {
            "text/plain": [
              "0    1950\n",
              "1    1950\n",
              "2    1950\n",
              "3    1950\n",
              "4    1950\n",
              "Name: revenue, dtype: int64"
            ]
          },
          "execution_count": 93,
          "metadata": {},
          "output_type": "execute_result"
        }
      ],
      "source": [
        "revenue_other = all_data.loc[all_data['city']!= 'Москва', 'revenue']\n",
        "revenue_other.head() "
      ]
    },
    {
      "cell_type": "code",
      "execution_count": null,
      "metadata": {
        "id": "od3mmBT-usJ2",
        "outputId": "e4a49285-f695-4c8e-aafd-eb1dc3b84322"
      },
      "outputs": [
        {
          "name": "stdout",
          "output_type": "stream",
          "text": [
            "p-значение: 0.5257376663729298\n",
            "Не получилось отвергнуть нулевую гипотезу\n"
          ]
        }
      ],
      "source": [
        "alpha = 0.05  # уровень статистической значимости\n",
        "\n",
        "results = st.ttest_ind(revenue_moscow, revenue_other, equal_var=False)\n",
        "print('p-значение:', results.pvalue)\n",
        "\n",
        "# сравним получившееся p-значение с заданным уровнем статистической значимости\n",
        "if (results.pvalue < alpha):\n",
        "    print(\"Отвергаем нулевую гипотезу\")\n",
        "else:\n",
        "    print(\"Не получилось отвергнуть нулевую гипотезу\")"
      ]
    },
    {
      "cell_type": "markdown",
      "metadata": {
        "id": "qyZRsVR5usJ3"
      },
      "source": [
        "**Нет подтвержения гипотезы 2. Мы не можем уверенно говорить о том что средняя выручка пользователей из Москвы отличается от выручки пользователей из других регионов.**"
      ]
    },
    {
      "cell_type": "markdown",
      "metadata": {
        "id": "0Y3D7B6qusJ4"
      },
      "source": [
        "## Общий вывод\n",
        "<a id=\"conclusion\"></a>"
      ]
    },
    {
      "cell_type": "markdown",
      "metadata": {
        "id": "RYvCDgYSusJ4"
      },
      "source": [
        "На первом этапе исследования были рассмотрены предоставленные данные.  \n",
        "Они достаточно корректные с минимальным количетсвом пропусков, что говорит об их достоверности."
      ]
    },
    {
      "cell_type": "markdown",
      "metadata": {
        "id": "SX6V3f7musJ4"
      },
      "source": [
        "На втором этапе исследования данные были обработаны: заменены типы, там где необходимо, округленые значения.\n",
        "Дополнительно для каждого пользователя были рассчитаны и оформлены в сводные таблицы следующие параметры:\n",
        "\n",
        " - количество сделанных звонков и израсходованных минут разговора по месяцам;\n",
        " - количество отправленных сообщений по месяцам;\n",
        " - объем израсходованного интернет-трафика по месяцам;\n",
        " - помесячную выручка "
      ]
    },
    {
      "cell_type": "markdown",
      "metadata": {
        "id": "3dBj59F7usJ5"
      },
      "source": [
        "На третьем этапе исследования были рассчитаны такие показатели как среднее, дисперсия, стандартное отклонение.  Построены гистограммы по распределению длительности звонков, количеству отправленных сообщений и потраченных мегабайт.  \n",
        "Проанализовано поведение пользовтелей в зависимости от тарифа:\n",
        " - Пользователи дешевого тарифа \"Смарт\" суммарно потребляют услуг примерно в 1,5-2 раза больше, чем те кто пользуется тарифом \"УЛЬТРА\".\n",
        " - Пользователи тарифа \"УЛЬТРА\" суммарно тратят меньше минут разговоров, но говорят дольше.\n",
        " - Пользователи тарифа \"УЛЬТРА\" суммарно тратят больше мегабайт.\n",
        " - Пользователи тарифа \"УЛЬТРА\", в среднем, в месяц, используют интернет больше чем \"СМАРТ\" пользователи.\n",
        " - Пользователи тарифа \"УЛЬТРА\" и \"СМАРТ\" одинаково мало пользуются СМС, хотя последние немногим больше за счет массовости."
      ]
    },
    {
      "cell_type": "markdown",
      "metadata": {
        "id": "cbKHHhIpusJ5"
      },
      "source": [
        "На четвертом этапе были выдвинуты и проверены гипотезы о распределении выручки:\n",
        " - Средние выручки по двум тарифам различаются\n",
        " - Мы не можем уверенно говорить о том что средняя выручка пользователей из Москвы отличается от выручки пользователей из других регионов.\n"
      ]
    }
  ],
  "metadata": {
    "ExecuteTimeLog": [
      {
        "duration": 3,
        "start_time": "2022-01-20T08:00:13.996Z"
      },
      {
        "duration": 106,
        "start_time": "2022-01-20T08:03:09.344Z"
      },
      {
        "duration": 704,
        "start_time": "2022-01-20T10:40:16.250Z"
      },
      {
        "duration": 2384,
        "start_time": "2022-01-20T10:41:45.479Z"
      },
      {
        "duration": 2517,
        "start_time": "2022-01-20T10:42:06.702Z"
      },
      {
        "duration": 317,
        "start_time": "2022-01-20T10:50:14.017Z"
      },
      {
        "duration": 147,
        "start_time": "2022-01-20T10:50:22.782Z"
      },
      {
        "duration": 151,
        "start_time": "2022-01-20T10:50:51.921Z"
      },
      {
        "duration": 26,
        "start_time": "2022-01-20T10:52:17.962Z"
      },
      {
        "duration": 26,
        "start_time": "2022-01-20T10:53:25.442Z"
      },
      {
        "duration": 179,
        "start_time": "2022-01-20T10:53:32.445Z"
      },
      {
        "duration": 513,
        "start_time": "2022-01-20T10:54:49.633Z"
      },
      {
        "duration": 429,
        "start_time": "2022-01-20T12:08:30.173Z"
      },
      {
        "duration": 635,
        "start_time": "2022-01-20T12:08:40.133Z"
      },
      {
        "duration": 398,
        "start_time": "2022-01-20T12:08:40.770Z"
      },
      {
        "duration": 51,
        "start_time": "2022-01-20T12:08:41.170Z"
      },
      {
        "duration": 26,
        "start_time": "2022-01-20T12:09:13.678Z"
      },
      {
        "duration": 3,
        "start_time": "2022-01-20T12:09:52.133Z"
      },
      {
        "duration": 382,
        "start_time": "2022-01-20T12:09:52.139Z"
      },
      {
        "duration": 24,
        "start_time": "2022-01-20T12:09:52.522Z"
      },
      {
        "duration": 20,
        "start_time": "2022-01-20T12:09:52.548Z"
      },
      {
        "duration": 16,
        "start_time": "2022-01-20T12:09:52.570Z"
      },
      {
        "duration": 9,
        "start_time": "2022-01-20T12:09:52.587Z"
      },
      {
        "duration": 39,
        "start_time": "2022-01-20T12:09:52.597Z"
      },
      {
        "duration": 18,
        "start_time": "2022-01-20T12:12:52.989Z"
      },
      {
        "duration": 13,
        "start_time": "2022-01-20T12:13:14.881Z"
      },
      {
        "duration": 3,
        "start_time": "2022-01-20T12:16:53.804Z"
      },
      {
        "duration": 442,
        "start_time": "2022-01-20T12:16:53.810Z"
      },
      {
        "duration": 31,
        "start_time": "2022-01-20T12:16:54.253Z"
      },
      {
        "duration": 22,
        "start_time": "2022-01-20T12:16:54.286Z"
      },
      {
        "duration": 27,
        "start_time": "2022-01-20T12:16:54.309Z"
      },
      {
        "duration": 14,
        "start_time": "2022-01-20T12:16:54.338Z"
      },
      {
        "duration": 17,
        "start_time": "2022-01-20T12:16:54.354Z"
      },
      {
        "duration": 23,
        "start_time": "2022-01-20T12:17:16.877Z"
      },
      {
        "duration": 8,
        "start_time": "2022-01-20T12:18:47.709Z"
      },
      {
        "duration": 18,
        "start_time": "2022-01-20T12:18:50.209Z"
      },
      {
        "duration": 15,
        "start_time": "2022-01-20T12:18:59.569Z"
      },
      {
        "duration": 18,
        "start_time": "2022-01-20T12:19:04.855Z"
      },
      {
        "duration": 18,
        "start_time": "2022-01-20T13:45:38.944Z"
      },
      {
        "duration": 11,
        "start_time": "2022-01-20T13:45:50.735Z"
      },
      {
        "duration": 15,
        "start_time": "2022-01-20T13:50:26.195Z"
      },
      {
        "duration": 8,
        "start_time": "2022-01-20T13:50:36.839Z"
      },
      {
        "duration": 13,
        "start_time": "2022-01-20T13:54:01.067Z"
      },
      {
        "duration": 7,
        "start_time": "2022-01-20T13:54:01.084Z"
      },
      {
        "duration": 13,
        "start_time": "2022-01-20T13:54:01.093Z"
      },
      {
        "duration": 12,
        "start_time": "2022-01-20T13:54:01.107Z"
      },
      {
        "duration": 11,
        "start_time": "2022-01-20T13:54:01.121Z"
      },
      {
        "duration": 20,
        "start_time": "2022-01-20T13:54:01.134Z"
      },
      {
        "duration": 46,
        "start_time": "2022-01-20T14:15:47.442Z"
      },
      {
        "duration": 282,
        "start_time": "2022-01-20T17:22:40.187Z"
      },
      {
        "duration": 267,
        "start_time": "2022-01-20T17:22:45.674Z"
      },
      {
        "duration": 745,
        "start_time": "2022-01-20T17:22:49.251Z"
      },
      {
        "duration": 393,
        "start_time": "2022-01-20T17:22:49.998Z"
      },
      {
        "duration": 54,
        "start_time": "2022-01-20T17:22:50.394Z"
      },
      {
        "duration": 8,
        "start_time": "2022-01-20T17:22:50.450Z"
      },
      {
        "duration": 21,
        "start_time": "2022-01-20T17:22:50.460Z"
      },
      {
        "duration": 9,
        "start_time": "2022-01-20T17:22:50.483Z"
      },
      {
        "duration": 51,
        "start_time": "2022-01-20T17:22:50.494Z"
      },
      {
        "duration": 8,
        "start_time": "2022-01-20T17:22:50.548Z"
      },
      {
        "duration": 8,
        "start_time": "2022-01-20T17:22:50.558Z"
      },
      {
        "duration": 16,
        "start_time": "2022-01-20T17:22:50.568Z"
      },
      {
        "duration": 15,
        "start_time": "2022-01-20T17:22:50.586Z"
      },
      {
        "duration": 35,
        "start_time": "2022-01-20T17:22:50.603Z"
      },
      {
        "duration": 79,
        "start_time": "2022-01-20T17:22:50.640Z"
      },
      {
        "duration": 26,
        "start_time": "2022-01-20T17:25:37.517Z"
      },
      {
        "duration": 2921,
        "start_time": "2022-01-20T17:26:43.543Z"
      },
      {
        "duration": 25,
        "start_time": "2022-01-20T17:27:17.186Z"
      },
      {
        "duration": 19,
        "start_time": "2022-01-20T17:27:48.998Z"
      },
      {
        "duration": 36,
        "start_time": "2022-01-20T17:28:54.766Z"
      },
      {
        "duration": -463,
        "start_time": "2022-01-20T17:30:01.908Z"
      },
      {
        "duration": 52,
        "start_time": "2022-01-20T17:30:42.979Z"
      },
      {
        "duration": 16,
        "start_time": "2022-01-20T17:31:30.855Z"
      },
      {
        "duration": 65,
        "start_time": "2022-01-20T17:36:16.777Z"
      },
      {
        "duration": 15,
        "start_time": "2022-01-20T17:36:43.187Z"
      },
      {
        "duration": 26,
        "start_time": "2022-01-20T17:48:36.146Z"
      },
      {
        "duration": 27,
        "start_time": "2022-01-20T17:49:10.118Z"
      },
      {
        "duration": 14,
        "start_time": "2022-01-20T17:49:51.242Z"
      },
      {
        "duration": 19,
        "start_time": "2022-01-20T17:50:42.702Z"
      },
      {
        "duration": 14,
        "start_time": "2022-01-20T17:55:23.581Z"
      },
      {
        "duration": 12,
        "start_time": "2022-01-20T17:55:34.589Z"
      },
      {
        "duration": 5,
        "start_time": "2022-01-20T17:55:45.430Z"
      },
      {
        "duration": 11,
        "start_time": "2022-01-20T17:55:48.333Z"
      },
      {
        "duration": 212,
        "start_time": "2022-01-25T12:05:38.454Z"
      },
      {
        "duration": 647,
        "start_time": "2022-01-25T12:05:41.410Z"
      },
      {
        "duration": 399,
        "start_time": "2022-01-25T12:05:42.059Z"
      },
      {
        "duration": 21,
        "start_time": "2022-01-25T12:05:42.460Z"
      },
      {
        "duration": 14,
        "start_time": "2022-01-25T12:05:42.483Z"
      },
      {
        "duration": 36,
        "start_time": "2022-01-25T12:05:42.499Z"
      },
      {
        "duration": 16,
        "start_time": "2022-01-25T12:05:42.537Z"
      },
      {
        "duration": 11,
        "start_time": "2022-01-25T12:05:42.555Z"
      },
      {
        "duration": 53,
        "start_time": "2022-01-25T12:05:42.568Z"
      },
      {
        "duration": 16,
        "start_time": "2022-01-25T12:05:42.623Z"
      },
      {
        "duration": 10,
        "start_time": "2022-01-25T12:05:42.641Z"
      },
      {
        "duration": 10,
        "start_time": "2022-01-25T12:05:42.653Z"
      },
      {
        "duration": 11,
        "start_time": "2022-01-25T12:05:42.665Z"
      },
      {
        "duration": 26,
        "start_time": "2022-01-25T12:05:42.678Z"
      },
      {
        "duration": 14,
        "start_time": "2022-01-25T12:05:42.706Z"
      },
      {
        "duration": 19,
        "start_time": "2022-01-25T12:05:42.722Z"
      },
      {
        "duration": 90,
        "start_time": "2022-01-25T12:05:42.743Z"
      },
      {
        "duration": 223,
        "start_time": "2022-01-25T12:05:42.834Z"
      },
      {
        "duration": 141,
        "start_time": "2022-01-25T12:09:10.969Z"
      },
      {
        "duration": 5,
        "start_time": "2022-01-25T12:09:18.134Z"
      },
      {
        "duration": 12,
        "start_time": "2022-01-25T12:09:27.485Z"
      },
      {
        "duration": 5,
        "start_time": "2022-01-25T12:12:09.166Z"
      },
      {
        "duration": 8,
        "start_time": "2022-01-25T12:12:21.294Z"
      },
      {
        "duration": 5,
        "start_time": "2022-01-25T12:12:57.673Z"
      },
      {
        "duration": 9,
        "start_time": "2022-01-25T12:12:59.749Z"
      },
      {
        "duration": 4,
        "start_time": "2022-01-25T12:13:02.618Z"
      },
      {
        "duration": 9,
        "start_time": "2022-01-25T12:13:03.254Z"
      },
      {
        "duration": 654,
        "start_time": "2022-01-25T12:16:52.191Z"
      },
      {
        "duration": 418,
        "start_time": "2022-01-25T12:16:52.847Z"
      },
      {
        "duration": 22,
        "start_time": "2022-01-25T12:16:53.267Z"
      },
      {
        "duration": 12,
        "start_time": "2022-01-25T12:16:53.291Z"
      },
      {
        "duration": 32,
        "start_time": "2022-01-25T12:16:53.305Z"
      },
      {
        "duration": 16,
        "start_time": "2022-01-25T12:16:53.339Z"
      },
      {
        "duration": 9,
        "start_time": "2022-01-25T12:16:53.357Z"
      },
      {
        "duration": 31,
        "start_time": "2022-01-25T12:16:53.397Z"
      },
      {
        "duration": 15,
        "start_time": "2022-01-25T12:16:53.430Z"
      },
      {
        "duration": 8,
        "start_time": "2022-01-25T12:16:53.447Z"
      },
      {
        "duration": 14,
        "start_time": "2022-01-25T12:16:53.456Z"
      },
      {
        "duration": 32,
        "start_time": "2022-01-25T12:16:53.472Z"
      },
      {
        "duration": 11,
        "start_time": "2022-01-25T12:16:53.506Z"
      },
      {
        "duration": 16,
        "start_time": "2022-01-25T12:16:53.518Z"
      },
      {
        "duration": 16,
        "start_time": "2022-01-25T12:16:53.536Z"
      },
      {
        "duration": 92,
        "start_time": "2022-01-25T12:16:53.554Z"
      },
      {
        "duration": 241,
        "start_time": "2022-01-25T12:17:10.822Z"
      },
      {
        "duration": 661,
        "start_time": "2022-01-25T12:17:26.730Z"
      },
      {
        "duration": 433,
        "start_time": "2022-01-25T12:17:27.393Z"
      },
      {
        "duration": 22,
        "start_time": "2022-01-25T12:17:27.828Z"
      },
      {
        "duration": 12,
        "start_time": "2022-01-25T12:17:27.852Z"
      },
      {
        "duration": 38,
        "start_time": "2022-01-25T12:17:27.866Z"
      },
      {
        "duration": 16,
        "start_time": "2022-01-25T12:17:27.906Z"
      },
      {
        "duration": 9,
        "start_time": "2022-01-25T12:17:27.924Z"
      },
      {
        "duration": 37,
        "start_time": "2022-01-25T12:17:27.934Z"
      },
      {
        "duration": 31,
        "start_time": "2022-01-25T12:17:27.973Z"
      },
      {
        "duration": 9,
        "start_time": "2022-01-25T12:17:28.006Z"
      },
      {
        "duration": 9,
        "start_time": "2022-01-25T12:17:28.017Z"
      },
      {
        "duration": 10,
        "start_time": "2022-01-25T12:17:28.027Z"
      },
      {
        "duration": 11,
        "start_time": "2022-01-25T12:17:28.039Z"
      },
      {
        "duration": 14,
        "start_time": "2022-01-25T12:17:28.051Z"
      },
      {
        "duration": 44,
        "start_time": "2022-01-25T12:17:28.067Z"
      },
      {
        "duration": 72,
        "start_time": "2022-01-25T12:17:28.113Z"
      },
      {
        "duration": 86,
        "start_time": "2022-01-25T12:17:28.186Z"
      },
      {
        "duration": 219,
        "start_time": "2022-01-25T12:17:28.274Z"
      },
      {
        "duration": 20,
        "start_time": "2022-01-25T12:17:54.463Z"
      },
      {
        "duration": 23,
        "start_time": "2022-01-25T12:18:06.412Z"
      },
      {
        "duration": 20,
        "start_time": "2022-01-25T12:18:22.344Z"
      },
      {
        "duration": 221,
        "start_time": "2022-01-25T12:19:04.155Z"
      },
      {
        "duration": 173,
        "start_time": "2022-01-25T12:19:18.968Z"
      },
      {
        "duration": 682,
        "start_time": "2022-01-25T12:19:23.079Z"
      },
      {
        "duration": 435,
        "start_time": "2022-01-25T12:19:23.763Z"
      },
      {
        "duration": 21,
        "start_time": "2022-01-25T12:19:24.200Z"
      },
      {
        "duration": 12,
        "start_time": "2022-01-25T12:19:24.223Z"
      },
      {
        "duration": 36,
        "start_time": "2022-01-25T12:19:24.236Z"
      },
      {
        "duration": 32,
        "start_time": "2022-01-25T12:19:24.274Z"
      },
      {
        "duration": 10,
        "start_time": "2022-01-25T12:19:24.308Z"
      },
      {
        "duration": 34,
        "start_time": "2022-01-25T12:19:24.320Z"
      },
      {
        "duration": 14,
        "start_time": "2022-01-25T12:19:24.356Z"
      },
      {
        "duration": 35,
        "start_time": "2022-01-25T12:19:24.371Z"
      },
      {
        "duration": 10,
        "start_time": "2022-01-25T12:19:24.407Z"
      },
      {
        "duration": 12,
        "start_time": "2022-01-25T12:19:24.419Z"
      },
      {
        "duration": 10,
        "start_time": "2022-01-25T12:19:24.433Z"
      },
      {
        "duration": 14,
        "start_time": "2022-01-25T12:19:24.444Z"
      },
      {
        "duration": 16,
        "start_time": "2022-01-25T12:19:24.459Z"
      },
      {
        "duration": 69,
        "start_time": "2022-01-25T12:19:24.497Z"
      },
      {
        "duration": 217,
        "start_time": "2022-01-25T12:19:45.791Z"
      },
      {
        "duration": 634,
        "start_time": "2022-01-25T12:19:49.323Z"
      },
      {
        "duration": 456,
        "start_time": "2022-01-25T12:19:49.959Z"
      },
      {
        "duration": 22,
        "start_time": "2022-01-25T12:19:50.417Z"
      },
      {
        "duration": 12,
        "start_time": "2022-01-25T12:19:50.441Z"
      },
      {
        "duration": 38,
        "start_time": "2022-01-25T12:19:50.454Z"
      },
      {
        "duration": 18,
        "start_time": "2022-01-25T12:19:50.494Z"
      },
      {
        "duration": 10,
        "start_time": "2022-01-25T12:19:50.514Z"
      },
      {
        "duration": 34,
        "start_time": "2022-01-25T12:19:50.526Z"
      },
      {
        "duration": 39,
        "start_time": "2022-01-25T12:19:50.562Z"
      },
      {
        "duration": 7,
        "start_time": "2022-01-25T12:19:50.603Z"
      },
      {
        "duration": 13,
        "start_time": "2022-01-25T12:19:50.612Z"
      },
      {
        "duration": 11,
        "start_time": "2022-01-25T12:19:50.626Z"
      },
      {
        "duration": 15,
        "start_time": "2022-01-25T12:19:50.639Z"
      },
      {
        "duration": 25,
        "start_time": "2022-01-25T12:19:50.656Z"
      },
      {
        "duration": 27,
        "start_time": "2022-01-25T12:19:50.682Z"
      },
      {
        "duration": 68,
        "start_time": "2022-01-25T12:19:50.710Z"
      },
      {
        "duration": 89,
        "start_time": "2022-01-25T12:19:50.780Z"
      },
      {
        "duration": 30,
        "start_time": "2022-01-25T12:19:50.870Z"
      },
      {
        "duration": 680,
        "start_time": "2022-01-25T12:25:19.584Z"
      },
      {
        "duration": 451,
        "start_time": "2022-01-25T12:25:20.266Z"
      },
      {
        "duration": 22,
        "start_time": "2022-01-25T12:25:20.719Z"
      },
      {
        "duration": 12,
        "start_time": "2022-01-25T12:25:20.743Z"
      },
      {
        "duration": 40,
        "start_time": "2022-01-25T12:25:20.757Z"
      },
      {
        "duration": 19,
        "start_time": "2022-01-25T12:25:20.799Z"
      },
      {
        "duration": 10,
        "start_time": "2022-01-25T12:25:20.820Z"
      },
      {
        "duration": 42,
        "start_time": "2022-01-25T12:25:20.832Z"
      },
      {
        "duration": 29,
        "start_time": "2022-01-25T12:25:20.876Z"
      },
      {
        "duration": 8,
        "start_time": "2022-01-25T12:25:20.907Z"
      },
      {
        "duration": 10,
        "start_time": "2022-01-25T12:25:20.917Z"
      },
      {
        "duration": 12,
        "start_time": "2022-01-25T12:25:20.929Z"
      },
      {
        "duration": 17,
        "start_time": "2022-01-25T12:25:20.943Z"
      },
      {
        "duration": 35,
        "start_time": "2022-01-25T12:25:20.962Z"
      },
      {
        "duration": 20,
        "start_time": "2022-01-25T12:25:21.000Z"
      },
      {
        "duration": 88,
        "start_time": "2022-01-25T12:25:21.022Z"
      },
      {
        "duration": 4,
        "start_time": "2022-01-25T12:25:21.112Z"
      },
      {
        "duration": 689,
        "start_time": "2022-01-26T08:40:31.697Z"
      },
      {
        "duration": 448,
        "start_time": "2022-01-26T08:40:32.388Z"
      },
      {
        "duration": 27,
        "start_time": "2022-01-26T08:40:32.839Z"
      },
      {
        "duration": 14,
        "start_time": "2022-01-26T08:40:32.868Z"
      },
      {
        "duration": 47,
        "start_time": "2022-01-26T08:40:32.884Z"
      },
      {
        "duration": 19,
        "start_time": "2022-01-26T08:40:32.933Z"
      },
      {
        "duration": 11,
        "start_time": "2022-01-26T08:40:32.955Z"
      },
      {
        "duration": 55,
        "start_time": "2022-01-26T08:40:32.969Z"
      },
      {
        "duration": 20,
        "start_time": "2022-01-26T08:40:33.027Z"
      },
      {
        "duration": 9,
        "start_time": "2022-01-26T08:40:33.049Z"
      },
      {
        "duration": 40,
        "start_time": "2022-01-26T08:40:33.060Z"
      },
      {
        "duration": 11,
        "start_time": "2022-01-26T08:40:33.102Z"
      },
      {
        "duration": 13,
        "start_time": "2022-01-26T08:40:33.115Z"
      },
      {
        "duration": 15,
        "start_time": "2022-01-26T08:40:33.129Z"
      },
      {
        "duration": 18,
        "start_time": "2022-01-26T08:40:33.146Z"
      },
      {
        "duration": 3,
        "start_time": "2022-01-26T08:40:33.167Z"
      },
      {
        "duration": 25,
        "start_time": "2022-01-26T08:40:33.172Z"
      },
      {
        "duration": 61,
        "start_time": "2022-01-26T08:40:33.199Z"
      },
      {
        "duration": 2,
        "start_time": "2022-01-26T08:40:42.557Z"
      },
      {
        "duration": 427,
        "start_time": "2022-01-26T08:40:42.564Z"
      },
      {
        "duration": 21,
        "start_time": "2022-01-26T08:40:42.993Z"
      },
      {
        "duration": 9,
        "start_time": "2022-01-26T08:40:43.016Z"
      },
      {
        "duration": 35,
        "start_time": "2022-01-26T08:40:43.027Z"
      },
      {
        "duration": 34,
        "start_time": "2022-01-26T08:40:43.064Z"
      },
      {
        "duration": 10,
        "start_time": "2022-01-26T08:40:43.100Z"
      },
      {
        "duration": 33,
        "start_time": "2022-01-26T08:40:43.112Z"
      },
      {
        "duration": 14,
        "start_time": "2022-01-26T08:40:43.147Z"
      },
      {
        "duration": 37,
        "start_time": "2022-01-26T08:40:43.163Z"
      },
      {
        "duration": 13,
        "start_time": "2022-01-26T08:40:43.202Z"
      },
      {
        "duration": 14,
        "start_time": "2022-01-26T08:40:43.217Z"
      },
      {
        "duration": 8,
        "start_time": "2022-01-26T08:40:43.233Z"
      },
      {
        "duration": 14,
        "start_time": "2022-01-26T08:40:43.242Z"
      },
      {
        "duration": 23,
        "start_time": "2022-01-26T08:40:43.258Z"
      },
      {
        "duration": 15,
        "start_time": "2022-01-26T08:40:43.283Z"
      },
      {
        "duration": 8,
        "start_time": "2022-01-26T08:40:43.300Z"
      },
      {
        "duration": 82,
        "start_time": "2022-01-26T08:40:43.310Z"
      },
      {
        "duration": 13,
        "start_time": "2022-01-26T08:40:54.011Z"
      },
      {
        "duration": 3,
        "start_time": "2022-01-26T08:42:19.800Z"
      },
      {
        "duration": 427,
        "start_time": "2022-01-26T08:42:19.809Z"
      },
      {
        "duration": 21,
        "start_time": "2022-01-26T08:42:20.238Z"
      },
      {
        "duration": 8,
        "start_time": "2022-01-26T08:42:20.261Z"
      },
      {
        "duration": 31,
        "start_time": "2022-01-26T08:42:20.271Z"
      },
      {
        "duration": 18,
        "start_time": "2022-01-26T08:42:20.304Z"
      },
      {
        "duration": 9,
        "start_time": "2022-01-26T08:42:20.324Z"
      },
      {
        "duration": 30,
        "start_time": "2022-01-26T08:42:20.334Z"
      },
      {
        "duration": 39,
        "start_time": "2022-01-26T08:42:20.366Z"
      },
      {
        "duration": 8,
        "start_time": "2022-01-26T08:42:20.408Z"
      },
      {
        "duration": 9,
        "start_time": "2022-01-26T08:42:20.418Z"
      },
      {
        "duration": 11,
        "start_time": "2022-01-26T08:42:20.429Z"
      },
      {
        "duration": 12,
        "start_time": "2022-01-26T08:42:20.441Z"
      },
      {
        "duration": 20,
        "start_time": "2022-01-26T08:42:20.455Z"
      },
      {
        "duration": 17,
        "start_time": "2022-01-26T08:42:20.497Z"
      },
      {
        "duration": 7,
        "start_time": "2022-01-26T08:42:20.515Z"
      },
      {
        "duration": 5,
        "start_time": "2022-01-26T08:42:20.524Z"
      },
      {
        "duration": 52,
        "start_time": "2022-01-26T08:42:20.531Z"
      },
      {
        "duration": 633,
        "start_time": "2022-01-26T08:42:37.464Z"
      },
      {
        "duration": 409,
        "start_time": "2022-01-26T08:42:38.099Z"
      },
      {
        "duration": 21,
        "start_time": "2022-01-26T08:42:38.510Z"
      },
      {
        "duration": 12,
        "start_time": "2022-01-26T08:42:38.533Z"
      },
      {
        "duration": 30,
        "start_time": "2022-01-26T08:42:38.546Z"
      },
      {
        "duration": 28,
        "start_time": "2022-01-26T08:42:38.577Z"
      },
      {
        "duration": 11,
        "start_time": "2022-01-26T08:42:38.607Z"
      },
      {
        "duration": 44,
        "start_time": "2022-01-26T08:42:38.619Z"
      },
      {
        "duration": 14,
        "start_time": "2022-01-26T08:42:38.665Z"
      },
      {
        "duration": 18,
        "start_time": "2022-01-26T08:42:38.680Z"
      },
      {
        "duration": 13,
        "start_time": "2022-01-26T08:42:38.700Z"
      },
      {
        "duration": 12,
        "start_time": "2022-01-26T08:42:38.714Z"
      },
      {
        "duration": 10,
        "start_time": "2022-01-26T08:42:38.727Z"
      },
      {
        "duration": 16,
        "start_time": "2022-01-26T08:42:38.738Z"
      },
      {
        "duration": 16,
        "start_time": "2022-01-26T08:42:38.756Z"
      },
      {
        "duration": 2,
        "start_time": "2022-01-26T08:42:38.774Z"
      },
      {
        "duration": 20,
        "start_time": "2022-01-26T08:42:38.777Z"
      },
      {
        "duration": 51,
        "start_time": "2022-01-26T08:42:38.799Z"
      },
      {
        "duration": 210,
        "start_time": "2022-01-26T08:42:52.902Z"
      },
      {
        "duration": 178,
        "start_time": "2022-01-26T08:42:56.023Z"
      },
      {
        "duration": 737,
        "start_time": "2022-01-26T08:43:02.577Z"
      },
      {
        "duration": 433,
        "start_time": "2022-01-26T08:43:03.316Z"
      },
      {
        "duration": 22,
        "start_time": "2022-01-26T08:43:03.751Z"
      },
      {
        "duration": 14,
        "start_time": "2022-01-26T08:43:03.776Z"
      },
      {
        "duration": 43,
        "start_time": "2022-01-26T08:43:03.792Z"
      },
      {
        "duration": 16,
        "start_time": "2022-01-26T08:43:03.837Z"
      },
      {
        "duration": 12,
        "start_time": "2022-01-26T08:43:03.855Z"
      },
      {
        "duration": 43,
        "start_time": "2022-01-26T08:43:03.869Z"
      },
      {
        "duration": 14,
        "start_time": "2022-01-26T08:43:03.915Z"
      },
      {
        "duration": 11,
        "start_time": "2022-01-26T08:43:03.931Z"
      },
      {
        "duration": 11,
        "start_time": "2022-01-26T08:43:03.943Z"
      },
      {
        "duration": 17,
        "start_time": "2022-01-26T08:43:03.956Z"
      },
      {
        "duration": 7,
        "start_time": "2022-01-26T08:43:03.998Z"
      },
      {
        "duration": 17,
        "start_time": "2022-01-26T08:43:04.007Z"
      },
      {
        "duration": 18,
        "start_time": "2022-01-26T08:43:04.026Z"
      },
      {
        "duration": 2,
        "start_time": "2022-01-26T08:43:04.046Z"
      },
      {
        "duration": 13,
        "start_time": "2022-01-26T08:43:04.050Z"
      },
      {
        "duration": 78,
        "start_time": "2022-01-26T08:43:04.065Z"
      },
      {
        "duration": 273,
        "start_time": "2022-01-26T08:43:51.570Z"
      },
      {
        "duration": 168,
        "start_time": "2022-01-26T08:43:54.607Z"
      },
      {
        "duration": 657,
        "start_time": "2022-01-26T08:44:05.617Z"
      },
      {
        "duration": 433,
        "start_time": "2022-01-26T08:44:06.276Z"
      },
      {
        "duration": 21,
        "start_time": "2022-01-26T08:44:06.711Z"
      },
      {
        "duration": 14,
        "start_time": "2022-01-26T08:44:06.734Z"
      },
      {
        "duration": 51,
        "start_time": "2022-01-26T08:44:06.750Z"
      },
      {
        "duration": 19,
        "start_time": "2022-01-26T08:44:06.803Z"
      },
      {
        "duration": 9,
        "start_time": "2022-01-26T08:44:06.824Z"
      },
      {
        "duration": 34,
        "start_time": "2022-01-26T08:44:06.836Z"
      },
      {
        "duration": 39,
        "start_time": "2022-01-26T08:44:06.871Z"
      },
      {
        "duration": 9,
        "start_time": "2022-01-26T08:44:06.911Z"
      },
      {
        "duration": 10,
        "start_time": "2022-01-26T08:44:06.922Z"
      },
      {
        "duration": 15,
        "start_time": "2022-01-26T08:44:06.933Z"
      },
      {
        "duration": 11,
        "start_time": "2022-01-26T08:44:06.949Z"
      },
      {
        "duration": 36,
        "start_time": "2022-01-26T08:44:06.962Z"
      },
      {
        "duration": 25,
        "start_time": "2022-01-26T08:44:07.000Z"
      },
      {
        "duration": 3,
        "start_time": "2022-01-26T08:44:07.027Z"
      },
      {
        "duration": 6,
        "start_time": "2022-01-26T08:44:07.032Z"
      },
      {
        "duration": 80,
        "start_time": "2022-01-26T08:44:07.040Z"
      },
      {
        "duration": 14,
        "start_time": "2022-01-26T08:44:17.200Z"
      },
      {
        "duration": 250,
        "start_time": "2022-01-26T08:49:28.343Z"
      },
      {
        "duration": 223,
        "start_time": "2022-01-26T08:56:19.419Z"
      },
      {
        "duration": 515,
        "start_time": "2022-01-26T08:58:25.618Z"
      },
      {
        "duration": 5,
        "start_time": "2022-01-26T09:10:42.588Z"
      },
      {
        "duration": 5,
        "start_time": "2022-01-26T09:11:03.044Z"
      },
      {
        "duration": 195,
        "start_time": "2022-01-26T09:13:59.835Z"
      },
      {
        "duration": 189,
        "start_time": "2022-01-26T09:14:05.420Z"
      },
      {
        "duration": 10,
        "start_time": "2022-01-26T09:14:23.374Z"
      },
      {
        "duration": 6,
        "start_time": "2022-01-26T09:14:29.203Z"
      },
      {
        "duration": 8,
        "start_time": "2022-01-26T09:14:30.472Z"
      },
      {
        "duration": 5,
        "start_time": "2022-01-26T09:15:01.683Z"
      },
      {
        "duration": 5,
        "start_time": "2022-01-26T09:15:15.587Z"
      },
      {
        "duration": 7,
        "start_time": "2022-01-26T09:15:44.303Z"
      },
      {
        "duration": 5,
        "start_time": "2022-01-26T09:16:03.039Z"
      },
      {
        "duration": 5,
        "start_time": "2022-01-26T09:16:09.991Z"
      },
      {
        "duration": 19,
        "start_time": "2022-01-26T09:17:20.223Z"
      },
      {
        "duration": 5,
        "start_time": "2022-01-26T09:17:53.755Z"
      },
      {
        "duration": 8,
        "start_time": "2022-01-26T09:20:53.543Z"
      },
      {
        "duration": 30,
        "start_time": "2022-01-26T09:23:03.778Z"
      },
      {
        "duration": 24,
        "start_time": "2022-01-26T09:23:05.178Z"
      },
      {
        "duration": 113,
        "start_time": "2022-01-26T09:26:34.486Z"
      },
      {
        "duration": 191,
        "start_time": "2022-01-26T09:27:00.146Z"
      },
      {
        "duration": 517,
        "start_time": "2022-01-26T09:27:25.455Z"
      },
      {
        "duration": 417,
        "start_time": "2022-01-26T09:27:25.974Z"
      },
      {
        "duration": 20,
        "start_time": "2022-01-26T09:27:26.394Z"
      },
      {
        "duration": 9,
        "start_time": "2022-01-26T09:27:26.416Z"
      },
      {
        "duration": 33,
        "start_time": "2022-01-26T09:27:26.427Z"
      },
      {
        "duration": 17,
        "start_time": "2022-01-26T09:27:26.461Z"
      },
      {
        "duration": 25,
        "start_time": "2022-01-26T09:27:26.480Z"
      },
      {
        "duration": 30,
        "start_time": "2022-01-26T09:27:26.508Z"
      },
      {
        "duration": 14,
        "start_time": "2022-01-26T09:27:26.540Z"
      },
      {
        "duration": 9,
        "start_time": "2022-01-26T09:27:26.556Z"
      },
      {
        "duration": 32,
        "start_time": "2022-01-26T09:27:26.567Z"
      },
      {
        "duration": 10,
        "start_time": "2022-01-26T09:27:26.601Z"
      },
      {
        "duration": 8,
        "start_time": "2022-01-26T09:27:26.613Z"
      },
      {
        "duration": 14,
        "start_time": "2022-01-26T09:27:26.623Z"
      },
      {
        "duration": 16,
        "start_time": "2022-01-26T09:27:26.639Z"
      },
      {
        "duration": 3,
        "start_time": "2022-01-26T09:27:26.657Z"
      },
      {
        "duration": 36,
        "start_time": "2022-01-26T09:27:26.662Z"
      },
      {
        "duration": 9,
        "start_time": "2022-01-26T09:27:26.700Z"
      },
      {
        "duration": 8,
        "start_time": "2022-01-26T09:27:26.710Z"
      },
      {
        "duration": 10,
        "start_time": "2022-01-26T09:27:26.719Z"
      },
      {
        "duration": 28,
        "start_time": "2022-01-26T09:27:26.731Z"
      },
      {
        "duration": 41,
        "start_time": "2022-01-26T09:27:26.761Z"
      },
      {
        "duration": 104,
        "start_time": "2022-01-26T09:27:26.805Z"
      },
      {
        "duration": 5,
        "start_time": "2022-01-26T09:27:26.912Z"
      },
      {
        "duration": 6,
        "start_time": "2022-01-26T09:28:12.050Z"
      },
      {
        "duration": 12,
        "start_time": "2022-01-26T09:28:34.861Z"
      },
      {
        "duration": 6,
        "start_time": "2022-01-26T09:29:04.734Z"
      },
      {
        "duration": 21,
        "start_time": "2022-01-26T09:33:45.694Z"
      },
      {
        "duration": 17,
        "start_time": "2022-01-26T09:33:46.344Z"
      },
      {
        "duration": 50,
        "start_time": "2022-01-26T09:34:02.442Z"
      },
      {
        "duration": 23,
        "start_time": "2022-01-26T09:35:15.386Z"
      },
      {
        "duration": 67,
        "start_time": "2022-01-26T09:38:19.673Z"
      },
      {
        "duration": 39,
        "start_time": "2022-01-26T09:46:20.360Z"
      },
      {
        "duration": 9,
        "start_time": "2022-01-26T09:46:42.059Z"
      },
      {
        "duration": 8,
        "start_time": "2022-01-26T09:47:15.164Z"
      },
      {
        "duration": 8,
        "start_time": "2022-01-26T09:47:18.885Z"
      },
      {
        "duration": 3,
        "start_time": "2022-01-26T09:48:10.600Z"
      },
      {
        "duration": 440,
        "start_time": "2022-01-26T09:48:10.604Z"
      },
      {
        "duration": 22,
        "start_time": "2022-01-26T09:48:11.046Z"
      },
      {
        "duration": 10,
        "start_time": "2022-01-26T09:48:11.070Z"
      },
      {
        "duration": 46,
        "start_time": "2022-01-26T09:48:11.082Z"
      },
      {
        "duration": 17,
        "start_time": "2022-01-26T09:48:11.130Z"
      },
      {
        "duration": 22,
        "start_time": "2022-01-26T09:48:11.150Z"
      },
      {
        "duration": 51,
        "start_time": "2022-01-26T09:48:11.175Z"
      },
      {
        "duration": 15,
        "start_time": "2022-01-26T09:48:11.228Z"
      },
      {
        "duration": 25,
        "start_time": "2022-01-26T09:48:11.245Z"
      },
      {
        "duration": 33,
        "start_time": "2022-01-26T09:48:11.271Z"
      },
      {
        "duration": 21,
        "start_time": "2022-01-26T09:48:11.306Z"
      },
      {
        "duration": 19,
        "start_time": "2022-01-26T09:48:11.329Z"
      },
      {
        "duration": 29,
        "start_time": "2022-01-26T09:48:11.349Z"
      },
      {
        "duration": 21,
        "start_time": "2022-01-26T09:48:11.380Z"
      },
      {
        "duration": 21,
        "start_time": "2022-01-26T09:48:11.403Z"
      },
      {
        "duration": 12,
        "start_time": "2022-01-26T09:48:11.426Z"
      },
      {
        "duration": 26,
        "start_time": "2022-01-26T09:48:11.439Z"
      },
      {
        "duration": 37,
        "start_time": "2022-01-26T09:48:11.468Z"
      },
      {
        "duration": 23,
        "start_time": "2022-01-26T09:48:11.507Z"
      },
      {
        "duration": 108,
        "start_time": "2022-01-26T09:48:11.532Z"
      },
      {
        "duration": 5,
        "start_time": "2022-01-26T09:48:11.642Z"
      },
      {
        "duration": 35,
        "start_time": "2022-01-26T09:48:11.649Z"
      },
      {
        "duration": 24,
        "start_time": "2022-01-26T09:48:11.686Z"
      },
      {
        "duration": 48,
        "start_time": "2022-01-26T09:48:11.712Z"
      },
      {
        "duration": 29,
        "start_time": "2022-01-26T09:48:11.762Z"
      },
      {
        "duration": 33,
        "start_time": "2022-01-26T09:48:11.798Z"
      },
      {
        "duration": 62,
        "start_time": "2022-01-26T09:48:11.833Z"
      },
      {
        "duration": 38,
        "start_time": "2022-01-26T09:48:11.897Z"
      },
      {
        "duration": 8,
        "start_time": "2022-01-26T09:48:11.937Z"
      },
      {
        "duration": 9,
        "start_time": "2022-01-26T09:49:21.000Z"
      },
      {
        "duration": 9,
        "start_time": "2022-01-26T09:49:33.883Z"
      },
      {
        "duration": 313,
        "start_time": "2022-01-26T09:49:51.263Z"
      },
      {
        "duration": 25,
        "start_time": "2022-01-26T09:50:26.353Z"
      },
      {
        "duration": 9,
        "start_time": "2022-01-26T09:50:53.859Z"
      },
      {
        "duration": 8,
        "start_time": "2022-01-26T09:51:43.347Z"
      },
      {
        "duration": 11,
        "start_time": "2022-01-26T09:51:49.088Z"
      },
      {
        "duration": 10,
        "start_time": "2022-01-26T09:52:33.411Z"
      },
      {
        "duration": 24,
        "start_time": "2022-01-26T09:53:12.239Z"
      },
      {
        "duration": 8,
        "start_time": "2022-01-26T09:53:22.299Z"
      },
      {
        "duration": 33,
        "start_time": "2022-01-26T11:12:09.856Z"
      },
      {
        "duration": 181,
        "start_time": "2022-01-26T11:12:11.061Z"
      },
      {
        "duration": 32,
        "start_time": "2022-01-26T11:12:29.669Z"
      },
      {
        "duration": 9,
        "start_time": "2022-01-26T11:12:30.189Z"
      },
      {
        "duration": 5,
        "start_time": "2022-01-26T11:12:43.288Z"
      },
      {
        "duration": 10,
        "start_time": "2022-01-26T11:12:58.565Z"
      },
      {
        "duration": 4,
        "start_time": "2022-01-26T11:13:51.976Z"
      },
      {
        "duration": 9,
        "start_time": "2022-01-26T11:13:52.590Z"
      },
      {
        "duration": 4,
        "start_time": "2022-01-26T11:14:58.856Z"
      },
      {
        "duration": 1970,
        "start_time": "2022-01-26T11:14:58.862Z"
      },
      {
        "duration": 24,
        "start_time": "2022-01-26T11:15:00.834Z"
      },
      {
        "duration": 135,
        "start_time": "2022-01-26T11:15:00.861Z"
      },
      {
        "duration": 101,
        "start_time": "2022-01-26T11:15:00.998Z"
      },
      {
        "duration": 84,
        "start_time": "2022-01-26T11:15:01.100Z"
      },
      {
        "duration": 100,
        "start_time": "2022-01-26T11:15:01.187Z"
      },
      {
        "duration": 101,
        "start_time": "2022-01-26T11:15:01.291Z"
      },
      {
        "duration": 28,
        "start_time": "2022-01-26T11:15:01.394Z"
      },
      {
        "duration": 63,
        "start_time": "2022-01-26T11:15:01.424Z"
      },
      {
        "duration": 25,
        "start_time": "2022-01-26T11:15:01.489Z"
      },
      {
        "duration": 76,
        "start_time": "2022-01-26T11:15:01.516Z"
      },
      {
        "duration": 33,
        "start_time": "2022-01-26T11:15:01.594Z"
      },
      {
        "duration": 108,
        "start_time": "2022-01-26T11:15:01.629Z"
      },
      {
        "duration": 69,
        "start_time": "2022-01-26T11:15:01.740Z"
      },
      {
        "duration": 18,
        "start_time": "2022-01-26T11:15:01.811Z"
      },
      {
        "duration": 24,
        "start_time": "2022-01-26T11:15:01.831Z"
      },
      {
        "duration": 27,
        "start_time": "2022-01-26T11:15:01.857Z"
      },
      {
        "duration": 38,
        "start_time": "2022-01-26T11:15:01.887Z"
      },
      {
        "duration": 42,
        "start_time": "2022-01-26T11:15:01.928Z"
      },
      {
        "duration": 121,
        "start_time": "2022-01-26T11:15:01.971Z"
      },
      {
        "duration": 5,
        "start_time": "2022-01-26T11:15:02.094Z"
      },
      {
        "duration": 58,
        "start_time": "2022-01-26T11:15:02.101Z"
      },
      {
        "duration": 40,
        "start_time": "2022-01-26T11:15:02.161Z"
      },
      {
        "duration": 53,
        "start_time": "2022-01-26T11:15:02.203Z"
      },
      {
        "duration": 32,
        "start_time": "2022-01-26T11:15:02.258Z"
      },
      {
        "duration": 21,
        "start_time": "2022-01-26T11:15:02.292Z"
      },
      {
        "duration": 71,
        "start_time": "2022-01-26T11:15:02.315Z"
      },
      {
        "duration": 14,
        "start_time": "2022-01-26T11:15:02.388Z"
      },
      {
        "duration": 53,
        "start_time": "2022-01-26T11:15:02.404Z"
      },
      {
        "duration": 14,
        "start_time": "2022-01-26T11:15:02.459Z"
      },
      {
        "duration": 38,
        "start_time": "2022-01-26T11:15:02.475Z"
      },
      {
        "duration": 21,
        "start_time": "2022-01-26T11:15:02.515Z"
      },
      {
        "duration": 47,
        "start_time": "2022-01-26T11:15:02.537Z"
      },
      {
        "duration": 190,
        "start_time": "2022-01-26T11:15:02.586Z"
      },
      {
        "duration": 465,
        "start_time": "2022-01-26T11:15:02.313Z"
      },
      {
        "duration": 463,
        "start_time": "2022-01-26T11:15:02.316Z"
      },
      {
        "duration": 462,
        "start_time": "2022-01-26T11:15:02.318Z"
      },
      {
        "duration": 453,
        "start_time": "2022-01-26T11:15:02.327Z"
      },
      {
        "duration": 451,
        "start_time": "2022-01-26T11:15:02.331Z"
      },
      {
        "duration": 5,
        "start_time": "2022-01-26T11:15:24.080Z"
      },
      {
        "duration": 8,
        "start_time": "2022-01-26T11:15:24.900Z"
      },
      {
        "duration": 10,
        "start_time": "2022-01-26T11:15:26.068Z"
      },
      {
        "duration": 27,
        "start_time": "2022-01-26T11:15:26.409Z"
      },
      {
        "duration": 5,
        "start_time": "2022-01-26T11:15:26.736Z"
      },
      {
        "duration": 9,
        "start_time": "2022-01-26T11:15:27.084Z"
      },
      {
        "duration": 14,
        "start_time": "2022-01-26T11:17:15.956Z"
      },
      {
        "duration": 21,
        "start_time": "2022-01-26T11:17:32.393Z"
      },
      {
        "duration": 719,
        "start_time": "2022-01-26T11:19:06.212Z"
      },
      {
        "duration": 10,
        "start_time": "2022-01-26T11:19:07.136Z"
      },
      {
        "duration": 4,
        "start_time": "2022-01-26T11:19:46.948Z"
      },
      {
        "duration": 9,
        "start_time": "2022-01-26T11:19:49.743Z"
      },
      {
        "duration": 3,
        "start_time": "2022-01-26T11:20:09.704Z"
      },
      {
        "duration": 422,
        "start_time": "2022-01-26T11:20:09.709Z"
      },
      {
        "duration": 21,
        "start_time": "2022-01-26T11:20:10.133Z"
      },
      {
        "duration": 10,
        "start_time": "2022-01-26T11:20:10.156Z"
      },
      {
        "duration": 43,
        "start_time": "2022-01-26T11:20:10.168Z"
      },
      {
        "duration": 17,
        "start_time": "2022-01-26T11:20:10.213Z"
      },
      {
        "duration": 11,
        "start_time": "2022-01-26T11:20:10.233Z"
      },
      {
        "duration": 32,
        "start_time": "2022-01-26T11:20:10.246Z"
      },
      {
        "duration": 32,
        "start_time": "2022-01-26T11:20:10.280Z"
      },
      {
        "duration": 8,
        "start_time": "2022-01-26T11:20:10.314Z"
      },
      {
        "duration": 13,
        "start_time": "2022-01-26T11:20:10.324Z"
      },
      {
        "duration": 11,
        "start_time": "2022-01-26T11:20:10.339Z"
      },
      {
        "duration": 14,
        "start_time": "2022-01-26T11:20:10.352Z"
      },
      {
        "duration": 35,
        "start_time": "2022-01-26T11:20:10.368Z"
      },
      {
        "duration": 24,
        "start_time": "2022-01-26T11:20:10.405Z"
      },
      {
        "duration": 17,
        "start_time": "2022-01-26T11:20:10.431Z"
      },
      {
        "duration": 16,
        "start_time": "2022-01-26T11:20:10.450Z"
      },
      {
        "duration": 25,
        "start_time": "2022-01-26T11:20:10.468Z"
      },
      {
        "duration": 38,
        "start_time": "2022-01-26T11:20:10.497Z"
      },
      {
        "duration": 23,
        "start_time": "2022-01-26T11:20:10.537Z"
      },
      {
        "duration": 94,
        "start_time": "2022-01-26T11:20:10.562Z"
      },
      {
        "duration": 5,
        "start_time": "2022-01-26T11:20:10.657Z"
      },
      {
        "duration": 33,
        "start_time": "2022-01-26T11:20:10.664Z"
      },
      {
        "duration": 15,
        "start_time": "2022-01-26T11:20:10.699Z"
      },
      {
        "duration": 44,
        "start_time": "2022-01-26T11:20:10.715Z"
      },
      {
        "duration": 44,
        "start_time": "2022-01-26T11:20:10.760Z"
      },
      {
        "duration": 19,
        "start_time": "2022-01-26T11:20:10.806Z"
      },
      {
        "duration": 74,
        "start_time": "2022-01-26T11:20:10.827Z"
      },
      {
        "duration": 9,
        "start_time": "2022-01-26T11:20:10.903Z"
      },
      {
        "duration": 34,
        "start_time": "2022-01-26T11:20:10.913Z"
      },
      {
        "duration": 5,
        "start_time": "2022-01-26T11:20:10.949Z"
      },
      {
        "duration": 12,
        "start_time": "2022-01-26T11:20:10.956Z"
      },
      {
        "duration": 36,
        "start_time": "2022-01-26T11:20:10.970Z"
      },
      {
        "duration": 35,
        "start_time": "2022-01-26T11:20:11.008Z"
      },
      {
        "duration": 5,
        "start_time": "2022-01-26T11:20:11.045Z"
      },
      {
        "duration": 23,
        "start_time": "2022-01-26T11:20:11.051Z"
      },
      {
        "duration": 23,
        "start_time": "2022-01-26T11:20:11.076Z"
      },
      {
        "duration": 22,
        "start_time": "2022-01-26T11:20:11.101Z"
      },
      {
        "duration": 39,
        "start_time": "2022-01-26T11:20:11.125Z"
      },
      {
        "duration": 4,
        "start_time": "2022-01-26T11:20:11.166Z"
      },
      {
        "duration": 23,
        "start_time": "2022-01-26T11:20:11.172Z"
      },
      {
        "duration": 16,
        "start_time": "2022-01-26T11:20:11.197Z"
      },
      {
        "duration": 14,
        "start_time": "2022-01-26T11:20:11.215Z"
      },
      {
        "duration": 9,
        "start_time": "2022-01-26T11:21:31.064Z"
      },
      {
        "duration": 15,
        "start_time": "2022-01-26T11:21:41.231Z"
      },
      {
        "duration": 11,
        "start_time": "2022-01-26T11:26:17.568Z"
      },
      {
        "duration": 6,
        "start_time": "2022-01-26T11:29:09.608Z"
      },
      {
        "duration": 16,
        "start_time": "2022-01-26T11:29:20.872Z"
      },
      {
        "duration": 8,
        "start_time": "2022-01-26T11:31:48.580Z"
      },
      {
        "duration": 4,
        "start_time": "2022-01-26T11:32:21.716Z"
      },
      {
        "duration": 186,
        "start_time": "2022-01-26T11:35:07.332Z"
      },
      {
        "duration": 8,
        "start_time": "2022-01-26T11:35:28.975Z"
      },
      {
        "duration": 19,
        "start_time": "2022-01-26T11:35:33.500Z"
      },
      {
        "duration": 20,
        "start_time": "2022-01-26T11:35:48.016Z"
      },
      {
        "duration": 4,
        "start_time": "2022-01-26T11:36:18.703Z"
      },
      {
        "duration": 463,
        "start_time": "2022-01-26T11:36:18.709Z"
      },
      {
        "duration": 22,
        "start_time": "2022-01-26T11:36:19.174Z"
      },
      {
        "duration": 9,
        "start_time": "2022-01-26T11:36:19.198Z"
      },
      {
        "duration": 34,
        "start_time": "2022-01-26T11:36:19.209Z"
      },
      {
        "duration": 18,
        "start_time": "2022-01-26T11:36:19.244Z"
      },
      {
        "duration": 10,
        "start_time": "2022-01-26T11:36:19.264Z"
      },
      {
        "duration": 48,
        "start_time": "2022-01-26T11:36:19.276Z"
      },
      {
        "duration": 15,
        "start_time": "2022-01-26T11:36:19.326Z"
      },
      {
        "duration": 8,
        "start_time": "2022-01-26T11:36:19.342Z"
      },
      {
        "duration": 9,
        "start_time": "2022-01-26T11:36:19.352Z"
      },
      {
        "duration": 38,
        "start_time": "2022-01-26T11:36:19.363Z"
      },
      {
        "duration": 12,
        "start_time": "2022-01-26T11:36:19.403Z"
      },
      {
        "duration": 17,
        "start_time": "2022-01-26T11:36:19.417Z"
      },
      {
        "duration": 21,
        "start_time": "2022-01-26T11:36:19.436Z"
      },
      {
        "duration": 10,
        "start_time": "2022-01-26T11:36:19.459Z"
      },
      {
        "duration": 26,
        "start_time": "2022-01-26T11:36:19.470Z"
      },
      {
        "duration": 11,
        "start_time": "2022-01-26T11:36:19.498Z"
      },
      {
        "duration": 27,
        "start_time": "2022-01-26T11:36:19.513Z"
      },
      {
        "duration": 23,
        "start_time": "2022-01-26T11:36:19.542Z"
      },
      {
        "duration": 109,
        "start_time": "2022-01-26T11:36:19.567Z"
      },
      {
        "duration": 5,
        "start_time": "2022-01-26T11:36:19.678Z"
      },
      {
        "duration": 18,
        "start_time": "2022-01-26T11:36:19.698Z"
      },
      {
        "duration": 14,
        "start_time": "2022-01-26T11:36:19.718Z"
      },
      {
        "duration": 63,
        "start_time": "2022-01-26T11:36:19.734Z"
      },
      {
        "duration": 21,
        "start_time": "2022-01-26T11:36:19.799Z"
      },
      {
        "duration": 17,
        "start_time": "2022-01-26T11:36:19.822Z"
      },
      {
        "duration": 74,
        "start_time": "2022-01-26T11:36:19.841Z"
      },
      {
        "duration": 9,
        "start_time": "2022-01-26T11:36:19.917Z"
      },
      {
        "duration": 33,
        "start_time": "2022-01-26T11:36:19.927Z"
      },
      {
        "duration": 4,
        "start_time": "2022-01-26T11:36:19.962Z"
      },
      {
        "duration": 30,
        "start_time": "2022-01-26T11:36:19.968Z"
      },
      {
        "duration": 17,
        "start_time": "2022-01-26T11:36:20.000Z"
      },
      {
        "duration": 42,
        "start_time": "2022-01-26T11:36:20.019Z"
      },
      {
        "duration": 4,
        "start_time": "2022-01-26T11:36:20.063Z"
      },
      {
        "duration": 10,
        "start_time": "2022-01-26T11:36:20.069Z"
      },
      {
        "duration": 19,
        "start_time": "2022-01-26T11:36:20.081Z"
      },
      {
        "duration": 13,
        "start_time": "2022-01-26T11:36:20.102Z"
      },
      {
        "duration": 23,
        "start_time": "2022-01-26T11:36:20.116Z"
      },
      {
        "duration": 4,
        "start_time": "2022-01-26T11:36:20.141Z"
      },
      {
        "duration": 13,
        "start_time": "2022-01-26T11:36:20.147Z"
      },
      {
        "duration": 11,
        "start_time": "2022-01-26T11:36:20.162Z"
      },
      {
        "duration": 33,
        "start_time": "2022-01-26T11:36:20.174Z"
      },
      {
        "duration": 8,
        "start_time": "2022-01-26T11:36:20.208Z"
      },
      {
        "duration": 12,
        "start_time": "2022-01-26T11:36:20.218Z"
      },
      {
        "duration": 11,
        "start_time": "2022-01-26T11:36:20.232Z"
      },
      {
        "duration": 11,
        "start_time": "2022-01-26T11:36:20.245Z"
      },
      {
        "duration": 42,
        "start_time": "2022-01-26T11:36:20.257Z"
      },
      {
        "duration": 8,
        "start_time": "2022-01-26T11:36:20.301Z"
      },
      {
        "duration": 12,
        "start_time": "2022-01-26T11:36:20.311Z"
      },
      {
        "duration": 15,
        "start_time": "2022-01-26T11:36:20.325Z"
      },
      {
        "duration": 27,
        "start_time": "2022-01-26T11:36:20.343Z"
      },
      {
        "duration": 15,
        "start_time": "2022-01-26T11:36:51.512Z"
      },
      {
        "duration": 14,
        "start_time": "2022-01-26T11:38:23.139Z"
      },
      {
        "duration": 3,
        "start_time": "2022-01-26T11:39:00.061Z"
      },
      {
        "duration": 456,
        "start_time": "2022-01-26T11:39:00.066Z"
      },
      {
        "duration": 22,
        "start_time": "2022-01-26T11:39:00.525Z"
      },
      {
        "duration": 25,
        "start_time": "2022-01-26T11:39:00.549Z"
      },
      {
        "duration": 40,
        "start_time": "2022-01-26T11:39:00.576Z"
      },
      {
        "duration": 18,
        "start_time": "2022-01-26T11:39:00.618Z"
      },
      {
        "duration": 15,
        "start_time": "2022-01-26T11:39:00.638Z"
      },
      {
        "duration": 44,
        "start_time": "2022-01-26T11:39:00.656Z"
      },
      {
        "duration": 15,
        "start_time": "2022-01-26T11:39:00.702Z"
      },
      {
        "duration": 18,
        "start_time": "2022-01-26T11:39:00.718Z"
      },
      {
        "duration": 23,
        "start_time": "2022-01-26T11:39:00.737Z"
      },
      {
        "duration": 28,
        "start_time": "2022-01-26T11:39:00.761Z"
      },
      {
        "duration": 28,
        "start_time": "2022-01-26T11:39:00.791Z"
      },
      {
        "duration": 25,
        "start_time": "2022-01-26T11:39:00.820Z"
      },
      {
        "duration": 41,
        "start_time": "2022-01-26T11:39:00.847Z"
      },
      {
        "duration": 28,
        "start_time": "2022-01-26T11:39:00.890Z"
      },
      {
        "duration": 25,
        "start_time": "2022-01-26T11:39:00.920Z"
      },
      {
        "duration": 39,
        "start_time": "2022-01-26T11:39:00.947Z"
      },
      {
        "duration": 47,
        "start_time": "2022-01-26T11:39:00.991Z"
      },
      {
        "duration": 24,
        "start_time": "2022-01-26T11:39:01.042Z"
      },
      {
        "duration": 96,
        "start_time": "2022-01-26T11:39:01.068Z"
      },
      {
        "duration": 6,
        "start_time": "2022-01-26T11:39:01.166Z"
      },
      {
        "duration": 33,
        "start_time": "2022-01-26T11:39:01.174Z"
      },
      {
        "duration": 17,
        "start_time": "2022-01-26T11:39:01.209Z"
      },
      {
        "duration": 61,
        "start_time": "2022-01-26T11:39:01.227Z"
      },
      {
        "duration": 29,
        "start_time": "2022-01-26T11:39:01.290Z"
      },
      {
        "duration": 25,
        "start_time": "2022-01-26T11:39:01.321Z"
      },
      {
        "duration": 76,
        "start_time": "2022-01-26T11:39:01.348Z"
      },
      {
        "duration": 10,
        "start_time": "2022-01-26T11:39:01.426Z"
      },
      {
        "duration": 79,
        "start_time": "2022-01-26T11:39:01.438Z"
      },
      {
        "duration": 8,
        "start_time": "2022-01-26T11:39:01.519Z"
      },
      {
        "duration": 45,
        "start_time": "2022-01-26T11:39:01.529Z"
      },
      {
        "duration": 44,
        "start_time": "2022-01-26T11:39:01.576Z"
      },
      {
        "duration": 46,
        "start_time": "2022-01-26T11:39:01.622Z"
      },
      {
        "duration": 5,
        "start_time": "2022-01-26T11:39:01.670Z"
      },
      {
        "duration": 36,
        "start_time": "2022-01-26T11:39:01.676Z"
      },
      {
        "duration": 52,
        "start_time": "2022-01-26T11:39:01.714Z"
      },
      {
        "duration": 30,
        "start_time": "2022-01-26T11:39:01.768Z"
      },
      {
        "duration": 58,
        "start_time": "2022-01-26T11:39:01.800Z"
      },
      {
        "duration": 44,
        "start_time": "2022-01-26T11:39:01.860Z"
      },
      {
        "duration": 37,
        "start_time": "2022-01-26T11:39:01.906Z"
      },
      {
        "duration": 24,
        "start_time": "2022-01-26T11:39:01.945Z"
      },
      {
        "duration": 62,
        "start_time": "2022-01-26T11:39:01.971Z"
      },
      {
        "duration": 25,
        "start_time": "2022-01-26T11:39:02.035Z"
      },
      {
        "duration": 32,
        "start_time": "2022-01-26T11:39:02.062Z"
      },
      {
        "duration": 40,
        "start_time": "2022-01-26T11:39:02.096Z"
      },
      {
        "duration": 9,
        "start_time": "2022-01-26T11:39:02.138Z"
      },
      {
        "duration": 15,
        "start_time": "2022-01-26T11:39:02.149Z"
      },
      {
        "duration": 33,
        "start_time": "2022-01-26T11:39:02.166Z"
      },
      {
        "duration": 24,
        "start_time": "2022-01-26T11:39:02.201Z"
      },
      {
        "duration": 22,
        "start_time": "2022-01-26T11:39:02.227Z"
      },
      {
        "duration": 21,
        "start_time": "2022-01-26T11:39:02.251Z"
      },
      {
        "duration": 38,
        "start_time": "2022-01-26T11:39:02.273Z"
      },
      {
        "duration": 20,
        "start_time": "2022-01-26T11:39:07.671Z"
      },
      {
        "duration": 13,
        "start_time": "2022-01-26T11:39:19.247Z"
      },
      {
        "duration": 9,
        "start_time": "2022-01-26T11:39:20.527Z"
      },
      {
        "duration": 7,
        "start_time": "2022-01-26T11:39:21.219Z"
      },
      {
        "duration": 15,
        "start_time": "2022-01-26T11:39:23.487Z"
      },
      {
        "duration": 7,
        "start_time": "2022-01-26T11:40:15.100Z"
      },
      {
        "duration": 14,
        "start_time": "2022-01-26T11:40:16.408Z"
      },
      {
        "duration": 8,
        "start_time": "2022-01-26T11:40:16.455Z"
      },
      {
        "duration": 4,
        "start_time": "2022-01-26T11:40:16.499Z"
      },
      {
        "duration": 8,
        "start_time": "2022-01-26T11:40:17.239Z"
      },
      {
        "duration": 17,
        "start_time": "2022-01-26T11:40:18.440Z"
      },
      {
        "duration": 14,
        "start_time": "2022-01-26T11:40:32.416Z"
      },
      {
        "duration": 12,
        "start_time": "2022-01-26T11:40:45.752Z"
      },
      {
        "duration": 9,
        "start_time": "2022-01-26T11:41:22.384Z"
      },
      {
        "duration": 188,
        "start_time": "2022-01-26T11:42:01.380Z"
      },
      {
        "duration": 7,
        "start_time": "2022-01-26T11:42:09.987Z"
      },
      {
        "duration": 21,
        "start_time": "2022-01-26T11:42:40.887Z"
      },
      {
        "duration": 8,
        "start_time": "2022-01-26T11:42:47.259Z"
      },
      {
        "duration": 11,
        "start_time": "2022-01-26T11:42:51.909Z"
      },
      {
        "duration": 7,
        "start_time": "2022-01-26T11:42:59.071Z"
      },
      {
        "duration": 6,
        "start_time": "2022-01-26T11:43:01.976Z"
      },
      {
        "duration": 4,
        "start_time": "2022-01-26T11:43:11.919Z"
      },
      {
        "duration": 420,
        "start_time": "2022-01-26T11:43:11.925Z"
      },
      {
        "duration": 21,
        "start_time": "2022-01-26T11:43:12.347Z"
      },
      {
        "duration": 9,
        "start_time": "2022-01-26T11:43:12.370Z"
      },
      {
        "duration": 33,
        "start_time": "2022-01-26T11:43:12.380Z"
      },
      {
        "duration": 17,
        "start_time": "2022-01-26T11:43:12.415Z"
      },
      {
        "duration": 10,
        "start_time": "2022-01-26T11:43:12.434Z"
      },
      {
        "duration": 30,
        "start_time": "2022-01-26T11:43:12.445Z"
      },
      {
        "duration": 32,
        "start_time": "2022-01-26T11:43:12.477Z"
      },
      {
        "duration": 10,
        "start_time": "2022-01-26T11:43:12.511Z"
      },
      {
        "duration": 9,
        "start_time": "2022-01-26T11:43:12.523Z"
      },
      {
        "duration": 14,
        "start_time": "2022-01-26T11:43:12.534Z"
      },
      {
        "duration": 8,
        "start_time": "2022-01-26T11:43:12.549Z"
      },
      {
        "duration": 13,
        "start_time": "2022-01-26T11:43:12.559Z"
      },
      {
        "duration": 37,
        "start_time": "2022-01-26T11:43:12.573Z"
      },
      {
        "duration": 8,
        "start_time": "2022-01-26T11:43:12.612Z"
      },
      {
        "duration": 11,
        "start_time": "2022-01-26T11:43:12.622Z"
      },
      {
        "duration": 11,
        "start_time": "2022-01-26T11:43:12.634Z"
      },
      {
        "duration": 49,
        "start_time": "2022-01-26T11:43:12.650Z"
      },
      {
        "duration": 23,
        "start_time": "2022-01-26T11:43:12.702Z"
      },
      {
        "duration": 115,
        "start_time": "2022-01-26T11:43:12.727Z"
      },
      {
        "duration": 6,
        "start_time": "2022-01-26T11:43:12.845Z"
      },
      {
        "duration": 21,
        "start_time": "2022-01-26T11:43:12.853Z"
      },
      {
        "duration": 31,
        "start_time": "2022-01-26T11:43:12.876Z"
      },
      {
        "duration": 46,
        "start_time": "2022-01-26T11:43:12.909Z"
      },
      {
        "duration": 40,
        "start_time": "2022-01-26T11:43:12.957Z"
      },
      {
        "duration": 19,
        "start_time": "2022-01-26T11:43:12.999Z"
      },
      {
        "duration": 78,
        "start_time": "2022-01-26T11:43:13.020Z"
      },
      {
        "duration": 10,
        "start_time": "2022-01-26T11:43:13.100Z"
      },
      {
        "duration": 56,
        "start_time": "2022-01-26T11:43:13.111Z"
      },
      {
        "duration": 5,
        "start_time": "2022-01-26T11:43:13.168Z"
      },
      {
        "duration": 15,
        "start_time": "2022-01-26T11:43:13.174Z"
      },
      {
        "duration": 10,
        "start_time": "2022-01-26T11:43:13.197Z"
      },
      {
        "duration": 25,
        "start_time": "2022-01-26T11:43:13.209Z"
      },
      {
        "duration": 5,
        "start_time": "2022-01-26T11:43:13.236Z"
      },
      {
        "duration": 6,
        "start_time": "2022-01-26T11:43:13.242Z"
      },
      {
        "duration": 10,
        "start_time": "2022-01-26T11:43:13.249Z"
      },
      {
        "duration": 43,
        "start_time": "2022-01-26T11:43:13.261Z"
      },
      {
        "duration": 21,
        "start_time": "2022-01-26T11:43:13.306Z"
      },
      {
        "duration": 4,
        "start_time": "2022-01-26T11:43:13.329Z"
      },
      {
        "duration": 13,
        "start_time": "2022-01-26T11:43:13.335Z"
      },
      {
        "duration": 11,
        "start_time": "2022-01-26T11:43:13.350Z"
      },
      {
        "duration": 36,
        "start_time": "2022-01-26T11:43:13.362Z"
      },
      {
        "duration": 11,
        "start_time": "2022-01-26T11:43:13.400Z"
      },
      {
        "duration": 13,
        "start_time": "2022-01-26T11:43:13.413Z"
      },
      {
        "duration": 14,
        "start_time": "2022-01-26T11:43:13.427Z"
      },
      {
        "duration": 10,
        "start_time": "2022-01-26T11:43:13.442Z"
      },
      {
        "duration": 8,
        "start_time": "2022-01-26T11:43:13.454Z"
      },
      {
        "duration": 11,
        "start_time": "2022-01-26T11:43:13.497Z"
      },
      {
        "duration": 12,
        "start_time": "2022-01-26T11:43:13.510Z"
      },
      {
        "duration": 7,
        "start_time": "2022-01-26T11:43:13.524Z"
      },
      {
        "duration": 12,
        "start_time": "2022-01-26T11:43:13.533Z"
      },
      {
        "duration": 21,
        "start_time": "2022-01-26T11:43:13.546Z"
      },
      {
        "duration": 35,
        "start_time": "2022-01-26T11:43:13.569Z"
      },
      {
        "duration": 6,
        "start_time": "2022-01-26T11:43:13.610Z"
      },
      {
        "duration": 3,
        "start_time": "2022-01-26T11:44:12.879Z"
      },
      {
        "duration": 453,
        "start_time": "2022-01-26T11:44:12.886Z"
      },
      {
        "duration": 21,
        "start_time": "2022-01-26T11:44:13.341Z"
      },
      {
        "duration": 18,
        "start_time": "2022-01-26T11:44:13.364Z"
      },
      {
        "duration": 49,
        "start_time": "2022-01-26T11:44:13.384Z"
      },
      {
        "duration": 18,
        "start_time": "2022-01-26T11:44:13.435Z"
      },
      {
        "duration": 33,
        "start_time": "2022-01-26T11:44:13.455Z"
      },
      {
        "duration": 42,
        "start_time": "2022-01-26T11:44:13.490Z"
      },
      {
        "duration": 15,
        "start_time": "2022-01-26T11:44:13.534Z"
      },
      {
        "duration": 30,
        "start_time": "2022-01-26T11:44:13.552Z"
      },
      {
        "duration": 24,
        "start_time": "2022-01-26T11:44:13.584Z"
      },
      {
        "duration": 29,
        "start_time": "2022-01-26T11:44:13.611Z"
      },
      {
        "duration": 29,
        "start_time": "2022-01-26T11:44:13.642Z"
      },
      {
        "duration": 35,
        "start_time": "2022-01-26T11:44:13.672Z"
      },
      {
        "duration": 34,
        "start_time": "2022-01-26T11:44:13.709Z"
      },
      {
        "duration": 13,
        "start_time": "2022-01-26T11:44:13.745Z"
      },
      {
        "duration": 32,
        "start_time": "2022-01-26T11:44:13.760Z"
      },
      {
        "duration": 19,
        "start_time": "2022-01-26T11:44:13.794Z"
      },
      {
        "duration": 34,
        "start_time": "2022-01-26T11:44:13.815Z"
      },
      {
        "duration": 23,
        "start_time": "2022-01-26T11:44:13.851Z"
      },
      {
        "duration": 93,
        "start_time": "2022-01-26T11:44:13.876Z"
      },
      {
        "duration": 5,
        "start_time": "2022-01-26T11:44:13.971Z"
      },
      {
        "duration": 39,
        "start_time": "2022-01-26T11:44:13.978Z"
      },
      {
        "duration": 22,
        "start_time": "2022-01-26T11:44:14.018Z"
      },
      {
        "duration": 57,
        "start_time": "2022-01-26T11:44:14.042Z"
      },
      {
        "duration": 21,
        "start_time": "2022-01-26T11:44:14.101Z"
      },
      {
        "duration": 17,
        "start_time": "2022-01-26T11:44:14.124Z"
      },
      {
        "duration": 70,
        "start_time": "2022-01-26T11:44:14.145Z"
      },
      {
        "duration": 10,
        "start_time": "2022-01-26T11:44:14.217Z"
      },
      {
        "duration": 43,
        "start_time": "2022-01-26T11:44:14.228Z"
      },
      {
        "duration": 3,
        "start_time": "2022-01-26T11:44:14.273Z"
      },
      {
        "duration": 27,
        "start_time": "2022-01-26T11:44:14.278Z"
      },
      {
        "duration": 21,
        "start_time": "2022-01-26T11:44:14.307Z"
      },
      {
        "duration": 40,
        "start_time": "2022-01-26T11:44:14.330Z"
      },
      {
        "duration": 730,
        "start_time": "2022-01-26T11:44:14.372Z"
      },
      {
        "duration": 457,
        "start_time": "2022-01-26T11:44:14.647Z"
      },
      {
        "duration": 454,
        "start_time": "2022-01-26T11:44:14.651Z"
      },
      {
        "duration": 453,
        "start_time": "2022-01-26T11:44:14.653Z"
      },
      {
        "duration": 451,
        "start_time": "2022-01-26T11:44:14.656Z"
      },
      {
        "duration": 448,
        "start_time": "2022-01-26T11:44:14.660Z"
      },
      {
        "duration": 446,
        "start_time": "2022-01-26T11:44:14.663Z"
      },
      {
        "duration": 443,
        "start_time": "2022-01-26T11:44:14.667Z"
      },
      {
        "duration": 440,
        "start_time": "2022-01-26T11:44:14.671Z"
      },
      {
        "duration": 438,
        "start_time": "2022-01-26T11:44:14.674Z"
      },
      {
        "duration": 436,
        "start_time": "2022-01-26T11:44:14.677Z"
      },
      {
        "duration": 434,
        "start_time": "2022-01-26T11:44:14.680Z"
      },
      {
        "duration": 432,
        "start_time": "2022-01-26T11:44:14.683Z"
      },
      {
        "duration": 429,
        "start_time": "2022-01-26T11:44:14.686Z"
      },
      {
        "duration": 428,
        "start_time": "2022-01-26T11:44:14.689Z"
      },
      {
        "duration": 426,
        "start_time": "2022-01-26T11:44:14.692Z"
      },
      {
        "duration": 423,
        "start_time": "2022-01-26T11:44:14.695Z"
      },
      {
        "duration": 422,
        "start_time": "2022-01-26T11:44:14.697Z"
      },
      {
        "duration": 412,
        "start_time": "2022-01-26T11:44:14.708Z"
      },
      {
        "duration": 3,
        "start_time": "2022-01-26T11:44:59.479Z"
      },
      {
        "duration": 8,
        "start_time": "2022-01-26T11:45:01.516Z"
      },
      {
        "duration": 10,
        "start_time": "2022-01-26T11:45:09.927Z"
      },
      {
        "duration": 9,
        "start_time": "2022-01-26T11:45:16.239Z"
      },
      {
        "duration": 14,
        "start_time": "2022-01-26T11:45:16.271Z"
      },
      {
        "duration": 9,
        "start_time": "2022-01-26T11:45:17.147Z"
      },
      {
        "duration": 15,
        "start_time": "2022-01-26T11:45:17.863Z"
      },
      {
        "duration": 13,
        "start_time": "2022-01-26T11:45:19.051Z"
      },
      {
        "duration": 11,
        "start_time": "2022-01-26T11:45:19.307Z"
      },
      {
        "duration": 7,
        "start_time": "2022-01-26T11:45:19.551Z"
      },
      {
        "duration": 11,
        "start_time": "2022-01-26T11:45:19.875Z"
      },
      {
        "duration": 8,
        "start_time": "2022-01-26T11:45:20.099Z"
      },
      {
        "duration": 4,
        "start_time": "2022-01-26T11:45:20.311Z"
      },
      {
        "duration": 7,
        "start_time": "2022-01-26T11:45:20.556Z"
      },
      {
        "duration": 21,
        "start_time": "2022-01-26T11:45:20.767Z"
      },
      {
        "duration": 9,
        "start_time": "2022-01-26T11:45:20.975Z"
      },
      {
        "duration": 4,
        "start_time": "2022-01-26T11:45:37.511Z"
      },
      {
        "duration": 402,
        "start_time": "2022-01-26T11:45:37.516Z"
      },
      {
        "duration": 22,
        "start_time": "2022-01-26T11:45:37.921Z"
      },
      {
        "duration": 10,
        "start_time": "2022-01-26T11:45:37.945Z"
      },
      {
        "duration": 28,
        "start_time": "2022-01-26T11:45:37.957Z"
      },
      {
        "duration": 27,
        "start_time": "2022-01-26T11:45:37.987Z"
      },
      {
        "duration": 10,
        "start_time": "2022-01-26T11:45:38.017Z"
      },
      {
        "duration": 30,
        "start_time": "2022-01-26T11:45:38.029Z"
      },
      {
        "duration": 41,
        "start_time": "2022-01-26T11:45:38.061Z"
      },
      {
        "duration": 10,
        "start_time": "2022-01-26T11:45:38.104Z"
      },
      {
        "duration": 7,
        "start_time": "2022-01-26T11:45:38.116Z"
      },
      {
        "duration": 13,
        "start_time": "2022-01-26T11:45:38.125Z"
      },
      {
        "duration": 13,
        "start_time": "2022-01-26T11:45:38.140Z"
      },
      {
        "duration": 43,
        "start_time": "2022-01-26T11:45:38.155Z"
      },
      {
        "duration": 16,
        "start_time": "2022-01-26T11:45:38.201Z"
      },
      {
        "duration": 6,
        "start_time": "2022-01-26T11:45:38.219Z"
      },
      {
        "duration": 7,
        "start_time": "2022-01-26T11:45:38.227Z"
      },
      {
        "duration": 13,
        "start_time": "2022-01-26T11:45:38.236Z"
      },
      {
        "duration": 50,
        "start_time": "2022-01-26T11:45:38.254Z"
      },
      {
        "duration": 23,
        "start_time": "2022-01-26T11:45:38.307Z"
      },
      {
        "duration": 100,
        "start_time": "2022-01-26T11:45:38.331Z"
      },
      {
        "duration": 6,
        "start_time": "2022-01-26T11:45:38.433Z"
      },
      {
        "duration": 25,
        "start_time": "2022-01-26T11:45:38.441Z"
      },
      {
        "duration": 32,
        "start_time": "2022-01-26T11:45:38.468Z"
      },
      {
        "duration": 39,
        "start_time": "2022-01-26T11:45:38.502Z"
      },
      {
        "duration": 21,
        "start_time": "2022-01-26T11:45:38.543Z"
      },
      {
        "duration": 39,
        "start_time": "2022-01-26T11:45:38.565Z"
      },
      {
        "duration": 51,
        "start_time": "2022-01-26T11:45:38.605Z"
      },
      {
        "duration": 10,
        "start_time": "2022-01-26T11:45:38.658Z"
      },
      {
        "duration": 54,
        "start_time": "2022-01-26T11:45:38.670Z"
      },
      {
        "duration": 9,
        "start_time": "2022-01-26T11:45:38.726Z"
      },
      {
        "duration": 12,
        "start_time": "2022-01-26T11:45:38.737Z"
      },
      {
        "duration": 46,
        "start_time": "2022-01-26T11:45:38.752Z"
      },
      {
        "duration": 3,
        "start_time": "2022-01-26T11:45:38.800Z"
      },
      {
        "duration": 10,
        "start_time": "2022-01-26T11:45:38.805Z"
      },
      {
        "duration": 11,
        "start_time": "2022-01-26T11:45:38.817Z"
      },
      {
        "duration": 21,
        "start_time": "2022-01-26T11:45:38.830Z"
      },
      {
        "duration": 9,
        "start_time": "2022-01-26T11:45:38.853Z"
      },
      {
        "duration": 11,
        "start_time": "2022-01-26T11:45:38.898Z"
      },
      {
        "duration": 28,
        "start_time": "2022-01-26T11:45:38.911Z"
      },
      {
        "duration": 16,
        "start_time": "2022-01-26T11:45:38.942Z"
      },
      {
        "duration": 17,
        "start_time": "2022-01-26T11:45:38.960Z"
      },
      {
        "duration": 33,
        "start_time": "2022-01-26T11:45:38.979Z"
      },
      {
        "duration": 10,
        "start_time": "2022-01-26T11:45:39.014Z"
      },
      {
        "duration": 8,
        "start_time": "2022-01-26T11:45:39.027Z"
      },
      {
        "duration": 14,
        "start_time": "2022-01-26T11:45:39.036Z"
      },
      {
        "duration": 8,
        "start_time": "2022-01-26T11:45:39.052Z"
      },
      {
        "duration": 38,
        "start_time": "2022-01-26T11:45:39.061Z"
      },
      {
        "duration": 13,
        "start_time": "2022-01-26T11:45:39.101Z"
      },
      {
        "duration": 19,
        "start_time": "2022-01-26T11:45:39.115Z"
      },
      {
        "duration": 7,
        "start_time": "2022-01-26T11:45:39.136Z"
      },
      {
        "duration": 7,
        "start_time": "2022-01-26T11:47:12.071Z"
      },
      {
        "duration": 9,
        "start_time": "2022-01-26T11:47:12.931Z"
      },
      {
        "duration": 14,
        "start_time": "2022-01-26T11:47:13.852Z"
      },
      {
        "duration": 10,
        "start_time": "2022-01-26T11:47:16.263Z"
      },
      {
        "duration": 14,
        "start_time": "2022-01-26T11:47:16.963Z"
      },
      {
        "duration": 13,
        "start_time": "2022-01-26T11:47:17.963Z"
      },
      {
        "duration": 7,
        "start_time": "2022-01-26T11:47:54.375Z"
      },
      {
        "duration": 10,
        "start_time": "2022-01-26T11:48:49.003Z"
      },
      {
        "duration": 14,
        "start_time": "2022-01-26T11:49:32.267Z"
      },
      {
        "duration": 6,
        "start_time": "2022-01-26T11:50:23.699Z"
      },
      {
        "duration": 13,
        "start_time": "2022-01-26T11:50:24.623Z"
      },
      {
        "duration": 14,
        "start_time": "2022-01-26T11:51:02.419Z"
      },
      {
        "duration": 15,
        "start_time": "2022-01-26T11:51:42.651Z"
      },
      {
        "duration": 8,
        "start_time": "2022-01-26T11:51:58.915Z"
      },
      {
        "duration": 4,
        "start_time": "2022-01-26T11:51:59.915Z"
      },
      {
        "duration": 8,
        "start_time": "2022-01-26T11:52:00.945Z"
      },
      {
        "duration": 12,
        "start_time": "2022-01-26T11:52:08.475Z"
      },
      {
        "duration": 20,
        "start_time": "2022-01-26T11:52:32.247Z"
      },
      {
        "duration": 8,
        "start_time": "2022-01-26T11:52:45.299Z"
      },
      {
        "duration": 16,
        "start_time": "2022-01-26T11:53:06.995Z"
      },
      {
        "duration": 7,
        "start_time": "2022-01-26T11:57:04.503Z"
      },
      {
        "duration": 250,
        "start_time": "2022-01-26T11:57:43.546Z"
      },
      {
        "duration": 178,
        "start_time": "2022-01-26T11:57:54.686Z"
      },
      {
        "duration": 7,
        "start_time": "2022-01-26T11:58:18.047Z"
      },
      {
        "duration": 12,
        "start_time": "2022-01-26T12:03:32.131Z"
      },
      {
        "duration": 17,
        "start_time": "2022-01-26T12:04:08.698Z"
      },
      {
        "duration": 17,
        "start_time": "2022-01-26T12:06:22.306Z"
      },
      {
        "duration": 7,
        "start_time": "2022-01-26T12:08:46.874Z"
      },
      {
        "duration": 6,
        "start_time": "2022-01-26T12:10:20.039Z"
      },
      {
        "duration": 6,
        "start_time": "2022-01-26T12:10:45.726Z"
      },
      {
        "duration": 13,
        "start_time": "2022-01-26T12:11:54.783Z"
      },
      {
        "duration": 9,
        "start_time": "2022-01-26T12:12:05.582Z"
      },
      {
        "duration": 13,
        "start_time": "2022-01-26T12:12:19.706Z"
      },
      {
        "duration": 4,
        "start_time": "2022-01-26T12:12:34.682Z"
      },
      {
        "duration": 12,
        "start_time": "2022-01-26T12:12:36.614Z"
      },
      {
        "duration": 3,
        "start_time": "2022-01-26T12:13:13.666Z"
      },
      {
        "duration": 430,
        "start_time": "2022-01-26T12:13:13.690Z"
      },
      {
        "duration": 20,
        "start_time": "2022-01-26T12:13:14.122Z"
      },
      {
        "duration": 11,
        "start_time": "2022-01-26T12:13:14.144Z"
      },
      {
        "duration": 32,
        "start_time": "2022-01-26T12:13:14.157Z"
      },
      {
        "duration": 17,
        "start_time": "2022-01-26T12:13:14.190Z"
      },
      {
        "duration": 9,
        "start_time": "2022-01-26T12:13:14.209Z"
      },
      {
        "duration": 34,
        "start_time": "2022-01-26T12:13:14.220Z"
      },
      {
        "duration": 14,
        "start_time": "2022-01-26T12:13:14.257Z"
      },
      {
        "duration": 9,
        "start_time": "2022-01-26T12:13:14.297Z"
      },
      {
        "duration": 15,
        "start_time": "2022-01-26T12:13:14.308Z"
      },
      {
        "duration": 18,
        "start_time": "2022-01-26T12:13:14.325Z"
      },
      {
        "duration": 10,
        "start_time": "2022-01-26T12:13:14.345Z"
      },
      {
        "duration": 18,
        "start_time": "2022-01-26T12:13:14.356Z"
      },
      {
        "duration": 30,
        "start_time": "2022-01-26T12:13:14.376Z"
      },
      {
        "duration": 8,
        "start_time": "2022-01-26T12:13:14.408Z"
      },
      {
        "duration": 6,
        "start_time": "2022-01-26T12:13:14.417Z"
      },
      {
        "duration": 10,
        "start_time": "2022-01-26T12:13:14.425Z"
      },
      {
        "duration": 29,
        "start_time": "2022-01-26T12:13:14.437Z"
      },
      {
        "duration": 39,
        "start_time": "2022-01-26T12:13:14.468Z"
      },
      {
        "duration": 106,
        "start_time": "2022-01-26T12:13:14.508Z"
      },
      {
        "duration": 5,
        "start_time": "2022-01-26T12:13:14.616Z"
      },
      {
        "duration": 19,
        "start_time": "2022-01-26T12:13:14.623Z"
      },
      {
        "duration": 22,
        "start_time": "2022-01-26T12:13:14.646Z"
      },
      {
        "duration": 60,
        "start_time": "2022-01-26T12:13:14.670Z"
      },
      {
        "duration": 21,
        "start_time": "2022-01-26T12:13:14.732Z"
      },
      {
        "duration": 18,
        "start_time": "2022-01-26T12:13:14.755Z"
      },
      {
        "duration": 74,
        "start_time": "2022-01-26T12:13:14.775Z"
      },
      {
        "duration": 9,
        "start_time": "2022-01-26T12:13:14.850Z"
      },
      {
        "duration": 49,
        "start_time": "2022-01-26T12:13:14.861Z"
      },
      {
        "duration": 8,
        "start_time": "2022-01-26T12:13:14.912Z"
      },
      {
        "duration": 9,
        "start_time": "2022-01-26T12:13:14.921Z"
      },
      {
        "duration": 14,
        "start_time": "2022-01-26T12:13:14.931Z"
      },
      {
        "duration": 27,
        "start_time": "2022-01-26T12:13:14.946Z"
      },
      {
        "duration": 3,
        "start_time": "2022-01-26T12:13:14.974Z"
      },
      {
        "duration": 10,
        "start_time": "2022-01-26T12:13:14.998Z"
      },
      {
        "duration": 17,
        "start_time": "2022-01-26T12:13:15.009Z"
      },
      {
        "duration": 12,
        "start_time": "2022-01-26T12:13:15.028Z"
      },
      {
        "duration": 27,
        "start_time": "2022-01-26T12:13:15.043Z"
      },
      {
        "duration": 27,
        "start_time": "2022-01-26T12:13:15.071Z"
      },
      {
        "duration": 6,
        "start_time": "2022-01-26T12:13:15.100Z"
      },
      {
        "duration": 12,
        "start_time": "2022-01-26T12:13:15.108Z"
      },
      {
        "duration": 9,
        "start_time": "2022-01-26T12:13:15.121Z"
      },
      {
        "duration": 12,
        "start_time": "2022-01-26T12:13:15.132Z"
      },
      {
        "duration": 10,
        "start_time": "2022-01-26T12:13:15.145Z"
      },
      {
        "duration": 43,
        "start_time": "2022-01-26T12:13:15.156Z"
      },
      {
        "duration": 4,
        "start_time": "2022-01-26T12:13:15.201Z"
      },
      {
        "duration": 14,
        "start_time": "2022-01-26T12:13:15.207Z"
      },
      {
        "duration": 12,
        "start_time": "2022-01-26T12:13:15.222Z"
      },
      {
        "duration": 8,
        "start_time": "2022-01-26T12:13:15.236Z"
      },
      {
        "duration": 18,
        "start_time": "2022-01-26T12:13:15.246Z"
      },
      {
        "duration": 32,
        "start_time": "2022-01-26T12:13:15.266Z"
      },
      {
        "duration": 3,
        "start_time": "2022-01-26T12:13:15.300Z"
      },
      {
        "duration": 13,
        "start_time": "2022-01-26T12:13:15.305Z"
      },
      {
        "duration": 22,
        "start_time": "2022-01-26T12:13:15.320Z"
      },
      {
        "duration": 9,
        "start_time": "2022-01-26T12:13:33.814Z"
      },
      {
        "duration": 853,
        "start_time": "2022-01-26T12:17:52.490Z"
      },
      {
        "duration": 7,
        "start_time": "2022-01-26T12:17:53.606Z"
      },
      {
        "duration": 4,
        "start_time": "2022-01-26T12:19:01.190Z"
      },
      {
        "duration": 7,
        "start_time": "2022-01-26T12:19:03.050Z"
      },
      {
        "duration": 3,
        "start_time": "2022-01-26T12:19:18.470Z"
      },
      {
        "duration": 8,
        "start_time": "2022-01-26T12:19:19.006Z"
      },
      {
        "duration": 1191,
        "start_time": "2022-01-26T12:19:38.222Z"
      },
      {
        "duration": 420,
        "start_time": "2022-01-26T12:19:39.414Z"
      },
      {
        "duration": 22,
        "start_time": "2022-01-26T12:19:39.836Z"
      },
      {
        "duration": 14,
        "start_time": "2022-01-26T12:19:39.860Z"
      },
      {
        "duration": 41,
        "start_time": "2022-01-26T12:19:39.875Z"
      },
      {
        "duration": 17,
        "start_time": "2022-01-26T12:19:39.918Z"
      },
      {
        "duration": 10,
        "start_time": "2022-01-26T12:19:39.937Z"
      },
      {
        "duration": 53,
        "start_time": "2022-01-26T12:19:39.950Z"
      },
      {
        "duration": 16,
        "start_time": "2022-01-26T12:19:40.005Z"
      },
      {
        "duration": 10,
        "start_time": "2022-01-26T12:19:40.023Z"
      },
      {
        "duration": 14,
        "start_time": "2022-01-26T12:19:40.035Z"
      },
      {
        "duration": 18,
        "start_time": "2022-01-26T12:19:40.051Z"
      },
      {
        "duration": 27,
        "start_time": "2022-01-26T12:19:40.070Z"
      },
      {
        "duration": 13,
        "start_time": "2022-01-26T12:19:40.099Z"
      },
      {
        "duration": 18,
        "start_time": "2022-01-26T12:19:40.113Z"
      },
      {
        "duration": 6,
        "start_time": "2022-01-26T12:19:40.133Z"
      },
      {
        "duration": 14,
        "start_time": "2022-01-26T12:19:40.140Z"
      },
      {
        "duration": 10,
        "start_time": "2022-01-26T12:19:40.155Z"
      },
      {
        "duration": 52,
        "start_time": "2022-01-26T12:19:40.167Z"
      },
      {
        "duration": 23,
        "start_time": "2022-01-26T12:19:40.221Z"
      },
      {
        "duration": 119,
        "start_time": "2022-01-26T12:19:40.246Z"
      },
      {
        "duration": 5,
        "start_time": "2022-01-26T12:19:40.367Z"
      },
      {
        "duration": 31,
        "start_time": "2022-01-26T12:19:40.376Z"
      },
      {
        "duration": 15,
        "start_time": "2022-01-26T12:19:40.409Z"
      },
      {
        "duration": 46,
        "start_time": "2022-01-26T12:19:40.426Z"
      },
      {
        "duration": 39,
        "start_time": "2022-01-26T12:19:40.474Z"
      },
      {
        "duration": 17,
        "start_time": "2022-01-26T12:19:40.515Z"
      },
      {
        "duration": 82,
        "start_time": "2022-01-26T12:19:40.534Z"
      },
      {
        "duration": 10,
        "start_time": "2022-01-26T12:19:40.617Z"
      },
      {
        "duration": 38,
        "start_time": "2022-01-26T12:19:40.628Z"
      },
      {
        "duration": 813,
        "start_time": "2022-01-26T12:19:40.668Z"
      },
      {
        "duration": 466,
        "start_time": "2022-01-26T12:19:41.017Z"
      },
      {
        "duration": 462,
        "start_time": "2022-01-26T12:19:41.022Z"
      },
      {
        "duration": 459,
        "start_time": "2022-01-26T12:19:41.026Z"
      },
      {
        "duration": 454,
        "start_time": "2022-01-26T12:19:41.032Z"
      },
      {
        "duration": 451,
        "start_time": "2022-01-26T12:19:41.036Z"
      },
      {
        "duration": 448,
        "start_time": "2022-01-26T12:19:41.040Z"
      },
      {
        "duration": 446,
        "start_time": "2022-01-26T12:19:41.043Z"
      },
      {
        "duration": 442,
        "start_time": "2022-01-26T12:19:41.048Z"
      },
      {
        "duration": 439,
        "start_time": "2022-01-26T12:19:41.052Z"
      },
      {
        "duration": 437,
        "start_time": "2022-01-26T12:19:41.055Z"
      },
      {
        "duration": 434,
        "start_time": "2022-01-26T12:19:41.059Z"
      },
      {
        "duration": 432,
        "start_time": "2022-01-26T12:19:41.063Z"
      },
      {
        "duration": 430,
        "start_time": "2022-01-26T12:19:41.066Z"
      },
      {
        "duration": 427,
        "start_time": "2022-01-26T12:19:41.070Z"
      },
      {
        "duration": 425,
        "start_time": "2022-01-26T12:19:41.073Z"
      },
      {
        "duration": 422,
        "start_time": "2022-01-26T12:19:41.077Z"
      },
      {
        "duration": 411,
        "start_time": "2022-01-26T12:19:41.090Z"
      },
      {
        "duration": 408,
        "start_time": "2022-01-26T12:19:41.094Z"
      },
      {
        "duration": 398,
        "start_time": "2022-01-26T12:19:41.106Z"
      },
      {
        "duration": 396,
        "start_time": "2022-01-26T12:19:41.109Z"
      },
      {
        "duration": 393,
        "start_time": "2022-01-26T12:19:41.113Z"
      },
      {
        "duration": 391,
        "start_time": "2022-01-26T12:19:41.116Z"
      },
      {
        "duration": 389,
        "start_time": "2022-01-26T12:19:41.119Z"
      },
      {
        "duration": 387,
        "start_time": "2022-01-26T12:19:41.123Z"
      },
      {
        "duration": 385,
        "start_time": "2022-01-26T12:19:41.126Z"
      },
      {
        "duration": 3,
        "start_time": "2022-01-26T12:20:12.738Z"
      },
      {
        "duration": 12,
        "start_time": "2022-01-26T12:20:16.602Z"
      },
      {
        "duration": 10,
        "start_time": "2022-01-26T12:20:16.615Z"
      },
      {
        "duration": 14,
        "start_time": "2022-01-26T12:20:16.626Z"
      },
      {
        "duration": 27,
        "start_time": "2022-01-26T12:20:16.642Z"
      },
      {
        "duration": 27,
        "start_time": "2022-01-26T12:20:16.671Z"
      },
      {
        "duration": 13,
        "start_time": "2022-01-26T12:20:16.700Z"
      },
      {
        "duration": 12,
        "start_time": "2022-01-26T12:20:16.715Z"
      },
      {
        "duration": 12,
        "start_time": "2022-01-26T12:20:16.729Z"
      },
      {
        "duration": 26,
        "start_time": "2022-01-26T12:20:16.743Z"
      },
      {
        "duration": 33,
        "start_time": "2022-01-26T12:20:16.771Z"
      },
      {
        "duration": 8,
        "start_time": "2022-01-26T12:20:16.806Z"
      },
      {
        "duration": 13,
        "start_time": "2022-01-26T12:20:16.816Z"
      },
      {
        "duration": 10,
        "start_time": "2022-01-26T12:20:16.830Z"
      },
      {
        "duration": 13,
        "start_time": "2022-01-26T12:20:16.841Z"
      },
      {
        "duration": 9,
        "start_time": "2022-01-26T12:20:16.856Z"
      },
      {
        "duration": 40,
        "start_time": "2022-01-26T12:20:16.867Z"
      },
      {
        "duration": 6,
        "start_time": "2022-01-26T12:20:16.908Z"
      },
      {
        "duration": 16,
        "start_time": "2022-01-26T12:20:16.916Z"
      },
      {
        "duration": 11,
        "start_time": "2022-01-26T12:20:16.934Z"
      },
      {
        "duration": 7,
        "start_time": "2022-01-26T12:20:16.947Z"
      },
      {
        "duration": 48,
        "start_time": "2022-01-26T12:20:16.956Z"
      },
      {
        "duration": 10,
        "start_time": "2022-01-26T12:20:17.006Z"
      },
      {
        "duration": 7,
        "start_time": "2022-01-26T12:20:17.020Z"
      },
      {
        "duration": 23,
        "start_time": "2022-01-26T12:20:17.029Z"
      },
      {
        "duration": 15,
        "start_time": "2022-01-26T12:20:17.054Z"
      },
      {
        "duration": 195,
        "start_time": "2022-01-26T12:25:40.595Z"
      },
      {
        "duration": 18,
        "start_time": "2022-01-26T12:25:48.130Z"
      },
      {
        "duration": 20,
        "start_time": "2022-01-26T12:32:15.295Z"
      },
      {
        "duration": 16,
        "start_time": "2022-01-26T12:32:30.375Z"
      },
      {
        "duration": 16,
        "start_time": "2022-01-26T12:34:55.279Z"
      },
      {
        "duration": 19,
        "start_time": "2022-01-26T12:36:21.184Z"
      },
      {
        "duration": 179,
        "start_time": "2022-01-26T12:46:12.002Z"
      },
      {
        "duration": 9,
        "start_time": "2022-01-26T12:46:44.814Z"
      },
      {
        "duration": 186,
        "start_time": "2022-01-26T12:46:58.501Z"
      },
      {
        "duration": 56,
        "start_time": "2022-01-26T12:47:33.010Z"
      },
      {
        "duration": 173,
        "start_time": "2022-01-26T12:47:38.118Z"
      },
      {
        "duration": 57,
        "start_time": "2022-01-26T12:47:49.714Z"
      },
      {
        "duration": 3,
        "start_time": "2022-01-26T12:47:58.257Z"
      },
      {
        "duration": 19,
        "start_time": "2022-01-26T12:48:22.165Z"
      },
      {
        "duration": 181,
        "start_time": "2022-01-26T12:48:57.782Z"
      },
      {
        "duration": 5,
        "start_time": "2022-01-26T12:49:12.305Z"
      },
      {
        "duration": 4,
        "start_time": "2022-01-26T12:49:22.290Z"
      },
      {
        "duration": 21,
        "start_time": "2022-01-26T12:49:24.382Z"
      },
      {
        "duration": 4,
        "start_time": "2022-01-26T12:49:51.265Z"
      },
      {
        "duration": 16,
        "start_time": "2022-01-26T12:49:52.190Z"
      },
      {
        "duration": 16,
        "start_time": "2022-01-26T12:50:31.364Z"
      },
      {
        "duration": 23,
        "start_time": "2022-01-26T12:50:39.938Z"
      },
      {
        "duration": 183,
        "start_time": "2022-01-26T12:53:38.025Z"
      },
      {
        "duration": 1261,
        "start_time": "2022-01-26T12:54:01.933Z"
      },
      {
        "duration": 459,
        "start_time": "2022-01-26T12:54:03.196Z"
      },
      {
        "duration": 24,
        "start_time": "2022-01-26T12:54:03.657Z"
      },
      {
        "duration": 13,
        "start_time": "2022-01-26T12:54:03.683Z"
      },
      {
        "duration": 41,
        "start_time": "2022-01-26T12:54:03.698Z"
      },
      {
        "duration": 19,
        "start_time": "2022-01-26T12:54:03.741Z"
      },
      {
        "duration": 11,
        "start_time": "2022-01-26T12:54:03.762Z"
      },
      {
        "duration": 54,
        "start_time": "2022-01-26T12:54:03.776Z"
      },
      {
        "duration": 16,
        "start_time": "2022-01-26T12:54:03.832Z"
      },
      {
        "duration": 15,
        "start_time": "2022-01-26T12:54:03.850Z"
      },
      {
        "duration": 31,
        "start_time": "2022-01-26T12:54:03.867Z"
      },
      {
        "duration": 11,
        "start_time": "2022-01-26T12:54:03.900Z"
      },
      {
        "duration": 11,
        "start_time": "2022-01-26T12:54:03.913Z"
      },
      {
        "duration": 20,
        "start_time": "2022-01-26T12:54:03.926Z"
      },
      {
        "duration": 20,
        "start_time": "2022-01-26T12:54:03.949Z"
      },
      {
        "duration": 31,
        "start_time": "2022-01-26T12:54:03.971Z"
      },
      {
        "duration": 10,
        "start_time": "2022-01-26T12:54:04.005Z"
      },
      {
        "duration": 13,
        "start_time": "2022-01-26T12:54:04.017Z"
      },
      {
        "duration": 34,
        "start_time": "2022-01-26T12:54:04.032Z"
      },
      {
        "duration": 45,
        "start_time": "2022-01-26T12:54:04.068Z"
      },
      {
        "duration": 135,
        "start_time": "2022-01-26T12:54:04.114Z"
      },
      {
        "duration": 6,
        "start_time": "2022-01-26T12:54:04.250Z"
      },
      {
        "duration": 37,
        "start_time": "2022-01-26T12:54:04.259Z"
      },
      {
        "duration": 16,
        "start_time": "2022-01-26T12:54:04.299Z"
      },
      {
        "duration": 52,
        "start_time": "2022-01-26T12:54:04.317Z"
      },
      {
        "duration": 47,
        "start_time": "2022-01-26T12:54:04.371Z"
      },
      {
        "duration": 19,
        "start_time": "2022-01-26T12:54:04.419Z"
      },
      {
        "duration": 88,
        "start_time": "2022-01-26T12:54:04.440Z"
      },
      {
        "duration": 286,
        "start_time": "2022-01-26T12:54:04.529Z"
      },
      {
        "duration": 522,
        "start_time": "2022-01-26T12:54:04.295Z"
      },
      {
        "duration": 519,
        "start_time": "2022-01-26T12:54:04.299Z"
      },
      {
        "duration": 517,
        "start_time": "2022-01-26T12:54:04.302Z"
      },
      {
        "duration": 504,
        "start_time": "2022-01-26T12:54:04.316Z"
      },
      {
        "duration": 501,
        "start_time": "2022-01-26T12:54:04.320Z"
      },
      {
        "duration": 498,
        "start_time": "2022-01-26T12:54:04.324Z"
      },
      {
        "duration": 495,
        "start_time": "2022-01-26T12:54:04.328Z"
      },
      {
        "duration": 492,
        "start_time": "2022-01-26T12:54:04.331Z"
      },
      {
        "duration": 490,
        "start_time": "2022-01-26T12:54:04.334Z"
      },
      {
        "duration": 488,
        "start_time": "2022-01-26T12:54:04.337Z"
      },
      {
        "duration": 486,
        "start_time": "2022-01-26T12:54:04.340Z"
      },
      {
        "duration": 483,
        "start_time": "2022-01-26T12:54:04.344Z"
      },
      {
        "duration": 482,
        "start_time": "2022-01-26T12:54:04.346Z"
      },
      {
        "duration": 480,
        "start_time": "2022-01-26T12:54:04.349Z"
      },
      {
        "duration": 477,
        "start_time": "2022-01-26T12:54:04.353Z"
      },
      {
        "duration": 472,
        "start_time": "2022-01-26T12:54:04.359Z"
      },
      {
        "duration": 470,
        "start_time": "2022-01-26T12:54:04.362Z"
      },
      {
        "duration": 468,
        "start_time": "2022-01-26T12:54:04.365Z"
      },
      {
        "duration": 457,
        "start_time": "2022-01-26T12:54:04.377Z"
      },
      {
        "duration": 454,
        "start_time": "2022-01-26T12:54:04.381Z"
      },
      {
        "duration": 453,
        "start_time": "2022-01-26T12:54:04.383Z"
      },
      {
        "duration": 449,
        "start_time": "2022-01-26T12:54:04.388Z"
      },
      {
        "duration": 446,
        "start_time": "2022-01-26T12:54:04.392Z"
      },
      {
        "duration": 444,
        "start_time": "2022-01-26T12:54:04.395Z"
      },
      {
        "duration": 441,
        "start_time": "2022-01-26T12:54:04.398Z"
      },
      {
        "duration": 438,
        "start_time": "2022-01-26T12:54:04.402Z"
      },
      {
        "duration": 436,
        "start_time": "2022-01-26T12:54:04.405Z"
      },
      {
        "duration": 434,
        "start_time": "2022-01-26T12:54:04.408Z"
      },
      {
        "duration": 432,
        "start_time": "2022-01-26T12:54:04.411Z"
      },
      {
        "duration": 429,
        "start_time": "2022-01-26T12:54:04.415Z"
      },
      {
        "duration": 427,
        "start_time": "2022-01-26T12:54:04.418Z"
      },
      {
        "duration": 426,
        "start_time": "2022-01-26T12:54:04.421Z"
      },
      {
        "duration": 5,
        "start_time": "2022-01-26T12:54:44.613Z"
      },
      {
        "duration": 4,
        "start_time": "2022-01-26T12:54:49.649Z"
      },
      {
        "duration": 489,
        "start_time": "2022-01-26T12:54:49.655Z"
      },
      {
        "duration": 22,
        "start_time": "2022-01-26T12:54:50.146Z"
      },
      {
        "duration": 11,
        "start_time": "2022-01-26T12:54:50.170Z"
      },
      {
        "duration": 48,
        "start_time": "2022-01-26T12:54:50.183Z"
      },
      {
        "duration": 20,
        "start_time": "2022-01-26T12:54:50.234Z"
      },
      {
        "duration": 24,
        "start_time": "2022-01-26T12:54:50.257Z"
      },
      {
        "duration": 51,
        "start_time": "2022-01-26T12:54:50.284Z"
      },
      {
        "duration": 17,
        "start_time": "2022-01-26T12:54:50.337Z"
      },
      {
        "duration": 19,
        "start_time": "2022-01-26T12:54:50.356Z"
      },
      {
        "duration": 14,
        "start_time": "2022-01-26T12:54:50.377Z"
      },
      {
        "duration": 23,
        "start_time": "2022-01-26T12:54:50.393Z"
      },
      {
        "duration": 18,
        "start_time": "2022-01-26T12:54:50.418Z"
      },
      {
        "duration": 24,
        "start_time": "2022-01-26T12:54:50.438Z"
      },
      {
        "duration": 31,
        "start_time": "2022-01-26T12:54:50.465Z"
      },
      {
        "duration": 14,
        "start_time": "2022-01-26T12:54:50.498Z"
      },
      {
        "duration": 24,
        "start_time": "2022-01-26T12:54:50.514Z"
      },
      {
        "duration": 27,
        "start_time": "2022-01-26T12:54:50.540Z"
      },
      {
        "duration": 36,
        "start_time": "2022-01-26T12:54:50.570Z"
      },
      {
        "duration": 35,
        "start_time": "2022-01-26T12:54:50.609Z"
      },
      {
        "duration": 122,
        "start_time": "2022-01-26T12:54:50.646Z"
      },
      {
        "duration": 5,
        "start_time": "2022-01-26T12:54:50.770Z"
      },
      {
        "duration": 35,
        "start_time": "2022-01-26T12:54:50.776Z"
      },
      {
        "duration": 22,
        "start_time": "2022-01-26T12:54:50.813Z"
      },
      {
        "duration": 53,
        "start_time": "2022-01-26T12:54:50.837Z"
      },
      {
        "duration": 21,
        "start_time": "2022-01-26T12:54:50.898Z"
      },
      {
        "duration": 19,
        "start_time": "2022-01-26T12:54:50.921Z"
      },
      {
        "duration": 100,
        "start_time": "2022-01-26T12:54:50.942Z"
      },
      {
        "duration": 5,
        "start_time": "2022-01-26T12:54:51.044Z"
      },
      {
        "duration": 24,
        "start_time": "2022-01-26T12:54:51.051Z"
      },
      {
        "duration": 68,
        "start_time": "2022-01-26T12:54:51.077Z"
      },
      {
        "duration": 3,
        "start_time": "2022-01-26T12:54:51.147Z"
      },
      {
        "duration": 20,
        "start_time": "2022-01-26T12:54:51.151Z"
      },
      {
        "duration": 27,
        "start_time": "2022-01-26T12:54:51.174Z"
      },
      {
        "duration": 20,
        "start_time": "2022-01-26T12:54:51.203Z"
      },
      {
        "duration": 42,
        "start_time": "2022-01-26T12:54:51.225Z"
      },
      {
        "duration": 4,
        "start_time": "2022-01-26T12:54:51.269Z"
      },
      {
        "duration": 18,
        "start_time": "2022-01-26T12:54:51.275Z"
      },
      {
        "duration": 24,
        "start_time": "2022-01-26T12:54:51.295Z"
      },
      {
        "duration": 27,
        "start_time": "2022-01-26T12:54:51.322Z"
      },
      {
        "duration": 39,
        "start_time": "2022-01-26T12:54:51.352Z"
      },
      {
        "duration": 9,
        "start_time": "2022-01-26T12:54:51.393Z"
      },
      {
        "duration": 28,
        "start_time": "2022-01-26T12:54:51.404Z"
      },
      {
        "duration": 23,
        "start_time": "2022-01-26T12:54:51.434Z"
      },
      {
        "duration": 40,
        "start_time": "2022-01-26T12:54:51.459Z"
      },
      {
        "duration": 31,
        "start_time": "2022-01-26T12:54:51.501Z"
      },
      {
        "duration": 17,
        "start_time": "2022-01-26T12:54:51.534Z"
      },
      {
        "duration": 25,
        "start_time": "2022-01-26T12:54:51.553Z"
      },
      {
        "duration": 18,
        "start_time": "2022-01-26T12:54:51.580Z"
      },
      {
        "duration": 33,
        "start_time": "2022-01-26T12:54:51.600Z"
      },
      {
        "duration": 29,
        "start_time": "2022-01-26T12:54:51.635Z"
      },
      {
        "duration": 26,
        "start_time": "2022-01-26T12:54:51.665Z"
      },
      {
        "duration": 66,
        "start_time": "2022-01-26T12:54:51.693Z"
      },
      {
        "duration": 32,
        "start_time": "2022-01-26T12:54:51.761Z"
      },
      {
        "duration": 39,
        "start_time": "2022-01-26T12:54:51.798Z"
      },
      {
        "duration": 41,
        "start_time": "2022-01-26T12:54:51.839Z"
      },
      {
        "duration": 38,
        "start_time": "2022-01-26T12:54:51.882Z"
      },
      {
        "duration": 36,
        "start_time": "2022-01-26T12:54:51.922Z"
      },
      {
        "duration": 19,
        "start_time": "2022-01-26T12:54:51.960Z"
      },
      {
        "duration": 22,
        "start_time": "2022-01-26T12:54:51.982Z"
      },
      {
        "duration": 31,
        "start_time": "2022-01-26T12:54:52.006Z"
      },
      {
        "duration": 20,
        "start_time": "2022-01-26T12:57:48.574Z"
      },
      {
        "duration": 19,
        "start_time": "2022-01-26T13:00:12.325Z"
      },
      {
        "duration": 191,
        "start_time": "2022-01-26T13:01:59.353Z"
      },
      {
        "duration": 17,
        "start_time": "2022-01-26T13:02:18.277Z"
      },
      {
        "duration": 8,
        "start_time": "2022-01-26T13:02:54.617Z"
      },
      {
        "duration": 195,
        "start_time": "2022-01-26T13:05:25.717Z"
      },
      {
        "duration": 5,
        "start_time": "2022-01-26T13:07:10.221Z"
      },
      {
        "duration": 9,
        "start_time": "2022-01-26T13:07:31.221Z"
      },
      {
        "duration": 4441,
        "start_time": "2022-01-26T13:07:58.489Z"
      },
      {
        "duration": 501,
        "start_time": "2022-01-26T13:08:02.431Z"
      },
      {
        "duration": 7,
        "start_time": "2022-01-26T13:08:21.677Z"
      },
      {
        "duration": 8,
        "start_time": "2022-01-26T13:08:24.045Z"
      },
      {
        "duration": 408,
        "start_time": "2022-01-26T17:38:37.376Z"
      },
      {
        "duration": -342,
        "start_time": "2022-01-26T17:38:38.128Z"
      },
      {
        "duration": 1546,
        "start_time": "2022-01-26T17:38:40.750Z"
      },
      {
        "duration": 514,
        "start_time": "2022-01-26T17:38:42.298Z"
      },
      {
        "duration": 39,
        "start_time": "2022-01-26T17:38:42.816Z"
      },
      {
        "duration": 19,
        "start_time": "2022-01-26T17:38:42.859Z"
      },
      {
        "duration": 45,
        "start_time": "2022-01-26T17:38:42.881Z"
      },
      {
        "duration": 46,
        "start_time": "2022-01-26T17:38:42.929Z"
      },
      {
        "duration": 19,
        "start_time": "2022-01-26T17:38:42.979Z"
      },
      {
        "duration": 73,
        "start_time": "2022-01-26T17:38:43.002Z"
      },
      {
        "duration": 19,
        "start_time": "2022-01-26T17:38:43.078Z"
      },
      {
        "duration": 11,
        "start_time": "2022-01-26T17:38:43.100Z"
      },
      {
        "duration": 12,
        "start_time": "2022-01-26T17:38:43.114Z"
      },
      {
        "duration": 42,
        "start_time": "2022-01-26T17:38:43.128Z"
      },
      {
        "duration": 11,
        "start_time": "2022-01-26T17:38:43.173Z"
      },
      {
        "duration": 19,
        "start_time": "2022-01-26T17:38:43.186Z"
      },
      {
        "duration": 66,
        "start_time": "2022-01-26T17:38:43.208Z"
      },
      {
        "duration": 13,
        "start_time": "2022-01-26T17:38:43.277Z"
      },
      {
        "duration": 12,
        "start_time": "2022-01-26T17:38:43.293Z"
      },
      {
        "duration": 27,
        "start_time": "2022-01-26T17:38:43.308Z"
      },
      {
        "duration": 60,
        "start_time": "2022-01-26T17:38:43.337Z"
      },
      {
        "duration": 31,
        "start_time": "2022-01-26T17:38:43.400Z"
      },
      {
        "duration": 134,
        "start_time": "2022-01-26T17:38:43.433Z"
      },
      {
        "duration": 6,
        "start_time": "2022-01-26T17:38:43.570Z"
      },
      {
        "duration": 38,
        "start_time": "2022-01-26T17:38:43.583Z"
      },
      {
        "duration": 39,
        "start_time": "2022-01-26T17:38:43.625Z"
      },
      {
        "duration": 57,
        "start_time": "2022-01-26T17:38:43.667Z"
      },
      {
        "duration": 57,
        "start_time": "2022-01-26T17:38:43.727Z"
      },
      {
        "duration": 26,
        "start_time": "2022-01-26T17:38:43.787Z"
      },
      {
        "duration": 116,
        "start_time": "2022-01-26T17:38:43.816Z"
      },
      {
        "duration": 7,
        "start_time": "2022-01-26T17:38:43.935Z"
      },
      {
        "duration": 12,
        "start_time": "2022-01-26T17:38:43.960Z"
      },
      {
        "duration": 46,
        "start_time": "2022-01-26T17:38:43.974Z"
      },
      {
        "duration": 4,
        "start_time": "2022-01-26T17:38:44.023Z"
      },
      {
        "duration": 41,
        "start_time": "2022-01-26T17:38:44.029Z"
      },
      {
        "duration": 9,
        "start_time": "2022-01-26T17:38:44.073Z"
      },
      {
        "duration": 18,
        "start_time": "2022-01-26T17:38:44.084Z"
      },
      {
        "duration": 68,
        "start_time": "2022-01-26T17:38:44.104Z"
      },
      {
        "duration": 4,
        "start_time": "2022-01-26T17:38:44.175Z"
      },
      {
        "duration": 11,
        "start_time": "2022-01-26T17:38:44.182Z"
      },
      {
        "duration": 8,
        "start_time": "2022-01-26T17:38:44.195Z"
      },
      {
        "duration": 14,
        "start_time": "2022-01-26T17:38:44.205Z"
      },
      {
        "duration": 67,
        "start_time": "2022-01-26T17:38:44.221Z"
      },
      {
        "duration": 10,
        "start_time": "2022-01-26T17:38:44.291Z"
      },
      {
        "duration": 9,
        "start_time": "2022-01-26T17:38:44.303Z"
      },
      {
        "duration": 9,
        "start_time": "2022-01-26T17:38:44.314Z"
      },
      {
        "duration": 12,
        "start_time": "2022-01-26T17:38:44.359Z"
      },
      {
        "duration": 18,
        "start_time": "2022-01-26T17:38:44.374Z"
      },
      {
        "duration": 13,
        "start_time": "2022-01-26T17:38:44.394Z"
      },
      {
        "duration": 62,
        "start_time": "2022-01-26T17:38:44.409Z"
      },
      {
        "duration": 5,
        "start_time": "2022-01-26T17:38:44.474Z"
      },
      {
        "duration": 19,
        "start_time": "2022-01-26T17:38:44.481Z"
      },
      {
        "duration": 58,
        "start_time": "2022-01-26T17:38:44.503Z"
      },
      {
        "duration": 14,
        "start_time": "2022-01-26T17:38:44.564Z"
      },
      {
        "duration": 30,
        "start_time": "2022-01-26T17:38:44.581Z"
      },
      {
        "duration": 45,
        "start_time": "2022-01-26T17:38:44.614Z"
      },
      {
        "duration": 6,
        "start_time": "2022-01-26T17:38:44.663Z"
      },
      {
        "duration": 13,
        "start_time": "2022-01-26T17:38:44.672Z"
      },
      {
        "duration": 30,
        "start_time": "2022-01-26T17:38:44.688Z"
      },
      {
        "duration": 62,
        "start_time": "2022-01-26T17:38:44.721Z"
      },
      {
        "duration": 24,
        "start_time": "2022-01-26T17:38:44.785Z"
      },
      {
        "duration": 49,
        "start_time": "2022-01-26T17:38:44.811Z"
      },
      {
        "duration": 37,
        "start_time": "2022-01-26T17:38:44.863Z"
      },
      {
        "duration": 27,
        "start_time": "2022-01-26T17:38:44.903Z"
      },
      {
        "duration": 49,
        "start_time": "2022-01-26T17:38:44.933Z"
      },
      {
        "duration": 13,
        "start_time": "2022-01-26T17:38:44.984Z"
      },
      {
        "duration": 540,
        "start_time": "2022-01-26T17:38:45.000Z"
      },
      {
        "duration": -351,
        "start_time": "2022-01-26T17:38:45.893Z"
      },
      {
        "duration": 8,
        "start_time": "2022-01-26T17:39:03.209Z"
      },
      {
        "duration": 12,
        "start_time": "2022-01-26T17:39:07.342Z"
      },
      {
        "duration": 11,
        "start_time": "2022-01-26T17:39:32.941Z"
      },
      {
        "duration": 10,
        "start_time": "2022-01-26T17:39:34.956Z"
      },
      {
        "duration": 9,
        "start_time": "2022-01-26T17:40:34.095Z"
      },
      {
        "duration": 10,
        "start_time": "2022-01-26T17:40:35.708Z"
      },
      {
        "duration": 28,
        "start_time": "2022-01-26T17:50:23.796Z"
      },
      {
        "duration": 66,
        "start_time": "2022-01-26T17:56:29.907Z"
      },
      {
        "duration": 11,
        "start_time": "2022-01-26T17:56:37.755Z"
      },
      {
        "duration": 24,
        "start_time": "2022-01-26T17:58:32.579Z"
      },
      {
        "duration": 1548,
        "start_time": "2022-01-26T17:58:58.330Z"
      },
      {
        "duration": 786,
        "start_time": "2022-01-26T17:58:59.880Z"
      },
      {
        "duration": 47,
        "start_time": "2022-01-26T17:59:00.671Z"
      },
      {
        "duration": 43,
        "start_time": "2022-01-26T17:59:00.722Z"
      },
      {
        "duration": 58,
        "start_time": "2022-01-26T17:59:00.768Z"
      },
      {
        "duration": 59,
        "start_time": "2022-01-26T17:59:00.829Z"
      },
      {
        "duration": 21,
        "start_time": "2022-01-26T17:59:00.891Z"
      },
      {
        "duration": 82,
        "start_time": "2022-01-26T17:59:00.919Z"
      },
      {
        "duration": 30,
        "start_time": "2022-01-26T17:59:01.006Z"
      },
      {
        "duration": 14,
        "start_time": "2022-01-26T17:59:01.060Z"
      },
      {
        "duration": 16,
        "start_time": "2022-01-26T17:59:01.077Z"
      },
      {
        "duration": 22,
        "start_time": "2022-01-26T17:59:01.095Z"
      },
      {
        "duration": 42,
        "start_time": "2022-01-26T17:59:01.120Z"
      },
      {
        "duration": 20,
        "start_time": "2022-01-26T17:59:01.165Z"
      },
      {
        "duration": 25,
        "start_time": "2022-01-26T17:59:01.188Z"
      },
      {
        "duration": 17,
        "start_time": "2022-01-26T17:59:01.215Z"
      },
      {
        "duration": 31,
        "start_time": "2022-01-26T17:59:01.235Z"
      },
      {
        "duration": 14,
        "start_time": "2022-01-26T17:59:01.269Z"
      },
      {
        "duration": 45,
        "start_time": "2022-01-26T17:59:01.286Z"
      },
      {
        "duration": 32,
        "start_time": "2022-01-26T17:59:01.360Z"
      },
      {
        "duration": 146,
        "start_time": "2022-01-26T17:59:01.395Z"
      },
      {
        "duration": 17,
        "start_time": "2022-01-26T17:59:01.544Z"
      },
      {
        "duration": 24,
        "start_time": "2022-01-26T17:59:01.568Z"
      },
      {
        "duration": 21,
        "start_time": "2022-01-26T17:59:01.596Z"
      },
      {
        "duration": 83,
        "start_time": "2022-01-26T17:59:01.619Z"
      },
      {
        "duration": 32,
        "start_time": "2022-01-26T17:59:01.705Z"
      },
      {
        "duration": 41,
        "start_time": "2022-01-26T17:59:01.740Z"
      },
      {
        "duration": 150,
        "start_time": "2022-01-26T17:59:01.784Z"
      },
      {
        "duration": 7,
        "start_time": "2022-01-26T17:59:01.937Z"
      },
      {
        "duration": 28,
        "start_time": "2022-01-26T17:59:01.947Z"
      },
      {
        "duration": 52,
        "start_time": "2022-01-26T17:59:01.978Z"
      },
      {
        "duration": 28,
        "start_time": "2022-01-26T17:59:02.032Z"
      },
      {
        "duration": 13,
        "start_time": "2022-01-26T17:59:02.063Z"
      },
      {
        "duration": 11,
        "start_time": "2022-01-26T17:59:02.079Z"
      },
      {
        "duration": 13,
        "start_time": "2022-01-26T17:59:02.092Z"
      },
      {
        "duration": 81,
        "start_time": "2022-01-26T17:59:02.108Z"
      },
      {
        "duration": 4,
        "start_time": "2022-01-26T17:59:02.192Z"
      },
      {
        "duration": 11,
        "start_time": "2022-01-26T17:59:02.199Z"
      },
      {
        "duration": 9,
        "start_time": "2022-01-26T17:59:02.212Z"
      },
      {
        "duration": 43,
        "start_time": "2022-01-26T17:59:02.223Z"
      },
      {
        "duration": 30,
        "start_time": "2022-01-26T17:59:02.268Z"
      },
      {
        "duration": 10,
        "start_time": "2022-01-26T17:59:02.300Z"
      },
      {
        "duration": 47,
        "start_time": "2022-01-26T17:59:02.313Z"
      },
      {
        "duration": 9,
        "start_time": "2022-01-26T17:59:02.362Z"
      },
      {
        "duration": 14,
        "start_time": "2022-01-26T17:59:02.374Z"
      },
      {
        "duration": 18,
        "start_time": "2022-01-26T17:59:02.391Z"
      },
      {
        "duration": 50,
        "start_time": "2022-01-26T17:59:02.411Z"
      },
      {
        "duration": 22,
        "start_time": "2022-01-26T17:59:02.463Z"
      },
      {
        "duration": 6,
        "start_time": "2022-01-26T17:59:02.488Z"
      },
      {
        "duration": 17,
        "start_time": "2022-01-26T17:59:02.497Z"
      },
      {
        "duration": 14,
        "start_time": "2022-01-26T17:59:02.559Z"
      },
      {
        "duration": 9,
        "start_time": "2022-01-26T17:59:02.575Z"
      },
      {
        "duration": 23,
        "start_time": "2022-01-26T17:59:02.587Z"
      },
      {
        "duration": 52,
        "start_time": "2022-01-26T17:59:02.613Z"
      },
      {
        "duration": 6,
        "start_time": "2022-01-26T17:59:02.668Z"
      },
      {
        "duration": 11,
        "start_time": "2022-01-26T17:59:02.676Z"
      },
      {
        "duration": 20,
        "start_time": "2022-01-26T17:59:02.690Z"
      },
      {
        "duration": 60,
        "start_time": "2022-01-26T17:59:02.712Z"
      },
      {
        "duration": 25,
        "start_time": "2022-01-26T17:59:02.774Z"
      },
      {
        "duration": 27,
        "start_time": "2022-01-26T17:59:02.801Z"
      },
      {
        "duration": 69,
        "start_time": "2022-01-26T17:59:02.830Z"
      },
      {
        "duration": 26,
        "start_time": "2022-01-26T17:59:02.901Z"
      },
      {
        "duration": 42,
        "start_time": "2022-01-26T17:59:02.930Z"
      },
      {
        "duration": 10,
        "start_time": "2022-01-26T17:59:02.975Z"
      },
      {
        "duration": 9,
        "start_time": "2022-01-26T17:59:02.988Z"
      },
      {
        "duration": 10,
        "start_time": "2022-01-26T17:59:03.000Z"
      },
      {
        "duration": 70,
        "start_time": "2022-01-26T17:59:03.013Z"
      },
      {
        "duration": 47,
        "start_time": "2022-01-26T17:59:03.090Z"
      },
      {
        "duration": 15,
        "start_time": "2022-01-26T17:59:03.159Z"
      },
      {
        "duration": 44,
        "start_time": "2022-01-26T18:00:08.113Z"
      },
      {
        "duration": 28,
        "start_time": "2022-01-26T18:00:44.868Z"
      },
      {
        "duration": 15,
        "start_time": "2022-01-26T18:01:34.920Z"
      },
      {
        "duration": 15,
        "start_time": "2022-01-26T18:01:40.032Z"
      },
      {
        "duration": 1506,
        "start_time": "2022-01-26T18:02:14.428Z"
      },
      {
        "duration": 698,
        "start_time": "2022-01-26T18:02:15.937Z"
      },
      {
        "duration": 30,
        "start_time": "2022-01-26T18:02:16.638Z"
      },
      {
        "duration": 20,
        "start_time": "2022-01-26T18:02:16.672Z"
      },
      {
        "duration": 69,
        "start_time": "2022-01-26T18:02:16.695Z"
      },
      {
        "duration": 22,
        "start_time": "2022-01-26T18:02:16.767Z"
      },
      {
        "duration": 13,
        "start_time": "2022-01-26T18:02:16.792Z"
      },
      {
        "duration": 84,
        "start_time": "2022-01-26T18:02:16.808Z"
      },
      {
        "duration": 31,
        "start_time": "2022-01-26T18:02:16.896Z"
      },
      {
        "duration": 29,
        "start_time": "2022-01-26T18:02:16.931Z"
      },
      {
        "duration": 14,
        "start_time": "2022-01-26T18:02:16.963Z"
      },
      {
        "duration": 14,
        "start_time": "2022-01-26T18:02:16.979Z"
      },
      {
        "duration": 11,
        "start_time": "2022-01-26T18:02:16.995Z"
      },
      {
        "duration": 58,
        "start_time": "2022-01-26T18:02:17.008Z"
      },
      {
        "duration": 22,
        "start_time": "2022-01-26T18:02:17.068Z"
      },
      {
        "duration": 9,
        "start_time": "2022-01-26T18:02:17.092Z"
      },
      {
        "duration": 5,
        "start_time": "2022-01-26T18:02:17.103Z"
      },
      {
        "duration": 57,
        "start_time": "2022-01-26T18:02:17.111Z"
      },
      {
        "duration": 45,
        "start_time": "2022-01-26T18:02:17.170Z"
      },
      {
        "duration": 64,
        "start_time": "2022-01-26T18:02:17.218Z"
      },
      {
        "duration": 134,
        "start_time": "2022-01-26T18:02:17.285Z"
      },
      {
        "duration": 6,
        "start_time": "2022-01-26T18:02:17.421Z"
      },
      {
        "duration": 45,
        "start_time": "2022-01-26T18:02:17.435Z"
      },
      {
        "duration": 22,
        "start_time": "2022-01-26T18:02:17.485Z"
      },
      {
        "duration": 77,
        "start_time": "2022-01-26T18:02:17.510Z"
      },
      {
        "duration": 31,
        "start_time": "2022-01-26T18:02:17.589Z"
      },
      {
        "duration": 45,
        "start_time": "2022-01-26T18:02:17.623Z"
      },
      {
        "duration": 102,
        "start_time": "2022-01-26T18:02:17.670Z"
      },
      {
        "duration": 6,
        "start_time": "2022-01-26T18:02:17.774Z"
      },
      {
        "duration": 16,
        "start_time": "2022-01-26T18:02:17.782Z"
      },
      {
        "duration": 70,
        "start_time": "2022-01-26T18:02:17.800Z"
      },
      {
        "duration": 3,
        "start_time": "2022-01-26T18:02:17.873Z"
      },
      {
        "duration": 16,
        "start_time": "2022-01-26T18:02:17.879Z"
      },
      {
        "duration": 16,
        "start_time": "2022-01-26T18:02:17.900Z"
      },
      {
        "duration": 12,
        "start_time": "2022-01-26T18:02:17.919Z"
      },
      {
        "duration": 63,
        "start_time": "2022-01-26T18:02:17.934Z"
      },
      {
        "duration": 4,
        "start_time": "2022-01-26T18:02:18.000Z"
      },
      {
        "duration": 15,
        "start_time": "2022-01-26T18:02:18.007Z"
      },
      {
        "duration": 42,
        "start_time": "2022-01-26T18:02:18.025Z"
      },
      {
        "duration": 12,
        "start_time": "2022-01-26T18:02:18.070Z"
      },
      {
        "duration": 29,
        "start_time": "2022-01-26T18:02:18.085Z"
      },
      {
        "duration": 44,
        "start_time": "2022-01-26T18:02:18.117Z"
      },
      {
        "duration": 9,
        "start_time": "2022-01-26T18:02:18.163Z"
      },
      {
        "duration": 10,
        "start_time": "2022-01-26T18:02:18.175Z"
      },
      {
        "duration": 13,
        "start_time": "2022-01-26T18:02:18.187Z"
      },
      {
        "duration": 59,
        "start_time": "2022-01-26T18:02:18.202Z"
      },
      {
        "duration": 13,
        "start_time": "2022-01-26T18:02:18.264Z"
      },
      {
        "duration": 22,
        "start_time": "2022-01-26T18:02:18.279Z"
      },
      {
        "duration": 5,
        "start_time": "2022-01-26T18:02:18.303Z"
      },
      {
        "duration": 54,
        "start_time": "2022-01-26T18:02:18.311Z"
      },
      {
        "duration": 13,
        "start_time": "2022-01-26T18:02:18.368Z"
      },
      {
        "duration": 9,
        "start_time": "2022-01-26T18:02:18.384Z"
      },
      {
        "duration": 21,
        "start_time": "2022-01-26T18:02:18.395Z"
      },
      {
        "duration": 11,
        "start_time": "2022-01-26T18:02:18.458Z"
      },
      {
        "duration": 5,
        "start_time": "2022-01-26T18:02:18.472Z"
      },
      {
        "duration": 11,
        "start_time": "2022-01-26T18:02:18.479Z"
      },
      {
        "duration": 24,
        "start_time": "2022-01-26T18:02:18.492Z"
      },
      {
        "duration": 60,
        "start_time": "2022-01-26T18:02:18.518Z"
      },
      {
        "duration": 24,
        "start_time": "2022-01-26T18:02:18.581Z"
      },
      {
        "duration": 61,
        "start_time": "2022-01-26T18:02:18.608Z"
      },
      {
        "duration": 39,
        "start_time": "2022-01-26T18:02:18.672Z"
      },
      {
        "duration": 53,
        "start_time": "2022-01-26T18:02:18.714Z"
      },
      {
        "duration": 25,
        "start_time": "2022-01-26T18:02:18.770Z"
      },
      {
        "duration": 12,
        "start_time": "2022-01-26T18:02:18.798Z"
      },
      {
        "duration": 50,
        "start_time": "2022-01-26T18:02:18.812Z"
      },
      {
        "duration": 10,
        "start_time": "2022-01-26T18:02:18.864Z"
      },
      {
        "duration": 20,
        "start_time": "2022-01-26T18:02:18.876Z"
      },
      {
        "duration": 13,
        "start_time": "2022-01-26T18:02:18.903Z"
      },
      {
        "duration": 91,
        "start_time": "2022-01-26T18:02:18.918Z"
      },
      {
        "duration": 15,
        "start_time": "2022-01-26T18:02:19.012Z"
      },
      {
        "duration": 491,
        "start_time": "2022-01-26T18:03:00.512Z"
      },
      {
        "duration": 67,
        "start_time": "2022-01-26T18:03:04.949Z"
      },
      {
        "duration": 14,
        "start_time": "2022-01-26T18:03:05.876Z"
      },
      {
        "duration": 76,
        "start_time": "2022-01-26T18:06:02.649Z"
      },
      {
        "duration": 14,
        "start_time": "2022-01-26T18:06:05.535Z"
      },
      {
        "duration": 16,
        "start_time": "2022-01-26T18:08:48.770Z"
      },
      {
        "duration": 11,
        "start_time": "2022-01-26T18:08:56.072Z"
      },
      {
        "duration": 15,
        "start_time": "2022-01-26T18:09:39.765Z"
      },
      {
        "duration": 9,
        "start_time": "2022-01-26T18:09:40.537Z"
      },
      {
        "duration": 71,
        "start_time": "2022-01-26T18:11:57.958Z"
      },
      {
        "duration": 56,
        "start_time": "2022-01-26T18:13:45.740Z"
      },
      {
        "duration": 1744,
        "start_time": "2022-01-26T18:14:00.036Z"
      },
      {
        "duration": 39,
        "start_time": "2022-01-26T18:14:10.733Z"
      },
      {
        "duration": 7,
        "start_time": "2022-01-26T18:14:27.412Z"
      },
      {
        "duration": 25,
        "start_time": "2022-01-26T18:14:46.352Z"
      },
      {
        "duration": 9,
        "start_time": "2022-01-26T18:14:47.093Z"
      },
      {
        "duration": 23,
        "start_time": "2022-01-26T18:15:04.196Z"
      },
      {
        "duration": 7,
        "start_time": "2022-01-26T18:15:06.659Z"
      },
      {
        "duration": 395,
        "start_time": "2022-01-26T18:15:18.512Z"
      },
      {
        "duration": 7,
        "start_time": "2022-01-26T18:15:19.596Z"
      },
      {
        "duration": 397,
        "start_time": "2022-01-26T18:15:41.086Z"
      },
      {
        "duration": 44,
        "start_time": "2022-01-26T18:15:57.470Z"
      },
      {
        "duration": 10,
        "start_time": "2022-01-26T18:15:58.450Z"
      },
      {
        "duration": 1558,
        "start_time": "2022-01-26T18:16:08.663Z"
      },
      {
        "duration": 562,
        "start_time": "2022-01-26T18:16:10.224Z"
      },
      {
        "duration": 29,
        "start_time": "2022-01-26T18:16:10.789Z"
      },
      {
        "duration": 18,
        "start_time": "2022-01-26T18:16:10.821Z"
      },
      {
        "duration": 46,
        "start_time": "2022-01-26T18:16:10.841Z"
      },
      {
        "duration": 26,
        "start_time": "2022-01-26T18:16:10.889Z"
      },
      {
        "duration": 13,
        "start_time": "2022-01-26T18:16:10.917Z"
      },
      {
        "duration": 61,
        "start_time": "2022-01-26T18:16:10.960Z"
      },
      {
        "duration": 56,
        "start_time": "2022-01-26T18:16:11.025Z"
      },
      {
        "duration": 16,
        "start_time": "2022-01-26T18:16:11.085Z"
      },
      {
        "duration": 11,
        "start_time": "2022-01-26T18:16:11.105Z"
      },
      {
        "duration": 52,
        "start_time": "2022-01-26T18:16:11.120Z"
      },
      {
        "duration": 14,
        "start_time": "2022-01-26T18:16:11.175Z"
      },
      {
        "duration": 20,
        "start_time": "2022-01-26T18:16:11.191Z"
      },
      {
        "duration": 69,
        "start_time": "2022-01-26T18:16:11.214Z"
      },
      {
        "duration": 12,
        "start_time": "2022-01-26T18:16:11.286Z"
      },
      {
        "duration": 9,
        "start_time": "2022-01-26T18:16:11.300Z"
      },
      {
        "duration": 12,
        "start_time": "2022-01-26T18:16:11.311Z"
      },
      {
        "duration": 83,
        "start_time": "2022-01-26T18:16:11.326Z"
      },
      {
        "duration": 52,
        "start_time": "2022-01-26T18:16:11.412Z"
      },
      {
        "duration": 194,
        "start_time": "2022-01-26T18:16:11.468Z"
      },
      {
        "duration": 8,
        "start_time": "2022-01-26T18:16:11.665Z"
      },
      {
        "duration": 28,
        "start_time": "2022-01-26T18:16:11.680Z"
      },
      {
        "duration": 50,
        "start_time": "2022-01-26T18:16:11.712Z"
      },
      {
        "duration": 60,
        "start_time": "2022-01-26T18:16:11.765Z"
      },
      {
        "duration": 52,
        "start_time": "2022-01-26T18:16:11.828Z"
      },
      {
        "duration": 26,
        "start_time": "2022-01-26T18:16:11.882Z"
      },
      {
        "duration": 143,
        "start_time": "2022-01-26T18:16:11.911Z"
      },
      {
        "duration": 8,
        "start_time": "2022-01-26T18:16:12.061Z"
      },
      {
        "duration": 24,
        "start_time": "2022-01-26T18:16:12.073Z"
      },
      {
        "duration": 78,
        "start_time": "2022-01-26T18:16:12.099Z"
      },
      {
        "duration": 7,
        "start_time": "2022-01-26T18:16:12.181Z"
      },
      {
        "duration": 16,
        "start_time": "2022-01-26T18:16:12.191Z"
      },
      {
        "duration": 9,
        "start_time": "2022-01-26T18:16:12.209Z"
      },
      {
        "duration": 48,
        "start_time": "2022-01-26T18:16:12.221Z"
      },
      {
        "duration": 35,
        "start_time": "2022-01-26T18:16:12.272Z"
      },
      {
        "duration": 4,
        "start_time": "2022-01-26T18:16:12.309Z"
      },
      {
        "duration": 14,
        "start_time": "2022-01-26T18:16:12.316Z"
      },
      {
        "duration": 35,
        "start_time": "2022-01-26T18:16:12.332Z"
      },
      {
        "duration": 22,
        "start_time": "2022-01-26T18:16:12.371Z"
      },
      {
        "duration": 71,
        "start_time": "2022-01-26T18:16:12.397Z"
      },
      {
        "duration": 11,
        "start_time": "2022-01-26T18:16:12.471Z"
      },
      {
        "duration": 16,
        "start_time": "2022-01-26T18:16:12.485Z"
      },
      {
        "duration": 15,
        "start_time": "2022-01-26T18:16:12.504Z"
      },
      {
        "duration": 44,
        "start_time": "2022-01-26T18:16:12.522Z"
      },
      {
        "duration": 21,
        "start_time": "2022-01-26T18:16:12.569Z"
      },
      {
        "duration": 15,
        "start_time": "2022-01-26T18:16:12.593Z"
      },
      {
        "duration": 58,
        "start_time": "2022-01-26T18:16:12.611Z"
      },
      {
        "duration": 7,
        "start_time": "2022-01-26T18:16:12.673Z"
      },
      {
        "duration": 25,
        "start_time": "2022-01-26T18:16:12.683Z"
      },
      {
        "duration": 48,
        "start_time": "2022-01-26T18:16:12.711Z"
      },
      {
        "duration": 12,
        "start_time": "2022-01-26T18:16:12.762Z"
      },
      {
        "duration": 21,
        "start_time": "2022-01-26T18:16:12.776Z"
      },
      {
        "duration": 19,
        "start_time": "2022-01-26T18:16:12.800Z"
      },
      {
        "duration": 41,
        "start_time": "2022-01-26T18:16:12.821Z"
      },
      {
        "duration": 40,
        "start_time": "2022-01-26T18:16:12.865Z"
      },
      {
        "duration": 21,
        "start_time": "2022-01-26T18:16:12.908Z"
      },
      {
        "duration": 33,
        "start_time": "2022-01-26T18:16:12.933Z"
      },
      {
        "duration": 40,
        "start_time": "2022-01-26T18:16:12.969Z"
      },
      {
        "duration": 32,
        "start_time": "2022-01-26T18:16:13.012Z"
      },
      {
        "duration": 35,
        "start_time": "2022-01-26T18:16:13.059Z"
      },
      {
        "duration": 27,
        "start_time": "2022-01-26T18:16:13.097Z"
      },
      {
        "duration": 50,
        "start_time": "2022-01-26T18:16:13.127Z"
      },
      {
        "duration": 13,
        "start_time": "2022-01-26T18:16:13.180Z"
      },
      {
        "duration": 27,
        "start_time": "2022-01-26T18:16:13.196Z"
      },
      {
        "duration": 47,
        "start_time": "2022-01-26T18:16:13.226Z"
      },
      {
        "duration": 15,
        "start_time": "2022-01-26T18:16:13.276Z"
      },
      {
        "duration": 80,
        "start_time": "2022-01-26T18:16:13.302Z"
      },
      {
        "duration": 20,
        "start_time": "2022-01-26T18:16:13.386Z"
      },
      {
        "duration": 37,
        "start_time": "2022-01-26T18:17:00.089Z"
      },
      {
        "duration": 16,
        "start_time": "2022-01-26T18:17:01.543Z"
      },
      {
        "duration": 23,
        "start_time": "2022-01-26T18:18:28.048Z"
      },
      {
        "duration": 17,
        "start_time": "2022-01-26T18:18:31.936Z"
      },
      {
        "duration": 3,
        "start_time": "2022-01-26T18:19:28.577Z"
      },
      {
        "duration": 14,
        "start_time": "2022-01-26T18:19:28.680Z"
      },
      {
        "duration": 780,
        "start_time": "2022-01-26T18:20:47.236Z"
      },
      {
        "duration": 32,
        "start_time": "2022-01-26T18:20:59.484Z"
      },
      {
        "duration": 28,
        "start_time": "2022-01-26T18:29:38.895Z"
      },
      {
        "duration": 211,
        "start_time": "2022-01-27T11:56:07.983Z"
      },
      {
        "duration": 1157,
        "start_time": "2022-01-27T11:56:14.367Z"
      },
      {
        "duration": 427,
        "start_time": "2022-01-27T11:56:15.526Z"
      },
      {
        "duration": 21,
        "start_time": "2022-01-27T11:56:15.955Z"
      },
      {
        "duration": 12,
        "start_time": "2022-01-27T11:56:15.978Z"
      },
      {
        "duration": 34,
        "start_time": "2022-01-27T11:56:15.991Z"
      },
      {
        "duration": 16,
        "start_time": "2022-01-27T11:56:16.027Z"
      },
      {
        "duration": 11,
        "start_time": "2022-01-27T11:56:16.044Z"
      },
      {
        "duration": 58,
        "start_time": "2022-01-27T11:56:16.058Z"
      },
      {
        "duration": 15,
        "start_time": "2022-01-27T11:56:16.118Z"
      },
      {
        "duration": 9,
        "start_time": "2022-01-27T11:56:16.135Z"
      },
      {
        "duration": 7,
        "start_time": "2022-01-27T11:56:16.146Z"
      },
      {
        "duration": 12,
        "start_time": "2022-01-27T11:56:16.155Z"
      },
      {
        "duration": 32,
        "start_time": "2022-01-27T11:56:16.169Z"
      },
      {
        "duration": 15,
        "start_time": "2022-01-27T11:56:16.203Z"
      },
      {
        "duration": 21,
        "start_time": "2022-01-27T11:56:16.220Z"
      },
      {
        "duration": 7,
        "start_time": "2022-01-27T11:56:16.243Z"
      },
      {
        "duration": 6,
        "start_time": "2022-01-27T11:56:16.251Z"
      },
      {
        "duration": 9,
        "start_time": "2022-01-27T11:56:16.259Z"
      },
      {
        "duration": 55,
        "start_time": "2022-01-27T11:56:16.270Z"
      },
      {
        "duration": 23,
        "start_time": "2022-01-27T11:56:16.327Z"
      },
      {
        "duration": 120,
        "start_time": "2022-01-27T11:56:16.352Z"
      },
      {
        "duration": 4,
        "start_time": "2022-01-27T11:56:16.474Z"
      },
      {
        "duration": 31,
        "start_time": "2022-01-27T11:56:16.482Z"
      },
      {
        "duration": 15,
        "start_time": "2022-01-27T11:56:16.516Z"
      },
      {
        "duration": 65,
        "start_time": "2022-01-27T11:56:16.533Z"
      },
      {
        "duration": 24,
        "start_time": "2022-01-27T11:56:16.600Z"
      },
      {
        "duration": 17,
        "start_time": "2022-01-27T11:56:16.626Z"
      },
      {
        "duration": 86,
        "start_time": "2022-01-27T11:56:16.645Z"
      },
      {
        "duration": 4,
        "start_time": "2022-01-27T11:56:16.733Z"
      },
      {
        "duration": 10,
        "start_time": "2022-01-27T11:56:16.739Z"
      },
      {
        "duration": 52,
        "start_time": "2022-01-27T11:56:16.750Z"
      },
      {
        "duration": 2,
        "start_time": "2022-01-27T11:56:16.804Z"
      },
      {
        "duration": 10,
        "start_time": "2022-01-27T11:56:16.808Z"
      },
      {
        "duration": 7,
        "start_time": "2022-01-27T11:56:16.819Z"
      },
      {
        "duration": 9,
        "start_time": "2022-01-27T11:56:16.828Z"
      },
      {
        "duration": 27,
        "start_time": "2022-01-27T11:56:16.838Z"
      },
      {
        "duration": 30,
        "start_time": "2022-01-27T11:56:16.867Z"
      },
      {
        "duration": 8,
        "start_time": "2022-01-27T11:56:16.899Z"
      },
      {
        "duration": 9,
        "start_time": "2022-01-27T11:56:16.908Z"
      },
      {
        "duration": 13,
        "start_time": "2022-01-27T11:56:16.919Z"
      },
      {
        "duration": 27,
        "start_time": "2022-01-27T11:56:16.934Z"
      },
      {
        "duration": 8,
        "start_time": "2022-01-27T11:56:16.962Z"
      },
      {
        "duration": 7,
        "start_time": "2022-01-27T11:56:16.998Z"
      },
      {
        "duration": 10,
        "start_time": "2022-01-27T11:56:17.006Z"
      },
      {
        "duration": 14,
        "start_time": "2022-01-27T11:56:17.018Z"
      },
      {
        "duration": 13,
        "start_time": "2022-01-27T11:56:17.034Z"
      },
      {
        "duration": 8,
        "start_time": "2022-01-27T11:56:17.049Z"
      },
      {
        "duration": 41,
        "start_time": "2022-01-27T11:56:17.059Z"
      },
      {
        "duration": 7,
        "start_time": "2022-01-27T11:56:17.102Z"
      },
      {
        "duration": 14,
        "start_time": "2022-01-27T11:56:17.111Z"
      },
      {
        "duration": 9,
        "start_time": "2022-01-27T11:56:17.127Z"
      },
      {
        "duration": 7,
        "start_time": "2022-01-27T11:56:17.138Z"
      },
      {
        "duration": 14,
        "start_time": "2022-01-27T11:56:17.146Z"
      },
      {
        "duration": 41,
        "start_time": "2022-01-27T11:56:17.162Z"
      },
      {
        "duration": 9,
        "start_time": "2022-01-27T11:56:17.206Z"
      },
      {
        "duration": 9,
        "start_time": "2022-01-27T11:56:17.217Z"
      },
      {
        "duration": 17,
        "start_time": "2022-01-27T11:56:17.228Z"
      },
      {
        "duration": 18,
        "start_time": "2022-01-27T11:56:17.247Z"
      },
      {
        "duration": 41,
        "start_time": "2022-01-27T11:56:17.266Z"
      },
      {
        "duration": 18,
        "start_time": "2022-01-27T11:56:17.309Z"
      },
      {
        "duration": 23,
        "start_time": "2022-01-27T11:56:17.329Z"
      },
      {
        "duration": 17,
        "start_time": "2022-01-27T11:56:17.354Z"
      },
      {
        "duration": 17,
        "start_time": "2022-01-27T11:56:17.398Z"
      },
      {
        "duration": 7,
        "start_time": "2022-01-27T11:56:17.417Z"
      },
      {
        "duration": 9,
        "start_time": "2022-01-27T11:56:17.426Z"
      },
      {
        "duration": 13,
        "start_time": "2022-01-27T11:56:17.437Z"
      },
      {
        "duration": 46,
        "start_time": "2022-01-27T11:56:17.452Z"
      },
      {
        "duration": 13,
        "start_time": "2022-01-27T11:56:17.503Z"
      },
      {
        "duration": 11,
        "start_time": "2022-01-27T11:56:17.519Z"
      },
      {
        "duration": 7,
        "start_time": "2022-01-27T11:56:17.531Z"
      },
      {
        "duration": 11,
        "start_time": "2022-01-27T11:56:17.540Z"
      },
      {
        "duration": 52,
        "start_time": "2022-01-27T11:56:17.553Z"
      },
      {
        "duration": 18,
        "start_time": "2022-01-27T11:56:17.607Z"
      },
      {
        "duration": 240,
        "start_time": "2022-01-27T11:56:17.627Z"
      },
      {
        "duration": 6,
        "start_time": "2022-01-27T11:56:29.350Z"
      },
      {
        "duration": 8,
        "start_time": "2022-01-27T11:56:39.802Z"
      },
      {
        "duration": 287,
        "start_time": "2022-01-27T11:59:16.590Z"
      },
      {
        "duration": 314,
        "start_time": "2022-01-27T11:59:26.974Z"
      },
      {
        "duration": 294,
        "start_time": "2022-01-27T12:01:16.123Z"
      },
      {
        "duration": 8,
        "start_time": "2022-01-27T12:08:26.322Z"
      },
      {
        "duration": 437,
        "start_time": "2022-01-27T12:13:27.145Z"
      },
      {
        "duration": 568,
        "start_time": "2022-01-27T12:13:35.386Z"
      },
      {
        "duration": 1218,
        "start_time": "2022-01-27T12:13:43.078Z"
      },
      {
        "duration": 420,
        "start_time": "2022-01-27T12:13:49.994Z"
      },
      {
        "duration": 380,
        "start_time": "2022-01-27T12:17:45.610Z"
      },
      {
        "duration": 469,
        "start_time": "2022-01-29T11:44:15.310Z"
      },
      {
        "duration": 1258,
        "start_time": "2022-01-29T11:44:19.286Z"
      },
      {
        "duration": 430,
        "start_time": "2022-01-29T11:44:20.546Z"
      },
      {
        "duration": 38,
        "start_time": "2022-01-29T11:44:20.978Z"
      },
      {
        "duration": 17,
        "start_time": "2022-01-29T11:44:21.019Z"
      },
      {
        "duration": 61,
        "start_time": "2022-01-29T11:44:21.039Z"
      },
      {
        "duration": 18,
        "start_time": "2022-01-29T11:44:21.102Z"
      },
      {
        "duration": 28,
        "start_time": "2022-01-29T11:44:21.122Z"
      },
      {
        "duration": 33,
        "start_time": "2022-01-29T11:44:21.154Z"
      },
      {
        "duration": 15,
        "start_time": "2022-01-29T11:44:21.198Z"
      },
      {
        "duration": 21,
        "start_time": "2022-01-29T11:44:21.214Z"
      },
      {
        "duration": 18,
        "start_time": "2022-01-29T11:44:21.237Z"
      },
      {
        "duration": 41,
        "start_time": "2022-01-29T11:44:21.257Z"
      },
      {
        "duration": 20,
        "start_time": "2022-01-29T11:44:21.300Z"
      },
      {
        "duration": 25,
        "start_time": "2022-01-29T11:44:21.322Z"
      },
      {
        "duration": 17,
        "start_time": "2022-01-29T11:44:21.349Z"
      },
      {
        "duration": 15,
        "start_time": "2022-01-29T11:44:21.368Z"
      },
      {
        "duration": 35,
        "start_time": "2022-01-29T11:44:21.385Z"
      },
      {
        "duration": 29,
        "start_time": "2022-01-29T11:44:21.422Z"
      },
      {
        "duration": 53,
        "start_time": "2022-01-29T11:44:21.454Z"
      },
      {
        "duration": 27,
        "start_time": "2022-01-29T11:44:21.510Z"
      },
      {
        "duration": 110,
        "start_time": "2022-01-29T11:44:21.539Z"
      },
      {
        "duration": 7,
        "start_time": "2022-01-29T11:44:21.651Z"
      },
      {
        "duration": 31,
        "start_time": "2022-01-29T11:44:21.662Z"
      },
      {
        "duration": 29,
        "start_time": "2022-01-29T11:44:21.697Z"
      },
      {
        "duration": 50,
        "start_time": "2022-01-29T11:44:21.729Z"
      },
      {
        "duration": 34,
        "start_time": "2022-01-29T11:44:21.782Z"
      },
      {
        "duration": 47,
        "start_time": "2022-01-29T11:44:21.819Z"
      },
      {
        "duration": 73,
        "start_time": "2022-01-29T11:44:21.869Z"
      },
      {
        "duration": 5,
        "start_time": "2022-01-29T11:44:21.944Z"
      },
      {
        "duration": 15,
        "start_time": "2022-01-29T11:44:21.951Z"
      },
      {
        "duration": 48,
        "start_time": "2022-01-29T11:44:21.967Z"
      },
      {
        "duration": 3,
        "start_time": "2022-01-29T11:44:22.017Z"
      },
      {
        "duration": 26,
        "start_time": "2022-01-29T11:44:22.022Z"
      },
      {
        "duration": 18,
        "start_time": "2022-01-29T11:44:22.050Z"
      },
      {
        "duration": 11,
        "start_time": "2022-01-29T11:44:22.070Z"
      },
      {
        "duration": 33,
        "start_time": "2022-01-29T11:44:22.083Z"
      },
      {
        "duration": 3,
        "start_time": "2022-01-29T11:44:22.117Z"
      },
      {
        "duration": 9,
        "start_time": "2022-01-29T11:44:22.122Z"
      },
      {
        "duration": 8,
        "start_time": "2022-01-29T11:44:22.133Z"
      },
      {
        "duration": 10,
        "start_time": "2022-01-29T11:44:22.143Z"
      },
      {
        "duration": 47,
        "start_time": "2022-01-29T11:44:22.155Z"
      },
      {
        "duration": 8,
        "start_time": "2022-01-29T11:44:22.203Z"
      },
      {
        "duration": 8,
        "start_time": "2022-01-29T11:44:22.212Z"
      },
      {
        "duration": 13,
        "start_time": "2022-01-29T11:44:22.222Z"
      },
      {
        "duration": 15,
        "start_time": "2022-01-29T11:44:22.237Z"
      },
      {
        "duration": 14,
        "start_time": "2022-01-29T11:44:22.254Z"
      },
      {
        "duration": 30,
        "start_time": "2022-01-29T11:44:22.270Z"
      },
      {
        "duration": 14,
        "start_time": "2022-01-29T11:44:22.301Z"
      },
      {
        "duration": 4,
        "start_time": "2022-01-29T11:44:22.317Z"
      },
      {
        "duration": 12,
        "start_time": "2022-01-29T11:44:22.323Z"
      },
      {
        "duration": 10,
        "start_time": "2022-01-29T11:44:22.337Z"
      },
      {
        "duration": 6,
        "start_time": "2022-01-29T11:44:22.348Z"
      },
      {
        "duration": 53,
        "start_time": "2022-01-29T11:44:22.356Z"
      },
      {
        "duration": 8,
        "start_time": "2022-01-29T11:44:22.411Z"
      },
      {
        "duration": 5,
        "start_time": "2022-01-29T11:44:22.421Z"
      },
      {
        "duration": 13,
        "start_time": "2022-01-29T11:44:22.428Z"
      },
      {
        "duration": 13,
        "start_time": "2022-01-29T11:44:22.443Z"
      },
      {
        "duration": 47,
        "start_time": "2022-01-29T11:44:22.458Z"
      },
      {
        "duration": 15,
        "start_time": "2022-01-29T11:44:22.507Z"
      },
      {
        "duration": 18,
        "start_time": "2022-01-29T11:44:22.524Z"
      },
      {
        "duration": 23,
        "start_time": "2022-01-29T11:44:22.544Z"
      },
      {
        "duration": 45,
        "start_time": "2022-01-29T11:44:22.569Z"
      },
      {
        "duration": 16,
        "start_time": "2022-01-29T11:44:22.616Z"
      },
      {
        "duration": 6,
        "start_time": "2022-01-29T11:44:22.634Z"
      },
      {
        "duration": 8,
        "start_time": "2022-01-29T11:44:22.642Z"
      },
      {
        "duration": 51,
        "start_time": "2022-01-29T11:44:22.652Z"
      },
      {
        "duration": 9,
        "start_time": "2022-01-29T11:44:22.705Z"
      },
      {
        "duration": 12,
        "start_time": "2022-01-29T11:44:22.719Z"
      },
      {
        "duration": 11,
        "start_time": "2022-01-29T11:44:22.733Z"
      },
      {
        "duration": 6,
        "start_time": "2022-01-29T11:44:22.745Z"
      },
      {
        "duration": 45,
        "start_time": "2022-01-29T11:44:22.753Z"
      },
      {
        "duration": 20,
        "start_time": "2022-01-29T11:44:22.801Z"
      },
      {
        "duration": 20,
        "start_time": "2022-01-29T11:44:22.823Z"
      },
      {
        "duration": 301,
        "start_time": "2022-01-29T11:44:22.844Z"
      },
      {
        "duration": 683,
        "start_time": "2022-01-29T11:44:23.146Z"
      },
      {
        "duration": 307,
        "start_time": "2022-01-29T11:44:43.757Z"
      },
      {
        "duration": 275,
        "start_time": "2022-01-29T11:45:43.446Z"
      },
      {
        "duration": 326,
        "start_time": "2022-01-29T11:53:09.174Z"
      },
      {
        "duration": 193,
        "start_time": "2022-01-29T11:53:09.309Z"
      },
      {
        "duration": 280,
        "start_time": "2022-01-29T11:53:15.589Z"
      },
      {
        "duration": 5,
        "start_time": "2022-01-29T11:54:13.346Z"
      },
      {
        "duration": 10,
        "start_time": "2022-01-29T11:54:30.537Z"
      },
      {
        "duration": 5,
        "start_time": "2022-01-29T11:54:49.786Z"
      },
      {
        "duration": 465,
        "start_time": "2022-01-29T11:56:18.369Z"
      },
      {
        "duration": 2389,
        "start_time": "2022-01-29T11:56:59.630Z"
      },
      {
        "duration": 414,
        "start_time": "2022-01-29T11:57:07.146Z"
      },
      {
        "duration": 530,
        "start_time": "2022-01-29T11:57:44.153Z"
      },
      {
        "duration": 504,
        "start_time": "2022-01-29T11:57:50.613Z"
      },
      {
        "duration": 502,
        "start_time": "2022-01-29T11:59:50.712Z"
      },
      {
        "duration": 5,
        "start_time": "2022-01-29T12:02:15.090Z"
      },
      {
        "duration": 6,
        "start_time": "2022-01-29T12:02:15.642Z"
      },
      {
        "duration": 518,
        "start_time": "2022-01-29T12:02:17.678Z"
      },
      {
        "duration": 500,
        "start_time": "2022-01-29T12:02:31.617Z"
      },
      {
        "duration": 640,
        "start_time": "2022-01-29T12:02:57.850Z"
      },
      {
        "duration": 841,
        "start_time": "2022-01-29T12:03:11.706Z"
      },
      {
        "duration": 517,
        "start_time": "2022-01-29T12:04:49.462Z"
      },
      {
        "duration": 739,
        "start_time": "2022-01-29T12:06:01.297Z"
      },
      {
        "duration": 688,
        "start_time": "2022-01-29T12:11:30.674Z"
      },
      {
        "duration": 941,
        "start_time": "2022-01-29T12:12:01.597Z"
      },
      {
        "duration": 631,
        "start_time": "2022-01-29T12:12:07.589Z"
      },
      {
        "duration": 644,
        "start_time": "2022-01-29T12:12:17.085Z"
      },
      {
        "duration": 621,
        "start_time": "2022-01-29T12:12:28.918Z"
      },
      {
        "duration": 617,
        "start_time": "2022-01-29T12:13:00.329Z"
      },
      {
        "duration": 642,
        "start_time": "2022-01-29T12:13:26.425Z"
      },
      {
        "duration": 730,
        "start_time": "2022-01-29T12:15:34.521Z"
      },
      {
        "duration": 6,
        "start_time": "2022-01-29T12:28:20.632Z"
      },
      {
        "duration": 4,
        "start_time": "2022-01-29T12:28:45.961Z"
      },
      {
        "duration": 7,
        "start_time": "2022-01-29T12:29:36.148Z"
      },
      {
        "duration": 5,
        "start_time": "2022-01-29T12:29:36.536Z"
      },
      {
        "duration": 7,
        "start_time": "2022-01-29T12:29:36.965Z"
      },
      {
        "duration": 5,
        "start_time": "2022-01-29T12:29:37.456Z"
      },
      {
        "duration": 5,
        "start_time": "2022-01-29T12:30:44.678Z"
      },
      {
        "duration": 3,
        "start_time": "2022-01-29T12:33:19.620Z"
      },
      {
        "duration": 3,
        "start_time": "2022-01-29T12:33:21.979Z"
      },
      {
        "duration": 8,
        "start_time": "2022-01-29T12:34:32.407Z"
      },
      {
        "duration": 4,
        "start_time": "2022-01-29T12:37:06.618Z"
      },
      {
        "duration": 502,
        "start_time": "2022-01-29T12:37:06.625Z"
      },
      {
        "duration": 24,
        "start_time": "2022-01-29T12:37:07.129Z"
      },
      {
        "duration": 11,
        "start_time": "2022-01-29T12:37:07.155Z"
      },
      {
        "duration": 35,
        "start_time": "2022-01-29T12:37:07.168Z"
      },
      {
        "duration": 19,
        "start_time": "2022-01-29T12:37:07.205Z"
      },
      {
        "duration": 12,
        "start_time": "2022-01-29T12:37:07.227Z"
      },
      {
        "duration": 31,
        "start_time": "2022-01-29T12:37:07.241Z"
      },
      {
        "duration": 38,
        "start_time": "2022-01-29T12:37:07.274Z"
      },
      {
        "duration": 8,
        "start_time": "2022-01-29T12:37:07.314Z"
      },
      {
        "duration": 9,
        "start_time": "2022-01-29T12:37:07.325Z"
      },
      {
        "duration": 11,
        "start_time": "2022-01-29T12:37:07.336Z"
      },
      {
        "duration": 8,
        "start_time": "2022-01-29T12:37:07.349Z"
      },
      {
        "duration": 48,
        "start_time": "2022-01-29T12:37:07.359Z"
      },
      {
        "duration": 16,
        "start_time": "2022-01-29T12:37:07.409Z"
      },
      {
        "duration": 6,
        "start_time": "2022-01-29T12:37:07.427Z"
      },
      {
        "duration": 6,
        "start_time": "2022-01-29T12:37:07.435Z"
      },
      {
        "duration": 8,
        "start_time": "2022-01-29T12:37:07.443Z"
      },
      {
        "duration": 62,
        "start_time": "2022-01-29T12:37:07.455Z"
      },
      {
        "duration": 25,
        "start_time": "2022-01-29T12:37:07.520Z"
      },
      {
        "duration": 118,
        "start_time": "2022-01-29T12:37:07.547Z"
      },
      {
        "duration": 6,
        "start_time": "2022-01-29T12:37:07.667Z"
      },
      {
        "duration": 32,
        "start_time": "2022-01-29T12:37:07.674Z"
      },
      {
        "duration": 16,
        "start_time": "2022-01-29T12:37:07.707Z"
      },
      {
        "duration": 48,
        "start_time": "2022-01-29T12:37:07.725Z"
      },
      {
        "duration": 42,
        "start_time": "2022-01-29T12:37:07.775Z"
      },
      {
        "duration": 20,
        "start_time": "2022-01-29T12:37:07.818Z"
      },
      {
        "duration": 79,
        "start_time": "2022-01-29T12:37:07.839Z"
      },
      {
        "duration": 5,
        "start_time": "2022-01-29T12:37:07.921Z"
      },
      {
        "duration": 15,
        "start_time": "2022-01-29T12:37:07.927Z"
      },
      {
        "duration": 43,
        "start_time": "2022-01-29T12:37:07.944Z"
      },
      {
        "duration": 3,
        "start_time": "2022-01-29T12:37:07.999Z"
      },
      {
        "duration": 11,
        "start_time": "2022-01-29T12:37:08.004Z"
      },
      {
        "duration": 10,
        "start_time": "2022-01-29T12:37:08.017Z"
      },
      {
        "duration": 11,
        "start_time": "2022-01-29T12:37:08.029Z"
      },
      {
        "duration": 31,
        "start_time": "2022-01-29T12:37:08.042Z"
      },
      {
        "duration": 26,
        "start_time": "2022-01-29T12:37:08.075Z"
      },
      {
        "duration": 10,
        "start_time": "2022-01-29T12:37:08.103Z"
      },
      {
        "duration": 8,
        "start_time": "2022-01-29T12:37:08.115Z"
      },
      {
        "duration": 14,
        "start_time": "2022-01-29T12:37:08.125Z"
      },
      {
        "duration": 27,
        "start_time": "2022-01-29T12:37:08.141Z"
      },
      {
        "duration": 35,
        "start_time": "2022-01-29T12:37:08.170Z"
      },
      {
        "duration": 8,
        "start_time": "2022-01-29T12:37:08.206Z"
      },
      {
        "duration": 10,
        "start_time": "2022-01-29T12:37:08.216Z"
      },
      {
        "duration": 9,
        "start_time": "2022-01-29T12:37:08.227Z"
      },
      {
        "duration": 11,
        "start_time": "2022-01-29T12:37:08.237Z"
      },
      {
        "duration": 11,
        "start_time": "2022-01-29T12:37:08.250Z"
      },
      {
        "duration": 43,
        "start_time": "2022-01-29T12:37:08.263Z"
      },
      {
        "duration": 3,
        "start_time": "2022-01-29T12:37:08.308Z"
      },
      {
        "duration": 13,
        "start_time": "2022-01-29T12:37:08.313Z"
      },
      {
        "duration": 15,
        "start_time": "2022-01-29T12:37:08.327Z"
      },
      {
        "duration": 15,
        "start_time": "2022-01-29T12:37:08.345Z"
      },
      {
        "duration": 38,
        "start_time": "2022-01-29T12:37:08.362Z"
      },
      {
        "duration": 11,
        "start_time": "2022-01-29T12:37:08.402Z"
      },
      {
        "duration": 4,
        "start_time": "2022-01-29T12:37:08.418Z"
      },
      {
        "duration": 9,
        "start_time": "2022-01-29T12:37:08.424Z"
      },
      {
        "duration": 12,
        "start_time": "2022-01-29T12:37:08.434Z"
      },
      {
        "duration": 14,
        "start_time": "2022-01-29T12:37:08.448Z"
      },
      {
        "duration": 48,
        "start_time": "2022-01-29T12:37:08.463Z"
      },
      {
        "duration": 16,
        "start_time": "2022-01-29T12:37:08.513Z"
      },
      {
        "duration": 22,
        "start_time": "2022-01-29T12:37:08.530Z"
      },
      {
        "duration": 47,
        "start_time": "2022-01-29T12:37:08.553Z"
      },
      {
        "duration": 14,
        "start_time": "2022-01-29T12:37:08.602Z"
      },
      {
        "duration": 7,
        "start_time": "2022-01-29T12:37:08.618Z"
      },
      {
        "duration": 9,
        "start_time": "2022-01-29T12:37:08.626Z"
      },
      {
        "duration": 12,
        "start_time": "2022-01-29T12:37:08.637Z"
      },
      {
        "duration": 9,
        "start_time": "2022-01-29T12:37:08.651Z"
      },
      {
        "duration": 47,
        "start_time": "2022-01-29T12:37:08.662Z"
      },
      {
        "duration": 10,
        "start_time": "2022-01-29T12:37:08.710Z"
      },
      {
        "duration": 4,
        "start_time": "2022-01-29T12:37:08.722Z"
      },
      {
        "duration": 12,
        "start_time": "2022-01-29T12:37:08.728Z"
      },
      {
        "duration": 21,
        "start_time": "2022-01-29T12:37:08.742Z"
      },
      {
        "duration": 48,
        "start_time": "2022-01-29T12:37:08.765Z"
      },
      {
        "duration": 5,
        "start_time": "2022-01-29T12:37:08.815Z"
      },
      {
        "duration": 7,
        "start_time": "2022-01-29T12:37:08.822Z"
      },
      {
        "duration": 892,
        "start_time": "2022-01-29T12:37:08.831Z"
      },
      {
        "duration": 640,
        "start_time": "2022-01-29T12:37:09.725Z"
      },
      {
        "duration": 649,
        "start_time": "2022-01-29T12:37:10.367Z"
      },
      {
        "duration": 7,
        "start_time": "2022-01-29T12:37:11.018Z"
      },
      {
        "duration": 9,
        "start_time": "2022-01-29T12:37:11.026Z"
      },
      {
        "duration": 7,
        "start_time": "2022-01-29T12:37:11.036Z"
      },
      {
        "duration": 11,
        "start_time": "2022-01-29T12:37:11.044Z"
      },
      {
        "duration": 7,
        "start_time": "2022-01-29T12:37:49.527Z"
      },
      {
        "duration": 7,
        "start_time": "2022-01-29T12:38:14.879Z"
      },
      {
        "duration": 7,
        "start_time": "2022-01-29T12:39:27.222Z"
      },
      {
        "duration": 1444,
        "start_time": "2022-02-07T07:45:57.556Z"
      },
      {
        "duration": 486,
        "start_time": "2022-02-07T07:45:59.003Z"
      },
      {
        "duration": 27,
        "start_time": "2022-02-07T07:45:59.492Z"
      },
      {
        "duration": 18,
        "start_time": "2022-02-07T07:45:59.521Z"
      },
      {
        "duration": 38,
        "start_time": "2022-02-07T07:45:59.541Z"
      },
      {
        "duration": 22,
        "start_time": "2022-02-07T07:45:59.581Z"
      },
      {
        "duration": 34,
        "start_time": "2022-02-07T07:45:59.605Z"
      },
      {
        "duration": 37,
        "start_time": "2022-02-07T07:45:59.642Z"
      },
      {
        "duration": 50,
        "start_time": "2022-02-07T07:45:59.682Z"
      },
      {
        "duration": 11,
        "start_time": "2022-02-07T07:45:59.735Z"
      },
      {
        "duration": 8,
        "start_time": "2022-02-07T07:45:59.749Z"
      },
      {
        "duration": 14,
        "start_time": "2022-02-07T07:45:59.760Z"
      },
      {
        "duration": 9,
        "start_time": "2022-02-07T07:45:59.776Z"
      },
      {
        "duration": 55,
        "start_time": "2022-02-07T07:45:59.787Z"
      },
      {
        "duration": 21,
        "start_time": "2022-02-07T07:45:59.845Z"
      },
      {
        "duration": 10,
        "start_time": "2022-02-07T07:45:59.869Z"
      },
      {
        "duration": 7,
        "start_time": "2022-02-07T07:45:59.882Z"
      },
      {
        "duration": 49,
        "start_time": "2022-02-07T07:45:59.892Z"
      },
      {
        "duration": 41,
        "start_time": "2022-02-07T07:45:59.944Z"
      },
      {
        "duration": 61,
        "start_time": "2022-02-07T07:45:59.987Z"
      },
      {
        "duration": 129,
        "start_time": "2022-02-07T07:46:00.050Z"
      },
      {
        "duration": 5,
        "start_time": "2022-02-07T07:46:00.182Z"
      },
      {
        "duration": 45,
        "start_time": "2022-02-07T07:46:00.193Z"
      },
      {
        "duration": 21,
        "start_time": "2022-02-07T07:46:00.242Z"
      },
      {
        "duration": 75,
        "start_time": "2022-02-07T07:46:00.265Z"
      },
      {
        "duration": 33,
        "start_time": "2022-02-07T07:46:00.343Z"
      },
      {
        "duration": 25,
        "start_time": "2022-02-07T07:46:00.378Z"
      },
      {
        "duration": 130,
        "start_time": "2022-02-07T07:46:00.405Z"
      },
      {
        "duration": 5,
        "start_time": "2022-02-07T07:46:00.537Z"
      },
      {
        "duration": 26,
        "start_time": "2022-02-07T07:46:00.544Z"
      },
      {
        "duration": 61,
        "start_time": "2022-02-07T07:46:00.572Z"
      },
      {
        "duration": 4,
        "start_time": "2022-02-07T07:46:00.635Z"
      },
      {
        "duration": 22,
        "start_time": "2022-02-07T07:46:00.641Z"
      },
      {
        "duration": 17,
        "start_time": "2022-02-07T07:46:00.666Z"
      },
      {
        "duration": 18,
        "start_time": "2022-02-07T07:46:00.686Z"
      },
      {
        "duration": 54,
        "start_time": "2022-02-07T07:46:00.706Z"
      },
      {
        "duration": 4,
        "start_time": "2022-02-07T07:46:00.762Z"
      },
      {
        "duration": 14,
        "start_time": "2022-02-07T07:46:00.769Z"
      },
      {
        "duration": 16,
        "start_time": "2022-02-07T07:46:00.785Z"
      },
      {
        "duration": 37,
        "start_time": "2022-02-07T07:46:00.804Z"
      },
      {
        "duration": 30,
        "start_time": "2022-02-07T07:46:00.844Z"
      },
      {
        "duration": 13,
        "start_time": "2022-02-07T07:46:00.877Z"
      },
      {
        "duration": 43,
        "start_time": "2022-02-07T07:46:00.893Z"
      },
      {
        "duration": 16,
        "start_time": "2022-02-07T07:46:00.939Z"
      },
      {
        "duration": 21,
        "start_time": "2022-02-07T07:46:00.958Z"
      },
      {
        "duration": 20,
        "start_time": "2022-02-07T07:46:00.981Z"
      },
      {
        "duration": 40,
        "start_time": "2022-02-07T07:46:01.004Z"
      },
      {
        "duration": 21,
        "start_time": "2022-02-07T07:46:01.047Z"
      },
      {
        "duration": 16,
        "start_time": "2022-02-07T07:46:01.071Z"
      },
      {
        "duration": 48,
        "start_time": "2022-02-07T07:46:01.089Z"
      },
      {
        "duration": 27,
        "start_time": "2022-02-07T07:46:01.139Z"
      },
      {
        "duration": 11,
        "start_time": "2022-02-07T07:46:01.169Z"
      },
      {
        "duration": 25,
        "start_time": "2022-02-07T07:46:01.182Z"
      },
      {
        "duration": 34,
        "start_time": "2022-02-07T07:46:01.210Z"
      },
      {
        "duration": 8,
        "start_time": "2022-02-07T07:46:01.247Z"
      },
      {
        "duration": 12,
        "start_time": "2022-02-07T07:46:01.258Z"
      },
      {
        "duration": 24,
        "start_time": "2022-02-07T07:46:01.272Z"
      },
      {
        "duration": 51,
        "start_time": "2022-02-07T07:46:01.299Z"
      },
      {
        "duration": 25,
        "start_time": "2022-02-07T07:46:01.352Z"
      },
      {
        "duration": 55,
        "start_time": "2022-02-07T07:46:01.379Z"
      },
      {
        "duration": 34,
        "start_time": "2022-02-07T07:46:01.436Z"
      },
      {
        "duration": 24,
        "start_time": "2022-02-07T07:46:01.473Z"
      },
      {
        "duration": 50,
        "start_time": "2022-02-07T07:46:01.499Z"
      },
      {
        "duration": 8,
        "start_time": "2022-02-07T07:46:01.552Z"
      },
      {
        "duration": 17,
        "start_time": "2022-02-07T07:46:01.563Z"
      },
      {
        "duration": 22,
        "start_time": "2022-02-07T07:46:01.582Z"
      },
      {
        "duration": 29,
        "start_time": "2022-02-07T07:46:01.606Z"
      },
      {
        "duration": 25,
        "start_time": "2022-02-07T07:46:01.642Z"
      },
      {
        "duration": 17,
        "start_time": "2022-02-07T07:46:01.670Z"
      },
      {
        "duration": 19,
        "start_time": "2022-02-07T07:46:01.690Z"
      },
      {
        "duration": 27,
        "start_time": "2022-02-07T07:46:01.711Z"
      },
      {
        "duration": 30,
        "start_time": "2022-02-07T07:46:01.741Z"
      },
      {
        "duration": 26,
        "start_time": "2022-02-07T07:46:01.773Z"
      },
      {
        "duration": 33,
        "start_time": "2022-02-07T07:46:01.802Z"
      },
      {
        "duration": 16,
        "start_time": "2022-02-07T07:46:01.837Z"
      },
      {
        "duration": 938,
        "start_time": "2022-02-07T07:46:01.856Z"
      },
      {
        "duration": 871,
        "start_time": "2022-02-07T07:46:02.797Z"
      },
      {
        "duration": 921,
        "start_time": "2022-02-07T07:46:03.671Z"
      },
      {
        "duration": 9,
        "start_time": "2022-02-07T07:46:04.594Z"
      },
      {
        "duration": 29,
        "start_time": "2022-02-07T07:46:04.606Z"
      },
      {
        "duration": 9,
        "start_time": "2022-02-07T07:46:04.637Z"
      },
      {
        "duration": 11,
        "start_time": "2022-02-07T07:46:04.648Z"
      },
      {
        "duration": 8,
        "start_time": "2022-02-07T07:46:04.662Z"
      },
      {
        "duration": 8,
        "start_time": "2022-02-07T07:46:04.673Z"
      },
      {
        "duration": 7,
        "start_time": "2022-02-07T07:47:56.676Z"
      },
      {
        "duration": 8,
        "start_time": "2022-02-07T07:48:08.276Z"
      },
      {
        "duration": 9,
        "start_time": "2022-02-07T07:49:20.508Z"
      },
      {
        "duration": 4,
        "start_time": "2022-02-07T08:04:42.970Z"
      },
      {
        "duration": 247,
        "start_time": "2022-02-07T08:58:11.722Z"
      },
      {
        "duration": 193,
        "start_time": "2022-02-07T08:58:59.762Z"
      },
      {
        "duration": 169,
        "start_time": "2022-02-07T08:59:26.106Z"
      },
      {
        "duration": 11,
        "start_time": "2022-02-07T09:07:19.282Z"
      },
      {
        "duration": 10,
        "start_time": "2022-02-07T09:07:29.832Z"
      },
      {
        "duration": 7371,
        "start_time": "2022-02-07T09:12:12.171Z"
      },
      {
        "duration": 255,
        "start_time": "2022-02-07T09:12:19.291Z"
      },
      {
        "duration": 250,
        "start_time": "2022-02-07T09:12:19.298Z"
      },
      {
        "duration": 296,
        "start_time": "2022-02-07T09:12:26.367Z"
      },
      {
        "duration": 279,
        "start_time": "2022-02-07T09:12:26.385Z"
      },
      {
        "duration": 272,
        "start_time": "2022-02-07T09:12:26.394Z"
      },
      {
        "duration": 266,
        "start_time": "2022-02-07T09:12:26.401Z"
      },
      {
        "duration": 260,
        "start_time": "2022-02-07T09:12:26.408Z"
      },
      {
        "duration": 257,
        "start_time": "2022-02-07T09:12:26.413Z"
      },
      {
        "duration": 252,
        "start_time": "2022-02-07T09:12:26.419Z"
      },
      {
        "duration": 237,
        "start_time": "2022-02-07T09:12:26.435Z"
      },
      {
        "duration": 232,
        "start_time": "2022-02-07T09:12:26.442Z"
      },
      {
        "duration": 227,
        "start_time": "2022-02-07T09:12:26.448Z"
      },
      {
        "duration": 222,
        "start_time": "2022-02-07T09:12:26.454Z"
      },
      {
        "duration": 216,
        "start_time": "2022-02-07T09:12:26.461Z"
      },
      {
        "duration": 212,
        "start_time": "2022-02-07T09:12:26.467Z"
      },
      {
        "duration": 208,
        "start_time": "2022-02-07T09:12:26.472Z"
      },
      {
        "duration": 196,
        "start_time": "2022-02-07T09:12:26.486Z"
      },
      {
        "duration": 191,
        "start_time": "2022-02-07T09:12:26.492Z"
      },
      {
        "duration": 186,
        "start_time": "2022-02-07T09:12:26.498Z"
      },
      {
        "duration": 182,
        "start_time": "2022-02-07T09:12:26.503Z"
      },
      {
        "duration": 177,
        "start_time": "2022-02-07T09:12:26.509Z"
      },
      {
        "duration": 173,
        "start_time": "2022-02-07T09:12:26.515Z"
      },
      {
        "duration": 167,
        "start_time": "2022-02-07T09:12:26.522Z"
      },
      {
        "duration": 164,
        "start_time": "2022-02-07T09:12:26.527Z"
      },
      {
        "duration": 157,
        "start_time": "2022-02-07T09:12:26.535Z"
      },
      {
        "duration": 152,
        "start_time": "2022-02-07T09:12:26.541Z"
      },
      {
        "duration": 145,
        "start_time": "2022-02-07T09:12:26.549Z"
      },
      {
        "duration": 140,
        "start_time": "2022-02-07T09:12:26.555Z"
      },
      {
        "duration": 135,
        "start_time": "2022-02-07T09:12:26.561Z"
      },
      {
        "duration": 131,
        "start_time": "2022-02-07T09:12:26.567Z"
      },
      {
        "duration": 124,
        "start_time": "2022-02-07T09:12:26.575Z"
      },
      {
        "duration": 152,
        "start_time": "2022-02-07T09:12:26.580Z"
      },
      {
        "duration": 137,
        "start_time": "2022-02-07T09:12:26.597Z"
      },
      {
        "duration": 67,
        "start_time": "2022-02-07T09:12:26.669Z"
      },
      {
        "duration": -264,
        "start_time": "2022-02-07T09:12:27.001Z"
      },
      {
        "duration": -267,
        "start_time": "2022-02-07T09:12:27.006Z"
      },
      {
        "duration": -272,
        "start_time": "2022-02-07T09:12:27.012Z"
      },
      {
        "duration": -275,
        "start_time": "2022-02-07T09:12:27.017Z"
      },
      {
        "duration": -278,
        "start_time": "2022-02-07T09:12:27.022Z"
      },
      {
        "duration": -282,
        "start_time": "2022-02-07T09:12:27.027Z"
      },
      {
        "duration": -331,
        "start_time": "2022-02-07T09:12:27.078Z"
      },
      {
        "duration": -372,
        "start_time": "2022-02-07T09:12:27.120Z"
      },
      {
        "duration": -375,
        "start_time": "2022-02-07T09:12:27.125Z"
      },
      {
        "duration": -380,
        "start_time": "2022-02-07T09:12:27.131Z"
      },
      {
        "duration": -383,
        "start_time": "2022-02-07T09:12:27.136Z"
      },
      {
        "duration": -421,
        "start_time": "2022-02-07T09:12:27.175Z"
      },
      {
        "duration": -433,
        "start_time": "2022-02-07T09:12:27.189Z"
      },
      {
        "duration": -469,
        "start_time": "2022-02-07T09:12:27.226Z"
      },
      {
        "duration": -473,
        "start_time": "2022-02-07T09:12:27.232Z"
      },
      {
        "duration": -952,
        "start_time": "2022-02-07T09:12:27.712Z"
      },
      {
        "duration": -983,
        "start_time": "2022-02-07T09:12:27.745Z"
      },
      {
        "duration": -990,
        "start_time": "2022-02-07T09:12:27.753Z"
      },
      {
        "duration": -1006,
        "start_time": "2022-02-07T09:12:27.770Z"
      },
      {
        "duration": -1022,
        "start_time": "2022-02-07T09:12:27.788Z"
      },
      {
        "duration": -1050,
        "start_time": "2022-02-07T09:12:27.817Z"
      },
      {
        "duration": -1068,
        "start_time": "2022-02-07T09:12:27.837Z"
      },
      {
        "duration": -1011,
        "start_time": "2022-02-07T09:12:27.843Z"
      },
      {
        "duration": -1046,
        "start_time": "2022-02-07T09:12:27.880Z"
      },
      {
        "duration": -1068,
        "start_time": "2022-02-07T09:12:27.903Z"
      },
      {
        "duration": -1092,
        "start_time": "2022-02-07T09:12:27.929Z"
      },
      {
        "duration": -1110,
        "start_time": "2022-02-07T09:12:27.948Z"
      },
      {
        "duration": -1126,
        "start_time": "2022-02-07T09:12:27.966Z"
      },
      {
        "duration": -1142,
        "start_time": "2022-02-07T09:12:27.984Z"
      },
      {
        "duration": -1158,
        "start_time": "2022-02-07T09:12:28.002Z"
      },
      {
        "duration": -1184,
        "start_time": "2022-02-07T09:12:28.029Z"
      },
      {
        "duration": -1201,
        "start_time": "2022-02-07T09:12:28.049Z"
      },
      {
        "duration": -1218,
        "start_time": "2022-02-07T09:12:28.068Z"
      },
      {
        "duration": -1222,
        "start_time": "2022-02-07T09:12:28.073Z"
      },
      {
        "duration": -1226,
        "start_time": "2022-02-07T09:12:28.079Z"
      },
      {
        "duration": -1231,
        "start_time": "2022-02-07T09:12:28.086Z"
      },
      {
        "duration": -1236,
        "start_time": "2022-02-07T09:12:28.093Z"
      },
      {
        "duration": -1332,
        "start_time": "2022-02-07T09:12:28.193Z"
      },
      {
        "duration": -1337,
        "start_time": "2022-02-07T09:12:28.200Z"
      },
      {
        "duration": -1340,
        "start_time": "2022-02-07T09:12:28.205Z"
      },
      {
        "duration": -1368,
        "start_time": "2022-02-07T09:12:28.235Z"
      },
      {
        "duration": -1385,
        "start_time": "2022-02-07T09:12:28.254Z"
      },
      {
        "duration": -1416,
        "start_time": "2022-02-07T09:12:28.286Z"
      },
      {
        "duration": -1432,
        "start_time": "2022-02-07T09:12:28.304Z"
      },
      {
        "duration": -1452,
        "start_time": "2022-02-07T09:12:28.326Z"
      },
      {
        "duration": -1402,
        "start_time": "2022-02-07T09:12:28.334Z"
      },
      {
        "duration": -1418,
        "start_time": "2022-02-07T09:12:28.352Z"
      },
      {
        "duration": -1434,
        "start_time": "2022-02-07T09:12:28.370Z"
      },
      {
        "duration": -1452,
        "start_time": "2022-02-07T09:12:28.389Z"
      },
      {
        "duration": -1455,
        "start_time": "2022-02-07T09:12:28.394Z"
      },
      {
        "duration": -1461,
        "start_time": "2022-02-07T09:12:28.401Z"
      },
      {
        "duration": -1464,
        "start_time": "2022-02-07T09:12:28.406Z"
      },
      {
        "duration": -1468,
        "start_time": "2022-02-07T09:12:28.412Z"
      },
      {
        "duration": -1473,
        "start_time": "2022-02-07T09:12:28.418Z"
      },
      {
        "duration": 5,
        "start_time": "2022-02-07T09:12:50.339Z"
      },
      {
        "duration": 570,
        "start_time": "2022-02-07T09:12:50.346Z"
      },
      {
        "duration": 26,
        "start_time": "2022-02-07T09:12:50.919Z"
      },
      {
        "duration": 11,
        "start_time": "2022-02-07T09:12:50.948Z"
      },
      {
        "duration": 39,
        "start_time": "2022-02-07T09:12:50.961Z"
      },
      {
        "duration": 53,
        "start_time": "2022-02-07T09:12:51.002Z"
      },
      {
        "duration": 13,
        "start_time": "2022-02-07T09:12:51.060Z"
      },
      {
        "duration": 66,
        "start_time": "2022-02-07T09:12:51.076Z"
      },
      {
        "duration": 19,
        "start_time": "2022-02-07T09:12:51.144Z"
      },
      {
        "duration": 12,
        "start_time": "2022-02-07T09:12:51.165Z"
      },
      {
        "duration": 9,
        "start_time": "2022-02-07T09:12:51.179Z"
      },
      {
        "duration": 49,
        "start_time": "2022-02-07T09:12:51.191Z"
      },
      {
        "duration": 12,
        "start_time": "2022-02-07T09:12:51.243Z"
      },
      {
        "duration": 20,
        "start_time": "2022-02-07T09:12:51.258Z"
      },
      {
        "duration": 51,
        "start_time": "2022-02-07T09:12:51.281Z"
      },
      {
        "duration": 198,
        "start_time": "2022-02-07T09:12:51.334Z"
      },
      {
        "duration": 9,
        "start_time": "2022-02-07T09:12:51.534Z"
      },
      {
        "duration": 7,
        "start_time": "2022-02-07T09:12:51.546Z"
      },
      {
        "duration": 10,
        "start_time": "2022-02-07T09:12:51.558Z"
      },
      {
        "duration": 74,
        "start_time": "2022-02-07T09:12:51.572Z"
      },
      {
        "duration": 34,
        "start_time": "2022-02-07T09:12:51.648Z"
      },
      {
        "duration": 146,
        "start_time": "2022-02-07T09:12:51.685Z"
      },
      {
        "duration": 7,
        "start_time": "2022-02-07T09:12:51.833Z"
      },
      {
        "duration": 26,
        "start_time": "2022-02-07T09:12:51.842Z"
      },
      {
        "duration": 20,
        "start_time": "2022-02-07T09:12:51.870Z"
      },
      {
        "duration": 90,
        "start_time": "2022-02-07T09:12:51.892Z"
      },
      {
        "duration": 53,
        "start_time": "2022-02-07T09:12:51.985Z"
      },
      {
        "duration": 25,
        "start_time": "2022-02-07T09:12:52.041Z"
      },
      {
        "duration": 113,
        "start_time": "2022-02-07T09:12:52.068Z"
      },
      {
        "duration": 3,
        "start_time": "2022-02-07T09:12:52.183Z"
      },
      {
        "duration": 21,
        "start_time": "2022-02-07T09:12:52.188Z"
      },
      {
        "duration": 62,
        "start_time": "2022-02-07T09:12:52.212Z"
      },
      {
        "duration": 4,
        "start_time": "2022-02-07T09:12:52.276Z"
      },
      {
        "duration": 14,
        "start_time": "2022-02-07T09:12:52.282Z"
      },
      {
        "duration": 19,
        "start_time": "2022-02-07T09:12:52.298Z"
      },
      {
        "duration": 11,
        "start_time": "2022-02-07T09:12:52.333Z"
      },
      {
        "duration": 35,
        "start_time": "2022-02-07T09:12:52.346Z"
      },
      {
        "duration": 4,
        "start_time": "2022-02-07T09:12:52.383Z"
      },
      {
        "duration": 45,
        "start_time": "2022-02-07T09:12:52.389Z"
      },
      {
        "duration": 10,
        "start_time": "2022-02-07T09:12:52.437Z"
      },
      {
        "duration": 14,
        "start_time": "2022-02-07T09:12:52.450Z"
      },
      {
        "duration": 34,
        "start_time": "2022-02-07T09:12:52.467Z"
      },
      {
        "duration": 5942,
        "start_time": "2022-02-07T09:12:52.503Z"
      },
      {
        "duration": 209,
        "start_time": "2022-02-07T09:12:58.240Z"
      },
      {
        "duration": 197,
        "start_time": "2022-02-07T09:12:58.253Z"
      },
      {
        "duration": 166,
        "start_time": "2022-02-07T09:12:58.286Z"
      },
      {
        "duration": 157,
        "start_time": "2022-02-07T09:12:58.296Z"
      },
      {
        "duration": 152,
        "start_time": "2022-02-07T09:12:58.303Z"
      },
      {
        "duration": 146,
        "start_time": "2022-02-07T09:12:58.310Z"
      },
      {
        "duration": 142,
        "start_time": "2022-02-07T09:12:58.315Z"
      },
      {
        "duration": 124,
        "start_time": "2022-02-07T09:12:58.335Z"
      },
      {
        "duration": 113,
        "start_time": "2022-02-07T09:12:58.347Z"
      },
      {
        "duration": 104,
        "start_time": "2022-02-07T09:12:58.357Z"
      },
      {
        "duration": 96,
        "start_time": "2022-02-07T09:12:58.367Z"
      },
      {
        "duration": 89,
        "start_time": "2022-02-07T09:12:58.375Z"
      },
      {
        "duration": 82,
        "start_time": "2022-02-07T09:12:58.383Z"
      },
      {
        "duration": 74,
        "start_time": "2022-02-07T09:12:58.393Z"
      },
      {
        "duration": 62,
        "start_time": "2022-02-07T09:12:58.406Z"
      },
      {
        "duration": 52,
        "start_time": "2022-02-07T09:12:58.417Z"
      },
      {
        "duration": 44,
        "start_time": "2022-02-07T09:12:58.427Z"
      },
      {
        "duration": 28,
        "start_time": "2022-02-07T09:12:58.444Z"
      },
      {
        "duration": 23,
        "start_time": "2022-02-07T09:12:58.450Z"
      },
      {
        "duration": 19,
        "start_time": "2022-02-07T09:12:58.456Z"
      },
      {
        "duration": 13,
        "start_time": "2022-02-07T09:12:58.463Z"
      },
      {
        "duration": 7,
        "start_time": "2022-02-07T09:12:58.470Z"
      },
      {
        "duration": 0,
        "start_time": "2022-02-07T09:12:58.478Z"
      },
      {
        "duration": -3,
        "start_time": "2022-02-07T09:12:58.483Z"
      },
      {
        "duration": -13,
        "start_time": "2022-02-07T09:12:58.494Z"
      },
      {
        "duration": -17,
        "start_time": "2022-02-07T09:12:58.499Z"
      },
      {
        "duration": -25,
        "start_time": "2022-02-07T09:12:58.508Z"
      },
      {
        "duration": 19,
        "start_time": "2022-02-07T09:12:58.513Z"
      },
      {
        "duration": 13,
        "start_time": "2022-02-07T09:12:58.520Z"
      },
      {
        "duration": 8,
        "start_time": "2022-02-07T09:12:58.527Z"
      },
      {
        "duration": 4,
        "start_time": "2022-02-07T09:12:58.533Z"
      },
      {
        "duration": -2,
        "start_time": "2022-02-07T09:12:58.540Z"
      },
      {
        "duration": -16,
        "start_time": "2022-02-07T09:12:58.555Z"
      },
      {
        "duration": -20,
        "start_time": "2022-02-07T09:12:58.560Z"
      },
      {
        "duration": -24,
        "start_time": "2022-02-07T09:12:58.566Z"
      },
      {
        "duration": -29,
        "start_time": "2022-02-07T09:12:58.573Z"
      },
      {
        "duration": -34,
        "start_time": "2022-02-07T09:12:58.579Z"
      },
      {
        "duration": -39,
        "start_time": "2022-02-07T09:12:58.585Z"
      },
      {
        "duration": -44,
        "start_time": "2022-02-07T09:12:58.592Z"
      },
      {
        "duration": -48,
        "start_time": "2022-02-07T09:12:58.597Z"
      },
      {
        "duration": -54,
        "start_time": "2022-02-07T09:12:58.604Z"
      },
      {
        "duration": -57,
        "start_time": "2022-02-07T09:12:58.609Z"
      },
      {
        "duration": -62,
        "start_time": "2022-02-07T09:12:58.615Z"
      },
      {
        "duration": 23,
        "start_time": "2022-02-07T09:13:43.927Z"
      },
      {
        "duration": 6,
        "start_time": "2022-02-07T09:13:44.923Z"
      },
      {
        "duration": 13,
        "start_time": "2022-02-07T09:13:47.219Z"
      },
      {
        "duration": 6892,
        "start_time": "2022-02-07T09:16:16.818Z"
      },
      {
        "duration": 36,
        "start_time": "2022-02-07T09:16:52.879Z"
      },
      {
        "duration": 6126,
        "start_time": "2022-02-07T09:16:59.002Z"
      },
      {
        "duration": 255,
        "start_time": "2022-02-07T09:17:39.486Z"
      },
      {
        "duration": 289,
        "start_time": "2022-02-07T09:17:50.582Z"
      },
      {
        "duration": 11,
        "start_time": "2022-02-07T09:22:51.477Z"
      },
      {
        "duration": 101,
        "start_time": "2022-02-07T09:35:36.080Z"
      },
      {
        "duration": 5,
        "start_time": "2022-02-07T09:39:44.935Z"
      },
      {
        "duration": 6,
        "start_time": "2022-02-07T09:39:47.251Z"
      },
      {
        "duration": 11,
        "start_time": "2022-02-07T09:39:48.491Z"
      },
      {
        "duration": 5,
        "start_time": "2022-02-07T09:42:17.236Z"
      },
      {
        "duration": 6,
        "start_time": "2022-02-07T09:42:17.747Z"
      },
      {
        "duration": 11,
        "start_time": "2022-02-07T09:42:18.535Z"
      },
      {
        "duration": 4,
        "start_time": "2022-02-07T09:42:23.903Z"
      },
      {
        "duration": 521,
        "start_time": "2022-02-07T09:42:23.910Z"
      },
      {
        "duration": 28,
        "start_time": "2022-02-07T09:42:24.433Z"
      },
      {
        "duration": 14,
        "start_time": "2022-02-07T09:42:24.464Z"
      },
      {
        "duration": 54,
        "start_time": "2022-02-07T09:42:24.480Z"
      },
      {
        "duration": 22,
        "start_time": "2022-02-07T09:42:24.536Z"
      },
      {
        "duration": 15,
        "start_time": "2022-02-07T09:42:24.562Z"
      },
      {
        "duration": 68,
        "start_time": "2022-02-07T09:42:24.580Z"
      },
      {
        "duration": 17,
        "start_time": "2022-02-07T09:42:24.651Z"
      },
      {
        "duration": 11,
        "start_time": "2022-02-07T09:42:24.671Z"
      },
      {
        "duration": 10,
        "start_time": "2022-02-07T09:42:24.684Z"
      },
      {
        "duration": 45,
        "start_time": "2022-02-07T09:42:24.696Z"
      },
      {
        "duration": 9,
        "start_time": "2022-02-07T09:42:24.744Z"
      },
      {
        "duration": 18,
        "start_time": "2022-02-07T09:42:24.756Z"
      },
      {
        "duration": 19,
        "start_time": "2022-02-07T09:42:24.776Z"
      },
      {
        "duration": 178,
        "start_time": "2022-02-07T09:42:24.833Z"
      },
      {
        "duration": 21,
        "start_time": "2022-02-07T09:42:25.013Z"
      },
      {
        "duration": 12,
        "start_time": "2022-02-07T09:42:25.036Z"
      },
      {
        "duration": 14,
        "start_time": "2022-02-07T09:42:25.053Z"
      },
      {
        "duration": 45,
        "start_time": "2022-02-07T09:42:25.071Z"
      },
      {
        "duration": 39,
        "start_time": "2022-02-07T09:42:25.118Z"
      },
      {
        "duration": 116,
        "start_time": "2022-02-07T09:42:25.159Z"
      },
      {
        "duration": 5,
        "start_time": "2022-02-07T09:42:25.278Z"
      },
      {
        "duration": 46,
        "start_time": "2022-02-07T09:42:25.286Z"
      },
      {
        "duration": 20,
        "start_time": "2022-02-07T09:42:25.335Z"
      },
      {
        "duration": 48,
        "start_time": "2022-02-07T09:42:25.358Z"
      },
      {
        "duration": 50,
        "start_time": "2022-02-07T09:42:25.408Z"
      },
      {
        "duration": 23,
        "start_time": "2022-02-07T09:42:25.461Z"
      },
      {
        "duration": 108,
        "start_time": "2022-02-07T09:42:25.487Z"
      },
      {
        "duration": 3,
        "start_time": "2022-02-07T09:42:25.598Z"
      },
      {
        "duration": 34,
        "start_time": "2022-02-07T09:42:25.604Z"
      },
      {
        "duration": 45,
        "start_time": "2022-02-07T09:42:25.641Z"
      },
      {
        "duration": 4,
        "start_time": "2022-02-07T09:42:25.688Z"
      },
      {
        "duration": 39,
        "start_time": "2022-02-07T09:42:25.694Z"
      },
      {
        "duration": 9,
        "start_time": "2022-02-07T09:42:25.735Z"
      },
      {
        "duration": 10,
        "start_time": "2022-02-07T09:42:25.747Z"
      },
      {
        "duration": 34,
        "start_time": "2022-02-07T09:42:25.759Z"
      },
      {
        "duration": 3,
        "start_time": "2022-02-07T09:42:25.795Z"
      },
      {
        "duration": 10,
        "start_time": "2022-02-07T09:42:25.832Z"
      },
      {
        "duration": 9,
        "start_time": "2022-02-07T09:42:25.844Z"
      },
      {
        "duration": 12,
        "start_time": "2022-02-07T09:42:25.856Z"
      },
      {
        "duration": 26,
        "start_time": "2022-02-07T09:42:25.870Z"
      },
      {
        "duration": 4,
        "start_time": "2022-02-07T09:42:25.932Z"
      },
      {
        "duration": 10,
        "start_time": "2022-02-07T09:42:25.938Z"
      },
      {
        "duration": 12,
        "start_time": "2022-02-07T09:42:25.950Z"
      },
      {
        "duration": 9,
        "start_time": "2022-02-07T09:42:25.964Z"
      },
      {
        "duration": 9,
        "start_time": "2022-02-07T09:42:25.975Z"
      },
      {
        "duration": 49,
        "start_time": "2022-02-07T09:42:25.987Z"
      },
      {
        "duration": 16,
        "start_time": "2022-02-07T09:42:26.039Z"
      },
      {
        "duration": 12,
        "start_time": "2022-02-07T09:42:26.058Z"
      },
      {
        "duration": 17,
        "start_time": "2022-02-07T09:42:26.072Z"
      },
      {
        "duration": 41,
        "start_time": "2022-02-07T09:42:26.091Z"
      },
      {
        "duration": 17,
        "start_time": "2022-02-07T09:42:26.134Z"
      },
      {
        "duration": 14,
        "start_time": "2022-02-07T09:42:26.158Z"
      },
      {
        "duration": 21,
        "start_time": "2022-02-07T09:42:26.180Z"
      },
      {
        "duration": 42,
        "start_time": "2022-02-07T09:42:26.204Z"
      },
      {
        "duration": 14,
        "start_time": "2022-02-07T09:42:26.249Z"
      },
      {
        "duration": 7,
        "start_time": "2022-02-07T09:42:26.266Z"
      },
      {
        "duration": 10,
        "start_time": "2022-02-07T09:42:26.276Z"
      },
      {
        "duration": 51,
        "start_time": "2022-02-07T09:42:26.289Z"
      },
      {
        "duration": 25,
        "start_time": "2022-02-07T09:42:26.342Z"
      },
      {
        "duration": 23,
        "start_time": "2022-02-07T09:42:26.370Z"
      },
      {
        "duration": 47,
        "start_time": "2022-02-07T09:42:26.395Z"
      },
      {
        "duration": 40,
        "start_time": "2022-02-07T09:42:26.444Z"
      },
      {
        "duration": 22,
        "start_time": "2022-02-07T09:42:26.487Z"
      },
      {
        "duration": 36,
        "start_time": "2022-02-07T09:42:26.511Z"
      },
      {
        "duration": 12,
        "start_time": "2022-02-07T09:42:26.550Z"
      },
      {
        "duration": 11,
        "start_time": "2022-02-07T09:42:26.564Z"
      },
      {
        "duration": 18,
        "start_time": "2022-02-07T09:42:26.577Z"
      },
      {
        "duration": 13,
        "start_time": "2022-02-07T09:42:26.632Z"
      },
      {
        "duration": 18,
        "start_time": "2022-02-07T09:42:26.647Z"
      },
      {
        "duration": 13,
        "start_time": "2022-02-07T09:42:26.667Z"
      },
      {
        "duration": 10,
        "start_time": "2022-02-07T09:42:26.682Z"
      },
      {
        "duration": 44,
        "start_time": "2022-02-07T09:42:26.695Z"
      },
      {
        "duration": 36,
        "start_time": "2022-02-07T09:42:26.742Z"
      },
      {
        "duration": 27,
        "start_time": "2022-02-07T09:42:26.781Z"
      },
      {
        "duration": 24,
        "start_time": "2022-02-07T09:42:26.810Z"
      },
      {
        "duration": 15,
        "start_time": "2022-02-07T09:42:26.837Z"
      },
      {
        "duration": 956,
        "start_time": "2022-02-07T09:42:26.854Z"
      },
      {
        "duration": 878,
        "start_time": "2022-02-07T09:42:27.813Z"
      },
      {
        "duration": 945,
        "start_time": "2022-02-07T09:42:28.694Z"
      },
      {
        "duration": 8,
        "start_time": "2022-02-07T09:42:29.641Z"
      },
      {
        "duration": 8,
        "start_time": "2022-02-07T09:42:29.651Z"
      },
      {
        "duration": 10,
        "start_time": "2022-02-07T09:42:29.661Z"
      },
      {
        "duration": 10,
        "start_time": "2022-02-07T09:42:29.674Z"
      },
      {
        "duration": 47,
        "start_time": "2022-02-07T09:42:29.687Z"
      },
      {
        "duration": 8,
        "start_time": "2022-02-07T09:42:29.736Z"
      },
      {
        "duration": 5949,
        "start_time": "2022-02-07T09:44:36.507Z"
      },
      {
        "duration": 260,
        "start_time": "2022-02-07T09:45:17.933Z"
      },
      {
        "duration": 256,
        "start_time": "2022-02-07T09:45:17.939Z"
      },
      {
        "duration": 251,
        "start_time": "2022-02-07T09:45:17.946Z"
      },
      {
        "duration": 246,
        "start_time": "2022-02-07T09:45:17.952Z"
      },
      {
        "duration": 240,
        "start_time": "2022-02-07T09:45:17.959Z"
      },
      {
        "duration": 236,
        "start_time": "2022-02-07T09:45:17.965Z"
      },
      {
        "duration": 225,
        "start_time": "2022-02-07T09:45:17.977Z"
      },
      {
        "duration": 221,
        "start_time": "2022-02-07T09:45:17.982Z"
      },
      {
        "duration": 218,
        "start_time": "2022-02-07T09:45:17.987Z"
      },
      {
        "duration": 213,
        "start_time": "2022-02-07T09:45:17.993Z"
      },
      {
        "duration": 209,
        "start_time": "2022-02-07T09:45:17.998Z"
      },
      {
        "duration": 206,
        "start_time": "2022-02-07T09:45:18.003Z"
      },
      {
        "duration": 202,
        "start_time": "2022-02-07T09:45:18.008Z"
      },
      {
        "duration": 198,
        "start_time": "2022-02-07T09:45:18.013Z"
      },
      {
        "duration": 195,
        "start_time": "2022-02-07T09:45:18.018Z"
      },
      {
        "duration": 188,
        "start_time": "2022-02-07T09:45:18.026Z"
      },
      {
        "duration": 184,
        "start_time": "2022-02-07T09:45:18.031Z"
      },
      {
        "duration": 180,
        "start_time": "2022-02-07T09:45:18.037Z"
      },
      {
        "duration": 175,
        "start_time": "2022-02-07T09:45:18.043Z"
      },
      {
        "duration": 170,
        "start_time": "2022-02-07T09:45:18.049Z"
      },
      {
        "duration": 166,
        "start_time": "2022-02-07T09:45:18.055Z"
      },
      {
        "duration": 161,
        "start_time": "2022-02-07T09:45:18.061Z"
      },
      {
        "duration": 158,
        "start_time": "2022-02-07T09:45:18.066Z"
      },
      {
        "duration": 153,
        "start_time": "2022-02-07T09:45:18.072Z"
      },
      {
        "duration": 141,
        "start_time": "2022-02-07T09:45:18.086Z"
      },
      {
        "duration": 139,
        "start_time": "2022-02-07T09:45:18.093Z"
      },
      {
        "duration": 136,
        "start_time": "2022-02-07T09:45:18.097Z"
      },
      {
        "duration": 133,
        "start_time": "2022-02-07T09:45:18.102Z"
      },
      {
        "duration": 128,
        "start_time": "2022-02-07T09:45:18.108Z"
      },
      {
        "duration": 125,
        "start_time": "2022-02-07T09:45:18.113Z"
      },
      {
        "duration": 121,
        "start_time": "2022-02-07T09:45:18.118Z"
      },
      {
        "duration": 116,
        "start_time": "2022-02-07T09:45:18.124Z"
      },
      {
        "duration": 112,
        "start_time": "2022-02-07T09:45:18.130Z"
      },
      {
        "duration": 106,
        "start_time": "2022-02-07T09:45:18.137Z"
      },
      {
        "duration": 102,
        "start_time": "2022-02-07T09:45:18.142Z"
      },
      {
        "duration": 97,
        "start_time": "2022-02-07T09:45:18.149Z"
      },
      {
        "duration": 92,
        "start_time": "2022-02-07T09:45:18.155Z"
      },
      {
        "duration": 87,
        "start_time": "2022-02-07T09:45:18.161Z"
      },
      {
        "duration": 22,
        "start_time": "2022-02-07T09:45:18.227Z"
      },
      {
        "duration": 18,
        "start_time": "2022-02-07T09:45:18.233Z"
      },
      {
        "duration": 14,
        "start_time": "2022-02-07T09:45:18.238Z"
      },
      {
        "duration": 8,
        "start_time": "2022-02-07T09:45:18.245Z"
      },
      {
        "duration": 3,
        "start_time": "2022-02-07T09:45:18.251Z"
      },
      {
        "duration": -2,
        "start_time": "2022-02-07T09:45:18.258Z"
      },
      {
        "duration": -47,
        "start_time": "2022-02-07T09:45:18.304Z"
      },
      {
        "duration": -51,
        "start_time": "2022-02-07T09:45:18.310Z"
      },
      {
        "duration": -95,
        "start_time": "2022-02-07T09:45:18.355Z"
      },
      {
        "duration": -100,
        "start_time": "2022-02-07T09:45:18.361Z"
      },
      {
        "duration": -131,
        "start_time": "2022-02-07T09:45:18.394Z"
      },
      {
        "duration": -135,
        "start_time": "2022-02-07T09:45:18.399Z"
      },
      {
        "duration": -166,
        "start_time": "2022-02-07T09:45:18.431Z"
      },
      {
        "duration": -170,
        "start_time": "2022-02-07T09:45:18.436Z"
      },
      {
        "duration": -172,
        "start_time": "2022-02-07T09:45:18.440Z"
      },
      {
        "duration": -209,
        "start_time": "2022-02-07T09:45:18.478Z"
      },
      {
        "duration": -284,
        "start_time": "2022-02-07T09:45:18.554Z"
      },
      {
        "duration": -442,
        "start_time": "2022-02-07T09:45:18.714Z"
      },
      {
        "duration": -388,
        "start_time": "2022-02-07T09:45:18.720Z"
      },
      {
        "duration": -416,
        "start_time": "2022-02-07T09:45:18.749Z"
      },
      {
        "duration": -423,
        "start_time": "2022-02-07T09:45:18.758Z"
      },
      {
        "duration": -447,
        "start_time": "2022-02-07T09:45:18.783Z"
      },
      {
        "duration": -532,
        "start_time": "2022-02-07T09:45:18.869Z"
      },
      {
        "duration": -536,
        "start_time": "2022-02-07T09:45:18.875Z"
      },
      {
        "duration": -540,
        "start_time": "2022-02-07T09:45:18.880Z"
      },
      {
        "duration": -565,
        "start_time": "2022-02-07T09:45:18.907Z"
      },
      {
        "duration": -570,
        "start_time": "2022-02-07T09:45:18.913Z"
      },
      {
        "duration": -574,
        "start_time": "2022-02-07T09:45:18.918Z"
      },
      {
        "duration": -595,
        "start_time": "2022-02-07T09:45:18.941Z"
      },
      {
        "duration": -599,
        "start_time": "2022-02-07T09:45:18.946Z"
      },
      {
        "duration": -627,
        "start_time": "2022-02-07T09:45:18.975Z"
      },
      {
        "duration": -631,
        "start_time": "2022-02-07T09:45:18.981Z"
      },
      {
        "duration": -634,
        "start_time": "2022-02-07T09:45:18.985Z"
      },
      {
        "duration": -653,
        "start_time": "2022-02-07T09:45:19.005Z"
      },
      {
        "duration": -656,
        "start_time": "2022-02-07T09:45:19.010Z"
      },
      {
        "duration": -660,
        "start_time": "2022-02-07T09:45:19.015Z"
      },
      {
        "duration": -697,
        "start_time": "2022-02-07T09:45:19.053Z"
      },
      {
        "duration": -795,
        "start_time": "2022-02-07T09:45:19.152Z"
      },
      {
        "duration": -799,
        "start_time": "2022-02-07T09:45:19.158Z"
      },
      {
        "duration": -803,
        "start_time": "2022-02-07T09:45:19.163Z"
      },
      {
        "duration": -807,
        "start_time": "2022-02-07T09:45:19.168Z"
      },
      {
        "duration": -810,
        "start_time": "2022-02-07T09:45:19.173Z"
      },
      {
        "duration": -814,
        "start_time": "2022-02-07T09:45:19.178Z"
      },
      {
        "duration": -818,
        "start_time": "2022-02-07T09:45:19.184Z"
      },
      {
        "duration": -830,
        "start_time": "2022-02-07T09:45:19.197Z"
      },
      {
        "duration": -834,
        "start_time": "2022-02-07T09:45:19.202Z"
      },
      {
        "duration": -839,
        "start_time": "2022-02-07T09:45:19.209Z"
      },
      {
        "duration": -782,
        "start_time": "2022-02-07T09:45:19.214Z"
      },
      {
        "duration": -786,
        "start_time": "2022-02-07T09:45:19.219Z"
      },
      {
        "duration": 4,
        "start_time": "2022-02-07T09:48:25.471Z"
      },
      {
        "duration": 530,
        "start_time": "2022-02-07T09:48:25.478Z"
      },
      {
        "duration": 28,
        "start_time": "2022-02-07T09:48:26.010Z"
      },
      {
        "duration": 12,
        "start_time": "2022-02-07T09:48:26.041Z"
      },
      {
        "duration": 36,
        "start_time": "2022-02-07T09:48:26.055Z"
      },
      {
        "duration": 44,
        "start_time": "2022-02-07T09:48:26.094Z"
      },
      {
        "duration": 13,
        "start_time": "2022-02-07T09:48:26.141Z"
      },
      {
        "duration": 38,
        "start_time": "2022-02-07T09:48:26.157Z"
      },
      {
        "duration": 44,
        "start_time": "2022-02-07T09:48:26.197Z"
      },
      {
        "duration": 12,
        "start_time": "2022-02-07T09:48:26.243Z"
      },
      {
        "duration": 13,
        "start_time": "2022-02-07T09:48:26.257Z"
      },
      {
        "duration": 16,
        "start_time": "2022-02-07T09:48:26.272Z"
      },
      {
        "duration": 44,
        "start_time": "2022-02-07T09:48:26.290Z"
      },
      {
        "duration": 23,
        "start_time": "2022-02-07T09:48:26.336Z"
      },
      {
        "duration": 24,
        "start_time": "2022-02-07T09:48:26.362Z"
      },
      {
        "duration": 210,
        "start_time": "2022-02-07T09:48:26.389Z"
      },
      {
        "duration": 10,
        "start_time": "2022-02-07T09:48:26.601Z"
      },
      {
        "duration": 22,
        "start_time": "2022-02-07T09:48:26.613Z"
      },
      {
        "duration": 10,
        "start_time": "2022-02-07T09:48:26.641Z"
      },
      {
        "duration": 42,
        "start_time": "2022-02-07T09:48:26.654Z"
      },
      {
        "duration": 59,
        "start_time": "2022-02-07T09:48:26.699Z"
      },
      {
        "duration": 127,
        "start_time": "2022-02-07T09:48:26.761Z"
      },
      {
        "duration": 6,
        "start_time": "2022-02-07T09:48:26.890Z"
      },
      {
        "duration": 43,
        "start_time": "2022-02-07T09:48:26.899Z"
      },
      {
        "duration": 20,
        "start_time": "2022-02-07T09:48:26.945Z"
      },
      {
        "duration": 71,
        "start_time": "2022-02-07T09:48:26.968Z"
      },
      {
        "duration": 30,
        "start_time": "2022-02-07T09:48:27.041Z"
      },
      {
        "duration": 30,
        "start_time": "2022-02-07T09:48:27.074Z"
      },
      {
        "duration": 129,
        "start_time": "2022-02-07T09:48:27.107Z"
      },
      {
        "duration": 3,
        "start_time": "2022-02-07T09:48:27.239Z"
      },
      {
        "duration": 15,
        "start_time": "2022-02-07T09:48:27.245Z"
      },
      {
        "duration": 76,
        "start_time": "2022-02-07T09:48:27.263Z"
      },
      {
        "duration": 3,
        "start_time": "2022-02-07T09:48:27.342Z"
      },
      {
        "duration": 15,
        "start_time": "2022-02-07T09:48:27.347Z"
      },
      {
        "duration": 11,
        "start_time": "2022-02-07T09:48:27.364Z"
      },
      {
        "duration": 14,
        "start_time": "2022-02-07T09:48:27.378Z"
      },
      {
        "duration": 68,
        "start_time": "2022-02-07T09:48:27.394Z"
      },
      {
        "duration": 4,
        "start_time": "2022-02-07T09:48:27.465Z"
      },
      {
        "duration": 15,
        "start_time": "2022-02-07T09:48:27.471Z"
      },
      {
        "duration": 17,
        "start_time": "2022-02-07T09:48:27.489Z"
      },
      {
        "duration": 34,
        "start_time": "2022-02-07T09:48:27.508Z"
      },
      {
        "duration": 26,
        "start_time": "2022-02-07T09:48:27.544Z"
      },
      {
        "duration": 4,
        "start_time": "2022-02-07T09:48:27.573Z"
      },
      {
        "duration": 10,
        "start_time": "2022-02-07T09:48:27.579Z"
      },
      {
        "duration": 42,
        "start_time": "2022-02-07T09:48:27.592Z"
      },
      {
        "duration": 9,
        "start_time": "2022-02-07T09:48:27.637Z"
      },
      {
        "duration": 10,
        "start_time": "2022-02-07T09:48:27.649Z"
      },
      {
        "duration": 12,
        "start_time": "2022-02-07T09:48:27.661Z"
      },
      {
        "duration": 15,
        "start_time": "2022-02-07T09:48:27.675Z"
      },
      {
        "duration": 50,
        "start_time": "2022-02-07T09:48:27.692Z"
      },
      {
        "duration": 18,
        "start_time": "2022-02-07T09:48:27.744Z"
      },
      {
        "duration": 6,
        "start_time": "2022-02-07T09:48:27.764Z"
      },
      {
        "duration": 15,
        "start_time": "2022-02-07T09:48:27.772Z"
      },
      {
        "duration": 50,
        "start_time": "2022-02-07T09:48:27.789Z"
      },
      {
        "duration": 10,
        "start_time": "2022-02-07T09:48:27.847Z"
      },
      {
        "duration": 19,
        "start_time": "2022-02-07T09:48:27.860Z"
      },
      {
        "duration": 15,
        "start_time": "2022-02-07T09:48:27.882Z"
      },
      {
        "duration": 5,
        "start_time": "2022-02-07T09:48:27.932Z"
      },
      {
        "duration": 12,
        "start_time": "2022-02-07T09:48:27.940Z"
      },
      {
        "duration": 17,
        "start_time": "2022-02-07T09:48:27.954Z"
      },
      {
        "duration": 20,
        "start_time": "2022-02-07T09:48:27.974Z"
      },
      {
        "duration": 54,
        "start_time": "2022-02-07T09:48:27.996Z"
      },
      {
        "duration": 22,
        "start_time": "2022-02-07T09:48:28.052Z"
      },
      {
        "duration": 61,
        "start_time": "2022-02-07T09:48:28.077Z"
      },
      {
        "duration": 21,
        "start_time": "2022-02-07T09:48:28.141Z"
      },
      {
        "duration": 21,
        "start_time": "2022-02-07T09:48:28.164Z"
      },
      {
        "duration": 9,
        "start_time": "2022-02-07T09:48:28.187Z"
      },
      {
        "duration": 40,
        "start_time": "2022-02-07T09:48:28.198Z"
      },
      {
        "duration": 19,
        "start_time": "2022-02-07T09:48:28.240Z"
      },
      {
        "duration": 12,
        "start_time": "2022-02-07T09:48:28.261Z"
      },
      {
        "duration": 17,
        "start_time": "2022-02-07T09:48:28.276Z"
      },
      {
        "duration": 45,
        "start_time": "2022-02-07T09:48:28.295Z"
      },
      {
        "duration": 4,
        "start_time": "2022-02-07T09:48:28.343Z"
      },
      {
        "duration": 15,
        "start_time": "2022-02-07T09:48:28.350Z"
      },
      {
        "duration": 29,
        "start_time": "2022-02-07T09:48:28.367Z"
      },
      {
        "duration": 61,
        "start_time": "2022-02-07T09:48:28.399Z"
      },
      {
        "duration": 7,
        "start_time": "2022-02-07T09:48:28.462Z"
      },
      {
        "duration": 11,
        "start_time": "2022-02-07T09:48:28.471Z"
      },
      {
        "duration": 1216,
        "start_time": "2022-02-07T09:48:28.485Z"
      },
      {
        "duration": 1160,
        "start_time": "2022-02-07T09:48:29.703Z"
      },
      {
        "duration": 984,
        "start_time": "2022-02-07T09:48:30.865Z"
      },
      {
        "duration": 7,
        "start_time": "2022-02-07T09:48:31.852Z"
      },
      {
        "duration": 14,
        "start_time": "2022-02-07T09:48:31.861Z"
      },
      {
        "duration": 11,
        "start_time": "2022-02-07T09:48:31.877Z"
      },
      {
        "duration": 11,
        "start_time": "2022-02-07T09:48:31.890Z"
      },
      {
        "duration": 33,
        "start_time": "2022-02-07T09:48:31.904Z"
      },
      {
        "duration": 9,
        "start_time": "2022-02-07T09:48:31.940Z"
      },
      {
        "duration": 5,
        "start_time": "2022-02-07T09:50:52.131Z"
      },
      {
        "duration": 5,
        "start_time": "2022-02-07T09:50:54.051Z"
      },
      {
        "duration": 12,
        "start_time": "2022-02-07T09:50:55.139Z"
      },
      {
        "duration": 5,
        "start_time": "2022-02-07T09:51:18.123Z"
      },
      {
        "duration": 5,
        "start_time": "2022-02-07T09:51:18.591Z"
      },
      {
        "duration": 10,
        "start_time": "2022-02-07T09:51:19.188Z"
      },
      {
        "duration": 4,
        "start_time": "2022-02-07T09:51:22.515Z"
      },
      {
        "duration": 528,
        "start_time": "2022-02-07T09:51:22.522Z"
      },
      {
        "duration": 27,
        "start_time": "2022-02-07T09:51:23.053Z"
      },
      {
        "duration": 18,
        "start_time": "2022-02-07T09:51:23.083Z"
      },
      {
        "duration": 45,
        "start_time": "2022-02-07T09:51:23.104Z"
      },
      {
        "duration": 23,
        "start_time": "2022-02-07T09:51:23.152Z"
      },
      {
        "duration": 16,
        "start_time": "2022-02-07T09:51:23.180Z"
      },
      {
        "duration": 69,
        "start_time": "2022-02-07T09:51:23.200Z"
      },
      {
        "duration": 22,
        "start_time": "2022-02-07T09:51:23.272Z"
      },
      {
        "duration": 39,
        "start_time": "2022-02-07T09:51:23.296Z"
      },
      {
        "duration": 14,
        "start_time": "2022-02-07T09:51:23.338Z"
      },
      {
        "duration": 14,
        "start_time": "2022-02-07T09:51:23.355Z"
      },
      {
        "duration": 17,
        "start_time": "2022-02-07T09:51:23.372Z"
      },
      {
        "duration": 49,
        "start_time": "2022-02-07T09:51:23.392Z"
      },
      {
        "duration": 24,
        "start_time": "2022-02-07T09:51:23.444Z"
      },
      {
        "duration": 203,
        "start_time": "2022-02-07T09:51:23.471Z"
      },
      {
        "duration": 8,
        "start_time": "2022-02-07T09:51:23.677Z"
      },
      {
        "duration": 10,
        "start_time": "2022-02-07T09:51:23.688Z"
      },
      {
        "duration": 29,
        "start_time": "2022-02-07T09:51:23.703Z"
      },
      {
        "duration": 37,
        "start_time": "2022-02-07T09:51:23.735Z"
      },
      {
        "duration": 31,
        "start_time": "2022-02-07T09:51:23.774Z"
      },
      {
        "duration": 137,
        "start_time": "2022-02-07T09:51:23.808Z"
      },
      {
        "duration": 6,
        "start_time": "2022-02-07T09:51:23.947Z"
      },
      {
        "duration": 26,
        "start_time": "2022-02-07T09:51:23.955Z"
      },
      {
        "duration": 20,
        "start_time": "2022-02-07T09:51:23.983Z"
      },
      {
        "duration": 73,
        "start_time": "2022-02-07T09:51:24.005Z"
      },
      {
        "duration": 28,
        "start_time": "2022-02-07T09:51:24.080Z"
      },
      {
        "duration": 41,
        "start_time": "2022-02-07T09:51:24.110Z"
      },
      {
        "duration": 106,
        "start_time": "2022-02-07T09:51:24.153Z"
      },
      {
        "duration": 3,
        "start_time": "2022-02-07T09:51:24.261Z"
      },
      {
        "duration": 20,
        "start_time": "2022-02-07T09:51:24.266Z"
      },
      {
        "duration": 66,
        "start_time": "2022-02-07T09:51:24.288Z"
      },
      {
        "duration": 3,
        "start_time": "2022-02-07T09:51:24.357Z"
      },
      {
        "duration": 14,
        "start_time": "2022-02-07T09:51:24.362Z"
      },
      {
        "duration": 10,
        "start_time": "2022-02-07T09:51:24.378Z"
      },
      {
        "duration": 12,
        "start_time": "2022-02-07T09:51:24.390Z"
      },
      {
        "duration": 58,
        "start_time": "2022-02-07T09:51:24.404Z"
      },
      {
        "duration": 3,
        "start_time": "2022-02-07T09:51:24.465Z"
      },
      {
        "duration": 17,
        "start_time": "2022-02-07T09:51:24.470Z"
      },
      {
        "duration": 9,
        "start_time": "2022-02-07T09:51:24.489Z"
      },
      {
        "duration": 43,
        "start_time": "2022-02-07T09:51:24.501Z"
      },
      {
        "duration": 36,
        "start_time": "2022-02-07T09:51:24.546Z"
      },
      {
        "duration": 5,
        "start_time": "2022-02-07T09:51:24.585Z"
      },
      {
        "duration": 19,
        "start_time": "2022-02-07T09:51:24.593Z"
      },
      {
        "duration": 12,
        "start_time": "2022-02-07T09:51:24.633Z"
      },
      {
        "duration": 12,
        "start_time": "2022-02-07T09:51:24.647Z"
      },
      {
        "duration": 9,
        "start_time": "2022-02-07T09:51:24.662Z"
      },
      {
        "duration": 13,
        "start_time": "2022-02-07T09:51:24.674Z"
      },
      {
        "duration": 49,
        "start_time": "2022-02-07T09:51:24.690Z"
      },
      {
        "duration": 13,
        "start_time": "2022-02-07T09:51:24.742Z"
      },
      {
        "duration": 17,
        "start_time": "2022-02-07T09:51:24.757Z"
      },
      {
        "duration": 9,
        "start_time": "2022-02-07T09:51:24.776Z"
      },
      {
        "duration": 46,
        "start_time": "2022-02-07T09:51:24.787Z"
      },
      {
        "duration": 16,
        "start_time": "2022-02-07T09:51:24.836Z"
      },
      {
        "duration": 9,
        "start_time": "2022-02-07T09:51:24.869Z"
      },
      {
        "duration": 17,
        "start_time": "2022-02-07T09:51:24.881Z"
      },
      {
        "duration": 39,
        "start_time": "2022-02-07T09:51:24.900Z"
      },
      {
        "duration": 24,
        "start_time": "2022-02-07T09:51:24.941Z"
      },
      {
        "duration": 20,
        "start_time": "2022-02-07T09:51:24.967Z"
      },
      {
        "duration": 28,
        "start_time": "2022-02-07T09:51:24.989Z"
      },
      {
        "duration": 24,
        "start_time": "2022-02-07T09:51:25.019Z"
      },
      {
        "duration": 20,
        "start_time": "2022-02-07T09:51:25.045Z"
      },
      {
        "duration": 26,
        "start_time": "2022-02-07T09:51:25.067Z"
      },
      {
        "duration": 51,
        "start_time": "2022-02-07T09:51:25.095Z"
      },
      {
        "duration": 22,
        "start_time": "2022-02-07T09:51:25.149Z"
      },
      {
        "duration": 19,
        "start_time": "2022-02-07T09:51:25.173Z"
      },
      {
        "duration": 9,
        "start_time": "2022-02-07T09:51:25.194Z"
      },
      {
        "duration": 9,
        "start_time": "2022-02-07T09:51:25.233Z"
      },
      {
        "duration": 18,
        "start_time": "2022-02-07T09:51:25.244Z"
      },
      {
        "duration": 12,
        "start_time": "2022-02-07T09:51:25.264Z"
      },
      {
        "duration": 16,
        "start_time": "2022-02-07T09:51:25.278Z"
      },
      {
        "duration": 47,
        "start_time": "2022-02-07T09:51:25.296Z"
      },
      {
        "duration": 11,
        "start_time": "2022-02-07T09:51:25.346Z"
      },
      {
        "duration": 29,
        "start_time": "2022-02-07T09:51:25.360Z"
      },
      {
        "duration": 43,
        "start_time": "2022-02-07T09:51:25.391Z"
      },
      {
        "duration": 28,
        "start_time": "2022-02-07T09:51:25.436Z"
      },
      {
        "duration": 7,
        "start_time": "2022-02-07T09:51:25.466Z"
      },
      {
        "duration": 14,
        "start_time": "2022-02-07T09:51:25.475Z"
      },
      {
        "duration": 960,
        "start_time": "2022-02-07T09:51:25.491Z"
      },
      {
        "duration": 921,
        "start_time": "2022-02-07T09:51:26.453Z"
      },
      {
        "duration": 908,
        "start_time": "2022-02-07T09:51:27.376Z"
      },
      {
        "duration": 8,
        "start_time": "2022-02-07T09:51:28.287Z"
      },
      {
        "duration": 34,
        "start_time": "2022-02-07T09:51:28.298Z"
      },
      {
        "duration": 7,
        "start_time": "2022-02-07T09:51:28.334Z"
      },
      {
        "duration": 15,
        "start_time": "2022-02-07T09:51:28.343Z"
      },
      {
        "duration": 8,
        "start_time": "2022-02-07T09:51:28.360Z"
      },
      {
        "duration": 7,
        "start_time": "2022-02-07T09:51:28.371Z"
      },
      {
        "duration": 243,
        "start_time": "2022-02-07T09:53:42.767Z"
      },
      {
        "duration": 12,
        "start_time": "2022-02-07T09:53:48.234Z"
      },
      {
        "duration": 262,
        "start_time": "2022-02-07T09:54:49.222Z"
      },
      {
        "duration": 5,
        "start_time": "2022-02-07T09:54:57.902Z"
      },
      {
        "duration": 12,
        "start_time": "2022-02-07T09:55:08.915Z"
      },
      {
        "duration": 83,
        "start_time": "2022-02-07T09:55:31.821Z"
      },
      {
        "duration": 6,
        "start_time": "2022-02-07T09:56:07.950Z"
      },
      {
        "duration": 13,
        "start_time": "2022-02-07T09:56:08.762Z"
      },
      {
        "duration": 8,
        "start_time": "2022-02-07T09:59:08.270Z"
      },
      {
        "duration": 12,
        "start_time": "2022-02-07T09:59:12.026Z"
      },
      {
        "duration": 5,
        "start_time": "2022-02-07T09:59:20.254Z"
      },
      {
        "duration": 555,
        "start_time": "2022-02-07T09:59:20.262Z"
      },
      {
        "duration": 27,
        "start_time": "2022-02-07T09:59:20.820Z"
      },
      {
        "duration": 16,
        "start_time": "2022-02-07T09:59:20.850Z"
      },
      {
        "duration": 190,
        "start_time": "2022-02-07T09:59:20.869Z"
      },
      {
        "duration": 22,
        "start_time": "2022-02-07T09:59:21.062Z"
      },
      {
        "duration": 13,
        "start_time": "2022-02-07T09:59:21.089Z"
      },
      {
        "duration": 35,
        "start_time": "2022-02-07T09:59:21.133Z"
      },
      {
        "duration": 19,
        "start_time": "2022-02-07T09:59:21.170Z"
      },
      {
        "duration": 40,
        "start_time": "2022-02-07T09:59:21.192Z"
      },
      {
        "duration": 9,
        "start_time": "2022-02-07T09:59:21.235Z"
      },
      {
        "duration": 13,
        "start_time": "2022-02-07T09:59:21.246Z"
      },
      {
        "duration": 11,
        "start_time": "2022-02-07T09:59:21.262Z"
      },
      {
        "duration": 19,
        "start_time": "2022-02-07T09:59:21.275Z"
      },
      {
        "duration": 23,
        "start_time": "2022-02-07T09:59:21.333Z"
      },
      {
        "duration": 213,
        "start_time": "2022-02-07T09:59:21.359Z"
      },
      {
        "duration": 9,
        "start_time": "2022-02-07T09:59:21.575Z"
      },
      {
        "duration": 7,
        "start_time": "2022-02-07T09:59:21.586Z"
      },
      {
        "duration": 35,
        "start_time": "2022-02-07T09:59:21.599Z"
      },
      {
        "duration": 37,
        "start_time": "2022-02-07T09:59:21.638Z"
      },
      {
        "duration": 54,
        "start_time": "2022-02-07T09:59:21.678Z"
      },
      {
        "duration": 128,
        "start_time": "2022-02-07T09:59:21.735Z"
      },
      {
        "duration": 6,
        "start_time": "2022-02-07T09:59:21.866Z"
      },
      {
        "duration": 34,
        "start_time": "2022-02-07T09:59:21.874Z"
      },
      {
        "duration": 31,
        "start_time": "2022-02-07T09:59:21.911Z"
      },
      {
        "duration": 54,
        "start_time": "2022-02-07T09:59:21.945Z"
      },
      {
        "duration": 56,
        "start_time": "2022-02-07T09:59:22.002Z"
      },
      {
        "duration": 24,
        "start_time": "2022-02-07T09:59:22.061Z"
      },
      {
        "duration": 108,
        "start_time": "2022-02-07T09:59:22.087Z"
      },
      {
        "duration": 3,
        "start_time": "2022-02-07T09:59:22.197Z"
      },
      {
        "duration": 31,
        "start_time": "2022-02-07T09:59:22.202Z"
      },
      {
        "duration": 46,
        "start_time": "2022-02-07T09:59:22.236Z"
      },
      {
        "duration": 3,
        "start_time": "2022-02-07T09:59:22.285Z"
      },
      {
        "duration": 16,
        "start_time": "2022-02-07T09:59:22.290Z"
      },
      {
        "duration": 37,
        "start_time": "2022-02-07T09:59:22.308Z"
      },
      {
        "duration": 17,
        "start_time": "2022-02-07T09:59:22.347Z"
      },
      {
        "duration": 35,
        "start_time": "2022-02-07T09:59:22.366Z"
      },
      {
        "duration": 3,
        "start_time": "2022-02-07T09:59:22.403Z"
      },
      {
        "duration": 34,
        "start_time": "2022-02-07T09:59:22.408Z"
      },
      {
        "duration": 10,
        "start_time": "2022-02-07T09:59:22.444Z"
      },
      {
        "duration": 12,
        "start_time": "2022-02-07T09:59:22.457Z"
      },
      {
        "duration": 61,
        "start_time": "2022-02-07T09:59:22.471Z"
      },
      {
        "duration": 6,
        "start_time": "2022-02-07T09:59:22.535Z"
      },
      {
        "duration": 7,
        "start_time": "2022-02-07T09:59:22.543Z"
      },
      {
        "duration": 13,
        "start_time": "2022-02-07T09:59:22.553Z"
      },
      {
        "duration": 10,
        "start_time": "2022-02-07T09:59:22.569Z"
      },
      {
        "duration": 13,
        "start_time": "2022-02-07T09:59:22.581Z"
      },
      {
        "duration": 40,
        "start_time": "2022-02-07T09:59:22.597Z"
      },
      {
        "duration": 14,
        "start_time": "2022-02-07T09:59:22.639Z"
      },
      {
        "duration": 11,
        "start_time": "2022-02-07T09:59:22.655Z"
      },
      {
        "duration": 13,
        "start_time": "2022-02-07T09:59:22.668Z"
      },
      {
        "duration": 49,
        "start_time": "2022-02-07T09:59:22.683Z"
      },
      {
        "duration": 13,
        "start_time": "2022-02-07T09:59:22.735Z"
      },
      {
        "duration": 19,
        "start_time": "2022-02-07T09:59:22.750Z"
      },
      {
        "duration": 6,
        "start_time": "2022-02-07T09:59:22.779Z"
      },
      {
        "duration": 54,
        "start_time": "2022-02-07T09:59:22.789Z"
      },
      {
        "duration": 17,
        "start_time": "2022-02-07T09:59:22.846Z"
      },
      {
        "duration": 11,
        "start_time": "2022-02-07T09:59:22.866Z"
      },
      {
        "duration": 56,
        "start_time": "2022-02-07T09:59:22.879Z"
      },
      {
        "duration": 11,
        "start_time": "2022-02-07T09:59:22.938Z"
      },
      {
        "duration": 10,
        "start_time": "2022-02-07T09:59:22.951Z"
      },
      {
        "duration": 16,
        "start_time": "2022-02-07T09:59:22.964Z"
      },
      {
        "duration": 17,
        "start_time": "2022-02-07T09:59:22.982Z"
      },
      {
        "duration": 48,
        "start_time": "2022-02-07T09:59:23.001Z"
      },
      {
        "duration": 25,
        "start_time": "2022-02-07T09:59:23.052Z"
      },
      {
        "duration": 6108,
        "start_time": "2022-02-07T09:59:23.079Z"
      },
      {
        "duration": 262,
        "start_time": "2022-02-07T09:59:28.928Z"
      },
      {
        "duration": 254,
        "start_time": "2022-02-07T09:59:28.937Z"
      },
      {
        "duration": 249,
        "start_time": "2022-02-07T09:59:28.944Z"
      },
      {
        "duration": 245,
        "start_time": "2022-02-07T09:59:28.950Z"
      },
      {
        "duration": 240,
        "start_time": "2022-02-07T09:59:28.957Z"
      },
      {
        "duration": 236,
        "start_time": "2022-02-07T09:59:28.963Z"
      },
      {
        "duration": 220,
        "start_time": "2022-02-07T09:59:28.981Z"
      },
      {
        "duration": 216,
        "start_time": "2022-02-07T09:59:28.987Z"
      },
      {
        "duration": 212,
        "start_time": "2022-02-07T09:59:28.993Z"
      },
      {
        "duration": 208,
        "start_time": "2022-02-07T09:59:28.999Z"
      },
      {
        "duration": 203,
        "start_time": "2022-02-07T09:59:29.005Z"
      },
      {
        "duration": 200,
        "start_time": "2022-02-07T09:59:29.010Z"
      },
      {
        "duration": 196,
        "start_time": "2022-02-07T09:59:29.016Z"
      },
      {
        "duration": 194,
        "start_time": "2022-02-07T09:59:29.021Z"
      },
      {
        "duration": 190,
        "start_time": "2022-02-07T09:59:29.027Z"
      },
      {
        "duration": 186,
        "start_time": "2022-02-07T09:59:29.032Z"
      },
      {
        "duration": 181,
        "start_time": "2022-02-07T09:59:29.038Z"
      },
      {
        "duration": 177,
        "start_time": "2022-02-07T09:59:29.044Z"
      },
      {
        "duration": 170,
        "start_time": "2022-02-07T09:59:29.052Z"
      },
      {
        "duration": 165,
        "start_time": "2022-02-07T09:59:29.059Z"
      },
      {
        "duration": 160,
        "start_time": "2022-02-07T09:59:29.065Z"
      },
      {
        "duration": 160,
        "start_time": "2022-02-07T09:59:29.071Z"
      },
      {
        "duration": 146,
        "start_time": "2022-02-07T09:59:29.088Z"
      },
      {
        "duration": 142,
        "start_time": "2022-02-07T09:59:29.094Z"
      },
      {
        "duration": 5,
        "start_time": "2022-02-07T10:01:30.350Z"
      },
      {
        "duration": 481,
        "start_time": "2022-02-07T10:01:30.826Z"
      },
      {
        "duration": 27,
        "start_time": "2022-02-07T10:01:31.310Z"
      },
      {
        "duration": 12,
        "start_time": "2022-02-07T10:01:31.639Z"
      },
      {
        "duration": 34,
        "start_time": "2022-02-07T10:01:32.050Z"
      },
      {
        "duration": 8,
        "start_time": "2022-02-07T10:03:38.854Z"
      },
      {
        "duration": 5,
        "start_time": "2022-02-07T10:04:53.834Z"
      },
      {
        "duration": 11,
        "start_time": "2022-02-07T10:04:54.478Z"
      },
      {
        "duration": 8,
        "start_time": "2022-02-07T10:04:55.434Z"
      },
      {
        "duration": 4,
        "start_time": "2022-02-07T10:05:08.774Z"
      },
      {
        "duration": 5,
        "start_time": "2022-02-07T10:05:09.822Z"
      },
      {
        "duration": 5,
        "start_time": "2022-02-07T10:05:10.670Z"
      },
      {
        "duration": 12,
        "start_time": "2022-02-07T10:05:12.106Z"
      },
      {
        "duration": 5,
        "start_time": "2022-02-07T10:05:23.510Z"
      },
      {
        "duration": 558,
        "start_time": "2022-02-07T10:05:23.518Z"
      },
      {
        "duration": 26,
        "start_time": "2022-02-07T10:05:24.078Z"
      },
      {
        "duration": 12,
        "start_time": "2022-02-07T10:05:24.107Z"
      },
      {
        "duration": 35,
        "start_time": "2022-02-07T10:05:24.121Z"
      },
      {
        "duration": 24,
        "start_time": "2022-02-07T10:05:24.159Z"
      },
      {
        "duration": 14,
        "start_time": "2022-02-07T10:05:24.187Z"
      },
      {
        "duration": 62,
        "start_time": "2022-02-07T10:05:24.203Z"
      },
      {
        "duration": 19,
        "start_time": "2022-02-07T10:05:24.267Z"
      },
      {
        "duration": 10,
        "start_time": "2022-02-07T10:05:24.288Z"
      },
      {
        "duration": 34,
        "start_time": "2022-02-07T10:05:24.301Z"
      },
      {
        "duration": 15,
        "start_time": "2022-02-07T10:05:24.338Z"
      },
      {
        "duration": 18,
        "start_time": "2022-02-07T10:05:24.355Z"
      },
      {
        "duration": 26,
        "start_time": "2022-02-07T10:05:24.376Z"
      },
      {
        "duration": 43,
        "start_time": "2022-02-07T10:05:24.405Z"
      },
      {
        "duration": 207,
        "start_time": "2022-02-07T10:05:24.450Z"
      },
      {
        "duration": 9,
        "start_time": "2022-02-07T10:05:24.659Z"
      },
      {
        "duration": 8,
        "start_time": "2022-02-07T10:05:24.670Z"
      },
      {
        "duration": 10,
        "start_time": "2022-02-07T10:05:24.684Z"
      },
      {
        "duration": 66,
        "start_time": "2022-02-07T10:05:24.697Z"
      },
      {
        "duration": 32,
        "start_time": "2022-02-07T10:05:24.766Z"
      },
      {
        "duration": 133,
        "start_time": "2022-02-07T10:05:24.800Z"
      },
      {
        "duration": 6,
        "start_time": "2022-02-07T10:05:24.935Z"
      },
      {
        "duration": 28,
        "start_time": "2022-02-07T10:05:24.943Z"
      },
      {
        "duration": 20,
        "start_time": "2022-02-07T10:05:24.973Z"
      },
      {
        "duration": 78,
        "start_time": "2022-02-07T10:05:24.996Z"
      },
      {
        "duration": 27,
        "start_time": "2022-02-07T10:05:25.077Z"
      },
      {
        "duration": 44,
        "start_time": "2022-02-07T10:05:25.107Z"
      },
      {
        "duration": 97,
        "start_time": "2022-02-07T10:05:25.153Z"
      },
      {
        "duration": 3,
        "start_time": "2022-02-07T10:05:25.252Z"
      },
      {
        "duration": 18,
        "start_time": "2022-02-07T10:05:25.257Z"
      },
      {
        "duration": 69,
        "start_time": "2022-02-07T10:05:25.277Z"
      },
      {
        "duration": 3,
        "start_time": "2022-02-07T10:05:25.348Z"
      },
      {
        "duration": 15,
        "start_time": "2022-02-07T10:05:25.353Z"
      },
      {
        "duration": 16,
        "start_time": "2022-02-07T10:05:25.370Z"
      },
      {
        "duration": 13,
        "start_time": "2022-02-07T10:05:25.388Z"
      },
      {
        "duration": 62,
        "start_time": "2022-02-07T10:05:25.404Z"
      },
      {
        "duration": 5,
        "start_time": "2022-02-07T10:05:25.469Z"
      },
      {
        "duration": 14,
        "start_time": "2022-02-07T10:05:25.477Z"
      },
      {
        "duration": 40,
        "start_time": "2022-02-07T10:05:25.494Z"
      },
      {
        "duration": 19,
        "start_time": "2022-02-07T10:05:25.537Z"
      },
      {
        "duration": 32,
        "start_time": "2022-02-07T10:05:25.559Z"
      },
      {
        "duration": 3,
        "start_time": "2022-02-07T10:05:25.594Z"
      },
      {
        "duration": 35,
        "start_time": "2022-02-07T10:05:25.600Z"
      },
      {
        "duration": 10,
        "start_time": "2022-02-07T10:05:25.638Z"
      },
      {
        "duration": 14,
        "start_time": "2022-02-07T10:05:25.650Z"
      },
      {
        "duration": 9,
        "start_time": "2022-02-07T10:05:25.667Z"
      },
      {
        "duration": 13,
        "start_time": "2022-02-07T10:05:25.678Z"
      },
      {
        "duration": 44,
        "start_time": "2022-02-07T10:05:25.693Z"
      },
      {
        "duration": 15,
        "start_time": "2022-02-07T10:05:25.740Z"
      },
      {
        "duration": 9,
        "start_time": "2022-02-07T10:05:25.757Z"
      },
      {
        "duration": 12,
        "start_time": "2022-02-07T10:05:25.769Z"
      },
      {
        "duration": 49,
        "start_time": "2022-02-07T10:05:25.783Z"
      },
      {
        "duration": 12,
        "start_time": "2022-02-07T10:05:25.835Z"
      },
      {
        "duration": 17,
        "start_time": "2022-02-07T10:05:25.856Z"
      },
      {
        "duration": 4,
        "start_time": "2022-02-07T10:05:25.876Z"
      },
      {
        "duration": 52,
        "start_time": "2022-02-07T10:05:25.883Z"
      },
      {
        "duration": 20,
        "start_time": "2022-02-07T10:05:25.937Z"
      },
      {
        "duration": 11,
        "start_time": "2022-02-07T10:05:25.959Z"
      },
      {
        "duration": 18,
        "start_time": "2022-02-07T10:05:25.973Z"
      },
      {
        "duration": 14,
        "start_time": "2022-02-07T10:05:25.994Z"
      },
      {
        "duration": 25,
        "start_time": "2022-02-07T10:05:26.010Z"
      },
      {
        "duration": 13,
        "start_time": "2022-02-07T10:05:26.037Z"
      },
      {
        "duration": 17,
        "start_time": "2022-02-07T10:05:26.052Z"
      },
      {
        "duration": 23,
        "start_time": "2022-02-07T10:05:26.071Z"
      },
      {
        "duration": 54,
        "start_time": "2022-02-07T10:05:26.097Z"
      },
      {
        "duration": 7471,
        "start_time": "2022-02-07T10:05:26.154Z"
      },
      {
        "duration": 259,
        "start_time": "2022-02-07T10:05:33.370Z"
      },
      {
        "duration": 254,
        "start_time": "2022-02-07T10:05:33.377Z"
      },
      {
        "duration": 249,
        "start_time": "2022-02-07T10:05:33.384Z"
      },
      {
        "duration": 245,
        "start_time": "2022-02-07T10:05:33.390Z"
      },
      {
        "duration": 232,
        "start_time": "2022-02-07T10:05:33.405Z"
      },
      {
        "duration": 228,
        "start_time": "2022-02-07T10:05:33.412Z"
      },
      {
        "duration": 224,
        "start_time": "2022-02-07T10:05:33.418Z"
      },
      {
        "duration": 218,
        "start_time": "2022-02-07T10:05:33.426Z"
      },
      {
        "duration": 212,
        "start_time": "2022-02-07T10:05:33.434Z"
      },
      {
        "duration": 206,
        "start_time": "2022-02-07T10:05:33.442Z"
      },
      {
        "duration": 202,
        "start_time": "2022-02-07T10:05:33.448Z"
      },
      {
        "duration": 198,
        "start_time": "2022-02-07T10:05:33.454Z"
      },
      {
        "duration": 194,
        "start_time": "2022-02-07T10:05:33.461Z"
      },
      {
        "duration": 179,
        "start_time": "2022-02-07T10:05:33.478Z"
      },
      {
        "duration": 175,
        "start_time": "2022-02-07T10:05:33.484Z"
      },
      {
        "duration": 168,
        "start_time": "2022-02-07T10:05:33.493Z"
      },
      {
        "duration": 164,
        "start_time": "2022-02-07T10:05:33.499Z"
      },
      {
        "duration": 161,
        "start_time": "2022-02-07T10:05:33.505Z"
      },
      {
        "duration": 158,
        "start_time": "2022-02-07T10:05:33.510Z"
      },
      {
        "duration": 154,
        "start_time": "2022-02-07T10:05:33.516Z"
      },
      {
        "duration": 210,
        "start_time": "2022-02-07T10:05:33.521Z"
      },
      {
        "duration": 204,
        "start_time": "2022-02-07T10:05:33.529Z"
      },
      {
        "duration": 202,
        "start_time": "2022-02-07T10:05:33.534Z"
      },
      {
        "duration": 197,
        "start_time": "2022-02-07T10:05:33.541Z"
      },
      {
        "duration": 1547,
        "start_time": "2022-02-07T10:06:26.831Z"
      },
      {
        "duration": 501,
        "start_time": "2022-02-07T10:06:28.381Z"
      },
      {
        "duration": 27,
        "start_time": "2022-02-07T10:06:28.885Z"
      },
      {
        "duration": 19,
        "start_time": "2022-02-07T10:06:28.916Z"
      },
      {
        "duration": 40,
        "start_time": "2022-02-07T10:06:28.938Z"
      },
      {
        "duration": 23,
        "start_time": "2022-02-07T10:06:28.981Z"
      },
      {
        "duration": 14,
        "start_time": "2022-02-07T10:06:29.032Z"
      },
      {
        "duration": 42,
        "start_time": "2022-02-07T10:06:29.051Z"
      },
      {
        "duration": 47,
        "start_time": "2022-02-07T10:06:29.097Z"
      },
      {
        "duration": 12,
        "start_time": "2022-02-07T10:06:29.147Z"
      },
      {
        "duration": 11,
        "start_time": "2022-02-07T10:06:29.162Z"
      },
      {
        "duration": 14,
        "start_time": "2022-02-07T10:06:29.176Z"
      },
      {
        "duration": 11,
        "start_time": "2022-02-07T10:06:29.233Z"
      },
      {
        "duration": 20,
        "start_time": "2022-02-07T10:06:29.247Z"
      },
      {
        "duration": 63,
        "start_time": "2022-02-07T10:06:29.270Z"
      },
      {
        "duration": 201,
        "start_time": "2022-02-07T10:06:29.336Z"
      },
      {
        "duration": 8,
        "start_time": "2022-02-07T10:06:29.539Z"
      },
      {
        "duration": 11,
        "start_time": "2022-02-07T10:06:29.550Z"
      },
      {
        "duration": 11,
        "start_time": "2022-02-07T10:06:29.563Z"
      },
      {
        "duration": 75,
        "start_time": "2022-02-07T10:06:29.576Z"
      },
      {
        "duration": 30,
        "start_time": "2022-02-07T10:06:29.653Z"
      },
      {
        "duration": 135,
        "start_time": "2022-02-07T10:06:29.685Z"
      },
      {
        "duration": 6,
        "start_time": "2022-02-07T10:06:29.834Z"
      },
      {
        "duration": 25,
        "start_time": "2022-02-07T10:06:29.843Z"
      },
      {
        "duration": 20,
        "start_time": "2022-02-07T10:06:29.871Z"
      },
      {
        "duration": 82,
        "start_time": "2022-02-07T10:06:29.893Z"
      },
      {
        "duration": 31,
        "start_time": "2022-02-07T10:06:29.977Z"
      },
      {
        "duration": 41,
        "start_time": "2022-02-07T10:06:30.011Z"
      },
      {
        "duration": 115,
        "start_time": "2022-02-07T10:06:30.055Z"
      },
      {
        "duration": 2,
        "start_time": "2022-02-07T10:06:30.173Z"
      },
      {
        "duration": 22,
        "start_time": "2022-02-07T10:06:30.178Z"
      },
      {
        "duration": 64,
        "start_time": "2022-02-07T10:06:30.203Z"
      },
      {
        "duration": 4,
        "start_time": "2022-02-07T10:06:30.269Z"
      },
      {
        "duration": 22,
        "start_time": "2022-02-07T10:06:30.275Z"
      },
      {
        "duration": 17,
        "start_time": "2022-02-07T10:06:30.299Z"
      },
      {
        "duration": 28,
        "start_time": "2022-02-07T10:06:30.318Z"
      },
      {
        "duration": 41,
        "start_time": "2022-02-07T10:06:30.348Z"
      },
      {
        "duration": 4,
        "start_time": "2022-02-07T10:06:30.391Z"
      },
      {
        "duration": 35,
        "start_time": "2022-02-07T10:06:30.397Z"
      },
      {
        "duration": 16,
        "start_time": "2022-02-07T10:06:30.435Z"
      },
      {
        "duration": 19,
        "start_time": "2022-02-07T10:06:30.454Z"
      },
      {
        "duration": 50,
        "start_time": "2022-02-07T10:06:30.476Z"
      },
      {
        "duration": 9,
        "start_time": "2022-02-07T10:06:30.528Z"
      },
      {
        "duration": 23,
        "start_time": "2022-02-07T10:06:30.539Z"
      },
      {
        "duration": 14,
        "start_time": "2022-02-07T10:06:30.565Z"
      },
      {
        "duration": 30,
        "start_time": "2022-02-07T10:06:30.581Z"
      },
      {
        "duration": 22,
        "start_time": "2022-02-07T10:06:30.613Z"
      },
      {
        "duration": 40,
        "start_time": "2022-02-07T10:06:30.638Z"
      },
      {
        "duration": 24,
        "start_time": "2022-02-07T10:06:30.680Z"
      },
      {
        "duration": 65,
        "start_time": "2022-02-07T10:06:30.707Z"
      },
      {
        "duration": 29,
        "start_time": "2022-02-07T10:06:30.775Z"
      },
      {
        "duration": 41,
        "start_time": "2022-02-07T10:06:30.806Z"
      },
      {
        "duration": 25,
        "start_time": "2022-02-07T10:06:30.850Z"
      },
      {
        "duration": 26,
        "start_time": "2022-02-07T10:06:30.878Z"
      },
      {
        "duration": 31,
        "start_time": "2022-02-07T10:06:30.906Z"
      },
      {
        "duration": 15,
        "start_time": "2022-02-07T10:06:30.940Z"
      },
      {
        "duration": 31,
        "start_time": "2022-02-07T10:06:30.957Z"
      },
      {
        "duration": 15,
        "start_time": "2022-02-07T10:06:30.990Z"
      },
      {
        "duration": 17,
        "start_time": "2022-02-07T10:06:31.007Z"
      },
      {
        "duration": 19,
        "start_time": "2022-02-07T10:06:31.026Z"
      },
      {
        "duration": 16,
        "start_time": "2022-02-07T10:06:31.048Z"
      },
      {
        "duration": 13,
        "start_time": "2022-02-07T10:06:31.066Z"
      },
      {
        "duration": 10,
        "start_time": "2022-02-07T10:06:31.081Z"
      },
      {
        "duration": 42,
        "start_time": "2022-02-07T10:06:31.093Z"
      },
      {
        "duration": 24,
        "start_time": "2022-02-07T10:06:31.137Z"
      },
      {
        "duration": 30,
        "start_time": "2022-02-07T10:06:31.163Z"
      },
      {
        "duration": 6060,
        "start_time": "2022-02-07T10:06:31.195Z"
      },
      {
        "duration": 262,
        "start_time": "2022-02-07T10:06:36.997Z"
      },
      {
        "duration": 258,
        "start_time": "2022-02-07T10:06:37.003Z"
      },
      {
        "duration": 251,
        "start_time": "2022-02-07T10:06:37.011Z"
      },
      {
        "duration": 245,
        "start_time": "2022-02-07T10:06:37.018Z"
      },
      {
        "duration": 240,
        "start_time": "2022-02-07T10:06:37.025Z"
      },
      {
        "duration": 235,
        "start_time": "2022-02-07T10:06:37.031Z"
      },
      {
        "duration": 228,
        "start_time": "2022-02-07T10:06:37.039Z"
      },
      {
        "duration": 223,
        "start_time": "2022-02-07T10:06:37.045Z"
      },
      {
        "duration": 218,
        "start_time": "2022-02-07T10:06:37.051Z"
      },
      {
        "duration": 213,
        "start_time": "2022-02-07T10:06:37.057Z"
      },
      {
        "duration": 210,
        "start_time": "2022-02-07T10:06:37.062Z"
      },
      {
        "duration": 206,
        "start_time": "2022-02-07T10:06:37.067Z"
      },
      {
        "duration": 200,
        "start_time": "2022-02-07T10:06:37.074Z"
      },
      {
        "duration": 195,
        "start_time": "2022-02-07T10:06:37.080Z"
      },
      {
        "duration": 180,
        "start_time": "2022-02-07T10:06:37.097Z"
      },
      {
        "duration": 176,
        "start_time": "2022-02-07T10:06:37.102Z"
      },
      {
        "duration": 170,
        "start_time": "2022-02-07T10:06:37.109Z"
      },
      {
        "duration": 165,
        "start_time": "2022-02-07T10:06:37.115Z"
      },
      {
        "duration": 160,
        "start_time": "2022-02-07T10:06:37.121Z"
      },
      {
        "duration": 156,
        "start_time": "2022-02-07T10:06:37.127Z"
      },
      {
        "duration": 150,
        "start_time": "2022-02-07T10:06:37.134Z"
      },
      {
        "duration": 147,
        "start_time": "2022-02-07T10:06:37.139Z"
      },
      {
        "duration": 141,
        "start_time": "2022-02-07T10:06:37.146Z"
      },
      {
        "duration": 137,
        "start_time": "2022-02-07T10:06:37.151Z"
      },
      {
        "duration": 6,
        "start_time": "2022-02-07T10:08:35.706Z"
      },
      {
        "duration": 12,
        "start_time": "2022-02-07T10:08:37.083Z"
      },
      {
        "duration": 13,
        "start_time": "2022-02-07T10:08:51.535Z"
      },
      {
        "duration": 13,
        "start_time": "2022-02-07T10:09:14.750Z"
      },
      {
        "duration": 10,
        "start_time": "2022-02-07T10:13:20.522Z"
      },
      {
        "duration": 10,
        "start_time": "2022-02-07T10:13:30.034Z"
      },
      {
        "duration": 9,
        "start_time": "2022-02-07T10:13:31.082Z"
      },
      {
        "duration": 11,
        "start_time": "2022-02-07T10:13:34.666Z"
      },
      {
        "duration": 14,
        "start_time": "2022-02-07T10:13:36.446Z"
      },
      {
        "duration": 10,
        "start_time": "2022-02-07T10:13:37.874Z"
      },
      {
        "duration": 5,
        "start_time": "2022-02-07T10:13:53.567Z"
      },
      {
        "duration": 10,
        "start_time": "2022-02-07T10:13:53.642Z"
      },
      {
        "duration": 8,
        "start_time": "2022-02-07T10:13:56.233Z"
      },
      {
        "duration": 5,
        "start_time": "2022-02-07T10:14:06.094Z"
      },
      {
        "duration": 11,
        "start_time": "2022-02-07T10:14:22.448Z"
      },
      {
        "duration": 11,
        "start_time": "2022-02-07T10:14:22.461Z"
      },
      {
        "duration": 12,
        "start_time": "2022-02-07T10:14:26.298Z"
      },
      {
        "duration": 7235,
        "start_time": "2022-02-07T10:14:27.111Z"
      },
      {
        "duration": 245,
        "start_time": "2022-02-07T10:14:34.104Z"
      },
      {
        "duration": 1473,
        "start_time": "2022-02-07T10:14:55.837Z"
      },
      {
        "duration": 493,
        "start_time": "2022-02-07T10:14:57.313Z"
      },
      {
        "duration": 28,
        "start_time": "2022-02-07T10:14:57.808Z"
      },
      {
        "duration": 17,
        "start_time": "2022-02-07T10:14:57.839Z"
      },
      {
        "duration": 41,
        "start_time": "2022-02-07T10:14:57.858Z"
      },
      {
        "duration": 46,
        "start_time": "2022-02-07T10:14:57.901Z"
      },
      {
        "duration": 13,
        "start_time": "2022-02-07T10:14:57.950Z"
      },
      {
        "duration": 40,
        "start_time": "2022-02-07T10:14:57.967Z"
      },
      {
        "duration": 20,
        "start_time": "2022-02-07T10:14:58.034Z"
      },
      {
        "duration": 15,
        "start_time": "2022-02-07T10:14:58.057Z"
      },
      {
        "duration": 9,
        "start_time": "2022-02-07T10:14:58.075Z"
      },
      {
        "duration": 53,
        "start_time": "2022-02-07T10:14:58.086Z"
      },
      {
        "duration": 14,
        "start_time": "2022-02-07T10:14:58.141Z"
      },
      {
        "duration": 19,
        "start_time": "2022-02-07T10:14:58.157Z"
      },
      {
        "duration": 21,
        "start_time": "2022-02-07T10:14:58.178Z"
      },
      {
        "duration": 225,
        "start_time": "2022-02-07T10:14:58.201Z"
      },
      {
        "duration": 9,
        "start_time": "2022-02-07T10:14:58.433Z"
      },
      {
        "duration": 10,
        "start_time": "2022-02-07T10:14:58.444Z"
      },
      {
        "duration": 12,
        "start_time": "2022-02-07T10:14:58.456Z"
      },
      {
        "duration": 67,
        "start_time": "2022-02-07T10:14:58.470Z"
      },
      {
        "duration": 32,
        "start_time": "2022-02-07T10:14:58.540Z"
      },
      {
        "duration": 139,
        "start_time": "2022-02-07T10:14:58.574Z"
      },
      {
        "duration": 13,
        "start_time": "2022-02-07T10:14:58.719Z"
      },
      {
        "duration": 24,
        "start_time": "2022-02-07T10:14:58.736Z"
      },
      {
        "duration": 20,
        "start_time": "2022-02-07T10:14:58.762Z"
      },
      {
        "duration": 80,
        "start_time": "2022-02-07T10:14:58.785Z"
      },
      {
        "duration": 32,
        "start_time": "2022-02-07T10:14:58.867Z"
      },
      {
        "duration": 45,
        "start_time": "2022-02-07T10:14:58.901Z"
      },
      {
        "duration": 99,
        "start_time": "2022-02-07T10:14:58.948Z"
      },
      {
        "duration": 3,
        "start_time": "2022-02-07T10:14:59.050Z"
      },
      {
        "duration": 17,
        "start_time": "2022-02-07T10:14:59.055Z"
      },
      {
        "duration": 70,
        "start_time": "2022-02-07T10:14:59.074Z"
      },
      {
        "duration": 3,
        "start_time": "2022-02-07T10:14:59.147Z"
      },
      {
        "duration": 16,
        "start_time": "2022-02-07T10:14:59.152Z"
      },
      {
        "duration": 10,
        "start_time": "2022-02-07T10:14:59.171Z"
      },
      {
        "duration": 13,
        "start_time": "2022-02-07T10:14:59.183Z"
      },
      {
        "duration": 66,
        "start_time": "2022-02-07T10:14:59.198Z"
      },
      {
        "duration": 3,
        "start_time": "2022-02-07T10:14:59.266Z"
      },
      {
        "duration": 14,
        "start_time": "2022-02-07T10:14:59.271Z"
      },
      {
        "duration": 11,
        "start_time": "2022-02-07T10:14:59.287Z"
      },
      {
        "duration": 42,
        "start_time": "2022-02-07T10:14:59.300Z"
      },
      {
        "duration": 31,
        "start_time": "2022-02-07T10:14:59.345Z"
      },
      {
        "duration": 9,
        "start_time": "2022-02-07T10:14:59.378Z"
      },
      {
        "duration": 5,
        "start_time": "2022-02-07T10:14:59.389Z"
      },
      {
        "duration": 35,
        "start_time": "2022-02-07T10:14:59.397Z"
      },
      {
        "duration": 10,
        "start_time": "2022-02-07T10:14:59.435Z"
      },
      {
        "duration": 10,
        "start_time": "2022-02-07T10:14:59.447Z"
      },
      {
        "duration": 13,
        "start_time": "2022-02-07T10:14:59.460Z"
      },
      {
        "duration": 9,
        "start_time": "2022-02-07T10:14:59.475Z"
      },
      {
        "duration": 54,
        "start_time": "2022-02-07T10:14:59.486Z"
      },
      {
        "duration": 9,
        "start_time": "2022-02-07T10:14:59.542Z"
      },
      {
        "duration": 17,
        "start_time": "2022-02-07T10:14:59.553Z"
      },
      {
        "duration": 17,
        "start_time": "2022-02-07T10:14:59.572Z"
      },
      {
        "duration": 42,
        "start_time": "2022-02-07T10:14:59.591Z"
      },
      {
        "duration": 19,
        "start_time": "2022-02-07T10:14:59.635Z"
      },
      {
        "duration": 6,
        "start_time": "2022-02-07T10:14:59.657Z"
      },
      {
        "duration": 16,
        "start_time": "2022-02-07T10:14:59.665Z"
      },
      {
        "duration": 49,
        "start_time": "2022-02-07T10:14:59.684Z"
      },
      {
        "duration": 8,
        "start_time": "2022-02-07T10:14:59.735Z"
      },
      {
        "duration": 19,
        "start_time": "2022-02-07T10:14:59.745Z"
      },
      {
        "duration": 14,
        "start_time": "2022-02-07T10:14:59.766Z"
      },
      {
        "duration": 8,
        "start_time": "2022-02-07T10:14:59.782Z"
      },
      {
        "duration": 42,
        "start_time": "2022-02-07T10:14:59.792Z"
      },
      {
        "duration": 21,
        "start_time": "2022-02-07T10:14:59.837Z"
      },
      {
        "duration": 23,
        "start_time": "2022-02-07T10:14:59.860Z"
      },
      {
        "duration": 53,
        "start_time": "2022-02-07T10:14:59.885Z"
      },
      {
        "duration": 6624,
        "start_time": "2022-02-07T10:14:59.941Z"
      },
      {
        "duration": 261,
        "start_time": "2022-02-07T10:15:06.308Z"
      },
      {
        "duration": 256,
        "start_time": "2022-02-07T10:15:06.314Z"
      },
      {
        "duration": 249,
        "start_time": "2022-02-07T10:15:06.323Z"
      },
      {
        "duration": 242,
        "start_time": "2022-02-07T10:15:06.331Z"
      },
      {
        "duration": 236,
        "start_time": "2022-02-07T10:15:06.339Z"
      },
      {
        "duration": 230,
        "start_time": "2022-02-07T10:15:06.346Z"
      },
      {
        "duration": 224,
        "start_time": "2022-02-07T10:15:06.353Z"
      },
      {
        "duration": 220,
        "start_time": "2022-02-07T10:15:06.359Z"
      },
      {
        "duration": 215,
        "start_time": "2022-02-07T10:15:06.365Z"
      },
      {
        "duration": 209,
        "start_time": "2022-02-07T10:15:06.372Z"
      },
      {
        "duration": 204,
        "start_time": "2022-02-07T10:15:06.379Z"
      },
      {
        "duration": 200,
        "start_time": "2022-02-07T10:15:06.384Z"
      },
      {
        "duration": 182,
        "start_time": "2022-02-07T10:15:06.403Z"
      },
      {
        "duration": 177,
        "start_time": "2022-02-07T10:15:06.409Z"
      },
      {
        "duration": 172,
        "start_time": "2022-02-07T10:15:06.415Z"
      },
      {
        "duration": 167,
        "start_time": "2022-02-07T10:15:06.422Z"
      },
      {
        "duration": 162,
        "start_time": "2022-02-07T10:15:06.428Z"
      },
      {
        "duration": 157,
        "start_time": "2022-02-07T10:15:06.434Z"
      },
      {
        "duration": 153,
        "start_time": "2022-02-07T10:15:06.440Z"
      },
      {
        "duration": 149,
        "start_time": "2022-02-07T10:15:06.445Z"
      },
      {
        "duration": 143,
        "start_time": "2022-02-07T10:15:06.452Z"
      },
      {
        "duration": 138,
        "start_time": "2022-02-07T10:15:06.458Z"
      },
      {
        "duration": 134,
        "start_time": "2022-02-07T10:15:06.464Z"
      },
      {
        "duration": 129,
        "start_time": "2022-02-07T10:15:06.470Z"
      },
      {
        "duration": 26,
        "start_time": "2022-02-07T10:16:02.032Z"
      },
      {
        "duration": 26,
        "start_time": "2022-02-07T10:16:23.988Z"
      },
      {
        "duration": 38,
        "start_time": "2022-02-07T10:16:56.333Z"
      },
      {
        "duration": 28,
        "start_time": "2022-02-07T10:17:00.481Z"
      },
      {
        "duration": 27,
        "start_time": "2022-02-07T10:17:07.552Z"
      },
      {
        "duration": 25,
        "start_time": "2022-02-07T10:18:13.093Z"
      },
      {
        "duration": 11,
        "start_time": "2022-02-07T10:18:15.256Z"
      },
      {
        "duration": 13,
        "start_time": "2022-02-07T10:18:22.310Z"
      },
      {
        "duration": 239,
        "start_time": "2022-02-07T10:18:36.013Z"
      },
      {
        "duration": 23,
        "start_time": "2022-02-07T10:18:41.661Z"
      },
      {
        "duration": 13,
        "start_time": "2022-02-07T10:18:46.536Z"
      },
      {
        "duration": 17,
        "start_time": "2022-02-07T10:19:41.864Z"
      },
      {
        "duration": 10,
        "start_time": "2022-02-07T10:19:43.280Z"
      },
      {
        "duration": 3,
        "start_time": "2022-02-07T10:19:52.120Z"
      },
      {
        "duration": 9,
        "start_time": "2022-02-07T10:19:53.584Z"
      },
      {
        "duration": 28,
        "start_time": "2022-02-07T10:20:23.196Z"
      },
      {
        "duration": 24,
        "start_time": "2022-02-07T10:20:33.064Z"
      },
      {
        "duration": 18,
        "start_time": "2022-02-07T10:21:27.739Z"
      },
      {
        "duration": 13,
        "start_time": "2022-02-07T10:21:29.307Z"
      },
      {
        "duration": 27,
        "start_time": "2022-02-07T10:24:57.864Z"
      },
      {
        "duration": 13,
        "start_time": "2022-02-07T10:25:00.820Z"
      },
      {
        "duration": 3,
        "start_time": "2022-02-07T10:25:05.028Z"
      },
      {
        "duration": 15,
        "start_time": "2022-02-07T10:25:05.558Z"
      },
      {
        "duration": 30,
        "start_time": "2022-02-07T10:25:09.983Z"
      },
      {
        "duration": 18,
        "start_time": "2022-02-07T10:25:44.324Z"
      },
      {
        "duration": 11,
        "start_time": "2022-02-07T10:25:45.140Z"
      },
      {
        "duration": 3,
        "start_time": "2022-02-07T10:25:47.594Z"
      },
      {
        "duration": 9,
        "start_time": "2022-02-07T10:25:56.092Z"
      },
      {
        "duration": 22,
        "start_time": "2022-02-07T10:26:04.724Z"
      },
      {
        "duration": 237,
        "start_time": "2022-02-07T10:26:10.264Z"
      },
      {
        "duration": 23,
        "start_time": "2022-02-07T10:26:23.672Z"
      },
      {
        "duration": 8,
        "start_time": "2022-02-07T10:39:01.575Z"
      },
      {
        "duration": 7,
        "start_time": "2022-02-07T10:39:03.359Z"
      },
      {
        "duration": 1053,
        "start_time": "2022-02-07T10:39:05.440Z"
      },
      {
        "duration": 858,
        "start_time": "2022-02-07T10:39:06.535Z"
      },
      {
        "duration": 858,
        "start_time": "2022-02-07T10:39:18.707Z"
      },
      {
        "duration": 6697,
        "start_time": "2022-02-07T10:42:37.902Z"
      },
      {
        "duration": 27,
        "start_time": "2022-02-07T10:43:35.006Z"
      },
      {
        "duration": 6138,
        "start_time": "2022-02-07T10:43:42.362Z"
      },
      {
        "duration": 1681,
        "start_time": "2022-02-07T10:43:56.623Z"
      },
      {
        "duration": 510,
        "start_time": "2022-02-07T10:43:58.307Z"
      },
      {
        "duration": 30,
        "start_time": "2022-02-07T10:43:58.819Z"
      },
      {
        "duration": 18,
        "start_time": "2022-02-07T10:43:58.852Z"
      },
      {
        "duration": 65,
        "start_time": "2022-02-07T10:43:58.872Z"
      },
      {
        "duration": 23,
        "start_time": "2022-02-07T10:43:58.939Z"
      },
      {
        "duration": 15,
        "start_time": "2022-02-07T10:43:58.964Z"
      },
      {
        "duration": 76,
        "start_time": "2022-02-07T10:43:58.983Z"
      },
      {
        "duration": 22,
        "start_time": "2022-02-07T10:43:59.062Z"
      },
      {
        "duration": 16,
        "start_time": "2022-02-07T10:43:59.087Z"
      },
      {
        "duration": 28,
        "start_time": "2022-02-07T10:43:59.106Z"
      },
      {
        "duration": 24,
        "start_time": "2022-02-07T10:43:59.136Z"
      },
      {
        "duration": 21,
        "start_time": "2022-02-07T10:43:59.162Z"
      },
      {
        "duration": 22,
        "start_time": "2022-02-07T10:43:59.185Z"
      },
      {
        "duration": 36,
        "start_time": "2022-02-07T10:43:59.210Z"
      },
      {
        "duration": 220,
        "start_time": "2022-02-07T10:43:59.248Z"
      },
      {
        "duration": 9,
        "start_time": "2022-02-07T10:43:59.471Z"
      },
      {
        "duration": 8,
        "start_time": "2022-02-07T10:43:59.481Z"
      },
      {
        "duration": 15,
        "start_time": "2022-02-07T10:43:59.492Z"
      },
      {
        "duration": 64,
        "start_time": "2022-02-07T10:43:59.509Z"
      },
      {
        "duration": 32,
        "start_time": "2022-02-07T10:43:59.576Z"
      },
      {
        "duration": 152,
        "start_time": "2022-02-07T10:43:59.610Z"
      },
      {
        "duration": 6,
        "start_time": "2022-02-07T10:43:59.768Z"
      },
      {
        "duration": 29,
        "start_time": "2022-02-07T10:43:59.778Z"
      },
      {
        "duration": 33,
        "start_time": "2022-02-07T10:43:59.810Z"
      },
      {
        "duration": 59,
        "start_time": "2022-02-07T10:43:59.845Z"
      },
      {
        "duration": 55,
        "start_time": "2022-02-07T10:43:59.907Z"
      },
      {
        "duration": 26,
        "start_time": "2022-02-07T10:43:59.964Z"
      },
      {
        "duration": 123,
        "start_time": "2022-02-07T10:43:59.993Z"
      },
      {
        "duration": 3,
        "start_time": "2022-02-07T10:44:00.118Z"
      },
      {
        "duration": 12,
        "start_time": "2022-02-07T10:44:00.132Z"
      },
      {
        "duration": 54,
        "start_time": "2022-02-07T10:44:00.147Z"
      },
      {
        "duration": 3,
        "start_time": "2022-02-07T10:44:00.204Z"
      },
      {
        "duration": 34,
        "start_time": "2022-02-07T10:44:00.209Z"
      },
      {
        "duration": 12,
        "start_time": "2022-02-07T10:44:00.245Z"
      },
      {
        "duration": 22,
        "start_time": "2022-02-07T10:44:00.260Z"
      },
      {
        "duration": 58,
        "start_time": "2022-02-07T10:44:00.285Z"
      },
      {
        "duration": 4,
        "start_time": "2022-02-07T10:44:00.345Z"
      },
      {
        "duration": 29,
        "start_time": "2022-02-07T10:44:00.351Z"
      },
      {
        "duration": 26,
        "start_time": "2022-02-07T10:44:00.383Z"
      },
      {
        "duration": 34,
        "start_time": "2022-02-07T10:44:00.411Z"
      },
      {
        "duration": 48,
        "start_time": "2022-02-07T10:44:00.447Z"
      },
      {
        "duration": 9,
        "start_time": "2022-02-07T10:44:00.497Z"
      },
      {
        "duration": 35,
        "start_time": "2022-02-07T10:44:00.508Z"
      },
      {
        "duration": 27,
        "start_time": "2022-02-07T10:44:00.546Z"
      },
      {
        "duration": 23,
        "start_time": "2022-02-07T10:44:00.576Z"
      },
      {
        "duration": 35,
        "start_time": "2022-02-07T10:44:00.601Z"
      },
      {
        "duration": 18,
        "start_time": "2022-02-07T10:44:00.639Z"
      },
      {
        "duration": 15,
        "start_time": "2022-02-07T10:44:00.659Z"
      },
      {
        "duration": 32,
        "start_time": "2022-02-07T10:44:00.676Z"
      },
      {
        "duration": 24,
        "start_time": "2022-02-07T10:44:00.710Z"
      },
      {
        "duration": 26,
        "start_time": "2022-02-07T10:44:00.737Z"
      },
      {
        "duration": 26,
        "start_time": "2022-02-07T10:44:00.765Z"
      },
      {
        "duration": 28,
        "start_time": "2022-02-07T10:44:00.793Z"
      },
      {
        "duration": 34,
        "start_time": "2022-02-07T10:44:00.824Z"
      },
      {
        "duration": 22,
        "start_time": "2022-02-07T10:44:00.860Z"
      },
      {
        "duration": 40,
        "start_time": "2022-02-07T10:44:00.885Z"
      },
      {
        "duration": 33,
        "start_time": "2022-02-07T10:44:00.927Z"
      },
      {
        "duration": 35,
        "start_time": "2022-02-07T10:44:00.963Z"
      },
      {
        "duration": 36,
        "start_time": "2022-02-07T10:44:01.001Z"
      },
      {
        "duration": 32,
        "start_time": "2022-02-07T10:44:01.040Z"
      },
      {
        "duration": 29,
        "start_time": "2022-02-07T10:44:01.074Z"
      },
      {
        "duration": 30,
        "start_time": "2022-02-07T10:44:01.105Z"
      },
      {
        "duration": 32,
        "start_time": "2022-02-07T10:44:01.138Z"
      },
      {
        "duration": 33,
        "start_time": "2022-02-07T10:44:01.172Z"
      },
      {
        "duration": 40,
        "start_time": "2022-02-07T10:44:01.207Z"
      },
      {
        "duration": 25,
        "start_time": "2022-02-07T10:44:01.249Z"
      },
      {
        "duration": 61,
        "start_time": "2022-02-07T10:44:01.282Z"
      },
      {
        "duration": 44,
        "start_time": "2022-02-07T10:44:01.347Z"
      },
      {
        "duration": 47,
        "start_time": "2022-02-07T10:44:01.394Z"
      },
      {
        "duration": 25,
        "start_time": "2022-02-07T10:44:01.444Z"
      },
      {
        "duration": 18,
        "start_time": "2022-02-07T10:44:01.472Z"
      },
      {
        "duration": 40,
        "start_time": "2022-02-07T10:44:01.493Z"
      },
      {
        "duration": 13,
        "start_time": "2022-02-07T10:44:01.535Z"
      },
      {
        "duration": 22,
        "start_time": "2022-02-07T10:44:01.550Z"
      },
      {
        "duration": 25,
        "start_time": "2022-02-07T10:44:01.575Z"
      },
      {
        "duration": 29,
        "start_time": "2022-02-07T10:44:01.603Z"
      },
      {
        "duration": 13,
        "start_time": "2022-02-07T10:44:01.634Z"
      },
      {
        "duration": 28,
        "start_time": "2022-02-07T10:44:01.649Z"
      },
      {
        "duration": 21,
        "start_time": "2022-02-07T10:44:01.680Z"
      },
      {
        "duration": 31,
        "start_time": "2022-02-07T10:44:01.704Z"
      },
      {
        "duration": 15,
        "start_time": "2022-02-07T10:44:01.737Z"
      },
      {
        "duration": 985,
        "start_time": "2022-02-07T10:44:01.754Z"
      },
      {
        "duration": 917,
        "start_time": "2022-02-07T10:44:02.742Z"
      },
      {
        "duration": 930,
        "start_time": "2022-02-07T10:44:03.662Z"
      },
      {
        "duration": 413,
        "start_time": "2022-02-07T10:44:04.594Z"
      },
      {
        "duration": 308,
        "start_time": "2022-02-07T10:44:04.701Z"
      },
      {
        "duration": 302,
        "start_time": "2022-02-07T10:44:04.708Z"
      },
      {
        "duration": 298,
        "start_time": "2022-02-07T10:44:04.714Z"
      },
      {
        "duration": 293,
        "start_time": "2022-02-07T10:44:04.720Z"
      },
      {
        "duration": 287,
        "start_time": "2022-02-07T10:44:04.727Z"
      },
      {
        "duration": 284,
        "start_time": "2022-02-07T10:44:04.732Z"
      },
      {
        "duration": 10,
        "start_time": "2022-02-07T10:45:52.796Z"
      },
      {
        "duration": 12,
        "start_time": "2022-02-07T10:46:04.784Z"
      },
      {
        "duration": 16,
        "start_time": "2022-02-07T10:46:32.420Z"
      },
      {
        "duration": 23,
        "start_time": "2022-02-07T10:51:00.467Z"
      },
      {
        "duration": 24,
        "start_time": "2022-02-07T10:51:11.243Z"
      },
      {
        "duration": 7,
        "start_time": "2022-02-07T10:53:14.995Z"
      },
      {
        "duration": 24,
        "start_time": "2022-02-07T10:53:16.235Z"
      },
      {
        "duration": 6,
        "start_time": "2022-02-07T10:53:28.831Z"
      },
      {
        "duration": 1515,
        "start_time": "2022-02-07T10:58:29.971Z"
      },
      {
        "duration": 493,
        "start_time": "2022-02-07T10:58:31.489Z"
      },
      {
        "duration": 26,
        "start_time": "2022-02-07T10:58:31.985Z"
      },
      {
        "duration": 15,
        "start_time": "2022-02-07T10:58:32.015Z"
      },
      {
        "duration": 39,
        "start_time": "2022-02-07T10:58:32.032Z"
      },
      {
        "duration": 22,
        "start_time": "2022-02-07T10:58:32.073Z"
      },
      {
        "duration": 35,
        "start_time": "2022-02-07T10:58:32.097Z"
      },
      {
        "duration": 40,
        "start_time": "2022-02-07T10:58:32.136Z"
      },
      {
        "duration": 18,
        "start_time": "2022-02-07T10:58:32.179Z"
      },
      {
        "duration": 41,
        "start_time": "2022-02-07T10:58:32.200Z"
      },
      {
        "duration": 13,
        "start_time": "2022-02-07T10:58:32.244Z"
      },
      {
        "duration": 17,
        "start_time": "2022-02-07T10:58:32.260Z"
      },
      {
        "duration": 10,
        "start_time": "2022-02-07T10:58:32.280Z"
      },
      {
        "duration": 52,
        "start_time": "2022-02-07T10:58:32.292Z"
      },
      {
        "duration": 34,
        "start_time": "2022-02-07T10:58:32.347Z"
      },
      {
        "duration": 197,
        "start_time": "2022-02-07T10:58:32.384Z"
      },
      {
        "duration": 9,
        "start_time": "2022-02-07T10:58:32.583Z"
      },
      {
        "duration": 13,
        "start_time": "2022-02-07T10:58:32.594Z"
      },
      {
        "duration": 24,
        "start_time": "2022-02-07T10:58:32.609Z"
      },
      {
        "duration": 45,
        "start_time": "2022-02-07T10:58:32.636Z"
      },
      {
        "duration": 64,
        "start_time": "2022-02-07T10:58:32.684Z"
      },
      {
        "duration": 141,
        "start_time": "2022-02-07T10:58:32.751Z"
      },
      {
        "duration": 6,
        "start_time": "2022-02-07T10:58:32.898Z"
      },
      {
        "duration": 45,
        "start_time": "2022-02-07T10:58:32.908Z"
      },
      {
        "duration": 21,
        "start_time": "2022-02-07T10:58:32.956Z"
      },
      {
        "duration": 92,
        "start_time": "2022-02-07T10:58:32.979Z"
      },
      {
        "duration": 32,
        "start_time": "2022-02-07T10:58:33.073Z"
      },
      {
        "duration": 39,
        "start_time": "2022-02-07T10:58:33.107Z"
      },
      {
        "duration": 110,
        "start_time": "2022-02-07T10:58:33.148Z"
      },
      {
        "duration": 3,
        "start_time": "2022-02-07T10:58:33.260Z"
      },
      {
        "duration": 16,
        "start_time": "2022-02-07T10:58:33.265Z"
      },
      {
        "duration": 68,
        "start_time": "2022-02-07T10:58:33.283Z"
      },
      {
        "duration": 4,
        "start_time": "2022-02-07T10:58:33.353Z"
      },
      {
        "duration": 13,
        "start_time": "2022-02-07T10:58:33.359Z"
      },
      {
        "duration": 10,
        "start_time": "2022-02-07T10:58:33.374Z"
      },
      {
        "duration": 16,
        "start_time": "2022-02-07T10:58:33.386Z"
      },
      {
        "duration": 58,
        "start_time": "2022-02-07T10:58:33.405Z"
      },
      {
        "duration": 4,
        "start_time": "2022-02-07T10:58:33.465Z"
      },
      {
        "duration": 15,
        "start_time": "2022-02-07T10:58:33.471Z"
      },
      {
        "duration": 12,
        "start_time": "2022-02-07T10:58:33.488Z"
      },
      {
        "duration": 42,
        "start_time": "2022-02-07T10:58:33.502Z"
      },
      {
        "duration": 31,
        "start_time": "2022-02-07T10:58:33.547Z"
      },
      {
        "duration": 8,
        "start_time": "2022-02-07T10:58:33.581Z"
      },
      {
        "duration": 7,
        "start_time": "2022-02-07T10:58:33.591Z"
      },
      {
        "duration": 31,
        "start_time": "2022-02-07T10:58:33.601Z"
      },
      {
        "duration": 13,
        "start_time": "2022-02-07T10:58:33.635Z"
      },
      {
        "duration": 13,
        "start_time": "2022-02-07T10:58:33.650Z"
      },
      {
        "duration": 14,
        "start_time": "2022-02-07T10:58:33.665Z"
      },
      {
        "duration": 9,
        "start_time": "2022-02-07T10:58:33.681Z"
      },
      {
        "duration": 46,
        "start_time": "2022-02-07T10:58:33.692Z"
      },
      {
        "duration": 12,
        "start_time": "2022-02-07T10:58:33.740Z"
      },
      {
        "duration": 11,
        "start_time": "2022-02-07T10:58:33.755Z"
      },
      {
        "duration": 17,
        "start_time": "2022-02-07T10:58:33.769Z"
      },
      {
        "duration": 49,
        "start_time": "2022-02-07T10:58:33.789Z"
      },
      {
        "duration": 19,
        "start_time": "2022-02-07T10:58:33.841Z"
      },
      {
        "duration": 6,
        "start_time": "2022-02-07T10:58:33.862Z"
      },
      {
        "duration": 19,
        "start_time": "2022-02-07T10:58:33.870Z"
      },
      {
        "duration": 49,
        "start_time": "2022-02-07T10:58:33.892Z"
      },
      {
        "duration": 9,
        "start_time": "2022-02-07T10:58:33.943Z"
      },
      {
        "duration": 20,
        "start_time": "2022-02-07T10:58:33.954Z"
      },
      {
        "duration": 11,
        "start_time": "2022-02-07T10:58:33.977Z"
      },
      {
        "duration": 41,
        "start_time": "2022-02-07T10:58:33.991Z"
      },
      {
        "duration": 9,
        "start_time": "2022-02-07T10:58:34.034Z"
      },
      {
        "duration": 18,
        "start_time": "2022-02-07T10:58:34.046Z"
      },
      {
        "duration": 21,
        "start_time": "2022-02-07T10:58:34.066Z"
      },
      {
        "duration": 66,
        "start_time": "2022-02-07T10:58:34.090Z"
      },
      {
        "duration": 24,
        "start_time": "2022-02-07T10:58:34.159Z"
      },
      {
        "duration": 59,
        "start_time": "2022-02-07T10:58:34.190Z"
      },
      {
        "duration": 41,
        "start_time": "2022-02-07T10:58:34.252Z"
      },
      {
        "duration": 48,
        "start_time": "2022-02-07T10:58:34.295Z"
      },
      {
        "duration": 9,
        "start_time": "2022-02-07T10:58:34.346Z"
      },
      {
        "duration": 11,
        "start_time": "2022-02-07T10:58:34.357Z"
      },
      {
        "duration": 18,
        "start_time": "2022-02-07T10:58:34.370Z"
      },
      {
        "duration": 49,
        "start_time": "2022-02-07T10:58:34.390Z"
      },
      {
        "duration": 16,
        "start_time": "2022-02-07T10:58:34.442Z"
      },
      {
        "duration": 10,
        "start_time": "2022-02-07T10:58:34.461Z"
      },
      {
        "duration": 6,
        "start_time": "2022-02-07T10:58:34.473Z"
      },
      {
        "duration": 12,
        "start_time": "2022-02-07T10:58:34.481Z"
      },
      {
        "duration": 54,
        "start_time": "2022-02-07T10:58:34.495Z"
      },
      {
        "duration": 21,
        "start_time": "2022-02-07T10:58:34.551Z"
      },
      {
        "duration": 6,
        "start_time": "2022-02-07T10:58:34.574Z"
      },
      {
        "duration": 7,
        "start_time": "2022-02-07T10:58:34.582Z"
      },
      {
        "duration": 981,
        "start_time": "2022-02-07T10:58:34.592Z"
      },
      {
        "duration": 869,
        "start_time": "2022-02-07T10:58:35.576Z"
      },
      {
        "duration": 892,
        "start_time": "2022-02-07T10:58:36.448Z"
      },
      {
        "duration": 6,
        "start_time": "2022-02-07T10:58:37.343Z"
      },
      {
        "duration": 25,
        "start_time": "2022-02-07T10:58:37.352Z"
      },
      {
        "duration": 7,
        "start_time": "2022-02-07T10:58:37.380Z"
      },
      {
        "duration": 43,
        "start_time": "2022-02-07T10:58:37.390Z"
      },
      {
        "duration": 7,
        "start_time": "2022-02-07T10:58:37.435Z"
      },
      {
        "duration": 107,
        "start_time": "2022-02-07T10:58:37.444Z"
      },
      {
        "duration": 8,
        "start_time": "2022-02-07T10:58:37.553Z"
      },
      {
        "duration": 8,
        "start_time": "2022-02-07T10:58:37.563Z"
      },
      {
        "duration": 460,
        "start_time": "2022-02-07T11:02:30.240Z"
      },
      {
        "duration": 221,
        "start_time": "2022-02-07T11:02:42.535Z"
      },
      {
        "duration": 596,
        "start_time": "2022-02-07T11:02:55.903Z"
      },
      {
        "duration": 213,
        "start_time": "2022-02-07T11:03:04.591Z"
      },
      {
        "duration": 221,
        "start_time": "2022-02-07T11:03:11.955Z"
      },
      {
        "duration": 1444,
        "start_time": "2022-02-07T11:04:22.152Z"
      },
      {
        "duration": 482,
        "start_time": "2022-02-07T11:04:23.598Z"
      },
      {
        "duration": 28,
        "start_time": "2022-02-07T11:04:24.083Z"
      },
      {
        "duration": 17,
        "start_time": "2022-02-07T11:04:24.113Z"
      },
      {
        "duration": 42,
        "start_time": "2022-02-07T11:04:24.132Z"
      },
      {
        "duration": 22,
        "start_time": "2022-02-07T11:04:24.177Z"
      },
      {
        "duration": 40,
        "start_time": "2022-02-07T11:04:24.202Z"
      },
      {
        "duration": 41,
        "start_time": "2022-02-07T11:04:24.246Z"
      },
      {
        "duration": 18,
        "start_time": "2022-02-07T11:04:24.290Z"
      },
      {
        "duration": 11,
        "start_time": "2022-02-07T11:04:24.333Z"
      },
      {
        "duration": 11,
        "start_time": "2022-02-07T11:04:24.347Z"
      },
      {
        "duration": 13,
        "start_time": "2022-02-07T11:04:24.360Z"
      },
      {
        "duration": 11,
        "start_time": "2022-02-07T11:04:24.375Z"
      },
      {
        "duration": 57,
        "start_time": "2022-02-07T11:04:24.388Z"
      },
      {
        "duration": 23,
        "start_time": "2022-02-07T11:04:24.447Z"
      },
      {
        "duration": 261,
        "start_time": "2022-02-07T11:04:24.473Z"
      },
      {
        "duration": 9,
        "start_time": "2022-02-07T11:04:24.736Z"
      },
      {
        "duration": 12,
        "start_time": "2022-02-07T11:04:24.747Z"
      },
      {
        "duration": 15,
        "start_time": "2022-02-07T11:04:24.762Z"
      },
      {
        "duration": 68,
        "start_time": "2022-02-07T11:04:24.779Z"
      },
      {
        "duration": 31,
        "start_time": "2022-02-07T11:04:24.850Z"
      },
      {
        "duration": 136,
        "start_time": "2022-02-07T11:04:24.884Z"
      },
      {
        "duration": 10,
        "start_time": "2022-02-07T11:04:25.026Z"
      },
      {
        "duration": 25,
        "start_time": "2022-02-07T11:04:25.040Z"
      },
      {
        "duration": 21,
        "start_time": "2022-02-07T11:04:25.067Z"
      },
      {
        "duration": 83,
        "start_time": "2022-02-07T11:04:25.090Z"
      },
      {
        "duration": 31,
        "start_time": "2022-02-07T11:04:25.176Z"
      },
      {
        "duration": 36,
        "start_time": "2022-02-07T11:04:25.209Z"
      },
      {
        "duration": 114,
        "start_time": "2022-02-07T11:04:25.247Z"
      },
      {
        "duration": 3,
        "start_time": "2022-02-07T11:04:25.364Z"
      },
      {
        "duration": 17,
        "start_time": "2022-02-07T11:04:25.369Z"
      },
      {
        "duration": 70,
        "start_time": "2022-02-07T11:04:25.389Z"
      },
      {
        "duration": 4,
        "start_time": "2022-02-07T11:04:25.461Z"
      },
      {
        "duration": 16,
        "start_time": "2022-02-07T11:04:25.467Z"
      },
      {
        "duration": 11,
        "start_time": "2022-02-07T11:04:25.486Z"
      },
      {
        "duration": 34,
        "start_time": "2022-02-07T11:04:25.499Z"
      },
      {
        "duration": 32,
        "start_time": "2022-02-07T11:04:25.536Z"
      },
      {
        "duration": 3,
        "start_time": "2022-02-07T11:04:25.571Z"
      },
      {
        "duration": 14,
        "start_time": "2022-02-07T11:04:25.576Z"
      },
      {
        "duration": 40,
        "start_time": "2022-02-07T11:04:25.592Z"
      },
      {
        "duration": 13,
        "start_time": "2022-02-07T11:04:25.635Z"
      },
      {
        "duration": 32,
        "start_time": "2022-02-07T11:04:25.650Z"
      },
      {
        "duration": 8,
        "start_time": "2022-02-07T11:04:25.685Z"
      },
      {
        "duration": 5,
        "start_time": "2022-02-07T11:04:25.695Z"
      },
      {
        "duration": 7,
        "start_time": "2022-02-07T11:04:25.731Z"
      },
      {
        "duration": 14,
        "start_time": "2022-02-07T11:04:25.741Z"
      },
      {
        "duration": 11,
        "start_time": "2022-02-07T11:04:25.758Z"
      },
      {
        "duration": 14,
        "start_time": "2022-02-07T11:04:25.772Z"
      },
      {
        "duration": 49,
        "start_time": "2022-02-07T11:04:25.788Z"
      },
      {
        "duration": 24,
        "start_time": "2022-02-07T11:04:25.840Z"
      },
      {
        "duration": 12,
        "start_time": "2022-02-07T11:04:25.866Z"
      },
      {
        "duration": 11,
        "start_time": "2022-02-07T11:04:25.880Z"
      },
      {
        "duration": 39,
        "start_time": "2022-02-07T11:04:25.894Z"
      },
      {
        "duration": 12,
        "start_time": "2022-02-07T11:04:25.935Z"
      },
      {
        "duration": 18,
        "start_time": "2022-02-07T11:04:25.950Z"
      },
      {
        "duration": 4,
        "start_time": "2022-02-07T11:04:25.971Z"
      },
      {
        "duration": 56,
        "start_time": "2022-02-07T11:04:25.978Z"
      },
      {
        "duration": 14,
        "start_time": "2022-02-07T11:04:26.037Z"
      },
      {
        "duration": 10,
        "start_time": "2022-02-07T11:04:26.054Z"
      },
      {
        "duration": 19,
        "start_time": "2022-02-07T11:04:26.067Z"
      },
      {
        "duration": 49,
        "start_time": "2022-02-07T11:04:26.088Z"
      },
      {
        "duration": 7,
        "start_time": "2022-02-07T11:04:26.140Z"
      },
      {
        "duration": 18,
        "start_time": "2022-02-07T11:04:26.149Z"
      },
      {
        "duration": 26,
        "start_time": "2022-02-07T11:04:26.169Z"
      },
      {
        "duration": 39,
        "start_time": "2022-02-07T11:04:26.197Z"
      },
      {
        "duration": 28,
        "start_time": "2022-02-07T11:04:26.238Z"
      },
      {
        "duration": 29,
        "start_time": "2022-02-07T11:04:26.269Z"
      },
      {
        "duration": 55,
        "start_time": "2022-02-07T11:04:26.307Z"
      },
      {
        "duration": 41,
        "start_time": "2022-02-07T11:04:26.365Z"
      },
      {
        "duration": 44,
        "start_time": "2022-02-07T11:04:26.408Z"
      },
      {
        "duration": 20,
        "start_time": "2022-02-07T11:04:26.454Z"
      },
      {
        "duration": 24,
        "start_time": "2022-02-07T11:04:26.476Z"
      },
      {
        "duration": 29,
        "start_time": "2022-02-07T11:04:26.503Z"
      },
      {
        "duration": 13,
        "start_time": "2022-02-07T11:04:26.535Z"
      },
      {
        "duration": 24,
        "start_time": "2022-02-07T11:04:26.550Z"
      },
      {
        "duration": 9,
        "start_time": "2022-02-07T11:04:26.576Z"
      },
      {
        "duration": 10,
        "start_time": "2022-02-07T11:04:26.587Z"
      },
      {
        "duration": 35,
        "start_time": "2022-02-07T11:04:26.599Z"
      },
      {
        "duration": 26,
        "start_time": "2022-02-07T11:04:26.636Z"
      },
      {
        "duration": 21,
        "start_time": "2022-02-07T11:04:26.664Z"
      },
      {
        "duration": 9,
        "start_time": "2022-02-07T11:04:26.687Z"
      },
      {
        "duration": 34,
        "start_time": "2022-02-07T11:04:26.698Z"
      },
      {
        "duration": 983,
        "start_time": "2022-02-07T11:04:26.734Z"
      },
      {
        "duration": 885,
        "start_time": "2022-02-07T11:04:27.719Z"
      },
      {
        "duration": 878,
        "start_time": "2022-02-07T11:04:28.606Z"
      },
      {
        "duration": 8,
        "start_time": "2022-02-07T11:04:29.486Z"
      },
      {
        "duration": 41,
        "start_time": "2022-02-07T11:04:29.496Z"
      },
      {
        "duration": 8,
        "start_time": "2022-02-07T11:04:29.539Z"
      },
      {
        "duration": 7,
        "start_time": "2022-02-07T11:04:29.549Z"
      },
      {
        "duration": 7,
        "start_time": "2022-02-07T11:04:29.559Z"
      },
      {
        "duration": 118,
        "start_time": "2022-02-07T11:04:29.569Z"
      },
      {
        "duration": 9,
        "start_time": "2022-02-07T11:04:29.689Z"
      },
      {
        "duration": 8,
        "start_time": "2022-02-07T11:04:29.701Z"
      },
      {
        "duration": 6762,
        "start_time": "2022-02-07T11:06:22.747Z"
      },
      {
        "duration": 307,
        "start_time": "2022-02-07T11:06:29.205Z"
      },
      {
        "duration": 11,
        "start_time": "2022-02-07T11:08:57.087Z"
      },
      {
        "duration": 8,
        "start_time": "2022-02-07T11:09:23.300Z"
      },
      {
        "duration": 5,
        "start_time": "2022-02-07T11:09:39.512Z"
      },
      {
        "duration": 6,
        "start_time": "2022-02-07T11:09:49.788Z"
      },
      {
        "duration": 13,
        "start_time": "2022-02-07T11:12:41.807Z"
      },
      {
        "duration": 269,
        "start_time": "2022-02-07T11:12:48.719Z"
      },
      {
        "duration": 14,
        "start_time": "2022-02-07T11:12:57.328Z"
      },
      {
        "duration": 1431,
        "start_time": "2022-02-07T11:19:31.158Z"
      },
      {
        "duration": 506,
        "start_time": "2022-02-07T11:19:32.593Z"
      },
      {
        "duration": 28,
        "start_time": "2022-02-07T11:19:33.102Z"
      },
      {
        "duration": 18,
        "start_time": "2022-02-07T11:19:33.132Z"
      },
      {
        "duration": 39,
        "start_time": "2022-02-07T11:19:33.152Z"
      },
      {
        "duration": 48,
        "start_time": "2022-02-07T11:19:33.193Z"
      },
      {
        "duration": 15,
        "start_time": "2022-02-07T11:19:33.244Z"
      },
      {
        "duration": 72,
        "start_time": "2022-02-07T11:19:33.263Z"
      },
      {
        "duration": 20,
        "start_time": "2022-02-07T11:19:33.338Z"
      },
      {
        "duration": 12,
        "start_time": "2022-02-07T11:19:33.361Z"
      },
      {
        "duration": 13,
        "start_time": "2022-02-07T11:19:33.375Z"
      },
      {
        "duration": 51,
        "start_time": "2022-02-07T11:19:33.390Z"
      },
      {
        "duration": 16,
        "start_time": "2022-02-07T11:19:33.443Z"
      },
      {
        "duration": 34,
        "start_time": "2022-02-07T11:19:33.462Z"
      },
      {
        "duration": 45,
        "start_time": "2022-02-07T11:19:33.499Z"
      },
      {
        "duration": 236,
        "start_time": "2022-02-07T11:19:33.546Z"
      },
      {
        "duration": 8,
        "start_time": "2022-02-07T11:19:33.785Z"
      },
      {
        "duration": 36,
        "start_time": "2022-02-07T11:19:33.796Z"
      },
      {
        "duration": 15,
        "start_time": "2022-02-07T11:19:33.835Z"
      },
      {
        "duration": 42,
        "start_time": "2022-02-07T11:19:33.853Z"
      },
      {
        "duration": 53,
        "start_time": "2022-02-07T11:19:33.897Z"
      },
      {
        "duration": 133,
        "start_time": "2022-02-07T11:19:33.953Z"
      },
      {
        "duration": 7,
        "start_time": "2022-02-07T11:19:34.095Z"
      },
      {
        "duration": 49,
        "start_time": "2022-02-07T11:19:34.106Z"
      },
      {
        "duration": 21,
        "start_time": "2022-02-07T11:19:34.157Z"
      },
      {
        "duration": 75,
        "start_time": "2022-02-07T11:19:34.180Z"
      },
      {
        "duration": 32,
        "start_time": "2022-02-07T11:19:34.258Z"
      },
      {
        "duration": 40,
        "start_time": "2022-02-07T11:19:34.293Z"
      },
      {
        "duration": 107,
        "start_time": "2022-02-07T11:19:34.336Z"
      },
      {
        "duration": 3,
        "start_time": "2022-02-07T11:19:34.446Z"
      },
      {
        "duration": 31,
        "start_time": "2022-02-07T11:19:34.452Z"
      },
      {
        "duration": 61,
        "start_time": "2022-02-07T11:19:34.485Z"
      },
      {
        "duration": 4,
        "start_time": "2022-02-07T11:19:34.548Z"
      },
      {
        "duration": 14,
        "start_time": "2022-02-07T11:19:34.554Z"
      },
      {
        "duration": 13,
        "start_time": "2022-02-07T11:19:34.570Z"
      },
      {
        "duration": 17,
        "start_time": "2022-02-07T11:19:34.585Z"
      },
      {
        "duration": 58,
        "start_time": "2022-02-07T11:19:34.604Z"
      },
      {
        "duration": 5,
        "start_time": "2022-02-07T11:19:34.665Z"
      },
      {
        "duration": 14,
        "start_time": "2022-02-07T11:19:34.673Z"
      },
      {
        "duration": 49,
        "start_time": "2022-02-07T11:19:34.691Z"
      },
      {
        "duration": 14,
        "start_time": "2022-02-07T11:19:34.743Z"
      },
      {
        "duration": 32,
        "start_time": "2022-02-07T11:19:34.759Z"
      },
      {
        "duration": 7,
        "start_time": "2022-02-07T11:19:34.794Z"
      },
      {
        "duration": 5,
        "start_time": "2022-02-07T11:19:34.833Z"
      },
      {
        "duration": 14,
        "start_time": "2022-02-07T11:19:34.841Z"
      },
      {
        "duration": 14,
        "start_time": "2022-02-07T11:19:34.857Z"
      },
      {
        "duration": 11,
        "start_time": "2022-02-07T11:19:34.873Z"
      },
      {
        "duration": 17,
        "start_time": "2022-02-07T11:19:34.886Z"
      },
      {
        "duration": 27,
        "start_time": "2022-02-07T11:19:34.905Z"
      },
      {
        "duration": 15,
        "start_time": "2022-02-07T11:19:34.936Z"
      },
      {
        "duration": 9,
        "start_time": "2022-02-07T11:19:34.955Z"
      },
      {
        "duration": 12,
        "start_time": "2022-02-07T11:19:34.966Z"
      },
      {
        "duration": 54,
        "start_time": "2022-02-07T11:19:34.980Z"
      },
      {
        "duration": 13,
        "start_time": "2022-02-07T11:19:35.036Z"
      },
      {
        "duration": 22,
        "start_time": "2022-02-07T11:19:35.051Z"
      },
      {
        "duration": 5,
        "start_time": "2022-02-07T11:19:35.075Z"
      },
      {
        "duration": 56,
        "start_time": "2022-02-07T11:19:35.082Z"
      },
      {
        "duration": 12,
        "start_time": "2022-02-07T11:19:35.141Z"
      },
      {
        "duration": 10,
        "start_time": "2022-02-07T11:19:35.156Z"
      },
      {
        "duration": 20,
        "start_time": "2022-02-07T11:19:35.169Z"
      },
      {
        "duration": 50,
        "start_time": "2022-02-07T11:19:35.192Z"
      },
      {
        "duration": 7,
        "start_time": "2022-02-07T11:19:35.244Z"
      },
      {
        "duration": 12,
        "start_time": "2022-02-07T11:19:35.253Z"
      },
      {
        "duration": 22,
        "start_time": "2022-02-07T11:19:35.267Z"
      },
      {
        "duration": 6,
        "start_time": "2022-02-07T11:19:35.332Z"
      },
      {
        "duration": 24,
        "start_time": "2022-02-07T11:19:35.340Z"
      },
      {
        "duration": 26,
        "start_time": "2022-02-07T11:19:35.366Z"
      },
      {
        "duration": 37,
        "start_time": "2022-02-07T11:19:35.437Z"
      },
      {
        "duration": 63,
        "start_time": "2022-02-07T11:19:35.478Z"
      },
      {
        "duration": 47,
        "start_time": "2022-02-07T11:19:35.543Z"
      },
      {
        "duration": 47,
        "start_time": "2022-02-07T11:19:35.593Z"
      },
      {
        "duration": 11,
        "start_time": "2022-02-07T11:19:35.643Z"
      },
      {
        "duration": 10,
        "start_time": "2022-02-07T11:19:35.657Z"
      },
      {
        "duration": 20,
        "start_time": "2022-02-07T11:19:35.669Z"
      },
      {
        "duration": 50,
        "start_time": "2022-02-07T11:19:35.691Z"
      },
      {
        "duration": 95,
        "start_time": "2022-02-07T11:19:35.744Z"
      },
      {
        "duration": 11,
        "start_time": "2022-02-07T11:19:35.841Z"
      },
      {
        "duration": 16,
        "start_time": "2022-02-07T11:19:35.855Z"
      },
      {
        "duration": 19,
        "start_time": "2022-02-07T11:19:35.873Z"
      },
      {
        "duration": 44,
        "start_time": "2022-02-07T11:19:35.894Z"
      },
      {
        "duration": 24,
        "start_time": "2022-02-07T11:19:35.941Z"
      },
      {
        "duration": 13,
        "start_time": "2022-02-07T11:19:35.967Z"
      },
      {
        "duration": 12,
        "start_time": "2022-02-07T11:19:35.982Z"
      },
      {
        "duration": 981,
        "start_time": "2022-02-07T11:19:35.996Z"
      },
      {
        "duration": 853,
        "start_time": "2022-02-07T11:19:36.979Z"
      },
      {
        "duration": 890,
        "start_time": "2022-02-07T11:19:37.834Z"
      },
      {
        "duration": 8,
        "start_time": "2022-02-07T11:19:38.733Z"
      },
      {
        "duration": 24,
        "start_time": "2022-02-07T11:19:38.744Z"
      },
      {
        "duration": 10,
        "start_time": "2022-02-07T11:19:38.771Z"
      },
      {
        "duration": 8,
        "start_time": "2022-02-07T11:19:38.784Z"
      },
      {
        "duration": 9,
        "start_time": "2022-02-07T11:19:38.833Z"
      },
      {
        "duration": 101,
        "start_time": "2022-02-07T11:19:38.844Z"
      },
      {
        "duration": 11,
        "start_time": "2022-02-07T11:19:38.948Z"
      },
      {
        "duration": 8,
        "start_time": "2022-02-07T11:19:38.962Z"
      }
    ],
    "kernelspec": {
      "display_name": "Python 3 (ipykernel)",
      "language": "python",
      "name": "python3"
    },
    "language_info": {
      "codemirror_mode": {
        "name": "ipython",
        "version": 3
      },
      "file_extension": ".py",
      "mimetype": "text/x-python",
      "name": "python",
      "nbconvert_exporter": "python",
      "pygments_lexer": "ipython3",
      "version": "3.9.5"
    },
    "toc": {
      "base_numbering": 1,
      "nav_menu": {},
      "number_sections": true,
      "sideBar": true,
      "skip_h1_title": true,
      "title_cell": "Table of Contents",
      "title_sidebar": "Contents",
      "toc_cell": false,
      "toc_position": {},
      "toc_section_display": true,
      "toc_window_display": false
    },
    "colab": {
      "name": "264b0e52-ee53-4b12-a9e0-a2024247e860.ipynb",
      "provenance": []
    }
  },
  "nbformat": 4,
  "nbformat_minor": 0
}