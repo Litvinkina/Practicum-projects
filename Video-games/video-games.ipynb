{
  "cells": [
    {
      "cell_type": "markdown",
      "metadata": {
        "id": "7dKCHk4WvzPv"
      },
      "source": [
        "# Определение успешности игр"
      ]
    },
    {
      "cell_type": "markdown",
      "metadata": {
        "id": "7Mc5J63hvzPw"
      },
      "source": [
        "Из открытых источников доступны исторические данные о продажах игр, оценки пользователей и экспертов, жанры и платформы (например, Xbox или PlayStation). Необходимо выявить определяющие успешность игры закономерности. "
      ]
    },
    {
      "cell_type": "markdown",
      "metadata": {
        "id": "H2CPCpgCvzPx"
      },
      "source": [
        "**Описание данных**\n",
        "- Name — название игры\n",
        "- Platform — платформа\n",
        "- Year_of_Release — год выпуска\n",
        "- Genre — жанр игры\n",
        "- NA_sales — продажи в Северной Америке (миллионы проданных копий)\n",
        "- EU_sales — продажи в Европе (миллионы проданных копий)\n",
        "- JP_sales — продажи в Японии (миллионы проданных копий)\n",
        "- Other_sales — продажи в других странах (миллионы проданных копий)\n",
        "- Critic_Score — оценка критиков (максимум 100)\n",
        "- User_Score — оценка пользователей (максимум 10)\n",
        "- Rating — рейтинг от организации ESRB (англ. Entertainment Software Rating Board). Эта ассоциация определяет рейтинг компьютерных игр и присваивает им подходящую возрастную категорию."
      ]
    },
    {
      "cell_type": "markdown",
      "metadata": {
        "id": "e-g-hKexvzPy"
      },
      "source": [
        "**Содержание**\n",
        "1. [Изучение данных из файла](#start)\n",
        "2. [Предобработка данных](#preprocessing)\n",
        "3. [Исследовательский анализ данных](#analytics)\n",
        "4. [Составление портрета пользователя каждого региона](#users)\n",
        "5. [Проверка гипотез](#check)\n",
        "6. [Общий вывод](#conclusion)"
      ]
    },
    {
      "cell_type": "markdown",
      "metadata": {
        "id": "cVq8VXAFvzP0"
      },
      "source": [
        "## Изучение данных из файла\n",
        "<a id=\"start\"></a>"
      ]
    },
    {
      "cell_type": "code",
      "execution_count": null,
      "metadata": {
        "id": "iMKt_mIzvzP1"
      },
      "outputs": [],
      "source": [
        "#загружаем нужные бибилиотеки\n",
        "import pandas as pd\n",
        "import numpy as np\n",
        "import matplotlib.pyplot as plt\n",
        "import seaborn as sns\n",
        "from scipy import stats as st"
      ]
    },
    {
      "cell_type": "code",
      "execution_count": null,
      "metadata": {
        "id": "ezqcSZLFvzP3"
      },
      "outputs": [],
      "source": [
        "video_data = pd.read_csv('/datasets/games.csv')"
      ]
    },
    {
      "cell_type": "code",
      "execution_count": null,
      "metadata": {
        "id": "5bH_2vJPvzP4",
        "outputId": "838e80b2-e278-45ec-ca26-90f54a4c36df"
      },
      "outputs": [
        {
          "data": {
            "text/html": [
              "<div>\n",
              "<style scoped>\n",
              "    .dataframe tbody tr th:only-of-type {\n",
              "        vertical-align: middle;\n",
              "    }\n",
              "\n",
              "    .dataframe tbody tr th {\n",
              "        vertical-align: top;\n",
              "    }\n",
              "\n",
              "    .dataframe thead th {\n",
              "        text-align: right;\n",
              "    }\n",
              "</style>\n",
              "<table border=\"1\" class=\"dataframe\">\n",
              "  <thead>\n",
              "    <tr style=\"text-align: right;\">\n",
              "      <th></th>\n",
              "      <th>Name</th>\n",
              "      <th>Platform</th>\n",
              "      <th>Year_of_Release</th>\n",
              "      <th>Genre</th>\n",
              "      <th>NA_sales</th>\n",
              "      <th>EU_sales</th>\n",
              "      <th>JP_sales</th>\n",
              "      <th>Other_sales</th>\n",
              "      <th>Critic_Score</th>\n",
              "      <th>User_Score</th>\n",
              "      <th>Rating</th>\n",
              "    </tr>\n",
              "  </thead>\n",
              "  <tbody>\n",
              "    <tr>\n",
              "      <td>0</td>\n",
              "      <td>Wii Sports</td>\n",
              "      <td>Wii</td>\n",
              "      <td>2006.0</td>\n",
              "      <td>Sports</td>\n",
              "      <td>41.36</td>\n",
              "      <td>28.96</td>\n",
              "      <td>3.77</td>\n",
              "      <td>8.45</td>\n",
              "      <td>76.0</td>\n",
              "      <td>8</td>\n",
              "      <td>E</td>\n",
              "    </tr>\n",
              "    <tr>\n",
              "      <td>1</td>\n",
              "      <td>Super Mario Bros.</td>\n",
              "      <td>NES</td>\n",
              "      <td>1985.0</td>\n",
              "      <td>Platform</td>\n",
              "      <td>29.08</td>\n",
              "      <td>3.58</td>\n",
              "      <td>6.81</td>\n",
              "      <td>0.77</td>\n",
              "      <td>NaN</td>\n",
              "      <td>NaN</td>\n",
              "      <td>NaN</td>\n",
              "    </tr>\n",
              "    <tr>\n",
              "      <td>2</td>\n",
              "      <td>Mario Kart Wii</td>\n",
              "      <td>Wii</td>\n",
              "      <td>2008.0</td>\n",
              "      <td>Racing</td>\n",
              "      <td>15.68</td>\n",
              "      <td>12.76</td>\n",
              "      <td>3.79</td>\n",
              "      <td>3.29</td>\n",
              "      <td>82.0</td>\n",
              "      <td>8.3</td>\n",
              "      <td>E</td>\n",
              "    </tr>\n",
              "    <tr>\n",
              "      <td>3</td>\n",
              "      <td>Wii Sports Resort</td>\n",
              "      <td>Wii</td>\n",
              "      <td>2009.0</td>\n",
              "      <td>Sports</td>\n",
              "      <td>15.61</td>\n",
              "      <td>10.93</td>\n",
              "      <td>3.28</td>\n",
              "      <td>2.95</td>\n",
              "      <td>80.0</td>\n",
              "      <td>8</td>\n",
              "      <td>E</td>\n",
              "    </tr>\n",
              "    <tr>\n",
              "      <td>4</td>\n",
              "      <td>Pokemon Red/Pokemon Blue</td>\n",
              "      <td>GB</td>\n",
              "      <td>1996.0</td>\n",
              "      <td>Role-Playing</td>\n",
              "      <td>11.27</td>\n",
              "      <td>8.89</td>\n",
              "      <td>10.22</td>\n",
              "      <td>1.00</td>\n",
              "      <td>NaN</td>\n",
              "      <td>NaN</td>\n",
              "      <td>NaN</td>\n",
              "    </tr>\n",
              "    <tr>\n",
              "      <td>5</td>\n",
              "      <td>Tetris</td>\n",
              "      <td>GB</td>\n",
              "      <td>1989.0</td>\n",
              "      <td>Puzzle</td>\n",
              "      <td>23.20</td>\n",
              "      <td>2.26</td>\n",
              "      <td>4.22</td>\n",
              "      <td>0.58</td>\n",
              "      <td>NaN</td>\n",
              "      <td>NaN</td>\n",
              "      <td>NaN</td>\n",
              "    </tr>\n",
              "    <tr>\n",
              "      <td>6</td>\n",
              "      <td>New Super Mario Bros.</td>\n",
              "      <td>DS</td>\n",
              "      <td>2006.0</td>\n",
              "      <td>Platform</td>\n",
              "      <td>11.28</td>\n",
              "      <td>9.14</td>\n",
              "      <td>6.50</td>\n",
              "      <td>2.88</td>\n",
              "      <td>89.0</td>\n",
              "      <td>8.5</td>\n",
              "      <td>E</td>\n",
              "    </tr>\n",
              "    <tr>\n",
              "      <td>7</td>\n",
              "      <td>Wii Play</td>\n",
              "      <td>Wii</td>\n",
              "      <td>2006.0</td>\n",
              "      <td>Misc</td>\n",
              "      <td>13.96</td>\n",
              "      <td>9.18</td>\n",
              "      <td>2.93</td>\n",
              "      <td>2.84</td>\n",
              "      <td>58.0</td>\n",
              "      <td>6.6</td>\n",
              "      <td>E</td>\n",
              "    </tr>\n",
              "    <tr>\n",
              "      <td>8</td>\n",
              "      <td>New Super Mario Bros. Wii</td>\n",
              "      <td>Wii</td>\n",
              "      <td>2009.0</td>\n",
              "      <td>Platform</td>\n",
              "      <td>14.44</td>\n",
              "      <td>6.94</td>\n",
              "      <td>4.70</td>\n",
              "      <td>2.24</td>\n",
              "      <td>87.0</td>\n",
              "      <td>8.4</td>\n",
              "      <td>E</td>\n",
              "    </tr>\n",
              "    <tr>\n",
              "      <td>9</td>\n",
              "      <td>Duck Hunt</td>\n",
              "      <td>NES</td>\n",
              "      <td>1984.0</td>\n",
              "      <td>Shooter</td>\n",
              "      <td>26.93</td>\n",
              "      <td>0.63</td>\n",
              "      <td>0.28</td>\n",
              "      <td>0.47</td>\n",
              "      <td>NaN</td>\n",
              "      <td>NaN</td>\n",
              "      <td>NaN</td>\n",
              "    </tr>\n",
              "    <tr>\n",
              "      <td>10</td>\n",
              "      <td>Nintendogs</td>\n",
              "      <td>DS</td>\n",
              "      <td>2005.0</td>\n",
              "      <td>Simulation</td>\n",
              "      <td>9.05</td>\n",
              "      <td>10.95</td>\n",
              "      <td>1.93</td>\n",
              "      <td>2.74</td>\n",
              "      <td>NaN</td>\n",
              "      <td>NaN</td>\n",
              "      <td>NaN</td>\n",
              "    </tr>\n",
              "    <tr>\n",
              "      <td>11</td>\n",
              "      <td>Mario Kart DS</td>\n",
              "      <td>DS</td>\n",
              "      <td>2005.0</td>\n",
              "      <td>Racing</td>\n",
              "      <td>9.71</td>\n",
              "      <td>7.47</td>\n",
              "      <td>4.13</td>\n",
              "      <td>1.90</td>\n",
              "      <td>91.0</td>\n",
              "      <td>8.6</td>\n",
              "      <td>E</td>\n",
              "    </tr>\n",
              "    <tr>\n",
              "      <td>12</td>\n",
              "      <td>Pokemon Gold/Pokemon Silver</td>\n",
              "      <td>GB</td>\n",
              "      <td>1999.0</td>\n",
              "      <td>Role-Playing</td>\n",
              "      <td>9.00</td>\n",
              "      <td>6.18</td>\n",
              "      <td>7.20</td>\n",
              "      <td>0.71</td>\n",
              "      <td>NaN</td>\n",
              "      <td>NaN</td>\n",
              "      <td>NaN</td>\n",
              "    </tr>\n",
              "    <tr>\n",
              "      <td>13</td>\n",
              "      <td>Wii Fit</td>\n",
              "      <td>Wii</td>\n",
              "      <td>2007.0</td>\n",
              "      <td>Sports</td>\n",
              "      <td>8.92</td>\n",
              "      <td>8.03</td>\n",
              "      <td>3.60</td>\n",
              "      <td>2.15</td>\n",
              "      <td>80.0</td>\n",
              "      <td>7.7</td>\n",
              "      <td>E</td>\n",
              "    </tr>\n",
              "    <tr>\n",
              "      <td>14</td>\n",
              "      <td>Kinect Adventures!</td>\n",
              "      <td>X360</td>\n",
              "      <td>2010.0</td>\n",
              "      <td>Misc</td>\n",
              "      <td>15.00</td>\n",
              "      <td>4.89</td>\n",
              "      <td>0.24</td>\n",
              "      <td>1.69</td>\n",
              "      <td>61.0</td>\n",
              "      <td>6.3</td>\n",
              "      <td>E</td>\n",
              "    </tr>\n",
              "  </tbody>\n",
              "</table>\n",
              "</div>"
            ],
            "text/plain": [
              "                           Name Platform  Year_of_Release         Genre  \\\n",
              "0                    Wii Sports      Wii           2006.0        Sports   \n",
              "1             Super Mario Bros.      NES           1985.0      Platform   \n",
              "2                Mario Kart Wii      Wii           2008.0        Racing   \n",
              "3             Wii Sports Resort      Wii           2009.0        Sports   \n",
              "4      Pokemon Red/Pokemon Blue       GB           1996.0  Role-Playing   \n",
              "5                        Tetris       GB           1989.0        Puzzle   \n",
              "6         New Super Mario Bros.       DS           2006.0      Platform   \n",
              "7                      Wii Play      Wii           2006.0          Misc   \n",
              "8     New Super Mario Bros. Wii      Wii           2009.0      Platform   \n",
              "9                     Duck Hunt      NES           1984.0       Shooter   \n",
              "10                   Nintendogs       DS           2005.0    Simulation   \n",
              "11                Mario Kart DS       DS           2005.0        Racing   \n",
              "12  Pokemon Gold/Pokemon Silver       GB           1999.0  Role-Playing   \n",
              "13                      Wii Fit      Wii           2007.0        Sports   \n",
              "14           Kinect Adventures!     X360           2010.0          Misc   \n",
              "\n",
              "    NA_sales  EU_sales  JP_sales  Other_sales  Critic_Score User_Score Rating  \n",
              "0      41.36     28.96      3.77         8.45          76.0          8      E  \n",
              "1      29.08      3.58      6.81         0.77           NaN        NaN    NaN  \n",
              "2      15.68     12.76      3.79         3.29          82.0        8.3      E  \n",
              "3      15.61     10.93      3.28         2.95          80.0          8      E  \n",
              "4      11.27      8.89     10.22         1.00           NaN        NaN    NaN  \n",
              "5      23.20      2.26      4.22         0.58           NaN        NaN    NaN  \n",
              "6      11.28      9.14      6.50         2.88          89.0        8.5      E  \n",
              "7      13.96      9.18      2.93         2.84          58.0        6.6      E  \n",
              "8      14.44      6.94      4.70         2.24          87.0        8.4      E  \n",
              "9      26.93      0.63      0.28         0.47           NaN        NaN    NaN  \n",
              "10      9.05     10.95      1.93         2.74           NaN        NaN    NaN  \n",
              "11      9.71      7.47      4.13         1.90          91.0        8.6      E  \n",
              "12      9.00      6.18      7.20         0.71           NaN        NaN    NaN  \n",
              "13      8.92      8.03      3.60         2.15          80.0        7.7      E  \n",
              "14     15.00      4.89      0.24         1.69          61.0        6.3      E  "
            ]
          },
          "execution_count": 4,
          "metadata": {},
          "output_type": "execute_result"
        }
      ],
      "source": [
        "video_data.head(15)"
      ]
    },
    {
      "cell_type": "code",
      "execution_count": null,
      "metadata": {
        "id": "9_j_kbSrvzP6",
        "outputId": "1f4af088-2b40-495f-8fe1-77d38ec2a749"
      },
      "outputs": [
        {
          "name": "stdout",
          "output_type": "stream",
          "text": [
            "<class 'pandas.core.frame.DataFrame'>\n",
            "RangeIndex: 16715 entries, 0 to 16714\n",
            "Data columns (total 11 columns):\n",
            "Name               16713 non-null object\n",
            "Platform           16715 non-null object\n",
            "Year_of_Release    16446 non-null float64\n",
            "Genre              16713 non-null object\n",
            "NA_sales           16715 non-null float64\n",
            "EU_sales           16715 non-null float64\n",
            "JP_sales           16715 non-null float64\n",
            "Other_sales        16715 non-null float64\n",
            "Critic_Score       8137 non-null float64\n",
            "User_Score         10014 non-null object\n",
            "Rating             9949 non-null object\n",
            "dtypes: float64(6), object(5)\n",
            "memory usage: 1.4+ MB\n"
          ]
        }
      ],
      "source": [
        "video_data.info()"
      ]
    },
    {
      "cell_type": "code",
      "execution_count": null,
      "metadata": {
        "id": "MkmHfbXevzP7",
        "outputId": "03c797fc-a341-468f-ed39-922459737b0f"
      },
      "outputs": [
        {
          "data": {
            "text/html": [
              "<div>\n",
              "<style scoped>\n",
              "    .dataframe tbody tr th:only-of-type {\n",
              "        vertical-align: middle;\n",
              "    }\n",
              "\n",
              "    .dataframe tbody tr th {\n",
              "        vertical-align: top;\n",
              "    }\n",
              "\n",
              "    .dataframe thead th {\n",
              "        text-align: right;\n",
              "    }\n",
              "</style>\n",
              "<table border=\"1\" class=\"dataframe\">\n",
              "  <thead>\n",
              "    <tr style=\"text-align: right;\">\n",
              "      <th></th>\n",
              "      <th>Name</th>\n",
              "      <th>Platform</th>\n",
              "      <th>Year_of_Release</th>\n",
              "      <th>Genre</th>\n",
              "      <th>NA_sales</th>\n",
              "      <th>EU_sales</th>\n",
              "      <th>JP_sales</th>\n",
              "      <th>Other_sales</th>\n",
              "      <th>Critic_Score</th>\n",
              "      <th>User_Score</th>\n",
              "      <th>Rating</th>\n",
              "    </tr>\n",
              "  </thead>\n",
              "  <tbody>\n",
              "    <tr>\n",
              "      <td>count</td>\n",
              "      <td>16713</td>\n",
              "      <td>16715</td>\n",
              "      <td>16446.000000</td>\n",
              "      <td>16713</td>\n",
              "      <td>16715.000000</td>\n",
              "      <td>16715.000000</td>\n",
              "      <td>16715.000000</td>\n",
              "      <td>16715.000000</td>\n",
              "      <td>8137.000000</td>\n",
              "      <td>10014</td>\n",
              "      <td>9949</td>\n",
              "    </tr>\n",
              "    <tr>\n",
              "      <td>unique</td>\n",
              "      <td>11559</td>\n",
              "      <td>31</td>\n",
              "      <td>NaN</td>\n",
              "      <td>12</td>\n",
              "      <td>NaN</td>\n",
              "      <td>NaN</td>\n",
              "      <td>NaN</td>\n",
              "      <td>NaN</td>\n",
              "      <td>NaN</td>\n",
              "      <td>96</td>\n",
              "      <td>8</td>\n",
              "    </tr>\n",
              "    <tr>\n",
              "      <td>top</td>\n",
              "      <td>Need for Speed: Most Wanted</td>\n",
              "      <td>PS2</td>\n",
              "      <td>NaN</td>\n",
              "      <td>Action</td>\n",
              "      <td>NaN</td>\n",
              "      <td>NaN</td>\n",
              "      <td>NaN</td>\n",
              "      <td>NaN</td>\n",
              "      <td>NaN</td>\n",
              "      <td>tbd</td>\n",
              "      <td>E</td>\n",
              "    </tr>\n",
              "    <tr>\n",
              "      <td>freq</td>\n",
              "      <td>12</td>\n",
              "      <td>2161</td>\n",
              "      <td>NaN</td>\n",
              "      <td>3369</td>\n",
              "      <td>NaN</td>\n",
              "      <td>NaN</td>\n",
              "      <td>NaN</td>\n",
              "      <td>NaN</td>\n",
              "      <td>NaN</td>\n",
              "      <td>2424</td>\n",
              "      <td>3990</td>\n",
              "    </tr>\n",
              "    <tr>\n",
              "      <td>mean</td>\n",
              "      <td>NaN</td>\n",
              "      <td>NaN</td>\n",
              "      <td>2006.484616</td>\n",
              "      <td>NaN</td>\n",
              "      <td>0.263377</td>\n",
              "      <td>0.145060</td>\n",
              "      <td>0.077617</td>\n",
              "      <td>0.047342</td>\n",
              "      <td>68.967679</td>\n",
              "      <td>NaN</td>\n",
              "      <td>NaN</td>\n",
              "    </tr>\n",
              "    <tr>\n",
              "      <td>std</td>\n",
              "      <td>NaN</td>\n",
              "      <td>NaN</td>\n",
              "      <td>5.877050</td>\n",
              "      <td>NaN</td>\n",
              "      <td>0.813604</td>\n",
              "      <td>0.503339</td>\n",
              "      <td>0.308853</td>\n",
              "      <td>0.186731</td>\n",
              "      <td>13.938165</td>\n",
              "      <td>NaN</td>\n",
              "      <td>NaN</td>\n",
              "    </tr>\n",
              "    <tr>\n",
              "      <td>min</td>\n",
              "      <td>NaN</td>\n",
              "      <td>NaN</td>\n",
              "      <td>1980.000000</td>\n",
              "      <td>NaN</td>\n",
              "      <td>0.000000</td>\n",
              "      <td>0.000000</td>\n",
              "      <td>0.000000</td>\n",
              "      <td>0.000000</td>\n",
              "      <td>13.000000</td>\n",
              "      <td>NaN</td>\n",
              "      <td>NaN</td>\n",
              "    </tr>\n",
              "    <tr>\n",
              "      <td>25%</td>\n",
              "      <td>NaN</td>\n",
              "      <td>NaN</td>\n",
              "      <td>2003.000000</td>\n",
              "      <td>NaN</td>\n",
              "      <td>0.000000</td>\n",
              "      <td>0.000000</td>\n",
              "      <td>0.000000</td>\n",
              "      <td>0.000000</td>\n",
              "      <td>60.000000</td>\n",
              "      <td>NaN</td>\n",
              "      <td>NaN</td>\n",
              "    </tr>\n",
              "    <tr>\n",
              "      <td>50%</td>\n",
              "      <td>NaN</td>\n",
              "      <td>NaN</td>\n",
              "      <td>2007.000000</td>\n",
              "      <td>NaN</td>\n",
              "      <td>0.080000</td>\n",
              "      <td>0.020000</td>\n",
              "      <td>0.000000</td>\n",
              "      <td>0.010000</td>\n",
              "      <td>71.000000</td>\n",
              "      <td>NaN</td>\n",
              "      <td>NaN</td>\n",
              "    </tr>\n",
              "    <tr>\n",
              "      <td>75%</td>\n",
              "      <td>NaN</td>\n",
              "      <td>NaN</td>\n",
              "      <td>2010.000000</td>\n",
              "      <td>NaN</td>\n",
              "      <td>0.240000</td>\n",
              "      <td>0.110000</td>\n",
              "      <td>0.040000</td>\n",
              "      <td>0.030000</td>\n",
              "      <td>79.000000</td>\n",
              "      <td>NaN</td>\n",
              "      <td>NaN</td>\n",
              "    </tr>\n",
              "    <tr>\n",
              "      <td>max</td>\n",
              "      <td>NaN</td>\n",
              "      <td>NaN</td>\n",
              "      <td>2016.000000</td>\n",
              "      <td>NaN</td>\n",
              "      <td>41.360000</td>\n",
              "      <td>28.960000</td>\n",
              "      <td>10.220000</td>\n",
              "      <td>10.570000</td>\n",
              "      <td>98.000000</td>\n",
              "      <td>NaN</td>\n",
              "      <td>NaN</td>\n",
              "    </tr>\n",
              "  </tbody>\n",
              "</table>\n",
              "</div>"
            ],
            "text/plain": [
              "                               Name Platform  Year_of_Release   Genre  \\\n",
              "count                         16713    16715     16446.000000   16713   \n",
              "unique                        11559       31              NaN      12   \n",
              "top     Need for Speed: Most Wanted      PS2              NaN  Action   \n",
              "freq                             12     2161              NaN    3369   \n",
              "mean                            NaN      NaN      2006.484616     NaN   \n",
              "std                             NaN      NaN         5.877050     NaN   \n",
              "min                             NaN      NaN      1980.000000     NaN   \n",
              "25%                             NaN      NaN      2003.000000     NaN   \n",
              "50%                             NaN      NaN      2007.000000     NaN   \n",
              "75%                             NaN      NaN      2010.000000     NaN   \n",
              "max                             NaN      NaN      2016.000000     NaN   \n",
              "\n",
              "            NA_sales      EU_sales      JP_sales   Other_sales  Critic_Score  \\\n",
              "count   16715.000000  16715.000000  16715.000000  16715.000000   8137.000000   \n",
              "unique           NaN           NaN           NaN           NaN           NaN   \n",
              "top              NaN           NaN           NaN           NaN           NaN   \n",
              "freq             NaN           NaN           NaN           NaN           NaN   \n",
              "mean        0.263377      0.145060      0.077617      0.047342     68.967679   \n",
              "std         0.813604      0.503339      0.308853      0.186731     13.938165   \n",
              "min         0.000000      0.000000      0.000000      0.000000     13.000000   \n",
              "25%         0.000000      0.000000      0.000000      0.000000     60.000000   \n",
              "50%         0.080000      0.020000      0.000000      0.010000     71.000000   \n",
              "75%         0.240000      0.110000      0.040000      0.030000     79.000000   \n",
              "max        41.360000     28.960000     10.220000     10.570000     98.000000   \n",
              "\n",
              "       User_Score Rating  \n",
              "count       10014   9949  \n",
              "unique         96      8  \n",
              "top           tbd      E  \n",
              "freq         2424   3990  \n",
              "mean          NaN    NaN  \n",
              "std           NaN    NaN  \n",
              "min           NaN    NaN  \n",
              "25%           NaN    NaN  \n",
              "50%           NaN    NaN  \n",
              "75%           NaN    NaN  \n",
              "max           NaN    NaN  "
            ]
          },
          "execution_count": 6,
          "metadata": {},
          "output_type": "execute_result"
        }
      ],
      "source": [
        "video_data.describe(include = 'all')"
      ]
    },
    {
      "cell_type": "markdown",
      "metadata": {
        "id": "nU8VBUPbvzP7"
      },
      "source": [
        "**Вывод:**\n",
        "Представленная таблица содержит 16715 строк и 11 столбцов.  \n",
        "Столбцы с годом релиза надо будет привести к формату даты, рейтинг пользователей необходимо будет привести к целочисленному типу данных.  Для дальнейшей работы названия столбцов необходимо будет привести к нижнему регистру.  \n",
        "Столбцы с названием игры, годом релиза, жанром, оценками критиков, оценками пользователй и рейттингом содержат пропуски. Необходимо будет проанализировать причины их возникновений и заполнить при необходимости.  \n",
        "На этапе обзора данных видно, что самая популярная игра Need for Speed: Most Wanted, платформа - PS2, жанр - Action, оценка пользователей tbd, рейтинг - E."
      ]
    },
    {
      "cell_type": "markdown",
      "metadata": {
        "id": "ZVLMH4lzvzP8"
      },
      "source": [
        "## Предобработка данных\n",
        "<a id=\"preprocessing\"></a>"
      ]
    },
    {
      "cell_type": "code",
      "execution_count": null,
      "metadata": {
        "id": "NkmUMSC9vzP9"
      },
      "outputs": [],
      "source": [
        "#Приведем названия столбцов к нижнему регистру \n",
        "video_data.columns = [x.lower() for x in video_data.columns]"
      ]
    },
    {
      "cell_type": "markdown",
      "source": [
        ""
      ],
      "metadata": {
        "id": "O4A-Ff3ewD-D"
      }
    },
    {
      "cell_type": "code",
      "execution_count": null,
      "metadata": {
        "id": "6m-DD9LOvzP-",
        "outputId": "3df28c81-952a-438a-893f-6ef8671508f2"
      },
      "outputs": [
        {
          "data": {
            "text/html": [
              "<div>\n",
              "<style scoped>\n",
              "    .dataframe tbody tr th:only-of-type {\n",
              "        vertical-align: middle;\n",
              "    }\n",
              "\n",
              "    .dataframe tbody tr th {\n",
              "        vertical-align: top;\n",
              "    }\n",
              "\n",
              "    .dataframe thead th {\n",
              "        text-align: right;\n",
              "    }\n",
              "</style>\n",
              "<table border=\"1\" class=\"dataframe\">\n",
              "  <thead>\n",
              "    <tr style=\"text-align: right;\">\n",
              "      <th></th>\n",
              "      <th>name</th>\n",
              "      <th>platform</th>\n",
              "      <th>year_of_release</th>\n",
              "      <th>genre</th>\n",
              "      <th>na_sales</th>\n",
              "      <th>eu_sales</th>\n",
              "      <th>jp_sales</th>\n",
              "      <th>other_sales</th>\n",
              "      <th>critic_score</th>\n",
              "      <th>user_score</th>\n",
              "      <th>rating</th>\n",
              "    </tr>\n",
              "  </thead>\n",
              "  <tbody>\n",
              "    <tr>\n",
              "      <td>0</td>\n",
              "      <td>Wii Sports</td>\n",
              "      <td>Wii</td>\n",
              "      <td>2006.0</td>\n",
              "      <td>Sports</td>\n",
              "      <td>41.36</td>\n",
              "      <td>28.96</td>\n",
              "      <td>3.77</td>\n",
              "      <td>8.45</td>\n",
              "      <td>76.0</td>\n",
              "      <td>8</td>\n",
              "      <td>E</td>\n",
              "    </tr>\n",
              "    <tr>\n",
              "      <td>1</td>\n",
              "      <td>Super Mario Bros.</td>\n",
              "      <td>NES</td>\n",
              "      <td>1985.0</td>\n",
              "      <td>Platform</td>\n",
              "      <td>29.08</td>\n",
              "      <td>3.58</td>\n",
              "      <td>6.81</td>\n",
              "      <td>0.77</td>\n",
              "      <td>NaN</td>\n",
              "      <td>NaN</td>\n",
              "      <td>NaN</td>\n",
              "    </tr>\n",
              "    <tr>\n",
              "      <td>2</td>\n",
              "      <td>Mario Kart Wii</td>\n",
              "      <td>Wii</td>\n",
              "      <td>2008.0</td>\n",
              "      <td>Racing</td>\n",
              "      <td>15.68</td>\n",
              "      <td>12.76</td>\n",
              "      <td>3.79</td>\n",
              "      <td>3.29</td>\n",
              "      <td>82.0</td>\n",
              "      <td>8.3</td>\n",
              "      <td>E</td>\n",
              "    </tr>\n",
              "    <tr>\n",
              "      <td>3</td>\n",
              "      <td>Wii Sports Resort</td>\n",
              "      <td>Wii</td>\n",
              "      <td>2009.0</td>\n",
              "      <td>Sports</td>\n",
              "      <td>15.61</td>\n",
              "      <td>10.93</td>\n",
              "      <td>3.28</td>\n",
              "      <td>2.95</td>\n",
              "      <td>80.0</td>\n",
              "      <td>8</td>\n",
              "      <td>E</td>\n",
              "    </tr>\n",
              "    <tr>\n",
              "      <td>4</td>\n",
              "      <td>Pokemon Red/Pokemon Blue</td>\n",
              "      <td>GB</td>\n",
              "      <td>1996.0</td>\n",
              "      <td>Role-Playing</td>\n",
              "      <td>11.27</td>\n",
              "      <td>8.89</td>\n",
              "      <td>10.22</td>\n",
              "      <td>1.00</td>\n",
              "      <td>NaN</td>\n",
              "      <td>NaN</td>\n",
              "      <td>NaN</td>\n",
              "    </tr>\n",
              "    <tr>\n",
              "      <td>...</td>\n",
              "      <td>...</td>\n",
              "      <td>...</td>\n",
              "      <td>...</td>\n",
              "      <td>...</td>\n",
              "      <td>...</td>\n",
              "      <td>...</td>\n",
              "      <td>...</td>\n",
              "      <td>...</td>\n",
              "      <td>...</td>\n",
              "      <td>...</td>\n",
              "      <td>...</td>\n",
              "    </tr>\n",
              "    <tr>\n",
              "      <td>16710</td>\n",
              "      <td>Samurai Warriors: Sanada Maru</td>\n",
              "      <td>PS3</td>\n",
              "      <td>2016.0</td>\n",
              "      <td>Action</td>\n",
              "      <td>0.00</td>\n",
              "      <td>0.00</td>\n",
              "      <td>0.01</td>\n",
              "      <td>0.00</td>\n",
              "      <td>NaN</td>\n",
              "      <td>NaN</td>\n",
              "      <td>NaN</td>\n",
              "    </tr>\n",
              "    <tr>\n",
              "      <td>16711</td>\n",
              "      <td>LMA Manager 2007</td>\n",
              "      <td>X360</td>\n",
              "      <td>2006.0</td>\n",
              "      <td>Sports</td>\n",
              "      <td>0.00</td>\n",
              "      <td>0.01</td>\n",
              "      <td>0.00</td>\n",
              "      <td>0.00</td>\n",
              "      <td>NaN</td>\n",
              "      <td>NaN</td>\n",
              "      <td>NaN</td>\n",
              "    </tr>\n",
              "    <tr>\n",
              "      <td>16712</td>\n",
              "      <td>Haitaka no Psychedelica</td>\n",
              "      <td>PSV</td>\n",
              "      <td>2016.0</td>\n",
              "      <td>Adventure</td>\n",
              "      <td>0.00</td>\n",
              "      <td>0.00</td>\n",
              "      <td>0.01</td>\n",
              "      <td>0.00</td>\n",
              "      <td>NaN</td>\n",
              "      <td>NaN</td>\n",
              "      <td>NaN</td>\n",
              "    </tr>\n",
              "    <tr>\n",
              "      <td>16713</td>\n",
              "      <td>Spirits &amp; Spells</td>\n",
              "      <td>GBA</td>\n",
              "      <td>2003.0</td>\n",
              "      <td>Platform</td>\n",
              "      <td>0.01</td>\n",
              "      <td>0.00</td>\n",
              "      <td>0.00</td>\n",
              "      <td>0.00</td>\n",
              "      <td>NaN</td>\n",
              "      <td>NaN</td>\n",
              "      <td>NaN</td>\n",
              "    </tr>\n",
              "    <tr>\n",
              "      <td>16714</td>\n",
              "      <td>Winning Post 8 2016</td>\n",
              "      <td>PSV</td>\n",
              "      <td>2016.0</td>\n",
              "      <td>Simulation</td>\n",
              "      <td>0.00</td>\n",
              "      <td>0.00</td>\n",
              "      <td>0.01</td>\n",
              "      <td>0.00</td>\n",
              "      <td>NaN</td>\n",
              "      <td>NaN</td>\n",
              "      <td>NaN</td>\n",
              "    </tr>\n",
              "  </tbody>\n",
              "</table>\n",
              "<p>16715 rows × 11 columns</p>\n",
              "</div>"
            ],
            "text/plain": [
              "                                name platform  year_of_release         genre  \\\n",
              "0                         Wii Sports      Wii           2006.0        Sports   \n",
              "1                  Super Mario Bros.      NES           1985.0      Platform   \n",
              "2                     Mario Kart Wii      Wii           2008.0        Racing   \n",
              "3                  Wii Sports Resort      Wii           2009.0        Sports   \n",
              "4           Pokemon Red/Pokemon Blue       GB           1996.0  Role-Playing   \n",
              "...                              ...      ...              ...           ...   \n",
              "16710  Samurai Warriors: Sanada Maru      PS3           2016.0        Action   \n",
              "16711               LMA Manager 2007     X360           2006.0        Sports   \n",
              "16712        Haitaka no Psychedelica      PSV           2016.0     Adventure   \n",
              "16713               Spirits & Spells      GBA           2003.0      Platform   \n",
              "16714            Winning Post 8 2016      PSV           2016.0    Simulation   \n",
              "\n",
              "       na_sales  eu_sales  jp_sales  other_sales  critic_score user_score  \\\n",
              "0         41.36     28.96      3.77         8.45          76.0          8   \n",
              "1         29.08      3.58      6.81         0.77           NaN        NaN   \n",
              "2         15.68     12.76      3.79         3.29          82.0        8.3   \n",
              "3         15.61     10.93      3.28         2.95          80.0          8   \n",
              "4         11.27      8.89     10.22         1.00           NaN        NaN   \n",
              "...         ...       ...       ...          ...           ...        ...   \n",
              "16710      0.00      0.00      0.01         0.00           NaN        NaN   \n",
              "16711      0.00      0.01      0.00         0.00           NaN        NaN   \n",
              "16712      0.00      0.00      0.01         0.00           NaN        NaN   \n",
              "16713      0.01      0.00      0.00         0.00           NaN        NaN   \n",
              "16714      0.00      0.00      0.01         0.00           NaN        NaN   \n",
              "\n",
              "      rating  \n",
              "0          E  \n",
              "1        NaN  \n",
              "2          E  \n",
              "3          E  \n",
              "4        NaN  \n",
              "...      ...  \n",
              "16710    NaN  \n",
              "16711    NaN  \n",
              "16712    NaN  \n",
              "16713    NaN  \n",
              "16714    NaN  \n",
              "\n",
              "[16715 rows x 11 columns]"
            ]
          },
          "execution_count": 8,
          "metadata": {},
          "output_type": "execute_result"
        }
      ],
      "source": [
        "video_data"
      ]
    },
    {
      "cell_type": "code",
      "execution_count": null,
      "metadata": {
        "id": "wAJ6k9lVvzP-",
        "outputId": "2e06d3e1-f73b-4782-e761-fe8ba08a968e"
      },
      "outputs": [
        {
          "data": {
            "text/html": [
              "<div>\n",
              "<style scoped>\n",
              "    .dataframe tbody tr th:only-of-type {\n",
              "        vertical-align: middle;\n",
              "    }\n",
              "\n",
              "    .dataframe tbody tr th {\n",
              "        vertical-align: top;\n",
              "    }\n",
              "\n",
              "    .dataframe thead th {\n",
              "        text-align: right;\n",
              "    }\n",
              "</style>\n",
              "<table border=\"1\" class=\"dataframe\">\n",
              "  <thead>\n",
              "    <tr style=\"text-align: right;\">\n",
              "      <th></th>\n",
              "      <th>name</th>\n",
              "      <th>platform</th>\n",
              "      <th>year_of_release</th>\n",
              "      <th>genre</th>\n",
              "      <th>na_sales</th>\n",
              "      <th>eu_sales</th>\n",
              "      <th>jp_sales</th>\n",
              "      <th>other_sales</th>\n",
              "      <th>critic_score</th>\n",
              "      <th>user_score</th>\n",
              "      <th>rating</th>\n",
              "    </tr>\n",
              "  </thead>\n",
              "  <tbody>\n",
              "    <tr>\n",
              "      <td>659</td>\n",
              "      <td>NaN</td>\n",
              "      <td>GEN</td>\n",
              "      <td>1993.0</td>\n",
              "      <td>NaN</td>\n",
              "      <td>1.78</td>\n",
              "      <td>0.53</td>\n",
              "      <td>0.00</td>\n",
              "      <td>0.08</td>\n",
              "      <td>NaN</td>\n",
              "      <td>NaN</td>\n",
              "      <td>NaN</td>\n",
              "    </tr>\n",
              "    <tr>\n",
              "      <td>14244</td>\n",
              "      <td>NaN</td>\n",
              "      <td>GEN</td>\n",
              "      <td>1993.0</td>\n",
              "      <td>NaN</td>\n",
              "      <td>0.00</td>\n",
              "      <td>0.00</td>\n",
              "      <td>0.03</td>\n",
              "      <td>0.00</td>\n",
              "      <td>NaN</td>\n",
              "      <td>NaN</td>\n",
              "      <td>NaN</td>\n",
              "    </tr>\n",
              "  </tbody>\n",
              "</table>\n",
              "</div>"
            ],
            "text/plain": [
              "      name platform  year_of_release genre  na_sales  eu_sales  jp_sales  \\\n",
              "659    NaN      GEN           1993.0   NaN      1.78      0.53      0.00   \n",
              "14244  NaN      GEN           1993.0   NaN      0.00      0.00      0.03   \n",
              "\n",
              "       other_sales  critic_score user_score rating  \n",
              "659           0.08           NaN        NaN    NaN  \n",
              "14244         0.00           NaN        NaN    NaN  "
            ]
          },
          "execution_count": 9,
          "metadata": {},
          "output_type": "execute_result"
        }
      ],
      "source": [
        "#Проверим пропущенные значения в столбце с названием платформы\n",
        "video_data.loc[video_data['name'].isna()]"
      ]
    },
    {
      "cell_type": "code",
      "execution_count": null,
      "metadata": {
        "id": "C0B-finIvzP_"
      },
      "outputs": [],
      "source": [
        "#У двух игр не определено название и жанр одновременно,восстановить пропущенные значения невозможно, удаляем их из таблицы\n",
        "video_data.dropna(subset=['name'],inplace=True)"
      ]
    },
    {
      "cell_type": "code",
      "execution_count": null,
      "metadata": {
        "id": "7W_j29zwvzP_",
        "outputId": "7b907eed-abd8-4a71-b05f-b5d27d8561ed"
      },
      "outputs": [
        {
          "data": {
            "text/plain": [
              "name                  0\n",
              "platform              0\n",
              "year_of_release     269\n",
              "genre                 0\n",
              "na_sales              0\n",
              "eu_sales              0\n",
              "jp_sales              0\n",
              "other_sales           0\n",
              "critic_score       8576\n",
              "user_score         6699\n",
              "rating             6764\n",
              "dtype: int64"
            ]
          },
          "execution_count": 11,
          "metadata": {},
          "output_type": "execute_result"
        }
      ],
      "source": [
        "#Проверяем пропуски в таблице\n",
        "video_data.isna().sum()"
      ]
    },
    {
      "cell_type": "code",
      "execution_count": null,
      "metadata": {
        "id": "nHzKYF3bvzQB",
        "outputId": "1b31d98b-6086-4e04-b79a-46fa8d1c468e"
      },
      "outputs": [
        {
          "data": {
            "text/html": [
              "<div>\n",
              "<style scoped>\n",
              "    .dataframe tbody tr th:only-of-type {\n",
              "        vertical-align: middle;\n",
              "    }\n",
              "\n",
              "    .dataframe tbody tr th {\n",
              "        vertical-align: top;\n",
              "    }\n",
              "\n",
              "    .dataframe thead th {\n",
              "        text-align: right;\n",
              "    }\n",
              "</style>\n",
              "<table border=\"1\" class=\"dataframe\">\n",
              "  <thead>\n",
              "    <tr style=\"text-align: right;\">\n",
              "      <th></th>\n",
              "      <th>name</th>\n",
              "      <th>platform</th>\n",
              "      <th>year_of_release</th>\n",
              "      <th>genre</th>\n",
              "      <th>na_sales</th>\n",
              "      <th>eu_sales</th>\n",
              "      <th>jp_sales</th>\n",
              "      <th>other_sales</th>\n",
              "      <th>critic_score</th>\n",
              "      <th>user_score</th>\n",
              "      <th>rating</th>\n",
              "    </tr>\n",
              "  </thead>\n",
              "  <tbody>\n",
              "    <tr>\n",
              "      <td>183</td>\n",
              "      <td>Madden NFL 2004</td>\n",
              "      <td>PS2</td>\n",
              "      <td>NaN</td>\n",
              "      <td>Sports</td>\n",
              "      <td>4.26</td>\n",
              "      <td>0.26</td>\n",
              "      <td>0.01</td>\n",
              "      <td>0.71</td>\n",
              "      <td>94.0</td>\n",
              "      <td>8.5</td>\n",
              "      <td>E</td>\n",
              "    </tr>\n",
              "    <tr>\n",
              "      <td>377</td>\n",
              "      <td>FIFA Soccer 2004</td>\n",
              "      <td>PS2</td>\n",
              "      <td>NaN</td>\n",
              "      <td>Sports</td>\n",
              "      <td>0.59</td>\n",
              "      <td>2.36</td>\n",
              "      <td>0.04</td>\n",
              "      <td>0.51</td>\n",
              "      <td>84.0</td>\n",
              "      <td>6.4</td>\n",
              "      <td>E</td>\n",
              "    </tr>\n",
              "    <tr>\n",
              "      <td>456</td>\n",
              "      <td>LEGO Batman: The Videogame</td>\n",
              "      <td>Wii</td>\n",
              "      <td>NaN</td>\n",
              "      <td>Action</td>\n",
              "      <td>1.80</td>\n",
              "      <td>0.97</td>\n",
              "      <td>0.00</td>\n",
              "      <td>0.29</td>\n",
              "      <td>74.0</td>\n",
              "      <td>7.9</td>\n",
              "      <td>E10+</td>\n",
              "    </tr>\n",
              "    <tr>\n",
              "      <td>475</td>\n",
              "      <td>wwe Smackdown vs. Raw 2006</td>\n",
              "      <td>PS2</td>\n",
              "      <td>NaN</td>\n",
              "      <td>Fighting</td>\n",
              "      <td>1.57</td>\n",
              "      <td>1.02</td>\n",
              "      <td>0.00</td>\n",
              "      <td>0.41</td>\n",
              "      <td>NaN</td>\n",
              "      <td>NaN</td>\n",
              "      <td>NaN</td>\n",
              "    </tr>\n",
              "    <tr>\n",
              "      <td>609</td>\n",
              "      <td>Space Invaders</td>\n",
              "      <td>2600</td>\n",
              "      <td>NaN</td>\n",
              "      <td>Shooter</td>\n",
              "      <td>2.36</td>\n",
              "      <td>0.14</td>\n",
              "      <td>0.00</td>\n",
              "      <td>0.03</td>\n",
              "      <td>NaN</td>\n",
              "      <td>NaN</td>\n",
              "      <td>NaN</td>\n",
              "    </tr>\n",
              "    <tr>\n",
              "      <td>...</td>\n",
              "      <td>...</td>\n",
              "      <td>...</td>\n",
              "      <td>...</td>\n",
              "      <td>...</td>\n",
              "      <td>...</td>\n",
              "      <td>...</td>\n",
              "      <td>...</td>\n",
              "      <td>...</td>\n",
              "      <td>...</td>\n",
              "      <td>...</td>\n",
              "      <td>...</td>\n",
              "    </tr>\n",
              "    <tr>\n",
              "      <td>16373</td>\n",
              "      <td>PDC World Championship Darts 2008</td>\n",
              "      <td>PSP</td>\n",
              "      <td>NaN</td>\n",
              "      <td>Sports</td>\n",
              "      <td>0.01</td>\n",
              "      <td>0.00</td>\n",
              "      <td>0.00</td>\n",
              "      <td>0.00</td>\n",
              "      <td>43.0</td>\n",
              "      <td>tbd</td>\n",
              "      <td>E10+</td>\n",
              "    </tr>\n",
              "    <tr>\n",
              "      <td>16405</td>\n",
              "      <td>Freaky Flyers</td>\n",
              "      <td>GC</td>\n",
              "      <td>NaN</td>\n",
              "      <td>Racing</td>\n",
              "      <td>0.01</td>\n",
              "      <td>0.00</td>\n",
              "      <td>0.00</td>\n",
              "      <td>0.00</td>\n",
              "      <td>69.0</td>\n",
              "      <td>6.5</td>\n",
              "      <td>T</td>\n",
              "    </tr>\n",
              "    <tr>\n",
              "      <td>16448</td>\n",
              "      <td>Inversion</td>\n",
              "      <td>PC</td>\n",
              "      <td>NaN</td>\n",
              "      <td>Shooter</td>\n",
              "      <td>0.01</td>\n",
              "      <td>0.00</td>\n",
              "      <td>0.00</td>\n",
              "      <td>0.00</td>\n",
              "      <td>59.0</td>\n",
              "      <td>6.7</td>\n",
              "      <td>M</td>\n",
              "    </tr>\n",
              "    <tr>\n",
              "      <td>16458</td>\n",
              "      <td>Hakuouki: Shinsengumi Kitan</td>\n",
              "      <td>PS3</td>\n",
              "      <td>NaN</td>\n",
              "      <td>Adventure</td>\n",
              "      <td>0.01</td>\n",
              "      <td>0.00</td>\n",
              "      <td>0.00</td>\n",
              "      <td>0.00</td>\n",
              "      <td>NaN</td>\n",
              "      <td>NaN</td>\n",
              "      <td>NaN</td>\n",
              "    </tr>\n",
              "    <tr>\n",
              "      <td>16522</td>\n",
              "      <td>Virtua Quest</td>\n",
              "      <td>GC</td>\n",
              "      <td>NaN</td>\n",
              "      <td>Role-Playing</td>\n",
              "      <td>0.01</td>\n",
              "      <td>0.00</td>\n",
              "      <td>0.00</td>\n",
              "      <td>0.00</td>\n",
              "      <td>55.0</td>\n",
              "      <td>5.5</td>\n",
              "      <td>T</td>\n",
              "    </tr>\n",
              "  </tbody>\n",
              "</table>\n",
              "<p>269 rows × 11 columns</p>\n",
              "</div>"
            ],
            "text/plain": [
              "                                    name platform  year_of_release  \\\n",
              "183                      Madden NFL 2004      PS2              NaN   \n",
              "377                     FIFA Soccer 2004      PS2              NaN   \n",
              "456           LEGO Batman: The Videogame      Wii              NaN   \n",
              "475           wwe Smackdown vs. Raw 2006      PS2              NaN   \n",
              "609                       Space Invaders     2600              NaN   \n",
              "...                                  ...      ...              ...   \n",
              "16373  PDC World Championship Darts 2008      PSP              NaN   \n",
              "16405                      Freaky Flyers       GC              NaN   \n",
              "16448                          Inversion       PC              NaN   \n",
              "16458        Hakuouki: Shinsengumi Kitan      PS3              NaN   \n",
              "16522                       Virtua Quest       GC              NaN   \n",
              "\n",
              "              genre  na_sales  eu_sales  jp_sales  other_sales  critic_score  \\\n",
              "183          Sports      4.26      0.26      0.01         0.71          94.0   \n",
              "377          Sports      0.59      2.36      0.04         0.51          84.0   \n",
              "456          Action      1.80      0.97      0.00         0.29          74.0   \n",
              "475        Fighting      1.57      1.02      0.00         0.41           NaN   \n",
              "609         Shooter      2.36      0.14      0.00         0.03           NaN   \n",
              "...             ...       ...       ...       ...          ...           ...   \n",
              "16373        Sports      0.01      0.00      0.00         0.00          43.0   \n",
              "16405        Racing      0.01      0.00      0.00         0.00          69.0   \n",
              "16448       Shooter      0.01      0.00      0.00         0.00          59.0   \n",
              "16458     Adventure      0.01      0.00      0.00         0.00           NaN   \n",
              "16522  Role-Playing      0.01      0.00      0.00         0.00          55.0   \n",
              "\n",
              "      user_score rating  \n",
              "183          8.5      E  \n",
              "377          6.4      E  \n",
              "456          7.9   E10+  \n",
              "475          NaN    NaN  \n",
              "609          NaN    NaN  \n",
              "...          ...    ...  \n",
              "16373        tbd   E10+  \n",
              "16405        6.5      T  \n",
              "16448        6.7      M  \n",
              "16458        NaN    NaN  \n",
              "16522        5.5      T  \n",
              "\n",
              "[269 rows x 11 columns]"
            ]
          },
          "execution_count": 12,
          "metadata": {},
          "output_type": "execute_result"
        }
      ],
      "source": [
        "#Проверим пропущенные значения в столбце с годом\n",
        "video_data.loc[video_data['year_of_release'].isna()]"
      ]
    },
    {
      "cell_type": "code",
      "execution_count": null,
      "metadata": {
        "id": "UEIVZ7H-vzQB"
      },
      "outputs": [],
      "source": [
        "#Так как от всей таблицы процент пропусков составляет 1,6% пропущенные значения с годом удалим\n",
        "video_data.dropna(subset=['year_of_release'],inplace=True)"
      ]
    },
    {
      "cell_type": "code",
      "execution_count": null,
      "metadata": {
        "id": "LBnGZHezvzQB",
        "outputId": "d6931876-9a73-4c4d-cfa5-20dd1f787f62"
      },
      "outputs": [
        {
          "data": {
            "text/plain": [
              "0"
            ]
          },
          "execution_count": 14,
          "metadata": {},
          "output_type": "execute_result"
        }
      ],
      "source": [
        "#Проверим пропуски\n",
        "video_data['year_of_release'].isna().sum()"
      ]
    },
    {
      "cell_type": "code",
      "execution_count": null,
      "metadata": {
        "id": "maqiOwd6vzQC"
      },
      "outputs": [],
      "source": [
        "#Приведение к формату int равносильно замене методом to_datetime, т.к. в данном случае у нас используется только год\n",
        "video_data['year_of_release'] = video_data['year_of_release'].astype('int')"
      ]
    },
    {
      "cell_type": "code",
      "execution_count": null,
      "metadata": {
        "id": "8zT14OmovzQC",
        "outputId": "e8275897-ae15-4fb7-b846-b337c02ceb30"
      },
      "outputs": [
        {
          "data": {
            "text/plain": [
              "0        2006\n",
              "1        1985\n",
              "2        2008\n",
              "3        2009\n",
              "4        1996\n",
              "         ... \n",
              "16710    2016\n",
              "16711    2006\n",
              "16712    2016\n",
              "16713    2003\n",
              "16714    2016\n",
              "Name: year_of_release, Length: 16444, dtype: int64"
            ]
          },
          "execution_count": 16,
          "metadata": {},
          "output_type": "execute_result"
        }
      ],
      "source": [
        "video_data['year_of_release']"
      ]
    },
    {
      "cell_type": "code",
      "execution_count": null,
      "metadata": {
        "scrolled": true,
        "id": "0nvWgnv2vzQD",
        "outputId": "abe8dd67-c1b3-4f48-afe0-031dd167522c"
      },
      "outputs": [
        {
          "data": {
            "text/html": [
              "<div>\n",
              "<style scoped>\n",
              "    .dataframe tbody tr th:only-of-type {\n",
              "        vertical-align: middle;\n",
              "    }\n",
              "\n",
              "    .dataframe tbody tr th {\n",
              "        vertical-align: top;\n",
              "    }\n",
              "\n",
              "    .dataframe thead th {\n",
              "        text-align: right;\n",
              "    }\n",
              "</style>\n",
              "<table border=\"1\" class=\"dataframe\">\n",
              "  <thead>\n",
              "    <tr style=\"text-align: right;\">\n",
              "      <th></th>\n",
              "      <th>name</th>\n",
              "      <th>platform</th>\n",
              "      <th>year_of_release</th>\n",
              "      <th>genre</th>\n",
              "      <th>na_sales</th>\n",
              "      <th>eu_sales</th>\n",
              "      <th>jp_sales</th>\n",
              "      <th>other_sales</th>\n",
              "      <th>critic_score</th>\n",
              "      <th>user_score</th>\n",
              "      <th>rating</th>\n",
              "    </tr>\n",
              "  </thead>\n",
              "  <tbody>\n",
              "    <tr>\n",
              "      <td>1</td>\n",
              "      <td>Super Mario Bros.</td>\n",
              "      <td>NES</td>\n",
              "      <td>1985</td>\n",
              "      <td>Platform</td>\n",
              "      <td>29.08</td>\n",
              "      <td>3.58</td>\n",
              "      <td>6.81</td>\n",
              "      <td>0.77</td>\n",
              "      <td>NaN</td>\n",
              "      <td>NaN</td>\n",
              "      <td>NaN</td>\n",
              "    </tr>\n",
              "    <tr>\n",
              "      <td>4</td>\n",
              "      <td>Pokemon Red/Pokemon Blue</td>\n",
              "      <td>GB</td>\n",
              "      <td>1996</td>\n",
              "      <td>Role-Playing</td>\n",
              "      <td>11.27</td>\n",
              "      <td>8.89</td>\n",
              "      <td>10.22</td>\n",
              "      <td>1.00</td>\n",
              "      <td>NaN</td>\n",
              "      <td>NaN</td>\n",
              "      <td>NaN</td>\n",
              "    </tr>\n",
              "    <tr>\n",
              "      <td>5</td>\n",
              "      <td>Tetris</td>\n",
              "      <td>GB</td>\n",
              "      <td>1989</td>\n",
              "      <td>Puzzle</td>\n",
              "      <td>23.20</td>\n",
              "      <td>2.26</td>\n",
              "      <td>4.22</td>\n",
              "      <td>0.58</td>\n",
              "      <td>NaN</td>\n",
              "      <td>NaN</td>\n",
              "      <td>NaN</td>\n",
              "    </tr>\n",
              "    <tr>\n",
              "      <td>9</td>\n",
              "      <td>Duck Hunt</td>\n",
              "      <td>NES</td>\n",
              "      <td>1984</td>\n",
              "      <td>Shooter</td>\n",
              "      <td>26.93</td>\n",
              "      <td>0.63</td>\n",
              "      <td>0.28</td>\n",
              "      <td>0.47</td>\n",
              "      <td>NaN</td>\n",
              "      <td>NaN</td>\n",
              "      <td>NaN</td>\n",
              "    </tr>\n",
              "    <tr>\n",
              "      <td>10</td>\n",
              "      <td>Nintendogs</td>\n",
              "      <td>DS</td>\n",
              "      <td>2005</td>\n",
              "      <td>Simulation</td>\n",
              "      <td>9.05</td>\n",
              "      <td>10.95</td>\n",
              "      <td>1.93</td>\n",
              "      <td>2.74</td>\n",
              "      <td>NaN</td>\n",
              "      <td>NaN</td>\n",
              "      <td>NaN</td>\n",
              "    </tr>\n",
              "    <tr>\n",
              "      <td>...</td>\n",
              "      <td>...</td>\n",
              "      <td>...</td>\n",
              "      <td>...</td>\n",
              "      <td>...</td>\n",
              "      <td>...</td>\n",
              "      <td>...</td>\n",
              "      <td>...</td>\n",
              "      <td>...</td>\n",
              "      <td>...</td>\n",
              "      <td>...</td>\n",
              "      <td>...</td>\n",
              "    </tr>\n",
              "    <tr>\n",
              "      <td>16710</td>\n",
              "      <td>Samurai Warriors: Sanada Maru</td>\n",
              "      <td>PS3</td>\n",
              "      <td>2016</td>\n",
              "      <td>Action</td>\n",
              "      <td>0.00</td>\n",
              "      <td>0.00</td>\n",
              "      <td>0.01</td>\n",
              "      <td>0.00</td>\n",
              "      <td>NaN</td>\n",
              "      <td>NaN</td>\n",
              "      <td>NaN</td>\n",
              "    </tr>\n",
              "    <tr>\n",
              "      <td>16711</td>\n",
              "      <td>LMA Manager 2007</td>\n",
              "      <td>X360</td>\n",
              "      <td>2006</td>\n",
              "      <td>Sports</td>\n",
              "      <td>0.00</td>\n",
              "      <td>0.01</td>\n",
              "      <td>0.00</td>\n",
              "      <td>0.00</td>\n",
              "      <td>NaN</td>\n",
              "      <td>NaN</td>\n",
              "      <td>NaN</td>\n",
              "    </tr>\n",
              "    <tr>\n",
              "      <td>16712</td>\n",
              "      <td>Haitaka no Psychedelica</td>\n",
              "      <td>PSV</td>\n",
              "      <td>2016</td>\n",
              "      <td>Adventure</td>\n",
              "      <td>0.00</td>\n",
              "      <td>0.00</td>\n",
              "      <td>0.01</td>\n",
              "      <td>0.00</td>\n",
              "      <td>NaN</td>\n",
              "      <td>NaN</td>\n",
              "      <td>NaN</td>\n",
              "    </tr>\n",
              "    <tr>\n",
              "      <td>16713</td>\n",
              "      <td>Spirits &amp; Spells</td>\n",
              "      <td>GBA</td>\n",
              "      <td>2003</td>\n",
              "      <td>Platform</td>\n",
              "      <td>0.01</td>\n",
              "      <td>0.00</td>\n",
              "      <td>0.00</td>\n",
              "      <td>0.00</td>\n",
              "      <td>NaN</td>\n",
              "      <td>NaN</td>\n",
              "      <td>NaN</td>\n",
              "    </tr>\n",
              "    <tr>\n",
              "      <td>16714</td>\n",
              "      <td>Winning Post 8 2016</td>\n",
              "      <td>PSV</td>\n",
              "      <td>2016</td>\n",
              "      <td>Simulation</td>\n",
              "      <td>0.00</td>\n",
              "      <td>0.00</td>\n",
              "      <td>0.01</td>\n",
              "      <td>0.00</td>\n",
              "      <td>NaN</td>\n",
              "      <td>NaN</td>\n",
              "      <td>NaN</td>\n",
              "    </tr>\n",
              "  </tbody>\n",
              "</table>\n",
              "<p>8461 rows × 11 columns</p>\n",
              "</div>"
            ],
            "text/plain": [
              "                                name platform  year_of_release         genre  \\\n",
              "1                  Super Mario Bros.      NES             1985      Platform   \n",
              "4           Pokemon Red/Pokemon Blue       GB             1996  Role-Playing   \n",
              "5                             Tetris       GB             1989        Puzzle   \n",
              "9                          Duck Hunt      NES             1984       Shooter   \n",
              "10                        Nintendogs       DS             2005    Simulation   \n",
              "...                              ...      ...              ...           ...   \n",
              "16710  Samurai Warriors: Sanada Maru      PS3             2016        Action   \n",
              "16711               LMA Manager 2007     X360             2006        Sports   \n",
              "16712        Haitaka no Psychedelica      PSV             2016     Adventure   \n",
              "16713               Spirits & Spells      GBA             2003      Platform   \n",
              "16714            Winning Post 8 2016      PSV             2016    Simulation   \n",
              "\n",
              "       na_sales  eu_sales  jp_sales  other_sales  critic_score user_score  \\\n",
              "1         29.08      3.58      6.81         0.77           NaN        NaN   \n",
              "4         11.27      8.89     10.22         1.00           NaN        NaN   \n",
              "5         23.20      2.26      4.22         0.58           NaN        NaN   \n",
              "9         26.93      0.63      0.28         0.47           NaN        NaN   \n",
              "10         9.05     10.95      1.93         2.74           NaN        NaN   \n",
              "...         ...       ...       ...          ...           ...        ...   \n",
              "16710      0.00      0.00      0.01         0.00           NaN        NaN   \n",
              "16711      0.00      0.01      0.00         0.00           NaN        NaN   \n",
              "16712      0.00      0.00      0.01         0.00           NaN        NaN   \n",
              "16713      0.01      0.00      0.00         0.00           NaN        NaN   \n",
              "16714      0.00      0.00      0.01         0.00           NaN        NaN   \n",
              "\n",
              "      rating  \n",
              "1        NaN  \n",
              "4        NaN  \n",
              "5        NaN  \n",
              "9        NaN  \n",
              "10       NaN  \n",
              "...      ...  \n",
              "16710    NaN  \n",
              "16711    NaN  \n",
              "16712    NaN  \n",
              "16713    NaN  \n",
              "16714    NaN  \n",
              "\n",
              "[8461 rows x 11 columns]"
            ]
          },
          "execution_count": 17,
          "metadata": {},
          "output_type": "execute_result"
        }
      ],
      "source": [
        "#Проверим пропущенные значения в столбце с оценкой критиков\n",
        "video_data.loc[video_data['critic_score'].isna()]"
      ]
    },
    {
      "cell_type": "markdown",
      "metadata": {
        "id": "HCqBYxAmvzQD"
      },
      "source": [
        "В столбце \"critic_score\" имеется почти 50% пропущенных значений, считаю,что заменять их нулем или медианным значением некорректно из-за большого объема данных, что приведет к их значительному искажению.  \n",
        "\n",
        "Аналогично со столбцами \"user_score\" и \"rating\".  \n",
        "При этом в столбце \"user_score\" одно из самых частотвстречающихся значений - \"tbd\" = to be determined. Это означает, что рейтинг должен быть присвоен игре позднее после набора определенного количества оценок от пользователей.  \n",
        "\n",
        "В рамках проекта заменим данные значения на NaN в связи с тем, что приравнять их к нулю неверно, т.к. 0 - это самая низшая возможная оценка, что приведет к необоснованному появлению большого количества выбросов."
      ]
    },
    {
      "cell_type": "code",
      "execution_count": null,
      "metadata": {
        "id": "_B_uOLzavzQE"
      },
      "outputs": [],
      "source": [
        "video_data = video_data.replace('tbd', value = 'NaN')"
      ]
    },
    {
      "cell_type": "code",
      "execution_count": null,
      "metadata": {
        "id": "tn66x2KYvzQE"
      },
      "outputs": [],
      "source": [
        "#Для дальнейшей работы приведем столбец к числовому значению\n",
        "video_data['user_score'] = video_data['user_score'].astype('float64')"
      ]
    },
    {
      "cell_type": "code",
      "execution_count": null,
      "metadata": {
        "id": "MWhnr6ZrvzQF"
      },
      "outputs": [],
      "source": [
        "#Посчитаем суммарные продажи по всем регионам и выведем их в отдельный столбец\n",
        "video_data['total_sale'] = video_data['na_sales'] + video_data['eu_sales'] + video_data['jp_sales'] + video_data['other_sales']"
      ]
    },
    {
      "cell_type": "code",
      "execution_count": null,
      "metadata": {
        "id": "6-q2AANlvzQF",
        "outputId": "e0d320fa-755c-4f85-b97a-c6d519f0984b"
      },
      "outputs": [
        {
          "data": {
            "text/html": [
              "<div>\n",
              "<style scoped>\n",
              "    .dataframe tbody tr th:only-of-type {\n",
              "        vertical-align: middle;\n",
              "    }\n",
              "\n",
              "    .dataframe tbody tr th {\n",
              "        vertical-align: top;\n",
              "    }\n",
              "\n",
              "    .dataframe thead th {\n",
              "        text-align: right;\n",
              "    }\n",
              "</style>\n",
              "<table border=\"1\" class=\"dataframe\">\n",
              "  <thead>\n",
              "    <tr style=\"text-align: right;\">\n",
              "      <th></th>\n",
              "      <th>index</th>\n",
              "      <th>name</th>\n",
              "      <th>platform</th>\n",
              "      <th>year_of_release</th>\n",
              "      <th>genre</th>\n",
              "      <th>na_sales</th>\n",
              "      <th>eu_sales</th>\n",
              "      <th>jp_sales</th>\n",
              "      <th>other_sales</th>\n",
              "      <th>critic_score</th>\n",
              "      <th>user_score</th>\n",
              "      <th>rating</th>\n",
              "      <th>total_sale</th>\n",
              "    </tr>\n",
              "  </thead>\n",
              "  <tbody>\n",
              "    <tr>\n",
              "      <td>0</td>\n",
              "      <td>0</td>\n",
              "      <td>Wii Sports</td>\n",
              "      <td>Wii</td>\n",
              "      <td>2006</td>\n",
              "      <td>Sports</td>\n",
              "      <td>41.36</td>\n",
              "      <td>28.96</td>\n",
              "      <td>3.77</td>\n",
              "      <td>8.45</td>\n",
              "      <td>76.0</td>\n",
              "      <td>8.0</td>\n",
              "      <td>E</td>\n",
              "      <td>82.54</td>\n",
              "    </tr>\n",
              "    <tr>\n",
              "      <td>1</td>\n",
              "      <td>1</td>\n",
              "      <td>Super Mario Bros.</td>\n",
              "      <td>NES</td>\n",
              "      <td>1985</td>\n",
              "      <td>Platform</td>\n",
              "      <td>29.08</td>\n",
              "      <td>3.58</td>\n",
              "      <td>6.81</td>\n",
              "      <td>0.77</td>\n",
              "      <td>NaN</td>\n",
              "      <td>NaN</td>\n",
              "      <td>NaN</td>\n",
              "      <td>40.24</td>\n",
              "    </tr>\n",
              "    <tr>\n",
              "      <td>2</td>\n",
              "      <td>2</td>\n",
              "      <td>Mario Kart Wii</td>\n",
              "      <td>Wii</td>\n",
              "      <td>2008</td>\n",
              "      <td>Racing</td>\n",
              "      <td>15.68</td>\n",
              "      <td>12.76</td>\n",
              "      <td>3.79</td>\n",
              "      <td>3.29</td>\n",
              "      <td>82.0</td>\n",
              "      <td>8.3</td>\n",
              "      <td>E</td>\n",
              "      <td>35.52</td>\n",
              "    </tr>\n",
              "    <tr>\n",
              "      <td>3</td>\n",
              "      <td>3</td>\n",
              "      <td>Wii Sports Resort</td>\n",
              "      <td>Wii</td>\n",
              "      <td>2009</td>\n",
              "      <td>Sports</td>\n",
              "      <td>15.61</td>\n",
              "      <td>10.93</td>\n",
              "      <td>3.28</td>\n",
              "      <td>2.95</td>\n",
              "      <td>80.0</td>\n",
              "      <td>8.0</td>\n",
              "      <td>E</td>\n",
              "      <td>32.77</td>\n",
              "    </tr>\n",
              "    <tr>\n",
              "      <td>4</td>\n",
              "      <td>4</td>\n",
              "      <td>Pokemon Red/Pokemon Blue</td>\n",
              "      <td>GB</td>\n",
              "      <td>1996</td>\n",
              "      <td>Role-Playing</td>\n",
              "      <td>11.27</td>\n",
              "      <td>8.89</td>\n",
              "      <td>10.22</td>\n",
              "      <td>1.00</td>\n",
              "      <td>NaN</td>\n",
              "      <td>NaN</td>\n",
              "      <td>NaN</td>\n",
              "      <td>31.38</td>\n",
              "    </tr>\n",
              "    <tr>\n",
              "      <td>...</td>\n",
              "      <td>...</td>\n",
              "      <td>...</td>\n",
              "      <td>...</td>\n",
              "      <td>...</td>\n",
              "      <td>...</td>\n",
              "      <td>...</td>\n",
              "      <td>...</td>\n",
              "      <td>...</td>\n",
              "      <td>...</td>\n",
              "      <td>...</td>\n",
              "      <td>...</td>\n",
              "      <td>...</td>\n",
              "      <td>...</td>\n",
              "    </tr>\n",
              "    <tr>\n",
              "      <td>16439</td>\n",
              "      <td>16710</td>\n",
              "      <td>Samurai Warriors: Sanada Maru</td>\n",
              "      <td>PS3</td>\n",
              "      <td>2016</td>\n",
              "      <td>Action</td>\n",
              "      <td>0.00</td>\n",
              "      <td>0.00</td>\n",
              "      <td>0.01</td>\n",
              "      <td>0.00</td>\n",
              "      <td>NaN</td>\n",
              "      <td>NaN</td>\n",
              "      <td>NaN</td>\n",
              "      <td>0.01</td>\n",
              "    </tr>\n",
              "    <tr>\n",
              "      <td>16440</td>\n",
              "      <td>16711</td>\n",
              "      <td>LMA Manager 2007</td>\n",
              "      <td>X360</td>\n",
              "      <td>2006</td>\n",
              "      <td>Sports</td>\n",
              "      <td>0.00</td>\n",
              "      <td>0.01</td>\n",
              "      <td>0.00</td>\n",
              "      <td>0.00</td>\n",
              "      <td>NaN</td>\n",
              "      <td>NaN</td>\n",
              "      <td>NaN</td>\n",
              "      <td>0.01</td>\n",
              "    </tr>\n",
              "    <tr>\n",
              "      <td>16441</td>\n",
              "      <td>16712</td>\n",
              "      <td>Haitaka no Psychedelica</td>\n",
              "      <td>PSV</td>\n",
              "      <td>2016</td>\n",
              "      <td>Adventure</td>\n",
              "      <td>0.00</td>\n",
              "      <td>0.00</td>\n",
              "      <td>0.01</td>\n",
              "      <td>0.00</td>\n",
              "      <td>NaN</td>\n",
              "      <td>NaN</td>\n",
              "      <td>NaN</td>\n",
              "      <td>0.01</td>\n",
              "    </tr>\n",
              "    <tr>\n",
              "      <td>16442</td>\n",
              "      <td>16713</td>\n",
              "      <td>Spirits &amp; Spells</td>\n",
              "      <td>GBA</td>\n",
              "      <td>2003</td>\n",
              "      <td>Platform</td>\n",
              "      <td>0.01</td>\n",
              "      <td>0.00</td>\n",
              "      <td>0.00</td>\n",
              "      <td>0.00</td>\n",
              "      <td>NaN</td>\n",
              "      <td>NaN</td>\n",
              "      <td>NaN</td>\n",
              "      <td>0.01</td>\n",
              "    </tr>\n",
              "    <tr>\n",
              "      <td>16443</td>\n",
              "      <td>16714</td>\n",
              "      <td>Winning Post 8 2016</td>\n",
              "      <td>PSV</td>\n",
              "      <td>2016</td>\n",
              "      <td>Simulation</td>\n",
              "      <td>0.00</td>\n",
              "      <td>0.00</td>\n",
              "      <td>0.01</td>\n",
              "      <td>0.00</td>\n",
              "      <td>NaN</td>\n",
              "      <td>NaN</td>\n",
              "      <td>NaN</td>\n",
              "      <td>0.01</td>\n",
              "    </tr>\n",
              "  </tbody>\n",
              "</table>\n",
              "<p>16444 rows × 13 columns</p>\n",
              "</div>"
            ],
            "text/plain": [
              "       index                           name platform  year_of_release  \\\n",
              "0          0                     Wii Sports      Wii             2006   \n",
              "1          1              Super Mario Bros.      NES             1985   \n",
              "2          2                 Mario Kart Wii      Wii             2008   \n",
              "3          3              Wii Sports Resort      Wii             2009   \n",
              "4          4       Pokemon Red/Pokemon Blue       GB             1996   \n",
              "...      ...                            ...      ...              ...   \n",
              "16439  16710  Samurai Warriors: Sanada Maru      PS3             2016   \n",
              "16440  16711               LMA Manager 2007     X360             2006   \n",
              "16441  16712        Haitaka no Psychedelica      PSV             2016   \n",
              "16442  16713               Spirits & Spells      GBA             2003   \n",
              "16443  16714            Winning Post 8 2016      PSV             2016   \n",
              "\n",
              "              genre  na_sales  eu_sales  jp_sales  other_sales  critic_score  \\\n",
              "0            Sports     41.36     28.96      3.77         8.45          76.0   \n",
              "1          Platform     29.08      3.58      6.81         0.77           NaN   \n",
              "2            Racing     15.68     12.76      3.79         3.29          82.0   \n",
              "3            Sports     15.61     10.93      3.28         2.95          80.0   \n",
              "4      Role-Playing     11.27      8.89     10.22         1.00           NaN   \n",
              "...             ...       ...       ...       ...          ...           ...   \n",
              "16439        Action      0.00      0.00      0.01         0.00           NaN   \n",
              "16440        Sports      0.00      0.01      0.00         0.00           NaN   \n",
              "16441     Adventure      0.00      0.00      0.01         0.00           NaN   \n",
              "16442      Platform      0.01      0.00      0.00         0.00           NaN   \n",
              "16443    Simulation      0.00      0.00      0.01         0.00           NaN   \n",
              "\n",
              "       user_score rating  total_sale  \n",
              "0             8.0      E       82.54  \n",
              "1             NaN    NaN       40.24  \n",
              "2             8.3      E       35.52  \n",
              "3             8.0      E       32.77  \n",
              "4             NaN    NaN       31.38  \n",
              "...           ...    ...         ...  \n",
              "16439         NaN    NaN        0.01  \n",
              "16440         NaN    NaN        0.01  \n",
              "16441         NaN    NaN        0.01  \n",
              "16442         NaN    NaN        0.01  \n",
              "16443         NaN    NaN        0.01  \n",
              "\n",
              "[16444 rows x 13 columns]"
            ]
          },
          "execution_count": 21,
          "metadata": {},
          "output_type": "execute_result"
        }
      ],
      "source": [
        "video_data.reset_index()"
      ]
    },
    {
      "cell_type": "code",
      "execution_count": null,
      "metadata": {
        "id": "GMoq-fr6vzQG",
        "outputId": "92423717-b6d8-40dd-82dc-fa110db3e0d9"
      },
      "outputs": [
        {
          "data": {
            "text/html": [
              "<div>\n",
              "<style scoped>\n",
              "    .dataframe tbody tr th:only-of-type {\n",
              "        vertical-align: middle;\n",
              "    }\n",
              "\n",
              "    .dataframe tbody tr th {\n",
              "        vertical-align: top;\n",
              "    }\n",
              "\n",
              "    .dataframe thead th {\n",
              "        text-align: right;\n",
              "    }\n",
              "</style>\n",
              "<table border=\"1\" class=\"dataframe\">\n",
              "  <thead>\n",
              "    <tr style=\"text-align: right;\">\n",
              "      <th></th>\n",
              "      <th>name</th>\n",
              "      <th>platform</th>\n",
              "      <th>year_of_release</th>\n",
              "      <th>genre</th>\n",
              "      <th>na_sales</th>\n",
              "      <th>eu_sales</th>\n",
              "      <th>jp_sales</th>\n",
              "      <th>other_sales</th>\n",
              "      <th>critic_score</th>\n",
              "      <th>user_score</th>\n",
              "      <th>rating</th>\n",
              "      <th>total_sale</th>\n",
              "    </tr>\n",
              "  </thead>\n",
              "  <tbody>\n",
              "    <tr>\n",
              "      <td>0</td>\n",
              "      <td>Wii Sports</td>\n",
              "      <td>Wii</td>\n",
              "      <td>2006</td>\n",
              "      <td>Sports</td>\n",
              "      <td>41.36</td>\n",
              "      <td>28.96</td>\n",
              "      <td>3.77</td>\n",
              "      <td>8.45</td>\n",
              "      <td>76.0</td>\n",
              "      <td>8.0</td>\n",
              "      <td>E</td>\n",
              "      <td>82.54</td>\n",
              "    </tr>\n",
              "    <tr>\n",
              "      <td>1</td>\n",
              "      <td>Super Mario Bros.</td>\n",
              "      <td>NES</td>\n",
              "      <td>1985</td>\n",
              "      <td>Platform</td>\n",
              "      <td>29.08</td>\n",
              "      <td>3.58</td>\n",
              "      <td>6.81</td>\n",
              "      <td>0.77</td>\n",
              "      <td>NaN</td>\n",
              "      <td>NaN</td>\n",
              "      <td>NaN</td>\n",
              "      <td>40.24</td>\n",
              "    </tr>\n",
              "    <tr>\n",
              "      <td>2</td>\n",
              "      <td>Mario Kart Wii</td>\n",
              "      <td>Wii</td>\n",
              "      <td>2008</td>\n",
              "      <td>Racing</td>\n",
              "      <td>15.68</td>\n",
              "      <td>12.76</td>\n",
              "      <td>3.79</td>\n",
              "      <td>3.29</td>\n",
              "      <td>82.0</td>\n",
              "      <td>8.3</td>\n",
              "      <td>E</td>\n",
              "      <td>35.52</td>\n",
              "    </tr>\n",
              "    <tr>\n",
              "      <td>3</td>\n",
              "      <td>Wii Sports Resort</td>\n",
              "      <td>Wii</td>\n",
              "      <td>2009</td>\n",
              "      <td>Sports</td>\n",
              "      <td>15.61</td>\n",
              "      <td>10.93</td>\n",
              "      <td>3.28</td>\n",
              "      <td>2.95</td>\n",
              "      <td>80.0</td>\n",
              "      <td>8.0</td>\n",
              "      <td>E</td>\n",
              "      <td>32.77</td>\n",
              "    </tr>\n",
              "    <tr>\n",
              "      <td>4</td>\n",
              "      <td>Pokemon Red/Pokemon Blue</td>\n",
              "      <td>GB</td>\n",
              "      <td>1996</td>\n",
              "      <td>Role-Playing</td>\n",
              "      <td>11.27</td>\n",
              "      <td>8.89</td>\n",
              "      <td>10.22</td>\n",
              "      <td>1.00</td>\n",
              "      <td>NaN</td>\n",
              "      <td>NaN</td>\n",
              "      <td>NaN</td>\n",
              "      <td>31.38</td>\n",
              "    </tr>\n",
              "    <tr>\n",
              "      <td>5</td>\n",
              "      <td>Tetris</td>\n",
              "      <td>GB</td>\n",
              "      <td>1989</td>\n",
              "      <td>Puzzle</td>\n",
              "      <td>23.20</td>\n",
              "      <td>2.26</td>\n",
              "      <td>4.22</td>\n",
              "      <td>0.58</td>\n",
              "      <td>NaN</td>\n",
              "      <td>NaN</td>\n",
              "      <td>NaN</td>\n",
              "      <td>30.26</td>\n",
              "    </tr>\n",
              "    <tr>\n",
              "      <td>6</td>\n",
              "      <td>New Super Mario Bros.</td>\n",
              "      <td>DS</td>\n",
              "      <td>2006</td>\n",
              "      <td>Platform</td>\n",
              "      <td>11.28</td>\n",
              "      <td>9.14</td>\n",
              "      <td>6.50</td>\n",
              "      <td>2.88</td>\n",
              "      <td>89.0</td>\n",
              "      <td>8.5</td>\n",
              "      <td>E</td>\n",
              "      <td>29.80</td>\n",
              "    </tr>\n",
              "    <tr>\n",
              "      <td>7</td>\n",
              "      <td>Wii Play</td>\n",
              "      <td>Wii</td>\n",
              "      <td>2006</td>\n",
              "      <td>Misc</td>\n",
              "      <td>13.96</td>\n",
              "      <td>9.18</td>\n",
              "      <td>2.93</td>\n",
              "      <td>2.84</td>\n",
              "      <td>58.0</td>\n",
              "      <td>6.6</td>\n",
              "      <td>E</td>\n",
              "      <td>28.91</td>\n",
              "    </tr>\n",
              "    <tr>\n",
              "      <td>8</td>\n",
              "      <td>New Super Mario Bros. Wii</td>\n",
              "      <td>Wii</td>\n",
              "      <td>2009</td>\n",
              "      <td>Platform</td>\n",
              "      <td>14.44</td>\n",
              "      <td>6.94</td>\n",
              "      <td>4.70</td>\n",
              "      <td>2.24</td>\n",
              "      <td>87.0</td>\n",
              "      <td>8.4</td>\n",
              "      <td>E</td>\n",
              "      <td>28.32</td>\n",
              "    </tr>\n",
              "    <tr>\n",
              "      <td>9</td>\n",
              "      <td>Duck Hunt</td>\n",
              "      <td>NES</td>\n",
              "      <td>1984</td>\n",
              "      <td>Shooter</td>\n",
              "      <td>26.93</td>\n",
              "      <td>0.63</td>\n",
              "      <td>0.28</td>\n",
              "      <td>0.47</td>\n",
              "      <td>NaN</td>\n",
              "      <td>NaN</td>\n",
              "      <td>NaN</td>\n",
              "      <td>28.31</td>\n",
              "    </tr>\n",
              "    <tr>\n",
              "      <td>10</td>\n",
              "      <td>Nintendogs</td>\n",
              "      <td>DS</td>\n",
              "      <td>2005</td>\n",
              "      <td>Simulation</td>\n",
              "      <td>9.05</td>\n",
              "      <td>10.95</td>\n",
              "      <td>1.93</td>\n",
              "      <td>2.74</td>\n",
              "      <td>NaN</td>\n",
              "      <td>NaN</td>\n",
              "      <td>NaN</td>\n",
              "      <td>24.67</td>\n",
              "    </tr>\n",
              "    <tr>\n",
              "      <td>11</td>\n",
              "      <td>Mario Kart DS</td>\n",
              "      <td>DS</td>\n",
              "      <td>2005</td>\n",
              "      <td>Racing</td>\n",
              "      <td>9.71</td>\n",
              "      <td>7.47</td>\n",
              "      <td>4.13</td>\n",
              "      <td>1.90</td>\n",
              "      <td>91.0</td>\n",
              "      <td>8.6</td>\n",
              "      <td>E</td>\n",
              "      <td>23.21</td>\n",
              "    </tr>\n",
              "    <tr>\n",
              "      <td>12</td>\n",
              "      <td>Pokemon Gold/Pokemon Silver</td>\n",
              "      <td>GB</td>\n",
              "      <td>1999</td>\n",
              "      <td>Role-Playing</td>\n",
              "      <td>9.00</td>\n",
              "      <td>6.18</td>\n",
              "      <td>7.20</td>\n",
              "      <td>0.71</td>\n",
              "      <td>NaN</td>\n",
              "      <td>NaN</td>\n",
              "      <td>NaN</td>\n",
              "      <td>23.09</td>\n",
              "    </tr>\n",
              "    <tr>\n",
              "      <td>13</td>\n",
              "      <td>Wii Fit</td>\n",
              "      <td>Wii</td>\n",
              "      <td>2007</td>\n",
              "      <td>Sports</td>\n",
              "      <td>8.92</td>\n",
              "      <td>8.03</td>\n",
              "      <td>3.60</td>\n",
              "      <td>2.15</td>\n",
              "      <td>80.0</td>\n",
              "      <td>7.7</td>\n",
              "      <td>E</td>\n",
              "      <td>22.70</td>\n",
              "    </tr>\n",
              "    <tr>\n",
              "      <td>14</td>\n",
              "      <td>Kinect Adventures!</td>\n",
              "      <td>X360</td>\n",
              "      <td>2010</td>\n",
              "      <td>Misc</td>\n",
              "      <td>15.00</td>\n",
              "      <td>4.89</td>\n",
              "      <td>0.24</td>\n",
              "      <td>1.69</td>\n",
              "      <td>61.0</td>\n",
              "      <td>6.3</td>\n",
              "      <td>E</td>\n",
              "      <td>21.82</td>\n",
              "    </tr>\n",
              "  </tbody>\n",
              "</table>\n",
              "</div>"
            ],
            "text/plain": [
              "                           name platform  year_of_release         genre  \\\n",
              "0                    Wii Sports      Wii             2006        Sports   \n",
              "1             Super Mario Bros.      NES             1985      Platform   \n",
              "2                Mario Kart Wii      Wii             2008        Racing   \n",
              "3             Wii Sports Resort      Wii             2009        Sports   \n",
              "4      Pokemon Red/Pokemon Blue       GB             1996  Role-Playing   \n",
              "5                        Tetris       GB             1989        Puzzle   \n",
              "6         New Super Mario Bros.       DS             2006      Platform   \n",
              "7                      Wii Play      Wii             2006          Misc   \n",
              "8     New Super Mario Bros. Wii      Wii             2009      Platform   \n",
              "9                     Duck Hunt      NES             1984       Shooter   \n",
              "10                   Nintendogs       DS             2005    Simulation   \n",
              "11                Mario Kart DS       DS             2005        Racing   \n",
              "12  Pokemon Gold/Pokemon Silver       GB             1999  Role-Playing   \n",
              "13                      Wii Fit      Wii             2007        Sports   \n",
              "14           Kinect Adventures!     X360             2010          Misc   \n",
              "\n",
              "    na_sales  eu_sales  jp_sales  other_sales  critic_score  user_score  \\\n",
              "0      41.36     28.96      3.77         8.45          76.0         8.0   \n",
              "1      29.08      3.58      6.81         0.77           NaN         NaN   \n",
              "2      15.68     12.76      3.79         3.29          82.0         8.3   \n",
              "3      15.61     10.93      3.28         2.95          80.0         8.0   \n",
              "4      11.27      8.89     10.22         1.00           NaN         NaN   \n",
              "5      23.20      2.26      4.22         0.58           NaN         NaN   \n",
              "6      11.28      9.14      6.50         2.88          89.0         8.5   \n",
              "7      13.96      9.18      2.93         2.84          58.0         6.6   \n",
              "8      14.44      6.94      4.70         2.24          87.0         8.4   \n",
              "9      26.93      0.63      0.28         0.47           NaN         NaN   \n",
              "10      9.05     10.95      1.93         2.74           NaN         NaN   \n",
              "11      9.71      7.47      4.13         1.90          91.0         8.6   \n",
              "12      9.00      6.18      7.20         0.71           NaN         NaN   \n",
              "13      8.92      8.03      3.60         2.15          80.0         7.7   \n",
              "14     15.00      4.89      0.24         1.69          61.0         6.3   \n",
              "\n",
              "   rating  total_sale  \n",
              "0       E       82.54  \n",
              "1     NaN       40.24  \n",
              "2       E       35.52  \n",
              "3       E       32.77  \n",
              "4     NaN       31.38  \n",
              "5     NaN       30.26  \n",
              "6       E       29.80  \n",
              "7       E       28.91  \n",
              "8       E       28.32  \n",
              "9     NaN       28.31  \n",
              "10    NaN       24.67  \n",
              "11      E       23.21  \n",
              "12    NaN       23.09  \n",
              "13      E       22.70  \n",
              "14      E       21.82  "
            ]
          },
          "execution_count": 22,
          "metadata": {},
          "output_type": "execute_result"
        }
      ],
      "source": [
        "video_data.head(15)"
      ]
    },
    {
      "cell_type": "code",
      "execution_count": null,
      "metadata": {
        "id": "rSbUhelQvzQG",
        "outputId": "6dc3d904-3885-4dc8-9dee-af56f04cab5f"
      },
      "outputs": [
        {
          "data": {
            "text/plain": [
              "0"
            ]
          },
          "execution_count": 23,
          "metadata": {},
          "output_type": "execute_result"
        }
      ],
      "source": [
        "#Проверим на наличие дубликатов\n",
        "video_data.duplicated().sum()"
      ]
    },
    {
      "cell_type": "markdown",
      "metadata": {
        "id": "Yf_CdcDsvzQG"
      },
      "source": [
        "**Вывод:**  \n",
        "Привели наименования столбцов к нижнему регистру.  \n",
        "Удалили игры без названий и без года выхода.  \n",
        "Все пропуски в столбцах рейтингов оставили без изменений - заменить отсутствующие значения нет возможности.  \n",
        "Проверили базу на наличие дубликатов - дубликатов нет.\n"
      ]
    },
    {
      "cell_type": "markdown",
      "metadata": {
        "id": "yfdzUtC0vzQH"
      },
      "source": [
        "## Исследовательский анализ данных\n",
        "<a id=\"analytics\"></a>"
      ]
    },
    {
      "cell_type": "markdown",
      "metadata": {
        "id": "DraKLy0xvzQH"
      },
      "source": [
        "### Анализ выпуска игр по годам"
      ]
    },
    {
      "cell_type": "code",
      "execution_count": null,
      "metadata": {
        "scrolled": false,
        "id": "r4_MHClKvzQH",
        "outputId": "a45212e8-0c06-43d6-c54e-f4968eb5f896"
      },
      "outputs": [
        {
          "data": {
            "image/png": "[encoded data removed]",
            "text/plain": [
              "<Figure size 720x432 with 1 Axes>"
            ]
          },
          "metadata": {
            "needs_background": "light"
          },
          "output_type": "display_data"
        }
      ],
      "source": [
        "#Построим график зависимости выхода игр от года\n",
        "video_data.groupby('year_of_release')['name'] \\\n",
        "    .count().plot(figsize=(10,6),style=\"-o\")\n",
        "\n",
        "plt.title('Количество проданных игр по годам выпуска')\n",
        "plt.xlabel('Год выпуска')\n",
        "plt.ylabel('Количество игр, ед.')\n",
        "plt.grid(axis='both')"
      ]
    },
    {
      "cell_type": "code",
      "execution_count": null,
      "metadata": {
        "scrolled": true,
        "id": "Wd_1HEYevzQI",
        "outputId": "d1a13315-6264-4159-afa6-7019ddcc2a65"
      },
      "outputs": [
        {
          "data": {
            "text/html": [
              "<div>\n",
              "<style scoped>\n",
              "    .dataframe tbody tr th:only-of-type {\n",
              "        vertical-align: middle;\n",
              "    }\n",
              "\n",
              "    .dataframe tbody tr th {\n",
              "        vertical-align: top;\n",
              "    }\n",
              "\n",
              "    .dataframe thead th {\n",
              "        text-align: right;\n",
              "    }\n",
              "</style>\n",
              "<table border=\"1\" class=\"dataframe\">\n",
              "  <thead>\n",
              "    <tr style=\"text-align: right;\">\n",
              "      <th></th>\n",
              "      <th>name</th>\n",
              "      <th>platform</th>\n",
              "      <th>genre</th>\n",
              "      <th>na_sales</th>\n",
              "      <th>eu_sales</th>\n",
              "      <th>jp_sales</th>\n",
              "      <th>other_sales</th>\n",
              "      <th>critic_score</th>\n",
              "      <th>user_score</th>\n",
              "      <th>rating</th>\n",
              "      <th>total_sale</th>\n",
              "    </tr>\n",
              "    <tr>\n",
              "      <th>year_of_release</th>\n",
              "      <th></th>\n",
              "      <th></th>\n",
              "      <th></th>\n",
              "      <th></th>\n",
              "      <th></th>\n",
              "      <th></th>\n",
              "      <th></th>\n",
              "      <th></th>\n",
              "      <th></th>\n",
              "      <th></th>\n",
              "      <th></th>\n",
              "    </tr>\n",
              "  </thead>\n",
              "  <tbody>\n",
              "    <tr>\n",
              "      <td>1980</td>\n",
              "      <td>9</td>\n",
              "      <td>9</td>\n",
              "      <td>9</td>\n",
              "      <td>9</td>\n",
              "      <td>9</td>\n",
              "      <td>9</td>\n",
              "      <td>9</td>\n",
              "      <td>0</td>\n",
              "      <td>0</td>\n",
              "      <td>0</td>\n",
              "      <td>9</td>\n",
              "    </tr>\n",
              "    <tr>\n",
              "      <td>1981</td>\n",
              "      <td>46</td>\n",
              "      <td>46</td>\n",
              "      <td>46</td>\n",
              "      <td>46</td>\n",
              "      <td>46</td>\n",
              "      <td>46</td>\n",
              "      <td>46</td>\n",
              "      <td>0</td>\n",
              "      <td>0</td>\n",
              "      <td>0</td>\n",
              "      <td>46</td>\n",
              "    </tr>\n",
              "    <tr>\n",
              "      <td>1982</td>\n",
              "      <td>36</td>\n",
              "      <td>36</td>\n",
              "      <td>36</td>\n",
              "      <td>36</td>\n",
              "      <td>36</td>\n",
              "      <td>36</td>\n",
              "      <td>36</td>\n",
              "      <td>0</td>\n",
              "      <td>0</td>\n",
              "      <td>0</td>\n",
              "      <td>36</td>\n",
              "    </tr>\n",
              "    <tr>\n",
              "      <td>1983</td>\n",
              "      <td>17</td>\n",
              "      <td>17</td>\n",
              "      <td>17</td>\n",
              "      <td>17</td>\n",
              "      <td>17</td>\n",
              "      <td>17</td>\n",
              "      <td>17</td>\n",
              "      <td>0</td>\n",
              "      <td>0</td>\n",
              "      <td>0</td>\n",
              "      <td>17</td>\n",
              "    </tr>\n",
              "    <tr>\n",
              "      <td>1984</td>\n",
              "      <td>14</td>\n",
              "      <td>14</td>\n",
              "      <td>14</td>\n",
              "      <td>14</td>\n",
              "      <td>14</td>\n",
              "      <td>14</td>\n",
              "      <td>14</td>\n",
              "      <td>0</td>\n",
              "      <td>0</td>\n",
              "      <td>0</td>\n",
              "      <td>14</td>\n",
              "    </tr>\n",
              "    <tr>\n",
              "      <td>1985</td>\n",
              "      <td>14</td>\n",
              "      <td>14</td>\n",
              "      <td>14</td>\n",
              "      <td>14</td>\n",
              "      <td>14</td>\n",
              "      <td>14</td>\n",
              "      <td>14</td>\n",
              "      <td>1</td>\n",
              "      <td>1</td>\n",
              "      <td>1</td>\n",
              "      <td>14</td>\n",
              "    </tr>\n",
              "    <tr>\n",
              "      <td>1986</td>\n",
              "      <td>21</td>\n",
              "      <td>21</td>\n",
              "      <td>21</td>\n",
              "      <td>21</td>\n",
              "      <td>21</td>\n",
              "      <td>21</td>\n",
              "      <td>21</td>\n",
              "      <td>0</td>\n",
              "      <td>0</td>\n",
              "      <td>0</td>\n",
              "      <td>21</td>\n",
              "    </tr>\n",
              "    <tr>\n",
              "      <td>1987</td>\n",
              "      <td>16</td>\n",
              "      <td>16</td>\n",
              "      <td>16</td>\n",
              "      <td>16</td>\n",
              "      <td>16</td>\n",
              "      <td>16</td>\n",
              "      <td>16</td>\n",
              "      <td>0</td>\n",
              "      <td>0</td>\n",
              "      <td>0</td>\n",
              "      <td>16</td>\n",
              "    </tr>\n",
              "    <tr>\n",
              "      <td>1988</td>\n",
              "      <td>15</td>\n",
              "      <td>15</td>\n",
              "      <td>15</td>\n",
              "      <td>15</td>\n",
              "      <td>15</td>\n",
              "      <td>15</td>\n",
              "      <td>15</td>\n",
              "      <td>1</td>\n",
              "      <td>1</td>\n",
              "      <td>1</td>\n",
              "      <td>15</td>\n",
              "    </tr>\n",
              "    <tr>\n",
              "      <td>1989</td>\n",
              "      <td>17</td>\n",
              "      <td>17</td>\n",
              "      <td>17</td>\n",
              "      <td>17</td>\n",
              "      <td>17</td>\n",
              "      <td>17</td>\n",
              "      <td>17</td>\n",
              "      <td>0</td>\n",
              "      <td>0</td>\n",
              "      <td>0</td>\n",
              "      <td>17</td>\n",
              "    </tr>\n",
              "    <tr>\n",
              "      <td>1990</td>\n",
              "      <td>16</td>\n",
              "      <td>16</td>\n",
              "      <td>16</td>\n",
              "      <td>16</td>\n",
              "      <td>16</td>\n",
              "      <td>16</td>\n",
              "      <td>16</td>\n",
              "      <td>0</td>\n",
              "      <td>0</td>\n",
              "      <td>0</td>\n",
              "      <td>16</td>\n",
              "    </tr>\n",
              "    <tr>\n",
              "      <td>1991</td>\n",
              "      <td>41</td>\n",
              "      <td>41</td>\n",
              "      <td>41</td>\n",
              "      <td>41</td>\n",
              "      <td>41</td>\n",
              "      <td>41</td>\n",
              "      <td>41</td>\n",
              "      <td>0</td>\n",
              "      <td>0</td>\n",
              "      <td>0</td>\n",
              "      <td>41</td>\n",
              "    </tr>\n",
              "    <tr>\n",
              "      <td>1992</td>\n",
              "      <td>43</td>\n",
              "      <td>43</td>\n",
              "      <td>43</td>\n",
              "      <td>43</td>\n",
              "      <td>43</td>\n",
              "      <td>43</td>\n",
              "      <td>43</td>\n",
              "      <td>1</td>\n",
              "      <td>1</td>\n",
              "      <td>2</td>\n",
              "      <td>43</td>\n",
              "    </tr>\n",
              "    <tr>\n",
              "      <td>1993</td>\n",
              "      <td>60</td>\n",
              "      <td>60</td>\n",
              "      <td>60</td>\n",
              "      <td>60</td>\n",
              "      <td>60</td>\n",
              "      <td>60</td>\n",
              "      <td>60</td>\n",
              "      <td>0</td>\n",
              "      <td>0</td>\n",
              "      <td>0</td>\n",
              "      <td>60</td>\n",
              "    </tr>\n",
              "    <tr>\n",
              "      <td>1994</td>\n",
              "      <td>121</td>\n",
              "      <td>121</td>\n",
              "      <td>121</td>\n",
              "      <td>121</td>\n",
              "      <td>121</td>\n",
              "      <td>121</td>\n",
              "      <td>121</td>\n",
              "      <td>1</td>\n",
              "      <td>1</td>\n",
              "      <td>1</td>\n",
              "      <td>121</td>\n",
              "    </tr>\n",
              "    <tr>\n",
              "      <td>1995</td>\n",
              "      <td>219</td>\n",
              "      <td>219</td>\n",
              "      <td>219</td>\n",
              "      <td>219</td>\n",
              "      <td>219</td>\n",
              "      <td>219</td>\n",
              "      <td>219</td>\n",
              "      <td>0</td>\n",
              "      <td>0</td>\n",
              "      <td>0</td>\n",
              "      <td>219</td>\n",
              "    </tr>\n",
              "    <tr>\n",
              "      <td>1996</td>\n",
              "      <td>263</td>\n",
              "      <td>263</td>\n",
              "      <td>263</td>\n",
              "      <td>263</td>\n",
              "      <td>263</td>\n",
              "      <td>263</td>\n",
              "      <td>263</td>\n",
              "      <td>8</td>\n",
              "      <td>8</td>\n",
              "      <td>7</td>\n",
              "      <td>263</td>\n",
              "    </tr>\n",
              "    <tr>\n",
              "      <td>1997</td>\n",
              "      <td>289</td>\n",
              "      <td>289</td>\n",
              "      <td>289</td>\n",
              "      <td>289</td>\n",
              "      <td>289</td>\n",
              "      <td>289</td>\n",
              "      <td>289</td>\n",
              "      <td>17</td>\n",
              "      <td>18</td>\n",
              "      <td>19</td>\n",
              "      <td>289</td>\n",
              "    </tr>\n",
              "    <tr>\n",
              "      <td>1998</td>\n",
              "      <td>379</td>\n",
              "      <td>379</td>\n",
              "      <td>379</td>\n",
              "      <td>379</td>\n",
              "      <td>379</td>\n",
              "      <td>379</td>\n",
              "      <td>379</td>\n",
              "      <td>28</td>\n",
              "      <td>31</td>\n",
              "      <td>32</td>\n",
              "      <td>379</td>\n",
              "    </tr>\n",
              "    <tr>\n",
              "      <td>1999</td>\n",
              "      <td>338</td>\n",
              "      <td>338</td>\n",
              "      <td>338</td>\n",
              "      <td>338</td>\n",
              "      <td>338</td>\n",
              "      <td>338</td>\n",
              "      <td>338</td>\n",
              "      <td>39</td>\n",
              "      <td>31</td>\n",
              "      <td>42</td>\n",
              "      <td>338</td>\n",
              "    </tr>\n",
              "    <tr>\n",
              "      <td>2000</td>\n",
              "      <td>350</td>\n",
              "      <td>350</td>\n",
              "      <td>350</td>\n",
              "      <td>350</td>\n",
              "      <td>350</td>\n",
              "      <td>350</td>\n",
              "      <td>350</td>\n",
              "      <td>143</td>\n",
              "      <td>107</td>\n",
              "      <td>148</td>\n",
              "      <td>350</td>\n",
              "    </tr>\n",
              "    <tr>\n",
              "      <td>2001</td>\n",
              "      <td>482</td>\n",
              "      <td>482</td>\n",
              "      <td>482</td>\n",
              "      <td>482</td>\n",
              "      <td>482</td>\n",
              "      <td>482</td>\n",
              "      <td>482</td>\n",
              "      <td>326</td>\n",
              "      <td>257</td>\n",
              "      <td>339</td>\n",
              "      <td>482</td>\n",
              "    </tr>\n",
              "    <tr>\n",
              "      <td>2002</td>\n",
              "      <td>829</td>\n",
              "      <td>829</td>\n",
              "      <td>829</td>\n",
              "      <td>829</td>\n",
              "      <td>829</td>\n",
              "      <td>829</td>\n",
              "      <td>829</td>\n",
              "      <td>627</td>\n",
              "      <td>464</td>\n",
              "      <td>655</td>\n",
              "      <td>829</td>\n",
              "    </tr>\n",
              "    <tr>\n",
              "      <td>2003</td>\n",
              "      <td>775</td>\n",
              "      <td>775</td>\n",
              "      <td>775</td>\n",
              "      <td>775</td>\n",
              "      <td>775</td>\n",
              "      <td>775</td>\n",
              "      <td>775</td>\n",
              "      <td>585</td>\n",
              "      <td>516</td>\n",
              "      <td>613</td>\n",
              "      <td>775</td>\n",
              "    </tr>\n",
              "    <tr>\n",
              "      <td>2004</td>\n",
              "      <td>762</td>\n",
              "      <td>762</td>\n",
              "      <td>762</td>\n",
              "      <td>762</td>\n",
              "      <td>762</td>\n",
              "      <td>762</td>\n",
              "      <td>762</td>\n",
              "      <td>561</td>\n",
              "      <td>489</td>\n",
              "      <td>598</td>\n",
              "      <td>762</td>\n",
              "    </tr>\n",
              "    <tr>\n",
              "      <td>2005</td>\n",
              "      <td>939</td>\n",
              "      <td>939</td>\n",
              "      <td>939</td>\n",
              "      <td>939</td>\n",
              "      <td>939</td>\n",
              "      <td>939</td>\n",
              "      <td>939</td>\n",
              "      <td>655</td>\n",
              "      <td>583</td>\n",
              "      <td>706</td>\n",
              "      <td>939</td>\n",
              "    </tr>\n",
              "    <tr>\n",
              "      <td>2006</td>\n",
              "      <td>1006</td>\n",
              "      <td>1006</td>\n",
              "      <td>1006</td>\n",
              "      <td>1006</td>\n",
              "      <td>1006</td>\n",
              "      <td>1006</td>\n",
              "      <td>1006</td>\n",
              "      <td>620</td>\n",
              "      <td>552</td>\n",
              "      <td>678</td>\n",
              "      <td>1006</td>\n",
              "    </tr>\n",
              "    <tr>\n",
              "      <td>2007</td>\n",
              "      <td>1197</td>\n",
              "      <td>1197</td>\n",
              "      <td>1197</td>\n",
              "      <td>1197</td>\n",
              "      <td>1197</td>\n",
              "      <td>1197</td>\n",
              "      <td>1197</td>\n",
              "      <td>692</td>\n",
              "      <td>629</td>\n",
              "      <td>821</td>\n",
              "      <td>1197</td>\n",
              "    </tr>\n",
              "    <tr>\n",
              "      <td>2008</td>\n",
              "      <td>1427</td>\n",
              "      <td>1427</td>\n",
              "      <td>1427</td>\n",
              "      <td>1427</td>\n",
              "      <td>1427</td>\n",
              "      <td>1427</td>\n",
              "      <td>1427</td>\n",
              "      <td>715</td>\n",
              "      <td>661</td>\n",
              "      <td>981</td>\n",
              "      <td>1427</td>\n",
              "    </tr>\n",
              "    <tr>\n",
              "      <td>2009</td>\n",
              "      <td>1426</td>\n",
              "      <td>1426</td>\n",
              "      <td>1426</td>\n",
              "      <td>1426</td>\n",
              "      <td>1426</td>\n",
              "      <td>1426</td>\n",
              "      <td>1426</td>\n",
              "      <td>651</td>\n",
              "      <td>614</td>\n",
              "      <td>1011</td>\n",
              "      <td>1426</td>\n",
              "    </tr>\n",
              "    <tr>\n",
              "      <td>2010</td>\n",
              "      <td>1255</td>\n",
              "      <td>1255</td>\n",
              "      <td>1255</td>\n",
              "      <td>1255</td>\n",
              "      <td>1255</td>\n",
              "      <td>1255</td>\n",
              "      <td>1255</td>\n",
              "      <td>500</td>\n",
              "      <td>467</td>\n",
              "      <td>799</td>\n",
              "      <td>1255</td>\n",
              "    </tr>\n",
              "    <tr>\n",
              "      <td>2011</td>\n",
              "      <td>1136</td>\n",
              "      <td>1136</td>\n",
              "      <td>1136</td>\n",
              "      <td>1136</td>\n",
              "      <td>1136</td>\n",
              "      <td>1136</td>\n",
              "      <td>1136</td>\n",
              "      <td>500</td>\n",
              "      <td>501</td>\n",
              "      <td>703</td>\n",
              "      <td>1136</td>\n",
              "    </tr>\n",
              "    <tr>\n",
              "      <td>2012</td>\n",
              "      <td>653</td>\n",
              "      <td>653</td>\n",
              "      <td>653</td>\n",
              "      <td>653</td>\n",
              "      <td>653</td>\n",
              "      <td>653</td>\n",
              "      <td>653</td>\n",
              "      <td>321</td>\n",
              "      <td>339</td>\n",
              "      <td>355</td>\n",
              "      <td>653</td>\n",
              "    </tr>\n",
              "    <tr>\n",
              "      <td>2013</td>\n",
              "      <td>544</td>\n",
              "      <td>544</td>\n",
              "      <td>544</td>\n",
              "      <td>544</td>\n",
              "      <td>544</td>\n",
              "      <td>544</td>\n",
              "      <td>544</td>\n",
              "      <td>273</td>\n",
              "      <td>304</td>\n",
              "      <td>316</td>\n",
              "      <td>544</td>\n",
              "    </tr>\n",
              "    <tr>\n",
              "      <td>2014</td>\n",
              "      <td>581</td>\n",
              "      <td>581</td>\n",
              "      <td>581</td>\n",
              "      <td>581</td>\n",
              "      <td>581</td>\n",
              "      <td>581</td>\n",
              "      <td>581</td>\n",
              "      <td>261</td>\n",
              "      <td>329</td>\n",
              "      <td>345</td>\n",
              "      <td>581</td>\n",
              "    </tr>\n",
              "    <tr>\n",
              "      <td>2015</td>\n",
              "      <td>606</td>\n",
              "      <td>606</td>\n",
              "      <td>606</td>\n",
              "      <td>606</td>\n",
              "      <td>606</td>\n",
              "      <td>606</td>\n",
              "      <td>606</td>\n",
              "      <td>225</td>\n",
              "      <td>297</td>\n",
              "      <td>315</td>\n",
              "      <td>606</td>\n",
              "    </tr>\n",
              "    <tr>\n",
              "      <td>2016</td>\n",
              "      <td>502</td>\n",
              "      <td>502</td>\n",
              "      <td>502</td>\n",
              "      <td>502</td>\n",
              "      <td>502</td>\n",
              "      <td>502</td>\n",
              "      <td>502</td>\n",
              "      <td>232</td>\n",
              "      <td>262</td>\n",
              "      <td>280</td>\n",
              "      <td>502</td>\n",
              "    </tr>\n",
              "  </tbody>\n",
              "</table>\n",
              "</div>"
            ],
            "text/plain": [
              "                 name  platform  genre  na_sales  eu_sales  jp_sales  \\\n",
              "year_of_release                                                        \n",
              "1980                9         9      9         9         9         9   \n",
              "1981               46        46     46        46        46        46   \n",
              "1982               36        36     36        36        36        36   \n",
              "1983               17        17     17        17        17        17   \n",
              "1984               14        14     14        14        14        14   \n",
              "1985               14        14     14        14        14        14   \n",
              "1986               21        21     21        21        21        21   \n",
              "1987               16        16     16        16        16        16   \n",
              "1988               15        15     15        15        15        15   \n",
              "1989               17        17     17        17        17        17   \n",
              "1990               16        16     16        16        16        16   \n",
              "1991               41        41     41        41        41        41   \n",
              "1992               43        43     43        43        43        43   \n",
              "1993               60        60     60        60        60        60   \n",
              "1994              121       121    121       121       121       121   \n",
              "1995              219       219    219       219       219       219   \n",
              "1996              263       263    263       263       263       263   \n",
              "1997              289       289    289       289       289       289   \n",
              "1998              379       379    379       379       379       379   \n",
              "1999              338       338    338       338       338       338   \n",
              "2000              350       350    350       350       350       350   \n",
              "2001              482       482    482       482       482       482   \n",
              "2002              829       829    829       829       829       829   \n",
              "2003              775       775    775       775       775       775   \n",
              "2004              762       762    762       762       762       762   \n",
              "2005              939       939    939       939       939       939   \n",
              "2006             1006      1006   1006      1006      1006      1006   \n",
              "2007             1197      1197   1197      1197      1197      1197   \n",
              "2008             1427      1427   1427      1427      1427      1427   \n",
              "2009             1426      1426   1426      1426      1426      1426   \n",
              "2010             1255      1255   1255      1255      1255      1255   \n",
              "2011             1136      1136   1136      1136      1136      1136   \n",
              "2012              653       653    653       653       653       653   \n",
              "2013              544       544    544       544       544       544   \n",
              "2014              581       581    581       581       581       581   \n",
              "2015              606       606    606       606       606       606   \n",
              "2016              502       502    502       502       502       502   \n",
              "\n",
              "                 other_sales  critic_score  user_score  rating  total_sale  \n",
              "year_of_release                                                             \n",
              "1980                       9             0           0       0           9  \n",
              "1981                      46             0           0       0          46  \n",
              "1982                      36             0           0       0          36  \n",
              "1983                      17             0           0       0          17  \n",
              "1984                      14             0           0       0          14  \n",
              "1985                      14             1           1       1          14  \n",
              "1986                      21             0           0       0          21  \n",
              "1987                      16             0           0       0          16  \n",
              "1988                      15             1           1       1          15  \n",
              "1989                      17             0           0       0          17  \n",
              "1990                      16             0           0       0          16  \n",
              "1991                      41             0           0       0          41  \n",
              "1992                      43             1           1       2          43  \n",
              "1993                      60             0           0       0          60  \n",
              "1994                     121             1           1       1         121  \n",
              "1995                     219             0           0       0         219  \n",
              "1996                     263             8           8       7         263  \n",
              "1997                     289            17          18      19         289  \n",
              "1998                     379            28          31      32         379  \n",
              "1999                     338            39          31      42         338  \n",
              "2000                     350           143         107     148         350  \n",
              "2001                     482           326         257     339         482  \n",
              "2002                     829           627         464     655         829  \n",
              "2003                     775           585         516     613         775  \n",
              "2004                     762           561         489     598         762  \n",
              "2005                     939           655         583     706         939  \n",
              "2006                    1006           620         552     678        1006  \n",
              "2007                    1197           692         629     821        1197  \n",
              "2008                    1427           715         661     981        1427  \n",
              "2009                    1426           651         614    1011        1426  \n",
              "2010                    1255           500         467     799        1255  \n",
              "2011                    1136           500         501     703        1136  \n",
              "2012                     653           321         339     355         653  \n",
              "2013                     544           273         304     316         544  \n",
              "2014                     581           261         329     345         581  \n",
              "2015                     606           225         297     315         606  \n",
              "2016                     502           232         262     280         502  "
            ]
          },
          "execution_count": 25,
          "metadata": {},
          "output_type": "execute_result"
        }
      ],
      "source": [
        "#Посчитаем количество вышедших игр в год\n",
        "video_data.groupby('year_of_release').count()"
      ]
    },
    {
      "cell_type": "markdown",
      "metadata": {
        "id": "IjBeJOOZvzQI"
      },
      "source": [
        "Можно выделить несколько временных периодов по выпуску игр:  \n",
        "- 1980 - 1993 незначительный выпуск\n",
        "- 1994 - 2005 постепенный рост темпов продаж\n",
        "- 2006 - 2011 пик выпуска игр\n",
        "- 2012 - 2016 снижение темпов продаж\n",
        "\n",
        "Однако интерес к играм с точки зрения оценки критиков и пользователей резко возрос начиная с 2000 года. \n",
        "Пик продаж пришелся на 2008-2009 гг. После этого периода продажи игр стабильно снижаются."
      ]
    },
    {
      "cell_type": "markdown",
      "metadata": {
        "id": "-7tHJrY-vzQI"
      },
      "source": [
        "### Анализ продаж по платформам"
      ]
    },
    {
      "cell_type": "code",
      "execution_count": null,
      "metadata": {
        "id": "BAYluMEAvzQI"
      },
      "outputs": [],
      "source": [
        "#Создадим сводную таблицу по общим продажам\n",
        "platform_sales = video_data.pivot_table(\n",
        "    index=['platform'], values=['total_sale'], aggfunc='sum')"
      ]
    },
    {
      "cell_type": "code",
      "execution_count": null,
      "metadata": {
        "id": "7wh_k1hCvzQJ",
        "outputId": "3710f411-a6b1-4684-bf6c-b79bc82f4174"
      },
      "outputs": [
        {
          "data": {
            "image/png": "[encoded data removed]",
            "text/plain": [
              "<Figure size 720x432 with 1 Axes>"
            ]
          },
          "metadata": {
            "needs_background": "light"
          },
          "output_type": "display_data"
        }
      ],
      "source": [
        "#Построим график выручки  в зависимости от платформы\n",
        "platform_sales.sort_values(by='total_sale',ascending=False).plot(kind='bar',figsize=(10,6),title='Выручка в зависисмости от платформы')\n",
        "plt.xlabel('Название платформы')\n",
        "plt.ylabel('Выручка от продажи');"
      ]
    },
    {
      "cell_type": "markdown",
      "metadata": {
        "id": "NQRwzt63vzQJ"
      },
      "source": [
        "Платформы с наибольшими суммарными проджами: PS2, X360, PS3, Wii, DS, Ps. \n",
        "Выбраны именно эти платформы, т.к разрыв по продажам значительный именно между PS и PS4"
      ]
    },
    {
      "cell_type": "code",
      "execution_count": null,
      "metadata": {
        "id": "2Ij1ckWqvzQJ"
      },
      "outputs": [],
      "source": [
        "#Создадим список с самыми популярными платформами\n",
        "platforms = ['PS2', 'X360', 'PS3', 'Wii', 'DS', 'Ps']"
      ]
    },
    {
      "cell_type": "code",
      "execution_count": null,
      "metadata": {
        "id": "5Gtjw-myvzQK"
      },
      "outputs": [],
      "source": [
        "#Создадим таблицу по самым популярным платформам\n",
        "top_platforms = video_data.query('platform == @platforms').reset_index(drop = True)"
      ]
    },
    {
      "cell_type": "code",
      "execution_count": null,
      "metadata": {
        "id": "S9dO1uKvvzQK",
        "outputId": "5ebd50ed-8e86-4af8-8c4c-6a701a395b92"
      },
      "outputs": [
        {
          "data": {
            "text/html": [
              "<div>\n",
              "<style scoped>\n",
              "    .dataframe tbody tr th:only-of-type {\n",
              "        vertical-align: middle;\n",
              "    }\n",
              "\n",
              "    .dataframe tbody tr th {\n",
              "        vertical-align: top;\n",
              "    }\n",
              "\n",
              "    .dataframe thead th {\n",
              "        text-align: right;\n",
              "    }\n",
              "</style>\n",
              "<table border=\"1\" class=\"dataframe\">\n",
              "  <thead>\n",
              "    <tr style=\"text-align: right;\">\n",
              "      <th></th>\n",
              "      <th>name</th>\n",
              "      <th>platform</th>\n",
              "      <th>year_of_release</th>\n",
              "      <th>genre</th>\n",
              "      <th>na_sales</th>\n",
              "      <th>eu_sales</th>\n",
              "      <th>jp_sales</th>\n",
              "      <th>other_sales</th>\n",
              "      <th>critic_score</th>\n",
              "      <th>user_score</th>\n",
              "      <th>rating</th>\n",
              "      <th>total_sale</th>\n",
              "    </tr>\n",
              "  </thead>\n",
              "  <tbody>\n",
              "    <tr>\n",
              "      <td>0</td>\n",
              "      <td>Wii Sports</td>\n",
              "      <td>Wii</td>\n",
              "      <td>2006</td>\n",
              "      <td>Sports</td>\n",
              "      <td>41.36</td>\n",
              "      <td>28.96</td>\n",
              "      <td>3.77</td>\n",
              "      <td>8.45</td>\n",
              "      <td>76.0</td>\n",
              "      <td>8.0</td>\n",
              "      <td>E</td>\n",
              "      <td>82.54</td>\n",
              "    </tr>\n",
              "    <tr>\n",
              "      <td>1</td>\n",
              "      <td>Mario Kart Wii</td>\n",
              "      <td>Wii</td>\n",
              "      <td>2008</td>\n",
              "      <td>Racing</td>\n",
              "      <td>15.68</td>\n",
              "      <td>12.76</td>\n",
              "      <td>3.79</td>\n",
              "      <td>3.29</td>\n",
              "      <td>82.0</td>\n",
              "      <td>8.3</td>\n",
              "      <td>E</td>\n",
              "      <td>35.52</td>\n",
              "    </tr>\n",
              "    <tr>\n",
              "      <td>2</td>\n",
              "      <td>Wii Sports Resort</td>\n",
              "      <td>Wii</td>\n",
              "      <td>2009</td>\n",
              "      <td>Sports</td>\n",
              "      <td>15.61</td>\n",
              "      <td>10.93</td>\n",
              "      <td>3.28</td>\n",
              "      <td>2.95</td>\n",
              "      <td>80.0</td>\n",
              "      <td>8.0</td>\n",
              "      <td>E</td>\n",
              "      <td>32.77</td>\n",
              "    </tr>\n",
              "    <tr>\n",
              "      <td>3</td>\n",
              "      <td>New Super Mario Bros.</td>\n",
              "      <td>DS</td>\n",
              "      <td>2006</td>\n",
              "      <td>Platform</td>\n",
              "      <td>11.28</td>\n",
              "      <td>9.14</td>\n",
              "      <td>6.50</td>\n",
              "      <td>2.88</td>\n",
              "      <td>89.0</td>\n",
              "      <td>8.5</td>\n",
              "      <td>E</td>\n",
              "      <td>29.80</td>\n",
              "    </tr>\n",
              "    <tr>\n",
              "      <td>4</td>\n",
              "      <td>Wii Play</td>\n",
              "      <td>Wii</td>\n",
              "      <td>2006</td>\n",
              "      <td>Misc</td>\n",
              "      <td>13.96</td>\n",
              "      <td>9.18</td>\n",
              "      <td>2.93</td>\n",
              "      <td>2.84</td>\n",
              "      <td>58.0</td>\n",
              "      <td>6.6</td>\n",
              "      <td>E</td>\n",
              "      <td>28.91</td>\n",
              "    </tr>\n",
              "  </tbody>\n",
              "</table>\n",
              "</div>"
            ],
            "text/plain": [
              "                    name platform  year_of_release     genre  na_sales  \\\n",
              "0             Wii Sports      Wii             2006    Sports     41.36   \n",
              "1         Mario Kart Wii      Wii             2008    Racing     15.68   \n",
              "2      Wii Sports Resort      Wii             2009    Sports     15.61   \n",
              "3  New Super Mario Bros.       DS             2006  Platform     11.28   \n",
              "4               Wii Play      Wii             2006      Misc     13.96   \n",
              "\n",
              "   eu_sales  jp_sales  other_sales  critic_score  user_score rating  \\\n",
              "0     28.96      3.77         8.45          76.0         8.0      E   \n",
              "1     12.76      3.79         3.29          82.0         8.3      E   \n",
              "2     10.93      3.28         2.95          80.0         8.0      E   \n",
              "3      9.14      6.50         2.88          89.0         8.5      E   \n",
              "4      9.18      2.93         2.84          58.0         6.6      E   \n",
              "\n",
              "   total_sale  \n",
              "0       82.54  \n",
              "1       35.52  \n",
              "2       32.77  \n",
              "3       29.80  \n",
              "4       28.91  "
            ]
          },
          "execution_count": 30,
          "metadata": {},
          "output_type": "execute_result"
        }
      ],
      "source": [
        "top_platforms.head()"
      ]
    },
    {
      "cell_type": "code",
      "execution_count": null,
      "metadata": {
        "id": "BqXSjQqVvzQK"
      },
      "outputs": [],
      "source": [
        "#Создадим сводную таблицу по самым популярным платформам по продажам в зависимости от года\n",
        "toptop_platforms = top_platforms.pivot_table(index='year_of_release', columns='platform', values=['total_sale'],fill_value=0)"
      ]
    },
    {
      "cell_type": "code",
      "execution_count": null,
      "metadata": {
        "id": "ouemP-TuvzQK",
        "outputId": "be2c367a-cd86-4076-b4c3-b7a149cbcb8a"
      },
      "outputs": [
        {
          "data": {
            "image/png": "[encoded data removed]",
            "text/plain": [
              "<Figure size 720x432 with 1 Axes>"
            ]
          },
          "metadata": {
            "needs_background": "light"
          },
          "output_type": "display_data"
        }
      ],
      "source": [
        "toptop_platforms.plot(figsize=(10,6), lw=3, style=\"-o\")\n",
        "plt.title('Глобальные продажи по всем регионам игр из ТОП платформ')\n",
        "plt.xlabel('Год выпуска')\n",
        "plt.ylabel('Сумма, млн. долл.')\n",
        "plt.grid(axis='both')"
      ]
    },
    {
      "cell_type": "markdown",
      "metadata": {
        "id": "bCLh5GS_vzQL"
      },
      "source": [
        "Платформа в среднем живет 10-12 лет. Пик продаж приходит в среднем через 2-3 года. "
      ]
    },
    {
      "cell_type": "markdown",
      "metadata": {
        "id": "kxF6Y1H7vzQM"
      },
      "source": [
        "### Актуальный период исследования"
      ]
    },
    {
      "cell_type": "markdown",
      "metadata": {
        "id": "bGZNup3ZvzQM"
      },
      "source": [
        "Актуальный период исследования - 10 последних лет, с 2007 по 2016 гг. (включительно).  \n",
        "Если рассматривать тот факт что срок жизни платформ - 10 лет, то если брать период последние 5 лет, в него попадут платформы которые все еще активны на рынке. Поэтому укоротим актуальный период до 5 лет:с 2012 по 2016 (включительно)"
      ]
    },
    {
      "cell_type": "code",
      "execution_count": null,
      "metadata": {
        "id": "DB2ejzIkvzQM"
      },
      "outputs": [],
      "source": [
        "#Создадим актуальную таблицу по критерию, что выпуск игры с 2012 года\n",
        "actual_data = video_data.query('year_of_release > 2011')"
      ]
    },
    {
      "cell_type": "code",
      "execution_count": null,
      "metadata": {
        "id": "SMwo9F9vvzQM"
      },
      "outputs": [],
      "source": [
        "actual_data.reset_index(inplace=True, drop=True)"
      ]
    },
    {
      "cell_type": "code",
      "execution_count": null,
      "metadata": {
        "id": "DKDWL2R8vzQN",
        "outputId": "d4466934-8086-4a7e-d8f0-d72bfd5616f1"
      },
      "outputs": [
        {
          "data": {
            "text/html": [
              "<div>\n",
              "<style scoped>\n",
              "    .dataframe tbody tr th:only-of-type {\n",
              "        vertical-align: middle;\n",
              "    }\n",
              "\n",
              "    .dataframe tbody tr th {\n",
              "        vertical-align: top;\n",
              "    }\n",
              "\n",
              "    .dataframe thead th {\n",
              "        text-align: right;\n",
              "    }\n",
              "</style>\n",
              "<table border=\"1\" class=\"dataframe\">\n",
              "  <thead>\n",
              "    <tr style=\"text-align: right;\">\n",
              "      <th></th>\n",
              "      <th>name</th>\n",
              "      <th>platform</th>\n",
              "      <th>year_of_release</th>\n",
              "      <th>genre</th>\n",
              "      <th>na_sales</th>\n",
              "      <th>eu_sales</th>\n",
              "      <th>jp_sales</th>\n",
              "      <th>other_sales</th>\n",
              "      <th>critic_score</th>\n",
              "      <th>user_score</th>\n",
              "      <th>rating</th>\n",
              "      <th>total_sale</th>\n",
              "    </tr>\n",
              "  </thead>\n",
              "  <tbody>\n",
              "    <tr>\n",
              "      <td>0</td>\n",
              "      <td>Grand Theft Auto V</td>\n",
              "      <td>PS3</td>\n",
              "      <td>2013</td>\n",
              "      <td>Action</td>\n",
              "      <td>7.02</td>\n",
              "      <td>9.09</td>\n",
              "      <td>0.98</td>\n",
              "      <td>3.96</td>\n",
              "      <td>97.0</td>\n",
              "      <td>8.2</td>\n",
              "      <td>M</td>\n",
              "      <td>21.05</td>\n",
              "    </tr>\n",
              "    <tr>\n",
              "      <td>1</td>\n",
              "      <td>Grand Theft Auto V</td>\n",
              "      <td>X360</td>\n",
              "      <td>2013</td>\n",
              "      <td>Action</td>\n",
              "      <td>9.66</td>\n",
              "      <td>5.14</td>\n",
              "      <td>0.06</td>\n",
              "      <td>1.41</td>\n",
              "      <td>97.0</td>\n",
              "      <td>8.1</td>\n",
              "      <td>M</td>\n",
              "      <td>16.27</td>\n",
              "    </tr>\n",
              "    <tr>\n",
              "      <td>2</td>\n",
              "      <td>Call of Duty: Black Ops 3</td>\n",
              "      <td>PS4</td>\n",
              "      <td>2015</td>\n",
              "      <td>Shooter</td>\n",
              "      <td>6.03</td>\n",
              "      <td>5.86</td>\n",
              "      <td>0.36</td>\n",
              "      <td>2.38</td>\n",
              "      <td>NaN</td>\n",
              "      <td>NaN</td>\n",
              "      <td>NaN</td>\n",
              "      <td>14.63</td>\n",
              "    </tr>\n",
              "    <tr>\n",
              "      <td>3</td>\n",
              "      <td>Pokemon X/Pokemon Y</td>\n",
              "      <td>3DS</td>\n",
              "      <td>2013</td>\n",
              "      <td>Role-Playing</td>\n",
              "      <td>5.28</td>\n",
              "      <td>4.19</td>\n",
              "      <td>4.35</td>\n",
              "      <td>0.78</td>\n",
              "      <td>NaN</td>\n",
              "      <td>NaN</td>\n",
              "      <td>NaN</td>\n",
              "      <td>14.60</td>\n",
              "    </tr>\n",
              "    <tr>\n",
              "      <td>4</td>\n",
              "      <td>Call of Duty: Black Ops II</td>\n",
              "      <td>PS3</td>\n",
              "      <td>2012</td>\n",
              "      <td>Shooter</td>\n",
              "      <td>4.99</td>\n",
              "      <td>5.73</td>\n",
              "      <td>0.65</td>\n",
              "      <td>2.42</td>\n",
              "      <td>83.0</td>\n",
              "      <td>5.3</td>\n",
              "      <td>M</td>\n",
              "      <td>13.79</td>\n",
              "    </tr>\n",
              "  </tbody>\n",
              "</table>\n",
              "</div>"
            ],
            "text/plain": [
              "                         name platform  year_of_release         genre  \\\n",
              "0          Grand Theft Auto V      PS3             2013        Action   \n",
              "1          Grand Theft Auto V     X360             2013        Action   \n",
              "2   Call of Duty: Black Ops 3      PS4             2015       Shooter   \n",
              "3         Pokemon X/Pokemon Y      3DS             2013  Role-Playing   \n",
              "4  Call of Duty: Black Ops II      PS3             2012       Shooter   \n",
              "\n",
              "   na_sales  eu_sales  jp_sales  other_sales  critic_score  user_score rating  \\\n",
              "0      7.02      9.09      0.98         3.96          97.0         8.2      M   \n",
              "1      9.66      5.14      0.06         1.41          97.0         8.1      M   \n",
              "2      6.03      5.86      0.36         2.38           NaN         NaN    NaN   \n",
              "3      5.28      4.19      4.35         0.78           NaN         NaN    NaN   \n",
              "4      4.99      5.73      0.65         2.42          83.0         5.3      M   \n",
              "\n",
              "   total_sale  \n",
              "0       21.05  \n",
              "1       16.27  \n",
              "2       14.63  \n",
              "3       14.60  \n",
              "4       13.79  "
            ]
          },
          "execution_count": 35,
          "metadata": {},
          "output_type": "execute_result"
        }
      ],
      "source": [
        "actual_data.head()"
      ]
    },
    {
      "cell_type": "markdown",
      "metadata": {
        "id": "eBTT2U_BvzQN"
      },
      "source": [
        "### Потенциально прибыльные платформы"
      ]
    },
    {
      "cell_type": "code",
      "execution_count": null,
      "metadata": {
        "id": "j2OF3LgWvzQN"
      },
      "outputs": [],
      "source": [
        "actual_data_sales = actual_data.pivot_table(index=['platform'], values=['total_sale'], aggfunc='sum')"
      ]
    },
    {
      "cell_type": "code",
      "execution_count": null,
      "metadata": {
        "id": "ONQod-kqvzQN"
      },
      "outputs": [],
      "source": [
        "#ТОП-10 платформ по продажам во всех регионах\n",
        "actual_data_sales = actual_data_sales.sort_values(by='total_sale', ascending=False).head(10)"
      ]
    },
    {
      "cell_type": "code",
      "execution_count": null,
      "metadata": {
        "id": "6sFEIdAbvzQO",
        "outputId": "f5a69632-a327-4715-f218-161c8684bfd4"
      },
      "outputs": [
        {
          "data": {
            "text/html": [
              "<div>\n",
              "<style scoped>\n",
              "    .dataframe tbody tr th:only-of-type {\n",
              "        vertical-align: middle;\n",
              "    }\n",
              "\n",
              "    .dataframe tbody tr th {\n",
              "        vertical-align: top;\n",
              "    }\n",
              "\n",
              "    .dataframe thead th {\n",
              "        text-align: right;\n",
              "    }\n",
              "</style>\n",
              "<table border=\"1\" class=\"dataframe\">\n",
              "  <thead>\n",
              "    <tr style=\"text-align: right;\">\n",
              "      <th></th>\n",
              "      <th>total_sale</th>\n",
              "    </tr>\n",
              "    <tr>\n",
              "      <th>platform</th>\n",
              "      <th></th>\n",
              "    </tr>\n",
              "  </thead>\n",
              "  <tbody>\n",
              "    <tr>\n",
              "      <td>PS4</td>\n",
              "      <td>314.14</td>\n",
              "    </tr>\n",
              "    <tr>\n",
              "      <td>PS3</td>\n",
              "      <td>288.79</td>\n",
              "    </tr>\n",
              "    <tr>\n",
              "      <td>X360</td>\n",
              "      <td>236.54</td>\n",
              "    </tr>\n",
              "    <tr>\n",
              "      <td>3DS</td>\n",
              "      <td>194.61</td>\n",
              "    </tr>\n",
              "    <tr>\n",
              "      <td>XOne</td>\n",
              "      <td>159.32</td>\n",
              "    </tr>\n",
              "    <tr>\n",
              "      <td>WiiU</td>\n",
              "      <td>82.19</td>\n",
              "    </tr>\n",
              "    <tr>\n",
              "      <td>PC</td>\n",
              "      <td>62.65</td>\n",
              "    </tr>\n",
              "    <tr>\n",
              "      <td>PSV</td>\n",
              "      <td>49.18</td>\n",
              "    </tr>\n",
              "    <tr>\n",
              "      <td>Wii</td>\n",
              "      <td>35.37</td>\n",
              "    </tr>\n",
              "    <tr>\n",
              "      <td>DS</td>\n",
              "      <td>12.55</td>\n",
              "    </tr>\n",
              "  </tbody>\n",
              "</table>\n",
              "</div>"
            ],
            "text/plain": [
              "          total_sale\n",
              "platform            \n",
              "PS4           314.14\n",
              "PS3           288.79\n",
              "X360          236.54\n",
              "3DS           194.61\n",
              "XOne          159.32\n",
              "WiiU           82.19\n",
              "PC             62.65\n",
              "PSV            49.18\n",
              "Wii            35.37\n",
              "DS             12.55"
            ]
          },
          "execution_count": 38,
          "metadata": {},
          "output_type": "execute_result"
        }
      ],
      "source": [
        "actual_data_sales"
      ]
    },
    {
      "cell_type": "code",
      "execution_count": null,
      "metadata": {
        "id": "kxbrp2nOvzQO"
      },
      "outputs": [],
      "source": [
        "#Создадим список с самыми популярными платформами\n",
        "top10 = ['PS4', 'PS3', 'X360', '3DS', 'XOne', 'WiiU', 'PC', 'PSV', 'Wii', 'DS']"
      ]
    },
    {
      "cell_type": "code",
      "execution_count": null,
      "metadata": {
        "id": "K3wAhU5rvzQO"
      },
      "outputs": [],
      "source": [
        "top10_platforms = actual_data.query('platform == @top10').reset_index(drop = True)"
      ]
    },
    {
      "cell_type": "code",
      "execution_count": null,
      "metadata": {
        "scrolled": true,
        "id": "o6E5XZCbvzQO",
        "outputId": "7c73862b-c122-4f73-c5dd-35531836410c"
      },
      "outputs": [
        {
          "data": {
            "text/html": [
              "<div>\n",
              "<style scoped>\n",
              "    .dataframe tbody tr th:only-of-type {\n",
              "        vertical-align: middle;\n",
              "    }\n",
              "\n",
              "    .dataframe tbody tr th {\n",
              "        vertical-align: top;\n",
              "    }\n",
              "\n",
              "    .dataframe thead th {\n",
              "        text-align: right;\n",
              "    }\n",
              "</style>\n",
              "<table border=\"1\" class=\"dataframe\">\n",
              "  <thead>\n",
              "    <tr style=\"text-align: right;\">\n",
              "      <th></th>\n",
              "      <th>name</th>\n",
              "      <th>platform</th>\n",
              "      <th>year_of_release</th>\n",
              "      <th>genre</th>\n",
              "      <th>na_sales</th>\n",
              "      <th>eu_sales</th>\n",
              "      <th>jp_sales</th>\n",
              "      <th>other_sales</th>\n",
              "      <th>critic_score</th>\n",
              "      <th>user_score</th>\n",
              "      <th>rating</th>\n",
              "      <th>total_sale</th>\n",
              "    </tr>\n",
              "  </thead>\n",
              "  <tbody>\n",
              "    <tr>\n",
              "      <td>0</td>\n",
              "      <td>Grand Theft Auto V</td>\n",
              "      <td>PS3</td>\n",
              "      <td>2013</td>\n",
              "      <td>Action</td>\n",
              "      <td>7.02</td>\n",
              "      <td>9.09</td>\n",
              "      <td>0.98</td>\n",
              "      <td>3.96</td>\n",
              "      <td>97.0</td>\n",
              "      <td>8.2</td>\n",
              "      <td>M</td>\n",
              "      <td>21.05</td>\n",
              "    </tr>\n",
              "    <tr>\n",
              "      <td>1</td>\n",
              "      <td>Grand Theft Auto V</td>\n",
              "      <td>X360</td>\n",
              "      <td>2013</td>\n",
              "      <td>Action</td>\n",
              "      <td>9.66</td>\n",
              "      <td>5.14</td>\n",
              "      <td>0.06</td>\n",
              "      <td>1.41</td>\n",
              "      <td>97.0</td>\n",
              "      <td>8.1</td>\n",
              "      <td>M</td>\n",
              "      <td>16.27</td>\n",
              "    </tr>\n",
              "    <tr>\n",
              "      <td>2</td>\n",
              "      <td>Call of Duty: Black Ops 3</td>\n",
              "      <td>PS4</td>\n",
              "      <td>2015</td>\n",
              "      <td>Shooter</td>\n",
              "      <td>6.03</td>\n",
              "      <td>5.86</td>\n",
              "      <td>0.36</td>\n",
              "      <td>2.38</td>\n",
              "      <td>NaN</td>\n",
              "      <td>NaN</td>\n",
              "      <td>NaN</td>\n",
              "      <td>14.63</td>\n",
              "    </tr>\n",
              "    <tr>\n",
              "      <td>3</td>\n",
              "      <td>Pokemon X/Pokemon Y</td>\n",
              "      <td>3DS</td>\n",
              "      <td>2013</td>\n",
              "      <td>Role-Playing</td>\n",
              "      <td>5.28</td>\n",
              "      <td>4.19</td>\n",
              "      <td>4.35</td>\n",
              "      <td>0.78</td>\n",
              "      <td>NaN</td>\n",
              "      <td>NaN</td>\n",
              "      <td>NaN</td>\n",
              "      <td>14.60</td>\n",
              "    </tr>\n",
              "    <tr>\n",
              "      <td>4</td>\n",
              "      <td>Call of Duty: Black Ops II</td>\n",
              "      <td>PS3</td>\n",
              "      <td>2012</td>\n",
              "      <td>Shooter</td>\n",
              "      <td>4.99</td>\n",
              "      <td>5.73</td>\n",
              "      <td>0.65</td>\n",
              "      <td>2.42</td>\n",
              "      <td>83.0</td>\n",
              "      <td>5.3</td>\n",
              "      <td>M</td>\n",
              "      <td>13.79</td>\n",
              "    </tr>\n",
              "  </tbody>\n",
              "</table>\n",
              "</div>"
            ],
            "text/plain": [
              "                         name platform  year_of_release         genre  \\\n",
              "0          Grand Theft Auto V      PS3             2013        Action   \n",
              "1          Grand Theft Auto V     X360             2013        Action   \n",
              "2   Call of Duty: Black Ops 3      PS4             2015       Shooter   \n",
              "3         Pokemon X/Pokemon Y      3DS             2013  Role-Playing   \n",
              "4  Call of Duty: Black Ops II      PS3             2012       Shooter   \n",
              "\n",
              "   na_sales  eu_sales  jp_sales  other_sales  critic_score  user_score rating  \\\n",
              "0      7.02      9.09      0.98         3.96          97.0         8.2      M   \n",
              "1      9.66      5.14      0.06         1.41          97.0         8.1      M   \n",
              "2      6.03      5.86      0.36         2.38           NaN         NaN    NaN   \n",
              "3      5.28      4.19      4.35         0.78           NaN         NaN    NaN   \n",
              "4      4.99      5.73      0.65         2.42          83.0         5.3      M   \n",
              "\n",
              "   total_sale  \n",
              "0       21.05  \n",
              "1       16.27  \n",
              "2       14.63  \n",
              "3       14.60  \n",
              "4       13.79  "
            ]
          },
          "execution_count": 41,
          "metadata": {},
          "output_type": "execute_result"
        }
      ],
      "source": [
        "top10_platforms.head()"
      ]
    },
    {
      "cell_type": "code",
      "execution_count": null,
      "metadata": {
        "id": "VHBjMEJnvzQP"
      },
      "outputs": [],
      "source": [
        "# Сводная таблица продаж ТОП-10 платформ по годам\n",
        "year_top10 = top10_platforms.pivot_table(index=['platform', 'year_of_release'], values=['total_sale'], aggfunc='sum') "
      ]
    },
    {
      "cell_type": "code",
      "execution_count": null,
      "metadata": {
        "id": "xG_YSAsSvzQP",
        "outputId": "4a0790b5-381f-4ab7-9cfd-9895d841cf05"
      },
      "outputs": [
        {
          "data": {
            "text/html": [
              "<div>\n",
              "<style scoped>\n",
              "    .dataframe tbody tr th:only-of-type {\n",
              "        vertical-align: middle;\n",
              "    }\n",
              "\n",
              "    .dataframe tbody tr th {\n",
              "        vertical-align: top;\n",
              "    }\n",
              "\n",
              "    .dataframe thead th {\n",
              "        text-align: right;\n",
              "    }\n",
              "</style>\n",
              "<table border=\"1\" class=\"dataframe\">\n",
              "  <thead>\n",
              "    <tr style=\"text-align: right;\">\n",
              "      <th></th>\n",
              "      <th></th>\n",
              "      <th>total_sale</th>\n",
              "    </tr>\n",
              "    <tr>\n",
              "      <th>platform</th>\n",
              "      <th>year_of_release</th>\n",
              "      <th></th>\n",
              "    </tr>\n",
              "  </thead>\n",
              "  <tbody>\n",
              "    <tr>\n",
              "      <td rowspan=\"5\" valign=\"top\">3DS</td>\n",
              "      <td>2012</td>\n",
              "      <td>51.36</td>\n",
              "    </tr>\n",
              "    <tr>\n",
              "      <td>2013</td>\n",
              "      <td>56.57</td>\n",
              "    </tr>\n",
              "    <tr>\n",
              "      <td>2014</td>\n",
              "      <td>43.76</td>\n",
              "    </tr>\n",
              "    <tr>\n",
              "      <td>2015</td>\n",
              "      <td>27.78</td>\n",
              "    </tr>\n",
              "    <tr>\n",
              "      <td>2016</td>\n",
              "      <td>15.14</td>\n",
              "    </tr>\n",
              "    <tr>\n",
              "      <td rowspan=\"2\" valign=\"top\">DS</td>\n",
              "      <td>2012</td>\n",
              "      <td>11.01</td>\n",
              "    </tr>\n",
              "    <tr>\n",
              "      <td>2013</td>\n",
              "      <td>1.54</td>\n",
              "    </tr>\n",
              "    <tr>\n",
              "      <td rowspan=\"5\" valign=\"top\">PC</td>\n",
              "      <td>2012</td>\n",
              "      <td>23.22</td>\n",
              "    </tr>\n",
              "    <tr>\n",
              "      <td>2013</td>\n",
              "      <td>12.38</td>\n",
              "    </tr>\n",
              "    <tr>\n",
              "      <td>2014</td>\n",
              "      <td>13.28</td>\n",
              "    </tr>\n",
              "    <tr>\n",
              "      <td>2015</td>\n",
              "      <td>8.52</td>\n",
              "    </tr>\n",
              "    <tr>\n",
              "      <td>2016</td>\n",
              "      <td>5.25</td>\n",
              "    </tr>\n",
              "    <tr>\n",
              "      <td rowspan=\"5\" valign=\"top\">PS3</td>\n",
              "      <td>2012</td>\n",
              "      <td>107.36</td>\n",
              "    </tr>\n",
              "    <tr>\n",
              "      <td>2013</td>\n",
              "      <td>113.25</td>\n",
              "    </tr>\n",
              "    <tr>\n",
              "      <td>2014</td>\n",
              "      <td>47.76</td>\n",
              "    </tr>\n",
              "    <tr>\n",
              "      <td>2015</td>\n",
              "      <td>16.82</td>\n",
              "    </tr>\n",
              "    <tr>\n",
              "      <td>2016</td>\n",
              "      <td>3.60</td>\n",
              "    </tr>\n",
              "    <tr>\n",
              "      <td rowspan=\"4\" valign=\"top\">PS4</td>\n",
              "      <td>2013</td>\n",
              "      <td>25.99</td>\n",
              "    </tr>\n",
              "    <tr>\n",
              "      <td>2014</td>\n",
              "      <td>100.00</td>\n",
              "    </tr>\n",
              "    <tr>\n",
              "      <td>2015</td>\n",
              "      <td>118.90</td>\n",
              "    </tr>\n",
              "    <tr>\n",
              "      <td>2016</td>\n",
              "      <td>69.25</td>\n",
              "    </tr>\n",
              "    <tr>\n",
              "      <td rowspan=\"5\" valign=\"top\">PSV</td>\n",
              "      <td>2012</td>\n",
              "      <td>16.19</td>\n",
              "    </tr>\n",
              "    <tr>\n",
              "      <td>2013</td>\n",
              "      <td>10.59</td>\n",
              "    </tr>\n",
              "    <tr>\n",
              "      <td>2014</td>\n",
              "      <td>11.90</td>\n",
              "    </tr>\n",
              "    <tr>\n",
              "      <td>2015</td>\n",
              "      <td>6.25</td>\n",
              "    </tr>\n",
              "    <tr>\n",
              "      <td>2016</td>\n",
              "      <td>4.25</td>\n",
              "    </tr>\n",
              "    <tr>\n",
              "      <td rowspan=\"5\" valign=\"top\">Wii</td>\n",
              "      <td>2012</td>\n",
              "      <td>21.71</td>\n",
              "    </tr>\n",
              "    <tr>\n",
              "      <td>2013</td>\n",
              "      <td>8.59</td>\n",
              "    </tr>\n",
              "    <tr>\n",
              "      <td>2014</td>\n",
              "      <td>3.75</td>\n",
              "    </tr>\n",
              "    <tr>\n",
              "      <td>2015</td>\n",
              "      <td>1.14</td>\n",
              "    </tr>\n",
              "    <tr>\n",
              "      <td>2016</td>\n",
              "      <td>0.18</td>\n",
              "    </tr>\n",
              "    <tr>\n",
              "      <td rowspan=\"5\" valign=\"top\">WiiU</td>\n",
              "      <td>2012</td>\n",
              "      <td>17.56</td>\n",
              "    </tr>\n",
              "    <tr>\n",
              "      <td>2013</td>\n",
              "      <td>21.65</td>\n",
              "    </tr>\n",
              "    <tr>\n",
              "      <td>2014</td>\n",
              "      <td>22.03</td>\n",
              "    </tr>\n",
              "    <tr>\n",
              "      <td>2015</td>\n",
              "      <td>16.35</td>\n",
              "    </tr>\n",
              "    <tr>\n",
              "      <td>2016</td>\n",
              "      <td>4.60</td>\n",
              "    </tr>\n",
              "    <tr>\n",
              "      <td rowspan=\"5\" valign=\"top\">X360</td>\n",
              "      <td>2012</td>\n",
              "      <td>99.74</td>\n",
              "    </tr>\n",
              "    <tr>\n",
              "      <td>2013</td>\n",
              "      <td>88.58</td>\n",
              "    </tr>\n",
              "    <tr>\n",
              "      <td>2014</td>\n",
              "      <td>34.74</td>\n",
              "    </tr>\n",
              "    <tr>\n",
              "      <td>2015</td>\n",
              "      <td>11.96</td>\n",
              "    </tr>\n",
              "    <tr>\n",
              "      <td>2016</td>\n",
              "      <td>1.52</td>\n",
              "    </tr>\n",
              "    <tr>\n",
              "      <td rowspan=\"4\" valign=\"top\">XOne</td>\n",
              "      <td>2013</td>\n",
              "      <td>18.96</td>\n",
              "    </tr>\n",
              "    <tr>\n",
              "      <td>2014</td>\n",
              "      <td>54.07</td>\n",
              "    </tr>\n",
              "    <tr>\n",
              "      <td>2015</td>\n",
              "      <td>60.14</td>\n",
              "    </tr>\n",
              "    <tr>\n",
              "      <td>2016</td>\n",
              "      <td>26.15</td>\n",
              "    </tr>\n",
              "  </tbody>\n",
              "</table>\n",
              "</div>"
            ],
            "text/plain": [
              "                          total_sale\n",
              "platform year_of_release            \n",
              "3DS      2012                  51.36\n",
              "         2013                  56.57\n",
              "         2014                  43.76\n",
              "         2015                  27.78\n",
              "         2016                  15.14\n",
              "DS       2012                  11.01\n",
              "         2013                   1.54\n",
              "PC       2012                  23.22\n",
              "         2013                  12.38\n",
              "         2014                  13.28\n",
              "         2015                   8.52\n",
              "         2016                   5.25\n",
              "PS3      2012                 107.36\n",
              "         2013                 113.25\n",
              "         2014                  47.76\n",
              "         2015                  16.82\n",
              "         2016                   3.60\n",
              "PS4      2013                  25.99\n",
              "         2014                 100.00\n",
              "         2015                 118.90\n",
              "         2016                  69.25\n",
              "PSV      2012                  16.19\n",
              "         2013                  10.59\n",
              "         2014                  11.90\n",
              "         2015                   6.25\n",
              "         2016                   4.25\n",
              "Wii      2012                  21.71\n",
              "         2013                   8.59\n",
              "         2014                   3.75\n",
              "         2015                   1.14\n",
              "         2016                   0.18\n",
              "WiiU     2012                  17.56\n",
              "         2013                  21.65\n",
              "         2014                  22.03\n",
              "         2015                  16.35\n",
              "         2016                   4.60\n",
              "X360     2012                  99.74\n",
              "         2013                  88.58\n",
              "         2014                  34.74\n",
              "         2015                  11.96\n",
              "         2016                   1.52\n",
              "XOne     2013                  18.96\n",
              "         2014                  54.07\n",
              "         2015                  60.14\n",
              "         2016                  26.15"
            ]
          },
          "execution_count": 43,
          "metadata": {},
          "output_type": "execute_result"
        }
      ],
      "source": [
        "year_top10"
      ]
    },
    {
      "cell_type": "code",
      "execution_count": null,
      "metadata": {
        "id": "sbEQ25ozvzQP"
      },
      "outputs": [],
      "source": [
        "#Для построения график представил таблицу в другом формате\n",
        "year_top10_plot = year_top10.pivot_table(index='year_of_release', columns='platform', values=['total_sale'], fill_value=0)"
      ]
    },
    {
      "cell_type": "code",
      "execution_count": null,
      "metadata": {
        "id": "QJdQSBfqvzQP",
        "outputId": "e6070232-0120-4498-eda6-a339aab1074a"
      },
      "outputs": [
        {
          "data": {
            "text/html": [
              "<div>\n",
              "<style scoped>\n",
              "    .dataframe tbody tr th:only-of-type {\n",
              "        vertical-align: middle;\n",
              "    }\n",
              "\n",
              "    .dataframe tbody tr th {\n",
              "        vertical-align: top;\n",
              "    }\n",
              "\n",
              "    .dataframe thead tr th {\n",
              "        text-align: left;\n",
              "    }\n",
              "\n",
              "    .dataframe thead tr:last-of-type th {\n",
              "        text-align: right;\n",
              "    }\n",
              "</style>\n",
              "<table border=\"1\" class=\"dataframe\">\n",
              "  <thead>\n",
              "    <tr>\n",
              "      <th></th>\n",
              "      <th colspan=\"10\" halign=\"left\">total_sale</th>\n",
              "    </tr>\n",
              "    <tr>\n",
              "      <th>platform</th>\n",
              "      <th>3DS</th>\n",
              "      <th>DS</th>\n",
              "      <th>PC</th>\n",
              "      <th>PS3</th>\n",
              "      <th>PS4</th>\n",
              "      <th>PSV</th>\n",
              "      <th>Wii</th>\n",
              "      <th>WiiU</th>\n",
              "      <th>X360</th>\n",
              "      <th>XOne</th>\n",
              "    </tr>\n",
              "    <tr>\n",
              "      <th>year_of_release</th>\n",
              "      <th></th>\n",
              "      <th></th>\n",
              "      <th></th>\n",
              "      <th></th>\n",
              "      <th></th>\n",
              "      <th></th>\n",
              "      <th></th>\n",
              "      <th></th>\n",
              "      <th></th>\n",
              "      <th></th>\n",
              "    </tr>\n",
              "  </thead>\n",
              "  <tbody>\n",
              "    <tr>\n",
              "      <td>2012</td>\n",
              "      <td>51.36</td>\n",
              "      <td>11.01</td>\n",
              "      <td>23.22</td>\n",
              "      <td>107.36</td>\n",
              "      <td>0.00</td>\n",
              "      <td>16.19</td>\n",
              "      <td>21.71</td>\n",
              "      <td>17.56</td>\n",
              "      <td>99.74</td>\n",
              "      <td>0.00</td>\n",
              "    </tr>\n",
              "    <tr>\n",
              "      <td>2013</td>\n",
              "      <td>56.57</td>\n",
              "      <td>1.54</td>\n",
              "      <td>12.38</td>\n",
              "      <td>113.25</td>\n",
              "      <td>25.99</td>\n",
              "      <td>10.59</td>\n",
              "      <td>8.59</td>\n",
              "      <td>21.65</td>\n",
              "      <td>88.58</td>\n",
              "      <td>18.96</td>\n",
              "    </tr>\n",
              "    <tr>\n",
              "      <td>2014</td>\n",
              "      <td>43.76</td>\n",
              "      <td>0.00</td>\n",
              "      <td>13.28</td>\n",
              "      <td>47.76</td>\n",
              "      <td>100.00</td>\n",
              "      <td>11.90</td>\n",
              "      <td>3.75</td>\n",
              "      <td>22.03</td>\n",
              "      <td>34.74</td>\n",
              "      <td>54.07</td>\n",
              "    </tr>\n",
              "    <tr>\n",
              "      <td>2015</td>\n",
              "      <td>27.78</td>\n",
              "      <td>0.00</td>\n",
              "      <td>8.52</td>\n",
              "      <td>16.82</td>\n",
              "      <td>118.90</td>\n",
              "      <td>6.25</td>\n",
              "      <td>1.14</td>\n",
              "      <td>16.35</td>\n",
              "      <td>11.96</td>\n",
              "      <td>60.14</td>\n",
              "    </tr>\n",
              "    <tr>\n",
              "      <td>2016</td>\n",
              "      <td>15.14</td>\n",
              "      <td>0.00</td>\n",
              "      <td>5.25</td>\n",
              "      <td>3.60</td>\n",
              "      <td>69.25</td>\n",
              "      <td>4.25</td>\n",
              "      <td>0.18</td>\n",
              "      <td>4.60</td>\n",
              "      <td>1.52</td>\n",
              "      <td>26.15</td>\n",
              "    </tr>\n",
              "  </tbody>\n",
              "</table>\n",
              "</div>"
            ],
            "text/plain": [
              "                total_sale                                                     \\\n",
              "platform               3DS     DS     PC     PS3     PS4    PSV    Wii   WiiU   \n",
              "year_of_release                                                                 \n",
              "2012                 51.36  11.01  23.22  107.36    0.00  16.19  21.71  17.56   \n",
              "2013                 56.57   1.54  12.38  113.25   25.99  10.59   8.59  21.65   \n",
              "2014                 43.76   0.00  13.28   47.76  100.00  11.90   3.75  22.03   \n",
              "2015                 27.78   0.00   8.52   16.82  118.90   6.25   1.14  16.35   \n",
              "2016                 15.14   0.00   5.25    3.60   69.25   4.25   0.18   4.60   \n",
              "\n",
              "                               \n",
              "platform          X360   XOne  \n",
              "year_of_release                \n",
              "2012             99.74   0.00  \n",
              "2013             88.58  18.96  \n",
              "2014             34.74  54.07  \n",
              "2015             11.96  60.14  \n",
              "2016              1.52  26.15  "
            ]
          },
          "execution_count": 45,
          "metadata": {},
          "output_type": "execute_result"
        }
      ],
      "source": [
        "year_top10_plot"
      ]
    },
    {
      "cell_type": "code",
      "execution_count": null,
      "metadata": {
        "id": "6xaOPrqhvzQQ",
        "outputId": "e4375463-78b3-4bfd-df66-fb943c825402"
      },
      "outputs": [
        {
          "data": {
            "image/png": "[encoded data removed]",
            "text/plain": [
              "<Figure size 720x432 with 1 Axes>"
            ]
          },
          "metadata": {
            "needs_background": "light"
          },
          "output_type": "display_data"
        }
      ],
      "source": [
        "year_top10_plot.plot(figsize=(10,6), lw=3)\n",
        "plt.title('Глобальные продажи по всем регионам игр из ТОП-10 платформ')\n",
        "plt.xlabel('Год выпуска')\n",
        "plt.ylabel('Сумма')\n",
        "plt.grid(axis='both')"
      ]
    },
    {
      "cell_type": "code",
      "execution_count": null,
      "metadata": {
        "id": "pYosVnmgvzQR"
      },
      "outputs": [],
      "source": [
        "def year_top10_plot(df, title, xlabel, ylabel):\n",
        "    df.plot(figsize=(10,6), lw=3)\n",
        "    plt.title(title)\n",
        "    plt.xlabel(xlabel)\n",
        "    plt.ylabel(ylabel)\n",
        "    plt.grid(axis='both')"
      ]
    },
    {
      "cell_type": "markdown",
      "metadata": {
        "id": "K_o7AdkrvzQR"
      },
      "source": [
        "По всем платформам снижается глобальная выручка, в том числе в ТОР10 платформ. Самыми успешными по продажам в эти 5 лет были Х360, PS3, PS4."
      ]
    },
    {
      "cell_type": "markdown",
      "metadata": {
        "id": "I5-PgTnNvzQS"
      },
      "source": [
        "### Глобальные продажи игр в в разбивке по платформам"
      ]
    },
    {
      "cell_type": "code",
      "execution_count": null,
      "metadata": {
        "id": "07rCKqeevzQS",
        "outputId": "87230493-7f61-442f-8d39-a24edbae3e4f"
      },
      "outputs": [
        {
          "data": {
            "image/png": "[encoded data removed]",
            "text/plain": [
              "<Figure size 864x720 with 1 Axes>"
            ]
          },
          "metadata": {
            "needs_background": "light"
          },
          "output_type": "display_data"
        }
      ],
      "source": [
        "plt.figure(figsize=(12, 10))\n",
        "plt.ylim(0, 2)\n",
        "sns.boxplot(x='platform', y=\"total_sale\", data=top10_platforms)\n",
        "plt.title('Диаграмма размаха по глобальным продажам ТОП-10 платформ')\n",
        "plt.ylabel('Сумма')\n",
        "plt.xlabel('Игровая платформа');"
      ]
    },
    {
      "cell_type": "markdown",
      "metadata": {
        "id": "VDho4tnLvzQS"
      },
      "source": [
        "Межквартальный размах очень похож у платфором X360, PS3, PS4. У них примерно одинаковая медиана около 0.28 млн. 3 квартиль заканчивается примерно 0.7 млн. Все распрадаления платформ скошены вправо. Можно сказать, что у всех ящиков медина лежит левее среднего значения. "
      ]
    },
    {
      "cell_type": "markdown",
      "metadata": {
        "id": "k8z6qhB4vzQT"
      },
      "source": [
        "### Анализ влияния на продажи в зависимости от оценок критиков и пользователей"
      ]
    },
    {
      "cell_type": "code",
      "execution_count": null,
      "metadata": {
        "id": "cn5z-SiwvzQT",
        "outputId": "cf590992-c5a3-426e-c901-01eb8ef4202c"
      },
      "outputs": [
        {
          "data": {
            "text/html": [
              "<div>\n",
              "<style scoped>\n",
              "    .dataframe tbody tr th:only-of-type {\n",
              "        vertical-align: middle;\n",
              "    }\n",
              "\n",
              "    .dataframe tbody tr th {\n",
              "        vertical-align: top;\n",
              "    }\n",
              "\n",
              "    .dataframe thead th {\n",
              "        text-align: right;\n",
              "    }\n",
              "</style>\n",
              "<table border=\"1\" class=\"dataframe\">\n",
              "  <thead>\n",
              "    <tr style=\"text-align: right;\">\n",
              "      <th></th>\n",
              "      <th>total_sale</th>\n",
              "    </tr>\n",
              "    <tr>\n",
              "      <th>platform</th>\n",
              "      <th></th>\n",
              "    </tr>\n",
              "  </thead>\n",
              "  <tbody>\n",
              "    <tr>\n",
              "      <td>PS4</td>\n",
              "      <td>314.14</td>\n",
              "    </tr>\n",
              "  </tbody>\n",
              "</table>\n",
              "</div>"
            ],
            "text/plain": [
              "          total_sale\n",
              "platform            \n",
              "PS4           314.14"
            ]
          },
          "execution_count": 49,
          "metadata": {},
          "output_type": "execute_result"
        }
      ],
      "source": [
        "#Выберем самую популярную платформу в исследуемом периоде\n",
        "actual_data_sales.head(1)"
      ]
    },
    {
      "cell_type": "code",
      "execution_count": null,
      "metadata": {
        "id": "fXvVSOkevzQT"
      },
      "outputs": [],
      "source": [
        "platform_ps4 = top10_platforms.query('platform == \"PS4\"')"
      ]
    },
    {
      "cell_type": "code",
      "execution_count": null,
      "metadata": {
        "id": "XF5xP-MGvzQT",
        "outputId": "7ad0368d-f3be-486d-cf63-7ad0c1553904"
      },
      "outputs": [
        {
          "data": {
            "text/html": [
              "<div>\n",
              "<style scoped>\n",
              "    .dataframe tbody tr th:only-of-type {\n",
              "        vertical-align: middle;\n",
              "    }\n",
              "\n",
              "    .dataframe tbody tr th {\n",
              "        vertical-align: top;\n",
              "    }\n",
              "\n",
              "    .dataframe thead th {\n",
              "        text-align: right;\n",
              "    }\n",
              "</style>\n",
              "<table border=\"1\" class=\"dataframe\">\n",
              "  <thead>\n",
              "    <tr style=\"text-align: right;\">\n",
              "      <th></th>\n",
              "      <th>name</th>\n",
              "      <th>platform</th>\n",
              "      <th>year_of_release</th>\n",
              "      <th>genre</th>\n",
              "      <th>na_sales</th>\n",
              "      <th>eu_sales</th>\n",
              "      <th>jp_sales</th>\n",
              "      <th>other_sales</th>\n",
              "      <th>critic_score</th>\n",
              "      <th>user_score</th>\n",
              "      <th>rating</th>\n",
              "      <th>total_sale</th>\n",
              "    </tr>\n",
              "  </thead>\n",
              "  <tbody>\n",
              "    <tr>\n",
              "      <td>2</td>\n",
              "      <td>Call of Duty: Black Ops 3</td>\n",
              "      <td>PS4</td>\n",
              "      <td>2015</td>\n",
              "      <td>Shooter</td>\n",
              "      <td>6.03</td>\n",
              "      <td>5.86</td>\n",
              "      <td>0.36</td>\n",
              "      <td>2.38</td>\n",
              "      <td>NaN</td>\n",
              "      <td>NaN</td>\n",
              "      <td>NaN</td>\n",
              "      <td>14.63</td>\n",
              "    </tr>\n",
              "    <tr>\n",
              "      <td>6</td>\n",
              "      <td>Grand Theft Auto V</td>\n",
              "      <td>PS4</td>\n",
              "      <td>2014</td>\n",
              "      <td>Action</td>\n",
              "      <td>3.96</td>\n",
              "      <td>6.31</td>\n",
              "      <td>0.38</td>\n",
              "      <td>1.97</td>\n",
              "      <td>97.0</td>\n",
              "      <td>8.3</td>\n",
              "      <td>M</td>\n",
              "      <td>12.62</td>\n",
              "    </tr>\n",
              "    <tr>\n",
              "      <td>14</td>\n",
              "      <td>FIFA 16</td>\n",
              "      <td>PS4</td>\n",
              "      <td>2015</td>\n",
              "      <td>Sports</td>\n",
              "      <td>1.12</td>\n",
              "      <td>6.12</td>\n",
              "      <td>0.06</td>\n",
              "      <td>1.28</td>\n",
              "      <td>82.0</td>\n",
              "      <td>4.3</td>\n",
              "      <td>E</td>\n",
              "      <td>8.58</td>\n",
              "    </tr>\n",
              "    <tr>\n",
              "      <td>17</td>\n",
              "      <td>Star Wars Battlefront (2015)</td>\n",
              "      <td>PS4</td>\n",
              "      <td>2015</td>\n",
              "      <td>Shooter</td>\n",
              "      <td>2.99</td>\n",
              "      <td>3.49</td>\n",
              "      <td>0.22</td>\n",
              "      <td>1.28</td>\n",
              "      <td>NaN</td>\n",
              "      <td>NaN</td>\n",
              "      <td>NaN</td>\n",
              "      <td>7.98</td>\n",
              "    </tr>\n",
              "    <tr>\n",
              "      <td>18</td>\n",
              "      <td>Call of Duty: Advanced Warfare</td>\n",
              "      <td>PS4</td>\n",
              "      <td>2014</td>\n",
              "      <td>Shooter</td>\n",
              "      <td>2.81</td>\n",
              "      <td>3.48</td>\n",
              "      <td>0.14</td>\n",
              "      <td>1.23</td>\n",
              "      <td>83.0</td>\n",
              "      <td>5.7</td>\n",
              "      <td>M</td>\n",
              "      <td>7.66</td>\n",
              "    </tr>\n",
              "    <tr>\n",
              "      <td>...</td>\n",
              "      <td>...</td>\n",
              "      <td>...</td>\n",
              "      <td>...</td>\n",
              "      <td>...</td>\n",
              "      <td>...</td>\n",
              "      <td>...</td>\n",
              "      <td>...</td>\n",
              "      <td>...</td>\n",
              "      <td>...</td>\n",
              "      <td>...</td>\n",
              "      <td>...</td>\n",
              "      <td>...</td>\n",
              "    </tr>\n",
              "    <tr>\n",
              "      <td>2641</td>\n",
              "      <td>Root Letter</td>\n",
              "      <td>PS4</td>\n",
              "      <td>2016</td>\n",
              "      <td>Adventure</td>\n",
              "      <td>0.00</td>\n",
              "      <td>0.00</td>\n",
              "      <td>0.01</td>\n",
              "      <td>0.00</td>\n",
              "      <td>69.0</td>\n",
              "      <td>7.5</td>\n",
              "      <td>NaN</td>\n",
              "      <td>0.01</td>\n",
              "    </tr>\n",
              "    <tr>\n",
              "      <td>2643</td>\n",
              "      <td>Shin Hayarigami 2</td>\n",
              "      <td>PS4</td>\n",
              "      <td>2016</td>\n",
              "      <td>Adventure</td>\n",
              "      <td>0.00</td>\n",
              "      <td>0.00</td>\n",
              "      <td>0.01</td>\n",
              "      <td>0.00</td>\n",
              "      <td>NaN</td>\n",
              "      <td>NaN</td>\n",
              "      <td>NaN</td>\n",
              "      <td>0.01</td>\n",
              "    </tr>\n",
              "    <tr>\n",
              "      <td>2651</td>\n",
              "      <td>Dungeons 2</td>\n",
              "      <td>PS4</td>\n",
              "      <td>2016</td>\n",
              "      <td>Role-Playing</td>\n",
              "      <td>0.01</td>\n",
              "      <td>0.00</td>\n",
              "      <td>0.00</td>\n",
              "      <td>0.00</td>\n",
              "      <td>61.0</td>\n",
              "      <td>7.9</td>\n",
              "      <td>T</td>\n",
              "      <td>0.01</td>\n",
              "    </tr>\n",
              "    <tr>\n",
              "      <td>2652</td>\n",
              "      <td>Carmageddon: Max Damage</td>\n",
              "      <td>PS4</td>\n",
              "      <td>2016</td>\n",
              "      <td>Action</td>\n",
              "      <td>0.01</td>\n",
              "      <td>0.00</td>\n",
              "      <td>0.00</td>\n",
              "      <td>0.00</td>\n",
              "      <td>51.0</td>\n",
              "      <td>5.5</td>\n",
              "      <td>M</td>\n",
              "      <td>0.01</td>\n",
              "    </tr>\n",
              "    <tr>\n",
              "      <td>2670</td>\n",
              "      <td>Farming 2017 - The Simulation</td>\n",
              "      <td>PS4</td>\n",
              "      <td>2016</td>\n",
              "      <td>Simulation</td>\n",
              "      <td>0.00</td>\n",
              "      <td>0.01</td>\n",
              "      <td>0.00</td>\n",
              "      <td>0.00</td>\n",
              "      <td>NaN</td>\n",
              "      <td>NaN</td>\n",
              "      <td>NaN</td>\n",
              "      <td>0.01</td>\n",
              "    </tr>\n",
              "  </tbody>\n",
              "</table>\n",
              "<p>392 rows × 12 columns</p>\n",
              "</div>"
            ],
            "text/plain": [
              "                                name platform  year_of_release         genre  \\\n",
              "2          Call of Duty: Black Ops 3      PS4             2015       Shooter   \n",
              "6                 Grand Theft Auto V      PS4             2014        Action   \n",
              "14                           FIFA 16      PS4             2015        Sports   \n",
              "17      Star Wars Battlefront (2015)      PS4             2015       Shooter   \n",
              "18    Call of Duty: Advanced Warfare      PS4             2014       Shooter   \n",
              "...                              ...      ...              ...           ...   \n",
              "2641                     Root Letter      PS4             2016     Adventure   \n",
              "2643               Shin Hayarigami 2      PS4             2016     Adventure   \n",
              "2651                      Dungeons 2      PS4             2016  Role-Playing   \n",
              "2652         Carmageddon: Max Damage      PS4             2016        Action   \n",
              "2670   Farming 2017 - The Simulation      PS4             2016    Simulation   \n",
              "\n",
              "      na_sales  eu_sales  jp_sales  other_sales  critic_score  user_score  \\\n",
              "2         6.03      5.86      0.36         2.38           NaN         NaN   \n",
              "6         3.96      6.31      0.38         1.97          97.0         8.3   \n",
              "14        1.12      6.12      0.06         1.28          82.0         4.3   \n",
              "17        2.99      3.49      0.22         1.28           NaN         NaN   \n",
              "18        2.81      3.48      0.14         1.23          83.0         5.7   \n",
              "...        ...       ...       ...          ...           ...         ...   \n",
              "2641      0.00      0.00      0.01         0.00          69.0         7.5   \n",
              "2643      0.00      0.00      0.01         0.00           NaN         NaN   \n",
              "2651      0.01      0.00      0.00         0.00          61.0         7.9   \n",
              "2652      0.01      0.00      0.00         0.00          51.0         5.5   \n",
              "2670      0.00      0.01      0.00         0.00           NaN         NaN   \n",
              "\n",
              "     rating  total_sale  \n",
              "2       NaN       14.63  \n",
              "6         M       12.62  \n",
              "14        E        8.58  \n",
              "17      NaN        7.98  \n",
              "18        M        7.66  \n",
              "...     ...         ...  \n",
              "2641    NaN        0.01  \n",
              "2643    NaN        0.01  \n",
              "2651      T        0.01  \n",
              "2652      M        0.01  \n",
              "2670    NaN        0.01  \n",
              "\n",
              "[392 rows x 12 columns]"
            ]
          },
          "execution_count": 51,
          "metadata": {},
          "output_type": "execute_result"
        }
      ],
      "source": [
        "platform_ps4"
      ]
    },
    {
      "cell_type": "code",
      "execution_count": null,
      "metadata": {
        "id": "sknnwQDWvzQU",
        "outputId": "3d9e47e6-bf0f-4483-c800-c42001e3beac"
      },
      "outputs": [
        {
          "data": {
            "image/png": "[encoded data removed]",
            "text/plain": [
              "<Figure size 432x288 with 1 Axes>"
            ]
          },
          "metadata": {
            "needs_background": "light"
          },
          "output_type": "display_data"
        }
      ],
      "source": [
        "platform_ps4.sort_values(by='critic_score',ascending=True).plot(kind='scatter',x='critic_score',y='total_sale', figsize =(6,4))\n",
        "plt.ylabel('Продажи')\n",
        "plt.xlabel('Оценка критиков')\n",
        "plt.title('Влияние оценки критиков на продажи');"
      ]
    },
    {
      "cell_type": "code",
      "execution_count": null,
      "metadata": {
        "id": "tfpJXXAUvzQU"
      },
      "outputs": [],
      "source": [
        "video_data['user_score'] = video_data['user_score'].astype('float64')"
      ]
    },
    {
      "cell_type": "code",
      "execution_count": null,
      "metadata": {
        "id": "002RIqA9vzQU",
        "outputId": "77875c63-1507-4675-8f8f-6a87a9caad9b"
      },
      "outputs": [
        {
          "data": {
            "image/png": "[encoded data removed]",
            "text/plain": [
              "<Figure size 432x288 with 1 Axes>"
            ]
          },
          "metadata": {
            "needs_background": "light"
          },
          "output_type": "display_data"
        }
      ],
      "source": [
        "platform_ps4.sort_values(by='user_score',ascending=True).plot(kind='scatter',x='user_score',y='total_sale', figsize =(6,4))\n",
        "plt.ylabel('Продажи')\n",
        "plt.xlabel('Оценка пользователей')\n",
        "plt.title('Влияние оценки пользователей на продажи');"
      ]
    },
    {
      "cell_type": "markdown",
      "metadata": {
        "id": "_dd-GtN0vzQU"
      },
      "source": [
        "Связь между объемами продаж и отзывами критиков и пользователей заметная - лучше продаются те игры на которые больше положительных отзывов. При этом встречаются высокие единичные оценки на игры которые плохо продаются."
      ]
    },
    {
      "cell_type": "code",
      "execution_count": null,
      "metadata": {
        "id": "2TYsy8KQvzQV"
      },
      "outputs": [],
      "source": [
        "correlation = platform_ps4.corr()"
      ]
    },
    {
      "cell_type": "code",
      "execution_count": null,
      "metadata": {
        "id": "jaKKKMRhvzQV",
        "outputId": "76070e40-9c60-4bd4-e574-1d4c304a8642"
      },
      "outputs": [
        {
          "data": {
            "image/png": "[encoded data removed]",
            "text/plain": [
              "<Figure size 576x576 with 2 Axes>"
            ]
          },
          "metadata": {
            "needs_background": "light"
          },
          "output_type": "display_data"
        }
      ],
      "source": [
        "plt.figure(figsize=(8, 8))\n",
        "mask = np.triu(np.ones_like(platform_ps4.corr(), dtype=np.bool)) \n",
        "sns.heatmap(correlation,annot=True,mask = mask)\n",
        "plt.title('Диаграмма взаимных корреляций по PS4');"
      ]
    },
    {
      "cell_type": "markdown",
      "metadata": {
        "id": "drBTyl48vzQV"
      },
      "source": [
        "Высокое значение корреляции между общими продажами и продажами по Северной Америке, Европе = 0,93 - 0,96.\n",
        "Прямая зависимость общих продаж от продаж в других странах.  \n",
        "Влияние отзывов критиков на продажи есть, но не такое явное как предполагалось по диаграммам рассеяния. \n",
        "Отзывы критиков действительно не сильно влияют на оценки пользователей - тут коэф. корреляции = 0,56."
      ]
    },
    {
      "cell_type": "markdown",
      "metadata": {
        "id": "oLePfqwovzQW"
      },
      "source": [
        "*Оценим влияние оценок критиков и пользователей на остальные платформы из топ - 10 платформ.*"
      ]
    },
    {
      "cell_type": "code",
      "execution_count": null,
      "metadata": {
        "id": "WEcnu70xvzQW"
      },
      "outputs": [],
      "source": [
        "other_platforms= top10_platforms.query('platform != \"PS4\"')"
      ]
    },
    {
      "cell_type": "code",
      "execution_count": null,
      "metadata": {
        "id": "mLdb7j5rvzQW",
        "outputId": "8bb7ec51-f408-4ab1-e72a-d14f5b63d5e4"
      },
      "outputs": [
        {
          "data": {
            "image/png": "[encoded data removed]",
            "text/plain": [
              "<Figure size 432x288 with 1 Axes>"
            ]
          },
          "metadata": {
            "needs_background": "light"
          },
          "output_type": "display_data"
        }
      ],
      "source": [
        "other_platforms.sort_values(by='critic_score',ascending=True).plot(kind='scatter',x='critic_score',y='total_sale', figsize =(6,4))\n",
        "plt.ylabel('Продажи')\n",
        "plt.xlabel('Оценка критиков')\n",
        "plt.title('Влияние оценки критиков на продажи');"
      ]
    },
    {
      "cell_type": "code",
      "execution_count": null,
      "metadata": {
        "id": "EUcFjaQOvzQX",
        "outputId": "8adc25ef-80a6-4f59-eca8-5171ba806da3"
      },
      "outputs": [
        {
          "data": {
            "image/png": "[encoded data removed]",
            "text/plain": [
              "<Figure size 432x288 with 1 Axes>"
            ]
          },
          "metadata": {
            "needs_background": "light"
          },
          "output_type": "display_data"
        }
      ],
      "source": [
        "other_platforms.sort_values(by='user_score',ascending=True).plot(kind='scatter',x='user_score',y='total_sale', figsize =(6,4))\n",
        "plt.ylabel('Продажи')\n",
        "plt.xlabel('Оценка пользователей')\n",
        "plt.title('Влияние оценки пользователей на продажи');"
      ]
    },
    {
      "cell_type": "markdown",
      "metadata": {
        "id": "s9hBPFSvvzQX"
      },
      "source": [
        "Аналогично связь между объемами продаж и отзывами критиков и пользователей заметная - лучше продаются те игры на которые больше положительных отзывов.  \n",
        "Также отзывы критиков и пользователей заметно связаны. Тот же широкий охват вариаций рейтингов, прибавился объем низких рейтингов и отзывов на игры."
      ]
    },
    {
      "cell_type": "code",
      "execution_count": null,
      "metadata": {
        "id": "W2DWKscWvzQX"
      },
      "outputs": [],
      "source": [
        "correlation = other_platforms.corr()"
      ]
    },
    {
      "cell_type": "code",
      "execution_count": null,
      "metadata": {
        "id": "cuo1-bG6vzQX",
        "outputId": "55d31577-7309-4486-9815-c42e11ef0363"
      },
      "outputs": [
        {
          "data": {
            "image/png": "[encoded data removed]",
            "text/plain": [
              "<Figure size 576x576 with 2 Axes>"
            ]
          },
          "metadata": {
            "needs_background": "light"
          },
          "output_type": "display_data"
        }
      ],
      "source": [
        "plt.figure(figsize=(8, 8))\n",
        "mask = np.triu(np.ones_like(other_platforms.corr(), dtype=np.bool)) \n",
        "sns.heatmap(correlation,annot=True,mask = mask)\n",
        "plt.title('Диаграмма взаимных корреляций по прочим платформам');"
      ]
    },
    {
      "cell_type": "markdown",
      "metadata": {
        "id": "RN95r4JNvzQX"
      },
      "source": [
        "Также высокое значение корреляции между общими продажами и продажами по Северной Америке, Европе и других странах = 0,89 - 0,93 ед.  \n",
        "Влияние отзывов критиков на продажи стало заметно меньше - 0,28."
      ]
    },
    {
      "cell_type": "markdown",
      "metadata": {
        "id": "dbS5AYy-vzQY"
      },
      "source": [
        "### Анализ прибыльности игры в зависимости от жанра"
      ]
    },
    {
      "cell_type": "code",
      "execution_count": null,
      "metadata": {
        "id": "zfQ9MMM3vzQY"
      },
      "outputs": [],
      "source": [
        "#Создадим таблица распределения игр по жанрам\n",
        "genre_sales = actual_data.pivot_table(\n",
        "    index=['genre'], values=['total_sale', 'name'], aggfunc={'total_sale':'sum', 'name':'count'})"
      ]
    },
    {
      "cell_type": "code",
      "execution_count": null,
      "metadata": {
        "id": "7KbHtec7vzQY",
        "outputId": "b44dfafe-e9c6-4068-8a79-1993f6b823b4"
      },
      "outputs": [
        {
          "data": {
            "text/html": [
              "<div>\n",
              "<style scoped>\n",
              "    .dataframe tbody tr th:only-of-type {\n",
              "        vertical-align: middle;\n",
              "    }\n",
              "\n",
              "    .dataframe tbody tr th {\n",
              "        vertical-align: top;\n",
              "    }\n",
              "\n",
              "    .dataframe thead th {\n",
              "        text-align: right;\n",
              "    }\n",
              "</style>\n",
              "<table border=\"1\" class=\"dataframe\">\n",
              "  <thead>\n",
              "    <tr style=\"text-align: right;\">\n",
              "      <th></th>\n",
              "      <th>name</th>\n",
              "      <th>total_sale</th>\n",
              "    </tr>\n",
              "    <tr>\n",
              "      <th>genre</th>\n",
              "      <th></th>\n",
              "      <th></th>\n",
              "    </tr>\n",
              "  </thead>\n",
              "  <tbody>\n",
              "    <tr>\n",
              "      <td>Action</td>\n",
              "      <td>1031</td>\n",
              "      <td>441.12</td>\n",
              "    </tr>\n",
              "    <tr>\n",
              "      <td>Shooter</td>\n",
              "      <td>235</td>\n",
              "      <td>304.73</td>\n",
              "    </tr>\n",
              "    <tr>\n",
              "      <td>Role-Playing</td>\n",
              "      <td>370</td>\n",
              "      <td>192.80</td>\n",
              "    </tr>\n",
              "    <tr>\n",
              "      <td>Sports</td>\n",
              "      <td>268</td>\n",
              "      <td>181.07</td>\n",
              "    </tr>\n",
              "    <tr>\n",
              "      <td>Misc</td>\n",
              "      <td>192</td>\n",
              "      <td>85.04</td>\n",
              "    </tr>\n",
              "    <tr>\n",
              "      <td>Platform</td>\n",
              "      <td>85</td>\n",
              "      <td>61.00</td>\n",
              "    </tr>\n",
              "    <tr>\n",
              "      <td>Racing</td>\n",
              "      <td>115</td>\n",
              "      <td>53.50</td>\n",
              "    </tr>\n",
              "    <tr>\n",
              "      <td>Fighting</td>\n",
              "      <td>109</td>\n",
              "      <td>44.49</td>\n",
              "    </tr>\n",
              "    <tr>\n",
              "      <td>Simulation</td>\n",
              "      <td>80</td>\n",
              "      <td>35.12</td>\n",
              "    </tr>\n",
              "    <tr>\n",
              "      <td>Adventure</td>\n",
              "      <td>302</td>\n",
              "      <td>29.43</td>\n",
              "    </tr>\n",
              "    <tr>\n",
              "      <td>Strategy</td>\n",
              "      <td>71</td>\n",
              "      <td>13.34</td>\n",
              "    </tr>\n",
              "    <tr>\n",
              "      <td>Puzzle</td>\n",
              "      <td>28</td>\n",
              "      <td>4.89</td>\n",
              "    </tr>\n",
              "  </tbody>\n",
              "</table>\n",
              "</div>"
            ],
            "text/plain": [
              "              name  total_sale\n",
              "genre                         \n",
              "Action        1031      441.12\n",
              "Shooter        235      304.73\n",
              "Role-Playing   370      192.80\n",
              "Sports         268      181.07\n",
              "Misc           192       85.04\n",
              "Platform        85       61.00\n",
              "Racing         115       53.50\n",
              "Fighting       109       44.49\n",
              "Simulation      80       35.12\n",
              "Adventure      302       29.43\n",
              "Strategy        71       13.34\n",
              "Puzzle          28        4.89"
            ]
          },
          "execution_count": 63,
          "metadata": {},
          "output_type": "execute_result"
        }
      ],
      "source": [
        "genre_sales.sort_values(by='total_sale', ascending=False)"
      ]
    },
    {
      "cell_type": "markdown",
      "metadata": {
        "id": "awe6iON4vzQY"
      },
      "source": [
        "Самые прибыльные жанры - это Action и Shooter, наименее прибыльные - Puzzle и Strategy."
      ]
    },
    {
      "cell_type": "markdown",
      "metadata": {
        "id": "QXdxQqPJvzQZ"
      },
      "source": [
        "**Вывод:**\n",
        "Актуальный период исследования последние 5 лет(с 2012 по 2016 включительно).  \n",
        "По всем платформам снижается глобальная выручка, в том числе в ТОР10 платформ. Самыми успешными по продажам в эти 5 лет были Х360, PS3, PS4.  \n",
        "При этом оценки критиков и пользователей влияют на продажи игр: продажи по играм с высокими оценками заметно больше. \n",
        "Первые по продажам игры в жанре \"Action\" - 441 млн. долл.Вторые - \"Shooter\".\n",
        "Самые плохопродаваемые игры в жанрах \"Adventure\", \"Strategy\", \"Puzzle\"\n",
        "Игры жанра \"Shooter\" самые \"дорогие\"- при меньшем количестве проданных игр(почти в 4 раза), общая сумма продаж незначительно отличается от жанра \"Action\""
      ]
    },
    {
      "cell_type": "markdown",
      "metadata": {
        "id": "WY3E04sYvzQZ"
      },
      "source": [
        "## Составление портрета пользователя каждого региона\n",
        "<a id=\"users\"></a>"
      ]
    },
    {
      "cell_type": "markdown",
      "metadata": {
        "id": "AtgCnOZsvzQZ"
      },
      "source": [
        "Необходимо определить для пользователя каждого региона(NA,EU,JP):\n",
        "- самые популярные платформы(топ-5)\n",
        "- самые популярные жанры(топ-5)\n",
        "- влияние рейтинга ESRB на продажи в отдельном регионе"
      ]
    },
    {
      "cell_type": "markdown",
      "metadata": {
        "id": "VT8HADopvzQa"
      },
      "source": [
        "*Самые популярные платформы*"
      ]
    },
    {
      "cell_type": "code",
      "execution_count": null,
      "metadata": {
        "id": "HRzO1Ve3vzQa"
      },
      "outputs": [],
      "source": [
        "#Северная Америка\n",
        "platform_na = actual_data.pivot_table(index='platform',values=['na_sales','total_sale'],aggfunc=('sum'))\n",
        "platform_na = platform_na.sort_values(by='na_sales',ascending=False).head(5)"
      ]
    },
    {
      "cell_type": "code",
      "execution_count": null,
      "metadata": {
        "id": "hd7fUTcWvzQa"
      },
      "outputs": [],
      "source": [
        "platform_na.rename(columns={'na_sales':'sales'}, inplace ='True')"
      ]
    },
    {
      "cell_type": "code",
      "execution_count": null,
      "metadata": {
        "id": "dUo6uTy9vzQa",
        "outputId": "8586afa8-e54b-482e-c983-18f64e9af0dd"
      },
      "outputs": [
        {
          "data": {
            "text/html": [
              "<div>\n",
              "<style scoped>\n",
              "    .dataframe tbody tr th:only-of-type {\n",
              "        vertical-align: middle;\n",
              "    }\n",
              "\n",
              "    .dataframe tbody tr th {\n",
              "        vertical-align: top;\n",
              "    }\n",
              "\n",
              "    .dataframe thead th {\n",
              "        text-align: right;\n",
              "    }\n",
              "</style>\n",
              "<table border=\"1\" class=\"dataframe\">\n",
              "  <thead>\n",
              "    <tr style=\"text-align: right;\">\n",
              "      <th></th>\n",
              "      <th>sales</th>\n",
              "      <th>total_sale</th>\n",
              "    </tr>\n",
              "    <tr>\n",
              "      <th>platform</th>\n",
              "      <th></th>\n",
              "      <th></th>\n",
              "    </tr>\n",
              "  </thead>\n",
              "  <tbody>\n",
              "    <tr>\n",
              "      <td>X360</td>\n",
              "      <td>140.05</td>\n",
              "      <td>236.54</td>\n",
              "    </tr>\n",
              "    <tr>\n",
              "      <td>PS4</td>\n",
              "      <td>108.74</td>\n",
              "      <td>314.14</td>\n",
              "    </tr>\n",
              "    <tr>\n",
              "      <td>PS3</td>\n",
              "      <td>103.38</td>\n",
              "      <td>288.79</td>\n",
              "    </tr>\n",
              "    <tr>\n",
              "      <td>XOne</td>\n",
              "      <td>93.12</td>\n",
              "      <td>159.32</td>\n",
              "    </tr>\n",
              "    <tr>\n",
              "      <td>3DS</td>\n",
              "      <td>55.31</td>\n",
              "      <td>194.61</td>\n",
              "    </tr>\n",
              "  </tbody>\n",
              "</table>\n",
              "</div>"
            ],
            "text/plain": [
              "           sales  total_sale\n",
              "platform                    \n",
              "X360      140.05      236.54\n",
              "PS4       108.74      314.14\n",
              "PS3       103.38      288.79\n",
              "XOne       93.12      159.32\n",
              "3DS        55.31      194.61"
            ]
          },
          "execution_count": 66,
          "metadata": {},
          "output_type": "execute_result"
        }
      ],
      "source": [
        "platform_na"
      ]
    },
    {
      "cell_type": "code",
      "execution_count": null,
      "metadata": {
        "id": "D0d_rOQgvzQa"
      },
      "outputs": [],
      "source": [
        "#Европа\n",
        "platform_eu = actual_data.pivot_table(index='platform',values=['eu_sales','total_sale'],aggfunc=('sum'))\n",
        "platform_eu = platform_eu.sort_values(by='eu_sales',ascending=False).head(5)"
      ]
    },
    {
      "cell_type": "code",
      "execution_count": null,
      "metadata": {
        "id": "dpj_zBNovzQb"
      },
      "outputs": [],
      "source": [
        "platform_eu.rename(columns={'eu_sales':'sales'}, inplace ='True')"
      ]
    },
    {
      "cell_type": "code",
      "execution_count": null,
      "metadata": {
        "id": "KBQh-dm5vzQb",
        "outputId": "aec46152-40d8-4448-ebf9-5ced4679d0ca"
      },
      "outputs": [
        {
          "data": {
            "text/html": [
              "<div>\n",
              "<style scoped>\n",
              "    .dataframe tbody tr th:only-of-type {\n",
              "        vertical-align: middle;\n",
              "    }\n",
              "\n",
              "    .dataframe tbody tr th {\n",
              "        vertical-align: top;\n",
              "    }\n",
              "\n",
              "    .dataframe thead th {\n",
              "        text-align: right;\n",
              "    }\n",
              "</style>\n",
              "<table border=\"1\" class=\"dataframe\">\n",
              "  <thead>\n",
              "    <tr style=\"text-align: right;\">\n",
              "      <th></th>\n",
              "      <th>sales</th>\n",
              "      <th>total_sale</th>\n",
              "    </tr>\n",
              "    <tr>\n",
              "      <th>platform</th>\n",
              "      <th></th>\n",
              "      <th></th>\n",
              "    </tr>\n",
              "  </thead>\n",
              "  <tbody>\n",
              "    <tr>\n",
              "      <td>PS4</td>\n",
              "      <td>141.09</td>\n",
              "      <td>314.14</td>\n",
              "    </tr>\n",
              "    <tr>\n",
              "      <td>PS3</td>\n",
              "      <td>106.86</td>\n",
              "      <td>288.79</td>\n",
              "    </tr>\n",
              "    <tr>\n",
              "      <td>X360</td>\n",
              "      <td>74.52</td>\n",
              "      <td>236.54</td>\n",
              "    </tr>\n",
              "    <tr>\n",
              "      <td>XOne</td>\n",
              "      <td>51.59</td>\n",
              "      <td>159.32</td>\n",
              "    </tr>\n",
              "    <tr>\n",
              "      <td>3DS</td>\n",
              "      <td>42.64</td>\n",
              "      <td>194.61</td>\n",
              "    </tr>\n",
              "  </tbody>\n",
              "</table>\n",
              "</div>"
            ],
            "text/plain": [
              "           sales  total_sale\n",
              "platform                    \n",
              "PS4       141.09      314.14\n",
              "PS3       106.86      288.79\n",
              "X360       74.52      236.54\n",
              "XOne       51.59      159.32\n",
              "3DS        42.64      194.61"
            ]
          },
          "execution_count": 69,
          "metadata": {},
          "output_type": "execute_result"
        }
      ],
      "source": [
        "platform_eu"
      ]
    },
    {
      "cell_type": "code",
      "execution_count": null,
      "metadata": {
        "id": "t8vqSPqwvzQb"
      },
      "outputs": [],
      "source": [
        "#Япония\n",
        "platform_jp = actual_data.pivot_table(index='platform',values=['jp_sales','total_sale'],aggfunc=('sum'))\n",
        "platform_jp = platform_jp.sort_values(by='jp_sales',ascending=False).head(5)"
      ]
    },
    {
      "cell_type": "code",
      "execution_count": null,
      "metadata": {
        "id": "6EaaVL4EvzQb"
      },
      "outputs": [],
      "source": [
        "platform_jp.rename(columns={'jp_sales':'sales'}, inplace ='True')"
      ]
    },
    {
      "cell_type": "code",
      "execution_count": null,
      "metadata": {
        "scrolled": true,
        "id": "kCRt2nIWvzQc",
        "outputId": "8c30f05f-333b-4ef2-fa1e-1665f861b561"
      },
      "outputs": [
        {
          "data": {
            "text/html": [
              "<div>\n",
              "<style scoped>\n",
              "    .dataframe tbody tr th:only-of-type {\n",
              "        vertical-align: middle;\n",
              "    }\n",
              "\n",
              "    .dataframe tbody tr th {\n",
              "        vertical-align: top;\n",
              "    }\n",
              "\n",
              "    .dataframe thead th {\n",
              "        text-align: right;\n",
              "    }\n",
              "</style>\n",
              "<table border=\"1\" class=\"dataframe\">\n",
              "  <thead>\n",
              "    <tr style=\"text-align: right;\">\n",
              "      <th></th>\n",
              "      <th>sales</th>\n",
              "      <th>total_sale</th>\n",
              "    </tr>\n",
              "    <tr>\n",
              "      <th>platform</th>\n",
              "      <th></th>\n",
              "      <th></th>\n",
              "    </tr>\n",
              "  </thead>\n",
              "  <tbody>\n",
              "    <tr>\n",
              "      <td>3DS</td>\n",
              "      <td>87.79</td>\n",
              "      <td>194.61</td>\n",
              "    </tr>\n",
              "    <tr>\n",
              "      <td>PS3</td>\n",
              "      <td>35.29</td>\n",
              "      <td>288.79</td>\n",
              "    </tr>\n",
              "    <tr>\n",
              "      <td>PSV</td>\n",
              "      <td>21.04</td>\n",
              "      <td>49.18</td>\n",
              "    </tr>\n",
              "    <tr>\n",
              "      <td>PS4</td>\n",
              "      <td>15.96</td>\n",
              "      <td>314.14</td>\n",
              "    </tr>\n",
              "    <tr>\n",
              "      <td>WiiU</td>\n",
              "      <td>13.01</td>\n",
              "      <td>82.19</td>\n",
              "    </tr>\n",
              "  </tbody>\n",
              "</table>\n",
              "</div>"
            ],
            "text/plain": [
              "          sales  total_sale\n",
              "platform                   \n",
              "3DS       87.79      194.61\n",
              "PS3       35.29      288.79\n",
              "PSV       21.04       49.18\n",
              "PS4       15.96      314.14\n",
              "WiiU      13.01       82.19"
            ]
          },
          "execution_count": 72,
          "metadata": {},
          "output_type": "execute_result"
        }
      ],
      "source": [
        "platform_jp"
      ]
    },
    {
      "cell_type": "code",
      "execution_count": null,
      "metadata": {
        "id": "CCbf9vT_vzQc"
      },
      "outputs": [],
      "source": [
        "#Создадим цикл,который в каждую таблицу добавит колонку с долей продаж\n",
        "for column in [platform_jp,platform_eu,platform_na]:\n",
        "    column['percent'] = column['sales']/column['total_sale']\n",
        "    column['percent'] = column['percent'].round(2)"
      ]
    },
    {
      "cell_type": "code",
      "execution_count": null,
      "metadata": {
        "id": "TWKJRQqhvzQc",
        "outputId": "371a6b73-2497-4a91-8738-11aa1497ad78"
      },
      "outputs": [
        {
          "data": {
            "image/png": "[encoded data removed]",
            "text/plain": [
              "<Figure size 432x288 with 1 Axes>"
            ]
          },
          "metadata": {},
          "output_type": "display_data"
        },
        {
          "data": {
            "image/png": "[encoded data removed]",
            "text/plain": [
              "<Figure size 432x288 with 1 Axes>"
            ]
          },
          "metadata": {},
          "output_type": "display_data"
        },
        {
          "data": {
            "image/png": "[encoded data removed]",
            "text/plain": [
              "<Figure size 432x288 with 1 Axes>"
            ]
          },
          "metadata": {},
          "output_type": "display_data"
        }
      ],
      "source": [
        "platform_na.plot(kind='pie',y=\"percent\")\n",
        "plt.title('Самые популярные платформы в Северной Америке')\n",
        "platform_eu.plot(kind='pie',y=\"percent\")\n",
        "plt.title('Самые популярные платформы в Европе')\n",
        "platform_jp.plot(kind='pie', y=\"percent\")\n",
        "plt.title('Самые популярные платформы в Японии');"
      ]
    },
    {
      "cell_type": "markdown",
      "metadata": {
        "id": "l9YpGanrvzQd"
      },
      "source": [
        "В Северной Америке и Европе набор ТОП-5 платформ один и тот же, разница только в распределении мест.\n",
        "В Северной Америке на первом месте платформа X360, в Европе - PS4.\n",
        "В Японии на первом местес большим отрывом 3DS."
      ]
    },
    {
      "cell_type": "markdown",
      "metadata": {
        "id": "NHumvMnlvzQd"
      },
      "source": [
        "*Самые популярные жанры*"
      ]
    },
    {
      "cell_type": "code",
      "execution_count": null,
      "metadata": {
        "id": "aukXP0wFvzQe"
      },
      "outputs": [],
      "source": [
        "na_sales_genre=actual_data.pivot_table(index='genre',values=['na_sales'],aggfunc=('sum'))"
      ]
    },
    {
      "cell_type": "code",
      "execution_count": null,
      "metadata": {
        "id": "ZpwrVSQvvzQe",
        "outputId": "2570d016-0c68-4dfa-c0bf-d1fe364618fc"
      },
      "outputs": [
        {
          "data": {
            "text/html": [
              "<div>\n",
              "<style scoped>\n",
              "    .dataframe tbody tr th:only-of-type {\n",
              "        vertical-align: middle;\n",
              "    }\n",
              "\n",
              "    .dataframe tbody tr th {\n",
              "        vertical-align: top;\n",
              "    }\n",
              "\n",
              "    .dataframe thead th {\n",
              "        text-align: right;\n",
              "    }\n",
              "</style>\n",
              "<table border=\"1\" class=\"dataframe\">\n",
              "  <thead>\n",
              "    <tr style=\"text-align: right;\">\n",
              "      <th></th>\n",
              "      <th>na_sales</th>\n",
              "    </tr>\n",
              "    <tr>\n",
              "      <th>genre</th>\n",
              "      <th></th>\n",
              "    </tr>\n",
              "  </thead>\n",
              "  <tbody>\n",
              "    <tr>\n",
              "      <td>Action</td>\n",
              "      <td>177.84</td>\n",
              "    </tr>\n",
              "    <tr>\n",
              "      <td>Shooter</td>\n",
              "      <td>144.77</td>\n",
              "    </tr>\n",
              "    <tr>\n",
              "      <td>Sports</td>\n",
              "      <td>81.53</td>\n",
              "    </tr>\n",
              "    <tr>\n",
              "      <td>Role-Playing</td>\n",
              "      <td>64.00</td>\n",
              "    </tr>\n",
              "    <tr>\n",
              "      <td>Misc</td>\n",
              "      <td>38.19</td>\n",
              "    </tr>\n",
              "  </tbody>\n",
              "</table>\n",
              "</div>"
            ],
            "text/plain": [
              "              na_sales\n",
              "genre                 \n",
              "Action          177.84\n",
              "Shooter         144.77\n",
              "Sports           81.53\n",
              "Role-Playing     64.00\n",
              "Misc             38.19"
            ]
          },
          "execution_count": 76,
          "metadata": {},
          "output_type": "execute_result"
        }
      ],
      "source": [
        "na_sales_genre=na_sales_genre.sort_values(by='na_sales',ascending=False).head(5)\n",
        "na_sales_genre"
      ]
    },
    {
      "cell_type": "code",
      "execution_count": null,
      "metadata": {
        "id": "g9zCbwIKvzQf"
      },
      "outputs": [],
      "source": [
        "eu_sales_genre=actual_data.pivot_table(index='genre',values=['eu_sales'],aggfunc=('sum'))"
      ]
    },
    {
      "cell_type": "code",
      "execution_count": null,
      "metadata": {
        "id": "-D0WZvG5vzQf",
        "outputId": "84d5a913-9ebb-47ae-9a9b-1b43518783d0"
      },
      "outputs": [
        {
          "data": {
            "text/html": [
              "<div>\n",
              "<style scoped>\n",
              "    .dataframe tbody tr th:only-of-type {\n",
              "        vertical-align: middle;\n",
              "    }\n",
              "\n",
              "    .dataframe tbody tr th {\n",
              "        vertical-align: top;\n",
              "    }\n",
              "\n",
              "    .dataframe thead th {\n",
              "        text-align: right;\n",
              "    }\n",
              "</style>\n",
              "<table border=\"1\" class=\"dataframe\">\n",
              "  <thead>\n",
              "    <tr style=\"text-align: right;\">\n",
              "      <th></th>\n",
              "      <th>eu_sales</th>\n",
              "    </tr>\n",
              "    <tr>\n",
              "      <th>genre</th>\n",
              "      <th></th>\n",
              "    </tr>\n",
              "  </thead>\n",
              "  <tbody>\n",
              "    <tr>\n",
              "      <td>Action</td>\n",
              "      <td>159.34</td>\n",
              "    </tr>\n",
              "    <tr>\n",
              "      <td>Shooter</td>\n",
              "      <td>113.47</td>\n",
              "    </tr>\n",
              "    <tr>\n",
              "      <td>Sports</td>\n",
              "      <td>69.09</td>\n",
              "    </tr>\n",
              "    <tr>\n",
              "      <td>Role-Playing</td>\n",
              "      <td>48.53</td>\n",
              "    </tr>\n",
              "    <tr>\n",
              "      <td>Racing</td>\n",
              "      <td>27.29</td>\n",
              "    </tr>\n",
              "  </tbody>\n",
              "</table>\n",
              "</div>"
            ],
            "text/plain": [
              "              eu_sales\n",
              "genre                 \n",
              "Action          159.34\n",
              "Shooter         113.47\n",
              "Sports           69.09\n",
              "Role-Playing     48.53\n",
              "Racing           27.29"
            ]
          },
          "execution_count": 78,
          "metadata": {},
          "output_type": "execute_result"
        }
      ],
      "source": [
        "eu_sales_genre=eu_sales_genre.sort_values(by='eu_sales',ascending=False).head(5)\n",
        "eu_sales_genre"
      ]
    },
    {
      "cell_type": "code",
      "execution_count": null,
      "metadata": {
        "id": "8z9_xjY0vzQg"
      },
      "outputs": [],
      "source": [
        "jp_sales_genre=actual_data.pivot_table(index='genre',values=['jp_sales'],aggfunc=('sum'))"
      ]
    },
    {
      "cell_type": "code",
      "execution_count": null,
      "metadata": {
        "id": "4OPFGIG1vzQg",
        "outputId": "917bbcf8-b417-444b-a864-55f8ed85dfe1"
      },
      "outputs": [
        {
          "data": {
            "text/html": [
              "<div>\n",
              "<style scoped>\n",
              "    .dataframe tbody tr th:only-of-type {\n",
              "        vertical-align: middle;\n",
              "    }\n",
              "\n",
              "    .dataframe tbody tr th {\n",
              "        vertical-align: top;\n",
              "    }\n",
              "\n",
              "    .dataframe thead th {\n",
              "        text-align: right;\n",
              "    }\n",
              "</style>\n",
              "<table border=\"1\" class=\"dataframe\">\n",
              "  <thead>\n",
              "    <tr style=\"text-align: right;\">\n",
              "      <th></th>\n",
              "      <th>jp_sales</th>\n",
              "    </tr>\n",
              "    <tr>\n",
              "      <th>genre</th>\n",
              "      <th></th>\n",
              "    </tr>\n",
              "  </thead>\n",
              "  <tbody>\n",
              "    <tr>\n",
              "      <td>Role-Playing</td>\n",
              "      <td>65.44</td>\n",
              "    </tr>\n",
              "    <tr>\n",
              "      <td>Action</td>\n",
              "      <td>52.80</td>\n",
              "    </tr>\n",
              "    <tr>\n",
              "      <td>Misc</td>\n",
              "      <td>12.86</td>\n",
              "    </tr>\n",
              "    <tr>\n",
              "      <td>Simulation</td>\n",
              "      <td>10.41</td>\n",
              "    </tr>\n",
              "    <tr>\n",
              "      <td>Fighting</td>\n",
              "      <td>9.44</td>\n",
              "    </tr>\n",
              "  </tbody>\n",
              "</table>\n",
              "</div>"
            ],
            "text/plain": [
              "              jp_sales\n",
              "genre                 \n",
              "Role-Playing     65.44\n",
              "Action           52.80\n",
              "Misc             12.86\n",
              "Simulation       10.41\n",
              "Fighting          9.44"
            ]
          },
          "execution_count": 80,
          "metadata": {},
          "output_type": "execute_result"
        }
      ],
      "source": [
        "jp_sales_genre=jp_sales_genre.sort_values(by='jp_sales',ascending=False).head(5)\n",
        "jp_sales_genre"
      ]
    },
    {
      "cell_type": "code",
      "execution_count": null,
      "metadata": {
        "id": "FxKK1J-jvzQg",
        "outputId": "a8011e76-da71-4cdd-b556-7e955aa6e564"
      },
      "outputs": [
        {
          "data": {
            "image/png": "[encoded data removed]",
            "text/plain": [
              "<Figure size 432x288 with 1 Axes>"
            ]
          },
          "metadata": {},
          "output_type": "display_data"
        },
        {
          "data": {
            "image/png": "[encoded data removed]",
            "text/plain": [
              "<Figure size 432x288 with 1 Axes>"
            ]
          },
          "metadata": {},
          "output_type": "display_data"
        },
        {
          "data": {
            "image/png": "[encoded data removed]",
            "text/plain": [
              "<Figure size 432x288 with 1 Axes>"
            ]
          },
          "metadata": {},
          "output_type": "display_data"
        }
      ],
      "source": [
        "na_sales_genre.plot(kind='pie',y=\"na_sales\")\n",
        "plt.title('Самые популярные жанры в Северной Америке')\n",
        "eu_sales_genre.plot(kind='pie',y=\"eu_sales\")\n",
        "plt.title('Самые популярные жанры в Европе')\n",
        "jp_sales_genre.plot(kind='pie',y=\"jp_sales\")\n",
        "plt.title('Самые популярные жанры в Японии');"
      ]
    },
    {
      "cell_type": "markdown",
      "metadata": {
        "id": "Oq9G1XRSvzQh"
      },
      "source": [
        "В Северной Америке и Европе набор ТОП-5 жанров одинаков по составу и по распределению мест в топе (за исключением 5 места).\n",
        "  1. Action \n",
        "  2. Shooter\n",
        "  3. Sports\n",
        "  4. Role-Playing\n",
        "  5.  Misc / Racing    \n",
        "В Японии свои предпочтения - на первом месте Role-Playing, далее два жанра - Action и Misc из первой пятерки других регионов и два последних Simulation и Fighting.\n",
        "Распределение в долях между жанрами из ТОП-5 примерно одинаковое во всех регионах. За исключением Японии - тут 1 и 2 место идет со значительным отрывом от других жанров."
      ]
    },
    {
      "cell_type": "markdown",
      "metadata": {
        "id": "GHEOVhJRvzQh"
      },
      "source": [
        "*Влияние рейтинга ESRB на продажи в отдельном регионе*"
      ]
    },
    {
      "cell_type": "code",
      "execution_count": null,
      "metadata": {
        "id": "8n57ZzmIvzQh"
      },
      "outputs": [],
      "source": [
        "na_sales_esrb=actual_data.pivot_table(index='rating',values=['na_sales'],aggfunc=('sum'))"
      ]
    },
    {
      "cell_type": "code",
      "execution_count": null,
      "metadata": {
        "id": "l5Hz92ZSvzQh",
        "outputId": "34090ca3-5f78-4cc6-dab5-572e15d94960"
      },
      "outputs": [
        {
          "data": {
            "text/html": [
              "<div>\n",
              "<style scoped>\n",
              "    .dataframe tbody tr th:only-of-type {\n",
              "        vertical-align: middle;\n",
              "    }\n",
              "\n",
              "    .dataframe tbody tr th {\n",
              "        vertical-align: top;\n",
              "    }\n",
              "\n",
              "    .dataframe thead th {\n",
              "        text-align: right;\n",
              "    }\n",
              "</style>\n",
              "<table border=\"1\" class=\"dataframe\">\n",
              "  <thead>\n",
              "    <tr style=\"text-align: right;\">\n",
              "      <th></th>\n",
              "      <th>na_sales</th>\n",
              "    </tr>\n",
              "    <tr>\n",
              "      <th>rating</th>\n",
              "      <th></th>\n",
              "    </tr>\n",
              "  </thead>\n",
              "  <tbody>\n",
              "    <tr>\n",
              "      <td>M</td>\n",
              "      <td>231.57</td>\n",
              "    </tr>\n",
              "    <tr>\n",
              "      <td>E</td>\n",
              "      <td>114.37</td>\n",
              "    </tr>\n",
              "    <tr>\n",
              "      <td>E10+</td>\n",
              "      <td>75.70</td>\n",
              "    </tr>\n",
              "    <tr>\n",
              "      <td>T</td>\n",
              "      <td>66.02</td>\n",
              "    </tr>\n",
              "  </tbody>\n",
              "</table>\n",
              "</div>"
            ],
            "text/plain": [
              "        na_sales\n",
              "rating          \n",
              "M         231.57\n",
              "E         114.37\n",
              "E10+       75.70\n",
              "T          66.02"
            ]
          },
          "execution_count": 83,
          "metadata": {},
          "output_type": "execute_result"
        }
      ],
      "source": [
        "na_sales_esrb=na_sales_esrb.sort_values(by='na_sales',ascending=False)\n",
        "na_sales_esrb"
      ]
    },
    {
      "cell_type": "code",
      "execution_count": null,
      "metadata": {
        "id": "5AmklUlqvzQi"
      },
      "outputs": [],
      "source": [
        "eu_sales_esrb=actual_data.pivot_table(index='rating',values=['eu_sales'],aggfunc=('sum'))"
      ]
    },
    {
      "cell_type": "code",
      "execution_count": null,
      "metadata": {
        "id": "rwiC10YEvzQi",
        "outputId": "23d6f586-8c1e-48d5-c57b-16e3373260ad"
      },
      "outputs": [
        {
          "data": {
            "text/html": [
              "<div>\n",
              "<style scoped>\n",
              "    .dataframe tbody tr th:only-of-type {\n",
              "        vertical-align: middle;\n",
              "    }\n",
              "\n",
              "    .dataframe tbody tr th {\n",
              "        vertical-align: top;\n",
              "    }\n",
              "\n",
              "    .dataframe thead th {\n",
              "        text-align: right;\n",
              "    }\n",
              "</style>\n",
              "<table border=\"1\" class=\"dataframe\">\n",
              "  <thead>\n",
              "    <tr style=\"text-align: right;\">\n",
              "      <th></th>\n",
              "      <th>eu_sales</th>\n",
              "    </tr>\n",
              "    <tr>\n",
              "      <th>rating</th>\n",
              "      <th></th>\n",
              "    </tr>\n",
              "  </thead>\n",
              "  <tbody>\n",
              "    <tr>\n",
              "      <td>M</td>\n",
              "      <td>193.96</td>\n",
              "    </tr>\n",
              "    <tr>\n",
              "      <td>E</td>\n",
              "      <td>113.03</td>\n",
              "    </tr>\n",
              "    <tr>\n",
              "      <td>E10+</td>\n",
              "      <td>55.37</td>\n",
              "    </tr>\n",
              "    <tr>\n",
              "      <td>T</td>\n",
              "      <td>52.96</td>\n",
              "    </tr>\n",
              "  </tbody>\n",
              "</table>\n",
              "</div>"
            ],
            "text/plain": [
              "        eu_sales\n",
              "rating          \n",
              "M         193.96\n",
              "E         113.03\n",
              "E10+       55.37\n",
              "T          52.96"
            ]
          },
          "execution_count": 85,
          "metadata": {},
          "output_type": "execute_result"
        }
      ],
      "source": [
        "eu_sales_esrb=eu_sales_esrb.sort_values(by='eu_sales',ascending=False)\n",
        "eu_sales_esrb"
      ]
    },
    {
      "cell_type": "code",
      "execution_count": null,
      "metadata": {
        "id": "WCwuz3CBvzQi"
      },
      "outputs": [],
      "source": [
        "jp_sales_esrb=actual_data.pivot_table(index='rating',values=['jp_sales'],aggfunc=('sum'))"
      ]
    },
    {
      "cell_type": "code",
      "execution_count": null,
      "metadata": {
        "id": "o-WJurfLvzQi",
        "outputId": "89ab3fbe-790f-404b-a2fd-0665b6fc5b99"
      },
      "outputs": [
        {
          "data": {
            "text/html": [
              "<div>\n",
              "<style scoped>\n",
              "    .dataframe tbody tr th:only-of-type {\n",
              "        vertical-align: middle;\n",
              "    }\n",
              "\n",
              "    .dataframe tbody tr th {\n",
              "        vertical-align: top;\n",
              "    }\n",
              "\n",
              "    .dataframe thead th {\n",
              "        text-align: right;\n",
              "    }\n",
              "</style>\n",
              "<table border=\"1\" class=\"dataframe\">\n",
              "  <thead>\n",
              "    <tr style=\"text-align: right;\">\n",
              "      <th></th>\n",
              "      <th>jp_sales</th>\n",
              "    </tr>\n",
              "    <tr>\n",
              "      <th>rating</th>\n",
              "      <th></th>\n",
              "    </tr>\n",
              "  </thead>\n",
              "  <tbody>\n",
              "    <tr>\n",
              "      <td>E</td>\n",
              "      <td>28.33</td>\n",
              "    </tr>\n",
              "    <tr>\n",
              "      <td>T</td>\n",
              "      <td>26.02</td>\n",
              "    </tr>\n",
              "    <tr>\n",
              "      <td>M</td>\n",
              "      <td>21.20</td>\n",
              "    </tr>\n",
              "    <tr>\n",
              "      <td>E10+</td>\n",
              "      <td>8.19</td>\n",
              "    </tr>\n",
              "  </tbody>\n",
              "</table>\n",
              "</div>"
            ],
            "text/plain": [
              "        jp_sales\n",
              "rating          \n",
              "E          28.33\n",
              "T          26.02\n",
              "M          21.20\n",
              "E10+        8.19"
            ]
          },
          "execution_count": 87,
          "metadata": {},
          "output_type": "execute_result"
        }
      ],
      "source": [
        "jp_sales_esrb=jp_sales_esrb.sort_values(by='jp_sales',ascending=False)\n",
        "jp_sales_esrb"
      ]
    },
    {
      "cell_type": "code",
      "execution_count": null,
      "metadata": {
        "id": "7BZs4n8svzQj",
        "outputId": "135f5b59-263e-4e22-c3bf-1cc6fa0e1331"
      },
      "outputs": [
        {
          "data": {
            "image/png": "[encoded data removed]",
            "text/plain": [
              "<Figure size 432x288 with 1 Axes>"
            ]
          },
          "metadata": {
            "needs_background": "light"
          },
          "output_type": "display_data"
        },
        {
          "data": {
            "image/png": "[encoded data removed]",
            "text/plain": [
              "<Figure size 432x288 with 1 Axes>"
            ]
          },
          "metadata": {
            "needs_background": "light"
          },
          "output_type": "display_data"
        },
        {
          "data": {
            "image/png": "[encoded data removed]",
            "text/plain": [
              "<Figure size 432x288 with 1 Axes>"
            ]
          },
          "metadata": {
            "needs_background": "light"
          },
          "output_type": "display_data"
        }
      ],
      "source": [
        "na_sales_esrb.plot(kind='bar') # гисторгамма продаж по возрастным ограничений для С. Америки\n",
        "plt.ylabel('Продажи')\n",
        "plt.xlabel('Рейтинг')\n",
        "plt.title('Влияние рейтинга на продажи в Северной Америке')\n",
        "eu_sales_esrb.plot(kind='bar') # гисторгамма продаж по возрастным ограничений для Европы\n",
        "plt.ylabel('Продажи')\n",
        "plt.xlabel('Рейтинг')\n",
        "plt.title('Влияние рейтинга на продажи в Европе')\n",
        "jp_sales_esrb.plot(kind='bar') # гисторгамма продаж по возрастным ограничений для Японии\n",
        "plt.ylabel('Продажи')\n",
        "plt.xlabel('Рейтинг')\n",
        "plt.title('Влияние рейтинга на продажи в Японии');"
      ]
    },
    {
      "cell_type": "markdown",
      "metadata": {
        "id": "VF57ZGoovzQj"
      },
      "source": [
        "В Европе и Северной Америке самые продаваемые игры имеют рейтинг M, т.е для взрослых. Далее последовательно Е и Е 10+ и Т, что говорит о том,что в данных странах рейтинг игры не влияет на ее продаваемость.\n",
        "В Японии на первом месте идут продажи игр для всех, далее для подростков, что говорит о том, что в данном регионе рейтинг имеет влияние."
      ]
    },
    {
      "cell_type": "markdown",
      "metadata": {
        "id": "pudRgH9pvzQj"
      },
      "source": [
        "**Вывод:**  \n",
        "В Северной Америке и Европе набор ТОП-5 жанров одинаков по составу и по распределению мест в топе (за исключением 5 места).\n",
        "  1. Action \n",
        "  2. Shooter\n",
        "  3. Sports\n",
        "  4. Role-Playing\n",
        "  5.  Misc / Racing    \n",
        "\n",
        "В Японии свои предпочтения - на первом месте Role-Playing, далее два жанра - Action и Misc из первой пятерки других регионов и два последних Simulation и Fighting.\n",
        "Распределение в долях между жанрами из ТОП-5 примерно одинаковое во всех регионах. За исключением Японии - тут 1 и 2 место идет со значительным отрывом от других жанров.  \n",
        "В Европе и Северной Америке самые продаваемые игры имеют рейтинг M, т.е для взрослых. Далее последовательно Е и Е 10+ и Т, что говорит о том,что в данных странах рейтинг игры не влияет на ее продаваемость.\n",
        "В Японии на первом месте идут продажи игр для всех, далее для подростков, что говорит о том, что в данном регионе рейтинг имеет влияние."
      ]
    },
    {
      "cell_type": "markdown",
      "metadata": {
        "id": "GvAnwMMhvzQk"
      },
      "source": [
        "## Проверка гипотез \n",
        "<a id=\"check\"></a>"
      ]
    },
    {
      "cell_type": "markdown",
      "metadata": {
        "id": "kMbTwrp_vzQk"
      },
      "source": [
        "### Средние пользовательские рейтинги платформ Xbox One и PC одинаковые"
      ]
    },
    {
      "cell_type": "markdown",
      "metadata": {
        "id": "qSaZDfH-vzQk"
      },
      "source": [
        "Исходя из формулировки гипотезы принимаем нулевую гипотезу H₀ как  \n",
        "*Средние пользовательские рейтинги платформ Xbox One равны средним пользовательским рейтингам платформы PC*  \n",
        "\n",
        "H1: \n",
        "*Средние пользовательские рейтинги платформ Xbox One не равны средним пользовательским рейтингам платформы PC*\n",
        "Уровень значимости (пороговое значение) установим как 5% (как общепринятый параметр)."
      ]
    },
    {
      "cell_type": "code",
      "execution_count": null,
      "metadata": {
        "id": "mdCpoNRLvzQl"
      },
      "outputs": [],
      "source": [
        "xone=actual_data[(actual_data['platform']=='XOne')&(actual_data['user_score']>0)]['user_score']"
      ]
    },
    {
      "cell_type": "code",
      "execution_count": null,
      "metadata": {
        "id": "Zu82ZawlvzQl"
      },
      "outputs": [],
      "source": [
        "pc=actual_data[(actual_data['platform']=='PC')&(actual_data['user_score']>0)]['user_score']"
      ]
    },
    {
      "cell_type": "code",
      "execution_count": null,
      "metadata": {
        "id": "5BuIeQ9zvzQl",
        "outputId": "1123854d-e341-4f14-cd0b-d2cee43c349b"
      },
      "outputs": [
        {
          "name": "stdout",
          "output_type": "stream",
          "text": [
            "Значение p-value: 0.5535080500643661\n"
          ]
        }
      ],
      "source": [
        "alpha = 0.05\n",
        "\n",
        "result=st.ttest_ind(xone,pc) \n",
        "print('Значение p-value:', result.pvalue)"
      ]
    },
    {
      "cell_type": "code",
      "execution_count": null,
      "metadata": {
        "id": "XM9H13_cvzQl",
        "outputId": "c248d312-d2d2-4509-b32e-7624e6f00bc4"
      },
      "outputs": [
        {
          "name": "stdout",
          "output_type": "stream",
          "text": [
            "Не получилось отвергнуть нулевую гипотезу\n"
          ]
        }
      ],
      "source": [
        "if (result.pvalue < alpha):\n",
        "    print(\"Отвергаем нулевую гипотезу\")\n",
        "else:\n",
        "    print(\"Не получилось отвергнуть нулевую гипотезу\")"
      ]
    },
    {
      "cell_type": "markdown",
      "metadata": {
        "id": "a44_ZzwMvzQm"
      },
      "source": [
        "**Отвергнуть нулевую гипотезу не вышло.Средние пользовательские рейтинги платформ Xbox One равны средним пользовательским рейтингам платформы PC со статистической значимостью alpha=5%.**"
      ]
    },
    {
      "cell_type": "markdown",
      "metadata": {
        "id": "MUh3URREvzQm"
      },
      "source": [
        "### Средние пользовательские рейтинги жанров Action и Sports разные."
      ]
    },
    {
      "cell_type": "markdown",
      "metadata": {
        "id": "OyszMQU5vzQn"
      },
      "source": [
        "Исходя из формулировки гипотезы принимаем нулевую гипотезу H₀ как:  \n",
        "*Средние пользовательские рейтинги жанров Action и Sports не одинаковы*\n",
        "\n",
        "H1: *Средние пользовательские рейтинги жанров Action и Sports одинаковы*\n",
        "\n",
        "Уровень значимости (пороговое значение) установим как 5% (общепринятый параметр)"
      ]
    },
    {
      "cell_type": "code",
      "execution_count": null,
      "metadata": {
        "id": "l4CAmrB3vzQn"
      },
      "outputs": [],
      "source": [
        "action=actual_data[(actual_data['genre']=='Action')&(actual_data['user_score']>0)]['user_score']"
      ]
    },
    {
      "cell_type": "code",
      "execution_count": null,
      "metadata": {
        "id": "QFuxet2avzQn"
      },
      "outputs": [],
      "source": [
        "sports=actual_data[(actual_data['genre']=='Sports')&(actual_data['user_score']>0)]['user_score']"
      ]
    },
    {
      "cell_type": "code",
      "execution_count": null,
      "metadata": {
        "id": "YcdTfkocvzQn",
        "outputId": "f4bf1e06-d2e1-48a4-e6ed-8389eb9512a8"
      },
      "outputs": [
        {
          "name": "stdout",
          "output_type": "stream",
          "text": [
            "Значение p-value: 3.7163089460934874e-26\n"
          ]
        }
      ],
      "source": [
        "alpha = 0.05\n",
        "\n",
        "result=st.ttest_ind(action,sports) \n",
        "print('Значение p-value:', result.pvalue)"
      ]
    },
    {
      "cell_type": "code",
      "execution_count": null,
      "metadata": {
        "id": "bOHOkFVMvzQo",
        "outputId": "a40977da-970d-49f2-e41a-7f79f6423f61"
      },
      "outputs": [
        {
          "ename": "NameError",
          "evalue": "name 'results' is not defined",
          "output_type": "error",
          "traceback": [
            "\u001b[0;31m---------------------------------------------------------------------------\u001b[0m",
            "\u001b[0;31mNameError\u001b[0m                                 Traceback (most recent call last)",
            "\u001b[0;32m<ipython-input-96-016e9d796024>\u001b[0m in \u001b[0;36m<module>\u001b[0;34m\u001b[0m\n\u001b[0;32m----> 1\u001b[0;31m \u001b[0;32mif\u001b[0m \u001b[0;34m(\u001b[0m\u001b[0mresults\u001b[0m\u001b[0;34m.\u001b[0m\u001b[0mpvalue\u001b[0m \u001b[0;34m<\u001b[0m \u001b[0malpha\u001b[0m\u001b[0;34m)\u001b[0m\u001b[0;34m:\u001b[0m\u001b[0;34m\u001b[0m\u001b[0;34m\u001b[0m\u001b[0m\n\u001b[0m\u001b[1;32m      2\u001b[0m     \u001b[0mprint\u001b[0m\u001b[0;34m(\u001b[0m\u001b[0;34m\"Отвергаем нулевую гипотезу\"\u001b[0m\u001b[0;34m)\u001b[0m\u001b[0;34m\u001b[0m\u001b[0;34m\u001b[0m\u001b[0m\n\u001b[1;32m      3\u001b[0m \u001b[0;32melse\u001b[0m\u001b[0;34m:\u001b[0m\u001b[0;34m\u001b[0m\u001b[0;34m\u001b[0m\u001b[0m\n\u001b[1;32m      4\u001b[0m     \u001b[0mprint\u001b[0m\u001b[0;34m(\u001b[0m\u001b[0;34m\"Не получилось отвергнуть нулевую гипотезу\"\u001b[0m\u001b[0;34m)\u001b[0m\u001b[0;34m\u001b[0m\u001b[0;34m\u001b[0m\u001b[0m\n",
            "\u001b[0;31mNameError\u001b[0m: name 'results' is not defined"
          ]
        }
      ],
      "source": [
        "if (results.pvalue < alpha):\n",
        "    print(\"Отвергаем нулевую гипотезу\")\n",
        "else:\n",
        "    print(\"Не получилось отвергнуть нулевую гипотезу\")"
      ]
    },
    {
      "cell_type": "markdown",
      "metadata": {
        "id": "8PIdELPEvzQo"
      },
      "source": [
        "**Отвергнуть нулевую гипотезу не вышло.Средние пользовательские рейтинги жанров Action и Sports не одинаковы со статистической значимостью alpha=5%.**"
      ]
    },
    {
      "cell_type": "markdown",
      "metadata": {
        "id": "IpIoCCEhvzQp"
      },
      "source": [
        "## Общий вывод\n",
        "<a id=\"conclusion\"></a>"
      ]
    },
    {
      "cell_type": "markdown",
      "metadata": {
        "id": "6BC7uz2_vzQp"
      },
      "source": [
        "На первом этапе исследования были рассмотрены предоставленные данные. Таблица содержит значительное количество пропусков(почти половину) в стоблцах с оценками критиков и пользователей, а также рейтингом. Чтобы не искажать возможные результаты пропуски дополнительно не заменялись."
      ]
    },
    {
      "cell_type": "markdown",
      "metadata": {
        "id": "LYIaAEwnvzQp"
      },
      "source": [
        "На втором этапе исследования была проведена предобработка данных: названия столбцов приведены к нижнему регистру, заменены типы данных, заполнены пропуски в ряде столбцов. Дополнительно был расчитан столбец с продажей по всем регионам суммарно."
      ]
    },
    {
      "cell_type": "markdown",
      "metadata": {
        "id": "Lbjw0paVvzQq"
      },
      "source": [
        "На третьем этапе был определен актуальный период: с 2012 по 2016 год включительно. Самыми успешными по продажам в эти 5 лет были Х360, PS3, PS4. При этом по всем платформам снижается глобальная выручка.  \n",
        "При этом оценки критиков и пользователей влияют на продажи игр: продажи по играм с высокими оценками заметно больше. \n",
        "Первые по продажам игры в жанре \"Action\" - 441 млн. долл.Вторые - \"Shooter\".\n",
        "Самые плохопродаваемые игры в жанрах \"Adventure\", \"Strategy\", \"Puzzle\"\n",
        "Игры жанра \"Shooter\" самые \"дорогие\"- при меньшем количестве проданных игр(почти в 4 раза), общая сумма продаж незначительно отличается от жанра \"Action\""
      ]
    },
    {
      "cell_type": "markdown",
      "metadata": {
        "id": "z9lh0FTDvzQq"
      },
      "source": [
        "На четвертом этапе выявлено поведение пользователей в зависимости от региона.  \n",
        "В Северной Америке и Европе набор ТОП-5 жанров одинаков по составу и по распределению мест в топе (за исключением 5 места).\n",
        "  1. Action \n",
        "  2. Shooter\n",
        "  3. Sports\n",
        "  4. Role-Playing\n",
        "  5.  Misc / Racing    \n",
        "\n",
        "В Японии свои предпочтения - на первом месте Role-Playing, далее два жанра - Action и Misc из первой пятерки других регионов и два последних Simulation и Fighting.\n",
        "Распределение в долях между жанрами из ТОП-5 примерно одинаковое во всех регионах. За исключением Японии - тут 1 и 2 место идет со значительным отрывом от других жанров.  \n",
        "В Европе и Северной Америке самые продаваемые игры имеют рейтинг M, т.е для взрослых. Далее последовательно Е и Е 10+ и Т, что говорит о том,что в данных странах рейтинг игры не влияет на ее продаваемость.\n",
        "В Японии на первом месте идут продажи игр для всех, далее для подростков, что говорит о том, что в данном регионе рейтинг имеет влияние."
      ]
    },
    {
      "cell_type": "markdown",
      "metadata": {
        "id": "8k3tbkx_vzQr"
      },
      "source": [
        "На пятом этапе проверили две гипотезы.\n",
        "- Средние пользовательские рейтинги платформ Xbox One и PC одинаковые\n",
        "Отвергнуть нулевую гипотезу не вышло.Средние пользовательские рейтинги платформ Xbox One равны средним пользовательским рейтингам платформы PC со статистической значимостью alpha=5%.\n",
        "- Средние пользовательские рейтинги жанров Action и Sports разные\n",
        "Отвергнуть нулевую гипотезу не вышло.Средние пользовательские рейтинги жанров Action и Sports не одинаковы со статистической значимостью alpha=5%."
      ]
    },
    {
      "cell_type": "markdown",
      "metadata": {
        "id": "SQFXbk__vzQs"
      },
      "source": [
        "Анализируя будующие продажи на 2017 год можно с уверенностью сказать, что продажи можно получить у платформ '3DS','PS3','PS4','X360','XOne'.Что касается жанров, то тут самые продаваемые Action, Sport, Shooter."
      ]
    },
    {
      "cell_type": "code",
      "execution_count": null,
      "metadata": {
        "id": "HJxy8Bw0vzQv"
      },
      "outputs": [],
      "source": [
        ""
      ]
    }
  ],
  "metadata": {
    "ExecuteTimeLog": [
      {
        "duration": 82,
        "start_time": "2022-02-07T20:56:51.117Z"
      },
      {
        "duration": 1161,
        "start_time": "2022-02-07T20:59:50.128Z"
      },
      {
        "duration": 43,
        "start_time": "2022-02-07T21:00:28.248Z"
      },
      {
        "duration": 20,
        "start_time": "2022-02-07T21:00:39.972Z"
      },
      {
        "duration": 11,
        "start_time": "2022-02-07T21:00:52.244Z"
      },
      {
        "duration": 56,
        "start_time": "2022-02-07T21:01:00.932Z"
      },
      {
        "duration": 97,
        "start_time": "2022-02-07T21:04:49.680Z"
      },
      {
        "duration": 3,
        "start_time": "2022-02-07T21:05:10.420Z"
      },
      {
        "duration": 20,
        "start_time": "2022-02-07T21:05:17.888Z"
      },
      {
        "duration": 14,
        "start_time": "2022-02-07T21:05:28.444Z"
      },
      {
        "duration": 8,
        "start_time": "2022-02-07T21:06:29.120Z"
      },
      {
        "duration": 9,
        "start_time": "2022-02-07T21:06:36.328Z"
      },
      {
        "duration": 23,
        "start_time": "2022-02-07T21:06:56.304Z"
      },
      {
        "duration": 9,
        "start_time": "2022-02-07T21:07:43.171Z"
      },
      {
        "duration": 4,
        "start_time": "2022-02-07T21:08:38.920Z"
      },
      {
        "duration": 5,
        "start_time": "2022-02-07T21:08:50.636Z"
      },
      {
        "duration": 4,
        "start_time": "2022-02-07T21:09:15.800Z"
      },
      {
        "duration": 5,
        "start_time": "2022-02-07T21:09:22.984Z"
      },
      {
        "duration": 22,
        "start_time": "2022-02-07T21:10:04.666Z"
      },
      {
        "duration": 25,
        "start_time": "2022-02-07T21:10:59.576Z"
      },
      {
        "duration": 6,
        "start_time": "2022-02-07T21:11:09.199Z"
      },
      {
        "duration": 17,
        "start_time": "2022-02-07T21:11:15.272Z"
      },
      {
        "duration": 18,
        "start_time": "2022-02-07T21:11:26.936Z"
      },
      {
        "duration": 24,
        "start_time": "2022-02-07T21:14:04.531Z"
      },
      {
        "duration": 21,
        "start_time": "2022-02-07T21:14:12.699Z"
      },
      {
        "duration": 347,
        "start_time": "2022-02-07T21:17:23.603Z"
      },
      {
        "duration": 23,
        "start_time": "2022-02-07T21:17:37.759Z"
      },
      {
        "duration": 22,
        "start_time": "2022-02-07T21:18:06.202Z"
      },
      {
        "duration": 10,
        "start_time": "2022-02-07T21:19:42.467Z"
      },
      {
        "duration": 479,
        "start_time": "2022-02-07T21:19:49.146Z"
      },
      {
        "duration": 324,
        "start_time": "2022-02-07T21:20:15.298Z"
      },
      {
        "duration": 3,
        "start_time": "2022-02-07T21:20:30.779Z"
      },
      {
        "duration": 7,
        "start_time": "2022-02-07T21:20:38.219Z"
      },
      {
        "duration": 14,
        "start_time": "2022-02-07T21:20:50.363Z"
      },
      {
        "duration": 355,
        "start_time": "2022-02-07T21:22:13.287Z"
      },
      {
        "duration": 17,
        "start_time": "2022-02-07T21:22:16.046Z"
      },
      {
        "duration": 13,
        "start_time": "2022-02-07T21:22:16.082Z"
      },
      {
        "duration": 19,
        "start_time": "2022-02-07T21:23:02.338Z"
      },
      {
        "duration": 322,
        "start_time": "2022-02-07T21:23:16.182Z"
      },
      {
        "duration": 407,
        "start_time": "2022-02-07T21:23:35.986Z"
      },
      {
        "duration": 6,
        "start_time": "2022-02-07T21:26:19.718Z"
      },
      {
        "duration": 3,
        "start_time": "2022-02-07T21:26:27.194Z"
      },
      {
        "duration": 14,
        "start_time": "2022-02-07T21:26:32.702Z"
      },
      {
        "duration": 9,
        "start_time": "2022-02-07T21:27:05.954Z"
      },
      {
        "duration": 4,
        "start_time": "2022-02-07T21:27:28.198Z"
      },
      {
        "duration": 7,
        "start_time": "2022-02-07T21:27:34.994Z"
      },
      {
        "duration": 3,
        "start_time": "2022-02-07T21:27:44.210Z"
      },
      {
        "duration": 2,
        "start_time": "2022-02-07T21:28:03.994Z"
      },
      {
        "duration": 9,
        "start_time": "2022-02-07T21:28:19.206Z"
      },
      {
        "duration": 14,
        "start_time": "2022-02-07T21:28:28.038Z"
      },
      {
        "duration": 9,
        "start_time": "2022-02-07T21:28:52.482Z"
      },
      {
        "duration": 275,
        "start_time": "2022-02-07T21:31:17.606Z"
      },
      {
        "duration": 11,
        "start_time": "2022-02-07T21:31:22.730Z"
      },
      {
        "duration": 11,
        "start_time": "2022-02-07T21:31:32.609Z"
      },
      {
        "duration": 260,
        "start_time": "2022-02-07T21:33:19.901Z"
      },
      {
        "duration": 17,
        "start_time": "2022-02-07T21:33:24.597Z"
      },
      {
        "duration": 20,
        "start_time": "2022-02-07T21:33:34.177Z"
      },
      {
        "duration": 494,
        "start_time": "2022-02-07T21:34:25.594Z"
      },
      {
        "duration": 485,
        "start_time": "2022-02-07T21:34:49.613Z"
      },
      {
        "duration": 509,
        "start_time": "2022-02-07T21:34:56.842Z"
      },
      {
        "duration": 389,
        "start_time": "2022-02-07T21:35:05.941Z"
      },
      {
        "duration": 546,
        "start_time": "2022-02-07T21:36:40.109Z"
      },
      {
        "duration": 612,
        "start_time": "2022-02-07T21:36:47.569Z"
      },
      {
        "duration": 553,
        "start_time": "2022-02-07T21:37:15.597Z"
      },
      {
        "duration": 12,
        "start_time": "2022-02-07T21:37:38.566Z"
      },
      {
        "duration": 11,
        "start_time": "2022-02-07T21:37:38.992Z"
      },
      {
        "duration": 15,
        "start_time": "2022-02-07T21:37:39.034Z"
      },
      {
        "duration": 16,
        "start_time": "2022-02-07T21:37:39.758Z"
      },
      {
        "duration": 387,
        "start_time": "2022-02-07T21:37:40.685Z"
      },
      {
        "duration": 568,
        "start_time": "2022-02-07T21:37:42.069Z"
      },
      {
        "duration": 13,
        "start_time": "2022-02-07T21:38:49.437Z"
      },
      {
        "duration": 539,
        "start_time": "2022-02-07T21:39:16.265Z"
      },
      {
        "duration": 536,
        "start_time": "2022-02-07T21:39:56.673Z"
      },
      {
        "duration": 11,
        "start_time": "2022-02-07T21:40:17.477Z"
      },
      {
        "duration": 426,
        "start_time": "2022-02-07T21:42:14.365Z"
      },
      {
        "duration": 503,
        "start_time": "2022-02-07T21:43:54.613Z"
      },
      {
        "duration": 429,
        "start_time": "2022-02-07T21:44:15.141Z"
      },
      {
        "duration": 371,
        "start_time": "2022-02-07T21:46:51.565Z"
      },
      {
        "duration": 249,
        "start_time": "2022-02-07T21:52:36.556Z"
      },
      {
        "duration": 7,
        "start_time": "2022-02-07T21:57:19.160Z"
      },
      {
        "duration": 95,
        "start_time": "2022-02-07T21:58:42.944Z"
      },
      {
        "duration": 280,
        "start_time": "2022-02-07T21:58:51.296Z"
      },
      {
        "duration": 6,
        "start_time": "2022-02-07T21:59:04.568Z"
      },
      {
        "duration": 21,
        "start_time": "2022-02-07T21:59:10.980Z"
      },
      {
        "duration": 2944,
        "start_time": "2022-02-07T22:00:39.664Z"
      },
      {
        "duration": 80,
        "start_time": "2022-02-07T22:02:39.948Z"
      },
      {
        "duration": 269,
        "start_time": "2022-02-07T22:02:53.061Z"
      },
      {
        "duration": 6,
        "start_time": "2022-02-07T22:02:58.336Z"
      },
      {
        "duration": 21,
        "start_time": "2022-02-07T22:02:58.984Z"
      },
      {
        "duration": 6432,
        "start_time": "2022-02-07T22:02:59.996Z"
      },
      {
        "duration": 329,
        "start_time": "2022-02-07T22:03:22.244Z"
      },
      {
        "duration": 354,
        "start_time": "2022-02-07T22:04:52.916Z"
      },
      {
        "duration": 329,
        "start_time": "2022-02-07T22:05:17.936Z"
      },
      {
        "duration": 354,
        "start_time": "2022-02-07T22:05:26.068Z"
      },
      {
        "duration": 350,
        "start_time": "2022-02-07T22:05:32.300Z"
      },
      {
        "duration": 292,
        "start_time": "2022-02-07T22:05:42.036Z"
      },
      {
        "duration": 280,
        "start_time": "2022-02-07T22:06:44.436Z"
      },
      {
        "duration": 1052,
        "start_time": "2022-02-07T22:07:58.361Z"
      },
      {
        "duration": 1044,
        "start_time": "2022-02-07T22:08:11.608Z"
      },
      {
        "duration": 1037,
        "start_time": "2022-02-07T22:08:21.228Z"
      },
      {
        "duration": 5,
        "start_time": "2022-02-07T22:08:41.688Z"
      },
      {
        "duration": 271,
        "start_time": "2022-02-07T22:08:52.080Z"
      },
      {
        "duration": 6,
        "start_time": "2022-02-07T22:09:07.120Z"
      },
      {
        "duration": 274,
        "start_time": "2022-02-07T22:09:08.056Z"
      },
      {
        "duration": 11,
        "start_time": "2022-02-07T22:09:37.140Z"
      },
      {
        "duration": 1149,
        "start_time": "2022-02-07T22:10:54.043Z"
      },
      {
        "duration": 40,
        "start_time": "2022-02-07T22:10:55.194Z"
      },
      {
        "duration": 20,
        "start_time": "2022-02-07T22:10:55.236Z"
      },
      {
        "duration": 15,
        "start_time": "2022-02-07T22:10:55.257Z"
      },
      {
        "duration": 72,
        "start_time": "2022-02-07T22:10:55.274Z"
      },
      {
        "duration": 3,
        "start_time": "2022-02-07T22:10:55.348Z"
      },
      {
        "duration": 44,
        "start_time": "2022-02-07T22:10:55.353Z"
      },
      {
        "duration": 28,
        "start_time": "2022-02-07T22:10:55.400Z"
      },
      {
        "duration": 22,
        "start_time": "2022-02-07T22:10:55.431Z"
      },
      {
        "duration": 29,
        "start_time": "2022-02-07T22:10:55.455Z"
      },
      {
        "duration": 41,
        "start_time": "2022-02-07T22:10:55.485Z"
      },
      {
        "duration": 17,
        "start_time": "2022-02-07T22:10:55.527Z"
      },
      {
        "duration": 19,
        "start_time": "2022-02-07T22:10:55.546Z"
      },
      {
        "duration": 23,
        "start_time": "2022-02-07T22:10:55.567Z"
      },
      {
        "duration": 23,
        "start_time": "2022-02-07T22:10:55.592Z"
      },
      {
        "duration": 34,
        "start_time": "2022-02-07T22:10:55.617Z"
      },
      {
        "duration": 27,
        "start_time": "2022-02-07T22:10:55.653Z"
      },
      {
        "duration": 12,
        "start_time": "2022-02-07T22:10:55.681Z"
      },
      {
        "duration": 23,
        "start_time": "2022-02-07T22:10:55.695Z"
      },
      {
        "duration": 42,
        "start_time": "2022-02-07T22:10:55.720Z"
      },
      {
        "duration": 19,
        "start_time": "2022-02-07T22:10:55.764Z"
      },
      {
        "duration": 29,
        "start_time": "2022-02-07T22:10:55.785Z"
      },
      {
        "duration": 276,
        "start_time": "2022-02-07T22:10:55.818Z"
      },
      {
        "duration": 22,
        "start_time": "2022-02-07T22:10:56.097Z"
      },
      {
        "duration": 10,
        "start_time": "2022-02-07T22:10:56.121Z"
      },
      {
        "duration": 425,
        "start_time": "2022-02-07T22:10:56.133Z"
      },
      {
        "duration": 2,
        "start_time": "2022-02-07T22:10:56.560Z"
      },
      {
        "duration": 24,
        "start_time": "2022-02-07T22:10:56.564Z"
      },
      {
        "duration": 24,
        "start_time": "2022-02-07T22:10:56.590Z"
      },
      {
        "duration": 38,
        "start_time": "2022-02-07T22:10:56.616Z"
      },
      {
        "duration": 318,
        "start_time": "2022-02-07T22:10:56.656Z"
      },
      {
        "duration": 6,
        "start_time": "2022-02-07T22:10:56.976Z"
      },
      {
        "duration": 24,
        "start_time": "2022-02-07T22:10:56.984Z"
      },
      {
        "duration": 27,
        "start_time": "2022-02-07T22:10:57.010Z"
      },
      {
        "duration": 36,
        "start_time": "2022-02-07T22:10:57.039Z"
      },
      {
        "duration": 22,
        "start_time": "2022-02-07T22:10:57.077Z"
      },
      {
        "duration": 27,
        "start_time": "2022-02-07T22:10:57.101Z"
      },
      {
        "duration": 5,
        "start_time": "2022-02-07T22:10:57.130Z"
      },
      {
        "duration": 20,
        "start_time": "2022-02-07T22:10:57.136Z"
      },
      {
        "duration": 37,
        "start_time": "2022-02-07T22:10:57.158Z"
      },
      {
        "duration": 28,
        "start_time": "2022-02-07T22:10:57.197Z"
      },
      {
        "duration": 22,
        "start_time": "2022-02-07T22:10:57.227Z"
      },
      {
        "duration": 37,
        "start_time": "2022-02-07T22:10:57.251Z"
      },
      {
        "duration": 26,
        "start_time": "2022-02-07T22:10:57.290Z"
      },
      {
        "duration": 405,
        "start_time": "2022-02-07T22:10:57.318Z"
      },
      {
        "duration": 441,
        "start_time": "2022-02-07T22:10:57.725Z"
      },
      {
        "duration": 7,
        "start_time": "2022-02-07T22:10:58.168Z"
      },
      {
        "duration": 22,
        "start_time": "2022-02-07T22:10:58.176Z"
      },
      {
        "duration": 24,
        "start_time": "2022-02-07T22:10:58.200Z"
      },
      {
        "duration": 430,
        "start_time": "2022-02-07T22:10:58.226Z"
      },
      {
        "duration": 3,
        "start_time": "2022-02-07T22:10:58.658Z"
      },
      {
        "duration": 13,
        "start_time": "2022-02-07T22:10:58.663Z"
      },
      {
        "duration": 333,
        "start_time": "2022-02-07T22:10:58.678Z"
      },
      {
        "duration": 328,
        "start_time": "2022-02-07T22:12:10.595Z"
      },
      {
        "duration": 293,
        "start_time": "2022-02-08T12:06:43.348Z"
      },
      {
        "duration": 1719,
        "start_time": "2022-02-08T12:06:56.288Z"
      },
      {
        "duration": 47,
        "start_time": "2022-02-08T12:06:58.010Z"
      },
      {
        "duration": 27,
        "start_time": "2022-02-08T12:06:58.060Z"
      },
      {
        "duration": 17,
        "start_time": "2022-02-08T12:06:58.089Z"
      },
      {
        "duration": 74,
        "start_time": "2022-02-08T12:06:58.133Z"
      },
      {
        "duration": 4,
        "start_time": "2022-02-08T12:06:58.210Z"
      },
      {
        "duration": 28,
        "start_time": "2022-02-08T12:06:58.232Z"
      },
      {
        "duration": 18,
        "start_time": "2022-02-08T12:06:58.263Z"
      },
      {
        "duration": 12,
        "start_time": "2022-02-08T12:06:58.284Z"
      },
      {
        "duration": 45,
        "start_time": "2022-02-08T12:06:58.298Z"
      },
      {
        "duration": 32,
        "start_time": "2022-02-08T12:06:58.345Z"
      },
      {
        "duration": 13,
        "start_time": "2022-02-08T12:06:58.380Z"
      },
      {
        "duration": 6,
        "start_time": "2022-02-08T12:06:58.396Z"
      },
      {
        "duration": 31,
        "start_time": "2022-02-08T12:06:58.404Z"
      },
      {
        "duration": 11,
        "start_time": "2022-02-08T12:06:58.437Z"
      },
      {
        "duration": 31,
        "start_time": "2022-02-08T12:06:58.450Z"
      },
      {
        "duration": 64,
        "start_time": "2022-02-08T12:06:58.483Z"
      },
      {
        "duration": 5,
        "start_time": "2022-02-08T12:06:58.550Z"
      },
      {
        "duration": 13,
        "start_time": "2022-02-08T12:06:58.557Z"
      },
      {
        "duration": 32,
        "start_time": "2022-02-08T12:06:58.572Z"
      },
      {
        "duration": 46,
        "start_time": "2022-02-08T12:06:58.607Z"
      },
      {
        "duration": 29,
        "start_time": "2022-02-08T12:06:58.655Z"
      },
      {
        "duration": 408,
        "start_time": "2022-02-08T12:06:58.690Z"
      },
      {
        "duration": 44,
        "start_time": "2022-02-08T12:06:59.100Z"
      },
      {
        "duration": 13,
        "start_time": "2022-02-08T12:06:59.146Z"
      },
      {
        "duration": 601,
        "start_time": "2022-02-08T12:06:59.161Z"
      },
      {
        "duration": 4,
        "start_time": "2022-02-08T12:06:59.765Z"
      },
      {
        "duration": 13,
        "start_time": "2022-02-08T12:06:59.771Z"
      },
      {
        "duration": 29,
        "start_time": "2022-02-08T12:06:59.786Z"
      },
      {
        "duration": 27,
        "start_time": "2022-02-08T12:06:59.832Z"
      },
      {
        "duration": 485,
        "start_time": "2022-02-08T12:06:59.861Z"
      },
      {
        "duration": 8,
        "start_time": "2022-02-08T12:07:00.348Z"
      },
      {
        "duration": 20,
        "start_time": "2022-02-08T12:07:00.358Z"
      },
      {
        "duration": 30,
        "start_time": "2022-02-08T12:07:00.380Z"
      },
      {
        "duration": 26,
        "start_time": "2022-02-08T12:07:00.413Z"
      },
      {
        "duration": 43,
        "start_time": "2022-02-08T12:07:00.442Z"
      },
      {
        "duration": 21,
        "start_time": "2022-02-08T12:07:00.487Z"
      },
      {
        "duration": 13,
        "start_time": "2022-02-08T12:07:00.511Z"
      },
      {
        "duration": 22,
        "start_time": "2022-02-08T12:07:00.527Z"
      },
      {
        "duration": 32,
        "start_time": "2022-02-08T12:07:00.551Z"
      },
      {
        "duration": 30,
        "start_time": "2022-02-08T12:07:00.586Z"
      },
      {
        "duration": 33,
        "start_time": "2022-02-08T12:07:00.618Z"
      },
      {
        "duration": 39,
        "start_time": "2022-02-08T12:07:00.653Z"
      },
      {
        "duration": 49,
        "start_time": "2022-02-08T12:07:00.694Z"
      },
      {
        "duration": 572,
        "start_time": "2022-02-08T12:07:00.746Z"
      },
      {
        "duration": 640,
        "start_time": "2022-02-08T12:07:01.321Z"
      },
      {
        "duration": 9,
        "start_time": "2022-02-08T12:07:01.963Z"
      },
      {
        "duration": 20,
        "start_time": "2022-02-08T12:07:01.974Z"
      },
      {
        "duration": 47,
        "start_time": "2022-02-08T12:07:01.997Z"
      },
      {
        "duration": 485,
        "start_time": "2022-02-08T12:07:02.047Z"
      },
      {
        "duration": 5,
        "start_time": "2022-02-08T12:07:02.534Z"
      },
      {
        "duration": 394,
        "start_time": "2022-02-08T12:07:02.542Z"
      },
      {
        "duration": 6,
        "start_time": "2022-02-08T12:07:02.938Z"
      },
      {
        "duration": 16,
        "start_time": "2022-02-08T12:07:47.733Z"
      },
      {
        "duration": 677,
        "start_time": "2022-02-08T12:08:12.776Z"
      },
      {
        "duration": 967,
        "start_time": "2022-02-08T12:08:33.812Z"
      },
      {
        "duration": 9,
        "start_time": "2022-02-08T12:37:40.562Z"
      },
      {
        "duration": 8,
        "start_time": "2022-02-08T12:37:49.009Z"
      },
      {
        "duration": 40,
        "start_time": "2022-02-08T12:37:53.445Z"
      },
      {
        "duration": 386,
        "start_time": "2022-02-08T12:38:23.665Z"
      },
      {
        "duration": 240,
        "start_time": "2022-02-08T12:38:39.212Z"
      },
      {
        "duration": 9,
        "start_time": "2022-02-08T12:39:02.977Z"
      },
      {
        "duration": 514,
        "start_time": "2022-02-08T12:39:37.197Z"
      },
      {
        "duration": 74,
        "start_time": "2022-02-08T12:40:22.157Z"
      },
      {
        "duration": 416,
        "start_time": "2022-02-08T12:40:27.721Z"
      },
      {
        "duration": 433,
        "start_time": "2022-02-08T12:41:41.088Z"
      },
      {
        "duration": 411,
        "start_time": "2022-02-08T12:41:54.277Z"
      },
      {
        "duration": 413,
        "start_time": "2022-02-08T12:42:16.324Z"
      },
      {
        "duration": 429,
        "start_time": "2022-02-08T12:42:26.896Z"
      },
      {
        "duration": 5,
        "start_time": "2022-02-08T12:43:55.192Z"
      },
      {
        "duration": 1078,
        "start_time": "2022-02-08T12:44:19.029Z"
      },
      {
        "duration": 1159,
        "start_time": "2022-02-08T12:44:29.073Z"
      },
      {
        "duration": 1129,
        "start_time": "2022-02-08T12:44:39.056Z"
      },
      {
        "duration": 617,
        "start_time": "2022-02-08T12:45:46.653Z"
      },
      {
        "duration": 780,
        "start_time": "2022-02-08T12:46:11.793Z"
      },
      {
        "duration": 243,
        "start_time": "2022-02-08T12:49:19.513Z"
      },
      {
        "duration": 17,
        "start_time": "2022-02-08T12:49:30.762Z"
      },
      {
        "duration": 16,
        "start_time": "2022-02-08T12:50:08.734Z"
      },
      {
        "duration": 11,
        "start_time": "2022-02-08T12:50:27.749Z"
      },
      {
        "duration": 281,
        "start_time": "2022-02-08T12:51:38.665Z"
      },
      {
        "duration": 12,
        "start_time": "2022-02-08T12:51:45.034Z"
      },
      {
        "duration": 26,
        "start_time": "2022-02-08T12:59:19.481Z"
      },
      {
        "duration": 8,
        "start_time": "2022-02-08T13:00:42.850Z"
      },
      {
        "duration": 230,
        "start_time": "2022-02-08T13:05:04.865Z"
      },
      {
        "duration": 9,
        "start_time": "2022-02-08T13:05:05.393Z"
      },
      {
        "duration": 14,
        "start_time": "2022-02-08T13:05:17.346Z"
      },
      {
        "duration": 11,
        "start_time": "2022-02-08T13:05:18.921Z"
      },
      {
        "duration": 16,
        "start_time": "2022-02-08T13:05:44.393Z"
      },
      {
        "duration": 10,
        "start_time": "2022-02-08T13:05:45.006Z"
      },
      {
        "duration": 357,
        "start_time": "2022-02-08T13:06:24.573Z"
      },
      {
        "duration": 5,
        "start_time": "2022-02-08T13:06:40.313Z"
      },
      {
        "duration": 47,
        "start_time": "2022-02-08T13:06:40.321Z"
      },
      {
        "duration": 21,
        "start_time": "2022-02-08T13:06:40.371Z"
      },
      {
        "duration": 39,
        "start_time": "2022-02-08T13:06:40.395Z"
      },
      {
        "duration": 108,
        "start_time": "2022-02-08T13:06:40.436Z"
      },
      {
        "duration": 4,
        "start_time": "2022-02-08T13:06:40.547Z"
      },
      {
        "duration": 32,
        "start_time": "2022-02-08T13:06:40.553Z"
      },
      {
        "duration": 52,
        "start_time": "2022-02-08T13:06:40.589Z"
      },
      {
        "duration": 25,
        "start_time": "2022-02-08T13:06:40.644Z"
      },
      {
        "duration": 15,
        "start_time": "2022-02-08T13:06:40.671Z"
      },
      {
        "duration": 45,
        "start_time": "2022-02-08T13:06:40.688Z"
      },
      {
        "duration": 11,
        "start_time": "2022-02-08T13:06:40.736Z"
      },
      {
        "duration": 11,
        "start_time": "2022-02-08T13:06:40.749Z"
      },
      {
        "duration": 12,
        "start_time": "2022-02-08T13:06:40.762Z"
      },
      {
        "duration": 13,
        "start_time": "2022-02-08T13:06:40.776Z"
      },
      {
        "duration": 49,
        "start_time": "2022-02-08T13:06:40.791Z"
      },
      {
        "duration": 30,
        "start_time": "2022-02-08T13:06:40.843Z"
      },
      {
        "duration": 6,
        "start_time": "2022-02-08T13:06:40.875Z"
      },
      {
        "duration": 8,
        "start_time": "2022-02-08T13:06:40.884Z"
      },
      {
        "duration": 60,
        "start_time": "2022-02-08T13:06:40.894Z"
      },
      {
        "duration": 23,
        "start_time": "2022-02-08T13:06:40.957Z"
      },
      {
        "duration": 24,
        "start_time": "2022-02-08T13:06:40.982Z"
      },
      {
        "duration": 371,
        "start_time": "2022-02-08T13:06:41.031Z"
      },
      {
        "duration": 41,
        "start_time": "2022-02-08T13:06:41.405Z"
      },
      {
        "duration": 14,
        "start_time": "2022-02-08T13:06:41.449Z"
      },
      {
        "duration": 585,
        "start_time": "2022-02-08T13:06:41.465Z"
      },
      {
        "duration": 4,
        "start_time": "2022-02-08T13:06:42.052Z"
      },
      {
        "duration": 28,
        "start_time": "2022-02-08T13:06:42.058Z"
      },
      {
        "duration": 20,
        "start_time": "2022-02-08T13:06:42.089Z"
      },
      {
        "duration": 42,
        "start_time": "2022-02-08T13:06:42.112Z"
      },
      {
        "duration": 560,
        "start_time": "2022-02-08T13:06:42.156Z"
      },
      {
        "duration": 8,
        "start_time": "2022-02-08T13:06:42.731Z"
      },
      {
        "duration": 6,
        "start_time": "2022-02-08T13:06:42.741Z"
      },
      {
        "duration": 24,
        "start_time": "2022-02-08T13:06:42.749Z"
      },
      {
        "duration": 25,
        "start_time": "2022-02-08T13:06:42.775Z"
      },
      {
        "duration": 5,
        "start_time": "2022-02-08T13:06:42.802Z"
      },
      {
        "duration": 37,
        "start_time": "2022-02-08T13:06:42.809Z"
      },
      {
        "duration": 7,
        "start_time": "2022-02-08T13:06:42.849Z"
      },
      {
        "duration": 14,
        "start_time": "2022-02-08T13:06:42.859Z"
      },
      {
        "duration": 24,
        "start_time": "2022-02-08T13:06:42.875Z"
      },
      {
        "duration": 34,
        "start_time": "2022-02-08T13:06:42.901Z"
      },
      {
        "duration": 20,
        "start_time": "2022-02-08T13:06:42.937Z"
      },
      {
        "duration": 23,
        "start_time": "2022-02-08T13:06:42.960Z"
      },
      {
        "duration": 51,
        "start_time": "2022-02-08T13:06:42.986Z"
      },
      {
        "duration": 564,
        "start_time": "2022-02-08T13:06:43.040Z"
      },
      {
        "duration": 639,
        "start_time": "2022-02-08T13:06:43.607Z"
      },
      {
        "duration": 9,
        "start_time": "2022-02-08T13:06:44.248Z"
      },
      {
        "duration": 14,
        "start_time": "2022-02-08T13:06:44.260Z"
      },
      {
        "duration": 36,
        "start_time": "2022-02-08T13:06:44.276Z"
      },
      {
        "duration": 457,
        "start_time": "2022-02-08T13:06:44.314Z"
      },
      {
        "duration": 5,
        "start_time": "2022-02-08T13:06:44.774Z"
      },
      {
        "duration": 475,
        "start_time": "2022-02-08T13:06:44.782Z"
      },
      {
        "duration": 7,
        "start_time": "2022-02-08T13:06:45.260Z"
      },
      {
        "duration": 1026,
        "start_time": "2022-02-08T13:06:45.269Z"
      },
      {
        "duration": 8,
        "start_time": "2022-02-08T13:06:46.297Z"
      },
      {
        "duration": 420,
        "start_time": "2022-02-08T13:06:46.307Z"
      },
      {
        "duration": 435,
        "start_time": "2022-02-08T13:06:46.732Z"
      },
      {
        "duration": 5,
        "start_time": "2022-02-08T13:06:47.169Z"
      },
      {
        "duration": 1038,
        "start_time": "2022-02-08T13:06:47.176Z"
      },
      {
        "duration": 24,
        "start_time": "2022-02-08T13:06:48.217Z"
      },
      {
        "duration": 12,
        "start_time": "2022-02-08T13:06:48.244Z"
      },
      {
        "duration": 25,
        "start_time": "2022-02-08T13:06:48.258Z"
      },
      {
        "duration": 15,
        "start_time": "2022-02-08T13:06:48.285Z"
      },
      {
        "duration": 274,
        "start_time": "2022-02-08T13:06:48.302Z"
      },
      {
        "duration": 601,
        "start_time": "2022-02-08T13:06:47.977Z"
      },
      {
        "duration": 16,
        "start_time": "2022-02-08T13:07:37.697Z"
      },
      {
        "duration": 10,
        "start_time": "2022-02-08T13:07:57.861Z"
      },
      {
        "duration": 15,
        "start_time": "2022-02-08T13:08:25.813Z"
      },
      {
        "duration": 10,
        "start_time": "2022-02-08T13:08:31.821Z"
      },
      {
        "duration": 232,
        "start_time": "2022-02-08T13:15:33.205Z"
      },
      {
        "duration": 5,
        "start_time": "2022-02-08T13:17:04.737Z"
      },
      {
        "duration": 10,
        "start_time": "2022-02-08T13:17:05.257Z"
      },
      {
        "duration": 6,
        "start_time": "2022-02-08T13:17:21.528Z"
      },
      {
        "duration": 11,
        "start_time": "2022-02-08T13:17:22.361Z"
      },
      {
        "duration": 4,
        "start_time": "2022-02-08T13:17:40.737Z"
      },
      {
        "duration": 11,
        "start_time": "2022-02-08T13:17:41.192Z"
      },
      {
        "duration": 250,
        "start_time": "2022-02-08T13:17:44.313Z"
      },
      {
        "duration": 587,
        "start_time": "2022-02-08T13:18:15.871Z"
      },
      {
        "duration": 7,
        "start_time": "2022-02-08T13:18:43.280Z"
      },
      {
        "duration": 11,
        "start_time": "2022-02-08T13:18:51.009Z"
      },
      {
        "duration": 6,
        "start_time": "2022-02-08T13:19:11.804Z"
      },
      {
        "duration": 15,
        "start_time": "2022-02-08T13:19:12.165Z"
      },
      {
        "duration": 10,
        "start_time": "2022-02-08T13:19:37.625Z"
      },
      {
        "duration": 82,
        "start_time": "2022-02-08T13:28:02.325Z"
      },
      {
        "duration": 215,
        "start_time": "2022-02-08T13:28:08.397Z"
      },
      {
        "duration": 76,
        "start_time": "2022-02-08T13:28:20.957Z"
      },
      {
        "duration": 86,
        "start_time": "2022-02-08T13:29:42.820Z"
      },
      {
        "duration": 83,
        "start_time": "2022-02-08T13:29:55.389Z"
      },
      {
        "duration": 294,
        "start_time": "2022-02-08T13:30:03.516Z"
      },
      {
        "duration": 7,
        "start_time": "2022-02-08T13:32:07.393Z"
      },
      {
        "duration": 11,
        "start_time": "2022-02-08T13:32:10.236Z"
      },
      {
        "duration": 10,
        "start_time": "2022-02-08T13:32:10.292Z"
      },
      {
        "duration": 7,
        "start_time": "2022-02-08T13:32:14.740Z"
      },
      {
        "duration": 11,
        "start_time": "2022-02-08T13:32:15.372Z"
      },
      {
        "duration": 11,
        "start_time": "2022-02-08T13:32:16.520Z"
      },
      {
        "duration": 7,
        "start_time": "2022-02-08T13:33:25.487Z"
      },
      {
        "duration": 11,
        "start_time": "2022-02-08T13:33:26.224Z"
      },
      {
        "duration": 8,
        "start_time": "2022-02-08T13:33:38.029Z"
      },
      {
        "duration": 11,
        "start_time": "2022-02-08T13:33:38.844Z"
      },
      {
        "duration": 8,
        "start_time": "2022-02-08T13:33:44.373Z"
      },
      {
        "duration": 12,
        "start_time": "2022-02-08T13:33:45.173Z"
      },
      {
        "duration": 11,
        "start_time": "2022-02-08T13:33:47.084Z"
      },
      {
        "duration": 172,
        "start_time": "2022-02-08T13:40:54.138Z"
      },
      {
        "duration": 720,
        "start_time": "2022-02-08T13:43:07.629Z"
      },
      {
        "duration": 289,
        "start_time": "2022-02-08T13:43:54.160Z"
      },
      {
        "duration": 277,
        "start_time": "2022-02-08T13:44:11.792Z"
      },
      {
        "duration": 299,
        "start_time": "2022-02-08T13:44:51.284Z"
      },
      {
        "duration": 252,
        "start_time": "2022-02-08T13:45:01.656Z"
      },
      {
        "duration": 915,
        "start_time": "2022-02-08T13:45:04.912Z"
      },
      {
        "duration": 850,
        "start_time": "2022-02-08T13:45:17.596Z"
      },
      {
        "duration": 785,
        "start_time": "2022-02-08T13:45:24.900Z"
      },
      {
        "duration": 1000,
        "start_time": "2022-02-08T13:46:47.448Z"
      },
      {
        "duration": 1140,
        "start_time": "2022-02-08T13:48:17.492Z"
      },
      {
        "duration": 1012,
        "start_time": "2022-02-08T13:48:24.492Z"
      },
      {
        "duration": 1075,
        "start_time": "2022-02-08T13:48:32.199Z"
      },
      {
        "duration": 1019,
        "start_time": "2022-02-08T13:48:43.947Z"
      },
      {
        "duration": 1446,
        "start_time": "2022-02-08T13:50:24.684Z"
      },
      {
        "duration": 267,
        "start_time": "2022-02-08T13:52:23.420Z"
      },
      {
        "duration": 790,
        "start_time": "2022-02-08T13:52:37.776Z"
      },
      {
        "duration": 679,
        "start_time": "2022-02-08T13:52:46.172Z"
      },
      {
        "duration": 856,
        "start_time": "2022-02-08T13:54:16.543Z"
      },
      {
        "duration": 672,
        "start_time": "2022-02-08T13:54:22.760Z"
      },
      {
        "duration": 1429,
        "start_time": "2022-02-08T13:54:34.871Z"
      },
      {
        "duration": 698,
        "start_time": "2022-02-08T13:54:42.264Z"
      },
      {
        "duration": 820,
        "start_time": "2022-02-08T13:57:42.271Z"
      },
      {
        "duration": 921,
        "start_time": "2022-02-08T13:58:02.920Z"
      },
      {
        "duration": 1115,
        "start_time": "2022-02-08T13:58:17.167Z"
      },
      {
        "duration": 817,
        "start_time": "2022-02-08T14:02:16.859Z"
      },
      {
        "duration": 866,
        "start_time": "2022-02-08T14:02:28.155Z"
      },
      {
        "duration": 855,
        "start_time": "2022-02-08T14:03:59.911Z"
      },
      {
        "duration": 802,
        "start_time": "2022-02-08T14:04:16.670Z"
      },
      {
        "duration": 173,
        "start_time": "2022-02-08T14:07:02.403Z"
      },
      {
        "duration": 582,
        "start_time": "2022-02-08T14:07:21.227Z"
      },
      {
        "duration": 81,
        "start_time": "2022-02-08T14:08:15.655Z"
      },
      {
        "duration": 78,
        "start_time": "2022-02-08T14:08:32.719Z"
      },
      {
        "duration": 84,
        "start_time": "2022-02-08T14:08:58.055Z"
      },
      {
        "duration": 100,
        "start_time": "2022-02-08T14:09:03.739Z"
      },
      {
        "duration": 932,
        "start_time": "2022-02-08T14:09:16.535Z"
      },
      {
        "duration": 443,
        "start_time": "2022-02-08T14:11:01.279Z"
      },
      {
        "duration": 445,
        "start_time": "2022-02-08T14:11:08.511Z"
      },
      {
        "duration": 479,
        "start_time": "2022-02-08T14:11:43.944Z"
      },
      {
        "duration": 478,
        "start_time": "2022-02-08T14:12:27.843Z"
      },
      {
        "duration": 538,
        "start_time": "2022-02-08T14:12:52.806Z"
      },
      {
        "duration": 258,
        "start_time": "2022-02-08T14:13:46.583Z"
      },
      {
        "duration": 886,
        "start_time": "2022-02-08T14:13:56.410Z"
      },
      {
        "duration": 714,
        "start_time": "2022-02-08T14:16:16.254Z"
      },
      {
        "duration": 1011,
        "start_time": "2022-02-08T14:17:09.212Z"
      },
      {
        "duration": 939,
        "start_time": "2022-02-08T14:18:06.971Z"
      },
      {
        "duration": 250,
        "start_time": "2022-02-08T14:18:36.194Z"
      },
      {
        "duration": 1592,
        "start_time": "2022-02-08T14:18:57.488Z"
      },
      {
        "duration": 4,
        "start_time": "2022-02-08T14:19:06.662Z"
      },
      {
        "duration": 49,
        "start_time": "2022-02-08T14:19:06.670Z"
      },
      {
        "duration": 23,
        "start_time": "2022-02-08T14:19:06.723Z"
      },
      {
        "duration": 22,
        "start_time": "2022-02-08T14:19:06.748Z"
      },
      {
        "duration": 120,
        "start_time": "2022-02-08T14:19:06.773Z"
      },
      {
        "duration": 39,
        "start_time": "2022-02-08T14:19:06.896Z"
      },
      {
        "duration": 43,
        "start_time": "2022-02-08T14:19:06.940Z"
      },
      {
        "duration": 31,
        "start_time": "2022-02-08T14:19:06.987Z"
      },
      {
        "duration": 21,
        "start_time": "2022-02-08T14:19:07.021Z"
      },
      {
        "duration": 25,
        "start_time": "2022-02-08T14:19:07.045Z"
      },
      {
        "duration": 41,
        "start_time": "2022-02-08T14:19:07.072Z"
      },
      {
        "duration": 10,
        "start_time": "2022-02-08T14:19:07.115Z"
      },
      {
        "duration": 13,
        "start_time": "2022-02-08T14:19:07.132Z"
      },
      {
        "duration": 13,
        "start_time": "2022-02-08T14:19:07.147Z"
      },
      {
        "duration": 16,
        "start_time": "2022-02-08T14:19:07.163Z"
      },
      {
        "duration": 44,
        "start_time": "2022-02-08T14:19:07.181Z"
      },
      {
        "duration": 31,
        "start_time": "2022-02-08T14:19:07.227Z"
      },
      {
        "duration": 12,
        "start_time": "2022-02-08T14:19:07.261Z"
      },
      {
        "duration": 18,
        "start_time": "2022-02-08T14:19:07.279Z"
      },
      {
        "duration": 59,
        "start_time": "2022-02-08T14:19:07.301Z"
      },
      {
        "duration": 24,
        "start_time": "2022-02-08T14:19:07.362Z"
      },
      {
        "duration": 47,
        "start_time": "2022-02-08T14:19:07.388Z"
      },
      {
        "duration": 384,
        "start_time": "2022-02-08T14:19:07.438Z"
      },
      {
        "duration": 32,
        "start_time": "2022-02-08T14:19:07.825Z"
      },
      {
        "duration": 15,
        "start_time": "2022-02-08T14:19:07.859Z"
      },
      {
        "duration": 596,
        "start_time": "2022-02-08T14:19:07.876Z"
      },
      {
        "duration": 4,
        "start_time": "2022-02-08T14:19:08.474Z"
      },
      {
        "duration": 19,
        "start_time": "2022-02-08T14:19:08.480Z"
      },
      {
        "duration": 36,
        "start_time": "2022-02-08T14:19:08.501Z"
      },
      {
        "duration": 38,
        "start_time": "2022-02-08T14:19:08.540Z"
      },
      {
        "duration": 455,
        "start_time": "2022-02-08T14:19:08.580Z"
      },
      {
        "duration": 8,
        "start_time": "2022-02-08T14:19:09.037Z"
      },
      {
        "duration": 9,
        "start_time": "2022-02-08T14:19:09.047Z"
      },
      {
        "duration": 33,
        "start_time": "2022-02-08T14:19:09.058Z"
      },
      {
        "duration": 22,
        "start_time": "2022-02-08T14:19:09.094Z"
      },
      {
        "duration": 4,
        "start_time": "2022-02-08T14:19:09.118Z"
      },
      {
        "duration": 17,
        "start_time": "2022-02-08T14:19:09.133Z"
      },
      {
        "duration": 22,
        "start_time": "2022-02-08T14:19:09.153Z"
      },
      {
        "duration": 34,
        "start_time": "2022-02-08T14:19:09.177Z"
      },
      {
        "duration": 28,
        "start_time": "2022-02-08T14:19:09.213Z"
      },
      {
        "duration": 25,
        "start_time": "2022-02-08T14:19:09.244Z"
      },
      {
        "duration": 15,
        "start_time": "2022-02-08T14:19:09.272Z"
      },
      {
        "duration": 36,
        "start_time": "2022-02-08T14:19:09.289Z"
      },
      {
        "duration": 20,
        "start_time": "2022-02-08T14:19:09.327Z"
      },
      {
        "duration": 583,
        "start_time": "2022-02-08T14:19:09.349Z"
      },
      {
        "duration": 787,
        "start_time": "2022-02-08T14:19:09.934Z"
      },
      {
        "duration": 11,
        "start_time": "2022-02-08T14:19:10.731Z"
      },
      {
        "duration": 10,
        "start_time": "2022-02-08T14:19:10.745Z"
      },
      {
        "duration": 34,
        "start_time": "2022-02-08T14:19:10.758Z"
      },
      {
        "duration": 473,
        "start_time": "2022-02-08T14:19:10.794Z"
      },
      {
        "duration": 5,
        "start_time": "2022-02-08T14:19:11.269Z"
      },
      {
        "duration": 480,
        "start_time": "2022-02-08T14:19:11.276Z"
      },
      {
        "duration": 4,
        "start_time": "2022-02-08T14:19:11.758Z"
      },
      {
        "duration": 716,
        "start_time": "2022-02-08T14:19:11.765Z"
      },
      {
        "duration": 7,
        "start_time": "2022-02-08T14:19:12.490Z"
      },
      {
        "duration": 437,
        "start_time": "2022-02-08T14:19:12.501Z"
      },
      {
        "duration": 412,
        "start_time": "2022-02-08T14:19:12.941Z"
      },
      {
        "duration": 5,
        "start_time": "2022-02-08T14:19:13.355Z"
      },
      {
        "duration": 701,
        "start_time": "2022-02-08T14:19:13.362Z"
      },
      {
        "duration": 16,
        "start_time": "2022-02-08T14:19:14.065Z"
      },
      {
        "duration": 10,
        "start_time": "2022-02-08T14:19:14.084Z"
      },
      {
        "duration": 41,
        "start_time": "2022-02-08T14:19:14.097Z"
      },
      {
        "duration": 10,
        "start_time": "2022-02-08T14:19:14.140Z"
      },
      {
        "duration": 13,
        "start_time": "2022-02-08T14:19:14.152Z"
      },
      {
        "duration": 16,
        "start_time": "2022-02-08T14:19:14.167Z"
      },
      {
        "duration": 4,
        "start_time": "2022-02-08T14:19:14.185Z"
      },
      {
        "duration": 45,
        "start_time": "2022-02-08T14:19:14.191Z"
      },
      {
        "duration": 17,
        "start_time": "2022-02-08T14:19:14.238Z"
      },
      {
        "duration": 5,
        "start_time": "2022-02-08T14:19:14.258Z"
      },
      {
        "duration": 13,
        "start_time": "2022-02-08T14:19:14.266Z"
      },
      {
        "duration": 11,
        "start_time": "2022-02-08T14:19:14.282Z"
      },
      {
        "duration": 288,
        "start_time": "2022-02-08T14:19:14.295Z"
      },
      {
        "duration": 598,
        "start_time": "2022-02-08T14:21:12.803Z"
      },
      {
        "duration": 592,
        "start_time": "2022-02-08T14:22:05.578Z"
      },
      {
        "duration": 82,
        "start_time": "2022-02-08T14:22:21.518Z"
      },
      {
        "duration": 517,
        "start_time": "2022-02-08T14:22:29.530Z"
      },
      {
        "duration": 290,
        "start_time": "2022-02-08T17:30:45.441Z"
      },
      {
        "duration": 1129,
        "start_time": "2022-02-08T17:30:49.841Z"
      },
      {
        "duration": 33,
        "start_time": "2022-02-08T17:30:50.972Z"
      },
      {
        "duration": 18,
        "start_time": "2022-02-08T17:30:51.007Z"
      },
      {
        "duration": 10,
        "start_time": "2022-02-08T17:30:51.027Z"
      },
      {
        "duration": 50,
        "start_time": "2022-02-08T17:30:51.039Z"
      },
      {
        "duration": 23,
        "start_time": "2022-02-08T17:30:51.091Z"
      },
      {
        "duration": 19,
        "start_time": "2022-02-08T17:30:51.116Z"
      },
      {
        "duration": 12,
        "start_time": "2022-02-08T17:30:51.138Z"
      },
      {
        "duration": 11,
        "start_time": "2022-02-08T17:30:51.152Z"
      },
      {
        "duration": 8,
        "start_time": "2022-02-08T17:30:51.164Z"
      },
      {
        "duration": 49,
        "start_time": "2022-02-08T17:30:51.174Z"
      },
      {
        "duration": 7,
        "start_time": "2022-02-08T17:30:51.224Z"
      },
      {
        "duration": 4,
        "start_time": "2022-02-08T17:30:51.233Z"
      },
      {
        "duration": 4,
        "start_time": "2022-02-08T17:30:51.238Z"
      },
      {
        "duration": 5,
        "start_time": "2022-02-08T17:30:51.244Z"
      },
      {
        "duration": 20,
        "start_time": "2022-02-08T17:30:51.250Z"
      },
      {
        "duration": 57,
        "start_time": "2022-02-08T17:30:51.271Z"
      },
      {
        "duration": 5,
        "start_time": "2022-02-08T17:30:51.329Z"
      },
      {
        "duration": 7,
        "start_time": "2022-02-08T17:30:51.335Z"
      },
      {
        "duration": 22,
        "start_time": "2022-02-08T17:30:51.343Z"
      },
      {
        "duration": 15,
        "start_time": "2022-02-08T17:30:51.366Z"
      },
      {
        "duration": 38,
        "start_time": "2022-02-08T17:30:51.383Z"
      },
      {
        "duration": 257,
        "start_time": "2022-02-08T17:30:51.424Z"
      },
      {
        "duration": 29,
        "start_time": "2022-02-08T17:30:51.683Z"
      },
      {
        "duration": 9,
        "start_time": "2022-02-08T17:30:51.714Z"
      },
      {
        "duration": 364,
        "start_time": "2022-02-08T17:30:51.725Z"
      },
      {
        "duration": 2,
        "start_time": "2022-02-08T17:30:52.091Z"
      },
      {
        "duration": 19,
        "start_time": "2022-02-08T17:30:52.095Z"
      },
      {
        "duration": 13,
        "start_time": "2022-02-08T17:30:52.115Z"
      },
      {
        "duration": 16,
        "start_time": "2022-02-08T17:30:52.129Z"
      },
      {
        "duration": 308,
        "start_time": "2022-02-08T17:30:52.147Z"
      },
      {
        "duration": 6,
        "start_time": "2022-02-08T17:30:52.456Z"
      },
      {
        "duration": 5,
        "start_time": "2022-02-08T17:30:52.463Z"
      },
      {
        "duration": 16,
        "start_time": "2022-02-08T17:30:52.469Z"
      },
      {
        "duration": 26,
        "start_time": "2022-02-08T17:30:52.486Z"
      },
      {
        "duration": 3,
        "start_time": "2022-02-08T17:30:52.513Z"
      },
      {
        "duration": 7,
        "start_time": "2022-02-08T17:30:52.518Z"
      },
      {
        "duration": 4,
        "start_time": "2022-02-08T17:30:52.526Z"
      },
      {
        "duration": 7,
        "start_time": "2022-02-08T17:30:52.532Z"
      },
      {
        "duration": 14,
        "start_time": "2022-02-08T17:30:52.540Z"
      },
      {
        "duration": 11,
        "start_time": "2022-02-08T17:30:52.555Z"
      },
      {
        "duration": 10,
        "start_time": "2022-02-08T17:30:52.568Z"
      },
      {
        "duration": 14,
        "start_time": "2022-02-08T17:30:52.612Z"
      },
      {
        "duration": 13,
        "start_time": "2022-02-08T17:30:52.627Z"
      },
      {
        "duration": 357,
        "start_time": "2022-02-08T17:30:52.641Z"
      },
      {
        "duration": 397,
        "start_time": "2022-02-08T17:30:53.000Z"
      },
      {
        "duration": 6,
        "start_time": "2022-02-08T17:30:53.398Z"
      },
      {
        "duration": 7,
        "start_time": "2022-02-08T17:30:53.412Z"
      },
      {
        "duration": 17,
        "start_time": "2022-02-08T17:30:53.421Z"
      },
      {
        "duration": 384,
        "start_time": "2022-02-08T17:30:53.440Z"
      },
      {
        "duration": 3,
        "start_time": "2022-02-08T17:30:53.826Z"
      },
      {
        "duration": 304,
        "start_time": "2022-02-08T17:30:53.830Z"
      },
      {
        "duration": 5,
        "start_time": "2022-02-08T17:30:54.136Z"
      },
      {
        "duration": 423,
        "start_time": "2022-02-08T17:30:54.142Z"
      },
      {
        "duration": 7,
        "start_time": "2022-02-08T17:30:54.567Z"
      },
      {
        "duration": 327,
        "start_time": "2022-02-08T17:30:54.576Z"
      },
      {
        "duration": 314,
        "start_time": "2022-02-08T17:30:54.905Z"
      },
      {
        "duration": 4,
        "start_time": "2022-02-08T17:30:55.221Z"
      },
      {
        "duration": 482,
        "start_time": "2022-02-08T17:30:55.226Z"
      },
      {
        "duration": 11,
        "start_time": "2022-02-08T17:30:55.711Z"
      },
      {
        "duration": 9,
        "start_time": "2022-02-08T17:30:55.723Z"
      },
      {
        "duration": 10,
        "start_time": "2022-02-08T17:30:55.734Z"
      },
      {
        "duration": 3,
        "start_time": "2022-02-08T17:30:55.745Z"
      },
      {
        "duration": 8,
        "start_time": "2022-02-08T17:30:55.750Z"
      },
      {
        "duration": 10,
        "start_time": "2022-02-08T17:30:55.760Z"
      },
      {
        "duration": 4,
        "start_time": "2022-02-08T17:30:55.772Z"
      },
      {
        "duration": 36,
        "start_time": "2022-02-08T17:30:55.778Z"
      },
      {
        "duration": 10,
        "start_time": "2022-02-08T17:30:55.819Z"
      },
      {
        "duration": 3,
        "start_time": "2022-02-08T17:30:55.830Z"
      },
      {
        "duration": 9,
        "start_time": "2022-02-08T17:30:55.835Z"
      },
      {
        "duration": 6,
        "start_time": "2022-02-08T17:30:55.846Z"
      },
      {
        "duration": 327,
        "start_time": "2022-02-08T17:30:55.853Z"
      },
      {
        "duration": 9,
        "start_time": "2022-02-08T17:30:56.182Z"
      },
      {
        "duration": 9,
        "start_time": "2022-02-08T17:31:10.921Z"
      },
      {
        "duration": 10,
        "start_time": "2022-02-08T17:31:23.837Z"
      },
      {
        "duration": 8,
        "start_time": "2022-02-08T17:31:32.413Z"
      },
      {
        "duration": 10,
        "start_time": "2022-02-08T17:31:42.333Z"
      },
      {
        "duration": 7,
        "start_time": "2022-02-08T17:31:50.933Z"
      },
      {
        "duration": 316,
        "start_time": "2022-02-08T17:32:55.001Z"
      },
      {
        "duration": 348,
        "start_time": "2022-02-08T17:33:28.890Z"
      },
      {
        "duration": 9,
        "start_time": "2022-02-08T17:39:02.525Z"
      },
      {
        "duration": 7,
        "start_time": "2022-02-08T17:39:14.089Z"
      },
      {
        "duration": 9,
        "start_time": "2022-02-08T17:40:51.069Z"
      },
      {
        "duration": 7,
        "start_time": "2022-02-08T17:41:04.080Z"
      },
      {
        "duration": 9,
        "start_time": "2022-02-08T17:46:33.204Z"
      },
      {
        "duration": 279,
        "start_time": "2022-02-08T17:46:48.889Z"
      },
      {
        "duration": 9,
        "start_time": "2022-02-08T17:46:56.988Z"
      },
      {
        "duration": 272,
        "start_time": "2022-02-08T17:46:57.488Z"
      },
      {
        "duration": 8,
        "start_time": "2022-02-08T17:47:21.620Z"
      },
      {
        "duration": 4690,
        "start_time": "2022-02-08T17:48:24.524Z"
      },
      {
        "duration": 5,
        "start_time": "2022-02-08T17:48:41.915Z"
      },
      {
        "duration": 263,
        "start_time": "2022-02-08T17:49:50.641Z"
      },
      {
        "duration": 2,
        "start_time": "2022-02-08T17:50:04.706Z"
      },
      {
        "duration": 111,
        "start_time": "2022-02-08T17:50:04.710Z"
      },
      {
        "duration": 15,
        "start_time": "2022-02-08T17:50:04.823Z"
      },
      {
        "duration": 9,
        "start_time": "2022-02-08T17:50:04.840Z"
      },
      {
        "duration": 73,
        "start_time": "2022-02-08T17:50:04.851Z"
      },
      {
        "duration": 2,
        "start_time": "2022-02-08T17:50:04.926Z"
      },
      {
        "duration": 24,
        "start_time": "2022-02-08T17:50:04.930Z"
      },
      {
        "duration": 17,
        "start_time": "2022-02-08T17:50:04.956Z"
      },
      {
        "duration": 7,
        "start_time": "2022-02-08T17:50:04.975Z"
      },
      {
        "duration": 28,
        "start_time": "2022-02-08T17:50:04.985Z"
      },
      {
        "duration": 20,
        "start_time": "2022-02-08T17:50:05.014Z"
      },
      {
        "duration": 8,
        "start_time": "2022-02-08T17:50:05.035Z"
      },
      {
        "duration": 5,
        "start_time": "2022-02-08T17:50:05.044Z"
      },
      {
        "duration": 6,
        "start_time": "2022-02-08T17:50:05.050Z"
      },
      {
        "duration": 5,
        "start_time": "2022-02-08T17:50:05.058Z"
      },
      {
        "duration": 52,
        "start_time": "2022-02-08T17:50:05.065Z"
      },
      {
        "duration": 20,
        "start_time": "2022-02-08T17:50:05.119Z"
      },
      {
        "duration": 4,
        "start_time": "2022-02-08T17:50:05.141Z"
      },
      {
        "duration": 5,
        "start_time": "2022-02-08T17:50:05.147Z"
      },
      {
        "duration": 26,
        "start_time": "2022-02-08T17:50:05.153Z"
      },
      {
        "duration": 35,
        "start_time": "2022-02-08T17:50:05.180Z"
      },
      {
        "duration": 17,
        "start_time": "2022-02-08T17:50:05.217Z"
      },
      {
        "duration": 263,
        "start_time": "2022-02-08T17:50:05.236Z"
      },
      {
        "duration": 22,
        "start_time": "2022-02-08T17:50:05.501Z"
      },
      {
        "duration": 9,
        "start_time": "2022-02-08T17:50:05.525Z"
      },
      {
        "duration": 372,
        "start_time": "2022-02-08T17:50:05.535Z"
      },
      {
        "duration": 3,
        "start_time": "2022-02-08T17:50:05.914Z"
      },
      {
        "duration": 10,
        "start_time": "2022-02-08T17:50:05.919Z"
      },
      {
        "duration": 14,
        "start_time": "2022-02-08T17:50:05.931Z"
      },
      {
        "duration": 18,
        "start_time": "2022-02-08T17:50:05.946Z"
      },
      {
        "duration": 321,
        "start_time": "2022-02-08T17:50:05.966Z"
      },
      {
        "duration": 6,
        "start_time": "2022-02-08T17:50:06.288Z"
      },
      {
        "duration": 4,
        "start_time": "2022-02-08T17:50:06.295Z"
      },
      {
        "duration": 22,
        "start_time": "2022-02-08T17:50:06.301Z"
      },
      {
        "duration": 10,
        "start_time": "2022-02-08T17:50:06.325Z"
      },
      {
        "duration": 5,
        "start_time": "2022-02-08T17:50:06.336Z"
      },
      {
        "duration": 8,
        "start_time": "2022-02-08T17:50:06.342Z"
      },
      {
        "duration": 8,
        "start_time": "2022-02-08T17:50:06.351Z"
      },
      {
        "duration": 8,
        "start_time": "2022-02-08T17:50:06.360Z"
      },
      {
        "duration": 44,
        "start_time": "2022-02-08T17:50:06.369Z"
      },
      {
        "duration": 12,
        "start_time": "2022-02-08T17:50:06.415Z"
      },
      {
        "duration": 11,
        "start_time": "2022-02-08T17:50:06.429Z"
      },
      {
        "duration": 19,
        "start_time": "2022-02-08T17:50:06.441Z"
      },
      {
        "duration": 14,
        "start_time": "2022-02-08T17:50:06.462Z"
      },
      {
        "duration": 393,
        "start_time": "2022-02-08T17:50:06.477Z"
      },
      {
        "duration": 400,
        "start_time": "2022-02-08T17:50:06.871Z"
      },
      {
        "duration": 6,
        "start_time": "2022-02-08T17:50:07.273Z"
      },
      {
        "duration": 9,
        "start_time": "2022-02-08T17:50:07.281Z"
      },
      {
        "duration": 30,
        "start_time": "2022-02-08T17:50:07.292Z"
      },
      {
        "duration": 317,
        "start_time": "2022-02-08T17:50:07.324Z"
      },
      {
        "duration": 4,
        "start_time": "2022-02-08T17:50:07.643Z"
      },
      {
        "duration": 297,
        "start_time": "2022-02-08T17:50:07.649Z"
      },
      {
        "duration": 4,
        "start_time": "2022-02-08T17:50:07.948Z"
      },
      {
        "duration": 428,
        "start_time": "2022-02-08T17:50:07.953Z"
      },
      {
        "duration": 6,
        "start_time": "2022-02-08T17:50:08.384Z"
      },
      {
        "duration": 353,
        "start_time": "2022-02-08T17:50:08.393Z"
      },
      {
        "duration": 288,
        "start_time": "2022-02-08T17:50:08.748Z"
      },
      {
        "duration": 4,
        "start_time": "2022-02-08T17:50:09.037Z"
      },
      {
        "duration": 551,
        "start_time": "2022-02-08T17:50:09.043Z"
      },
      {
        "duration": 16,
        "start_time": "2022-02-08T17:50:09.596Z"
      },
      {
        "duration": 8,
        "start_time": "2022-02-08T17:50:09.613Z"
      },
      {
        "duration": 9,
        "start_time": "2022-02-08T17:50:09.623Z"
      },
      {
        "duration": 3,
        "start_time": "2022-02-08T17:50:09.634Z"
      },
      {
        "duration": 8,
        "start_time": "2022-02-08T17:50:09.639Z"
      },
      {
        "duration": 12,
        "start_time": "2022-02-08T17:50:09.648Z"
      },
      {
        "duration": 3,
        "start_time": "2022-02-08T17:50:09.662Z"
      },
      {
        "duration": 8,
        "start_time": "2022-02-08T17:50:09.666Z"
      },
      {
        "duration": 42,
        "start_time": "2022-02-08T17:50:09.676Z"
      },
      {
        "duration": 3,
        "start_time": "2022-02-08T17:50:09.720Z"
      },
      {
        "duration": 11,
        "start_time": "2022-02-08T17:50:09.724Z"
      },
      {
        "duration": 7,
        "start_time": "2022-02-08T17:50:09.736Z"
      },
      {
        "duration": 344,
        "start_time": "2022-02-08T17:50:09.744Z"
      },
      {
        "duration": 9,
        "start_time": "2022-02-08T17:50:10.090Z"
      },
      {
        "duration": 7,
        "start_time": "2022-02-08T17:50:10.112Z"
      },
      {
        "duration": 9,
        "start_time": "2022-02-08T17:50:10.120Z"
      },
      {
        "duration": 7,
        "start_time": "2022-02-08T17:50:10.130Z"
      },
      {
        "duration": 9,
        "start_time": "2022-02-08T17:50:10.139Z"
      },
      {
        "duration": 7,
        "start_time": "2022-02-08T17:50:10.149Z"
      },
      {
        "duration": 362,
        "start_time": "2022-02-08T17:50:10.158Z"
      },
      {
        "duration": 8,
        "start_time": "2022-02-08T17:50:10.522Z"
      },
      {
        "duration": 7,
        "start_time": "2022-02-08T17:50:10.535Z"
      },
      {
        "duration": 8,
        "start_time": "2022-02-08T17:50:10.544Z"
      },
      {
        "duration": 6,
        "start_time": "2022-02-08T17:50:10.553Z"
      },
      {
        "duration": 11,
        "start_time": "2022-02-08T17:50:10.561Z"
      },
      {
        "duration": 6,
        "start_time": "2022-02-08T17:50:10.573Z"
      },
      {
        "duration": 505,
        "start_time": "2022-02-08T17:50:10.580Z"
      },
      {
        "duration": 465,
        "start_time": "2022-02-08T17:51:14.248Z"
      },
      {
        "duration": 476,
        "start_time": "2022-02-08T17:51:31.252Z"
      },
      {
        "duration": 569,
        "start_time": "2022-02-08T17:51:58.848Z"
      },
      {
        "duration": 498,
        "start_time": "2022-02-08T17:52:03.852Z"
      },
      {
        "duration": 5,
        "start_time": "2022-02-08T18:14:41.620Z"
      },
      {
        "duration": 67,
        "start_time": "2022-02-08T18:15:28.194Z"
      },
      {
        "duration": 56,
        "start_time": "2022-02-08T18:15:41.586Z"
      },
      {
        "duration": 6,
        "start_time": "2022-02-08T18:15:55.070Z"
      },
      {
        "duration": 5,
        "start_time": "2022-02-08T18:17:34.025Z"
      },
      {
        "duration": 302,
        "start_time": "2022-02-08T18:19:50.090Z"
      },
      {
        "duration": 6,
        "start_time": "2022-02-08T18:20:01.170Z"
      },
      {
        "duration": 6,
        "start_time": "2022-02-08T18:20:12.398Z"
      },
      {
        "duration": 4,
        "start_time": "2022-02-08T18:20:26.914Z"
      },
      {
        "duration": 4,
        "start_time": "2022-02-08T19:02:00.672Z"
      },
      {
        "duration": 6,
        "start_time": "2022-02-08T19:02:00.736Z"
      },
      {
        "duration": 4,
        "start_time": "2022-02-08T19:02:10.632Z"
      },
      {
        "duration": 4,
        "start_time": "2022-02-08T19:02:12.392Z"
      },
      {
        "duration": 4,
        "start_time": "2022-02-08T19:05:35.189Z"
      },
      {
        "duration": 3,
        "start_time": "2022-02-08T19:05:55.103Z"
      },
      {
        "duration": 4,
        "start_time": "2022-02-08T19:06:06.832Z"
      },
      {
        "duration": 5,
        "start_time": "2022-02-08T19:06:36.831Z"
      },
      {
        "duration": 6,
        "start_time": "2022-02-08T19:06:37.308Z"
      },
      {
        "duration": 4,
        "start_time": "2022-02-08T19:06:37.912Z"
      },
      {
        "duration": 5,
        "start_time": "2022-02-08T19:08:55.179Z"
      },
      {
        "duration": 7,
        "start_time": "2022-02-08T19:08:56.943Z"
      },
      {
        "duration": 5,
        "start_time": "2022-02-08T19:08:57.379Z"
      },
      {
        "duration": 5,
        "start_time": "2022-02-08T19:08:57.903Z"
      },
      {
        "duration": 5,
        "start_time": "2022-02-08T19:12:01.955Z"
      },
      {
        "duration": 5,
        "start_time": "2022-02-08T19:12:53.207Z"
      },
      {
        "duration": 224,
        "start_time": "2022-02-08T19:13:28.343Z"
      },
      {
        "duration": 5,
        "start_time": "2022-02-08T19:13:34.555Z"
      },
      {
        "duration": 5,
        "start_time": "2022-02-08T19:13:35.031Z"
      },
      {
        "duration": 4,
        "start_time": "2022-02-08T19:13:35.091Z"
      },
      {
        "duration": 3,
        "start_time": "2022-02-08T19:14:01.435Z"
      },
      {
        "duration": 6,
        "start_time": "2022-02-08T19:15:12.338Z"
      },
      {
        "duration": 5,
        "start_time": "2022-02-08T19:18:50.742Z"
      },
      {
        "duration": 3,
        "start_time": "2022-02-08T19:19:04.371Z"
      },
      {
        "duration": 35,
        "start_time": "2022-02-08T19:19:04.376Z"
      },
      {
        "duration": 16,
        "start_time": "2022-02-08T19:19:04.413Z"
      },
      {
        "duration": 10,
        "start_time": "2022-02-08T19:19:04.431Z"
      },
      {
        "duration": 80,
        "start_time": "2022-02-08T19:19:04.443Z"
      },
      {
        "duration": 3,
        "start_time": "2022-02-08T19:19:04.525Z"
      },
      {
        "duration": 25,
        "start_time": "2022-02-08T19:19:04.529Z"
      },
      {
        "duration": 18,
        "start_time": "2022-02-08T19:19:04.557Z"
      },
      {
        "duration": 34,
        "start_time": "2022-02-08T19:19:04.578Z"
      },
      {
        "duration": 10,
        "start_time": "2022-02-08T19:19:04.614Z"
      },
      {
        "duration": 20,
        "start_time": "2022-02-08T19:19:04.626Z"
      },
      {
        "duration": 8,
        "start_time": "2022-02-08T19:19:04.648Z"
      },
      {
        "duration": 5,
        "start_time": "2022-02-08T19:19:04.658Z"
      },
      {
        "duration": 46,
        "start_time": "2022-02-08T19:19:04.665Z"
      },
      {
        "duration": 6,
        "start_time": "2022-02-08T19:19:04.713Z"
      },
      {
        "duration": 20,
        "start_time": "2022-02-08T19:19:04.720Z"
      },
      {
        "duration": 22,
        "start_time": "2022-02-08T19:19:04.742Z"
      },
      {
        "duration": 4,
        "start_time": "2022-02-08T19:19:04.766Z"
      },
      {
        "duration": 40,
        "start_time": "2022-02-08T19:19:04.772Z"
      },
      {
        "duration": 22,
        "start_time": "2022-02-08T19:19:04.814Z"
      },
      {
        "duration": 15,
        "start_time": "2022-02-08T19:19:04.837Z"
      },
      {
        "duration": 18,
        "start_time": "2022-02-08T19:19:04.854Z"
      },
      {
        "duration": 278,
        "start_time": "2022-02-08T19:19:04.876Z"
      },
      {
        "duration": 20,
        "start_time": "2022-02-08T19:19:05.157Z"
      },
      {
        "duration": 9,
        "start_time": "2022-02-08T19:19:05.179Z"
      },
      {
        "duration": 398,
        "start_time": "2022-02-08T19:19:05.190Z"
      },
      {
        "duration": 3,
        "start_time": "2022-02-08T19:19:05.590Z"
      },
      {
        "duration": 18,
        "start_time": "2022-02-08T19:19:05.595Z"
      },
      {
        "duration": 13,
        "start_time": "2022-02-08T19:19:05.614Z"
      },
      {
        "duration": 18,
        "start_time": "2022-02-08T19:19:05.629Z"
      },
      {
        "duration": 328,
        "start_time": "2022-02-08T19:19:05.649Z"
      },
      {
        "duration": 6,
        "start_time": "2022-02-08T19:19:05.979Z"
      },
      {
        "duration": 3,
        "start_time": "2022-02-08T19:19:05.987Z"
      },
      {
        "duration": 35,
        "start_time": "2022-02-08T19:19:05.992Z"
      },
      {
        "duration": 10,
        "start_time": "2022-02-08T19:19:06.029Z"
      },
      {
        "duration": 3,
        "start_time": "2022-02-08T19:19:06.041Z"
      },
      {
        "duration": 8,
        "start_time": "2022-02-08T19:19:06.046Z"
      },
      {
        "duration": 3,
        "start_time": "2022-02-08T19:19:06.056Z"
      },
      {
        "duration": 7,
        "start_time": "2022-02-08T19:19:06.061Z"
      },
      {
        "duration": 53,
        "start_time": "2022-02-08T19:19:06.070Z"
      },
      {
        "duration": 12,
        "start_time": "2022-02-08T19:19:06.126Z"
      },
      {
        "duration": 10,
        "start_time": "2022-02-08T19:19:06.139Z"
      },
      {
        "duration": 14,
        "start_time": "2022-02-08T19:19:06.151Z"
      },
      {
        "duration": 47,
        "start_time": "2022-02-08T19:19:06.167Z"
      },
      {
        "duration": 376,
        "start_time": "2022-02-08T19:19:06.216Z"
      },
      {
        "duration": 420,
        "start_time": "2022-02-08T19:19:06.594Z"
      },
      {
        "duration": 6,
        "start_time": "2022-02-08T19:19:07.016Z"
      },
      {
        "duration": 7,
        "start_time": "2022-02-08T19:19:07.024Z"
      },
      {
        "duration": 20,
        "start_time": "2022-02-08T19:19:07.032Z"
      },
      {
        "duration": 304,
        "start_time": "2022-02-08T19:19:07.054Z"
      },
      {
        "duration": 4,
        "start_time": "2022-02-08T19:19:07.360Z"
      },
      {
        "duration": 392,
        "start_time": "2022-02-08T19:19:07.366Z"
      },
      {
        "duration": 4,
        "start_time": "2022-02-08T19:19:07.759Z"
      },
      {
        "duration": 457,
        "start_time": "2022-02-08T19:19:07.765Z"
      },
      {
        "duration": 6,
        "start_time": "2022-02-08T19:19:08.224Z"
      },
      {
        "duration": 308,
        "start_time": "2022-02-08T19:19:08.231Z"
      },
      {
        "duration": 308,
        "start_time": "2022-02-08T19:19:08.541Z"
      },
      {
        "duration": 5,
        "start_time": "2022-02-08T19:19:08.851Z"
      },
      {
        "duration": 572,
        "start_time": "2022-02-08T19:19:08.858Z"
      },
      {
        "duration": 14,
        "start_time": "2022-02-08T19:19:09.431Z"
      },
      {
        "duration": 10,
        "start_time": "2022-02-08T19:19:09.446Z"
      },
      {
        "duration": 15,
        "start_time": "2022-02-08T19:19:09.458Z"
      },
      {
        "duration": 3,
        "start_time": "2022-02-08T19:19:09.475Z"
      },
      {
        "duration": 39,
        "start_time": "2022-02-08T19:19:09.480Z"
      },
      {
        "duration": 12,
        "start_time": "2022-02-08T19:19:09.521Z"
      },
      {
        "duration": 7,
        "start_time": "2022-02-08T19:19:09.535Z"
      },
      {
        "duration": 9,
        "start_time": "2022-02-08T19:19:09.544Z"
      },
      {
        "duration": 9,
        "start_time": "2022-02-08T19:19:09.559Z"
      },
      {
        "duration": 4,
        "start_time": "2022-02-08T19:19:09.570Z"
      },
      {
        "duration": 42,
        "start_time": "2022-02-08T19:19:09.575Z"
      },
      {
        "duration": 6,
        "start_time": "2022-02-08T19:19:09.619Z"
      },
      {
        "duration": 391,
        "start_time": "2022-02-08T19:19:09.627Z"
      },
      {
        "duration": 10,
        "start_time": "2022-02-08T19:19:10.020Z"
      },
      {
        "duration": 10,
        "start_time": "2022-02-08T19:19:10.032Z"
      },
      {
        "duration": 16,
        "start_time": "2022-02-08T19:19:10.044Z"
      },
      {
        "duration": 11,
        "start_time": "2022-02-08T19:19:10.062Z"
      },
      {
        "duration": 38,
        "start_time": "2022-02-08T19:19:10.075Z"
      },
      {
        "duration": 9,
        "start_time": "2022-02-08T19:19:10.115Z"
      },
      {
        "duration": 364,
        "start_time": "2022-02-08T19:19:10.126Z"
      },
      {
        "duration": 9,
        "start_time": "2022-02-08T19:19:10.493Z"
      },
      {
        "duration": 8,
        "start_time": "2022-02-08T19:19:10.512Z"
      },
      {
        "duration": 10,
        "start_time": "2022-02-08T19:19:10.521Z"
      },
      {
        "duration": 9,
        "start_time": "2022-02-08T19:19:10.533Z"
      },
      {
        "duration": 12,
        "start_time": "2022-02-08T19:19:10.544Z"
      },
      {
        "duration": 8,
        "start_time": "2022-02-08T19:19:10.558Z"
      },
      {
        "duration": 563,
        "start_time": "2022-02-08T19:19:10.569Z"
      },
      {
        "duration": 5,
        "start_time": "2022-02-08T19:19:11.135Z"
      },
      {
        "duration": 10,
        "start_time": "2022-02-08T19:19:11.142Z"
      },
      {
        "duration": 9,
        "start_time": "2022-02-08T19:19:11.154Z"
      },
      {
        "duration": 4,
        "start_time": "2022-02-08T19:19:11.165Z"
      },
      {
        "duration": 6,
        "start_time": "2022-02-08T19:22:54.454Z"
      },
      {
        "duration": 6,
        "start_time": "2022-02-08T19:22:55.194Z"
      },
      {
        "duration": 4,
        "start_time": "2022-02-08T19:23:16.635Z"
      },
      {
        "duration": 4,
        "start_time": "2022-02-08T19:23:17.582Z"
      },
      {
        "duration": 5,
        "start_time": "2022-02-08T19:23:30.427Z"
      },
      {
        "duration": 4,
        "start_time": "2022-02-08T19:23:31.439Z"
      },
      {
        "duration": 4,
        "start_time": "2022-02-08T19:23:55.326Z"
      },
      {
        "duration": 3,
        "start_time": "2022-02-08T19:23:55.354Z"
      },
      {
        "duration": 5,
        "start_time": "2022-02-08T19:24:49.542Z"
      },
      {
        "duration": 5,
        "start_time": "2022-02-08T19:26:30.758Z"
      },
      {
        "duration": 5,
        "start_time": "2022-02-08T19:26:31.050Z"
      },
      {
        "duration": 4,
        "start_time": "2022-02-08T19:26:31.346Z"
      },
      {
        "duration": 4,
        "start_time": "2022-02-08T19:26:31.618Z"
      },
      {
        "duration": 6,
        "start_time": "2022-02-08T19:50:47.836Z"
      },
      {
        "duration": 5,
        "start_time": "2022-02-08T19:50:48.616Z"
      },
      {
        "duration": 4,
        "start_time": "2022-02-08T19:50:49.169Z"
      },
      {
        "duration": 4,
        "start_time": "2022-02-08T19:50:49.936Z"
      },
      {
        "duration": 3,
        "start_time": "2022-02-08T19:50:53.553Z"
      },
      {
        "duration": 35,
        "start_time": "2022-02-08T19:50:53.559Z"
      },
      {
        "duration": 15,
        "start_time": "2022-02-08T19:50:53.596Z"
      },
      {
        "duration": 102,
        "start_time": "2022-02-08T19:50:53.613Z"
      },
      {
        "duration": 49,
        "start_time": "2022-02-08T19:50:53.717Z"
      },
      {
        "duration": 2,
        "start_time": "2022-02-08T19:50:53.768Z"
      },
      {
        "duration": 42,
        "start_time": "2022-02-08T19:50:53.771Z"
      },
      {
        "duration": 13,
        "start_time": "2022-02-08T19:50:53.814Z"
      },
      {
        "duration": 6,
        "start_time": "2022-02-08T19:50:53.830Z"
      },
      {
        "duration": 7,
        "start_time": "2022-02-08T19:50:53.838Z"
      },
      {
        "duration": 19,
        "start_time": "2022-02-08T19:50:53.847Z"
      },
      {
        "duration": 47,
        "start_time": "2022-02-08T19:50:53.867Z"
      },
      {
        "duration": 4,
        "start_time": "2022-02-08T19:50:53.916Z"
      },
      {
        "duration": 4,
        "start_time": "2022-02-08T19:50:53.921Z"
      },
      {
        "duration": 5,
        "start_time": "2022-02-08T19:50:53.927Z"
      },
      {
        "duration": 18,
        "start_time": "2022-02-08T19:50:53.934Z"
      },
      {
        "duration": 20,
        "start_time": "2022-02-08T19:50:53.954Z"
      },
      {
        "duration": 37,
        "start_time": "2022-02-08T19:50:53.976Z"
      },
      {
        "duration": 7,
        "start_time": "2022-02-08T19:50:54.015Z"
      },
      {
        "duration": 21,
        "start_time": "2022-02-08T19:50:54.023Z"
      },
      {
        "duration": 14,
        "start_time": "2022-02-08T19:50:54.046Z"
      },
      {
        "duration": 15,
        "start_time": "2022-02-08T19:50:54.062Z"
      },
      {
        "duration": 258,
        "start_time": "2022-02-08T19:50:54.079Z"
      },
      {
        "duration": 19,
        "start_time": "2022-02-08T19:50:54.340Z"
      },
      {
        "duration": 8,
        "start_time": "2022-02-08T19:50:54.362Z"
      },
      {
        "duration": 371,
        "start_time": "2022-02-08T19:50:54.372Z"
      },
      {
        "duration": 2,
        "start_time": "2022-02-08T19:50:54.745Z"
      },
      {
        "duration": 9,
        "start_time": "2022-02-08T19:50:54.749Z"
      },
      {
        "duration": 13,
        "start_time": "2022-02-08T19:50:54.760Z"
      },
      {
        "duration": 15,
        "start_time": "2022-02-08T19:50:54.775Z"
      },
      {
        "duration": 336,
        "start_time": "2022-02-08T19:50:54.812Z"
      },
      {
        "duration": 6,
        "start_time": "2022-02-08T19:50:55.149Z"
      },
      {
        "duration": 5,
        "start_time": "2022-02-08T19:50:55.157Z"
      },
      {
        "duration": 15,
        "start_time": "2022-02-08T19:50:55.164Z"
      },
      {
        "duration": 31,
        "start_time": "2022-02-08T19:50:55.181Z"
      },
      {
        "duration": 3,
        "start_time": "2022-02-08T19:50:55.215Z"
      },
      {
        "duration": 9,
        "start_time": "2022-02-08T19:50:55.220Z"
      },
      {
        "duration": 3,
        "start_time": "2022-02-08T19:50:55.230Z"
      },
      {
        "duration": 7,
        "start_time": "2022-02-08T19:50:55.235Z"
      },
      {
        "duration": 13,
        "start_time": "2022-02-08T19:50:55.244Z"
      },
      {
        "duration": 11,
        "start_time": "2022-02-08T19:50:55.259Z"
      },
      {
        "duration": 11,
        "start_time": "2022-02-08T19:50:55.271Z"
      },
      {
        "duration": 14,
        "start_time": "2022-02-08T19:50:55.313Z"
      },
      {
        "duration": 15,
        "start_time": "2022-02-08T19:50:55.328Z"
      },
      {
        "duration": 390,
        "start_time": "2022-02-08T19:50:55.344Z"
      },
      {
        "duration": 413,
        "start_time": "2022-02-08T19:50:55.737Z"
      },
      {
        "duration": 6,
        "start_time": "2022-02-08T19:50:56.152Z"
      },
      {
        "duration": 7,
        "start_time": "2022-02-08T19:50:56.159Z"
      },
      {
        "duration": 20,
        "start_time": "2022-02-08T19:50:56.168Z"
      },
      {
        "duration": 357,
        "start_time": "2022-02-08T19:50:56.189Z"
      },
      {
        "duration": 4,
        "start_time": "2022-02-08T19:50:56.547Z"
      },
      {
        "duration": 299,
        "start_time": "2022-02-08T19:50:56.552Z"
      },
      {
        "duration": 3,
        "start_time": "2022-02-08T19:50:56.853Z"
      },
      {
        "duration": 439,
        "start_time": "2022-02-08T19:50:56.858Z"
      },
      {
        "duration": 5,
        "start_time": "2022-02-08T19:50:57.298Z"
      },
      {
        "duration": 303,
        "start_time": "2022-02-08T19:50:57.312Z"
      },
      {
        "duration": 310,
        "start_time": "2022-02-08T19:50:57.617Z"
      },
      {
        "duration": 4,
        "start_time": "2022-02-08T19:50:57.929Z"
      },
      {
        "duration": 552,
        "start_time": "2022-02-08T19:50:57.935Z"
      },
      {
        "duration": 10,
        "start_time": "2022-02-08T19:50:58.489Z"
      },
      {
        "duration": 15,
        "start_time": "2022-02-08T19:50:58.500Z"
      },
      {
        "duration": 11,
        "start_time": "2022-02-08T19:50:58.517Z"
      },
      {
        "duration": 4,
        "start_time": "2022-02-08T19:50:58.529Z"
      },
      {
        "duration": 12,
        "start_time": "2022-02-08T19:50:58.535Z"
      },
      {
        "duration": 11,
        "start_time": "2022-02-08T19:50:58.548Z"
      },
      {
        "duration": 3,
        "start_time": "2022-02-08T19:50:58.561Z"
      },
      {
        "duration": 8,
        "start_time": "2022-02-08T19:50:58.566Z"
      },
      {
        "duration": 38,
        "start_time": "2022-02-08T19:50:58.576Z"
      },
      {
        "duration": 3,
        "start_time": "2022-02-08T19:50:58.619Z"
      },
      {
        "duration": 10,
        "start_time": "2022-02-08T19:50:58.624Z"
      },
      {
        "duration": 6,
        "start_time": "2022-02-08T19:50:58.635Z"
      },
      {
        "duration": 349,
        "start_time": "2022-02-08T19:50:58.642Z"
      },
      {
        "duration": 9,
        "start_time": "2022-02-08T19:50:59.012Z"
      },
      {
        "duration": 10,
        "start_time": "2022-02-08T19:50:59.023Z"
      },
      {
        "duration": 9,
        "start_time": "2022-02-08T19:50:59.035Z"
      },
      {
        "duration": 14,
        "start_time": "2022-02-08T19:50:59.046Z"
      },
      {
        "duration": 9,
        "start_time": "2022-02-08T19:50:59.061Z"
      },
      {
        "duration": 6,
        "start_time": "2022-02-08T19:50:59.071Z"
      },
      {
        "duration": 341,
        "start_time": "2022-02-08T19:50:59.078Z"
      },
      {
        "duration": 8,
        "start_time": "2022-02-08T19:50:59.421Z"
      },
      {
        "duration": 8,
        "start_time": "2022-02-08T19:50:59.431Z"
      },
      {
        "duration": 8,
        "start_time": "2022-02-08T19:50:59.441Z"
      },
      {
        "duration": 8,
        "start_time": "2022-02-08T19:50:59.450Z"
      },
      {
        "duration": 11,
        "start_time": "2022-02-08T19:50:59.460Z"
      },
      {
        "duration": 6,
        "start_time": "2022-02-08T19:50:59.473Z"
      },
      {
        "duration": 571,
        "start_time": "2022-02-08T19:50:59.480Z"
      },
      {
        "duration": 5,
        "start_time": "2022-02-08T19:51:00.053Z"
      },
      {
        "duration": 14,
        "start_time": "2022-02-08T19:51:00.060Z"
      },
      {
        "duration": 10,
        "start_time": "2022-02-08T19:51:00.077Z"
      },
      {
        "duration": 9,
        "start_time": "2022-02-08T19:51:00.089Z"
      },
      {
        "duration": 9,
        "start_time": "2022-02-08T19:51:00.099Z"
      },
      {
        "duration": 5,
        "start_time": "2022-02-08T19:51:00.110Z"
      },
      {
        "duration": 7,
        "start_time": "2022-02-08T19:51:00.117Z"
      },
      {
        "duration": 9,
        "start_time": "2022-02-08T19:51:00.126Z"
      },
      {
        "duration": 180,
        "start_time": "2022-02-08T19:52:26.768Z"
      },
      {
        "duration": 6,
        "start_time": "2022-02-08T19:52:39.684Z"
      },
      {
        "duration": 6,
        "start_time": "2022-02-08T19:53:53.468Z"
      },
      {
        "duration": 7,
        "start_time": "2022-02-08T19:54:02.767Z"
      },
      {
        "duration": 6,
        "start_time": "2022-02-08T19:54:36.692Z"
      },
      {
        "duration": 4,
        "start_time": "2022-02-08T19:54:38.556Z"
      },
      {
        "duration": 6,
        "start_time": "2022-02-08T19:54:49.960Z"
      },
      {
        "duration": 4,
        "start_time": "2022-02-08T19:54:50.604Z"
      },
      {
        "duration": 5,
        "start_time": "2022-02-08T19:55:01.148Z"
      },
      {
        "duration": 6,
        "start_time": "2022-02-08T19:55:01.508Z"
      },
      {
        "duration": 6,
        "start_time": "2022-02-08T19:55:02.140Z"
      },
      {
        "duration": 4,
        "start_time": "2022-02-08T19:55:53.564Z"
      },
      {
        "duration": 3,
        "start_time": "2022-02-08T19:55:56.188Z"
      },
      {
        "duration": 3,
        "start_time": "2022-02-08T19:56:09.632Z"
      },
      {
        "duration": 38,
        "start_time": "2022-02-08T19:56:09.637Z"
      },
      {
        "duration": 15,
        "start_time": "2022-02-08T19:56:09.677Z"
      },
      {
        "duration": 10,
        "start_time": "2022-02-08T19:56:09.695Z"
      },
      {
        "duration": 56,
        "start_time": "2022-02-08T19:56:09.707Z"
      },
      {
        "duration": 2,
        "start_time": "2022-02-08T19:56:09.765Z"
      },
      {
        "duration": 44,
        "start_time": "2022-02-08T19:56:09.769Z"
      },
      {
        "duration": 14,
        "start_time": "2022-02-08T19:56:09.816Z"
      },
      {
        "duration": 8,
        "start_time": "2022-02-08T19:56:09.832Z"
      },
      {
        "duration": 8,
        "start_time": "2022-02-08T19:56:09.842Z"
      },
      {
        "duration": 20,
        "start_time": "2022-02-08T19:56:09.852Z"
      },
      {
        "duration": 7,
        "start_time": "2022-02-08T19:56:09.913Z"
      },
      {
        "duration": 7,
        "start_time": "2022-02-08T19:56:09.922Z"
      },
      {
        "duration": 4,
        "start_time": "2022-02-08T19:56:09.930Z"
      },
      {
        "duration": 6,
        "start_time": "2022-02-08T19:56:09.936Z"
      },
      {
        "duration": 21,
        "start_time": "2022-02-08T19:56:09.944Z"
      },
      {
        "duration": 26,
        "start_time": "2022-02-08T19:56:10.011Z"
      },
      {
        "duration": 6,
        "start_time": "2022-02-08T19:56:10.038Z"
      },
      {
        "duration": 6,
        "start_time": "2022-02-08T19:56:10.045Z"
      },
      {
        "duration": 23,
        "start_time": "2022-02-08T19:56:10.053Z"
      },
      {
        "duration": 44,
        "start_time": "2022-02-08T19:56:10.078Z"
      },
      {
        "duration": 18,
        "start_time": "2022-02-08T19:56:10.124Z"
      },
      {
        "duration": 258,
        "start_time": "2022-02-08T19:56:10.144Z"
      },
      {
        "duration": 23,
        "start_time": "2022-02-08T19:56:10.406Z"
      },
      {
        "duration": 9,
        "start_time": "2022-02-08T19:56:10.431Z"
      },
      {
        "duration": 378,
        "start_time": "2022-02-08T19:56:10.442Z"
      },
      {
        "duration": 2,
        "start_time": "2022-02-08T19:56:10.821Z"
      },
      {
        "duration": 10,
        "start_time": "2022-02-08T19:56:10.825Z"
      },
      {
        "duration": 13,
        "start_time": "2022-02-08T19:56:10.837Z"
      },
      {
        "duration": 16,
        "start_time": "2022-02-08T19:56:10.852Z"
      },
      {
        "duration": 316,
        "start_time": "2022-02-08T19:56:10.869Z"
      },
      {
        "duration": 6,
        "start_time": "2022-02-08T19:56:11.186Z"
      },
      {
        "duration": 7,
        "start_time": "2022-02-08T19:56:11.193Z"
      },
      {
        "duration": 13,
        "start_time": "2022-02-08T19:56:11.212Z"
      },
      {
        "duration": 9,
        "start_time": "2022-02-08T19:56:11.226Z"
      },
      {
        "duration": 4,
        "start_time": "2022-02-08T19:56:11.237Z"
      },
      {
        "duration": 8,
        "start_time": "2022-02-08T19:56:11.243Z"
      },
      {
        "duration": 3,
        "start_time": "2022-02-08T19:56:11.252Z"
      },
      {
        "duration": 7,
        "start_time": "2022-02-08T19:56:11.257Z"
      },
      {
        "duration": 12,
        "start_time": "2022-02-08T19:56:11.265Z"
      },
      {
        "duration": 44,
        "start_time": "2022-02-08T19:56:11.279Z"
      },
      {
        "duration": 11,
        "start_time": "2022-02-08T19:56:11.325Z"
      },
      {
        "duration": 21,
        "start_time": "2022-02-08T19:56:11.338Z"
      },
      {
        "duration": 16,
        "start_time": "2022-02-08T19:56:11.361Z"
      },
      {
        "duration": 391,
        "start_time": "2022-02-08T19:56:11.379Z"
      },
      {
        "duration": 505,
        "start_time": "2022-02-08T19:56:11.772Z"
      },
      {
        "duration": 6,
        "start_time": "2022-02-08T19:56:12.279Z"
      },
      {
        "duration": 9,
        "start_time": "2022-02-08T19:56:12.286Z"
      },
      {
        "duration": 29,
        "start_time": "2022-02-08T19:56:12.296Z"
      },
      {
        "duration": 345,
        "start_time": "2022-02-08T19:56:12.327Z"
      },
      {
        "duration": 4,
        "start_time": "2022-02-08T19:56:12.673Z"
      },
      {
        "duration": 349,
        "start_time": "2022-02-08T19:56:12.678Z"
      },
      {
        "duration": 4,
        "start_time": "2022-02-08T19:56:13.028Z"
      },
      {
        "duration": 445,
        "start_time": "2022-02-08T19:56:13.034Z"
      },
      {
        "duration": 6,
        "start_time": "2022-02-08T19:56:13.481Z"
      },
      {
        "duration": 357,
        "start_time": "2022-02-08T19:56:13.490Z"
      },
      {
        "duration": 297,
        "start_time": "2022-02-08T19:56:13.849Z"
      },
      {
        "duration": 4,
        "start_time": "2022-02-08T19:56:14.148Z"
      },
      {
        "duration": 486,
        "start_time": "2022-02-08T19:56:14.154Z"
      },
      {
        "duration": 10,
        "start_time": "2022-02-08T19:56:14.642Z"
      },
      {
        "duration": 8,
        "start_time": "2022-02-08T19:56:14.654Z"
      },
      {
        "duration": 11,
        "start_time": "2022-02-08T19:56:14.664Z"
      },
      {
        "duration": 3,
        "start_time": "2022-02-08T19:56:14.676Z"
      },
      {
        "duration": 32,
        "start_time": "2022-02-08T19:56:14.681Z"
      },
      {
        "duration": 10,
        "start_time": "2022-02-08T19:56:14.715Z"
      },
      {
        "duration": 5,
        "start_time": "2022-02-08T19:56:14.726Z"
      },
      {
        "duration": 8,
        "start_time": "2022-02-08T19:56:14.733Z"
      },
      {
        "duration": 10,
        "start_time": "2022-02-08T19:56:14.742Z"
      },
      {
        "duration": 3,
        "start_time": "2022-02-08T19:56:14.757Z"
      },
      {
        "duration": 7,
        "start_time": "2022-02-08T19:56:14.762Z"
      },
      {
        "duration": 41,
        "start_time": "2022-02-08T19:56:14.771Z"
      },
      {
        "duration": 335,
        "start_time": "2022-02-08T19:56:14.814Z"
      },
      {
        "duration": 9,
        "start_time": "2022-02-08T19:56:15.151Z"
      },
      {
        "duration": 9,
        "start_time": "2022-02-08T19:56:15.162Z"
      },
      {
        "duration": 8,
        "start_time": "2022-02-08T19:56:15.173Z"
      },
      {
        "duration": 6,
        "start_time": "2022-02-08T19:56:15.183Z"
      },
      {
        "duration": 29,
        "start_time": "2022-02-08T19:56:15.190Z"
      },
      {
        "duration": 8,
        "start_time": "2022-02-08T19:56:15.221Z"
      },
      {
        "duration": 442,
        "start_time": "2022-02-08T19:56:15.231Z"
      },
      {
        "duration": 10,
        "start_time": "2022-02-08T19:56:15.675Z"
      },
      {
        "duration": 25,
        "start_time": "2022-02-08T19:56:15.687Z"
      },
      {
        "duration": 8,
        "start_time": "2022-02-08T19:56:15.713Z"
      },
      {
        "duration": 8,
        "start_time": "2022-02-08T19:56:15.723Z"
      },
      {
        "duration": 9,
        "start_time": "2022-02-08T19:56:15.732Z"
      },
      {
        "duration": 7,
        "start_time": "2022-02-08T19:56:15.743Z"
      },
      {
        "duration": 513,
        "start_time": "2022-02-08T19:56:15.751Z"
      },
      {
        "duration": 5,
        "start_time": "2022-02-08T19:56:16.266Z"
      },
      {
        "duration": 7,
        "start_time": "2022-02-08T19:56:16.273Z"
      },
      {
        "duration": 9,
        "start_time": "2022-02-08T19:56:16.281Z"
      },
      {
        "duration": 23,
        "start_time": "2022-02-08T19:56:16.293Z"
      },
      {
        "duration": 22,
        "start_time": "2022-02-08T19:56:16.318Z"
      },
      {
        "duration": 9,
        "start_time": "2022-02-08T19:56:16.341Z"
      },
      {
        "duration": 12,
        "start_time": "2022-02-08T19:56:16.351Z"
      },
      {
        "duration": 15,
        "start_time": "2022-02-08T19:56:16.365Z"
      },
      {
        "duration": 5,
        "start_time": "2022-02-08T19:57:10.388Z"
      },
      {
        "duration": 4,
        "start_time": "2022-02-08T19:57:14.364Z"
      },
      {
        "duration": 4,
        "start_time": "2022-02-08T19:57:15.868Z"
      },
      {
        "duration": 4,
        "start_time": "2022-02-08T19:57:44.940Z"
      },
      {
        "duration": 3,
        "start_time": "2022-02-08T19:57:46.400Z"
      },
      {
        "duration": 5,
        "start_time": "2022-02-08T19:58:43.360Z"
      },
      {
        "duration": 6,
        "start_time": "2022-02-08T19:58:43.900Z"
      },
      {
        "duration": 4,
        "start_time": "2022-02-08T19:58:44.408Z"
      },
      {
        "duration": 5,
        "start_time": "2022-02-08T19:58:45.040Z"
      },
      {
        "duration": 4,
        "start_time": "2022-02-08T19:59:24.411Z"
      },
      {
        "duration": 5,
        "start_time": "2022-02-08T19:59:25.120Z"
      },
      {
        "duration": 1183,
        "start_time": "2022-02-08T20:00:20.120Z"
      },
      {
        "duration": 33,
        "start_time": "2022-02-08T20:00:21.305Z"
      },
      {
        "duration": 19,
        "start_time": "2022-02-08T20:00:21.340Z"
      },
      {
        "duration": 11,
        "start_time": "2022-02-08T20:00:21.361Z"
      },
      {
        "duration": 75,
        "start_time": "2022-02-08T20:00:21.374Z"
      },
      {
        "duration": 4,
        "start_time": "2022-02-08T20:00:21.451Z"
      },
      {
        "duration": 19,
        "start_time": "2022-02-08T20:00:21.457Z"
      },
      {
        "duration": 34,
        "start_time": "2022-02-08T20:00:21.479Z"
      },
      {
        "duration": 8,
        "start_time": "2022-02-08T20:00:21.515Z"
      },
      {
        "duration": 8,
        "start_time": "2022-02-08T20:00:21.524Z"
      },
      {
        "duration": 22,
        "start_time": "2022-02-08T20:00:21.533Z"
      },
      {
        "duration": 7,
        "start_time": "2022-02-08T20:00:21.556Z"
      },
      {
        "duration": 4,
        "start_time": "2022-02-08T20:00:21.564Z"
      },
      {
        "duration": 4,
        "start_time": "2022-02-08T20:00:21.570Z"
      },
      {
        "duration": 41,
        "start_time": "2022-02-08T20:00:21.575Z"
      },
      {
        "duration": 18,
        "start_time": "2022-02-08T20:00:21.618Z"
      },
      {
        "duration": 23,
        "start_time": "2022-02-08T20:00:21.638Z"
      },
      {
        "duration": 6,
        "start_time": "2022-02-08T20:00:21.662Z"
      },
      {
        "duration": 6,
        "start_time": "2022-02-08T20:00:21.670Z"
      },
      {
        "duration": 49,
        "start_time": "2022-02-08T20:00:21.678Z"
      },
      {
        "duration": 14,
        "start_time": "2022-02-08T20:00:21.729Z"
      },
      {
        "duration": 18,
        "start_time": "2022-02-08T20:00:21.745Z"
      },
      {
        "duration": 271,
        "start_time": "2022-02-08T20:00:21.767Z"
      },
      {
        "duration": 18,
        "start_time": "2022-02-08T20:00:22.041Z"
      },
      {
        "duration": 9,
        "start_time": "2022-02-08T20:00:22.061Z"
      },
      {
        "duration": 373,
        "start_time": "2022-02-08T20:00:22.071Z"
      },
      {
        "duration": 3,
        "start_time": "2022-02-08T20:00:22.445Z"
      },
      {
        "duration": 10,
        "start_time": "2022-02-08T20:00:22.450Z"
      },
      {
        "duration": 13,
        "start_time": "2022-02-08T20:00:22.462Z"
      },
      {
        "duration": 35,
        "start_time": "2022-02-08T20:00:22.477Z"
      },
      {
        "duration": 296,
        "start_time": "2022-02-08T20:00:22.514Z"
      },
      {
        "duration": 6,
        "start_time": "2022-02-08T20:00:22.812Z"
      },
      {
        "duration": 5,
        "start_time": "2022-02-08T20:00:22.819Z"
      },
      {
        "duration": 15,
        "start_time": "2022-02-08T20:00:22.825Z"
      },
      {
        "duration": 11,
        "start_time": "2022-02-08T20:00:22.842Z"
      },
      {
        "duration": 3,
        "start_time": "2022-02-08T20:00:22.855Z"
      },
      {
        "duration": 11,
        "start_time": "2022-02-08T20:00:22.860Z"
      },
      {
        "duration": 4,
        "start_time": "2022-02-08T20:00:22.873Z"
      },
      {
        "duration": 36,
        "start_time": "2022-02-08T20:00:22.878Z"
      },
      {
        "duration": 15,
        "start_time": "2022-02-08T20:00:22.915Z"
      },
      {
        "duration": 10,
        "start_time": "2022-02-08T20:00:22.932Z"
      },
      {
        "duration": 11,
        "start_time": "2022-02-08T20:00:22.944Z"
      },
      {
        "duration": 20,
        "start_time": "2022-02-08T20:00:22.957Z"
      },
      {
        "duration": 50,
        "start_time": "2022-02-08T20:00:22.979Z"
      },
      {
        "duration": 374,
        "start_time": "2022-02-08T20:00:23.031Z"
      },
      {
        "duration": 406,
        "start_time": "2022-02-08T20:00:23.407Z"
      },
      {
        "duration": 6,
        "start_time": "2022-02-08T20:00:23.815Z"
      },
      {
        "duration": 7,
        "start_time": "2022-02-08T20:00:23.823Z"
      },
      {
        "duration": 21,
        "start_time": "2022-02-08T20:00:23.831Z"
      },
      {
        "duration": 395,
        "start_time": "2022-02-08T20:00:23.854Z"
      },
      {
        "duration": 3,
        "start_time": "2022-02-08T20:00:24.251Z"
      },
      {
        "duration": 304,
        "start_time": "2022-02-08T20:00:24.256Z"
      },
      {
        "duration": 3,
        "start_time": "2022-02-08T20:00:24.562Z"
      },
      {
        "duration": 448,
        "start_time": "2022-02-08T20:00:24.568Z"
      },
      {
        "duration": 5,
        "start_time": "2022-02-08T20:00:25.018Z"
      },
      {
        "duration": 308,
        "start_time": "2022-02-08T20:00:25.025Z"
      },
      {
        "duration": 309,
        "start_time": "2022-02-08T20:00:25.334Z"
      },
      {
        "duration": 4,
        "start_time": "2022-02-08T20:00:25.645Z"
      },
      {
        "duration": 473,
        "start_time": "2022-02-08T20:00:25.650Z"
      },
      {
        "duration": 11,
        "start_time": "2022-02-08T20:00:26.125Z"
      },
      {
        "duration": 14,
        "start_time": "2022-02-08T20:00:26.137Z"
      },
      {
        "duration": 10,
        "start_time": "2022-02-08T20:00:26.153Z"
      },
      {
        "duration": 2,
        "start_time": "2022-02-08T20:00:26.165Z"
      },
      {
        "duration": 9,
        "start_time": "2022-02-08T20:00:26.169Z"
      },
      {
        "duration": 39,
        "start_time": "2022-02-08T20:00:26.179Z"
      },
      {
        "duration": 4,
        "start_time": "2022-02-08T20:00:26.219Z"
      },
      {
        "duration": 8,
        "start_time": "2022-02-08T20:00:26.225Z"
      },
      {
        "duration": 9,
        "start_time": "2022-02-08T20:00:26.238Z"
      },
      {
        "duration": 3,
        "start_time": "2022-02-08T20:00:26.249Z"
      },
      {
        "duration": 8,
        "start_time": "2022-02-08T20:00:26.254Z"
      },
      {
        "duration": 7,
        "start_time": "2022-02-08T20:00:26.263Z"
      },
      {
        "duration": 370,
        "start_time": "2022-02-08T20:00:26.271Z"
      },
      {
        "duration": 9,
        "start_time": "2022-02-08T20:00:26.643Z"
      },
      {
        "duration": 13,
        "start_time": "2022-02-08T20:00:26.653Z"
      },
      {
        "duration": 11,
        "start_time": "2022-02-08T20:00:26.668Z"
      },
      {
        "duration": 9,
        "start_time": "2022-02-08T20:00:26.681Z"
      },
      {
        "duration": 23,
        "start_time": "2022-02-08T20:00:26.692Z"
      },
      {
        "duration": 7,
        "start_time": "2022-02-08T20:00:26.717Z"
      },
      {
        "duration": 361,
        "start_time": "2022-02-08T20:00:26.725Z"
      },
      {
        "duration": 10,
        "start_time": "2022-02-08T20:00:27.088Z"
      },
      {
        "duration": 8,
        "start_time": "2022-02-08T20:00:27.112Z"
      },
      {
        "duration": 10,
        "start_time": "2022-02-08T20:00:27.122Z"
      },
      {
        "duration": 7,
        "start_time": "2022-02-08T20:00:27.134Z"
      },
      {
        "duration": 11,
        "start_time": "2022-02-08T20:00:27.143Z"
      },
      {
        "duration": 8,
        "start_time": "2022-02-08T20:00:27.156Z"
      },
      {
        "duration": 592,
        "start_time": "2022-02-08T20:00:27.166Z"
      },
      {
        "duration": 6,
        "start_time": "2022-02-08T20:00:27.760Z"
      },
      {
        "duration": 7,
        "start_time": "2022-02-08T20:00:27.767Z"
      },
      {
        "duration": 7,
        "start_time": "2022-02-08T20:00:27.775Z"
      },
      {
        "duration": 288,
        "start_time": "2022-02-08T20:00:27.783Z"
      },
      {
        "duration": 1484,
        "start_time": "2022-02-08T20:00:26.590Z"
      },
      {
        "duration": 1479,
        "start_time": "2022-02-08T20:00:26.596Z"
      },
      {
        "duration": 1476,
        "start_time": "2022-02-08T20:00:26.601Z"
      },
      {
        "duration": 1469,
        "start_time": "2022-02-08T20:00:26.609Z"
      },
      {
        "duration": 4,
        "start_time": "2022-02-08T20:03:25.484Z"
      },
      {
        "duration": 3,
        "start_time": "2022-02-08T20:03:27.153Z"
      },
      {
        "duration": 1164,
        "start_time": "2022-02-08T20:03:41.796Z"
      },
      {
        "duration": 32,
        "start_time": "2022-02-08T20:03:42.962Z"
      },
      {
        "duration": 22,
        "start_time": "2022-02-08T20:03:42.997Z"
      },
      {
        "duration": 11,
        "start_time": "2022-02-08T20:03:43.020Z"
      },
      {
        "duration": 51,
        "start_time": "2022-02-08T20:03:43.032Z"
      },
      {
        "duration": 27,
        "start_time": "2022-02-08T20:03:43.085Z"
      },
      {
        "duration": 19,
        "start_time": "2022-02-08T20:03:43.114Z"
      },
      {
        "duration": 12,
        "start_time": "2022-02-08T20:03:43.135Z"
      },
      {
        "duration": 6,
        "start_time": "2022-02-08T20:03:43.150Z"
      },
      {
        "duration": 8,
        "start_time": "2022-02-08T20:03:43.158Z"
      },
      {
        "duration": 53,
        "start_time": "2022-02-08T20:03:43.167Z"
      },
      {
        "duration": 7,
        "start_time": "2022-02-08T20:03:43.221Z"
      },
      {
        "duration": 4,
        "start_time": "2022-02-08T20:03:43.230Z"
      },
      {
        "duration": 5,
        "start_time": "2022-02-08T20:03:43.235Z"
      },
      {
        "duration": 6,
        "start_time": "2022-02-08T20:03:43.241Z"
      },
      {
        "duration": 17,
        "start_time": "2022-02-08T20:03:43.248Z"
      },
      {
        "duration": 53,
        "start_time": "2022-02-08T20:03:43.267Z"
      },
      {
        "duration": 4,
        "start_time": "2022-02-08T20:03:43.322Z"
      },
      {
        "duration": 6,
        "start_time": "2022-02-08T20:03:43.328Z"
      },
      {
        "duration": 21,
        "start_time": "2022-02-08T20:03:43.336Z"
      },
      {
        "duration": 14,
        "start_time": "2022-02-08T20:03:43.359Z"
      },
      {
        "duration": 39,
        "start_time": "2022-02-08T20:03:43.375Z"
      },
      {
        "duration": 240,
        "start_time": "2022-02-08T20:03:43.417Z"
      },
      {
        "duration": 20,
        "start_time": "2022-02-08T20:03:43.660Z"
      },
      {
        "duration": 10,
        "start_time": "2022-02-08T20:03:43.682Z"
      },
      {
        "duration": 363,
        "start_time": "2022-02-08T20:03:43.694Z"
      },
      {
        "duration": 2,
        "start_time": "2022-02-08T20:03:44.059Z"
      },
      {
        "duration": 13,
        "start_time": "2022-02-08T20:03:44.063Z"
      },
      {
        "duration": 12,
        "start_time": "2022-02-08T20:03:44.078Z"
      },
      {
        "duration": 31,
        "start_time": "2022-02-08T20:03:44.092Z"
      },
      {
        "duration": 288,
        "start_time": "2022-02-08T20:03:44.124Z"
      },
      {
        "duration": 5,
        "start_time": "2022-02-08T20:03:44.414Z"
      },
      {
        "duration": 3,
        "start_time": "2022-02-08T20:03:44.420Z"
      },
      {
        "duration": 13,
        "start_time": "2022-02-08T20:03:44.425Z"
      },
      {
        "duration": 9,
        "start_time": "2022-02-08T20:03:44.439Z"
      },
      {
        "duration": 2,
        "start_time": "2022-02-08T20:03:44.450Z"
      },
      {
        "duration": 7,
        "start_time": "2022-02-08T20:03:44.454Z"
      },
      {
        "duration": 3,
        "start_time": "2022-02-08T20:03:44.462Z"
      },
      {
        "duration": 6,
        "start_time": "2022-02-08T20:03:44.467Z"
      },
      {
        "duration": 44,
        "start_time": "2022-02-08T20:03:44.474Z"
      },
      {
        "duration": 11,
        "start_time": "2022-02-08T20:03:44.520Z"
      },
      {
        "duration": 8,
        "start_time": "2022-02-08T20:03:44.533Z"
      },
      {
        "duration": 20,
        "start_time": "2022-02-08T20:03:44.542Z"
      },
      {
        "duration": 13,
        "start_time": "2022-02-08T20:03:44.563Z"
      },
      {
        "duration": 353,
        "start_time": "2022-02-08T20:03:44.578Z"
      },
      {
        "duration": 396,
        "start_time": "2022-02-08T20:03:44.933Z"
      },
      {
        "duration": 6,
        "start_time": "2022-02-08T20:03:45.331Z"
      },
      {
        "duration": 8,
        "start_time": "2022-02-08T20:03:45.338Z"
      },
      {
        "duration": 20,
        "start_time": "2022-02-08T20:03:45.348Z"
      },
      {
        "duration": 380,
        "start_time": "2022-02-08T20:03:45.369Z"
      },
      {
        "duration": 4,
        "start_time": "2022-02-08T20:03:45.750Z"
      },
      {
        "duration": 292,
        "start_time": "2022-02-08T20:03:45.755Z"
      },
      {
        "duration": 4,
        "start_time": "2022-02-08T20:03:46.048Z"
      },
      {
        "duration": 415,
        "start_time": "2022-02-08T20:03:46.053Z"
      },
      {
        "duration": 5,
        "start_time": "2022-02-08T20:03:46.470Z"
      },
      {
        "duration": 319,
        "start_time": "2022-02-08T20:03:46.476Z"
      },
      {
        "duration": 320,
        "start_time": "2022-02-08T20:03:46.796Z"
      },
      {
        "duration": 4,
        "start_time": "2022-02-08T20:03:47.118Z"
      },
      {
        "duration": 480,
        "start_time": "2022-02-08T20:03:47.124Z"
      },
      {
        "duration": 15,
        "start_time": "2022-02-08T20:03:47.606Z"
      },
      {
        "duration": 7,
        "start_time": "2022-02-08T20:03:47.623Z"
      },
      {
        "duration": 10,
        "start_time": "2022-02-08T20:03:47.631Z"
      },
      {
        "duration": 3,
        "start_time": "2022-02-08T20:03:47.642Z"
      },
      {
        "duration": 8,
        "start_time": "2022-02-08T20:03:47.647Z"
      },
      {
        "duration": 10,
        "start_time": "2022-02-08T20:03:47.656Z"
      },
      {
        "duration": 3,
        "start_time": "2022-02-08T20:03:47.667Z"
      },
      {
        "duration": 41,
        "start_time": "2022-02-08T20:03:47.672Z"
      },
      {
        "duration": 9,
        "start_time": "2022-02-08T20:03:47.718Z"
      },
      {
        "duration": 4,
        "start_time": "2022-02-08T20:03:47.729Z"
      },
      {
        "duration": 9,
        "start_time": "2022-02-08T20:03:47.735Z"
      },
      {
        "duration": 5,
        "start_time": "2022-02-08T20:03:47.746Z"
      },
      {
        "duration": 328,
        "start_time": "2022-02-08T20:03:47.752Z"
      },
      {
        "duration": 9,
        "start_time": "2022-02-08T20:03:48.082Z"
      },
      {
        "duration": 20,
        "start_time": "2022-02-08T20:03:48.093Z"
      },
      {
        "duration": 10,
        "start_time": "2022-02-08T20:03:48.114Z"
      },
      {
        "duration": 6,
        "start_time": "2022-02-08T20:03:48.126Z"
      },
      {
        "duration": 11,
        "start_time": "2022-02-08T20:03:48.133Z"
      },
      {
        "duration": 9,
        "start_time": "2022-02-08T20:03:48.145Z"
      },
      {
        "duration": 342,
        "start_time": "2022-02-08T20:03:48.155Z"
      },
      {
        "duration": 15,
        "start_time": "2022-02-08T20:03:48.498Z"
      },
      {
        "duration": 10,
        "start_time": "2022-02-08T20:03:48.514Z"
      },
      {
        "duration": 9,
        "start_time": "2022-02-08T20:03:48.525Z"
      },
      {
        "duration": 6,
        "start_time": "2022-02-08T20:03:48.535Z"
      },
      {
        "duration": 11,
        "start_time": "2022-02-08T20:03:48.542Z"
      },
      {
        "duration": 8,
        "start_time": "2022-02-08T20:03:48.554Z"
      },
      {
        "duration": 577,
        "start_time": "2022-02-08T20:03:48.563Z"
      },
      {
        "duration": 5,
        "start_time": "2022-02-08T20:03:49.142Z"
      },
      {
        "duration": 6,
        "start_time": "2022-02-08T20:03:49.149Z"
      },
      {
        "duration": 281,
        "start_time": "2022-02-08T20:03:49.156Z"
      },
      {
        "duration": 1510,
        "start_time": "2022-02-08T20:03:47.929Z"
      },
      {
        "duration": 1506,
        "start_time": "2022-02-08T20:03:47.934Z"
      },
      {
        "duration": 1501,
        "start_time": "2022-02-08T20:03:47.940Z"
      },
      {
        "duration": 1496,
        "start_time": "2022-02-08T20:03:47.946Z"
      },
      {
        "duration": 1491,
        "start_time": "2022-02-08T20:03:47.951Z"
      },
      {
        "duration": 5,
        "start_time": "2022-02-08T20:04:24.297Z"
      },
      {
        "duration": 3,
        "start_time": "2022-02-08T20:04:25.673Z"
      },
      {
        "duration": 4,
        "start_time": "2022-02-08T20:04:29.900Z"
      },
      {
        "duration": 3,
        "start_time": "2022-02-08T20:04:38.569Z"
      },
      {
        "duration": 36,
        "start_time": "2022-02-08T20:04:38.574Z"
      },
      {
        "duration": 15,
        "start_time": "2022-02-08T20:04:38.612Z"
      },
      {
        "duration": 10,
        "start_time": "2022-02-08T20:04:38.628Z"
      },
      {
        "duration": 74,
        "start_time": "2022-02-08T20:04:38.640Z"
      },
      {
        "duration": 3,
        "start_time": "2022-02-08T20:04:38.716Z"
      },
      {
        "duration": 19,
        "start_time": "2022-02-08T20:04:38.721Z"
      },
      {
        "duration": 13,
        "start_time": "2022-02-08T20:04:38.742Z"
      },
      {
        "duration": 9,
        "start_time": "2022-02-08T20:04:38.756Z"
      },
      {
        "duration": 48,
        "start_time": "2022-02-08T20:04:38.766Z"
      },
      {
        "duration": 20,
        "start_time": "2022-02-08T20:04:38.816Z"
      },
      {
        "duration": 7,
        "start_time": "2022-02-08T20:04:38.838Z"
      },
      {
        "duration": 5,
        "start_time": "2022-02-08T20:04:38.847Z"
      },
      {
        "duration": 5,
        "start_time": "2022-02-08T20:04:38.854Z"
      },
      {
        "duration": 55,
        "start_time": "2022-02-08T20:04:38.860Z"
      },
      {
        "duration": 27,
        "start_time": "2022-02-08T20:04:38.917Z"
      },
      {
        "duration": 22,
        "start_time": "2022-02-08T20:04:38.946Z"
      },
      {
        "duration": 5,
        "start_time": "2022-02-08T20:04:38.970Z"
      },
      {
        "duration": 5,
        "start_time": "2022-02-08T20:04:38.979Z"
      },
      {
        "duration": 46,
        "start_time": "2022-02-08T20:04:38.987Z"
      },
      {
        "duration": 16,
        "start_time": "2022-02-08T20:04:39.034Z"
      },
      {
        "duration": 17,
        "start_time": "2022-02-08T20:04:39.051Z"
      },
      {
        "duration": 271,
        "start_time": "2022-02-08T20:04:39.070Z"
      },
      {
        "duration": 19,
        "start_time": "2022-02-08T20:04:39.343Z"
      },
      {
        "duration": 9,
        "start_time": "2022-02-08T20:04:39.363Z"
      },
      {
        "duration": 360,
        "start_time": "2022-02-08T20:04:39.373Z"
      },
      {
        "duration": 3,
        "start_time": "2022-02-08T20:04:39.735Z"
      },
      {
        "duration": 9,
        "start_time": "2022-02-08T20:04:39.739Z"
      },
      {
        "duration": 12,
        "start_time": "2022-02-08T20:04:39.750Z"
      },
      {
        "duration": 15,
        "start_time": "2022-02-08T20:04:39.763Z"
      },
      {
        "duration": 318,
        "start_time": "2022-02-08T20:04:39.779Z"
      },
      {
        "duration": 17,
        "start_time": "2022-02-08T20:04:40.099Z"
      },
      {
        "duration": 3,
        "start_time": "2022-02-08T20:04:40.119Z"
      },
      {
        "duration": 14,
        "start_time": "2022-02-08T20:04:40.124Z"
      },
      {
        "duration": 9,
        "start_time": "2022-02-08T20:04:40.140Z"
      },
      {
        "duration": 5,
        "start_time": "2022-02-08T20:04:40.151Z"
      },
      {
        "duration": 8,
        "start_time": "2022-02-08T20:04:40.158Z"
      },
      {
        "duration": 5,
        "start_time": "2022-02-08T20:04:40.168Z"
      },
      {
        "duration": 39,
        "start_time": "2022-02-08T20:04:40.175Z"
      },
      {
        "duration": 13,
        "start_time": "2022-02-08T20:04:40.215Z"
      },
      {
        "duration": 10,
        "start_time": "2022-02-08T20:04:40.230Z"
      },
      {
        "duration": 9,
        "start_time": "2022-02-08T20:04:40.242Z"
      },
      {
        "duration": 14,
        "start_time": "2022-02-08T20:04:40.253Z"
      },
      {
        "duration": 46,
        "start_time": "2022-02-08T20:04:40.269Z"
      },
      {
        "duration": 345,
        "start_time": "2022-02-08T20:04:40.317Z"
      },
      {
        "duration": 387,
        "start_time": "2022-02-08T20:04:40.664Z"
      },
      {
        "duration": 7,
        "start_time": "2022-02-08T20:04:41.053Z"
      },
      {
        "duration": 6,
        "start_time": "2022-02-08T20:04:41.062Z"
      },
      {
        "duration": 43,
        "start_time": "2022-02-08T20:04:41.070Z"
      },
      {
        "duration": 346,
        "start_time": "2022-02-08T20:04:41.115Z"
      },
      {
        "duration": 3,
        "start_time": "2022-02-08T20:04:41.463Z"
      },
      {
        "duration": 332,
        "start_time": "2022-02-08T20:04:41.467Z"
      },
      {
        "duration": 11,
        "start_time": "2022-02-08T20:04:41.801Z"
      },
      {
        "duration": 429,
        "start_time": "2022-02-08T20:04:41.814Z"
      },
      {
        "duration": 5,
        "start_time": "2022-02-08T20:04:42.248Z"
      },
      {
        "duration": 281,
        "start_time": "2022-02-08T20:04:42.255Z"
      },
      {
        "duration": 387,
        "start_time": "2022-02-08T20:04:42.537Z"
      },
      {
        "duration": 4,
        "start_time": "2022-02-08T20:04:42.925Z"
      },
      {
        "duration": 468,
        "start_time": "2022-02-08T20:04:42.930Z"
      },
      {
        "duration": 14,
        "start_time": "2022-02-08T20:04:43.399Z"
      },
      {
        "duration": 7,
        "start_time": "2022-02-08T20:04:43.415Z"
      },
      {
        "duration": 9,
        "start_time": "2022-02-08T20:04:43.423Z"
      },
      {
        "duration": 3,
        "start_time": "2022-02-08T20:04:43.434Z"
      },
      {
        "duration": 8,
        "start_time": "2022-02-08T20:04:43.438Z"
      },
      {
        "duration": 9,
        "start_time": "2022-02-08T20:04:43.447Z"
      },
      {
        "duration": 3,
        "start_time": "2022-02-08T20:04:43.458Z"
      },
      {
        "duration": 8,
        "start_time": "2022-02-08T20:04:43.462Z"
      },
      {
        "duration": 47,
        "start_time": "2022-02-08T20:04:43.471Z"
      },
      {
        "duration": 8,
        "start_time": "2022-02-08T20:04:43.520Z"
      },
      {
        "duration": 11,
        "start_time": "2022-02-08T20:04:43.529Z"
      },
      {
        "duration": 7,
        "start_time": "2022-02-08T20:04:43.542Z"
      },
      {
        "duration": 327,
        "start_time": "2022-02-08T20:04:43.551Z"
      },
      {
        "duration": 9,
        "start_time": "2022-02-08T20:04:43.880Z"
      },
      {
        "duration": 7,
        "start_time": "2022-02-08T20:04:43.890Z"
      },
      {
        "duration": 9,
        "start_time": "2022-02-08T20:04:43.912Z"
      },
      {
        "duration": 7,
        "start_time": "2022-02-08T20:04:43.923Z"
      },
      {
        "duration": 10,
        "start_time": "2022-02-08T20:04:43.932Z"
      },
      {
        "duration": 8,
        "start_time": "2022-02-08T20:04:43.943Z"
      },
      {
        "duration": 366,
        "start_time": "2022-02-08T20:04:43.953Z"
      },
      {
        "duration": 10,
        "start_time": "2022-02-08T20:04:44.321Z"
      },
      {
        "duration": 12,
        "start_time": "2022-02-08T20:04:44.333Z"
      },
      {
        "duration": 13,
        "start_time": "2022-02-08T20:04:44.346Z"
      },
      {
        "duration": 14,
        "start_time": "2022-02-08T20:04:44.361Z"
      },
      {
        "duration": 15,
        "start_time": "2022-02-08T20:04:44.377Z"
      },
      {
        "duration": 20,
        "start_time": "2022-02-08T20:04:44.393Z"
      },
      {
        "duration": 482,
        "start_time": "2022-02-08T20:04:44.415Z"
      },
      {
        "duration": 5,
        "start_time": "2022-02-08T20:04:44.898Z"
      },
      {
        "duration": 5,
        "start_time": "2022-02-08T20:04:44.912Z"
      },
      {
        "duration": 7,
        "start_time": "2022-02-08T20:04:44.919Z"
      },
      {
        "duration": 5,
        "start_time": "2022-02-08T20:04:44.928Z"
      },
      {
        "duration": 7,
        "start_time": "2022-02-08T20:04:44.935Z"
      },
      {
        "duration": 6,
        "start_time": "2022-02-08T20:04:44.944Z"
      },
      {
        "duration": 10,
        "start_time": "2022-02-08T20:04:44.951Z"
      },
      {
        "duration": 8,
        "start_time": "2022-02-08T20:04:44.963Z"
      },
      {
        "duration": 4,
        "start_time": "2022-02-14T10:44:26.784Z"
      },
      {
        "duration": 1070,
        "start_time": "2022-02-14T10:44:53.439Z"
      },
      {
        "duration": 35,
        "start_time": "2022-02-14T10:44:54.511Z"
      },
      {
        "duration": 16,
        "start_time": "2022-02-14T10:44:54.548Z"
      },
      {
        "duration": 23,
        "start_time": "2022-02-14T10:44:54.566Z"
      },
      {
        "duration": 79,
        "start_time": "2022-02-14T10:44:54.591Z"
      },
      {
        "duration": 3,
        "start_time": "2022-02-14T10:44:54.672Z"
      },
      {
        "duration": 19,
        "start_time": "2022-02-14T10:44:54.677Z"
      },
      {
        "duration": 12,
        "start_time": "2022-02-14T10:44:54.698Z"
      },
      {
        "duration": 6,
        "start_time": "2022-02-14T10:44:54.712Z"
      },
      {
        "duration": 7,
        "start_time": "2022-02-14T10:44:54.720Z"
      },
      {
        "duration": 51,
        "start_time": "2022-02-14T10:44:54.729Z"
      },
      {
        "duration": 6,
        "start_time": "2022-02-14T10:44:54.782Z"
      },
      {
        "duration": 4,
        "start_time": "2022-02-14T10:44:54.789Z"
      },
      {
        "duration": 4,
        "start_time": "2022-02-14T10:44:54.794Z"
      },
      {
        "duration": 5,
        "start_time": "2022-02-14T10:44:54.799Z"
      },
      {
        "duration": 17,
        "start_time": "2022-02-14T10:44:54.805Z"
      },
      {
        "duration": 55,
        "start_time": "2022-02-14T10:44:54.824Z"
      },
      {
        "duration": 4,
        "start_time": "2022-02-14T10:44:54.880Z"
      },
      {
        "duration": 7,
        "start_time": "2022-02-14T10:44:54.885Z"
      },
      {
        "duration": 22,
        "start_time": "2022-02-14T10:44:54.893Z"
      },
      {
        "duration": 14,
        "start_time": "2022-02-14T10:44:54.916Z"
      },
      {
        "duration": 17,
        "start_time": "2022-02-14T10:44:54.931Z"
      },
      {
        "duration": 234,
        "start_time": "2022-02-14T10:44:54.952Z"
      },
      {
        "duration": 19,
        "start_time": "2022-02-14T10:44:55.189Z"
      },
      {
        "duration": 8,
        "start_time": "2022-02-14T10:44:55.210Z"
      },
      {
        "duration": 317,
        "start_time": "2022-02-14T10:44:55.219Z"
      },
      {
        "duration": 2,
        "start_time": "2022-02-14T10:44:55.538Z"
      },
      {
        "duration": 20,
        "start_time": "2022-02-14T10:44:55.541Z"
      },
      {
        "duration": 25,
        "start_time": "2022-02-14T10:44:55.562Z"
      },
      {
        "duration": 19,
        "start_time": "2022-02-14T10:44:55.589Z"
      },
      {
        "duration": 251,
        "start_time": "2022-02-14T10:44:55.609Z"
      },
      {
        "duration": 5,
        "start_time": "2022-02-14T10:44:55.861Z"
      },
      {
        "duration": 6,
        "start_time": "2022-02-14T10:44:55.867Z"
      },
      {
        "duration": 11,
        "start_time": "2022-02-14T10:44:55.875Z"
      },
      {
        "duration": 7,
        "start_time": "2022-02-14T10:44:55.888Z"
      },
      {
        "duration": 2,
        "start_time": "2022-02-14T10:44:55.897Z"
      },
      {
        "duration": 7,
        "start_time": "2022-02-14T10:44:55.901Z"
      },
      {
        "duration": 5,
        "start_time": "2022-02-14T10:44:55.909Z"
      },
      {
        "duration": 11,
        "start_time": "2022-02-14T10:44:55.915Z"
      },
      {
        "duration": 16,
        "start_time": "2022-02-14T10:44:55.928Z"
      },
      {
        "duration": 29,
        "start_time": "2022-02-14T10:44:55.945Z"
      },
      {
        "duration": 9,
        "start_time": "2022-02-14T10:44:55.975Z"
      },
      {
        "duration": 12,
        "start_time": "2022-02-14T10:44:55.985Z"
      },
      {
        "duration": 17,
        "start_time": "2022-02-14T10:44:55.999Z"
      },
      {
        "duration": 315,
        "start_time": "2022-02-14T10:44:56.019Z"
      },
      {
        "duration": 3,
        "start_time": "2022-02-14T10:44:56.336Z"
      },
      {
        "duration": 348,
        "start_time": "2022-02-14T10:44:56.341Z"
      },
      {
        "duration": 6,
        "start_time": "2022-02-14T10:44:56.690Z"
      },
      {
        "duration": 15,
        "start_time": "2022-02-14T10:44:56.698Z"
      },
      {
        "duration": 22,
        "start_time": "2022-02-14T10:44:56.715Z"
      },
      {
        "duration": 334,
        "start_time": "2022-02-14T10:44:56.738Z"
      },
      {
        "duration": 3,
        "start_time": "2022-02-14T10:44:57.073Z"
      },
      {
        "duration": 277,
        "start_time": "2022-02-14T10:44:57.077Z"
      },
      {
        "duration": 3,
        "start_time": "2022-02-14T10:44:57.355Z"
      },
      {
        "duration": 404,
        "start_time": "2022-02-14T10:44:57.359Z"
      },
      {
        "duration": 8,
        "start_time": "2022-02-14T10:44:57.765Z"
      },
      {
        "duration": 279,
        "start_time": "2022-02-14T10:44:57.774Z"
      },
      {
        "duration": 292,
        "start_time": "2022-02-14T10:44:58.055Z"
      },
      {
        "duration": 3,
        "start_time": "2022-02-14T10:44:58.348Z"
      },
      {
        "duration": 438,
        "start_time": "2022-02-14T10:44:58.353Z"
      },
      {
        "duration": 10,
        "start_time": "2022-02-14T10:44:58.792Z"
      },
      {
        "duration": 22,
        "start_time": "2022-02-14T10:44:58.803Z"
      },
      {
        "duration": 17,
        "start_time": "2022-02-14T10:44:58.826Z"
      },
      {
        "duration": 14,
        "start_time": "2022-02-14T10:44:58.844Z"
      },
      {
        "duration": 18,
        "start_time": "2022-02-14T10:44:58.859Z"
      },
      {
        "duration": 25,
        "start_time": "2022-02-14T10:44:58.879Z"
      },
      {
        "duration": 11,
        "start_time": "2022-02-14T10:44:58.905Z"
      },
      {
        "duration": 24,
        "start_time": "2022-02-14T10:44:58.920Z"
      },
      {
        "duration": 11,
        "start_time": "2022-02-14T10:44:58.946Z"
      },
      {
        "duration": 8,
        "start_time": "2022-02-14T10:44:58.958Z"
      },
      {
        "duration": 15,
        "start_time": "2022-02-14T10:44:58.967Z"
      },
      {
        "duration": 18,
        "start_time": "2022-02-14T10:44:58.983Z"
      },
      {
        "duration": 281,
        "start_time": "2022-02-14T10:44:59.003Z"
      },
      {
        "duration": 9,
        "start_time": "2022-02-14T10:44:59.285Z"
      },
      {
        "duration": 16,
        "start_time": "2022-02-14T10:44:59.295Z"
      },
      {
        "duration": 20,
        "start_time": "2022-02-14T10:44:59.312Z"
      },
      {
        "duration": 27,
        "start_time": "2022-02-14T10:44:59.333Z"
      },
      {
        "duration": 12,
        "start_time": "2022-02-14T10:44:59.362Z"
      },
      {
        "duration": 18,
        "start_time": "2022-02-14T10:44:59.376Z"
      },
      {
        "duration": 291,
        "start_time": "2022-02-14T10:44:59.396Z"
      },
      {
        "duration": 8,
        "start_time": "2022-02-14T10:44:59.689Z"
      },
      {
        "duration": 9,
        "start_time": "2022-02-14T10:44:59.699Z"
      },
      {
        "duration": 8,
        "start_time": "2022-02-14T10:44:59.710Z"
      },
      {
        "duration": 5,
        "start_time": "2022-02-14T10:44:59.720Z"
      },
      {
        "duration": 8,
        "start_time": "2022-02-14T10:44:59.727Z"
      },
      {
        "duration": 6,
        "start_time": "2022-02-14T10:44:59.736Z"
      },
      {
        "duration": 507,
        "start_time": "2022-02-14T10:44:59.744Z"
      },
      {
        "duration": 4,
        "start_time": "2022-02-14T10:45:00.253Z"
      },
      {
        "duration": 19,
        "start_time": "2022-02-14T10:45:00.258Z"
      },
      {
        "duration": 4,
        "start_time": "2022-02-14T10:45:00.279Z"
      },
      {
        "duration": 7,
        "start_time": "2022-02-14T10:45:00.285Z"
      },
      {
        "duration": 5,
        "start_time": "2022-02-14T10:45:00.294Z"
      },
      {
        "duration": 5,
        "start_time": "2022-02-14T10:45:00.300Z"
      },
      {
        "duration": 15,
        "start_time": "2022-02-14T10:45:00.306Z"
      },
      {
        "duration": 421,
        "start_time": "2022-02-14T10:45:00.322Z"
      }
    ],
    "kernelspec": {
      "display_name": "Python 3 (ipykernel)",
      "language": "python",
      "name": "python3"
    },
    "language_info": {
      "codemirror_mode": {
        "name": "ipython",
        "version": 3
      },
      "file_extension": ".py",
      "mimetype": "text/x-python",
      "name": "python",
      "nbconvert_exporter": "python",
      "pygments_lexer": "ipython3",
      "version": "3.9.5"
    },
    "toc": {
      "base_numbering": 1,
      "nav_menu": {
        "height": "257px",
        "width": "362px"
      },
      "number_sections": true,
      "sideBar": true,
      "skip_h1_title": true,
      "title_cell": "Table of Contents",
      "title_sidebar": "Contents",
      "toc_cell": false,
      "toc_position": {},
      "toc_section_display": true,
      "toc_window_display": false
    },
    "colab": {
      "name": "3ff2e8e6-f99a-49ec-a108-f16b9a81cd95.ipynb",
      "provenance": []
    }
  },
  "nbformat": 4,
  "nbformat_minor": 0
}